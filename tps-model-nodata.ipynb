{
 "cells": [
  {
   "cell_type": "code",
   "execution_count": 50,
   "id": "4c605334-5264-47ed-a204-38523ace182a",
   "metadata": {},
   "outputs": [],
   "source": [
    "# Familiar imports\n",
    "import numpy as np\n",
    "import pandas as pd\n",
    "\n",
    "# For ordinal encoding categorical variables, splitting data\n",
    "from sklearn.preprocessing import OrdinalEncoder\n",
    "from sklearn.model_selection import train_test_split, KFold, StratifiedKFold\n",
    "\n",
    "# For training random forest model\n",
    "from sklearn.ensemble import RandomForestRegressor\n",
    "from sklearn.metrics import mean_squared_error\n",
    "from sklearn.feature_selection import mutual_info_regression\n",
    "from sklearn.cluster import KMeans\n",
    "from sklearn.compose import ColumnTransformer\n",
    "from sklearn.pipeline import Pipeline\n",
    "from sklearn.impute import SimpleImputer\n",
    "from sklearn.preprocessing import OneHotEncoder, LabelEncoder\n",
    "from sklearn.ensemble import RandomForestRegressor\n",
    "from sklearn.metrics import mean_absolute_error, roc_auc_score\n",
    "from sklearn.experimental import enable_iterative_imputer\n",
    "from sklearn.impute import IterativeImputer\n",
    "from xgboost import XGBRegressor\n",
    "from lightgbm import LGBMRegressor\n",
    "import seaborn as sns\n",
    "from tqdm import tqdm\n",
    "from sklearn.model_selection import cross_val_score, GridSearchCV\n",
    "from sklearn.decomposition import PCA\n",
    "import matplotlib.pyplot as plt\n",
    "from catboost import CatBoostRegressor\n",
    "from sklearn.linear_model import Ridge\n"
   ]
  },
  {
   "cell_type": "code",
   "execution_count": 51,
   "id": "b01470e4-069e-40d1-84bd-15aba1838dbd",
   "metadata": {},
   "outputs": [],
   "source": [
    "# Load the training data\n",
    "rawtrain = pd.read_csv(\"../input/tabular-playground-series-oct-2021/train.csv\", index_col=0)\n",
    "rawtest = pd.read_csv(\"../input/tabular-playground-series-oct-2021/test.csv\", index_col=0)"
   ]
  },
  {
   "cell_type": "code",
   "execution_count": 52,
   "id": "fa3a0697-bf43-4dd4-917b-526f16834e97",
   "metadata": {},
   "outputs": [
    {
     "name": "stdout",
     "output_type": "stream",
     "text": [
      "<class 'pandas.core.frame.DataFrame'>\n",
      "Int64Index: 1000000 entries, 0 to 999999\n",
      "Columns: 286 entries, f0 to target\n",
      "dtypes: float64(240), int64(46)\n",
      "memory usage: 2.1 GB\n"
     ]
    }
   ],
   "source": [
    "rawtrain.info()"
   ]
  },
  {
   "cell_type": "code",
   "execution_count": 53,
   "id": "9650ee7a-06ad-4118-a7c5-1e92a2191561",
   "metadata": {},
   "outputs": [
    {
     "name": "stdout",
     "output_type": "stream",
     "text": [
      "<class 'pandas.core.frame.DataFrame'>\n",
      "Int64Index: 500000 entries, 1000000 to 1499999\n",
      "Columns: 285 entries, f0 to f284\n",
      "dtypes: float64(240), int64(45)\n",
      "memory usage: 1.1 GB\n"
     ]
    }
   ],
   "source": [
    "rawtest.info()"
   ]
  },
  {
   "cell_type": "code",
   "execution_count": 54,
   "id": "ef085024-8a4e-4384-92c3-94012b8dbfed",
   "metadata": {},
   "outputs": [],
   "source": [
    "train = rawtrain.copy()\n",
    "y = train['target']\n",
    "features = train.drop(['target'], axis=1)"
   ]
  },
  {
   "cell_type": "code",
   "execution_count": 55,
   "id": "4b688a92-cb3f-4dbb-b020-a4521b5b9283",
   "metadata": {},
   "outputs": [
    {
     "data": {
      "text/plain": [
       "(1000000, 285)"
      ]
     },
     "execution_count": 55,
     "metadata": {},
     "output_type": "execute_result"
    }
   ],
   "source": [
    "X = features.copy()\n",
    "X.shape"
   ]
  },
  {
   "cell_type": "code",
   "execution_count": 56,
   "id": "ae6e6a75-1ccc-4390-8da2-0982867ba518",
   "metadata": {},
   "outputs": [
    {
     "data": {
      "text/plain": [
       "(500000, 285)"
      ]
     },
     "execution_count": 56,
     "metadata": {},
     "output_type": "execute_result"
    }
   ],
   "source": [
    "test = rawtest.copy()\n",
    "test.shape"
   ]
  },
  {
   "cell_type": "code",
   "execution_count": 57,
   "id": "53d54f8c-7665-469a-9541-524e959c83e7",
   "metadata": {},
   "outputs": [],
   "source": [
    "lgbm_parameters = {\n",
    "    \"device\":'gpu', \"metric\":\"auc\",\n",
    "  'learning_rate': 0.08697465911179744, 'max_depth': 2, 'min_data_in_leaf': 592, 'n_estimators': 4565, 'num_leaves': 85, 'reg_alpha': 4.2395421854514055, 'reg_lambda': 3.4669998025411233\n",
    "}\n",
    "xgboost_parameters = { 'n_jobs':4, \n",
    "                       'tree_method': 'gpu_hist', \n",
    "                        'gpu_id': 0,\n",
    "'learning_rate': 0.03237498960526522, 'n_estimators': 10837, 'gamma': 0.7820801389298118, 'max_depth': 2, 'min_child_weight': 9.149611138786955, 'subsample': 0.7488960655884316, 'lambda': 4.190627000051498, 'alpha': 6.241101997471009\n",
    "                     }\n",
    "catboost_parameters={\n",
    "    'task_type':\"GPU\", \"loss_function\":\"RMSE\",\n",
    "    'learning_rate': 0.03702505794236759, 'iterations': 1805, 'depth': 5, 'l2_leaf_reg': 22.93190966999958, 'bagging_temperature': 2.1402332674620075}"
   ]
  },
  {
   "cell_type": "code",
   "execution_count": 58,
   "id": "4a9dbf1a-c08c-482d-a363-258ac1eb60e0",
   "metadata": {},
   "outputs": [],
   "source": [
    "def fit_catboost(model, Xt, yt, Xv, yv):\n",
    "    model.fit(Xt, yt, early_stopping_rounds = 400, eval_set=[(Xv, yv)], verbose = 0)\n",
    "def fit_lgbm(model, Xt, yt, Xv, yv):\n",
    "    model.fit(Xt, yt, early_stopping_rounds = 399, eval_set=[(Xv, yv)], verbose = -1)  \n",
    "def fit_xgboost(model, Xt, yt, Xv, yv):\n",
    "    model.fit(Xt, yt, early_stopping_rounds = 400, eval_set=[(Xv, yv)], verbose=False)\n",
    "model_types = [\n",
    "    {\"name\": \"lgbm\", \"create\": lambda: LGBMRegressor(**lgbm_parameters), \"fit\": fit_lgbm},\n",
    "    #{'name': \"lgbm_0\", 'create': lambda: LGBMRegressor(**lgbm_parameters_0), \"fit\": fit_lgbm},\n",
    "    #{'name': \"lgbm_1\", \"create\": lambda: LGBMRegressor(**lgbm_parameters_1), 'fit': fit_lgbm},\n",
    "    #{\"name\": \"xgboost_2\", \"create\": lambda: XGBRegressor(**xgboost_parameters_2), \"fit\": fit_xgboost},\n",
    "    #{\"name\": \"xgboost_1\", \"create\": lambda: XGBRegressor(**xgboost_parameters_1), \"fit\": fit_xgboost},\n",
    "    {'name': 'xgboost', 'create': lambda: XGBRegressor(**xgboost_parameters, eval_metric=\"auc\"), 'fit': fit_xgboost},\n",
    "    {\"name\": \"catboost\", \"create\": lambda: CatBoostRegressor(**catboost_parameters), \"fit\": fit_catboost},\n",
    "    #{'name': 'catboost_0', \"create\": lambda: CatBoostRegressor(**catboost_parameters_0), \"fit\": fit_catboost},\n",
    "]"
   ]
  },
  {
   "cell_type": "code",
   "execution_count": 59,
   "id": "a6445fda-0064-4431-88a9-ac8a9b8f7558",
   "metadata": {},
   "outputs": [
    {
     "data": {
      "text/plain": [
       "[{'name': 'lgbm',\n",
       "  'create': <function __main__.<lambda>()>,\n",
       "  'fit': <function __main__.fit_lgbm(model, Xt, yt, Xv, yv)>},\n",
       " {'name': 'xgboost',\n",
       "  'create': <function __main__.<lambda>()>,\n",
       "  'fit': <function __main__.fit_xgboost(model, Xt, yt, Xv, yv)>},\n",
       " {'name': 'catboost',\n",
       "  'create': <function __main__.<lambda>()>,\n",
       "  'fit': <function __main__.fit_catboost(model, Xt, yt, Xv, yv)>}]"
      ]
     },
     "execution_count": 59,
     "metadata": {},
     "output_type": "execute_result"
    }
   ],
   "source": [
    "model_types"
   ]
  },
  {
   "cell_type": "code",
   "execution_count": 60,
   "id": "9ba478d6-50a5-4c8d-b482-9970374890b9",
   "metadata": {},
   "outputs": [
    {
     "data": {
      "text/plain": [
       "pandas.core.frame.DataFrame"
      ]
     },
     "execution_count": 60,
     "metadata": {},
     "output_type": "execute_result"
    }
   ],
   "source": [
    "type(X)"
   ]
  },
  {
   "cell_type": "code",
   "execution_count": 62,
   "id": "e6fb155e-3125-4392-aa57-a3a0258fb1ec",
   "metadata": {},
   "outputs": [
    {
     "name": "stdout",
     "output_type": "stream",
     "text": [
      "starting lgbm\n"
     ]
    },
    {
     "name": "stderr",
     "output_type": "stream",
     "text": [
      "0it [00:00, ?it/s]"
     ]
    },
    {
     "name": "stdout",
     "output_type": "stream",
     "text": [
      "[LightGBM] [Warning] min_data_in_leaf is set=592, min_child_samples=20 will be ignored. Current value: min_data_in_leaf=592\n",
      "Training until validation scores don't improve for 399 rounds\n",
      "Early stopping, best iteration is:\n",
      "[3607]\tvalid_0's auc: 0.856422\n"
     ]
    },
    {
     "name": "stderr",
     "output_type": "stream",
     "text": [
      "1it [01:08, 68.69s/it]"
     ]
    },
    {
     "name": "stdout",
     "output_type": "stream",
     "text": [
      "valid mse 0.8564219760074373\n",
      "[LightGBM] [Warning] min_data_in_leaf is set=592, min_child_samples=20 will be ignored. Current value: min_data_in_leaf=592\n",
      "Training until validation scores don't improve for 399 rounds\n",
      "Early stopping, best iteration is:\n",
      "[3689]\tvalid_0's auc: 0.856561\n"
     ]
    },
    {
     "name": "stderr",
     "output_type": "stream",
     "text": [
      "2it [02:18, 69.42s/it]"
     ]
    },
    {
     "name": "stdout",
     "output_type": "stream",
     "text": [
      "valid mse 0.8565612487384789\n",
      "[LightGBM] [Warning] min_data_in_leaf is set=592, min_child_samples=20 will be ignored. Current value: min_data_in_leaf=592\n",
      "Training until validation scores don't improve for 399 rounds\n",
      "Early stopping, best iteration is:\n",
      "[3697]\tvalid_0's auc: 0.856293\n"
     ]
    },
    {
     "name": "stderr",
     "output_type": "stream",
     "text": [
      "3it [03:29, 69.97s/it]"
     ]
    },
    {
     "name": "stdout",
     "output_type": "stream",
     "text": [
      "valid mse 0.8562930234861057\n",
      "[LightGBM] [Warning] min_data_in_leaf is set=592, min_child_samples=20 will be ignored. Current value: min_data_in_leaf=592\n",
      "Training until validation scores don't improve for 399 rounds\n",
      "Early stopping, best iteration is:\n",
      "[3569]\tvalid_0's auc: 0.855947\n"
     ]
    },
    {
     "name": "stderr",
     "output_type": "stream",
     "text": [
      "4it [04:37, 69.28s/it]"
     ]
    },
    {
     "name": "stdout",
     "output_type": "stream",
     "text": [
      "valid mse 0.855946922060459\n",
      "[LightGBM] [Warning] min_data_in_leaf is set=592, min_child_samples=20 will be ignored. Current value: min_data_in_leaf=592\n",
      "Training until validation scores don't improve for 399 rounds\n",
      "Early stopping, best iteration is:\n",
      "[3614]\tvalid_0's auc: 0.856498\n"
     ]
    },
    {
     "name": "stderr",
     "output_type": "stream",
     "text": [
      "5it [05:46, 69.35s/it]\n"
     ]
    },
    {
     "name": "stdout",
     "output_type": "stream",
     "text": [
      "valid mse 0.856497690378677\n",
      "lgbm 0 [0.8564219760074373, 0.8565612487384789, 0.8562930234861057, 0.855946922060459, 0.856497690378677]  max  0.8565612487384789  min  0.855946922060459  avg  0.8563441721342315\n",
      "starting xgboost\n"
     ]
    },
    {
     "name": "stderr",
     "output_type": "stream",
     "text": [
      "1it [04:09, 249.29s/it]"
     ]
    },
    {
     "name": "stdout",
     "output_type": "stream",
     "text": [
      "valid mse 0.8553297071297215\n"
     ]
    },
    {
     "name": "stderr",
     "output_type": "stream",
     "text": [
      "2it [08:16, 248.25s/it]"
     ]
    },
    {
     "name": "stdout",
     "output_type": "stream",
     "text": [
      "valid mse 0.8558245410453107\n"
     ]
    },
    {
     "name": "stderr",
     "output_type": "stream",
     "text": [
      "3it [12:34, 252.62s/it]"
     ]
    },
    {
     "name": "stdout",
     "output_type": "stream",
     "text": [
      "valid mse 0.858173687955623\n"
     ]
    },
    {
     "name": "stderr",
     "output_type": "stream",
     "text": [
      "4it [16:52, 254.89s/it]"
     ]
    },
    {
     "name": "stdout",
     "output_type": "stream",
     "text": [
      "valid mse 0.8566814878016119\n"
     ]
    },
    {
     "name": "stderr",
     "output_type": "stream",
     "text": [
      "5it [20:40, 248.09s/it]\n"
     ]
    },
    {
     "name": "stdout",
     "output_type": "stream",
     "text": [
      "valid mse 0.8564715033540374\n",
      "xgboost 1 [0.8553297071297215, 0.8558245410453107, 0.858173687955623, 0.8566814878016119, 0.8564715033540374]  max  0.858173687955623  min  0.8553297071297215  avg  0.8564961854572608\n",
      "starting catboost\n"
     ]
    },
    {
     "name": "stderr",
     "output_type": "stream",
     "text": [
      "1it [00:16, 16.45s/it]"
     ]
    },
    {
     "name": "stdout",
     "output_type": "stream",
     "text": [
      "valid mse 0.8564693414520034\n"
     ]
    },
    {
     "name": "stderr",
     "output_type": "stream",
     "text": [
      "2it [00:32, 16.30s/it]"
     ]
    },
    {
     "name": "stdout",
     "output_type": "stream",
     "text": [
      "valid mse 0.8530762537594472\n"
     ]
    },
    {
     "name": "stderr",
     "output_type": "stream",
     "text": [
      "3it [00:48, 16.22s/it]"
     ]
    },
    {
     "name": "stdout",
     "output_type": "stream",
     "text": [
      "valid mse 0.8564425873268304\n"
     ]
    },
    {
     "name": "stderr",
     "output_type": "stream",
     "text": [
      "4it [01:04, 16.19s/it]"
     ]
    },
    {
     "name": "stdout",
     "output_type": "stream",
     "text": [
      "valid mse 0.8558494386687369\n"
     ]
    },
    {
     "name": "stderr",
     "output_type": "stream",
     "text": [
      "5it [01:21, 16.20s/it]"
     ]
    },
    {
     "name": "stdout",
     "output_type": "stream",
     "text": [
      "valid mse 0.8557494644746712\n",
      "catboost 2 [0.8564693414520034, 0.8530762537594472, 0.8564425873268304, 0.8558494386687369, 0.8557494644746712]  max  0.8564693414520034  min  0.8530762537594472  avg  0.855517417136338\n"
     ]
    },
    {
     "name": "stderr",
     "output_type": "stream",
     "text": [
      "\n"
     ]
    }
   ],
   "source": [
    "spl = 5\n",
    "out_of_fold_predictions = np.zeros((X.shape[0], len(model_types)))\n",
    "meta_features = np.zeros((test.shape[0], len(model_types)))\n",
    "y_pred = []\n",
    "for i, model_type in enumerate(model_types):\n",
    "    kf = StratifiedKFold(n_splits=spl, shuffle=True)\n",
    "    mse = []\n",
    "    print(\"starting \" + model_type[\"name\"])\n",
    "    meta_features_folds = np.zeros((test.shape[0], spl))\n",
    "    i_fold = 0\n",
    "    for train_idx, valid_idx in tqdm(kf.split(X,y.round())):\n",
    "        Xt = X.iloc[train_idx, :]\n",
    "        yt = y.iloc[train_idx]\n",
    "        Xv = X.iloc[valid_idx, :]\n",
    "        yv = y.iloc[valid_idx]\n",
    "        model = model_type['create']()\n",
    "        model_type['fit'](model, Xt, yt, Xv, yv)\n",
    "        y_pred = model.predict(Xv)\n",
    "        out_of_fold_predictions[valid_idx, i] = y_pred\n",
    "        valid_mse = roc_auc_score(y_true = yv, y_score = y_pred)\n",
    "        mse.append(valid_mse)\n",
    "        meta_features_folds[:, i_fold] = model.predict(test)\n",
    "        print(\"valid mse\", valid_mse)\n",
    "        i_fold += 1\n",
    "    meta_features[:, i] = meta_features_folds.mean(axis=1)\n",
    "    print(model_type[\"name\"], i, mse, \" max \", max(mse), \" min \", min(mse),\" avg \", sum(mse)/len(mse))"
   ]
  },
  {
   "cell_type": "code",
   "execution_count": 63,
   "id": "7c7ff54b-5387-4324-b37b-81e981ce557b",
   "metadata": {},
   "outputs": [],
   "source": [
    "out_of_fold_predictions_file = \"./outoffoldpredictions.np\"\n",
    "meta_features_file = \"./meta_features.np\""
   ]
  },
  {
   "cell_type": "code",
   "execution_count": 64,
   "id": "cadd6fd4-22fb-4439-b6e3-c00fb5dfe6aa",
   "metadata": {},
   "outputs": [],
   "source": [
    "np.save(out_of_fold_predictions_file, out_of_fold_predictions)\n",
    "np.save(meta_features_file, meta_features)"
   ]
  },
  {
   "cell_type": "code",
   "execution_count": 65,
   "id": "0d5c254c-6526-46d6-9198-eadb00794d54",
   "metadata": {},
   "outputs": [],
   "source": [
    "meta_model = Ridge()"
   ]
  },
  {
   "cell_type": "code",
   "execution_count": 66,
   "id": "d01db3ef-09d7-4d4d-8b78-fac58e853bae",
   "metadata": {},
   "outputs": [
    {
     "name": "stderr",
     "output_type": "stream",
     "text": [
      "2it [00:00,  5.47it/s]"
     ]
    },
    {
     "name": "stdout",
     "output_type": "stream",
     "text": [
      "valid mse  0.8565435610218366\n",
      "valid mse  0.8563093866015019\n",
      "valid mse  "
     ]
    },
    {
     "name": "stderr",
     "output_type": "stream",
     "text": [
      "4it [00:00,  7.86it/s]"
     ]
    },
    {
     "name": "stdout",
     "output_type": "stream",
     "text": [
      "0.8554663531082917\n",
      "valid mse  0.8569798316323236\n",
      "valid mse  0.8574441448691958\n"
     ]
    },
    {
     "name": "stderr",
     "output_type": "stream",
     "text": [
      "5it [00:00,  7.15it/s]"
     ]
    },
    {
     "name": "stdout",
     "output_type": "stream",
     "text": [
      "valid mse [0.8565435610218366, 0.8563093866015019, 0.8554663531082917, 0.8569798316323236, 0.8574441448691958]  min  0.8554663531082917  max  0.8574441448691958  avg  0.8565486554466298\n"
     ]
    },
    {
     "name": "stderr",
     "output_type": "stream",
     "text": [
      "\n"
     ]
    }
   ],
   "source": [
    "# Cross validate ridge\n",
    "spl = 5\n",
    "kf = StratifiedKFold(n_splits=spl, shuffle=True)\n",
    "test_pred_total = np.zeros(len(rawtest))\n",
    "mse = []\n",
    "for train_idx, valid_idx in tqdm(kf.split(out_of_fold_predictions,y.round())):\n",
    "        model = meta_model\n",
    "        Xt = out_of_fold_predictions[train_idx, :]\n",
    "        yt = y.iloc[train_idx]\n",
    "        Xv = out_of_fold_predictions[valid_idx, :]\n",
    "        yv = y.iloc[valid_idx]\n",
    "        model.fit(Xt, yt)\n",
    "        y_pred = model.predict(Xv)\n",
    "        valid_mse = roc_auc_score(y_true = y.iloc[valid_idx], y_score = y_pred)\n",
    "        print(\"valid mse \", valid_mse)\n",
    "        mse.append(valid_mse)\n",
    "        test_pred = model.predict(meta_features) / spl\n",
    "        test_pred_total += test_pred\n",
    "print(\"valid mse\", mse, \" min \", min(mse), \" max \", max(mse), \" avg \", sum(mse)/len(mse))"
   ]
  },
  {
   "cell_type": "code",
   "execution_count": 67,
   "id": "090d78a8-1d76-4a9e-8f5a-163dac6b6be6",
   "metadata": {},
   "outputs": [],
   "source": [
    "# Save the predictions to a CSV file\n",
    "output = pd.DataFrame({'Id': rawtest.index,\n",
    "                       'target': test_pred_total})\n",
    "output.to_csv('submission.csv', index=False)"
   ]
  },
  {
   "cell_type": "code",
   "execution_count": null,
   "id": "de89bba3-ad9e-4cb1-b5e7-08254f12e56f",
   "metadata": {},
   "outputs": [],
   "source": []
  }
 ],
 "metadata": {
  "kernelspec": {
   "display_name": "Python 3 (ipykernel)",
   "language": "python",
   "name": "python3"
  },
  "language_info": {
   "codemirror_mode": {
    "name": "ipython",
    "version": 3
   },
   "file_extension": ".py",
   "mimetype": "text/x-python",
   "name": "python",
   "nbconvert_exporter": "python",
   "pygments_lexer": "ipython3",
   "version": "3.9.5"
  }
 },
 "nbformat": 4,
 "nbformat_minor": 5
}
