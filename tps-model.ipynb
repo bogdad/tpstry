{
 "cells": [
  {
   "cell_type": "code",
   "execution_count": 12,
   "id": "4c605334-5264-47ed-a204-38523ace182a",
   "metadata": {},
   "outputs": [],
   "source": [
    "# Familiar imports\n",
    "import numpy as np\n",
    "import pandas as pd\n",
    "\n",
    "# For ordinal encoding categorical variables, splitting data\n",
    "from sklearn.preprocessing import OrdinalEncoder\n",
    "from sklearn.model_selection import train_test_split, KFold, StratifiedKFold\n",
    "\n",
    "# For training random forest model\n",
    "from sklearn.ensemble import RandomForestRegressor\n",
    "from sklearn.metrics import mean_squared_error\n",
    "from sklearn.feature_selection import mutual_info_regression\n",
    "from sklearn.cluster import KMeans\n",
    "from sklearn.compose import ColumnTransformer\n",
    "from sklearn.pipeline import Pipeline\n",
    "from sklearn.impute import SimpleImputer\n",
    "from sklearn.preprocessing import OneHotEncoder, LabelEncoder\n",
    "from sklearn.ensemble import RandomForestRegressor\n",
    "from sklearn.metrics import mean_absolute_error, roc_auc_score\n",
    "from sklearn.experimental import enable_iterative_imputer\n",
    "from sklearn.impute import IterativeImputer\n",
    "from xgboost import XGBRegressor\n",
    "from lightgbm import LGBMRegressor\n",
    "import seaborn as sns\n",
    "from tqdm import tqdm\n",
    "from sklearn.model_selection import cross_val_score, GridSearchCV\n",
    "from sklearn.decomposition import PCA\n",
    "import matplotlib.pyplot as plt\n",
    "from catboost import CatBoostRegressor\n",
    "from sklearn.linear_model import Ridge\n"
   ]
  },
  {
   "cell_type": "code",
   "execution_count": 13,
   "id": "b01470e4-069e-40d1-84bd-15aba1838dbd",
   "metadata": {},
   "outputs": [],
   "source": [
    "# Load the training data\n",
    "rawtrain = pd.read_csv(\"../input/tabular-playground-series-oct-2021/train.csv\", index_col=0)\n",
    "rawtest = pd.read_csv(\"../input/tabular-playground-series-oct-2021/test.csv\", index_col=0)"
   ]
  },
  {
   "cell_type": "code",
   "execution_count": 14,
   "id": "fa3a0697-bf43-4dd4-917b-526f16834e97",
   "metadata": {},
   "outputs": [
    {
     "name": "stdout",
     "output_type": "stream",
     "text": [
      "<class 'pandas.core.frame.DataFrame'>\n",
      "Int64Index: 1000000 entries, 0 to 999999\n",
      "Columns: 286 entries, f0 to target\n",
      "dtypes: float64(240), int64(46)\n",
      "memory usage: 2.1 GB\n"
     ]
    }
   ],
   "source": [
    "rawtrain.info()"
   ]
  },
  {
   "cell_type": "code",
   "execution_count": 15,
   "id": "9650ee7a-06ad-4118-a7c5-1e92a2191561",
   "metadata": {},
   "outputs": [
    {
     "name": "stdout",
     "output_type": "stream",
     "text": [
      "<class 'pandas.core.frame.DataFrame'>\n",
      "Int64Index: 500000 entries, 1000000 to 1499999\n",
      "Columns: 285 entries, f0 to f284\n",
      "dtypes: float64(240), int64(45)\n",
      "memory usage: 1.1 GB\n"
     ]
    }
   ],
   "source": [
    "rawtest.info()"
   ]
  },
  {
   "cell_type": "code",
   "execution_count": 16,
   "id": "ef085024-8a4e-4384-92c3-94012b8dbfed",
   "metadata": {},
   "outputs": [],
   "source": [
    "train = rawtrain.copy()\n",
    "y = train['target']\n",
    "features = train.drop(['target'], axis=1)"
   ]
  },
  {
   "cell_type": "code",
   "execution_count": 17,
   "id": "4b688a92-cb3f-4dbb-b020-a4521b5b9283",
   "metadata": {},
   "outputs": [
    {
     "data": {
      "text/plain": [
       "(1000000, 285)"
      ]
     },
     "execution_count": 17,
     "metadata": {},
     "output_type": "execute_result"
    }
   ],
   "source": [
    "X = features.copy()\n",
    "X.shape"
   ]
  },
  {
   "cell_type": "code",
   "execution_count": 18,
   "id": "ae6e6a75-1ccc-4390-8da2-0982867ba518",
   "metadata": {},
   "outputs": [
    {
     "data": {
      "text/plain": [
       "(500000, 285)"
      ]
     },
     "execution_count": 18,
     "metadata": {},
     "output_type": "execute_result"
    }
   ],
   "source": [
    "test = rawtest.copy()\n",
    "test.shape"
   ]
  },
  {
   "cell_type": "code",
   "execution_count": 19,
   "id": "53d54f8c-7665-469a-9541-524e959c83e7",
   "metadata": {},
   "outputs": [],
   "source": [
    "lgbm_parameters = {\n",
    "    \"device\":'gpu', \"metric\":\"auc\",\n",
    "  'learning_rate': 0.08697465911179744, 'max_depth': 2, 'min_data_in_leaf': 592, 'n_estimators': 4565, 'num_leaves': 85, 'reg_alpha': 4.2395421854514055, 'reg_lambda': 3.4669998025411233\n",
    "}\n",
    "xgboost_parameters = { 'n_jobs':4, \n",
    "                       'tree_method': 'gpu_hist', \n",
    "                        'gpu_id': 0,\n",
    "'learning_rate': 0.03351805368773793, 'n_estimators': 15398, 'gamma': 1.781011403322097, 'max_depth': 1, 'min_child_weight': 31.84691790156552, 'subsample': 0.4120852520801601, 'lambda': 4.232621628428967, 'alpha': 0.14624124916709164                     }\n",
    "catboost_parameters={\n",
    "    'task_type':\"GPU\", \"loss_function\":\"RMSE\",\n",
    "    'learning_rate': 0.04930064646089139, 'iterations': 3238, 'depth': 6, 'l2_leaf_reg': 32.60575094913488, 'bagging_temperature': 0.9250154053358728\n",
    "}"
   ]
  },
  {
   "cell_type": "code",
   "execution_count": 20,
   "id": "4a9dbf1a-c08c-482d-a363-258ac1eb60e0",
   "metadata": {},
   "outputs": [],
   "source": [
    "def fit_catboost(model, Xt, yt, Xv, yv):\n",
    "    model.fit(Xt, yt, early_stopping_rounds = 400, eval_set=[(Xv, yv)], verbose = 0)\n",
    "def fit_lgbm(model, Xt, yt, Xv, yv):\n",
    "    model.fit(Xt, yt, early_stopping_rounds = 399, eval_set=[(Xv, yv)], verbose = -1)  \n",
    "def fit_xgboost(model, Xt, yt, Xv, yv):\n",
    "    model.fit(Xt, yt, early_stopping_rounds = 400, eval_set=[(Xv, yv)], verbose=False)\n",
    "model_types = [\n",
    "    {\"name\": \"lgbm\", \"create\": lambda: LGBMRegressor(**lgbm_parameters), \"fit\": fit_lgbm},\n",
    "    #{'name': \"lgbm_0\", 'create': lambda: LGBMRegressor(**lgbm_parameters_0), \"fit\": fit_lgbm},\n",
    "    #{'name': \"lgbm_1\", \"create\": lambda: LGBMRegressor(**lgbm_parameters_1), 'fit': fit_lgbm},\n",
    "    #{\"name\": \"xgboost_2\", \"create\": lambda: XGBRegressor(**xgboost_parameters_2), \"fit\": fit_xgboost},\n",
    "    #{\"name\": \"xgboost_1\", \"create\": lambda: XGBRegressor(**xgboost_parameters_1), \"fit\": fit_xgboost},\n",
    "    {'name': 'xgboost', 'create': lambda: XGBRegressor(**xgboost_parameters, eval_metric=\"auc\"), 'fit': fit_xgboost},\n",
    "    {\"name\": \"catboost\", \"create\": lambda: CatBoostRegressor(**catboost_parameters), \"fit\": fit_catboost},\n",
    "    #{'name': 'catboost_0', \"create\": lambda: CatBoostRegressor(**catboost_parameters_0), \"fit\": fit_catboost},\n",
    "]"
   ]
  },
  {
   "cell_type": "code",
   "execution_count": 21,
   "id": "9ba478d6-50a5-4c8d-b482-9970374890b9",
   "metadata": {},
   "outputs": [
    {
     "data": {
      "text/plain": [
       "pandas.core.frame.DataFrame"
      ]
     },
     "execution_count": 21,
     "metadata": {},
     "output_type": "execute_result"
    }
   ],
   "source": [
    "type(X)"
   ]
  },
  {
   "cell_type": "code",
   "execution_count": 22,
   "id": "e6fb155e-3125-4392-aa57-a3a0258fb1ec",
   "metadata": {},
   "outputs": [
    {
     "name": "stdout",
     "output_type": "stream",
     "text": [
      "starting lgbm\n"
     ]
    },
    {
     "name": "stderr",
     "output_type": "stream",
     "text": [
      "0it [00:00, ?it/s]"
     ]
    },
    {
     "name": "stdout",
     "output_type": "stream",
     "text": [
      "[LightGBM] [Warning] min_data_in_leaf is set=592, min_child_samples=20 will be ignored. Current value: min_data_in_leaf=592\n",
      "Training until validation scores don't improve for 399 rounds\n",
      "Early stopping, best iteration is:\n",
      "[3940]\tvalid_0's auc: 0.857016\n"
     ]
    },
    {
     "name": "stderr",
     "output_type": "stream",
     "text": [
      "1it [01:03, 63.10s/it]"
     ]
    },
    {
     "name": "stdout",
     "output_type": "stream",
     "text": [
      "valid mse 0.8570162639666028\n",
      "[LightGBM] [Warning] min_data_in_leaf is set=592, min_child_samples=20 will be ignored. Current value: min_data_in_leaf=592\n",
      "Training until validation scores don't improve for 399 rounds\n",
      "Early stopping, best iteration is:\n",
      "[3339]\tvalid_0's auc: 0.855593\n"
     ]
    },
    {
     "name": "stderr",
     "output_type": "stream",
     "text": [
      "2it [01:57, 58.27s/it]"
     ]
    },
    {
     "name": "stdout",
     "output_type": "stream",
     "text": [
      "valid mse 0.855592580627059\n",
      "[LightGBM] [Warning] min_data_in_leaf is set=592, min_child_samples=20 will be ignored. Current value: min_data_in_leaf=592\n",
      "Training until validation scores don't improve for 399 rounds\n",
      "Early stopping, best iteration is:\n",
      "[3596]\tvalid_0's auc: 0.85618\n"
     ]
    },
    {
     "name": "stderr",
     "output_type": "stream",
     "text": [
      "3it [02:56, 58.39s/it]"
     ]
    },
    {
     "name": "stdout",
     "output_type": "stream",
     "text": [
      "valid mse 0.8561803882801273\n",
      "[LightGBM] [Warning] min_data_in_leaf is set=592, min_child_samples=20 will be ignored. Current value: min_data_in_leaf=592\n",
      "Training until validation scores don't improve for 399 rounds\n",
      "Early stopping, best iteration is:\n",
      "[3643]\tvalid_0's auc: 0.856351\n"
     ]
    },
    {
     "name": "stderr",
     "output_type": "stream",
     "text": [
      "4it [03:55, 58.68s/it]"
     ]
    },
    {
     "name": "stdout",
     "output_type": "stream",
     "text": [
      "valid mse 0.856350630240308\n",
      "[LightGBM] [Warning] min_data_in_leaf is set=592, min_child_samples=20 will be ignored. Current value: min_data_in_leaf=592\n",
      "Training until validation scores don't improve for 399 rounds\n",
      "Early stopping, best iteration is:\n",
      "[3153]\tvalid_0's auc: 0.856322\n"
     ]
    },
    {
     "name": "stderr",
     "output_type": "stream",
     "text": [
      "5it [04:48, 57.63s/it]\n"
     ]
    },
    {
     "name": "stdout",
     "output_type": "stream",
     "text": [
      "valid mse 0.8563220623134284\n",
      "lgbm 0 [0.8570162639666028, 0.855592580627059, 0.8561803882801273, 0.856350630240308, 0.8563220623134284]  max  0.8570162639666028  min  0.855592580627059  avg  0.8562923850855052\n",
      "starting xgboost\n"
     ]
    },
    {
     "name": "stderr",
     "output_type": "stream",
     "text": [
      "1it [04:02, 242.09s/it]"
     ]
    },
    {
     "name": "stdout",
     "output_type": "stream",
     "text": [
      "valid mse 0.8571136042581902\n"
     ]
    },
    {
     "name": "stderr",
     "output_type": "stream",
     "text": [
      "2it [08:25, 254.51s/it]"
     ]
    },
    {
     "name": "stdout",
     "output_type": "stream",
     "text": [
      "valid mse 0.8554379525315696\n"
     ]
    },
    {
     "name": "stderr",
     "output_type": "stream",
     "text": [
      "3it [12:48, 258.43s/it]"
     ]
    },
    {
     "name": "stdout",
     "output_type": "stream",
     "text": [
      "valid mse 0.8555675139534739\n"
     ]
    },
    {
     "name": "stderr",
     "output_type": "stream",
     "text": [
      "4it [16:28, 243.40s/it]"
     ]
    },
    {
     "name": "stdout",
     "output_type": "stream",
     "text": [
      "valid mse 0.8571747822657526\n"
     ]
    },
    {
     "name": "stderr",
     "output_type": "stream",
     "text": [
      "5it [20:37, 247.42s/it]\n"
     ]
    },
    {
     "name": "stdout",
     "output_type": "stream",
     "text": [
      "valid mse 0.8573325893142333\n",
      "xgboost 1 [0.8571136042581902, 0.8554379525315696, 0.8555675139534739, 0.8571747822657526, 0.8573325893142333]  max  0.8573325893142333  min  0.8554379525315696  avg  0.8565252884646439\n",
      "starting catboost\n"
     ]
    },
    {
     "name": "stderr",
     "output_type": "stream",
     "text": [
      "1it [00:29, 29.21s/it]"
     ]
    },
    {
     "name": "stdout",
     "output_type": "stream",
     "text": [
      "valid mse 0.8545909702846439\n"
     ]
    },
    {
     "name": "stderr",
     "output_type": "stream",
     "text": [
      "2it [00:59, 29.79s/it]"
     ]
    },
    {
     "name": "stdout",
     "output_type": "stream",
     "text": [
      "valid mse 0.8586106976668054\n"
     ]
    },
    {
     "name": "stderr",
     "output_type": "stream",
     "text": [
      "3it [01:25, 28.00s/it]"
     ]
    },
    {
     "name": "stdout",
     "output_type": "stream",
     "text": [
      "valid mse 0.8569553327092725\n"
     ]
    },
    {
     "name": "stderr",
     "output_type": "stream",
     "text": [
      "4it [01:53, 27.97s/it]"
     ]
    },
    {
     "name": "stdout",
     "output_type": "stream",
     "text": [
      "valid mse 0.855259553713714\n"
     ]
    },
    {
     "name": "stderr",
     "output_type": "stream",
     "text": [
      "5it [02:23, 28.67s/it]"
     ]
    },
    {
     "name": "stdout",
     "output_type": "stream",
     "text": [
      "valid mse 0.85656210013928\n",
      "catboost 2 [0.8545909702846439, 0.8586106976668054, 0.8569553327092725, 0.855259553713714, 0.85656210013928]  max  0.8586106976668054  min  0.8545909702846439  avg  0.8563957309027433\n"
     ]
    },
    {
     "name": "stderr",
     "output_type": "stream",
     "text": [
      "\n"
     ]
    }
   ],
   "source": [
    "spl = 5\n",
    "base_models = [list() for x in model_types]\n",
    "out_of_fold_predictions = np.zeros((X.shape[0], len(base_models)))\n",
    "y_pred = []\n",
    "for i, model_type in enumerate(model_types):\n",
    "    kf = StratifiedKFold(n_splits=spl, shuffle=True)\n",
    "    mse = []\n",
    "    print(\"starting \" + model_type[\"name\"])\n",
    "    for train_idx, valid_idx in tqdm(kf.split(X,y.round())):\n",
    "        Xt = X.iloc[train_idx, :]\n",
    "        yt = y.iloc[train_idx]\n",
    "        Xv = X.iloc[valid_idx, :]\n",
    "        yv = y.iloc[valid_idx]\n",
    "        model = model_type['create']()\n",
    "        model_type['fit'](model, Xt, yt, Xv, yv)\n",
    "        y_pred = model.predict(Xv)\n",
    "        out_of_fold_predictions[valid_idx, i] = y_pred\n",
    "        valid_mse = roc_auc_score(y_true = yv, y_score = y_pred)\n",
    "        mse.append(valid_mse)\n",
    "        base_models[i].append(model)\n",
    "        print(\"valid mse\", valid_mse) \n",
    "    print(model_type[\"name\"], i, mse, \" max \", max(mse), \" min \", min(mse),\" avg \", sum(mse)/len(mse))"
   ]
  },
  {
   "cell_type": "code",
   "execution_count": 23,
   "id": "910294a6-cd03-4588-ac90-3339d58b89b7",
   "metadata": {},
   "outputs": [],
   "source": [
    "meta_features = np.column_stack([\n",
    "    np.column_stack([model.predict(test) for model in bms]).mean(axis=1) for bms in base_models])\n"
   ]
  },
  {
   "cell_type": "code",
   "execution_count": 24,
   "id": "7c7ff54b-5387-4324-b37b-81e981ce557b",
   "metadata": {},
   "outputs": [],
   "source": [
    "out_of_fold_predictions_file = \"./outoffoldpredictions.np\"\n",
    "meta_features_file = \"./meta_features.np\""
   ]
  },
  {
   "cell_type": "code",
   "execution_count": 25,
   "id": "cadd6fd4-22fb-4439-b6e3-c00fb5dfe6aa",
   "metadata": {},
   "outputs": [],
   "source": [
    "np.save(out_of_fold_predictions_file, out_of_fold_predictions)\n",
    "np.save(meta_features_file, meta_features)"
   ]
  },
  {
   "cell_type": "code",
   "execution_count": 26,
   "id": "0d5c254c-6526-46d6-9198-eadb00794d54",
   "metadata": {},
   "outputs": [],
   "source": [
    "meta_model = Ridge()"
   ]
  },
  {
   "cell_type": "code",
   "execution_count": 27,
   "id": "d01db3ef-09d7-4d4d-8b78-fac58e853bae",
   "metadata": {},
   "outputs": [
    {
     "name": "stderr",
     "output_type": "stream",
     "text": [
      "3it [00:00,  8.50it/s]"
     ]
    },
    {
     "name": "stdout",
     "output_type": "stream",
     "text": [
      "valid mse  0.8562427227355109\n",
      "valid mse  0.85674632441917\n",
      "valid mse  0.857503704746558\n"
     ]
    },
    {
     "name": "stderr",
     "output_type": "stream",
     "text": [
      "5it [00:00,  8.94it/s]"
     ]
    },
    {
     "name": "stdout",
     "output_type": "stream",
     "text": [
      "valid mse  0.8551704521057022\n",
      "valid mse  0.8545824411409766\n"
     ]
    },
    {
     "name": "stderr",
     "output_type": "stream",
     "text": [
      "7it [00:00, 10.04it/s]"
     ]
    },
    {
     "name": "stdout",
     "output_type": "stream",
     "text": [
      "valid mse  0.8567552895856748\n",
      "valid mse  0.8566074610494361\n",
      "valid mse  0.8575261510961009\n"
     ]
    },
    {
     "name": "stderr",
     "output_type": "stream",
     "text": [
      "10it [00:01,  9.89it/s]"
     ]
    },
    {
     "name": "stdout",
     "output_type": "stream",
     "text": [
      "valid mse  0.8575522463201501\n",
      "valid mse  0.8581326940550908\n",
      "valid mse [0.8562427227355109, 0.85674632441917, 0.857503704746558, 0.8551704521057022, 0.8545824411409766, 0.8567552895856748, 0.8566074610494361, 0.8575261510961009, 0.8575522463201501, 0.8581326940550908]  min  0.8545824411409766  max  0.8581326940550908  avg  0.8566819487254371\n"
     ]
    },
    {
     "name": "stderr",
     "output_type": "stream",
     "text": [
      "\n"
     ]
    }
   ],
   "source": [
    "# Cross validate ridge\n",
    "spl = 10\n",
    "kf = StratifiedKFold(n_splits=spl, shuffle=True)\n",
    "test_pred_total = np.zeros(len(rawtest))\n",
    "mse = []\n",
    "for train_idx, valid_idx in tqdm(kf.split(out_of_fold_predictions,y.round())):\n",
    "        model = meta_model\n",
    "        Xt = out_of_fold_predictions[train_idx, :]\n",
    "        yt = y.iloc[train_idx]\n",
    "        Xv = out_of_fold_predictions[valid_idx, :]\n",
    "        yv = y.iloc[valid_idx]\n",
    "        model.fit(Xt, yt)\n",
    "        y_pred = model.predict(Xv)\n",
    "        valid_mse = roc_auc_score(y_true = y.iloc[valid_idx], y_score = y_pred)\n",
    "        print(\"valid mse \", valid_mse)\n",
    "        mse.append(valid_mse)\n",
    "        test_pred = model.predict(meta_features) / spl\n",
    "        test_pred_total += test_pred\n",
    "print(\"valid mse\", mse, \" min \", min(mse), \" max \", max(mse), \" avg \", sum(mse)/len(mse))"
   ]
  },
  {
   "cell_type": "code",
   "execution_count": 28,
   "id": "090d78a8-1d76-4a9e-8f5a-163dac6b6be6",
   "metadata": {},
   "outputs": [],
   "source": [
    "# Save the predictions to a CSV file\n",
    "output = pd.DataFrame({'Id': rawtest.index,\n",
    "                       'target': test_pred_total})\n",
    "output.to_csv('submission.csv', index=False)"
   ]
  },
  {
   "cell_type": "code",
   "execution_count": null,
   "id": "de89bba3-ad9e-4cb1-b5e7-08254f12e56f",
   "metadata": {},
   "outputs": [],
   "source": []
  },
  {
   "cell_type": "code",
   "execution_count": null,
   "id": "700706a4-0a28-441f-b95f-8fea0283f076",
   "metadata": {},
   "outputs": [],
   "source": []
  }
 ],
 "metadata": {
  "kernelspec": {
   "display_name": "Python 3 (ipykernel)",
   "language": "python",
   "name": "python3"
  },
  "language_info": {
   "codemirror_mode": {
    "name": "ipython",
    "version": 3
   },
   "file_extension": ".py",
   "mimetype": "text/x-python",
   "name": "python",
   "nbconvert_exporter": "python",
   "pygments_lexer": "ipython3",
   "version": "3.9.5"
  }
 },
 "nbformat": 4,
 "nbformat_minor": 5
}
