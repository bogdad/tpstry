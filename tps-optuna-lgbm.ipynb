{
 "cells": [
  {
   "cell_type": "code",
   "execution_count": 1,
   "id": "60fa47e1-02a9-4c62-a303-1382d08fea21",
   "metadata": {},
   "outputs": [],
   "source": [
    "# Familiar imports\n",
    "import numpy as np\n",
    "import pandas as pd\n",
    "\n",
    "# For ordinal encoding categorical variables, splitting data\n",
    "from sklearn.preprocessing import OrdinalEncoder\n",
    "from sklearn.model_selection import train_test_split, KFold, StratifiedKFold\n",
    "\n",
    "# For training random forest model\n",
    "from sklearn.ensemble import RandomForestRegressor\n",
    "from sklearn.metrics import mean_squared_error\n",
    "from sklearn.feature_selection import mutual_info_regression\n",
    "from sklearn.cluster import KMeans\n",
    "from sklearn.compose import ColumnTransformer\n",
    "from sklearn.pipeline import Pipeline\n",
    "from sklearn.impute import SimpleImputer\n",
    "from sklearn.preprocessing import OneHotEncoder, LabelEncoder\n",
    "from sklearn.ensemble import RandomForestRegressor\n",
    "from sklearn.metrics import mean_absolute_error, roc_auc_score\n",
    "from sklearn.experimental import enable_iterative_imputer\n",
    "from sklearn.impute import IterativeImputer\n",
    "from xgboost import XGBRegressor\n",
    "from lightgbm import LGBMRegressor\n",
    "import seaborn as sns\n",
    "from tqdm import tqdm\n",
    "from sklearn.model_selection import cross_val_score, GridSearchCV\n",
    "from sklearn.decomposition import PCA\n",
    "import matplotlib.pyplot as plt\n",
    "from catboost import CatBoostRegressor\n",
    "from sklearn.linear_model import Ridge\n",
    "from tqdm import tqdm\n",
    "import optuna\n",
    "\n",
    "from lightgbm import LGBMRegressor"
   ]
  },
  {
   "cell_type": "code",
   "execution_count": 2,
   "id": "b63bd980-c2d5-49a8-bfc8-bfec1f109845",
   "metadata": {},
   "outputs": [
    {
     "data": {
      "text/html": [
       "<div>\n",
       "<style scoped>\n",
       "    .dataframe tbody tr th:only-of-type {\n",
       "        vertical-align: middle;\n",
       "    }\n",
       "\n",
       "    .dataframe tbody tr th {\n",
       "        vertical-align: top;\n",
       "    }\n",
       "\n",
       "    .dataframe thead th {\n",
       "        text-align: right;\n",
       "    }\n",
       "</style>\n",
       "<table border=\"1\" class=\"dataframe\">\n",
       "  <thead>\n",
       "    <tr style=\"text-align: right;\">\n",
       "      <th></th>\n",
       "      <th>f0</th>\n",
       "      <th>f1</th>\n",
       "      <th>f2</th>\n",
       "      <th>f3</th>\n",
       "      <th>f4</th>\n",
       "      <th>f5</th>\n",
       "      <th>f6</th>\n",
       "      <th>f7</th>\n",
       "      <th>f8</th>\n",
       "      <th>f9</th>\n",
       "      <th>...</th>\n",
       "      <th>f276</th>\n",
       "      <th>f277</th>\n",
       "      <th>f278</th>\n",
       "      <th>f279</th>\n",
       "      <th>f280</th>\n",
       "      <th>f281</th>\n",
       "      <th>f282</th>\n",
       "      <th>f283</th>\n",
       "      <th>f284</th>\n",
       "      <th>target</th>\n",
       "    </tr>\n",
       "    <tr>\n",
       "      <th>id</th>\n",
       "      <th></th>\n",
       "      <th></th>\n",
       "      <th></th>\n",
       "      <th></th>\n",
       "      <th></th>\n",
       "      <th></th>\n",
       "      <th></th>\n",
       "      <th></th>\n",
       "      <th></th>\n",
       "      <th></th>\n",
       "      <th></th>\n",
       "      <th></th>\n",
       "      <th></th>\n",
       "      <th></th>\n",
       "      <th></th>\n",
       "      <th></th>\n",
       "      <th></th>\n",
       "      <th></th>\n",
       "      <th></th>\n",
       "      <th></th>\n",
       "      <th></th>\n",
       "    </tr>\n",
       "  </thead>\n",
       "  <tbody>\n",
       "    <tr>\n",
       "      <th>0</th>\n",
       "      <td>0.205979</td>\n",
       "      <td>0.410993</td>\n",
       "      <td>0.176775</td>\n",
       "      <td>0.223581</td>\n",
       "      <td>0.423543</td>\n",
       "      <td>0.476140</td>\n",
       "      <td>0.413590</td>\n",
       "      <td>0.612021</td>\n",
       "      <td>0.534873</td>\n",
       "      <td>0.147295</td>\n",
       "      <td>...</td>\n",
       "      <td>0</td>\n",
       "      <td>1</td>\n",
       "      <td>0</td>\n",
       "      <td>0</td>\n",
       "      <td>0</td>\n",
       "      <td>0</td>\n",
       "      <td>0</td>\n",
       "      <td>0</td>\n",
       "      <td>0</td>\n",
       "      <td>1</td>\n",
       "    </tr>\n",
       "    <tr>\n",
       "      <th>1</th>\n",
       "      <td>0.181004</td>\n",
       "      <td>0.473119</td>\n",
       "      <td>0.011734</td>\n",
       "      <td>0.213657</td>\n",
       "      <td>0.619678</td>\n",
       "      <td>0.441593</td>\n",
       "      <td>0.230407</td>\n",
       "      <td>0.686013</td>\n",
       "      <td>0.281971</td>\n",
       "      <td>0.238509</td>\n",
       "      <td>...</td>\n",
       "      <td>0</td>\n",
       "      <td>1</td>\n",
       "      <td>0</td>\n",
       "      <td>0</td>\n",
       "      <td>0</td>\n",
       "      <td>0</td>\n",
       "      <td>0</td>\n",
       "      <td>0</td>\n",
       "      <td>0</td>\n",
       "      <td>1</td>\n",
       "    </tr>\n",
       "    <tr>\n",
       "      <th>2</th>\n",
       "      <td>0.182583</td>\n",
       "      <td>0.307431</td>\n",
       "      <td>0.325950</td>\n",
       "      <td>0.207116</td>\n",
       "      <td>0.605699</td>\n",
       "      <td>0.309695</td>\n",
       "      <td>0.493337</td>\n",
       "      <td>0.751107</td>\n",
       "      <td>0.536272</td>\n",
       "      <td>0.286813</td>\n",
       "      <td>...</td>\n",
       "      <td>0</td>\n",
       "      <td>0</td>\n",
       "      <td>0</td>\n",
       "      <td>1</td>\n",
       "      <td>1</td>\n",
       "      <td>0</td>\n",
       "      <td>0</td>\n",
       "      <td>0</td>\n",
       "      <td>0</td>\n",
       "      <td>1</td>\n",
       "    </tr>\n",
       "    <tr>\n",
       "      <th>3</th>\n",
       "      <td>0.180240</td>\n",
       "      <td>0.494592</td>\n",
       "      <td>0.008367</td>\n",
       "      <td>0.223580</td>\n",
       "      <td>0.760618</td>\n",
       "      <td>0.439211</td>\n",
       "      <td>0.432055</td>\n",
       "      <td>0.776147</td>\n",
       "      <td>0.483958</td>\n",
       "      <td>0.260886</td>\n",
       "      <td>...</td>\n",
       "      <td>0</td>\n",
       "      <td>0</td>\n",
       "      <td>0</td>\n",
       "      <td>0</td>\n",
       "      <td>1</td>\n",
       "      <td>0</td>\n",
       "      <td>0</td>\n",
       "      <td>0</td>\n",
       "      <td>0</td>\n",
       "      <td>1</td>\n",
       "    </tr>\n",
       "    <tr>\n",
       "      <th>4</th>\n",
       "      <td>0.177172</td>\n",
       "      <td>0.495513</td>\n",
       "      <td>0.014263</td>\n",
       "      <td>0.548819</td>\n",
       "      <td>0.625396</td>\n",
       "      <td>0.562493</td>\n",
       "      <td>0.117158</td>\n",
       "      <td>0.561255</td>\n",
       "      <td>0.077115</td>\n",
       "      <td>0.158321</td>\n",
       "      <td>...</td>\n",
       "      <td>0</td>\n",
       "      <td>1</td>\n",
       "      <td>1</td>\n",
       "      <td>0</td>\n",
       "      <td>1</td>\n",
       "      <td>0</td>\n",
       "      <td>0</td>\n",
       "      <td>1</td>\n",
       "      <td>0</td>\n",
       "      <td>1</td>\n",
       "    </tr>\n",
       "  </tbody>\n",
       "</table>\n",
       "<p>5 rows × 286 columns</p>\n",
       "</div>"
      ],
      "text/plain": [
       "          f0        f1        f2        f3        f4        f5        f6  \\\n",
       "id                                                                         \n",
       "0   0.205979  0.410993  0.176775  0.223581  0.423543  0.476140  0.413590   \n",
       "1   0.181004  0.473119  0.011734  0.213657  0.619678  0.441593  0.230407   \n",
       "2   0.182583  0.307431  0.325950  0.207116  0.605699  0.309695  0.493337   \n",
       "3   0.180240  0.494592  0.008367  0.223580  0.760618  0.439211  0.432055   \n",
       "4   0.177172  0.495513  0.014263  0.548819  0.625396  0.562493  0.117158   \n",
       "\n",
       "          f7        f8        f9  ...  f276  f277  f278  f279  f280  f281  \\\n",
       "id                                ...                                       \n",
       "0   0.612021  0.534873  0.147295  ...     0     1     0     0     0     0   \n",
       "1   0.686013  0.281971  0.238509  ...     0     1     0     0     0     0   \n",
       "2   0.751107  0.536272  0.286813  ...     0     0     0     1     1     0   \n",
       "3   0.776147  0.483958  0.260886  ...     0     0     0     0     1     0   \n",
       "4   0.561255  0.077115  0.158321  ...     0     1     1     0     1     0   \n",
       "\n",
       "    f282  f283  f284  target  \n",
       "id                            \n",
       "0      0     0     0       1  \n",
       "1      0     0     0       1  \n",
       "2      0     0     0       1  \n",
       "3      0     0     0       1  \n",
       "4      0     1     0       1  \n",
       "\n",
       "[5 rows x 286 columns]"
      ]
     },
     "execution_count": 2,
     "metadata": {},
     "output_type": "execute_result"
    }
   ],
   "source": [
    "# Load the training data\n",
    "train = pd.read_csv(\"../input/tabular-playground-series-oct-2021/train.csv\", index_col=0)\n",
    "test = pd.read_csv(\"../input/tabular-playground-series-oct-2021/test.csv\", index_col=0)\n",
    "\n",
    "# Preview the data\n",
    "train.head()"
   ]
  },
  {
   "cell_type": "code",
   "execution_count": 3,
   "id": "2b7169b8-68d0-4ac9-8c48-87c5d9626a30",
   "metadata": {},
   "outputs": [
    {
     "data": {
      "text/plain": [
       "(1000000, 285)"
      ]
     },
     "execution_count": 3,
     "metadata": {},
     "output_type": "execute_result"
    }
   ],
   "source": [
    "y = train['target']\n",
    "features = train.drop(['target'], axis=1)\n",
    "\n",
    "X = features.copy()\n",
    "X.shape"
   ]
  },
  {
   "cell_type": "code",
   "execution_count": 4,
   "id": "5291165a-3fe4-43fc-a827-9d7889d64b04",
   "metadata": {},
   "outputs": [],
   "source": [
    "def create_pipeline(**kvargs):\n",
    "    typ = kvargs.pop('typ')\n",
    "    if typ == 'xgboost':\n",
    "        model = XGBRegressor(**kvargs, n_jobs=3, tree_method='gpu_hist', gpu_id=0, eval_metric=\"auc\")\n",
    "    elif typ == 'lgbm':\n",
    "        model = LGBMRegressor(**kvargs, n_jobs=3, device='gpu', metric = \"auc\")\n",
    "    else:\n",
    "        model = CatBoostRegressor(**kvargs)\n",
    "    \n",
    "    #pipeline = Pipeline(steps=[\n",
    "    #    ('preprocessor', preprocessor),\n",
    "    #    ('model', model)\n",
    "    #])\n",
    "    return model"
   ]
  },
  {
   "cell_type": "code",
   "execution_count": 5,
   "id": "babc2b98-b4f0-4e89-986b-064af6f2e419",
   "metadata": {},
   "outputs": [],
   "source": [
    "def objective(trial, X, y, typ):\n",
    "    #n_estimators = trial.suggest_int(\"n_estimators\", 500, 5000)\n",
    "    learning_rate = trial.suggest_float(\"learning_rate\", 0.03, 0.5)\n",
    "    stopping_rounds = 400\n",
    "    params={'typ':typ}\n",
    "    if typ == 'xgboost':\n",
    "        params['booster']='gbtree'\n",
    "        params['n_estimators'] = trial.suggest_int(\"n_estimators\", 5000, 20000)\n",
    "        params['gamma'] = trial.suggest_float('gamma', 0, 100)\n",
    "        params['max_depth'] = trial.suggest_int('max_depth', 1, 10)\n",
    "        params['min_child_weight']=trial.suggest_float('min_child_weight', 0, 10)\n",
    "        params['subsample']=trial.suggest_float('subsample', 0.1, 1)\n",
    "        params['lambda']=trial.suggest_float('lambda', 1, 5)\n",
    "        params['alpha']=trial.suggest_float('alpha', 0, 10)\n",
    "    elif typ=='lgbm':\n",
    "        params['n_estimators'] = trial.suggest_int(\"n_estimators\", 500, 5000)\n",
    "        params['max_depth']=trial.suggest_int('max_depth', 2, 10)\n",
    "        params['num_leaves']=trial.suggest_int('num_leaves', 2, 100)\n",
    "        params['reg_alpha']=trial.suggest_float('reg_alpha', 0, 10)\n",
    "        params['reg_lambda']=trial.suggest_float('reg_lambda', 0, 10)\n",
    "        params['min_data_in_leaf']=trial.suggest_int('min_data_in_leaf', 50, 1000)\n",
    "    else:\n",
    "        params['iterations'] = trial.suggest_int(\"iterations\", 500, 5000)\n",
    "        params['depth'] = trial.suggest_int(\"depth\", 3, 15)\n",
    "        params['l2_leaf_reg']=trial.suggest_float('l2_leaf_reg', 0.01, 100)\n",
    "        params['bagging_temperature']=trial.suggest_float('bagging_temperature', 0, 10)\n",
    "    \n",
    "    #score = cross_val_score(model, X, y, cv=5, scoring='neg_mean_squared_error')\n",
    "    val_pred = np.zeros(len(y))\n",
    "\n",
    "    mse = []\n",
    "    spl = 5\n",
    "    kf = KFold(n_splits=spl, shuffle=True)\n",
    "    for trn_idx, val_idx in tqdm(kf.split(X,y)):\n",
    "        x_train_idx = X.iloc[trn_idx]\n",
    "        y_train_idx = y.iloc[trn_idx]\n",
    "        x_valid_idx = X.iloc[val_idx]\n",
    "        y_valid_idx = y.iloc[val_idx]\n",
    "\n",
    "        model = create_pipeline(learning_rate=learning_rate, **params)\n",
    "        verbose = -1\n",
    "        if typ == 'xgboost':\n",
    "            verbose = False\n",
    "        if typ == 'catboost':\n",
    "            verbose = 0\n",
    "        model.fit(x_train_idx, y_train_idx, early_stopping_rounds = stopping_rounds, eval_set=[(x_valid_idx, y_valid_idx)], verbose = verbose)\n",
    "        mse.append(roc_auc_score(y_valid_idx, model.predict(x_valid_idx)))\n",
    "    \n",
    "    accuracy = sum(mse)/spl\n",
    "    return accuracy"
   ]
  },
  {
   "cell_type": "code",
   "execution_count": null,
   "id": "eafff56d-dc57-4154-a1f9-755740038bc3",
   "metadata": {},
   "outputs": [],
   "source": []
  },
  {
   "cell_type": "code",
   "execution_count": 9,
   "id": "79caea8b-3d7e-45fd-b362-a3338f1c4994",
   "metadata": {},
   "outputs": [
    {
     "name": "stderr",
     "output_type": "stream",
     "text": [
      "\u001b[32m[I 2021-10-21 15:48:50,626]\u001b[0m Using an existing study with name 'tps-oct1-lbgm' instead of creating a new one.\u001b[0m\n"
     ]
    }
   ],
   "source": [
    "study_name = 'tps-oct1-lbgm'  # Unique identifier of the study.\n",
    "study = optuna.create_study(study_name=study_name, storage='sqlite:///'+study_name+'.db', direction=\"maximize\", load_if_exists=True)"
   ]
  },
  {
   "cell_type": "code",
   "execution_count": 10,
   "id": "86debe3f-a9f3-41ff-912a-f57ae86d4279",
   "metadata": {},
   "outputs": [
    {
     "name": "stdout",
     "output_type": "stream",
     "text": [
      "FrozenTrial(number=58, values=[0.8563642309651686], datetime_start=datetime.datetime(2021, 10, 21, 13, 9, 29, 956246), datetime_complete=datetime.datetime(2021, 10, 21, 13, 15, 49, 876669), params={'learning_rate': 0.08697465911179744, 'max_depth': 2, 'min_data_in_leaf': 592, 'n_estimators': 4565, 'num_leaves': 85, 'reg_alpha': 4.2395421854514055, 'reg_lambda': 3.4669998025411233}, distributions={'learning_rate': UniformDistribution(high=0.5, low=0.03), 'max_depth': IntUniformDistribution(high=10, low=2, step=1), 'min_data_in_leaf': IntUniformDistribution(high=1000, low=50, step=1), 'n_estimators': IntUniformDistribution(high=5000, low=500, step=1), 'num_leaves': IntUniformDistribution(high=100, low=2, step=1), 'reg_alpha': UniformDistribution(high=10.0, low=0.0), 'reg_lambda': UniformDistribution(high=10.0, low=0.0)}, user_attrs={}, system_attrs={}, intermediate_values={}, trial_id=59, state=TrialState.COMPLETE, value=None)\n"
     ]
    }
   ],
   "source": [
    "print(study.best_trial)"
   ]
  },
  {
   "cell_type": "code",
   "execution_count": 8,
   "id": "0d017e59-6072-4e78-9058-d8bae61fa5f8",
   "metadata": {},
   "outputs": [
    {
     "name": "stderr",
     "output_type": "stream",
     "text": [
      "0it [00:00, ?it/s]"
     ]
    },
    {
     "name": "stdout",
     "output_type": "stream",
     "text": [
      "[LightGBM] [Warning] min_data_in_leaf is set=838, min_child_samples=20 will be ignored. Current value: min_data_in_leaf=838\n",
      "Training until validation scores don't improve for 400 rounds\n",
      "Did not meet early stopping. Best iteration is:\n",
      "[1363]\tvalid_0's auc: 0.855828\n"
     ]
    },
    {
     "name": "stderr",
     "output_type": "stream",
     "text": [
      "1it [00:31, 31.50s/it]"
     ]
    },
    {
     "name": "stdout",
     "output_type": "stream",
     "text": [
      "[LightGBM] [Warning] min_data_in_leaf is set=838, min_child_samples=20 will be ignored. Current value: min_data_in_leaf=838\n",
      "Training until validation scores don't improve for 400 rounds\n",
      "Did not meet early stopping. Best iteration is:\n",
      "[1363]\tvalid_0's auc: 0.855699\n"
     ]
    },
    {
     "name": "stderr",
     "output_type": "stream",
     "text": [
      "2it [01:02, 31.01s/it]"
     ]
    },
    {
     "name": "stdout",
     "output_type": "stream",
     "text": [
      "[LightGBM] [Warning] min_data_in_leaf is set=838, min_child_samples=20 will be ignored. Current value: min_data_in_leaf=838\n",
      "Training until validation scores don't improve for 400 rounds\n",
      "Did not meet early stopping. Best iteration is:\n",
      "[1363]\tvalid_0's auc: 0.856231\n"
     ]
    },
    {
     "name": "stderr",
     "output_type": "stream",
     "text": [
      "3it [01:33, 30.96s/it]"
     ]
    },
    {
     "name": "stdout",
     "output_type": "stream",
     "text": [
      "[LightGBM] [Warning] min_data_in_leaf is set=838, min_child_samples=20 will be ignored. Current value: min_data_in_leaf=838\n",
      "Training until validation scores don't improve for 400 rounds\n",
      "Did not meet early stopping. Best iteration is:\n",
      "[1359]\tvalid_0's auc: 0.855349\n"
     ]
    },
    {
     "name": "stderr",
     "output_type": "stream",
     "text": [
      "4it [02:03, 30.86s/it]"
     ]
    },
    {
     "name": "stdout",
     "output_type": "stream",
     "text": [
      "[LightGBM] [Warning] min_data_in_leaf is set=838, min_child_samples=20 will be ignored. Current value: min_data_in_leaf=838\n",
      "Training until validation scores don't improve for 400 rounds\n",
      "Did not meet early stopping. Best iteration is:\n",
      "[1363]\tvalid_0's auc: 0.856096\n"
     ]
    },
    {
     "name": "stderr",
     "output_type": "stream",
     "text": [
      "5it [02:34, 30.94s/it]\n",
      "\u001b[32m[I 2021-10-21 11:47:54,193]\u001b[0m Trial 39 finished with value: 0.8558403876072262 and parameters: {'learning_rate': 0.12256684146278371, 'n_estimators': 1363, 'max_depth': 2, 'num_leaves': 74, 'reg_alpha': 7.907630061846948, 'reg_lambda': 0.019841605478950086, 'min_data_in_leaf': 838}. Best is trial 28 with value: 0.8562715759306572.\u001b[0m\n",
      "0it [00:00, ?it/s]"
     ]
    },
    {
     "name": "stdout",
     "output_type": "stream",
     "text": [
      "[LightGBM] [Warning] min_data_in_leaf is set=579, min_child_samples=20 will be ignored. Current value: min_data_in_leaf=579\n",
      "Training until validation scores don't improve for 400 rounds\n",
      "Early stopping, best iteration is:\n",
      "[1358]\tvalid_0's auc: 0.855985\n"
     ]
    },
    {
     "name": "stderr",
     "output_type": "stream",
     "text": [
      "1it [00:50, 50.09s/it]"
     ]
    },
    {
     "name": "stdout",
     "output_type": "stream",
     "text": [
      "[LightGBM] [Warning] min_data_in_leaf is set=579, min_child_samples=20 will be ignored. Current value: min_data_in_leaf=579\n",
      "Training until validation scores don't improve for 400 rounds\n",
      "Early stopping, best iteration is:\n",
      "[1234]\tvalid_0's auc: 0.85514\n"
     ]
    },
    {
     "name": "stderr",
     "output_type": "stream",
     "text": [
      "2it [01:37, 48.62s/it]"
     ]
    },
    {
     "name": "stdout",
     "output_type": "stream",
     "text": [
      "[LightGBM] [Warning] min_data_in_leaf is set=579, min_child_samples=20 will be ignored. Current value: min_data_in_leaf=579\n",
      "Training until validation scores don't improve for 400 rounds\n",
      "Early stopping, best iteration is:\n",
      "[1557]\tvalid_0's auc: 0.855403\n"
     ]
    },
    {
     "name": "stderr",
     "output_type": "stream",
     "text": [
      "3it [02:32, 51.65s/it]"
     ]
    },
    {
     "name": "stdout",
     "output_type": "stream",
     "text": [
      "[LightGBM] [Warning] min_data_in_leaf is set=579, min_child_samples=20 will be ignored. Current value: min_data_in_leaf=579\n",
      "Training until validation scores don't improve for 400 rounds\n",
      "Early stopping, best iteration is:\n",
      "[1262]\tvalid_0's auc: 0.855834\n"
     ]
    },
    {
     "name": "stderr",
     "output_type": "stream",
     "text": [
      "4it [03:21, 50.26s/it]"
     ]
    },
    {
     "name": "stdout",
     "output_type": "stream",
     "text": [
      "[LightGBM] [Warning] min_data_in_leaf is set=579, min_child_samples=20 will be ignored. Current value: min_data_in_leaf=579\n",
      "Training until validation scores don't improve for 400 rounds\n",
      "Early stopping, best iteration is:\n",
      "[1455]\tvalid_0's auc: 0.857093\n"
     ]
    },
    {
     "name": "stderr",
     "output_type": "stream",
     "text": [
      "5it [04:13, 50.73s/it]\n",
      "\u001b[32m[I 2021-10-21 11:52:08,065]\u001b[0m Trial 40 finished with value: 0.8558910794879729 and parameters: {'learning_rate': 0.07623926309887649, 'n_estimators': 3178, 'max_depth': 4, 'num_leaves': 20, 'reg_alpha': 0.3634205100311041, 'reg_lambda': 7.639699068445376, 'min_data_in_leaf': 579}. Best is trial 28 with value: 0.8562715759306572.\u001b[0m\n",
      "0it [00:00, ?it/s]"
     ]
    },
    {
     "name": "stdout",
     "output_type": "stream",
     "text": [
      "[LightGBM] [Warning] min_data_in_leaf is set=751, min_child_samples=20 will be ignored. Current value: min_data_in_leaf=751\n",
      "Training until validation scores don't improve for 400 rounds\n",
      "Early stopping, best iteration is:\n",
      "[333]\tvalid_0's auc: 0.855064\n"
     ]
    },
    {
     "name": "stderr",
     "output_type": "stream",
     "text": [
      "1it [00:41, 41.96s/it]"
     ]
    },
    {
     "name": "stdout",
     "output_type": "stream",
     "text": [
      "[LightGBM] [Warning] min_data_in_leaf is set=751, min_child_samples=20 will be ignored. Current value: min_data_in_leaf=751\n",
      "Training until validation scores don't improve for 400 rounds\n",
      "Early stopping, best iteration is:\n",
      "[400]\tvalid_0's auc: 0.854818\n"
     ]
    },
    {
     "name": "stderr",
     "output_type": "stream",
     "text": [
      "2it [01:26, 43.48s/it]"
     ]
    },
    {
     "name": "stdout",
     "output_type": "stream",
     "text": [
      "[LightGBM] [Warning] min_data_in_leaf is set=751, min_child_samples=20 will be ignored. Current value: min_data_in_leaf=751\n",
      "Training until validation scores don't improve for 400 rounds\n",
      "Early stopping, best iteration is:\n",
      "[371]\tvalid_0's auc: 0.85464\n"
     ]
    },
    {
     "name": "stderr",
     "output_type": "stream",
     "text": [
      "3it [02:10, 43.57s/it]"
     ]
    },
    {
     "name": "stdout",
     "output_type": "stream",
     "text": [
      "[LightGBM] [Warning] min_data_in_leaf is set=751, min_child_samples=20 will be ignored. Current value: min_data_in_leaf=751\n",
      "Training until validation scores don't improve for 400 rounds\n",
      "Early stopping, best iteration is:\n",
      "[364]\tvalid_0's auc: 0.855971\n"
     ]
    },
    {
     "name": "stderr",
     "output_type": "stream",
     "text": [
      "4it [02:53, 43.44s/it]"
     ]
    },
    {
     "name": "stdout",
     "output_type": "stream",
     "text": [
      "[LightGBM] [Warning] min_data_in_leaf is set=751, min_child_samples=20 will be ignored. Current value: min_data_in_leaf=751\n",
      "Training until validation scores don't improve for 400 rounds\n",
      "Early stopping, best iteration is:\n",
      "[419]\tvalid_0's auc: 0.854709\n"
     ]
    },
    {
     "name": "stderr",
     "output_type": "stream",
     "text": [
      "5it [03:39, 43.83s/it]\n",
      "\u001b[32m[I 2021-10-21 11:55:47,440]\u001b[0m Trial 41 finished with value: 0.8550403937536828 and parameters: {'learning_rate': 0.1023570122569496, 'n_estimators': 3999, 'max_depth': 9, 'num_leaves': 56, 'reg_alpha': 9.449996266575155, 'reg_lambda': 9.150966535798048, 'min_data_in_leaf': 751}. Best is trial 28 with value: 0.8562715759306572.\u001b[0m\n",
      "0it [00:00, ?it/s]"
     ]
    },
    {
     "name": "stdout",
     "output_type": "stream",
     "text": [
      "[LightGBM] [Warning] min_data_in_leaf is set=844, min_child_samples=20 will be ignored. Current value: min_data_in_leaf=844\n",
      "Training until validation scores don't improve for 400 rounds\n",
      "Early stopping, best iteration is:\n",
      "[125]\tvalid_0's auc: 0.852822\n"
     ]
    },
    {
     "name": "stderr",
     "output_type": "stream",
     "text": [
      "1it [00:28, 28.41s/it]"
     ]
    },
    {
     "name": "stdout",
     "output_type": "stream",
     "text": [
      "[LightGBM] [Warning] min_data_in_leaf is set=844, min_child_samples=20 will be ignored. Current value: min_data_in_leaf=844\n",
      "Training until validation scores don't improve for 400 rounds\n",
      "Early stopping, best iteration is:\n",
      "[119]\tvalid_0's auc: 0.852219\n"
     ]
    },
    {
     "name": "stderr",
     "output_type": "stream",
     "text": [
      "2it [00:56, 28.19s/it]"
     ]
    },
    {
     "name": "stdout",
     "output_type": "stream",
     "text": [
      "[LightGBM] [Warning] min_data_in_leaf is set=844, min_child_samples=20 will be ignored. Current value: min_data_in_leaf=844\n",
      "Training until validation scores don't improve for 400 rounds\n",
      "Early stopping, best iteration is:\n",
      "[118]\tvalid_0's auc: 0.852658\n"
     ]
    },
    {
     "name": "stderr",
     "output_type": "stream",
     "text": [
      "3it [01:24, 28.31s/it]"
     ]
    },
    {
     "name": "stdout",
     "output_type": "stream",
     "text": [
      "[LightGBM] [Warning] min_data_in_leaf is set=844, min_child_samples=20 will be ignored. Current value: min_data_in_leaf=844\n",
      "Training until validation scores don't improve for 400 rounds\n",
      "Early stopping, best iteration is:\n",
      "[103]\tvalid_0's auc: 0.851459\n"
     ]
    },
    {
     "name": "stderr",
     "output_type": "stream",
     "text": [
      "4it [01:53, 28.24s/it]"
     ]
    },
    {
     "name": "stdout",
     "output_type": "stream",
     "text": [
      "[LightGBM] [Warning] min_data_in_leaf is set=844, min_child_samples=20 will be ignored. Current value: min_data_in_leaf=844\n",
      "Training until validation scores don't improve for 400 rounds\n",
      "Early stopping, best iteration is:\n",
      "[116]\tvalid_0's auc: 0.853543\n"
     ]
    },
    {
     "name": "stderr",
     "output_type": "stream",
     "text": [
      "5it [02:21, 28.28s/it]\n",
      "\u001b[32m[I 2021-10-21 11:58:09,023]\u001b[0m Trial 42 finished with value: 0.8525403988207534 and parameters: {'learning_rate': 0.28703952300788993, 'n_estimators': 3608, 'max_depth': 7, 'num_leaves': 50, 'reg_alpha': 6.966998907137094, 'reg_lambda': 2.6585373460538393, 'min_data_in_leaf': 844}. Best is trial 28 with value: 0.8562715759306572.\u001b[0m\n",
      "0it [00:00, ?it/s]"
     ]
    },
    {
     "name": "stdout",
     "output_type": "stream",
     "text": [
      "[LightGBM] [Warning] min_data_in_leaf is set=878, min_child_samples=20 will be ignored. Current value: min_data_in_leaf=878\n",
      "Training until validation scores don't improve for 400 rounds\n",
      "Early stopping, best iteration is:\n",
      "[1686]\tvalid_0's auc: 0.856725\n"
     ]
    },
    {
     "name": "stderr",
     "output_type": "stream",
     "text": [
      "1it [01:02, 62.41s/it]"
     ]
    },
    {
     "name": "stdout",
     "output_type": "stream",
     "text": [
      "[LightGBM] [Warning] min_data_in_leaf is set=878, min_child_samples=20 will be ignored. Current value: min_data_in_leaf=878\n",
      "Training until validation scores don't improve for 400 rounds\n",
      "Early stopping, best iteration is:\n",
      "[1316]\tvalid_0's auc: 0.857121\n"
     ]
    },
    {
     "name": "stderr",
     "output_type": "stream",
     "text": [
      "2it [01:54, 56.22s/it]"
     ]
    },
    {
     "name": "stdout",
     "output_type": "stream",
     "text": [
      "[LightGBM] [Warning] min_data_in_leaf is set=878, min_child_samples=20 will be ignored. Current value: min_data_in_leaf=878\n",
      "Training until validation scores don't improve for 400 rounds\n",
      "Early stopping, best iteration is:\n",
      "[1686]\tvalid_0's auc: 0.855917\n"
     ]
    },
    {
     "name": "stderr",
     "output_type": "stream",
     "text": [
      "3it [02:54, 58.14s/it]"
     ]
    },
    {
     "name": "stdout",
     "output_type": "stream",
     "text": [
      "[LightGBM] [Warning] min_data_in_leaf is set=878, min_child_samples=20 will be ignored. Current value: min_data_in_leaf=878\n",
      "Training until validation scores don't improve for 400 rounds\n",
      "Early stopping, best iteration is:\n",
      "[1669]\tvalid_0's auc: 0.854847\n"
     ]
    },
    {
     "name": "stderr",
     "output_type": "stream",
     "text": [
      "4it [03:54, 58.92s/it]"
     ]
    },
    {
     "name": "stdout",
     "output_type": "stream",
     "text": [
      "[LightGBM] [Warning] min_data_in_leaf is set=878, min_child_samples=20 will be ignored. Current value: min_data_in_leaf=878\n",
      "Training until validation scores don't improve for 400 rounds\n",
      "Early stopping, best iteration is:\n",
      "[1696]\tvalid_0's auc: 0.855859\n"
     ]
    },
    {
     "name": "stderr",
     "output_type": "stream",
     "text": [
      "5it [04:55, 59.16s/it]\n",
      "\u001b[32m[I 2021-10-21 12:03:05,039]\u001b[0m Trial 43 finished with value: 0.8560938853181618 and parameters: {'learning_rate': 0.0607014176462074, 'n_estimators': 2494, 'max_depth': 5, 'num_leaves': 16, 'reg_alpha': 8.752030771092784, 'reg_lambda': 8.715859993667712, 'min_data_in_leaf': 878}. Best is trial 28 with value: 0.8562715759306572.\u001b[0m\n",
      "0it [00:00, ?it/s]"
     ]
    },
    {
     "name": "stdout",
     "output_type": "stream",
     "text": [
      "[LightGBM] [Warning] min_data_in_leaf is set=696, min_child_samples=20 will be ignored. Current value: min_data_in_leaf=696\n",
      "Training until validation scores don't improve for 400 rounds\n",
      "Early stopping, best iteration is:\n",
      "[1783]\tvalid_0's auc: 0.855592\n"
     ]
    },
    {
     "name": "stderr",
     "output_type": "stream",
     "text": [
      "1it [01:03, 63.99s/it]"
     ]
    },
    {
     "name": "stdout",
     "output_type": "stream",
     "text": [
      "[LightGBM] [Warning] min_data_in_leaf is set=696, min_child_samples=20 will be ignored. Current value: min_data_in_leaf=696\n",
      "Training until validation scores don't improve for 400 rounds\n",
      "Early stopping, best iteration is:\n",
      "[2015]\tvalid_0's auc: 0.85716\n"
     ]
    },
    {
     "name": "stderr",
     "output_type": "stream",
     "text": [
      "2it [02:09, 65.08s/it]"
     ]
    },
    {
     "name": "stdout",
     "output_type": "stream",
     "text": [
      "[LightGBM] [Warning] min_data_in_leaf is set=696, min_child_samples=20 will be ignored. Current value: min_data_in_leaf=696\n",
      "Training until validation scores don't improve for 400 rounds\n",
      "Early stopping, best iteration is:\n",
      "[1876]\tvalid_0's auc: 0.855666\n"
     ]
    },
    {
     "name": "stderr",
     "output_type": "stream",
     "text": [
      "3it [03:12, 64.21s/it]"
     ]
    },
    {
     "name": "stdout",
     "output_type": "stream",
     "text": [
      "[LightGBM] [Warning] min_data_in_leaf is set=696, min_child_samples=20 will be ignored. Current value: min_data_in_leaf=696\n",
      "Training until validation scores don't improve for 400 rounds\n",
      "Early stopping, best iteration is:\n",
      "[2047]\tvalid_0's auc: 0.854159\n"
     ]
    },
    {
     "name": "stderr",
     "output_type": "stream",
     "text": [
      "4it [04:19, 65.12s/it]"
     ]
    },
    {
     "name": "stdout",
     "output_type": "stream",
     "text": [
      "[LightGBM] [Warning] min_data_in_leaf is set=696, min_child_samples=20 will be ignored. Current value: min_data_in_leaf=696\n",
      "Training until validation scores don't improve for 400 rounds\n",
      "Early stopping, best iteration is:\n",
      "[1957]\tvalid_0's auc: 0.857696\n"
     ]
    },
    {
     "name": "stderr",
     "output_type": "stream",
     "text": [
      "5it [05:24, 64.88s/it]\n",
      "\u001b[32m[I 2021-10-21 12:08:29,682]\u001b[0m Trial 44 finished with value: 0.8560545917869122 and parameters: {'learning_rate': 0.058486186951292075, 'n_estimators': 2821, 'max_depth': 4, 'num_leaves': 27, 'reg_alpha': 4.456790380777393, 'reg_lambda': 8.113383249580437, 'min_data_in_leaf': 696}. Best is trial 28 with value: 0.8562715759306572.\u001b[0m\n",
      "0it [00:00, ?it/s]"
     ]
    },
    {
     "name": "stdout",
     "output_type": "stream",
     "text": [
      "[LightGBM] [Warning] min_data_in_leaf is set=942, min_child_samples=20 will be ignored. Current value: min_data_in_leaf=942\n",
      "Training until validation scores don't improve for 400 rounds\n",
      "Early stopping, best iteration is:\n",
      "[1297]\tvalid_0's auc: 0.85594\n"
     ]
    },
    {
     "name": "stderr",
     "output_type": "stream",
     "text": [
      "1it [00:40, 40.41s/it]"
     ]
    },
    {
     "name": "stdout",
     "output_type": "stream",
     "text": [
      "[LightGBM] [Warning] min_data_in_leaf is set=942, min_child_samples=20 will be ignored. Current value: min_data_in_leaf=942\n",
      "Training until validation scores don't improve for 400 rounds\n",
      "Early stopping, best iteration is:\n",
      "[1465]\tvalid_0's auc: 0.854772\n"
     ]
    },
    {
     "name": "stderr",
     "output_type": "stream",
     "text": [
      "2it [01:22, 41.23s/it]"
     ]
    },
    {
     "name": "stdout",
     "output_type": "stream",
     "text": [
      "[LightGBM] [Warning] min_data_in_leaf is set=942, min_child_samples=20 will be ignored. Current value: min_data_in_leaf=942\n",
      "Training until validation scores don't improve for 400 rounds\n",
      "Early stopping, best iteration is:\n",
      "[1334]\tvalid_0's auc: 0.855514\n"
     ]
    },
    {
     "name": "stderr",
     "output_type": "stream",
     "text": [
      "3it [02:02, 40.58s/it]"
     ]
    },
    {
     "name": "stdout",
     "output_type": "stream",
     "text": [
      "[LightGBM] [Warning] min_data_in_leaf is set=942, min_child_samples=20 will be ignored. Current value: min_data_in_leaf=942\n",
      "Training until validation scores don't improve for 400 rounds\n",
      "Early stopping, best iteration is:\n",
      "[1504]\tvalid_0's auc: 0.857723\n"
     ]
    },
    {
     "name": "stderr",
     "output_type": "stream",
     "text": [
      "4it [02:44, 41.33s/it]"
     ]
    },
    {
     "name": "stdout",
     "output_type": "stream",
     "text": [
      "[LightGBM] [Warning] min_data_in_leaf is set=942, min_child_samples=20 will be ignored. Current value: min_data_in_leaf=942\n",
      "Training until validation scores don't improve for 400 rounds\n",
      "Early stopping, best iteration is:\n",
      "[1468]\tvalid_0's auc: 0.856113\n"
     ]
    },
    {
     "name": "stderr",
     "output_type": "stream",
     "text": [
      "5it [03:26, 41.37s/it]\n",
      "\u001b[32m[I 2021-10-21 12:11:56,779]\u001b[0m Trial 45 finished with value: 0.8560124567071806 and parameters: {'learning_rate': 0.14539034293235525, 'n_estimators': 3324, 'max_depth': 3, 'num_leaves': 6, 'reg_alpha': 9.987466674687148, 'reg_lambda': 9.179171511825068, 'min_data_in_leaf': 942}. Best is trial 28 with value: 0.8562715759306572.\u001b[0m\n",
      "0it [00:00, ?it/s]"
     ]
    },
    {
     "name": "stdout",
     "output_type": "stream",
     "text": [
      "[LightGBM] [Warning] min_data_in_leaf is set=999, min_child_samples=20 will be ignored. Current value: min_data_in_leaf=999\n",
      "Training until validation scores don't improve for 400 rounds\n",
      "Did not meet early stopping. Best iteration is:\n",
      "[2352]\tvalid_0's auc: 0.855142\n"
     ]
    },
    {
     "name": "stderr",
     "output_type": "stream",
     "text": [
      "1it [01:11, 71.46s/it]"
     ]
    },
    {
     "name": "stdout",
     "output_type": "stream",
     "text": [
      "[LightGBM] [Warning] min_data_in_leaf is set=999, min_child_samples=20 will be ignored. Current value: min_data_in_leaf=999\n",
      "Training until validation scores don't improve for 400 rounds\n",
      "Did not meet early stopping. Best iteration is:\n",
      "[2352]\tvalid_0's auc: 0.856014\n"
     ]
    },
    {
     "name": "stderr",
     "output_type": "stream",
     "text": [
      "2it [02:19, 69.32s/it]"
     ]
    },
    {
     "name": "stdout",
     "output_type": "stream",
     "text": [
      "[LightGBM] [Warning] min_data_in_leaf is set=999, min_child_samples=20 will be ignored. Current value: min_data_in_leaf=999\n",
      "Training until validation scores don't improve for 400 rounds\n",
      "Did not meet early stopping. Best iteration is:\n",
      "[2346]\tvalid_0's auc: 0.856017\n"
     ]
    },
    {
     "name": "stderr",
     "output_type": "stream",
     "text": [
      "3it [03:27, 68.76s/it]"
     ]
    },
    {
     "name": "stdout",
     "output_type": "stream",
     "text": [
      "[LightGBM] [Warning] min_data_in_leaf is set=999, min_child_samples=20 will be ignored. Current value: min_data_in_leaf=999\n",
      "Training until validation scores don't improve for 400 rounds\n",
      "Did not meet early stopping. Best iteration is:\n",
      "[2350]\tvalid_0's auc: 0.856662\n"
     ]
    },
    {
     "name": "stderr",
     "output_type": "stream",
     "text": [
      "4it [04:35, 68.46s/it]"
     ]
    },
    {
     "name": "stdout",
     "output_type": "stream",
     "text": [
      "[LightGBM] [Warning] min_data_in_leaf is set=999, min_child_samples=20 will be ignored. Current value: min_data_in_leaf=999\n",
      "Training until validation scores don't improve for 400 rounds\n",
      "Did not meet early stopping. Best iteration is:\n",
      "[2341]\tvalid_0's auc: 0.856017\n"
     ]
    },
    {
     "name": "stderr",
     "output_type": "stream",
     "text": [
      "5it [05:43, 68.72s/it]\n",
      "\u001b[32m[I 2021-10-21 12:17:40,646]\u001b[0m Trial 46 finished with value: 0.8559701882070259 and parameters: {'learning_rate': 0.030431450650530247, 'n_estimators': 2353, 'max_depth': 5, 'num_leaves': 12, 'reg_alpha': 7.3624091289007385, 'reg_lambda': 7.345919564972806, 'min_data_in_leaf': 999}. Best is trial 28 with value: 0.8562715759306572.\u001b[0m\n",
      "0it [00:00, ?it/s]"
     ]
    },
    {
     "name": "stdout",
     "output_type": "stream",
     "text": [
      "[LightGBM] [Warning] min_data_in_leaf is set=845, min_child_samples=20 will be ignored. Current value: min_data_in_leaf=845\n",
      "Training until validation scores don't improve for 400 rounds\n",
      "Early stopping, best iteration is:\n",
      "[1594]\tvalid_0's auc: 0.855513\n"
     ]
    },
    {
     "name": "stderr",
     "output_type": "stream",
     "text": [
      "1it [00:48, 48.25s/it]"
     ]
    },
    {
     "name": "stdout",
     "output_type": "stream",
     "text": [
      "[LightGBM] [Warning] min_data_in_leaf is set=845, min_child_samples=20 will be ignored. Current value: min_data_in_leaf=845\n",
      "Training until validation scores don't improve for 400 rounds\n",
      "Early stopping, best iteration is:\n",
      "[1564]\tvalid_0's auc: 0.856106\n"
     ]
    },
    {
     "name": "stderr",
     "output_type": "stream",
     "text": [
      "2it [01:34, 47.15s/it]"
     ]
    },
    {
     "name": "stdout",
     "output_type": "stream",
     "text": [
      "[LightGBM] [Warning] min_data_in_leaf is set=845, min_child_samples=20 will be ignored. Current value: min_data_in_leaf=845\n",
      "Training until validation scores don't improve for 400 rounds\n",
      "Early stopping, best iteration is:\n",
      "[1723]\tvalid_0's auc: 0.856302\n"
     ]
    },
    {
     "name": "stderr",
     "output_type": "stream",
     "text": [
      "3it [02:24, 48.41s/it]"
     ]
    },
    {
     "name": "stdout",
     "output_type": "stream",
     "text": [
      "[LightGBM] [Warning] min_data_in_leaf is set=845, min_child_samples=20 will be ignored. Current value: min_data_in_leaf=845\n",
      "Training until validation scores don't improve for 400 rounds\n",
      "Early stopping, best iteration is:\n",
      "[1512]\tvalid_0's auc: 0.857382\n"
     ]
    },
    {
     "name": "stderr",
     "output_type": "stream",
     "text": [
      "4it [03:10, 47.30s/it]"
     ]
    },
    {
     "name": "stdout",
     "output_type": "stream",
     "text": [
      "[LightGBM] [Warning] min_data_in_leaf is set=845, min_child_samples=20 will be ignored. Current value: min_data_in_leaf=845\n",
      "Training until validation scores don't improve for 400 rounds\n",
      "Early stopping, best iteration is:\n",
      "[1720]\tvalid_0's auc: 0.855178\n"
     ]
    },
    {
     "name": "stderr",
     "output_type": "stream",
     "text": [
      "5it [03:59, 47.98s/it]\n",
      "\u001b[32m[I 2021-10-21 12:21:40,777]\u001b[0m Trial 47 finished with value: 0.8560962025995966 and parameters: {'learning_rate': 0.10474337440569029, 'n_estimators': 2652, 'max_depth': 3, 'num_leaves': 20, 'reg_alpha': 8.180309057796494, 'reg_lambda': 6.780491768566462, 'min_data_in_leaf': 845}. Best is trial 28 with value: 0.8562715759306572.\u001b[0m\n",
      "0it [00:00, ?it/s]"
     ]
    },
    {
     "name": "stdout",
     "output_type": "stream",
     "text": [
      "[LightGBM] [Warning] min_data_in_leaf is set=796, min_child_samples=20 will be ignored. Current value: min_data_in_leaf=796\n",
      "Training until validation scores don't improve for 400 rounds\n",
      "Early stopping, best iteration is:\n",
      "[441]\tvalid_0's auc: 0.854921\n"
     ]
    },
    {
     "name": "stderr",
     "output_type": "stream",
     "text": [
      "1it [00:28, 28.94s/it]"
     ]
    },
    {
     "name": "stdout",
     "output_type": "stream",
     "text": [
      "[LightGBM] [Warning] min_data_in_leaf is set=796, min_child_samples=20 will be ignored. Current value: min_data_in_leaf=796\n",
      "Training until validation scores don't improve for 400 rounds\n",
      "Early stopping, best iteration is:\n",
      "[519]\tvalid_0's auc: 0.855021\n"
     ]
    },
    {
     "name": "stderr",
     "output_type": "stream",
     "text": [
      "2it [00:58, 29.29s/it]"
     ]
    },
    {
     "name": "stdout",
     "output_type": "stream",
     "text": [
      "[LightGBM] [Warning] min_data_in_leaf is set=796, min_child_samples=20 will be ignored. Current value: min_data_in_leaf=796\n",
      "Training until validation scores don't improve for 400 rounds\n",
      "Early stopping, best iteration is:\n",
      "[493]\tvalid_0's auc: 0.853762\n"
     ]
    },
    {
     "name": "stderr",
     "output_type": "stream",
     "text": [
      "3it [01:27, 29.32s/it]"
     ]
    },
    {
     "name": "stdout",
     "output_type": "stream",
     "text": [
      "[LightGBM] [Warning] min_data_in_leaf is set=796, min_child_samples=20 will be ignored. Current value: min_data_in_leaf=796\n",
      "Training until validation scores don't improve for 400 rounds\n",
      "Early stopping, best iteration is:\n",
      "[467]\tvalid_0's auc: 0.855419\n"
     ]
    },
    {
     "name": "stderr",
     "output_type": "stream",
     "text": [
      "4it [01:56, 28.96s/it]"
     ]
    },
    {
     "name": "stdout",
     "output_type": "stream",
     "text": [
      "[LightGBM] [Warning] min_data_in_leaf is set=796, min_child_samples=20 will be ignored. Current value: min_data_in_leaf=796\n",
      "Training until validation scores don't improve for 400 rounds\n",
      "Early stopping, best iteration is:\n",
      "[433]\tvalid_0's auc: 0.855614\n"
     ]
    },
    {
     "name": "stderr",
     "output_type": "stream",
     "text": [
      "5it [02:24, 28.82s/it]\n",
      "\u001b[32m[I 2021-10-21 12:24:05,096]\u001b[0m Trial 48 finished with value: 0.8549474148624767 and parameters: {'learning_rate': 0.19256154326683952, 'n_estimators': 3118, 'max_depth': 4, 'num_leaves': 37, 'reg_alpha': 8.763380599178408, 'reg_lambda': 9.461216529980607, 'min_data_in_leaf': 796}. Best is trial 28 with value: 0.8562715759306572.\u001b[0m\n",
      "0it [00:00, ?it/s]"
     ]
    },
    {
     "name": "stdout",
     "output_type": "stream",
     "text": [
      "[LightGBM] [Warning] min_data_in_leaf is set=734, min_child_samples=20 will be ignored. Current value: min_data_in_leaf=734\n",
      "Training until validation scores don't improve for 400 rounds\n",
      "Did not meet early stopping. Best iteration is:\n",
      "[3393]\tvalid_0's auc: 0.856524\n"
     ]
    },
    {
     "name": "stderr",
     "output_type": "stream",
     "text": [
      "1it [01:05, 65.75s/it]"
     ]
    },
    {
     "name": "stdout",
     "output_type": "stream",
     "text": [
      "[LightGBM] [Warning] min_data_in_leaf is set=734, min_child_samples=20 will be ignored. Current value: min_data_in_leaf=734\n",
      "Training until validation scores don't improve for 400 rounds\n",
      "Did not meet early stopping. Best iteration is:\n",
      "[3471]\tvalid_0's auc: 0.856606\n"
     ]
    },
    {
     "name": "stderr",
     "output_type": "stream",
     "text": [
      "2it [02:10, 64.88s/it]"
     ]
    },
    {
     "name": "stdout",
     "output_type": "stream",
     "text": [
      "[LightGBM] [Warning] min_data_in_leaf is set=734, min_child_samples=20 will be ignored. Current value: min_data_in_leaf=734\n",
      "Training until validation scores don't improve for 400 rounds\n",
      "Did not meet early stopping. Best iteration is:\n",
      "[3471]\tvalid_0's auc: 0.856684\n"
     ]
    },
    {
     "name": "stderr",
     "output_type": "stream",
     "text": [
      "3it [03:14, 64.76s/it]"
     ]
    },
    {
     "name": "stdout",
     "output_type": "stream",
     "text": [
      "[LightGBM] [Warning] min_data_in_leaf is set=734, min_child_samples=20 will be ignored. Current value: min_data_in_leaf=734\n",
      "Training until validation scores don't improve for 400 rounds\n",
      "Did not meet early stopping. Best iteration is:\n",
      "[3474]\tvalid_0's auc: 0.855972\n"
     ]
    },
    {
     "name": "stderr",
     "output_type": "stream",
     "text": [
      "4it [04:19, 64.61s/it]"
     ]
    },
    {
     "name": "stdout",
     "output_type": "stream",
     "text": [
      "[LightGBM] [Warning] min_data_in_leaf is set=734, min_child_samples=20 will be ignored. Current value: min_data_in_leaf=734\n",
      "Training until validation scores don't improve for 400 rounds\n",
      "Did not meet early stopping. Best iteration is:\n",
      "[3418]\tvalid_0's auc: 0.85563\n"
     ]
    },
    {
     "name": "stderr",
     "output_type": "stream",
     "text": [
      "5it [05:23, 64.70s/it]\n",
      "\u001b[32m[I 2021-10-21 12:29:28,817]\u001b[0m Trial 49 finished with value: 0.8562832511315509 and parameters: {'learning_rate': 0.08304922838965445, 'n_estimators': 3474, 'max_depth': 2, 'num_leaves': 14, 'reg_alpha': 6.083912094894776, 'reg_lambda': 8.086567803006943, 'min_data_in_leaf': 734}. Best is trial 49 with value: 0.8562832511315509.\u001b[0m\n",
      "0it [00:00, ?it/s]"
     ]
    },
    {
     "name": "stdout",
     "output_type": "stream",
     "text": [
      "[LightGBM] [Warning] min_data_in_leaf is set=635, min_child_samples=20 will be ignored. Current value: min_data_in_leaf=635\n",
      "Training until validation scores don't improve for 400 rounds\n",
      "Did not meet early stopping. Best iteration is:\n",
      "[3477]\tvalid_0's auc: 0.856813\n"
     ]
    },
    {
     "name": "stderr",
     "output_type": "stream",
     "text": [
      "1it [01:07, 67.07s/it]"
     ]
    },
    {
     "name": "stdout",
     "output_type": "stream",
     "text": [
      "[LightGBM] [Warning] min_data_in_leaf is set=635, min_child_samples=20 will be ignored. Current value: min_data_in_leaf=635\n",
      "Training until validation scores don't improve for 400 rounds\n",
      "Did not meet early stopping. Best iteration is:\n",
      "[3302]\tvalid_0's auc: 0.857476\n"
     ]
    },
    {
     "name": "stderr",
     "output_type": "stream",
     "text": [
      "2it [02:11, 65.41s/it]"
     ]
    },
    {
     "name": "stdout",
     "output_type": "stream",
     "text": [
      "[LightGBM] [Warning] min_data_in_leaf is set=635, min_child_samples=20 will be ignored. Current value: min_data_in_leaf=635\n",
      "Training until validation scores don't improve for 400 rounds\n",
      "Did not meet early stopping. Best iteration is:\n",
      "[3209]\tvalid_0's auc: 0.855851\n"
     ]
    },
    {
     "name": "stderr",
     "output_type": "stream",
     "text": [
      "3it [03:15, 64.73s/it]"
     ]
    },
    {
     "name": "stdout",
     "output_type": "stream",
     "text": [
      "[LightGBM] [Warning] min_data_in_leaf is set=635, min_child_samples=20 will be ignored. Current value: min_data_in_leaf=635\n",
      "Training until validation scores don't improve for 400 rounds\n",
      "Did not meet early stopping. Best iteration is:\n",
      "[3325]\tvalid_0's auc: 0.856786\n"
     ]
    },
    {
     "name": "stderr",
     "output_type": "stream",
     "text": [
      "4it [04:19, 64.48s/it]"
     ]
    },
    {
     "name": "stdout",
     "output_type": "stream",
     "text": [
      "[LightGBM] [Warning] min_data_in_leaf is set=635, min_child_samples=20 will be ignored. Current value: min_data_in_leaf=635\n",
      "Training until validation scores don't improve for 400 rounds\n",
      "Did not meet early stopping. Best iteration is:\n",
      "[3481]\tvalid_0's auc: 0.854656\n"
     ]
    },
    {
     "name": "stderr",
     "output_type": "stream",
     "text": [
      "5it [05:23, 64.77s/it]\n",
      "\u001b[32m[I 2021-10-21 12:34:52,876]\u001b[0m Trial 50 finished with value: 0.8563164483630222 and parameters: {'learning_rate': 0.09175036461943586, 'n_estimators': 3488, 'max_depth': 2, 'num_leaves': 99, 'reg_alpha': 6.099791080938338, 'reg_lambda': 7.9431171393928395, 'min_data_in_leaf': 635}. Best is trial 50 with value: 0.8563164483630222.\u001b[0m\n",
      "0it [00:00, ?it/s]"
     ]
    },
    {
     "name": "stdout",
     "output_type": "stream",
     "text": [
      "[LightGBM] [Warning] min_data_in_leaf is set=644, min_child_samples=20 will be ignored. Current value: min_data_in_leaf=644\n",
      "Training until validation scores don't improve for 400 rounds\n",
      "Early stopping, best iteration is:\n",
      "[2136]\tvalid_0's auc: 0.856987\n"
     ]
    },
    {
     "name": "stderr",
     "output_type": "stream",
     "text": [
      "1it [00:48, 48.98s/it]"
     ]
    },
    {
     "name": "stdout",
     "output_type": "stream",
     "text": [
      "[LightGBM] [Warning] min_data_in_leaf is set=644, min_child_samples=20 will be ignored. Current value: min_data_in_leaf=644\n",
      "Training until validation scores don't improve for 400 rounds\n",
      "Early stopping, best iteration is:\n",
      "[2490]\tvalid_0's auc: 0.85708\n"
     ]
    },
    {
     "name": "stderr",
     "output_type": "stream",
     "text": [
      "2it [01:43, 52.08s/it]"
     ]
    },
    {
     "name": "stdout",
     "output_type": "stream",
     "text": [
      "[LightGBM] [Warning] min_data_in_leaf is set=644, min_child_samples=20 will be ignored. Current value: min_data_in_leaf=644\n",
      "Training until validation scores don't improve for 400 rounds\n",
      "Early stopping, best iteration is:\n",
      "[2351]\tvalid_0's auc: 0.855653\n"
     ]
    },
    {
     "name": "stderr",
     "output_type": "stream",
     "text": [
      "3it [02:37, 53.00s/it]"
     ]
    },
    {
     "name": "stdout",
     "output_type": "stream",
     "text": [
      "[LightGBM] [Warning] min_data_in_leaf is set=644, min_child_samples=20 will be ignored. Current value: min_data_in_leaf=644\n",
      "Training until validation scores don't improve for 400 rounds\n",
      "Early stopping, best iteration is:\n",
      "[2513]\tvalid_0's auc: 0.856032\n"
     ]
    },
    {
     "name": "stderr",
     "output_type": "stream",
     "text": [
      "4it [03:31, 53.55s/it]"
     ]
    },
    {
     "name": "stdout",
     "output_type": "stream",
     "text": [
      "[LightGBM] [Warning] min_data_in_leaf is set=644, min_child_samples=20 will be ignored. Current value: min_data_in_leaf=644\n",
      "Training until validation scores don't improve for 400 rounds\n",
      "Early stopping, best iteration is:\n",
      "[2539]\tvalid_0's auc: 0.855291\n"
     ]
    },
    {
     "name": "stderr",
     "output_type": "stream",
     "text": [
      "5it [04:26, 53.34s/it]\n",
      "\u001b[32m[I 2021-10-21 12:39:19,799]\u001b[0m Trial 51 finished with value: 0.8562084573270973 and parameters: {'learning_rate': 0.1326418499297874, 'n_estimators': 3397, 'max_depth': 2, 'num_leaves': 90, 'reg_alpha': 3.371337964943989, 'reg_lambda': 6.44601675699056, 'min_data_in_leaf': 644}. Best is trial 50 with value: 0.8563164483630222.\u001b[0m\n",
      "0it [00:00, ?it/s]"
     ]
    },
    {
     "name": "stdout",
     "output_type": "stream",
     "text": [
      "[LightGBM] [Warning] min_data_in_leaf is set=503, min_child_samples=20 will be ignored. Current value: min_data_in_leaf=503\n",
      "Training until validation scores don't improve for 400 rounds\n",
      "Early stopping, best iteration is:\n",
      "[2545]\tvalid_0's auc: 0.856295\n"
     ]
    },
    {
     "name": "stderr",
     "output_type": "stream",
     "text": [
      "1it [00:56, 56.16s/it]"
     ]
    },
    {
     "name": "stdout",
     "output_type": "stream",
     "text": [
      "[LightGBM] [Warning] min_data_in_leaf is set=503, min_child_samples=20 will be ignored. Current value: min_data_in_leaf=503\n",
      "Training until validation scores don't improve for 400 rounds\n",
      "Early stopping, best iteration is:\n",
      "[2238]\tvalid_0's auc: 0.856839\n"
     ]
    },
    {
     "name": "stderr",
     "output_type": "stream",
     "text": [
      "2it [01:46, 52.61s/it]"
     ]
    },
    {
     "name": "stdout",
     "output_type": "stream",
     "text": [
      "[LightGBM] [Warning] min_data_in_leaf is set=503, min_child_samples=20 will be ignored. Current value: min_data_in_leaf=503\n",
      "Training until validation scores don't improve for 400 rounds\n",
      "Early stopping, best iteration is:\n",
      "[2581]\tvalid_0's auc: 0.855149\n"
     ]
    },
    {
     "name": "stderr",
     "output_type": "stream",
     "text": [
      "3it [02:42, 54.13s/it]"
     ]
    },
    {
     "name": "stdout",
     "output_type": "stream",
     "text": [
      "[LightGBM] [Warning] min_data_in_leaf is set=503, min_child_samples=20 will be ignored. Current value: min_data_in_leaf=503\n",
      "Training until validation scores don't improve for 400 rounds\n",
      "Early stopping, best iteration is:\n",
      "[2547]\tvalid_0's auc: 0.855475\n"
     ]
    },
    {
     "name": "stderr",
     "output_type": "stream",
     "text": [
      "4it [03:38, 54.87s/it]"
     ]
    },
    {
     "name": "stdout",
     "output_type": "stream",
     "text": [
      "[LightGBM] [Warning] min_data_in_leaf is set=503, min_child_samples=20 will be ignored. Current value: min_data_in_leaf=503\n",
      "Training until validation scores don't improve for 400 rounds\n",
      "Early stopping, best iteration is:\n",
      "[2065]\tvalid_0's auc: 0.857165\n"
     ]
    },
    {
     "name": "stderr",
     "output_type": "stream",
     "text": [
      "5it [04:25, 53.19s/it]\n",
      "\u001b[32m[I 2021-10-21 12:43:45,944]\u001b[0m Trial 52 finished with value: 0.8561844398724592 and parameters: {'learning_rate': 0.1270416274692382, 'n_estimators': 3449, 'max_depth': 2, 'num_leaves': 100, 'reg_alpha': 2.359254478767933, 'reg_lambda': 4.69984040126193, 'min_data_in_leaf': 503}. Best is trial 50 with value: 0.8563164483630222.\u001b[0m\n",
      "0it [00:00, ?it/s]"
     ]
    },
    {
     "name": "stdout",
     "output_type": "stream",
     "text": [
      "[LightGBM] [Warning] min_data_in_leaf is set=489, min_child_samples=20 will be ignored. Current value: min_data_in_leaf=489\n",
      "Training until validation scores don't improve for 400 rounds\n",
      "Early stopping, best iteration is:\n",
      "[2504]\tvalid_0's auc: 0.856054\n"
     ]
    },
    {
     "name": "stderr",
     "output_type": "stream",
     "text": [
      "1it [00:55, 55.32s/it]"
     ]
    },
    {
     "name": "stdout",
     "output_type": "stream",
     "text": [
      "[LightGBM] [Warning] min_data_in_leaf is set=489, min_child_samples=20 will be ignored. Current value: min_data_in_leaf=489\n",
      "Training until validation scores don't improve for 400 rounds\n",
      "Early stopping, best iteration is:\n",
      "[2714]\tvalid_0's auc: 0.856491\n"
     ]
    },
    {
     "name": "stderr",
     "output_type": "stream",
     "text": [
      "2it [01:52, 56.66s/it]"
     ]
    },
    {
     "name": "stdout",
     "output_type": "stream",
     "text": [
      "[LightGBM] [Warning] min_data_in_leaf is set=489, min_child_samples=20 will be ignored. Current value: min_data_in_leaf=489\n",
      "Training until validation scores don't improve for 400 rounds\n",
      "Early stopping, best iteration is:\n",
      "[2492]\tvalid_0's auc: 0.856523\n"
     ]
    },
    {
     "name": "stderr",
     "output_type": "stream",
     "text": [
      "3it [02:47, 55.59s/it]"
     ]
    },
    {
     "name": "stdout",
     "output_type": "stream",
     "text": [
      "[LightGBM] [Warning] min_data_in_leaf is set=489, min_child_samples=20 will be ignored. Current value: min_data_in_leaf=489\n",
      "Training until validation scores don't improve for 400 rounds\n",
      "Early stopping, best iteration is:\n",
      "[2732]\tvalid_0's auc: 0.856374\n"
     ]
    },
    {
     "name": "stderr",
     "output_type": "stream",
     "text": [
      "4it [03:45, 56.52s/it]"
     ]
    },
    {
     "name": "stdout",
     "output_type": "stream",
     "text": [
      "[LightGBM] [Warning] min_data_in_leaf is set=489, min_child_samples=20 will be ignored. Current value: min_data_in_leaf=489\n",
      "Training until validation scores don't improve for 400 rounds\n",
      "Early stopping, best iteration is:\n",
      "[2352]\tvalid_0's auc: 0.855738\n"
     ]
    },
    {
     "name": "stderr",
     "output_type": "stream",
     "text": [
      "5it [04:37, 55.49s/it]\n",
      "\u001b[32m[I 2021-10-21 12:48:23,625]\u001b[0m Trial 53 finished with value: 0.8562360609618708 and parameters: {'learning_rate': 0.12220077768663344, 'n_estimators': 3453, 'max_depth': 2, 'num_leaves': 99, 'reg_alpha': 1.949954358893308, 'reg_lambda': 4.5267845388847, 'min_data_in_leaf': 489}. Best is trial 50 with value: 0.8563164483630222.\u001b[0m\n",
      "0it [00:00, ?it/s]"
     ]
    },
    {
     "name": "stdout",
     "output_type": "stream",
     "text": [
      "[LightGBM] [Warning] min_data_in_leaf is set=567, min_child_samples=20 will be ignored. Current value: min_data_in_leaf=567\n",
      "Training until validation scores don't improve for 400 rounds\n",
      "Early stopping, best iteration is:\n",
      "[1909]\tvalid_0's auc: 0.85681\n"
     ]
    },
    {
     "name": "stderr",
     "output_type": "stream",
     "text": [
      "1it [00:45, 45.48s/it]"
     ]
    },
    {
     "name": "stdout",
     "output_type": "stream",
     "text": [
      "[LightGBM] [Warning] min_data_in_leaf is set=567, min_child_samples=20 will be ignored. Current value: min_data_in_leaf=567\n",
      "Training until validation scores don't improve for 400 rounds\n",
      "Early stopping, best iteration is:\n",
      "[1676]\tvalid_0's auc: 0.855253\n"
     ]
    },
    {
     "name": "stderr",
     "output_type": "stream",
     "text": [
      "2it [01:26, 43.01s/it]"
     ]
    },
    {
     "name": "stdout",
     "output_type": "stream",
     "text": [
      "[LightGBM] [Warning] min_data_in_leaf is set=567, min_child_samples=20 will be ignored. Current value: min_data_in_leaf=567\n",
      "Training until validation scores don't improve for 400 rounds\n",
      "Early stopping, best iteration is:\n",
      "[1802]\tvalid_0's auc: 0.85592\n"
     ]
    },
    {
     "name": "stderr",
     "output_type": "stream",
     "text": [
      "3it [02:10, 43.22s/it]"
     ]
    },
    {
     "name": "stdout",
     "output_type": "stream",
     "text": [
      "[LightGBM] [Warning] min_data_in_leaf is set=567, min_child_samples=20 will be ignored. Current value: min_data_in_leaf=567\n",
      "Training until validation scores don't improve for 400 rounds\n",
      "Early stopping, best iteration is:\n",
      "[1902]\tvalid_0's auc: 0.855539\n"
     ]
    },
    {
     "name": "stderr",
     "output_type": "stream",
     "text": [
      "4it [02:55, 43.84s/it]"
     ]
    },
    {
     "name": "stdout",
     "output_type": "stream",
     "text": [
      "[LightGBM] [Warning] min_data_in_leaf is set=567, min_child_samples=20 will be ignored. Current value: min_data_in_leaf=567\n",
      "Training until validation scores don't improve for 400 rounds\n",
      "Early stopping, best iteration is:\n",
      "[1808]\tvalid_0's auc: 0.85677\n"
     ]
    },
    {
     "name": "stderr",
     "output_type": "stream",
     "text": [
      "5it [03:39, 43.96s/it]\n",
      "\u001b[32m[I 2021-10-21 12:52:03,670]\u001b[0m Trial 54 finished with value: 0.8560582790204279 and parameters: {'learning_rate': 0.16444664109391982, 'n_estimators': 3519, 'max_depth': 2, 'num_leaves': 87, 'reg_alpha': 2.039235817967774, 'reg_lambda': 5.7311420064737275, 'min_data_in_leaf': 567}. Best is trial 50 with value: 0.8563164483630222.\u001b[0m\n",
      "0it [00:00, ?it/s]"
     ]
    },
    {
     "name": "stdout",
     "output_type": "stream",
     "text": [
      "[LightGBM] [Warning] min_data_in_leaf is set=630, min_child_samples=20 will be ignored. Current value: min_data_in_leaf=630\n",
      "Training until validation scores don't improve for 400 rounds\n",
      "Early stopping, best iteration is:\n",
      "[3273]\tvalid_0's auc: 0.855444\n"
     ]
    },
    {
     "name": "stderr",
     "output_type": "stream",
     "text": [
      "1it [01:07, 67.85s/it]"
     ]
    },
    {
     "name": "stdout",
     "output_type": "stream",
     "text": [
      "[LightGBM] [Warning] min_data_in_leaf is set=630, min_child_samples=20 will be ignored. Current value: min_data_in_leaf=630\n",
      "Training until validation scores don't improve for 400 rounds\n",
      "Did not meet early stopping. Best iteration is:\n",
      "[3341]\tvalid_0's auc: 0.856173\n"
     ]
    },
    {
     "name": "stderr",
     "output_type": "stream",
     "text": [
      "2it [02:15, 67.82s/it]"
     ]
    },
    {
     "name": "stdout",
     "output_type": "stream",
     "text": [
      "[LightGBM] [Warning] min_data_in_leaf is set=630, min_child_samples=20 will be ignored. Current value: min_data_in_leaf=630\n",
      "Training until validation scores don't improve for 400 rounds\n",
      "Did not meet early stopping. Best iteration is:\n",
      "[3340]\tvalid_0's auc: 0.857572\n"
     ]
    },
    {
     "name": "stderr",
     "output_type": "stream",
     "text": [
      "3it [03:23, 67.77s/it]"
     ]
    },
    {
     "name": "stdout",
     "output_type": "stream",
     "text": [
      "[LightGBM] [Warning] min_data_in_leaf is set=630, min_child_samples=20 will be ignored. Current value: min_data_in_leaf=630\n",
      "Training until validation scores don't improve for 400 rounds\n",
      "Early stopping, best iteration is:\n",
      "[2829]\tvalid_0's auc: 0.85672\n"
     ]
    },
    {
     "name": "stderr",
     "output_type": "stream",
     "text": [
      "4it [04:23, 64.57s/it]"
     ]
    },
    {
     "name": "stdout",
     "output_type": "stream",
     "text": [
      "[LightGBM] [Warning] min_data_in_leaf is set=630, min_child_samples=20 will be ignored. Current value: min_data_in_leaf=630\n",
      "Training until validation scores don't improve for 400 rounds\n",
      "Did not meet early stopping. Best iteration is:\n",
      "[3507]\tvalid_0's auc: 0.8555\n"
     ]
    },
    {
     "name": "stderr",
     "output_type": "stream",
     "text": [
      "5it [05:31, 66.26s/it]\n",
      "\u001b[32m[I 2021-10-21 12:57:35,220]\u001b[0m Trial 55 finished with value: 0.8562819331163862 and parameters: {'learning_rate': 0.09282702978742273, 'n_estimators': 3730, 'max_depth': 2, 'num_leaves': 90, 'reg_alpha': 3.7970332950484176, 'reg_lambda': 6.331359146028567, 'min_data_in_leaf': 630}. Best is trial 50 with value: 0.8563164483630222.\u001b[0m\n",
      "0it [00:00, ?it/s]"
     ]
    },
    {
     "name": "stdout",
     "output_type": "stream",
     "text": [
      "[LightGBM] [Warning] min_data_in_leaf is set=585, min_child_samples=20 will be ignored. Current value: min_data_in_leaf=585\n",
      "Training until validation scores don't improve for 400 rounds\n",
      "Did not meet early stopping. Best iteration is:\n",
      "[3496]\tvalid_0's auc: 0.856944\n"
     ]
    },
    {
     "name": "stderr",
     "output_type": "stream",
     "text": [
      "1it [01:08, 68.67s/it]"
     ]
    },
    {
     "name": "stdout",
     "output_type": "stream",
     "text": [
      "[LightGBM] [Warning] min_data_in_leaf is set=585, min_child_samples=20 will be ignored. Current value: min_data_in_leaf=585\n",
      "Training until validation scores don't improve for 400 rounds\n",
      "Did not meet early stopping. Best iteration is:\n",
      "[3481]\tvalid_0's auc: 0.855222\n"
     ]
    },
    {
     "name": "stderr",
     "output_type": "stream",
     "text": [
      "2it [02:16, 67.96s/it]"
     ]
    },
    {
     "name": "stdout",
     "output_type": "stream",
     "text": [
      "[LightGBM] [Warning] min_data_in_leaf is set=585, min_child_samples=20 will be ignored. Current value: min_data_in_leaf=585\n",
      "Training until validation scores don't improve for 400 rounds\n",
      "Did not meet early stopping. Best iteration is:\n",
      "[3628]\tvalid_0's auc: 0.856078\n"
     ]
    },
    {
     "name": "stderr",
     "output_type": "stream",
     "text": [
      "3it [03:24, 68.22s/it]"
     ]
    },
    {
     "name": "stdout",
     "output_type": "stream",
     "text": [
      "[LightGBM] [Warning] min_data_in_leaf is set=585, min_child_samples=20 will be ignored. Current value: min_data_in_leaf=585\n",
      "Training until validation scores don't improve for 400 rounds\n",
      "Did not meet early stopping. Best iteration is:\n",
      "[3563]\tvalid_0's auc: 0.856133\n"
     ]
    },
    {
     "name": "stderr",
     "output_type": "stream",
     "text": [
      "4it [04:32, 68.03s/it]"
     ]
    },
    {
     "name": "stdout",
     "output_type": "stream",
     "text": [
      "[LightGBM] [Warning] min_data_in_leaf is set=585, min_child_samples=20 will be ignored. Current value: min_data_in_leaf=585\n",
      "Training until validation scores don't improve for 400 rounds\n",
      "Did not meet early stopping. Best iteration is:\n",
      "[3333]\tvalid_0's auc: 0.857065\n"
     ]
    },
    {
     "name": "stderr",
     "output_type": "stream",
     "text": [
      "5it [05:39, 67.95s/it]\n",
      "\u001b[32m[I 2021-10-21 13:03:15,224]\u001b[0m Trial 56 finished with value: 0.8562884403600997 and parameters: {'learning_rate': 0.08758967641605048, 'n_estimators': 3726, 'max_depth': 2, 'num_leaves': 100, 'reg_alpha': 4.141973638095906, 'reg_lambda': 3.6202817125615168, 'min_data_in_leaf': 585}. Best is trial 50 with value: 0.8563164483630222.\u001b[0m\n",
      "0it [00:00, ?it/s]"
     ]
    },
    {
     "name": "stdout",
     "output_type": "stream",
     "text": [
      "[LightGBM] [Warning] min_data_in_leaf is set=593, min_child_samples=20 will be ignored. Current value: min_data_in_leaf=593\n",
      "Training until validation scores don't improve for 400 rounds\n",
      "Early stopping, best iteration is:\n",
      "[3870]\tvalid_0's auc: 0.856177\n"
     ]
    },
    {
     "name": "stderr",
     "output_type": "stream",
     "text": [
      "1it [01:19, 79.52s/it]"
     ]
    },
    {
     "name": "stdout",
     "output_type": "stream",
     "text": [
      "[LightGBM] [Warning] min_data_in_leaf is set=593, min_child_samples=20 will be ignored. Current value: min_data_in_leaf=593\n",
      "Training until validation scores don't improve for 400 rounds\n",
      "Early stopping, best iteration is:\n",
      "[3783]\tvalid_0's auc: 0.856694\n"
     ]
    },
    {
     "name": "stderr",
     "output_type": "stream",
     "text": [
      "2it [02:34, 76.68s/it]"
     ]
    },
    {
     "name": "stdout",
     "output_type": "stream",
     "text": [
      "[LightGBM] [Warning] min_data_in_leaf is set=593, min_child_samples=20 will be ignored. Current value: min_data_in_leaf=593\n",
      "Training until validation scores don't improve for 400 rounds\n",
      "Early stopping, best iteration is:\n",
      "[3413]\tvalid_0's auc: 0.856094\n"
     ]
    },
    {
     "name": "stderr",
     "output_type": "stream",
     "text": [
      "3it [03:43, 73.29s/it]"
     ]
    },
    {
     "name": "stdout",
     "output_type": "stream",
     "text": [
      "[LightGBM] [Warning] min_data_in_leaf is set=593, min_child_samples=20 will be ignored. Current value: min_data_in_leaf=593\n",
      "Training until validation scores don't improve for 400 rounds\n",
      "Early stopping, best iteration is:\n",
      "[4020]\tvalid_0's auc: 0.855624\n"
     ]
    },
    {
     "name": "stderr",
     "output_type": "stream",
     "text": [
      "4it [05:01, 75.31s/it]"
     ]
    },
    {
     "name": "stdout",
     "output_type": "stream",
     "text": [
      "[LightGBM] [Warning] min_data_in_leaf is set=593, min_child_samples=20 will be ignored. Current value: min_data_in_leaf=593\n",
      "Training until validation scores don't improve for 400 rounds\n",
      "Early stopping, best iteration is:\n",
      "[3626]\tvalid_0's auc: 0.856788\n"
     ]
    },
    {
     "name": "stderr",
     "output_type": "stream",
     "text": [
      "5it [06:14, 74.90s/it]\n",
      "\u001b[32m[I 2021-10-21 13:09:29,950]\u001b[0m Trial 57 finished with value: 0.856275593957999 and parameters: {'learning_rate': 0.08464001498664885, 'n_estimators': 4443, 'max_depth': 2, 'num_leaves': 82, 'reg_alpha': 4.107069617399143, 'reg_lambda': 3.503559176157957, 'min_data_in_leaf': 593}. Best is trial 50 with value: 0.8563164483630222.\u001b[0m\n",
      "0it [00:00, ?it/s]"
     ]
    },
    {
     "name": "stdout",
     "output_type": "stream",
     "text": [
      "[LightGBM] [Warning] min_data_in_leaf is set=592, min_child_samples=20 will be ignored. Current value: min_data_in_leaf=592\n",
      "Training until validation scores don't improve for 400 rounds\n",
      "Early stopping, best iteration is:\n",
      "[3656]\tvalid_0's auc: 0.856818\n"
     ]
    },
    {
     "name": "stderr",
     "output_type": "stream",
     "text": [
      "1it [01:15, 75.57s/it]"
     ]
    },
    {
     "name": "stdout",
     "output_type": "stream",
     "text": [
      "[LightGBM] [Warning] min_data_in_leaf is set=592, min_child_samples=20 will be ignored. Current value: min_data_in_leaf=592\n",
      "Training until validation scores don't improve for 400 rounds\n",
      "Early stopping, best iteration is:\n",
      "[3791]\tvalid_0's auc: 0.857057\n"
     ]
    },
    {
     "name": "stderr",
     "output_type": "stream",
     "text": [
      "2it [02:30, 75.14s/it]"
     ]
    },
    {
     "name": "stdout",
     "output_type": "stream",
     "text": [
      "[LightGBM] [Warning] min_data_in_leaf is set=592, min_child_samples=20 will be ignored. Current value: min_data_in_leaf=592\n",
      "Training until validation scores don't improve for 400 rounds\n",
      "Early stopping, best iteration is:\n",
      "[3861]\tvalid_0's auc: 0.857557\n"
     ]
    },
    {
     "name": "stderr",
     "output_type": "stream",
     "text": [
      "3it [03:46, 75.71s/it]"
     ]
    },
    {
     "name": "stdout",
     "output_type": "stream",
     "text": [
      "[LightGBM] [Warning] min_data_in_leaf is set=592, min_child_samples=20 will be ignored. Current value: min_data_in_leaf=592\n",
      "Training until validation scores don't improve for 400 rounds\n",
      "Early stopping, best iteration is:\n",
      "[3786]\tvalid_0's auc: 0.855081\n"
     ]
    },
    {
     "name": "stderr",
     "output_type": "stream",
     "text": [
      "4it [05:01, 75.41s/it]"
     ]
    },
    {
     "name": "stdout",
     "output_type": "stream",
     "text": [
      "[LightGBM] [Warning] min_data_in_leaf is set=592, min_child_samples=20 will be ignored. Current value: min_data_in_leaf=592\n",
      "Training until validation scores don't improve for 400 rounds\n",
      "Early stopping, best iteration is:\n",
      "[3973]\tvalid_0's auc: 0.855308\n"
     ]
    },
    {
     "name": "stderr",
     "output_type": "stream",
     "text": [
      "5it [06:19, 75.95s/it]\n",
      "\u001b[32m[I 2021-10-21 13:15:49,922]\u001b[0m Trial 58 finished with value: 0.8563642309651686 and parameters: {'learning_rate': 0.08697465911179744, 'n_estimators': 4565, 'max_depth': 2, 'num_leaves': 85, 'reg_alpha': 4.2395421854514055, 'reg_lambda': 3.4669998025411233, 'min_data_in_leaf': 592}. Best is trial 58 with value: 0.8563642309651686.\u001b[0m\n",
      "0it [00:00, ?it/s]"
     ]
    },
    {
     "name": "stdout",
     "output_type": "stream",
     "text": [
      "[LightGBM] [Warning] min_data_in_leaf is set=585, min_child_samples=20 will be ignored. Current value: min_data_in_leaf=585\n",
      "Training until validation scores don't improve for 400 rounds\n",
      "Early stopping, best iteration is:\n",
      "[3325]\tvalid_0's auc: 0.856\n"
     ]
    },
    {
     "name": "stderr",
     "output_type": "stream",
     "text": [
      "1it [01:10, 70.62s/it]"
     ]
    },
    {
     "name": "stdout",
     "output_type": "stream",
     "text": [
      "[LightGBM] [Warning] min_data_in_leaf is set=585, min_child_samples=20 will be ignored. Current value: min_data_in_leaf=585\n",
      "Training until validation scores don't improve for 400 rounds\n",
      "Early stopping, best iteration is:\n",
      "[3865]\tvalid_0's auc: 0.855885\n"
     ]
    },
    {
     "name": "stderr",
     "output_type": "stream",
     "text": [
      "2it [02:27, 74.26s/it]"
     ]
    },
    {
     "name": "stdout",
     "output_type": "stream",
     "text": [
      "[LightGBM] [Warning] min_data_in_leaf is set=585, min_child_samples=20 will be ignored. Current value: min_data_in_leaf=585\n",
      "Training until validation scores don't improve for 400 rounds\n",
      "Early stopping, best iteration is:\n",
      "[3462]\tvalid_0's auc: 0.855983\n"
     ]
    },
    {
     "name": "stderr",
     "output_type": "stream",
     "text": [
      "3it [03:37, 72.35s/it]"
     ]
    },
    {
     "name": "stdout",
     "output_type": "stream",
     "text": [
      "[LightGBM] [Warning] min_data_in_leaf is set=585, min_child_samples=20 will be ignored. Current value: min_data_in_leaf=585\n",
      "Training until validation scores don't improve for 400 rounds\n",
      "Early stopping, best iteration is:\n",
      "[3536]\tvalid_0's auc: 0.855952\n"
     ]
    },
    {
     "name": "stderr",
     "output_type": "stream",
     "text": [
      "4it [04:48, 71.80s/it]"
     ]
    },
    {
     "name": "stdout",
     "output_type": "stream",
     "text": [
      "[LightGBM] [Warning] min_data_in_leaf is set=585, min_child_samples=20 will be ignored. Current value: min_data_in_leaf=585\n",
      "Training until validation scores don't improve for 400 rounds\n",
      "Early stopping, best iteration is:\n",
      "[3824]\tvalid_0's auc: 0.857347\n"
     ]
    },
    {
     "name": "stderr",
     "output_type": "stream",
     "text": [
      "5it [06:04, 72.95s/it]\n",
      "\u001b[32m[I 2021-10-21 13:21:54,875]\u001b[0m Trial 59 finished with value: 0.8562334489728304 and parameters: {'learning_rate': 0.09054516275731689, 'n_estimators': 4551, 'max_depth': 2, 'num_leaves': 83, 'reg_alpha': 4.063744277429487, 'reg_lambda': 3.3116998463708245, 'min_data_in_leaf': 585}. Best is trial 58 with value: 0.8563642309651686.\u001b[0m\n",
      "0it [00:00, ?it/s]"
     ]
    },
    {
     "name": "stdout",
     "output_type": "stream",
     "text": [
      "[LightGBM] [Warning] min_data_in_leaf is set=384, min_child_samples=20 will be ignored. Current value: min_data_in_leaf=384\n",
      "Training until validation scores don't improve for 400 rounds\n",
      "Early stopping, best iteration is:\n",
      "[2882]\tvalid_0's auc: 0.856733\n"
     ]
    },
    {
     "name": "stderr",
     "output_type": "stream",
     "text": [
      "1it [01:02, 62.89s/it]"
     ]
    },
    {
     "name": "stdout",
     "output_type": "stream",
     "text": [
      "[LightGBM] [Warning] min_data_in_leaf is set=384, min_child_samples=20 will be ignored. Current value: min_data_in_leaf=384\n",
      "Training until validation scores don't improve for 400 rounds\n",
      "Early stopping, best iteration is:\n",
      "[2731]\tvalid_0's auc: 0.855808\n"
     ]
    },
    {
     "name": "stderr",
     "output_type": "stream",
     "text": [
      "2it [02:00, 60.07s/it]"
     ]
    },
    {
     "name": "stdout",
     "output_type": "stream",
     "text": [
      "[LightGBM] [Warning] min_data_in_leaf is set=384, min_child_samples=20 will be ignored. Current value: min_data_in_leaf=384\n",
      "Training until validation scores don't improve for 400 rounds\n",
      "Early stopping, best iteration is:\n",
      "[3109]\tvalid_0's auc: 0.855248\n"
     ]
    },
    {
     "name": "stderr",
     "output_type": "stream",
     "text": [
      "3it [03:05, 61.96s/it]"
     ]
    },
    {
     "name": "stdout",
     "output_type": "stream",
     "text": [
      "[LightGBM] [Warning] min_data_in_leaf is set=384, min_child_samples=20 will be ignored. Current value: min_data_in_leaf=384\n",
      "Training until validation scores don't improve for 400 rounds\n",
      "Early stopping, best iteration is:\n",
      "[3306]\tvalid_0's auc: 0.856587\n"
     ]
    },
    {
     "name": "stderr",
     "output_type": "stream",
     "text": [
      "4it [04:12, 64.08s/it]"
     ]
    },
    {
     "name": "stdout",
     "output_type": "stream",
     "text": [
      "[LightGBM] [Warning] min_data_in_leaf is set=384, min_child_samples=20 will be ignored. Current value: min_data_in_leaf=384\n",
      "Training until validation scores don't improve for 400 rounds\n",
      "Early stopping, best iteration is:\n",
      "[2588]\tvalid_0's auc: 0.857116\n"
     ]
    },
    {
     "name": "stderr",
     "output_type": "stream",
     "text": [
      "5it [05:08, 61.72s/it]\n",
      "\u001b[32m[I 2021-10-21 13:27:03,735]\u001b[0m Trial 60 finished with value: 0.8562983334945422 and parameters: {'learning_rate': 0.10409706879519079, 'n_estimators': 4468, 'max_depth': 2, 'num_leaves': 94, 'reg_alpha': 5.3861735905804125, 'reg_lambda': 3.6868984653962102, 'min_data_in_leaf': 384}. Best is trial 58 with value: 0.8563642309651686.\u001b[0m\n",
      "0it [00:00, ?it/s]"
     ]
    },
    {
     "name": "stdout",
     "output_type": "stream",
     "text": [
      "[LightGBM] [Warning] min_data_in_leaf is set=409, min_child_samples=20 will be ignored. Current value: min_data_in_leaf=409\n",
      "Training until validation scores don't improve for 400 rounds\n",
      "Early stopping, best iteration is:\n",
      "[1584]\tvalid_0's auc: 0.856221\n"
     ]
    },
    {
     "name": "stderr",
     "output_type": "stream",
     "text": [
      "1it [00:41, 41.09s/it]"
     ]
    },
    {
     "name": "stdout",
     "output_type": "stream",
     "text": [
      "[LightGBM] [Warning] min_data_in_leaf is set=409, min_child_samples=20 will be ignored. Current value: min_data_in_leaf=409\n",
      "Training until validation scores don't improve for 400 rounds\n",
      "Early stopping, best iteration is:\n",
      "[1569]\tvalid_0's auc: 0.856455\n"
     ]
    },
    {
     "name": "stderr",
     "output_type": "stream",
     "text": [
      "2it [01:20, 40.12s/it]"
     ]
    },
    {
     "name": "stdout",
     "output_type": "stream",
     "text": [
      "[LightGBM] [Warning] min_data_in_leaf is set=409, min_child_samples=20 will be ignored. Current value: min_data_in_leaf=409\n",
      "Training until validation scores don't improve for 400 rounds\n",
      "Early stopping, best iteration is:\n",
      "[1498]\tvalid_0's auc: 0.856519\n"
     ]
    },
    {
     "name": "stderr",
     "output_type": "stream",
     "text": [
      "3it [01:59, 39.59s/it]"
     ]
    },
    {
     "name": "stdout",
     "output_type": "stream",
     "text": [
      "[LightGBM] [Warning] min_data_in_leaf is set=409, min_child_samples=20 will be ignored. Current value: min_data_in_leaf=409\n",
      "Training until validation scores don't improve for 400 rounds\n",
      "Early stopping, best iteration is:\n",
      "[1759]\tvalid_0's auc: 0.855232\n"
     ]
    },
    {
     "name": "stderr",
     "output_type": "stream",
     "text": [
      "4it [02:42, 40.81s/it]"
     ]
    },
    {
     "name": "stdout",
     "output_type": "stream",
     "text": [
      "[LightGBM] [Warning] min_data_in_leaf is set=409, min_child_samples=20 will be ignored. Current value: min_data_in_leaf=409\n",
      "Training until validation scores don't improve for 400 rounds\n",
      "Early stopping, best iteration is:\n",
      "[1520]\tvalid_0's auc: 0.855425\n"
     ]
    },
    {
     "name": "stderr",
     "output_type": "stream",
     "text": [
      "5it [03:21, 40.27s/it]\n",
      "\u001b[32m[I 2021-10-21 13:30:25,304]\u001b[0m Trial 61 finished with value: 0.8559702994639983 and parameters: {'learning_rate': 0.18665535432341296, 'n_estimators': 4197, 'max_depth': 2, 'num_leaves': 95, 'reg_alpha': 5.340694562971295, 'reg_lambda': 2.16848421375429, 'min_data_in_leaf': 409}. Best is trial 58 with value: 0.8563642309651686.\u001b[0m\n",
      "0it [00:00, ?it/s]"
     ]
    },
    {
     "name": "stdout",
     "output_type": "stream",
     "text": [
      "[LightGBM] [Warning] min_data_in_leaf is set=545, min_child_samples=20 will be ignored. Current value: min_data_in_leaf=545\n",
      "Training until validation scores don't improve for 400 rounds\n",
      "Early stopping, best iteration is:\n",
      "[2528]\tvalid_0's auc: 0.855895\n"
     ]
    },
    {
     "name": "stderr",
     "output_type": "stream",
     "text": [
      "1it [00:59, 59.89s/it]"
     ]
    },
    {
     "name": "stdout",
     "output_type": "stream",
     "text": [
      "[LightGBM] [Warning] min_data_in_leaf is set=545, min_child_samples=20 will be ignored. Current value: min_data_in_leaf=545\n",
      "Training until validation scores don't improve for 400 rounds\n",
      "Early stopping, best iteration is:\n",
      "[2794]\tvalid_0's auc: 0.854706\n"
     ]
    },
    {
     "name": "stderr",
     "output_type": "stream",
     "text": [
      "2it [01:58, 59.41s/it]"
     ]
    },
    {
     "name": "stdout",
     "output_type": "stream",
     "text": [
      "[LightGBM] [Warning] min_data_in_leaf is set=545, min_child_samples=20 will be ignored. Current value: min_data_in_leaf=545\n",
      "Training until validation scores don't improve for 400 rounds\n",
      "Early stopping, best iteration is:\n",
      "[2591]\tvalid_0's auc: 0.857361\n"
     ]
    },
    {
     "name": "stderr",
     "output_type": "stream",
     "text": [
      "3it [02:55, 58.04s/it]"
     ]
    },
    {
     "name": "stdout",
     "output_type": "stream",
     "text": [
      "[LightGBM] [Warning] min_data_in_leaf is set=545, min_child_samples=20 will be ignored. Current value: min_data_in_leaf=545\n",
      "Training until validation scores don't improve for 400 rounds\n",
      "Early stopping, best iteration is:\n",
      "[3486]\tvalid_0's auc: 0.856752\n"
     ]
    },
    {
     "name": "stderr",
     "output_type": "stream",
     "text": [
      "4it [04:05, 62.75s/it]"
     ]
    },
    {
     "name": "stdout",
     "output_type": "stream",
     "text": [
      "[LightGBM] [Warning] min_data_in_leaf is set=545, min_child_samples=20 will be ignored. Current value: min_data_in_leaf=545\n",
      "Training until validation scores don't improve for 400 rounds\n",
      "Early stopping, best iteration is:\n",
      "[3034]\tvalid_0's auc: 0.856463\n"
     ]
    },
    {
     "name": "stderr",
     "output_type": "stream",
     "text": [
      "5it [05:09, 61.96s/it]\n",
      "\u001b[32m[I 2021-10-21 13:35:35,360]\u001b[0m Trial 62 finished with value: 0.856235598560523 and parameters: {'learning_rate': 0.10638849173713659, 'n_estimators': 4795, 'max_depth': 2, 'num_leaves': 76, 'reg_alpha': 5.514359195163057, 'reg_lambda': 4.01575524986141, 'min_data_in_leaf': 545}. Best is trial 58 with value: 0.8563642309651686.\u001b[0m\n",
      "0it [00:00, ?it/s]"
     ]
    },
    {
     "name": "stdout",
     "output_type": "stream",
     "text": [
      "[LightGBM] [Warning] min_data_in_leaf is set=350, min_child_samples=20 will be ignored. Current value: min_data_in_leaf=350\n",
      "Training until validation scores don't improve for 400 rounds\n",
      "Early stopping, best iteration is:\n",
      "[3371]\tvalid_0's auc: 0.855623\n"
     ]
    },
    {
     "name": "stderr",
     "output_type": "stream",
     "text": [
      "1it [01:08, 68.47s/it]"
     ]
    },
    {
     "name": "stdout",
     "output_type": "stream",
     "text": [
      "[LightGBM] [Warning] min_data_in_leaf is set=350, min_child_samples=20 will be ignored. Current value: min_data_in_leaf=350\n",
      "Training until validation scores don't improve for 400 rounds\n",
      "Early stopping, best iteration is:\n",
      "[3320]\tvalid_0's auc: 0.856092\n"
     ]
    },
    {
     "name": "stderr",
     "output_type": "stream",
     "text": [
      "2it [02:16, 68.11s/it]"
     ]
    },
    {
     "name": "stdout",
     "output_type": "stream",
     "text": [
      "[LightGBM] [Warning] min_data_in_leaf is set=350, min_child_samples=20 will be ignored. Current value: min_data_in_leaf=350\n",
      "Training until validation scores don't improve for 400 rounds\n",
      "Did not meet early stopping. Best iteration is:\n",
      "[4328]\tvalid_0's auc: 0.856785\n"
     ]
    },
    {
     "name": "stderr",
     "output_type": "stream",
     "text": [
      "3it [03:36, 73.53s/it]"
     ]
    },
    {
     "name": "stdout",
     "output_type": "stream",
     "text": [
      "[LightGBM] [Warning] min_data_in_leaf is set=350, min_child_samples=20 will be ignored. Current value: min_data_in_leaf=350\n",
      "Training until validation scores don't improve for 400 rounds\n",
      "Early stopping, best iteration is:\n",
      "[3492]\tvalid_0's auc: 0.856086\n"
     ]
    },
    {
     "name": "stderr",
     "output_type": "stream",
     "text": [
      "4it [04:47, 72.46s/it]"
     ]
    },
    {
     "name": "stdout",
     "output_type": "stream",
     "text": [
      "[LightGBM] [Warning] min_data_in_leaf is set=350, min_child_samples=20 will be ignored. Current value: min_data_in_leaf=350\n",
      "Training until validation scores don't improve for 400 rounds\n",
      "Early stopping, best iteration is:\n",
      "[4037]\tvalid_0's auc: 0.857046\n"
     ]
    },
    {
     "name": "stderr",
     "output_type": "stream",
     "text": [
      "5it [06:07, 73.42s/it]\n",
      "\u001b[32m[I 2021-10-21 13:41:42,740]\u001b[0m Trial 63 finished with value: 0.8563263955829632 and parameters: {'learning_rate': 0.08867626003809267, 'n_estimators': 4451, 'max_depth': 2, 'num_leaves': 94, 'reg_alpha': 4.253613565307115, 'reg_lambda': 3.8659824338019817, 'min_data_in_leaf': 350}. Best is trial 58 with value: 0.8563642309651686.\u001b[0m\n",
      "0it [00:00, ?it/s]"
     ]
    },
    {
     "name": "stdout",
     "output_type": "stream",
     "text": [
      "[LightGBM] [Warning] min_data_in_leaf is set=344, min_child_samples=20 will be ignored. Current value: min_data_in_leaf=344\n",
      "Training until validation scores don't improve for 400 rounds\n",
      "Did not meet early stopping. Best iteration is:\n",
      "[3857]\tvalid_0's auc: 0.855913\n"
     ]
    },
    {
     "name": "stderr",
     "output_type": "stream",
     "text": [
      "1it [01:14, 74.82s/it]"
     ]
    },
    {
     "name": "stdout",
     "output_type": "stream",
     "text": [
      "[LightGBM] [Warning] min_data_in_leaf is set=344, min_child_samples=20 will be ignored. Current value: min_data_in_leaf=344\n",
      "Training until validation scores don't improve for 400 rounds\n",
      "Did not meet early stopping. Best iteration is:\n",
      "[3857]\tvalid_0's auc: 0.855159\n"
     ]
    },
    {
     "name": "stderr",
     "output_type": "stream",
     "text": [
      "2it [02:25, 72.44s/it]"
     ]
    },
    {
     "name": "stdout",
     "output_type": "stream",
     "text": [
      "[LightGBM] [Warning] min_data_in_leaf is set=344, min_child_samples=20 will be ignored. Current value: min_data_in_leaf=344\n",
      "Training until validation scores don't improve for 400 rounds\n",
      "Did not meet early stopping. Best iteration is:\n",
      "[3857]\tvalid_0's auc: 0.857198\n"
     ]
    },
    {
     "name": "stderr",
     "output_type": "stream",
     "text": [
      "3it [03:37, 71.99s/it]"
     ]
    },
    {
     "name": "stdout",
     "output_type": "stream",
     "text": [
      "[LightGBM] [Warning] min_data_in_leaf is set=344, min_child_samples=20 will be ignored. Current value: min_data_in_leaf=344\n",
      "Training until validation scores don't improve for 400 rounds\n",
      "Did not meet early stopping. Best iteration is:\n",
      "[3857]\tvalid_0's auc: 0.85638\n"
     ]
    },
    {
     "name": "stderr",
     "output_type": "stream",
     "text": [
      "4it [04:48, 71.64s/it]"
     ]
    },
    {
     "name": "stdout",
     "output_type": "stream",
     "text": [
      "[LightGBM] [Warning] min_data_in_leaf is set=344, min_child_samples=20 will be ignored. Current value: min_data_in_leaf=344\n",
      "Training until validation scores don't improve for 400 rounds\n",
      "Did not meet early stopping. Best iteration is:\n",
      "[3856]\tvalid_0's auc: 0.856104\n"
     ]
    },
    {
     "name": "stderr",
     "output_type": "stream",
     "text": [
      "5it [05:59, 71.91s/it]\n",
      "\u001b[32m[I 2021-10-21 13:47:42,574]\u001b[0m Trial 64 finished with value: 0.8561506938653525 and parameters: {'learning_rate': 0.052094804948011664, 'n_estimators': 3857, 'max_depth': 2, 'num_leaves': 95, 'reg_alpha': 3.5989964806723096, 'reg_lambda': 2.9335361473102726, 'min_data_in_leaf': 344}. Best is trial 58 with value: 0.8563642309651686.\u001b[0m\n",
      "0it [00:00, ?it/s]"
     ]
    },
    {
     "name": "stdout",
     "output_type": "stream",
     "text": [
      "[LightGBM] [Warning] min_data_in_leaf is set=364, min_child_samples=20 will be ignored. Current value: min_data_in_leaf=364\n",
      "Training until validation scores don't improve for 400 rounds\n",
      "Early stopping, best iteration is:\n",
      "[2183]\tvalid_0's auc: 0.856234\n"
     ]
    },
    {
     "name": "stderr",
     "output_type": "stream",
     "text": [
      "1it [00:51, 51.65s/it]"
     ]
    },
    {
     "name": "stdout",
     "output_type": "stream",
     "text": [
      "[LightGBM] [Warning] min_data_in_leaf is set=364, min_child_samples=20 will be ignored. Current value: min_data_in_leaf=364\n",
      "Training until validation scores don't improve for 400 rounds\n",
      "Early stopping, best iteration is:\n",
      "[2366]\tvalid_0's auc: 0.855496\n"
     ]
    },
    {
     "name": "stderr",
     "output_type": "stream",
     "text": [
      "2it [01:44, 52.10s/it]"
     ]
    },
    {
     "name": "stdout",
     "output_type": "stream",
     "text": [
      "[LightGBM] [Warning] min_data_in_leaf is set=364, min_child_samples=20 will be ignored. Current value: min_data_in_leaf=364\n",
      "Training until validation scores don't improve for 400 rounds\n",
      "Early stopping, best iteration is:\n",
      "[2122]\tvalid_0's auc: 0.856111\n"
     ]
    },
    {
     "name": "stderr",
     "output_type": "stream",
     "text": [
      "3it [02:33, 50.84s/it]"
     ]
    },
    {
     "name": "stdout",
     "output_type": "stream",
     "text": [
      "[LightGBM] [Warning] min_data_in_leaf is set=364, min_child_samples=20 will be ignored. Current value: min_data_in_leaf=364\n",
      "Training until validation scores don't improve for 400 rounds\n",
      "Early stopping, best iteration is:\n",
      "[2005]\tvalid_0's auc: 0.85522\n"
     ]
    },
    {
     "name": "stderr",
     "output_type": "stream",
     "text": [
      "4it [03:20, 49.51s/it]"
     ]
    },
    {
     "name": "stdout",
     "output_type": "stream",
     "text": [
      "[LightGBM] [Warning] min_data_in_leaf is set=364, min_child_samples=20 will be ignored. Current value: min_data_in_leaf=364\n",
      "Training until validation scores don't improve for 400 rounds\n",
      "Early stopping, best iteration is:\n",
      "[2065]\tvalid_0's auc: 0.85751\n"
     ]
    },
    {
     "name": "stderr",
     "output_type": "stream",
     "text": [
      "5it [04:09, 49.90s/it]\n",
      "\u001b[32m[I 2021-10-21 13:51:52,305]\u001b[0m Trial 65 finished with value: 0.8561142844957456 and parameters: {'learning_rate': 0.14325937220318455, 'n_estimators': 4715, 'max_depth': 2, 'num_leaves': 67, 'reg_alpha': 4.6528803392584726, 'reg_lambda': 3.914126971558199, 'min_data_in_leaf': 364}. Best is trial 58 with value: 0.8563642309651686.\u001b[0m\n",
      "0it [00:00, ?it/s]"
     ]
    },
    {
     "name": "stdout",
     "output_type": "stream",
     "text": [
      "[LightGBM] [Warning] min_data_in_leaf is set=273, min_child_samples=20 will be ignored. Current value: min_data_in_leaf=273\n",
      "Training until validation scores don't improve for 400 rounds\n",
      "Early stopping, best iteration is:\n",
      "[2519]\tvalid_0's auc: 0.855916\n"
     ]
    },
    {
     "name": "stderr",
     "output_type": "stream",
     "text": [
      "1it [00:57, 57.18s/it]"
     ]
    },
    {
     "name": "stdout",
     "output_type": "stream",
     "text": [
      "[LightGBM] [Warning] min_data_in_leaf is set=273, min_child_samples=20 will be ignored. Current value: min_data_in_leaf=273\n",
      "Training until validation scores don't improve for 400 rounds\n",
      "Early stopping, best iteration is:\n",
      "[2605]\tvalid_0's auc: 0.856403\n"
     ]
    },
    {
     "name": "stderr",
     "output_type": "stream",
     "text": [
      "2it [01:53, 56.73s/it]"
     ]
    },
    {
     "name": "stdout",
     "output_type": "stream",
     "text": [
      "[LightGBM] [Warning] min_data_in_leaf is set=273, min_child_samples=20 will be ignored. Current value: min_data_in_leaf=273\n",
      "Training until validation scores don't improve for 400 rounds\n",
      "Early stopping, best iteration is:\n",
      "[3090]\tvalid_0's auc: 0.855787\n"
     ]
    },
    {
     "name": "stderr",
     "output_type": "stream",
     "text": [
      "3it [02:58, 60.26s/it]"
     ]
    },
    {
     "name": "stdout",
     "output_type": "stream",
     "text": [
      "[LightGBM] [Warning] min_data_in_leaf is set=273, min_child_samples=20 will be ignored. Current value: min_data_in_leaf=273\n",
      "Training until validation scores don't improve for 400 rounds\n",
      "Early stopping, best iteration is:\n",
      "[3065]\tvalid_0's auc: 0.856706\n"
     ]
    },
    {
     "name": "stderr",
     "output_type": "stream",
     "text": [
      "4it [04:01, 61.62s/it]"
     ]
    },
    {
     "name": "stdout",
     "output_type": "stream",
     "text": [
      "[LightGBM] [Warning] min_data_in_leaf is set=273, min_child_samples=20 will be ignored. Current value: min_data_in_leaf=273\n",
      "Training until validation scores don't improve for 400 rounds\n",
      "Early stopping, best iteration is:\n",
      "[3297]\tvalid_0's auc: 0.856488\n"
     ]
    },
    {
     "name": "stderr",
     "output_type": "stream",
     "text": [
      "5it [05:09, 61.95s/it]\n",
      "\u001b[32m[I 2021-10-21 13:57:02,292]\u001b[0m Trial 66 finished with value: 0.85625986613282 and parameters: {'learning_rate': 0.10821523518063737, 'n_estimators': 4363, 'max_depth': 2, 'num_leaves': 89, 'reg_alpha': 5.935664681679146, 'reg_lambda': 3.747173694300291, 'min_data_in_leaf': 273}. Best is trial 58 with value: 0.8563642309651686.\u001b[0m\n",
      "0it [00:00, ?it/s]"
     ]
    },
    {
     "name": "stdout",
     "output_type": "stream",
     "text": [
      "[LightGBM] [Warning] min_data_in_leaf is set=457, min_child_samples=20 will be ignored. Current value: min_data_in_leaf=457\n",
      "Training until validation scores don't improve for 400 rounds\n",
      "Early stopping, best iteration is:\n",
      "[1994]\tvalid_0's auc: 0.85487\n"
     ]
    },
    {
     "name": "stderr",
     "output_type": "stream",
     "text": [
      "1it [00:57, 57.92s/it]"
     ]
    },
    {
     "name": "stdout",
     "output_type": "stream",
     "text": [
      "[LightGBM] [Warning] min_data_in_leaf is set=457, min_child_samples=20 will be ignored. Current value: min_data_in_leaf=457\n",
      "Training until validation scores don't improve for 400 rounds\n",
      "Early stopping, best iteration is:\n",
      "[1742]\tvalid_0's auc: 0.85524\n"
     ]
    },
    {
     "name": "stderr",
     "output_type": "stream",
     "text": [
      "2it [01:48, 53.38s/it]"
     ]
    },
    {
     "name": "stdout",
     "output_type": "stream",
     "text": [
      "[LightGBM] [Warning] min_data_in_leaf is set=457, min_child_samples=20 will be ignored. Current value: min_data_in_leaf=457\n",
      "Training until validation scores don't improve for 400 rounds\n",
      "Early stopping, best iteration is:\n",
      "[1835]\tvalid_0's auc: 0.857612\n"
     ]
    },
    {
     "name": "stderr",
     "output_type": "stream",
     "text": [
      "3it [02:40, 52.95s/it]"
     ]
    },
    {
     "name": "stdout",
     "output_type": "stream",
     "text": [
      "[LightGBM] [Warning] min_data_in_leaf is set=457, min_child_samples=20 will be ignored. Current value: min_data_in_leaf=457\n",
      "Training until validation scores don't improve for 400 rounds\n",
      "Early stopping, best iteration is:\n",
      "[2096]\tvalid_0's auc: 0.856969\n"
     ]
    },
    {
     "name": "stderr",
     "output_type": "stream",
     "text": [
      "4it [03:37, 54.61s/it]"
     ]
    },
    {
     "name": "stdout",
     "output_type": "stream",
     "text": [
      "[LightGBM] [Warning] min_data_in_leaf is set=457, min_child_samples=20 will be ignored. Current value: min_data_in_leaf=457\n",
      "Training until validation scores don't improve for 400 rounds\n",
      "Early stopping, best iteration is:\n",
      "[2026]\tvalid_0's auc: 0.855986\n"
     ]
    },
    {
     "name": "stderr",
     "output_type": "stream",
     "text": [
      "5it [04:33, 54.71s/it]\n",
      "\u001b[32m[I 2021-10-21 14:01:36,106]\u001b[0m Trial 67 finished with value: 0.8561354674355055 and parameters: {'learning_rate': 0.08591410844008532, 'n_estimators': 4106, 'max_depth': 3, 'num_leaves': 86, 'reg_alpha': 3.332185307986336, 'reg_lambda': 2.4902841580666406, 'min_data_in_leaf': 457}. Best is trial 58 with value: 0.8563642309651686.\u001b[0m\n",
      "0it [00:00, ?it/s]"
     ]
    },
    {
     "name": "stdout",
     "output_type": "stream",
     "text": [
      "[LightGBM] [Warning] min_data_in_leaf is set=155, min_child_samples=20 will be ignored. Current value: min_data_in_leaf=155\n",
      "Training until validation scores don't improve for 400 rounds\n",
      "Did not meet early stopping. Best iteration is:\n",
      "[3755]\tvalid_0's auc: 0.85662\n"
     ]
    },
    {
     "name": "stderr",
     "output_type": "stream",
     "text": [
      "1it [01:13, 73.14s/it]"
     ]
    },
    {
     "name": "stdout",
     "output_type": "stream",
     "text": [
      "[LightGBM] [Warning] min_data_in_leaf is set=155, min_child_samples=20 will be ignored. Current value: min_data_in_leaf=155\n",
      "Training until validation scores don't improve for 400 rounds\n",
      "Did not meet early stopping. Best iteration is:\n",
      "[3754]\tvalid_0's auc: 0.856372\n"
     ]
    },
    {
     "name": "stderr",
     "output_type": "stream",
     "text": [
      "2it [02:22, 70.92s/it]"
     ]
    },
    {
     "name": "stdout",
     "output_type": "stream",
     "text": [
      "[LightGBM] [Warning] min_data_in_leaf is set=155, min_child_samples=20 will be ignored. Current value: min_data_in_leaf=155\n",
      "Training until validation scores don't improve for 400 rounds\n",
      "Did not meet early stopping. Best iteration is:\n",
      "[3754]\tvalid_0's auc: 0.856103\n"
     ]
    },
    {
     "name": "stderr",
     "output_type": "stream",
     "text": [
      "3it [03:32, 70.45s/it]"
     ]
    },
    {
     "name": "stdout",
     "output_type": "stream",
     "text": [
      "[LightGBM] [Warning] min_data_in_leaf is set=155, min_child_samples=20 will be ignored. Current value: min_data_in_leaf=155\n",
      "Training until validation scores don't improve for 400 rounds\n",
      "Did not meet early stopping. Best iteration is:\n",
      "[3755]\tvalid_0's auc: 0.855378\n"
     ]
    },
    {
     "name": "stderr",
     "output_type": "stream",
     "text": [
      "4it [04:42, 70.12s/it]"
     ]
    },
    {
     "name": "stdout",
     "output_type": "stream",
     "text": [
      "[LightGBM] [Warning] min_data_in_leaf is set=155, min_child_samples=20 will be ignored. Current value: min_data_in_leaf=155\n",
      "Training until validation scores don't improve for 400 rounds\n",
      "Did not meet early stopping. Best iteration is:\n",
      "[3755]\tvalid_0's auc: 0.855932\n"
     ]
    },
    {
     "name": "stderr",
     "output_type": "stream",
     "text": [
      "5it [05:51, 70.32s/it]\n",
      "\u001b[32m[I 2021-10-21 14:07:27,985]\u001b[0m Trial 68 finished with value: 0.8560808966824169 and parameters: {'learning_rate': 0.050784957872603925, 'n_estimators': 3755, 'max_depth': 2, 'num_leaves': 94, 'reg_alpha': 4.273717259463208, 'reg_lambda': 1.7533738537871875, 'min_data_in_leaf': 155}. Best is trial 58 with value: 0.8563642309651686.\u001b[0m\n",
      "0it [00:00, ?it/s]"
     ]
    },
    {
     "name": "stdout",
     "output_type": "stream",
     "text": [
      "[LightGBM] [Warning] min_data_in_leaf is set=653, min_child_samples=20 will be ignored. Current value: min_data_in_leaf=653\n",
      "Training until validation scores don't improve for 400 rounds\n",
      "Early stopping, best iteration is:\n",
      "[178]\tvalid_0's auc: 0.853367\n"
     ]
    },
    {
     "name": "stderr",
     "output_type": "stream",
     "text": [
      "1it [00:46, 46.32s/it]"
     ]
    },
    {
     "name": "stdout",
     "output_type": "stream",
     "text": [
      "[LightGBM] [Warning] min_data_in_leaf is set=653, min_child_samples=20 will be ignored. Current value: min_data_in_leaf=653\n",
      "Training until validation scores don't improve for 400 rounds\n",
      "Early stopping, best iteration is:\n",
      "[165]\tvalid_0's auc: 0.853613\n"
     ]
    },
    {
     "name": "stderr",
     "output_type": "stream",
     "text": [
      "2it [01:28, 44.01s/it]"
     ]
    },
    {
     "name": "stdout",
     "output_type": "stream",
     "text": [
      "[LightGBM] [Warning] min_data_in_leaf is set=653, min_child_samples=20 will be ignored. Current value: min_data_in_leaf=653\n",
      "Training until validation scores don't improve for 400 rounds\n",
      "Early stopping, best iteration is:\n",
      "[179]\tvalid_0's auc: 0.853984\n"
     ]
    },
    {
     "name": "stderr",
     "output_type": "stream",
     "text": [
      "3it [02:12, 43.85s/it]"
     ]
    },
    {
     "name": "stdout",
     "output_type": "stream",
     "text": [
      "[LightGBM] [Warning] min_data_in_leaf is set=653, min_child_samples=20 will be ignored. Current value: min_data_in_leaf=653\n",
      "Training until validation scores don't improve for 400 rounds\n",
      "Early stopping, best iteration is:\n",
      "[180]\tvalid_0's auc: 0.853942\n"
     ]
    },
    {
     "name": "stderr",
     "output_type": "stream",
     "text": [
      "4it [02:55, 43.67s/it]"
     ]
    },
    {
     "name": "stdout",
     "output_type": "stream",
     "text": [
      "[LightGBM] [Warning] min_data_in_leaf is set=653, min_child_samples=20 will be ignored. Current value: min_data_in_leaf=653\n",
      "Training until validation scores don't improve for 400 rounds\n",
      "Early stopping, best iteration is:\n",
      "[172]\tvalid_0's auc: 0.853629\n"
     ]
    },
    {
     "name": "stderr",
     "output_type": "stream",
     "text": [
      "5it [03:38, 43.76s/it]\n",
      "\u001b[32m[I 2021-10-21 14:11:07,149]\u001b[0m Trial 69 finished with value: 0.8537071074218486 and parameters: {'learning_rate': 0.15303827943506146, 'n_estimators': 4672, 'max_depth': 10, 'num_leaves': 92, 'reg_alpha': 2.823602809053024, 'reg_lambda': 3.6201991209568094, 'min_data_in_leaf': 653}. Best is trial 58 with value: 0.8563642309651686.\u001b[0m\n",
      "0it [00:00, ?it/s]"
     ]
    },
    {
     "name": "stdout",
     "output_type": "stream",
     "text": [
      "[LightGBM] [Warning] min_data_in_leaf is set=525, min_child_samples=20 will be ignored. Current value: min_data_in_leaf=525\n",
      "Training until validation scores don't improve for 400 rounds\n",
      "Early stopping, best iteration is:\n",
      "[2077]\tvalid_0's auc: 0.857554\n"
     ]
    },
    {
     "name": "stderr",
     "output_type": "stream",
     "text": [
      "1it [00:59, 59.27s/it]"
     ]
    },
    {
     "name": "stdout",
     "output_type": "stream",
     "text": [
      "[LightGBM] [Warning] min_data_in_leaf is set=525, min_child_samples=20 will be ignored. Current value: min_data_in_leaf=525\n",
      "Training until validation scores don't improve for 400 rounds\n",
      "Early stopping, best iteration is:\n",
      "[2073]\tvalid_0's auc: 0.855136\n"
     ]
    },
    {
     "name": "stderr",
     "output_type": "stream",
     "text": [
      "2it [01:55, 57.74s/it]"
     ]
    },
    {
     "name": "stdout",
     "output_type": "stream",
     "text": [
      "[LightGBM] [Warning] min_data_in_leaf is set=525, min_child_samples=20 will be ignored. Current value: min_data_in_leaf=525\n",
      "Training until validation scores don't improve for 400 rounds\n",
      "Early stopping, best iteration is:\n",
      "[1826]\tvalid_0's auc: 0.855894\n"
     ]
    },
    {
     "name": "stderr",
     "output_type": "stream",
     "text": [
      "3it [02:47, 55.07s/it]"
     ]
    },
    {
     "name": "stdout",
     "output_type": "stream",
     "text": [
      "[LightGBM] [Warning] min_data_in_leaf is set=525, min_child_samples=20 will be ignored. Current value: min_data_in_leaf=525\n",
      "Training until validation scores don't improve for 400 rounds\n",
      "Early stopping, best iteration is:\n",
      "[1787]\tvalid_0's auc: 0.856804\n"
     ]
    },
    {
     "name": "stderr",
     "output_type": "stream",
     "text": [
      "4it [03:38, 53.51s/it]"
     ]
    },
    {
     "name": "stdout",
     "output_type": "stream",
     "text": [
      "[LightGBM] [Warning] min_data_in_leaf is set=525, min_child_samples=20 will be ignored. Current value: min_data_in_leaf=525\n",
      "Training until validation scores don't improve for 400 rounds\n",
      "Early stopping, best iteration is:\n",
      "[2103]\tvalid_0's auc: 0.855401\n"
     ]
    },
    {
     "name": "stderr",
     "output_type": "stream",
     "text": [
      "5it [04:36, 55.31s/it]\n",
      "\u001b[32m[I 2021-10-21 14:15:43,993]\u001b[0m Trial 70 finished with value: 0.8561577091554244 and parameters: {'learning_rate': 0.09179884905353729, 'n_estimators': 4014, 'max_depth': 3, 'num_leaves': 97, 'reg_alpha': 4.806190097049835, 'reg_lambda': 4.310560688902311, 'min_data_in_leaf': 525}. Best is trial 58 with value: 0.8563642309651686.\u001b[0m\n",
      "0it [00:00, ?it/s]"
     ]
    },
    {
     "name": "stdout",
     "output_type": "stream",
     "text": [
      "[LightGBM] [Warning] min_data_in_leaf is set=602, min_child_samples=20 will be ignored. Current value: min_data_in_leaf=602\n",
      "Training until validation scores don't improve for 400 rounds\n",
      "Early stopping, best iteration is:\n",
      "[553]\tvalid_0's auc: 0.855613\n"
     ]
    },
    {
     "name": "stderr",
     "output_type": "stream",
     "text": [
      "1it [00:24, 24.46s/it]"
     ]
    },
    {
     "name": "stdout",
     "output_type": "stream",
     "text": [
      "[LightGBM] [Warning] min_data_in_leaf is set=602, min_child_samples=20 will be ignored. Current value: min_data_in_leaf=602\n",
      "Training until validation scores don't improve for 400 rounds\n",
      "Early stopping, best iteration is:\n",
      "[891]\tvalid_0's auc: 0.856251\n"
     ]
    },
    {
     "name": "stderr",
     "output_type": "stream",
     "text": [
      "2it [00:53, 26.98s/it]"
     ]
    },
    {
     "name": "stdout",
     "output_type": "stream",
     "text": [
      "[LightGBM] [Warning] min_data_in_leaf is set=602, min_child_samples=20 will be ignored. Current value: min_data_in_leaf=602\n",
      "Training until validation scores don't improve for 400 rounds\n",
      "Early stopping, best iteration is:\n",
      "[683]\tvalid_0's auc: 0.855004\n"
     ]
    },
    {
     "name": "stderr",
     "output_type": "stream",
     "text": [
      "3it [01:19, 26.54s/it]"
     ]
    },
    {
     "name": "stdout",
     "output_type": "stream",
     "text": [
      "[LightGBM] [Warning] min_data_in_leaf is set=602, min_child_samples=20 will be ignored. Current value: min_data_in_leaf=602\n",
      "Training until validation scores don't improve for 400 rounds\n",
      "Early stopping, best iteration is:\n",
      "[611]\tvalid_0's auc: 0.854065\n"
     ]
    },
    {
     "name": "stderr",
     "output_type": "stream",
     "text": [
      "4it [01:43, 25.67s/it]"
     ]
    },
    {
     "name": "stdout",
     "output_type": "stream",
     "text": [
      "[LightGBM] [Warning] min_data_in_leaf is set=602, min_child_samples=20 will be ignored. Current value: min_data_in_leaf=602\n",
      "Training until validation scores don't improve for 400 rounds\n",
      "Early stopping, best iteration is:\n",
      "[672]\tvalid_0's auc: 0.855562\n"
     ]
    },
    {
     "name": "stderr",
     "output_type": "stream",
     "text": [
      "5it [02:09, 25.82s/it]\n",
      "\u001b[32m[I 2021-10-21 14:17:53,322]\u001b[0m Trial 71 finished with value: 0.8552988481355627 and parameters: {'learning_rate': 0.3621614593868795, 'n_estimators': 4390, 'max_depth': 2, 'num_leaves': 78, 'reg_alpha': 3.699181758990188, 'reg_lambda': 5.514364405390269, 'min_data_in_leaf': 602}. Best is trial 58 with value: 0.8563642309651686.\u001b[0m\n",
      "0it [00:00, ?it/s]"
     ]
    },
    {
     "name": "stdout",
     "output_type": "stream",
     "text": [
      "[LightGBM] [Warning] min_data_in_leaf is set=441, min_child_samples=20 will be ignored. Current value: min_data_in_leaf=441\n",
      "Training until validation scores don't improve for 400 rounds\n",
      "Early stopping, best iteration is:\n",
      "[701]\tvalid_0's auc: 0.855815\n"
     ]
    },
    {
     "name": "stderr",
     "output_type": "stream",
     "text": [
      "1it [00:30, 31.00s/it]"
     ]
    },
    {
     "name": "stdout",
     "output_type": "stream",
     "text": [
      "[LightGBM] [Warning] min_data_in_leaf is set=441, min_child_samples=20 will be ignored. Current value: min_data_in_leaf=441\n",
      "Training until validation scores don't improve for 400 rounds\n",
      "Early stopping, best iteration is:\n",
      "[680]\tvalid_0's auc: 0.855093\n"
     ]
    },
    {
     "name": "stderr",
     "output_type": "stream",
     "text": [
      "2it [01:00, 29.97s/it]"
     ]
    },
    {
     "name": "stdout",
     "output_type": "stream",
     "text": [
      "[LightGBM] [Warning] min_data_in_leaf is set=441, min_child_samples=20 will be ignored. Current value: min_data_in_leaf=441\n",
      "Training until validation scores don't improve for 400 rounds\n",
      "Early stopping, best iteration is:\n",
      "[752]\tvalid_0's auc: 0.856636\n"
     ]
    },
    {
     "name": "stderr",
     "output_type": "stream",
     "text": [
      "3it [01:31, 30.37s/it]"
     ]
    },
    {
     "name": "stdout",
     "output_type": "stream",
     "text": [
      "[LightGBM] [Warning] min_data_in_leaf is set=441, min_child_samples=20 will be ignored. Current value: min_data_in_leaf=441\n",
      "Training until validation scores don't improve for 400 rounds\n",
      "Early stopping, best iteration is:\n",
      "[768]\tvalid_0's auc: 0.854213\n"
     ]
    },
    {
     "name": "stderr",
     "output_type": "stream",
     "text": [
      "4it [02:01, 30.55s/it]"
     ]
    },
    {
     "name": "stdout",
     "output_type": "stream",
     "text": [
      "[LightGBM] [Warning] min_data_in_leaf is set=441, min_child_samples=20 will be ignored. Current value: min_data_in_leaf=441\n",
      "Training until validation scores don't improve for 400 rounds\n",
      "Early stopping, best iteration is:\n",
      "[630]\tvalid_0's auc: 0.855666\n"
     ]
    },
    {
     "name": "stderr",
     "output_type": "stream",
     "text": [
      "5it [02:30, 30.06s/it]\n",
      "\u001b[32m[I 2021-10-21 14:20:23,927]\u001b[0m Trial 72 finished with value: 0.8554846466341784 and parameters: {'learning_rate': 0.20338635219613393, 'n_estimators': 3924, 'max_depth': 3, 'num_leaves': 85, 'reg_alpha': 6.050943900199535, 'reg_lambda': 2.7227545380490534, 'min_data_in_leaf': 441}. Best is trial 58 with value: 0.8563642309651686.\u001b[0m\n",
      "0it [00:00, ?it/s]"
     ]
    },
    {
     "name": "stdout",
     "output_type": "stream",
     "text": [
      "[LightGBM] [Warning] min_data_in_leaf is set=670, min_child_samples=20 will be ignored. Current value: min_data_in_leaf=670\n",
      "Training until validation scores don't improve for 400 rounds\n",
      "Early stopping, best iteration is:\n",
      "[4031]\tvalid_0's auc: 0.854744\n"
     ]
    },
    {
     "name": "stderr",
     "output_type": "stream",
     "text": [
      "1it [01:21, 81.87s/it]"
     ]
    },
    {
     "name": "stdout",
     "output_type": "stream",
     "text": [
      "[LightGBM] [Warning] min_data_in_leaf is set=670, min_child_samples=20 will be ignored. Current value: min_data_in_leaf=670\n",
      "Training until validation scores don't improve for 400 rounds\n",
      "Early stopping, best iteration is:\n",
      "[4026]\tvalid_0's auc: 0.856088\n"
     ]
    },
    {
     "name": "stderr",
     "output_type": "stream",
     "text": [
      "2it [02:41, 80.29s/it]"
     ]
    },
    {
     "name": "stdout",
     "output_type": "stream",
     "text": [
      "[LightGBM] [Warning] min_data_in_leaf is set=670, min_child_samples=20 will be ignored. Current value: min_data_in_leaf=670\n",
      "Training until validation scores don't improve for 400 rounds\n",
      "Did not meet early stopping. Best iteration is:\n",
      "[4191]\tvalid_0's auc: 0.858015\n"
     ]
    },
    {
     "name": "stderr",
     "output_type": "stream",
     "text": [
      "3it [04:03, 81.39s/it]"
     ]
    },
    {
     "name": "stdout",
     "output_type": "stream",
     "text": [
      "[LightGBM] [Warning] min_data_in_leaf is set=670, min_child_samples=20 will be ignored. Current value: min_data_in_leaf=670\n",
      "Training until validation scores don't improve for 400 rounds\n",
      "Did not meet early stopping. Best iteration is:\n",
      "[4195]\tvalid_0's auc: 0.856509\n"
     ]
    },
    {
     "name": "stderr",
     "output_type": "stream",
     "text": [
      "4it [05:24, 81.11s/it]"
     ]
    },
    {
     "name": "stdout",
     "output_type": "stream",
     "text": [
      "[LightGBM] [Warning] min_data_in_leaf is set=670, min_child_samples=20 will be ignored. Current value: min_data_in_leaf=670\n",
      "Training until validation scores don't improve for 400 rounds\n",
      "Early stopping, best iteration is:\n",
      "[4069]\tvalid_0's auc: 0.856064\n"
     ]
    },
    {
     "name": "stderr",
     "output_type": "stream",
     "text": [
      "5it [06:44, 80.84s/it]\n",
      "\u001b[32m[I 2021-10-21 14:27:08,466]\u001b[0m Trial 73 finished with value: 0.8562838427738356 and parameters: {'learning_rate': 0.07975832527707527, 'n_estimators': 4502, 'max_depth': 2, 'num_leaves': 80, 'reg_alpha': 3.9694501724385507, 'reg_lambda': 3.519414069958013, 'min_data_in_leaf': 670}. Best is trial 58 with value: 0.8563642309651686.\u001b[0m\n",
      "0it [00:00, ?it/s]"
     ]
    },
    {
     "name": "stdout",
     "output_type": "stream",
     "text": [
      "[LightGBM] [Warning] min_data_in_leaf is set=675, min_child_samples=20 will be ignored. Current value: min_data_in_leaf=675\n",
      "Training until validation scores don't improve for 400 rounds\n",
      "Early stopping, best iteration is:\n",
      "[2976]\tvalid_0's auc: 0.85668\n"
     ]
    },
    {
     "name": "stderr",
     "output_type": "stream",
     "text": [
      "1it [01:05, 65.87s/it]"
     ]
    },
    {
     "name": "stdout",
     "output_type": "stream",
     "text": [
      "[LightGBM] [Warning] min_data_in_leaf is set=675, min_child_samples=20 will be ignored. Current value: min_data_in_leaf=675\n",
      "Training until validation scores don't improve for 400 rounds\n",
      "Early stopping, best iteration is:\n",
      "[2498]\tvalid_0's auc: 0.856789\n"
     ]
    },
    {
     "name": "stderr",
     "output_type": "stream",
     "text": [
      "2it [02:00, 59.39s/it]"
     ]
    },
    {
     "name": "stdout",
     "output_type": "stream",
     "text": [
      "[LightGBM] [Warning] min_data_in_leaf is set=675, min_child_samples=20 will be ignored. Current value: min_data_in_leaf=675\n",
      "Training until validation scores don't improve for 400 rounds\n",
      "Early stopping, best iteration is:\n",
      "[2416]\tvalid_0's auc: 0.856271\n"
     ]
    },
    {
     "name": "stderr",
     "output_type": "stream",
     "text": [
      "3it [02:54, 56.84s/it]"
     ]
    },
    {
     "name": "stdout",
     "output_type": "stream",
     "text": [
      "[LightGBM] [Warning] min_data_in_leaf is set=675, min_child_samples=20 will be ignored. Current value: min_data_in_leaf=675\n",
      "Training until validation scores don't improve for 400 rounds\n",
      "Early stopping, best iteration is:\n",
      "[2669]\tvalid_0's auc: 0.855546\n"
     ]
    },
    {
     "name": "stderr",
     "output_type": "stream",
     "text": [
      "4it [03:52, 57.40s/it]"
     ]
    },
    {
     "name": "stdout",
     "output_type": "stream",
     "text": [
      "[LightGBM] [Warning] min_data_in_leaf is set=675, min_child_samples=20 will be ignored. Current value: min_data_in_leaf=675\n",
      "Training until validation scores don't improve for 400 rounds\n",
      "Early stopping, best iteration is:\n",
      "[2851]\tvalid_0's auc: 0.855789\n"
     ]
    },
    {
     "name": "stderr",
     "output_type": "stream",
     "text": [
      "5it [04:53, 58.67s/it]\n",
      "\u001b[32m[I 2021-10-21 14:32:02,084]\u001b[0m Trial 74 finished with value: 0.8562148370366991 and parameters: {'learning_rate': 0.11308965384537908, 'n_estimators': 4910, 'max_depth': 2, 'num_leaves': 69, 'reg_alpha': 5.332235567177738, 'reg_lambda': 4.780792430104578, 'min_data_in_leaf': 675}. Best is trial 58 with value: 0.8563642309651686.\u001b[0m\n",
      "0it [00:00, ?it/s]"
     ]
    },
    {
     "name": "stdout",
     "output_type": "stream",
     "text": [
      "[LightGBM] [Warning] min_data_in_leaf is set=616, min_child_samples=20 will be ignored. Current value: min_data_in_leaf=616\n",
      "Training until validation scores don't improve for 400 rounds\n",
      "Did not meet early stopping. Best iteration is:\n",
      "[4214]\tvalid_0's auc: 0.85701\n"
     ]
    },
    {
     "name": "stderr",
     "output_type": "stream",
     "text": [
      "1it [01:19, 79.16s/it]"
     ]
    },
    {
     "name": "stdout",
     "output_type": "stream",
     "text": [
      "[LightGBM] [Warning] min_data_in_leaf is set=616, min_child_samples=20 will be ignored. Current value: min_data_in_leaf=616\n",
      "Training until validation scores don't improve for 400 rounds\n",
      "Did not meet early stopping. Best iteration is:\n",
      "[4215]\tvalid_0's auc: 0.856933\n"
     ]
    },
    {
     "name": "stderr",
     "output_type": "stream",
     "text": [
      "2it [02:35, 77.70s/it]"
     ]
    },
    {
     "name": "stdout",
     "output_type": "stream",
     "text": [
      "[LightGBM] [Warning] min_data_in_leaf is set=616, min_child_samples=20 will be ignored. Current value: min_data_in_leaf=616\n",
      "Training until validation scores don't improve for 400 rounds\n",
      "Did not meet early stopping. Best iteration is:\n",
      "[4214]\tvalid_0's auc: 0.856425\n"
     ]
    },
    {
     "name": "stderr",
     "output_type": "stream",
     "text": [
      "3it [03:53, 77.63s/it]"
     ]
    },
    {
     "name": "stdout",
     "output_type": "stream",
     "text": [
      "[LightGBM] [Warning] min_data_in_leaf is set=616, min_child_samples=20 will be ignored. Current value: min_data_in_leaf=616\n",
      "Training until validation scores don't improve for 400 rounds\n",
      "Did not meet early stopping. Best iteration is:\n",
      "[4215]\tvalid_0's auc: 0.855235\n"
     ]
    },
    {
     "name": "stderr",
     "output_type": "stream",
     "text": [
      "4it [05:10, 77.43s/it]"
     ]
    },
    {
     "name": "stdout",
     "output_type": "stream",
     "text": [
      "[LightGBM] [Warning] min_data_in_leaf is set=616, min_child_samples=20 will be ignored. Current value: min_data_in_leaf=616\n",
      "Training until validation scores don't improve for 400 rounds\n",
      "Did not meet early stopping. Best iteration is:\n",
      "[4215]\tvalid_0's auc: 0.854808\n"
     ]
    },
    {
     "name": "stderr",
     "output_type": "stream",
     "text": [
      "5it [06:27, 77.56s/it]\n",
      "\u001b[32m[I 2021-10-21 14:38:30,169]\u001b[0m Trial 75 finished with value: 0.8560820926535678 and parameters: {'learning_rate': 0.044962532839999673, 'n_estimators': 4215, 'max_depth': 2, 'num_leaves': 90, 'reg_alpha': 4.47080260271018, 'reg_lambda': 4.3402500366215655, 'min_data_in_leaf': 616}. Best is trial 58 with value: 0.8563642309651686.\u001b[0m\n",
      "0it [00:00, ?it/s]"
     ]
    },
    {
     "name": "stdout",
     "output_type": "stream",
     "text": [
      "[LightGBM] [Warning] min_data_in_leaf is set=714, min_child_samples=20 will be ignored. Current value: min_data_in_leaf=714\n",
      "Training until validation scores don't improve for 400 rounds\n",
      "Did not meet early stopping. Best iteration is:\n",
      "[4219]\tvalid_0's auc: 0.85504\n"
     ]
    },
    {
     "name": "stderr",
     "output_type": "stream",
     "text": [
      "1it [01:26, 86.42s/it]"
     ]
    },
    {
     "name": "stdout",
     "output_type": "stream",
     "text": [
      "[LightGBM] [Warning] min_data_in_leaf is set=714, min_child_samples=20 will be ignored. Current value: min_data_in_leaf=714\n",
      "Training until validation scores don't improve for 400 rounds\n",
      "Did not meet early stopping. Best iteration is:\n",
      "[4495]\tvalid_0's auc: 0.856268\n"
     ]
    },
    {
     "name": "stderr",
     "output_type": "stream",
     "text": [
      "2it [02:48, 83.88s/it]"
     ]
    },
    {
     "name": "stdout",
     "output_type": "stream",
     "text": [
      "[LightGBM] [Warning] min_data_in_leaf is set=714, min_child_samples=20 will be ignored. Current value: min_data_in_leaf=714\n",
      "Training until validation scores don't improve for 400 rounds\n",
      "Did not meet early stopping. Best iteration is:\n",
      "[4320]\tvalid_0's auc: 0.857301\n"
     ]
    },
    {
     "name": "stderr",
     "output_type": "stream",
     "text": [
      "3it [04:11, 83.27s/it]"
     ]
    },
    {
     "name": "stdout",
     "output_type": "stream",
     "text": [
      "[LightGBM] [Warning] min_data_in_leaf is set=714, min_child_samples=20 will be ignored. Current value: min_data_in_leaf=714\n",
      "Training until validation scores don't improve for 400 rounds\n",
      "Did not meet early stopping. Best iteration is:\n",
      "[4540]\tvalid_0's auc: 0.856725\n"
     ]
    },
    {
     "name": "stderr",
     "output_type": "stream",
     "text": [
      "4it [05:33, 82.95s/it]"
     ]
    },
    {
     "name": "stdout",
     "output_type": "stream",
     "text": [
      "[LightGBM] [Warning] min_data_in_leaf is set=714, min_child_samples=20 will be ignored. Current value: min_data_in_leaf=714\n",
      "Training until validation scores don't improve for 400 rounds\n",
      "Did not meet early stopping. Best iteration is:\n",
      "[4217]\tvalid_0's auc: 0.856284\n"
     ]
    },
    {
     "name": "stderr",
     "output_type": "stream",
     "text": [
      "5it [06:55, 83.19s/it]\n",
      "\u001b[32m[I 2021-10-21 14:45:26,377]\u001b[0m Trial 76 finished with value: 0.8563236721325115 and parameters: {'learning_rate': 0.07494912009716566, 'n_estimators': 4590, 'max_depth': 2, 'num_leaves': 93, 'reg_alpha': 3.115108791698155, 'reg_lambda': 3.087246670489356, 'min_data_in_leaf': 714}. Best is trial 58 with value: 0.8563642309651686.\u001b[0m\n",
      "0it [00:00, ?it/s]"
     ]
    },
    {
     "name": "stdout",
     "output_type": "stream",
     "text": [
      "[LightGBM] [Warning] min_data_in_leaf is set=737, min_child_samples=20 will be ignored. Current value: min_data_in_leaf=737\n",
      "Training until validation scores don't improve for 400 rounds\n",
      "Early stopping, best iteration is:\n",
      "[2289]\tvalid_0's auc: 0.856682\n"
     ]
    },
    {
     "name": "stderr",
     "output_type": "stream",
     "text": [
      "1it [01:04, 64.06s/it]"
     ]
    },
    {
     "name": "stdout",
     "output_type": "stream",
     "text": [
      "[LightGBM] [Warning] min_data_in_leaf is set=737, min_child_samples=20 will be ignored. Current value: min_data_in_leaf=737\n",
      "Training until validation scores don't improve for 400 rounds\n",
      "Early stopping, best iteration is:\n",
      "[2340]\tvalid_0's auc: 0.85728\n"
     ]
    },
    {
     "name": "stderr",
     "output_type": "stream",
     "text": [
      "2it [02:05, 62.70s/it]"
     ]
    },
    {
     "name": "stdout",
     "output_type": "stream",
     "text": [
      "[LightGBM] [Warning] min_data_in_leaf is set=737, min_child_samples=20 will be ignored. Current value: min_data_in_leaf=737\n",
      "Training until validation scores don't improve for 400 rounds\n",
      "Early stopping, best iteration is:\n",
      "[1970]\tvalid_0's auc: 0.855594\n"
     ]
    },
    {
     "name": "stderr",
     "output_type": "stream",
     "text": [
      "3it [03:00, 59.12s/it]"
     ]
    },
    {
     "name": "stdout",
     "output_type": "stream",
     "text": [
      "[LightGBM] [Warning] min_data_in_leaf is set=737, min_child_samples=20 will be ignored. Current value: min_data_in_leaf=737\n",
      "Training until validation scores don't improve for 400 rounds\n",
      "Early stopping, best iteration is:\n",
      "[2151]\tvalid_0's auc: 0.855189\n"
     ]
    },
    {
     "name": "stderr",
     "output_type": "stream",
     "text": [
      "4it [03:58, 58.75s/it]"
     ]
    },
    {
     "name": "stdout",
     "output_type": "stream",
     "text": [
      "[LightGBM] [Warning] min_data_in_leaf is set=737, min_child_samples=20 will be ignored. Current value: min_data_in_leaf=737\n",
      "Training until validation scores don't improve for 400 rounds\n",
      "Early stopping, best iteration is:\n",
      "[2306]\tvalid_0's auc: 0.856266\n"
     ]
    },
    {
     "name": "stderr",
     "output_type": "stream",
     "text": [
      "5it [05:00, 60.09s/it]\n",
      "\u001b[32m[I 2021-10-21 14:50:27,063]\u001b[0m Trial 77 finished with value: 0.8562021772759796 and parameters: {'learning_rate': 0.07647857002075084, 'n_estimators': 4559, 'max_depth': 3, 'num_leaves': 98, 'reg_alpha': 2.8591074286059195, 'reg_lambda': 3.06173024405877, 'min_data_in_leaf': 737}. Best is trial 58 with value: 0.8563642309651686.\u001b[0m\n",
      "0it [00:00, ?it/s]"
     ]
    },
    {
     "name": "stdout",
     "output_type": "stream",
     "text": [
      "[LightGBM] [Warning] min_data_in_leaf is set=725, min_child_samples=20 will be ignored. Current value: min_data_in_leaf=725\n",
      "Training until validation scores don't improve for 400 rounds\n",
      "Early stopping, best iteration is:\n",
      "[2558]\tvalid_0's auc: 0.856811\n"
     ]
    },
    {
     "name": "stderr",
     "output_type": "stream",
     "text": [
      "1it [00:57, 57.91s/it]"
     ]
    },
    {
     "name": "stdout",
     "output_type": "stream",
     "text": [
      "[LightGBM] [Warning] min_data_in_leaf is set=725, min_child_samples=20 will be ignored. Current value: min_data_in_leaf=725\n",
      "Training until validation scores don't improve for 400 rounds\n",
      "Early stopping, best iteration is:\n",
      "[2224]\tvalid_0's auc: 0.856069\n"
     ]
    },
    {
     "name": "stderr",
     "output_type": "stream",
     "text": [
      "2it [01:48, 53.43s/it]"
     ]
    },
    {
     "name": "stdout",
     "output_type": "stream",
     "text": [
      "[LightGBM] [Warning] min_data_in_leaf is set=725, min_child_samples=20 will be ignored. Current value: min_data_in_leaf=725\n",
      "Training until validation scores don't improve for 400 rounds\n",
      "Early stopping, best iteration is:\n",
      "[2425]\tvalid_0's auc: 0.856532\n"
     ]
    },
    {
     "name": "stderr",
     "output_type": "stream",
     "text": [
      "3it [02:41, 53.53s/it]"
     ]
    },
    {
     "name": "stdout",
     "output_type": "stream",
     "text": [
      "[LightGBM] [Warning] min_data_in_leaf is set=725, min_child_samples=20 will be ignored. Current value: min_data_in_leaf=725\n",
      "Training until validation scores don't improve for 400 rounds\n",
      "Early stopping, best iteration is:\n",
      "[1919]\tvalid_0's auc: 0.856164\n"
     ]
    },
    {
     "name": "stderr",
     "output_type": "stream",
     "text": [
      "4it [03:27, 50.34s/it]"
     ]
    },
    {
     "name": "stdout",
     "output_type": "stream",
     "text": [
      "[LightGBM] [Warning] min_data_in_leaf is set=725, min_child_samples=20 will be ignored. Current value: min_data_in_leaf=725\n",
      "Training until validation scores don't improve for 400 rounds\n",
      "Early stopping, best iteration is:\n",
      "[2201]\tvalid_0's auc: 0.855381\n"
     ]
    },
    {
     "name": "stderr",
     "output_type": "stream",
     "text": [
      "5it [04:17, 51.50s/it]\n",
      "\u001b[32m[I 2021-10-21 14:54:44,807]\u001b[0m Trial 78 finished with value: 0.8561912747615589 and parameters: {'learning_rate': 0.13488999199826715, 'n_estimators': 4678, 'max_depth': 2, 'num_leaves': 79, 'reg_alpha': 3.2494870459399223, 'reg_lambda': 1.7099813592786954, 'min_data_in_leaf': 725}. Best is trial 58 with value: 0.8563642309651686.\u001b[0m\n",
      "0it [00:00, ?it/s]"
     ]
    },
    {
     "name": "stdout",
     "output_type": "stream",
     "text": [
      "[LightGBM] [Warning] min_data_in_leaf is set=377, min_child_samples=20 will be ignored. Current value: min_data_in_leaf=377\n",
      "Training until validation scores don't improve for 400 rounds\n",
      "Early stopping, best iteration is:\n",
      "[2813]\tvalid_0's auc: 0.855974\n"
     ]
    },
    {
     "name": "stderr",
     "output_type": "stream",
     "text": [
      "1it [01:12, 72.62s/it]"
     ]
    },
    {
     "name": "stdout",
     "output_type": "stream",
     "text": [
      "[LightGBM] [Warning] min_data_in_leaf is set=377, min_child_samples=20 will be ignored. Current value: min_data_in_leaf=377\n",
      "Training until validation scores don't improve for 400 rounds\n",
      "Early stopping, best iteration is:\n",
      "[2385]\tvalid_0's auc: 0.856891\n"
     ]
    },
    {
     "name": "stderr",
     "output_type": "stream",
     "text": [
      "2it [02:15, 67.06s/it]"
     ]
    },
    {
     "name": "stdout",
     "output_type": "stream",
     "text": [
      "[LightGBM] [Warning] min_data_in_leaf is set=377, min_child_samples=20 will be ignored. Current value: min_data_in_leaf=377\n",
      "Training until validation scores don't improve for 400 rounds\n",
      "Early stopping, best iteration is:\n",
      "[2653]\tvalid_0's auc: 0.85622\n"
     ]
    },
    {
     "name": "stderr",
     "output_type": "stream",
     "text": [
      "3it [03:24, 67.59s/it]"
     ]
    },
    {
     "name": "stdout",
     "output_type": "stream",
     "text": [
      "[LightGBM] [Warning] min_data_in_leaf is set=377, min_child_samples=20 will be ignored. Current value: min_data_in_leaf=377\n",
      "Training until validation scores don't improve for 400 rounds\n",
      "Early stopping, best iteration is:\n",
      "[3349]\tvalid_0's auc: 0.856472\n"
     ]
    },
    {
     "name": "stderr",
     "output_type": "stream",
     "text": [
      "4it [04:45, 73.19s/it]"
     ]
    },
    {
     "name": "stdout",
     "output_type": "stream",
     "text": [
      "[LightGBM] [Warning] min_data_in_leaf is set=377, min_child_samples=20 will be ignored. Current value: min_data_in_leaf=377\n",
      "Training until validation scores don't improve for 400 rounds\n",
      "Early stopping, best iteration is:\n",
      "[2567]\tvalid_0's auc: 0.855875\n"
     ]
    },
    {
     "name": "stderr",
     "output_type": "stream",
     "text": [
      "5it [05:52, 70.47s/it]\n",
      "\u001b[32m[I 2021-10-21 15:00:37,419]\u001b[0m Trial 79 finished with value: 0.8562862952832166 and parameters: {'learning_rate': 0.06512133460341801, 'n_estimators': 4875, 'max_depth': 3, 'num_leaves': 92, 'reg_alpha': 6.1810299992340525, 'reg_lambda': 3.431851913314476, 'min_data_in_leaf': 377}. Best is trial 58 with value: 0.8563642309651686.\u001b[0m\n",
      "0it [00:00, ?it/s]"
     ]
    },
    {
     "name": "stdout",
     "output_type": "stream",
     "text": [
      "[LightGBM] [Warning] min_data_in_leaf is set=376, min_child_samples=20 will be ignored. Current value: min_data_in_leaf=376\n",
      "Training until validation scores don't improve for 400 rounds\n",
      "Early stopping, best iteration is:\n",
      "[4438]\tvalid_0's auc: 0.856344\n"
     ]
    },
    {
     "name": "stderr",
     "output_type": "stream",
     "text": [
      "1it [01:45, 105.88s/it]"
     ]
    },
    {
     "name": "stdout",
     "output_type": "stream",
     "text": [
      "[LightGBM] [Warning] min_data_in_leaf is set=376, min_child_samples=20 will be ignored. Current value: min_data_in_leaf=376\n",
      "Training until validation scores don't improve for 400 rounds\n",
      "Early stopping, best iteration is:\n",
      "[4084]\tvalid_0's auc: 0.856427\n"
     ]
    },
    {
     "name": "stderr",
     "output_type": "stream",
     "text": [
      "2it [03:22, 100.23s/it]"
     ]
    },
    {
     "name": "stdout",
     "output_type": "stream",
     "text": [
      "[LightGBM] [Warning] min_data_in_leaf is set=376, min_child_samples=20 will be ignored. Current value: min_data_in_leaf=376\n",
      "Training until validation scores don't improve for 400 rounds\n",
      "Did not meet early stopping. Best iteration is:\n",
      "[4496]\tvalid_0's auc: 0.856612\n"
     ]
    },
    {
     "name": "stderr",
     "output_type": "stream",
     "text": [
      "3it [05:05, 101.87s/it]"
     ]
    },
    {
     "name": "stdout",
     "output_type": "stream",
     "text": [
      "[LightGBM] [Warning] min_data_in_leaf is set=376, min_child_samples=20 will be ignored. Current value: min_data_in_leaf=376\n",
      "Training until validation scores don't improve for 400 rounds\n",
      "Early stopping, best iteration is:\n",
      "[3941]\tvalid_0's auc: 0.856162\n"
     ]
    },
    {
     "name": "stderr",
     "output_type": "stream",
     "text": [
      "4it [06:40, 99.01s/it] "
     ]
    },
    {
     "name": "stdout",
     "output_type": "stream",
     "text": [
      "[LightGBM] [Warning] min_data_in_leaf is set=376, min_child_samples=20 will be ignored. Current value: min_data_in_leaf=376\n",
      "Training until validation scores don't improve for 400 rounds\n",
      "Early stopping, best iteration is:\n",
      "[4207]\tvalid_0's auc: 0.856042\n"
     ]
    },
    {
     "name": "stderr",
     "output_type": "stream",
     "text": [
      "5it [08:19, 99.89s/it]\n",
      "\u001b[32m[I 2021-10-21 15:08:57,083]\u001b[0m Trial 80 finished with value: 0.8563174457711631 and parameters: {'learning_rate': 0.04214294856953566, 'n_estimators': 4869, 'max_depth': 3, 'num_leaves': 92, 'reg_alpha': 4.939642526841307, 'reg_lambda': 3.7021630512485295, 'min_data_in_leaf': 376}. Best is trial 58 with value: 0.8563642309651686.\u001b[0m\n",
      "0it [00:00, ?it/s]"
     ]
    },
    {
     "name": "stdout",
     "output_type": "stream",
     "text": [
      "[LightGBM] [Warning] min_data_in_leaf is set=374, min_child_samples=20 will be ignored. Current value: min_data_in_leaf=374\n",
      "Training until validation scores don't improve for 400 rounds\n",
      "Early stopping, best iteration is:\n",
      "[4028]\tvalid_0's auc: 0.857226\n"
     ]
    },
    {
     "name": "stderr",
     "output_type": "stream",
     "text": [
      "1it [01:35, 95.95s/it]"
     ]
    },
    {
     "name": "stdout",
     "output_type": "stream",
     "text": [
      "[LightGBM] [Warning] min_data_in_leaf is set=374, min_child_samples=20 will be ignored. Current value: min_data_in_leaf=374\n",
      "Training until validation scores don't improve for 400 rounds\n",
      "Early stopping, best iteration is:\n",
      "[4059]\tvalid_0's auc: 0.855992\n"
     ]
    },
    {
     "name": "stderr",
     "output_type": "stream",
     "text": [
      "2it [03:11, 95.93s/it]"
     ]
    },
    {
     "name": "stdout",
     "output_type": "stream",
     "text": [
      "[LightGBM] [Warning] min_data_in_leaf is set=374, min_child_samples=20 will be ignored. Current value: min_data_in_leaf=374\n",
      "Training until validation scores don't improve for 400 rounds\n",
      "Early stopping, best iteration is:\n",
      "[4371]\tvalid_0's auc: 0.855212\n"
     ]
    },
    {
     "name": "stderr",
     "output_type": "stream",
     "text": [
      "3it [04:53, 98.61s/it]"
     ]
    },
    {
     "name": "stdout",
     "output_type": "stream",
     "text": [
      "[LightGBM] [Warning] min_data_in_leaf is set=374, min_child_samples=20 will be ignored. Current value: min_data_in_leaf=374\n",
      "Training until validation scores don't improve for 400 rounds\n",
      "Early stopping, best iteration is:\n",
      "[4367]\tvalid_0's auc: 0.85661\n"
     ]
    },
    {
     "name": "stderr",
     "output_type": "stream",
     "text": [
      "4it [06:35, 99.84s/it]"
     ]
    },
    {
     "name": "stdout",
     "output_type": "stream",
     "text": [
      "[LightGBM] [Warning] min_data_in_leaf is set=374, min_child_samples=20 will be ignored. Current value: min_data_in_leaf=374\n",
      "Training until validation scores don't improve for 400 rounds\n",
      "Early stopping, best iteration is:\n",
      "[4375]\tvalid_0's auc: 0.856467\n"
     ]
    },
    {
     "name": "stderr",
     "output_type": "stream",
     "text": [
      "5it [08:19, 99.85s/it] \n",
      "\u001b[32m[I 2021-10-21 15:17:16,575]\u001b[0m Trial 81 finished with value: 0.8563013304198994 and parameters: {'learning_rate': 0.041136832423488305, 'n_estimators': 4807, 'max_depth': 3, 'num_leaves': 93, 'reg_alpha': 4.954127682775155, 'reg_lambda': 4.125094874625538, 'min_data_in_leaf': 374}. Best is trial 58 with value: 0.8563642309651686.\u001b[0m\n",
      "0it [00:00, ?it/s]"
     ]
    },
    {
     "name": "stdout",
     "output_type": "stream",
     "text": [
      "[LightGBM] [Warning] min_data_in_leaf is set=319, min_child_samples=20 will be ignored. Current value: min_data_in_leaf=319\n",
      "Training until validation scores don't improve for 400 rounds\n",
      "Early stopping, best iteration is:\n",
      "[3954]\tvalid_0's auc: 0.855871\n"
     ]
    },
    {
     "name": "stderr",
     "output_type": "stream",
     "text": [
      "1it [01:33, 93.32s/it]"
     ]
    },
    {
     "name": "stdout",
     "output_type": "stream",
     "text": [
      "[LightGBM] [Warning] min_data_in_leaf is set=319, min_child_samples=20 will be ignored. Current value: min_data_in_leaf=319\n",
      "Training until validation scores don't improve for 400 rounds\n",
      "Early stopping, best iteration is:\n",
      "[3612]\tvalid_0's auc: 0.857705\n"
     ]
    },
    {
     "name": "stderr",
     "output_type": "stream",
     "text": [
      "2it [03:00, 89.44s/it]"
     ]
    },
    {
     "name": "stdout",
     "output_type": "stream",
     "text": [
      "[LightGBM] [Warning] min_data_in_leaf is set=319, min_child_samples=20 will be ignored. Current value: min_data_in_leaf=319\n",
      "Training until validation scores don't improve for 400 rounds\n",
      "Early stopping, best iteration is:\n",
      "[3866]\tvalid_0's auc: 0.856916\n"
     ]
    },
    {
     "name": "stderr",
     "output_type": "stream",
     "text": [
      "3it [04:32, 90.61s/it]"
     ]
    },
    {
     "name": "stdout",
     "output_type": "stream",
     "text": [
      "[LightGBM] [Warning] min_data_in_leaf is set=319, min_child_samples=20 will be ignored. Current value: min_data_in_leaf=319\n",
      "Training until validation scores don't improve for 400 rounds\n",
      "Early stopping, best iteration is:\n",
      "[4203]\tvalid_0's auc: 0.855906\n"
     ]
    },
    {
     "name": "stderr",
     "output_type": "stream",
     "text": [
      "4it [06:10, 93.68s/it]"
     ]
    },
    {
     "name": "stdout",
     "output_type": "stream",
     "text": [
      "[LightGBM] [Warning] min_data_in_leaf is set=319, min_child_samples=20 will be ignored. Current value: min_data_in_leaf=319\n",
      "Training until validation scores don't improve for 400 rounds\n",
      "Early stopping, best iteration is:\n",
      "[3878]\tvalid_0's auc: 0.855215\n"
     ]
    },
    {
     "name": "stderr",
     "output_type": "stream",
     "text": [
      "5it [07:42, 92.51s/it]\n",
      "\u001b[32m[I 2021-10-21 15:24:59,367]\u001b[0m Trial 82 finished with value: 0.8563226257210541 and parameters: {'learning_rate': 0.04596434152877922, 'n_estimators': 4785, 'max_depth': 3, 'num_leaves': 97, 'reg_alpha': 4.8520631776651815, 'reg_lambda': 4.188137382663796, 'min_data_in_leaf': 319}. Best is trial 58 with value: 0.8563642309651686.\u001b[0m\n",
      "0it [00:00, ?it/s]"
     ]
    },
    {
     "name": "stdout",
     "output_type": "stream",
     "text": [
      "[LightGBM] [Warning] min_data_in_leaf is set=315, min_child_samples=20 will be ignored. Current value: min_data_in_leaf=315\n",
      "Training until validation scores don't improve for 400 rounds\n",
      "Early stopping, best iteration is:\n",
      "[3884]\tvalid_0's auc: 0.855732\n"
     ]
    },
    {
     "name": "stderr",
     "output_type": "stream",
     "text": [
      "1it [01:32, 92.75s/it]"
     ]
    },
    {
     "name": "stdout",
     "output_type": "stream",
     "text": [
      "[LightGBM] [Warning] min_data_in_leaf is set=315, min_child_samples=20 will be ignored. Current value: min_data_in_leaf=315\n",
      "Training until validation scores don't improve for 400 rounds\n",
      "Early stopping, best iteration is:\n",
      "[3747]\tvalid_0's auc: 0.854931\n"
     ]
    },
    {
     "name": "stderr",
     "output_type": "stream",
     "text": [
      "2it [03:01, 90.48s/it]"
     ]
    },
    {
     "name": "stdout",
     "output_type": "stream",
     "text": [
      "[LightGBM] [Warning] min_data_in_leaf is set=315, min_child_samples=20 will be ignored. Current value: min_data_in_leaf=315\n",
      "Training until validation scores don't improve for 400 rounds\n",
      "Early stopping, best iteration is:\n",
      "[3573]\tvalid_0's auc: 0.856475\n"
     ]
    },
    {
     "name": "stderr",
     "output_type": "stream",
     "text": [
      "3it [04:28, 88.64s/it]"
     ]
    },
    {
     "name": "stdout",
     "output_type": "stream",
     "text": [
      "[LightGBM] [Warning] min_data_in_leaf is set=315, min_child_samples=20 will be ignored. Current value: min_data_in_leaf=315\n",
      "Training until validation scores don't improve for 400 rounds\n",
      "Early stopping, best iteration is:\n",
      "[3406]\tvalid_0's auc: 0.855906\n"
     ]
    },
    {
     "name": "stderr",
     "output_type": "stream",
     "text": [
      "4it [05:50, 86.26s/it]"
     ]
    },
    {
     "name": "stdout",
     "output_type": "stream",
     "text": [
      "[LightGBM] [Warning] min_data_in_leaf is set=315, min_child_samples=20 will be ignored. Current value: min_data_in_leaf=315\n",
      "Training until validation scores don't improve for 400 rounds\n",
      "Early stopping, best iteration is:\n",
      "[3478]\tvalid_0's auc: 0.858173\n"
     ]
    },
    {
     "name": "stderr",
     "output_type": "stream",
     "text": [
      "5it [07:15, 87.03s/it]\n",
      "\u001b[32m[I 2021-10-21 15:32:14,754]\u001b[0m Trial 83 finished with value: 0.8562432463728292 and parameters: {'learning_rate': 0.047425399250581604, 'n_estimators': 4992, 'max_depth': 3, 'num_leaves': 97, 'reg_alpha': 4.931594391007583, 'reg_lambda': 4.218111939836286, 'min_data_in_leaf': 315}. Best is trial 58 with value: 0.8563642309651686.\u001b[0m\n",
      "0it [00:00, ?it/s]"
     ]
    },
    {
     "name": "stdout",
     "output_type": "stream",
     "text": [
      "[LightGBM] [Warning] min_data_in_leaf is set=220, min_child_samples=20 will be ignored. Current value: min_data_in_leaf=220\n",
      "Training until validation scores don't improve for 400 rounds\n",
      "Early stopping, best iteration is:\n",
      "[4061]\tvalid_0's auc: 0.855954\n"
     ]
    },
    {
     "name": "stderr",
     "output_type": "stream",
     "text": [
      "1it [01:36, 96.06s/it]"
     ]
    },
    {
     "name": "stdout",
     "output_type": "stream",
     "text": [
      "[LightGBM] [Warning] min_data_in_leaf is set=220, min_child_samples=20 will be ignored. Current value: min_data_in_leaf=220\n",
      "Training until validation scores don't improve for 400 rounds\n",
      "Early stopping, best iteration is:\n",
      "[3943]\tvalid_0's auc: 0.855372\n"
     ]
    },
    {
     "name": "stderr",
     "output_type": "stream",
     "text": [
      "2it [03:09, 94.36s/it]"
     ]
    },
    {
     "name": "stdout",
     "output_type": "stream",
     "text": [
      "[LightGBM] [Warning] min_data_in_leaf is set=220, min_child_samples=20 will be ignored. Current value: min_data_in_leaf=220\n",
      "Training until validation scores don't improve for 400 rounds\n",
      "Early stopping, best iteration is:\n",
      "[4206]\tvalid_0's auc: 0.856929\n"
     ]
    },
    {
     "name": "stderr",
     "output_type": "stream",
     "text": [
      "3it [04:47, 96.35s/it]"
     ]
    },
    {
     "name": "stdout",
     "output_type": "stream",
     "text": [
      "[LightGBM] [Warning] min_data_in_leaf is set=220, min_child_samples=20 will be ignored. Current value: min_data_in_leaf=220\n",
      "Training until validation scores don't improve for 400 rounds\n",
      "Did not meet early stopping. Best iteration is:\n",
      "[4519]\tvalid_0's auc: 0.855902\n"
     ]
    },
    {
     "name": "stderr",
     "output_type": "stream",
     "text": [
      "4it [06:30, 98.75s/it]"
     ]
    },
    {
     "name": "stdout",
     "output_type": "stream",
     "text": [
      "[LightGBM] [Warning] min_data_in_leaf is set=220, min_child_samples=20 will be ignored. Current value: min_data_in_leaf=220\n",
      "Training until validation scores don't improve for 400 rounds\n",
      "Early stopping, best iteration is:\n",
      "[4274]\tvalid_0's auc: 0.85743\n"
     ]
    },
    {
     "name": "stderr",
     "output_type": "stream",
     "text": [
      "5it [08:10, 98.10s/it]\n",
      "\u001b[32m[I 2021-10-21 15:40:25,521]\u001b[0m Trial 84 finished with value: 0.8563176487302575 and parameters: {'learning_rate': 0.04028630582271968, 'n_estimators': 4787, 'max_depth': 3, 'num_leaves': 93, 'reg_alpha': 5.313809536592086, 'reg_lambda': 3.8242868937267276, 'min_data_in_leaf': 220}. Best is trial 58 with value: 0.8563642309651686.\u001b[0m\n",
      "0it [00:00, ?it/s]"
     ]
    },
    {
     "name": "stdout",
     "output_type": "stream",
     "text": [
      "[LightGBM] [Warning] min_data_in_leaf is set=205, min_child_samples=20 will be ignored. Current value: min_data_in_leaf=205\n",
      "Training until validation scores don't improve for 400 rounds\n",
      "Did not meet early stopping. Best iteration is:\n",
      "[4777]\tvalid_0's auc: 0.855748\n"
     ]
    },
    {
     "name": "stderr",
     "output_type": "stream",
     "text": [
      "1it [01:44, 104.36s/it]"
     ]
    },
    {
     "name": "stdout",
     "output_type": "stream",
     "text": [
      "[LightGBM] [Warning] min_data_in_leaf is set=205, min_child_samples=20 will be ignored. Current value: min_data_in_leaf=205\n",
      "Training until validation scores don't improve for 400 rounds\n",
      "Early stopping, best iteration is:\n",
      "[4261]\tvalid_0's auc: 0.858019\n"
     ]
    },
    {
     "name": "stderr",
     "output_type": "stream",
     "text": [
      "2it [03:24, 101.59s/it]"
     ]
    },
    {
     "name": "stdout",
     "output_type": "stream",
     "text": [
      "[LightGBM] [Warning] min_data_in_leaf is set=205, min_child_samples=20 will be ignored. Current value: min_data_in_leaf=205\n",
      "Training until validation scores don't improve for 400 rounds\n",
      "Did not meet early stopping. Best iteration is:\n",
      "[4699]\tvalid_0's auc: 0.85586\n"
     ]
    },
    {
     "name": "stderr",
     "output_type": "stream",
     "text": [
      "3it [05:08, 103.11s/it]"
     ]
    },
    {
     "name": "stdout",
     "output_type": "stream",
     "text": [
      "[LightGBM] [Warning] min_data_in_leaf is set=205, min_child_samples=20 will be ignored. Current value: min_data_in_leaf=205\n",
      "Training until validation scores don't improve for 400 rounds\n",
      "Did not meet early stopping. Best iteration is:\n",
      "[4394]\tvalid_0's auc: 0.856806\n"
     ]
    },
    {
     "name": "stderr",
     "output_type": "stream",
     "text": [
      "4it [06:51, 103.03s/it]"
     ]
    },
    {
     "name": "stdout",
     "output_type": "stream",
     "text": [
      "[LightGBM] [Warning] min_data_in_leaf is set=205, min_child_samples=20 will be ignored. Current value: min_data_in_leaf=205\n",
      "Training until validation scores don't improve for 400 rounds\n"
     ]
    },
    {
     "name": "stderr",
     "output_type": "stream",
     "text": [
      "4it [08:08, 122.01s/it]\n"
     ]
    },
    {
     "ename": "KeyboardInterrupt",
     "evalue": "",
     "output_type": "error",
     "traceback": [
      "\u001b[1;31m---------------------------------------------------------------------------\u001b[0m",
      "\u001b[1;31mKeyboardInterrupt\u001b[0m                         Traceback (most recent call last)",
      "\u001b[1;32m~\\AppData\\Local\\Temp/ipykernel_28964/3533510255.py\u001b[0m in \u001b[0;36m<module>\u001b[1;34m\u001b[0m\n\u001b[1;32m----> 1\u001b[1;33m \u001b[0mstudy\u001b[0m\u001b[1;33m.\u001b[0m\u001b[0moptimize\u001b[0m\u001b[1;33m(\u001b[0m\u001b[1;32mlambda\u001b[0m \u001b[0mtrial\u001b[0m\u001b[1;33m:\u001b[0m \u001b[0mobjective\u001b[0m\u001b[1;33m(\u001b[0m\u001b[0mtrial\u001b[0m\u001b[1;33m,\u001b[0m \u001b[0mX\u001b[0m\u001b[1;33m,\u001b[0m \u001b[0my\u001b[0m\u001b[1;33m,\u001b[0m \u001b[1;34m\"lgbm\"\u001b[0m\u001b[1;33m)\u001b[0m\u001b[1;33m,\u001b[0m  \u001b[0mn_trials\u001b[0m\u001b[1;33m=\u001b[0m\u001b[1;36m100\u001b[0m\u001b[1;33m)\u001b[0m\u001b[1;33m\u001b[0m\u001b[1;33m\u001b[0m\u001b[0m\n\u001b[0m\u001b[0;32m      2\u001b[0m \u001b[0mprint\u001b[0m\u001b[1;33m(\u001b[0m\u001b[0mstudy\u001b[0m\u001b[1;33m.\u001b[0m\u001b[0mbest_trial\u001b[0m\u001b[1;33m)\u001b[0m\u001b[1;33m\u001b[0m\u001b[1;33m\u001b[0m\u001b[0m\n",
      "\u001b[1;32m~\\miniconda3\\lib\\site-packages\\optuna\\study\\study.py\u001b[0m in \u001b[0;36moptimize\u001b[1;34m(self, func, n_trials, timeout, n_jobs, catch, callbacks, gc_after_trial, show_progress_bar)\u001b[0m\n\u001b[0;32m    398\u001b[0m             )\n\u001b[0;32m    399\u001b[0m \u001b[1;33m\u001b[0m\u001b[0m\n\u001b[1;32m--> 400\u001b[1;33m         _optimize(\n\u001b[0m\u001b[0;32m    401\u001b[0m             \u001b[0mstudy\u001b[0m\u001b[1;33m=\u001b[0m\u001b[0mself\u001b[0m\u001b[1;33m,\u001b[0m\u001b[1;33m\u001b[0m\u001b[1;33m\u001b[0m\u001b[0m\n\u001b[0;32m    402\u001b[0m             \u001b[0mfunc\u001b[0m\u001b[1;33m=\u001b[0m\u001b[0mfunc\u001b[0m\u001b[1;33m,\u001b[0m\u001b[1;33m\u001b[0m\u001b[1;33m\u001b[0m\u001b[0m\n",
      "\u001b[1;32m~\\miniconda3\\lib\\site-packages\\optuna\\study\\_optimize.py\u001b[0m in \u001b[0;36m_optimize\u001b[1;34m(study, func, n_trials, timeout, n_jobs, catch, callbacks, gc_after_trial, show_progress_bar)\u001b[0m\n\u001b[0;32m     64\u001b[0m     \u001b[1;32mtry\u001b[0m\u001b[1;33m:\u001b[0m\u001b[1;33m\u001b[0m\u001b[1;33m\u001b[0m\u001b[0m\n\u001b[0;32m     65\u001b[0m         \u001b[1;32mif\u001b[0m \u001b[0mn_jobs\u001b[0m \u001b[1;33m==\u001b[0m \u001b[1;36m1\u001b[0m\u001b[1;33m:\u001b[0m\u001b[1;33m\u001b[0m\u001b[1;33m\u001b[0m\u001b[0m\n\u001b[1;32m---> 66\u001b[1;33m             _optimize_sequential(\n\u001b[0m\u001b[0;32m     67\u001b[0m                 \u001b[0mstudy\u001b[0m\u001b[1;33m,\u001b[0m\u001b[1;33m\u001b[0m\u001b[1;33m\u001b[0m\u001b[0m\n\u001b[0;32m     68\u001b[0m                 \u001b[0mfunc\u001b[0m\u001b[1;33m,\u001b[0m\u001b[1;33m\u001b[0m\u001b[1;33m\u001b[0m\u001b[0m\n",
      "\u001b[1;32m~\\miniconda3\\lib\\site-packages\\optuna\\study\\_optimize.py\u001b[0m in \u001b[0;36m_optimize_sequential\u001b[1;34m(study, func, n_trials, timeout, catch, callbacks, gc_after_trial, reseed_sampler_rng, time_start, progress_bar)\u001b[0m\n\u001b[0;32m    161\u001b[0m \u001b[1;33m\u001b[0m\u001b[0m\n\u001b[0;32m    162\u001b[0m         \u001b[1;32mtry\u001b[0m\u001b[1;33m:\u001b[0m\u001b[1;33m\u001b[0m\u001b[1;33m\u001b[0m\u001b[0m\n\u001b[1;32m--> 163\u001b[1;33m             \u001b[0mtrial\u001b[0m \u001b[1;33m=\u001b[0m \u001b[0m_run_trial\u001b[0m\u001b[1;33m(\u001b[0m\u001b[0mstudy\u001b[0m\u001b[1;33m,\u001b[0m \u001b[0mfunc\u001b[0m\u001b[1;33m,\u001b[0m \u001b[0mcatch\u001b[0m\u001b[1;33m)\u001b[0m\u001b[1;33m\u001b[0m\u001b[1;33m\u001b[0m\u001b[0m\n\u001b[0m\u001b[0;32m    164\u001b[0m         \u001b[1;32mexcept\u001b[0m \u001b[0mException\u001b[0m\u001b[1;33m:\u001b[0m\u001b[1;33m\u001b[0m\u001b[1;33m\u001b[0m\u001b[0m\n\u001b[0;32m    165\u001b[0m             \u001b[1;32mraise\u001b[0m\u001b[1;33m\u001b[0m\u001b[1;33m\u001b[0m\u001b[0m\n",
      "\u001b[1;32m~\\miniconda3\\lib\\site-packages\\optuna\\study\\_optimize.py\u001b[0m in \u001b[0;36m_run_trial\u001b[1;34m(study, func, catch)\u001b[0m\n\u001b[0;32m    211\u001b[0m \u001b[1;33m\u001b[0m\u001b[0m\n\u001b[0;32m    212\u001b[0m     \u001b[1;32mtry\u001b[0m\u001b[1;33m:\u001b[0m\u001b[1;33m\u001b[0m\u001b[1;33m\u001b[0m\u001b[0m\n\u001b[1;32m--> 213\u001b[1;33m         \u001b[0mvalue_or_values\u001b[0m \u001b[1;33m=\u001b[0m \u001b[0mfunc\u001b[0m\u001b[1;33m(\u001b[0m\u001b[0mtrial\u001b[0m\u001b[1;33m)\u001b[0m\u001b[1;33m\u001b[0m\u001b[1;33m\u001b[0m\u001b[0m\n\u001b[0m\u001b[0;32m    214\u001b[0m     \u001b[1;32mexcept\u001b[0m \u001b[0mexceptions\u001b[0m\u001b[1;33m.\u001b[0m\u001b[0mTrialPruned\u001b[0m \u001b[1;32mas\u001b[0m \u001b[0me\u001b[0m\u001b[1;33m:\u001b[0m\u001b[1;33m\u001b[0m\u001b[1;33m\u001b[0m\u001b[0m\n\u001b[0;32m    215\u001b[0m         \u001b[1;31m# TODO(mamu): Handle multi-objective cases.\u001b[0m\u001b[1;33m\u001b[0m\u001b[1;33m\u001b[0m\u001b[1;33m\u001b[0m\u001b[0m\n",
      "\u001b[1;32m~\\AppData\\Local\\Temp/ipykernel_28964/3533510255.py\u001b[0m in \u001b[0;36m<lambda>\u001b[1;34m(trial)\u001b[0m\n\u001b[1;32m----> 1\u001b[1;33m \u001b[0mstudy\u001b[0m\u001b[1;33m.\u001b[0m\u001b[0moptimize\u001b[0m\u001b[1;33m(\u001b[0m\u001b[1;32mlambda\u001b[0m \u001b[0mtrial\u001b[0m\u001b[1;33m:\u001b[0m \u001b[0mobjective\u001b[0m\u001b[1;33m(\u001b[0m\u001b[0mtrial\u001b[0m\u001b[1;33m,\u001b[0m \u001b[0mX\u001b[0m\u001b[1;33m,\u001b[0m \u001b[0my\u001b[0m\u001b[1;33m,\u001b[0m \u001b[1;34m\"lgbm\"\u001b[0m\u001b[1;33m)\u001b[0m\u001b[1;33m,\u001b[0m  \u001b[0mn_trials\u001b[0m\u001b[1;33m=\u001b[0m\u001b[1;36m100\u001b[0m\u001b[1;33m)\u001b[0m\u001b[1;33m\u001b[0m\u001b[1;33m\u001b[0m\u001b[0m\n\u001b[0m\u001b[0;32m      2\u001b[0m \u001b[0mprint\u001b[0m\u001b[1;33m(\u001b[0m\u001b[0mstudy\u001b[0m\u001b[1;33m.\u001b[0m\u001b[0mbest_trial\u001b[0m\u001b[1;33m)\u001b[0m\u001b[1;33m\u001b[0m\u001b[1;33m\u001b[0m\u001b[0m\n",
      "\u001b[1;32m~\\AppData\\Local\\Temp/ipykernel_28964/1629282049.py\u001b[0m in \u001b[0;36mobjective\u001b[1;34m(trial, X, y, typ)\u001b[0m\n\u001b[0;32m     44\u001b[0m         \u001b[1;32mif\u001b[0m \u001b[0mtyp\u001b[0m \u001b[1;33m==\u001b[0m \u001b[1;34m'catboost'\u001b[0m\u001b[1;33m:\u001b[0m\u001b[1;33m\u001b[0m\u001b[1;33m\u001b[0m\u001b[0m\n\u001b[0;32m     45\u001b[0m             \u001b[0mverbose\u001b[0m \u001b[1;33m=\u001b[0m \u001b[1;36m0\u001b[0m\u001b[1;33m\u001b[0m\u001b[1;33m\u001b[0m\u001b[0m\n\u001b[1;32m---> 46\u001b[1;33m         \u001b[0mmodel\u001b[0m\u001b[1;33m.\u001b[0m\u001b[0mfit\u001b[0m\u001b[1;33m(\u001b[0m\u001b[0mx_train_idx\u001b[0m\u001b[1;33m,\u001b[0m \u001b[0my_train_idx\u001b[0m\u001b[1;33m,\u001b[0m \u001b[0mearly_stopping_rounds\u001b[0m \u001b[1;33m=\u001b[0m \u001b[0mstopping_rounds\u001b[0m\u001b[1;33m,\u001b[0m \u001b[0meval_set\u001b[0m\u001b[1;33m=\u001b[0m\u001b[1;33m[\u001b[0m\u001b[1;33m(\u001b[0m\u001b[0mx_valid_idx\u001b[0m\u001b[1;33m,\u001b[0m \u001b[0my_valid_idx\u001b[0m\u001b[1;33m)\u001b[0m\u001b[1;33m]\u001b[0m\u001b[1;33m,\u001b[0m \u001b[0mverbose\u001b[0m \u001b[1;33m=\u001b[0m \u001b[0mverbose\u001b[0m\u001b[1;33m)\u001b[0m\u001b[1;33m\u001b[0m\u001b[1;33m\u001b[0m\u001b[0m\n\u001b[0m\u001b[0;32m     47\u001b[0m         \u001b[0mmse\u001b[0m\u001b[1;33m.\u001b[0m\u001b[0mappend\u001b[0m\u001b[1;33m(\u001b[0m\u001b[0mroc_auc_score\u001b[0m\u001b[1;33m(\u001b[0m\u001b[0my_valid_idx\u001b[0m\u001b[1;33m,\u001b[0m \u001b[0mmodel\u001b[0m\u001b[1;33m.\u001b[0m\u001b[0mpredict\u001b[0m\u001b[1;33m(\u001b[0m\u001b[0mx_valid_idx\u001b[0m\u001b[1;33m)\u001b[0m\u001b[1;33m)\u001b[0m\u001b[1;33m)\u001b[0m\u001b[1;33m\u001b[0m\u001b[1;33m\u001b[0m\u001b[0m\n\u001b[0;32m     48\u001b[0m \u001b[1;33m\u001b[0m\u001b[0m\n",
      "\u001b[1;32m~\\miniconda3\\lib\\site-packages\\lightgbm\\sklearn.py\u001b[0m in \u001b[0;36mfit\u001b[1;34m(self, X, y, sample_weight, init_score, eval_set, eval_names, eval_sample_weight, eval_init_score, eval_metric, early_stopping_rounds, verbose, feature_name, categorical_feature, callbacks, init_model)\u001b[0m\n\u001b[0;32m    816\u001b[0m             callbacks=None, init_model=None):\n\u001b[0;32m    817\u001b[0m         \u001b[1;34m\"\"\"Docstring is inherited from the LGBMModel.\"\"\"\u001b[0m\u001b[1;33m\u001b[0m\u001b[1;33m\u001b[0m\u001b[0m\n\u001b[1;32m--> 818\u001b[1;33m         super().fit(X, y, sample_weight=sample_weight, init_score=init_score,\n\u001b[0m\u001b[0;32m    819\u001b[0m                     \u001b[0meval_set\u001b[0m\u001b[1;33m=\u001b[0m\u001b[0meval_set\u001b[0m\u001b[1;33m,\u001b[0m \u001b[0meval_names\u001b[0m\u001b[1;33m=\u001b[0m\u001b[0meval_names\u001b[0m\u001b[1;33m,\u001b[0m \u001b[0meval_sample_weight\u001b[0m\u001b[1;33m=\u001b[0m\u001b[0meval_sample_weight\u001b[0m\u001b[1;33m,\u001b[0m\u001b[1;33m\u001b[0m\u001b[1;33m\u001b[0m\u001b[0m\n\u001b[0;32m    820\u001b[0m                     \u001b[0meval_init_score\u001b[0m\u001b[1;33m=\u001b[0m\u001b[0meval_init_score\u001b[0m\u001b[1;33m,\u001b[0m \u001b[0meval_metric\u001b[0m\u001b[1;33m=\u001b[0m\u001b[0meval_metric\u001b[0m\u001b[1;33m,\u001b[0m\u001b[1;33m\u001b[0m\u001b[1;33m\u001b[0m\u001b[0m\n",
      "\u001b[1;32m~\\miniconda3\\lib\\site-packages\\lightgbm\\sklearn.py\u001b[0m in \u001b[0;36mfit\u001b[1;34m(self, X, y, sample_weight, init_score, group, eval_set, eval_names, eval_sample_weight, eval_class_weight, eval_init_score, eval_group, eval_metric, early_stopping_rounds, verbose, feature_name, categorical_feature, callbacks, init_model)\u001b[0m\n\u001b[0;32m    681\u001b[0m             \u001b[0minit_model\u001b[0m \u001b[1;33m=\u001b[0m \u001b[0minit_model\u001b[0m\u001b[1;33m.\u001b[0m\u001b[0mbooster_\u001b[0m\u001b[1;33m\u001b[0m\u001b[1;33m\u001b[0m\u001b[0m\n\u001b[0;32m    682\u001b[0m \u001b[1;33m\u001b[0m\u001b[0m\n\u001b[1;32m--> 683\u001b[1;33m         self._Booster = train(params, train_set,\n\u001b[0m\u001b[0;32m    684\u001b[0m                               \u001b[0mself\u001b[0m\u001b[1;33m.\u001b[0m\u001b[0mn_estimators\u001b[0m\u001b[1;33m,\u001b[0m \u001b[0mvalid_sets\u001b[0m\u001b[1;33m=\u001b[0m\u001b[0mvalid_sets\u001b[0m\u001b[1;33m,\u001b[0m \u001b[0mvalid_names\u001b[0m\u001b[1;33m=\u001b[0m\u001b[0meval_names\u001b[0m\u001b[1;33m,\u001b[0m\u001b[1;33m\u001b[0m\u001b[1;33m\u001b[0m\u001b[0m\n\u001b[0;32m    685\u001b[0m                               \u001b[0mearly_stopping_rounds\u001b[0m\u001b[1;33m=\u001b[0m\u001b[0mearly_stopping_rounds\u001b[0m\u001b[1;33m,\u001b[0m\u001b[1;33m\u001b[0m\u001b[1;33m\u001b[0m\u001b[0m\n",
      "\u001b[1;32m~\\miniconda3\\lib\\site-packages\\lightgbm\\engine.py\u001b[0m in \u001b[0;36mtrain\u001b[1;34m(params, train_set, num_boost_round, valid_sets, valid_names, fobj, feval, init_model, feature_name, categorical_feature, early_stopping_rounds, evals_result, verbose_eval, learning_rates, keep_training_booster, callbacks)\u001b[0m\n\u001b[0;32m    247\u001b[0m                                     evaluation_result_list=None))\n\u001b[0;32m    248\u001b[0m \u001b[1;33m\u001b[0m\u001b[0m\n\u001b[1;32m--> 249\u001b[1;33m         \u001b[0mbooster\u001b[0m\u001b[1;33m.\u001b[0m\u001b[0mupdate\u001b[0m\u001b[1;33m(\u001b[0m\u001b[0mfobj\u001b[0m\u001b[1;33m=\u001b[0m\u001b[0mfobj\u001b[0m\u001b[1;33m)\u001b[0m\u001b[1;33m\u001b[0m\u001b[1;33m\u001b[0m\u001b[0m\n\u001b[0m\u001b[0;32m    250\u001b[0m \u001b[1;33m\u001b[0m\u001b[0m\n\u001b[0;32m    251\u001b[0m         \u001b[0mevaluation_result_list\u001b[0m \u001b[1;33m=\u001b[0m \u001b[1;33m[\u001b[0m\u001b[1;33m]\u001b[0m\u001b[1;33m\u001b[0m\u001b[1;33m\u001b[0m\u001b[0m\n",
      "\u001b[1;32m~\\miniconda3\\lib\\site-packages\\lightgbm\\basic.py\u001b[0m in \u001b[0;36mupdate\u001b[1;34m(self, train_set, fobj)\u001b[0m\n\u001b[0;32m   2641\u001b[0m             \u001b[1;32mif\u001b[0m \u001b[0mself\u001b[0m\u001b[1;33m.\u001b[0m\u001b[0m__set_objective_to_none\u001b[0m\u001b[1;33m:\u001b[0m\u001b[1;33m\u001b[0m\u001b[1;33m\u001b[0m\u001b[0m\n\u001b[0;32m   2642\u001b[0m                 \u001b[1;32mraise\u001b[0m \u001b[0mLightGBMError\u001b[0m\u001b[1;33m(\u001b[0m\u001b[1;34m'Cannot update due to null objective function.'\u001b[0m\u001b[1;33m)\u001b[0m\u001b[1;33m\u001b[0m\u001b[1;33m\u001b[0m\u001b[0m\n\u001b[1;32m-> 2643\u001b[1;33m             _safe_call(_LIB.LGBM_BoosterUpdateOneIter(\n\u001b[0m\u001b[0;32m   2644\u001b[0m                 \u001b[0mself\u001b[0m\u001b[1;33m.\u001b[0m\u001b[0mhandle\u001b[0m\u001b[1;33m,\u001b[0m\u001b[1;33m\u001b[0m\u001b[1;33m\u001b[0m\u001b[0m\n\u001b[0;32m   2645\u001b[0m                 ctypes.byref(is_finished)))\n",
      "\u001b[1;31mKeyboardInterrupt\u001b[0m: "
     ]
    }
   ],
   "source": [
    "study.optimize(lambda trial: objective(trial, X, y, \"lgbm\"),  n_trials=100)\n",
    "print(study.best_trial)"
   ]
  },
  {
   "cell_type": "code",
   "execution_count": null,
   "id": "09a6dffb-345b-40c7-bf08-2da019612ac1",
   "metadata": {},
   "outputs": [],
   "source": []
  },
  {
   "cell_type": "code",
   "execution_count": null,
   "id": "f1b25b1f-01b5-4c57-b35b-900d12f6be8f",
   "metadata": {},
   "outputs": [],
   "source": []
  }
 ],
 "metadata": {
  "kernelspec": {
   "display_name": "Python 3 (ipykernel)",
   "language": "python",
   "name": "python3"
  },
  "language_info": {
   "codemirror_mode": {
    "name": "ipython",
    "version": 3
   },
   "file_extension": ".py",
   "mimetype": "text/x-python",
   "name": "python",
   "nbconvert_exporter": "python",
   "pygments_lexer": "ipython3",
   "version": "3.9.5"
  }
 },
 "nbformat": 4,
 "nbformat_minor": 5
}
