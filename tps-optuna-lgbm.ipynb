{
 "cells": [
  {
   "cell_type": "code",
   "execution_count": 3,
   "id": "60fa47e1-02a9-4c62-a303-1382d08fea21",
   "metadata": {},
   "outputs": [],
   "source": [
    "# Familiar imports\n",
    "import numpy as np\n",
    "import pandas as pd\n",
    "\n",
    "# For ordinal encoding categorical variables, splitting data\n",
    "from sklearn.preprocessing import OrdinalEncoder\n",
    "from sklearn.model_selection import train_test_split, KFold, StratifiedKFold\n",
    "\n",
    "# For training random forest model\n",
    "from sklearn.ensemble import RandomForestRegressor\n",
    "from sklearn.metrics import mean_squared_error\n",
    "from sklearn.feature_selection import mutual_info_regression\n",
    "from sklearn.cluster import KMeans\n",
    "from sklearn.compose import ColumnTransformer\n",
    "from sklearn.pipeline import Pipeline\n",
    "from sklearn.impute import SimpleImputer\n",
    "from sklearn.preprocessing import OneHotEncoder, LabelEncoder\n",
    "from sklearn.ensemble import RandomForestRegressor\n",
    "from sklearn.metrics import mean_absolute_error, roc_auc_score\n",
    "from sklearn.experimental import enable_iterative_imputer\n",
    "from sklearn.impute import IterativeImputer\n",
    "from xgboost import XGBRegressor\n",
    "from lightgbm import LGBMRegressor\n",
    "import seaborn as sns\n",
    "from tqdm import tqdm\n",
    "from sklearn.model_selection import cross_val_score, GridSearchCV\n",
    "from sklearn.decomposition import PCA\n",
    "import matplotlib.pyplot as plt\n",
    "from catboost import CatBoostRegressor\n",
    "from sklearn.linear_model import Ridge\n",
    "from tqdm import tqdm\n",
    "import optuna\n",
    "\n",
    "from lightgbm import LGBMRegressor"
   ]
  },
  {
   "cell_type": "code",
   "execution_count": 4,
   "id": "b63bd980-c2d5-49a8-bfc8-bfec1f109845",
   "metadata": {},
   "outputs": [
    {
     "data": {
      "text/html": [
       "<div>\n",
       "<style scoped>\n",
       "    .dataframe tbody tr th:only-of-type {\n",
       "        vertical-align: middle;\n",
       "    }\n",
       "\n",
       "    .dataframe tbody tr th {\n",
       "        vertical-align: top;\n",
       "    }\n",
       "\n",
       "    .dataframe thead th {\n",
       "        text-align: right;\n",
       "    }\n",
       "</style>\n",
       "<table border=\"1\" class=\"dataframe\">\n",
       "  <thead>\n",
       "    <tr style=\"text-align: right;\">\n",
       "      <th></th>\n",
       "      <th>f0</th>\n",
       "      <th>f1</th>\n",
       "      <th>f2</th>\n",
       "      <th>f3</th>\n",
       "      <th>f4</th>\n",
       "      <th>f5</th>\n",
       "      <th>f6</th>\n",
       "      <th>f7</th>\n",
       "      <th>f8</th>\n",
       "      <th>f9</th>\n",
       "      <th>...</th>\n",
       "      <th>f91</th>\n",
       "      <th>f92</th>\n",
       "      <th>f93</th>\n",
       "      <th>f94</th>\n",
       "      <th>f95</th>\n",
       "      <th>f96</th>\n",
       "      <th>f97</th>\n",
       "      <th>f98</th>\n",
       "      <th>f99</th>\n",
       "      <th>target</th>\n",
       "    </tr>\n",
       "    <tr>\n",
       "      <th>id</th>\n",
       "      <th></th>\n",
       "      <th></th>\n",
       "      <th></th>\n",
       "      <th></th>\n",
       "      <th></th>\n",
       "      <th></th>\n",
       "      <th></th>\n",
       "      <th></th>\n",
       "      <th></th>\n",
       "      <th></th>\n",
       "      <th></th>\n",
       "      <th></th>\n",
       "      <th></th>\n",
       "      <th></th>\n",
       "      <th></th>\n",
       "      <th></th>\n",
       "      <th></th>\n",
       "      <th></th>\n",
       "      <th></th>\n",
       "      <th></th>\n",
       "      <th></th>\n",
       "    </tr>\n",
       "  </thead>\n",
       "  <tbody>\n",
       "    <tr>\n",
       "      <th>0</th>\n",
       "      <td>0.106643</td>\n",
       "      <td>3.59437</td>\n",
       "      <td>132.8040</td>\n",
       "      <td>3.18428</td>\n",
       "      <td>0.081971</td>\n",
       "      <td>1.18859</td>\n",
       "      <td>3.73238</td>\n",
       "      <td>2.266270</td>\n",
       "      <td>2.09959</td>\n",
       "      <td>0.012330</td>\n",
       "      <td>...</td>\n",
       "      <td>1.09862</td>\n",
       "      <td>0.013331</td>\n",
       "      <td>-0.011715</td>\n",
       "      <td>0.052759</td>\n",
       "      <td>0.065400</td>\n",
       "      <td>4.211250</td>\n",
       "      <td>1.97877</td>\n",
       "      <td>0.085974</td>\n",
       "      <td>0.240496</td>\n",
       "      <td>0</td>\n",
       "    </tr>\n",
       "    <tr>\n",
       "      <th>1</th>\n",
       "      <td>0.125021</td>\n",
       "      <td>1.67336</td>\n",
       "      <td>76.5336</td>\n",
       "      <td>3.37825</td>\n",
       "      <td>0.099400</td>\n",
       "      <td>5.09366</td>\n",
       "      <td>1.27562</td>\n",
       "      <td>-0.471318</td>\n",
       "      <td>4.54594</td>\n",
       "      <td>0.037706</td>\n",
       "      <td>...</td>\n",
       "      <td>3.46017</td>\n",
       "      <td>0.017054</td>\n",
       "      <td>0.124863</td>\n",
       "      <td>0.154064</td>\n",
       "      <td>0.606848</td>\n",
       "      <td>-0.267928</td>\n",
       "      <td>2.57786</td>\n",
       "      <td>-0.020877</td>\n",
       "      <td>0.024719</td>\n",
       "      <td>0</td>\n",
       "    </tr>\n",
       "    <tr>\n",
       "      <th>2</th>\n",
       "      <td>0.036330</td>\n",
       "      <td>1.49747</td>\n",
       "      <td>233.5460</td>\n",
       "      <td>2.19435</td>\n",
       "      <td>0.026914</td>\n",
       "      <td>3.12694</td>\n",
       "      <td>5.05687</td>\n",
       "      <td>3.849460</td>\n",
       "      <td>1.80187</td>\n",
       "      <td>0.056995</td>\n",
       "      <td>...</td>\n",
       "      <td>4.88300</td>\n",
       "      <td>0.085222</td>\n",
       "      <td>0.032396</td>\n",
       "      <td>0.116092</td>\n",
       "      <td>-0.001688</td>\n",
       "      <td>-0.520069</td>\n",
       "      <td>2.14112</td>\n",
       "      <td>0.124464</td>\n",
       "      <td>0.148209</td>\n",
       "      <td>0</td>\n",
       "    </tr>\n",
       "    <tr>\n",
       "      <th>3</th>\n",
       "      <td>-0.014077</td>\n",
       "      <td>0.24600</td>\n",
       "      <td>779.9670</td>\n",
       "      <td>1.89064</td>\n",
       "      <td>0.006948</td>\n",
       "      <td>1.53112</td>\n",
       "      <td>2.69800</td>\n",
       "      <td>4.517330</td>\n",
       "      <td>4.50332</td>\n",
       "      <td>0.123494</td>\n",
       "      <td>...</td>\n",
       "      <td>3.47439</td>\n",
       "      <td>-0.017103</td>\n",
       "      <td>-0.008100</td>\n",
       "      <td>0.062013</td>\n",
       "      <td>0.041193</td>\n",
       "      <td>0.511657</td>\n",
       "      <td>1.96860</td>\n",
       "      <td>0.040017</td>\n",
       "      <td>0.044873</td>\n",
       "      <td>0</td>\n",
       "    </tr>\n",
       "    <tr>\n",
       "      <th>4</th>\n",
       "      <td>-0.003259</td>\n",
       "      <td>3.71542</td>\n",
       "      <td>156.1280</td>\n",
       "      <td>2.14772</td>\n",
       "      <td>0.018284</td>\n",
       "      <td>2.09859</td>\n",
       "      <td>4.15492</td>\n",
       "      <td>-0.038236</td>\n",
       "      <td>3.37145</td>\n",
       "      <td>0.034166</td>\n",
       "      <td>...</td>\n",
       "      <td>1.91059</td>\n",
       "      <td>-0.042943</td>\n",
       "      <td>0.105616</td>\n",
       "      <td>0.125072</td>\n",
       "      <td>0.037509</td>\n",
       "      <td>1.043790</td>\n",
       "      <td>1.07481</td>\n",
       "      <td>-0.012819</td>\n",
       "      <td>0.072798</td>\n",
       "      <td>1</td>\n",
       "    </tr>\n",
       "  </tbody>\n",
       "</table>\n",
       "<p>5 rows × 101 columns</p>\n",
       "</div>"
      ],
      "text/plain": [
       "          f0       f1        f2       f3        f4       f5       f6  \\\n",
       "id                                                                     \n",
       "0   0.106643  3.59437  132.8040  3.18428  0.081971  1.18859  3.73238   \n",
       "1   0.125021  1.67336   76.5336  3.37825  0.099400  5.09366  1.27562   \n",
       "2   0.036330  1.49747  233.5460  2.19435  0.026914  3.12694  5.05687   \n",
       "3  -0.014077  0.24600  779.9670  1.89064  0.006948  1.53112  2.69800   \n",
       "4  -0.003259  3.71542  156.1280  2.14772  0.018284  2.09859  4.15492   \n",
       "\n",
       "          f7       f8        f9  ...      f91       f92       f93       f94  \\\n",
       "id                               ...                                          \n",
       "0   2.266270  2.09959  0.012330  ...  1.09862  0.013331 -0.011715  0.052759   \n",
       "1  -0.471318  4.54594  0.037706  ...  3.46017  0.017054  0.124863  0.154064   \n",
       "2   3.849460  1.80187  0.056995  ...  4.88300  0.085222  0.032396  0.116092   \n",
       "3   4.517330  4.50332  0.123494  ...  3.47439 -0.017103 -0.008100  0.062013   \n",
       "4  -0.038236  3.37145  0.034166  ...  1.91059 -0.042943  0.105616  0.125072   \n",
       "\n",
       "         f95       f96      f97       f98       f99  target  \n",
       "id                                                           \n",
       "0   0.065400  4.211250  1.97877  0.085974  0.240496       0  \n",
       "1   0.606848 -0.267928  2.57786 -0.020877  0.024719       0  \n",
       "2  -0.001688 -0.520069  2.14112  0.124464  0.148209       0  \n",
       "3   0.041193  0.511657  1.96860  0.040017  0.044873       0  \n",
       "4   0.037509  1.043790  1.07481 -0.012819  0.072798       1  \n",
       "\n",
       "[5 rows x 101 columns]"
      ]
     },
     "execution_count": 4,
     "metadata": {},
     "output_type": "execute_result"
    }
   ],
   "source": [
    "# Load the training data\n",
    "train = pd.read_csv(\"../input/tabular-playground-series-nov-2021/train.csv\", index_col=0)\n",
    "test = pd.read_csv(\"../input/tabular-playground-series-nov-2021/test.csv\", index_col=0)\n",
    "\n",
    "# Preview the data\n",
    "train.head()"
   ]
  },
  {
   "cell_type": "code",
   "execution_count": 5,
   "id": "2b7169b8-68d0-4ac9-8c48-87c5d9626a30",
   "metadata": {},
   "outputs": [
    {
     "data": {
      "text/plain": [
       "(600000, 100)"
      ]
     },
     "execution_count": 5,
     "metadata": {},
     "output_type": "execute_result"
    }
   ],
   "source": [
    "y = train['target']\n",
    "features = train.drop(['target'], axis=1)\n",
    "\n",
    "X = features.copy()\n",
    "X.shape"
   ]
  },
  {
   "cell_type": "code",
   "execution_count": 6,
   "id": "5291165a-3fe4-43fc-a827-9d7889d64b04",
   "metadata": {},
   "outputs": [],
   "source": [
    "def create_pipeline(**kvargs):\n",
    "    typ = kvargs.pop('typ')\n",
    "    if typ == 'xgboost':\n",
    "        model = XGBRegressor(**kvargs, n_jobs=3, tree_method='gpu_hist', gpu_id=0, eval_metric=\"auc\")\n",
    "    elif typ == 'lgbm':\n",
    "        model = LGBMRegressor(**kvargs, n_jobs=3, device='gpu', metric = \"auc\")\n",
    "    else:\n",
    "        model = CatBoostRegressor(**kvargs)\n",
    "    \n",
    "    #pipeline = Pipeline(steps=[\n",
    "    #    ('preprocessor', preprocessor),\n",
    "    #    ('model', model)\n",
    "    #])\n",
    "    return model"
   ]
  },
  {
   "cell_type": "code",
   "execution_count": 7,
   "id": "babc2b98-b4f0-4e89-986b-064af6f2e419",
   "metadata": {},
   "outputs": [],
   "source": [
    "def objective(trial, X, y, typ):\n",
    "    #n_estimators = trial.suggest_int(\"n_estimators\", 500, 5000)\n",
    "    learning_rate = trial.suggest_float(\"learning_rate\", 0.001, 0.99)\n",
    "    stopping_rounds = 400\n",
    "    params={'typ':typ}\n",
    "    if typ == 'xgboost':\n",
    "        params['booster']='gbtree'\n",
    "        params['n_estimators'] = trial.suggest_int(\"n_estimators\", 5000, 20000)\n",
    "        params['gamma'] = trial.suggest_float('gamma', 0, 100)\n",
    "        params['max_depth'] = trial.suggest_int('max_depth', 1, 15)\n",
    "        params['min_child_weight']=trial.suggest_float('min_child_weight', 0, 10)\n",
    "        params['subsample']=trial.suggest_float('subsample', 0.1, 1)\n",
    "        params['lambda']=trial.suggest_float('lambda', 1, 5)\n",
    "        params['alpha']=trial.suggest_float('alpha', 0, 10)\n",
    "    elif typ=='lgbm':\n",
    "        params['n_estimators'] = trial.suggest_int(\"n_estimators\", 500, 10000)\n",
    "        params['max_depth']=trial.suggest_int('max_depth', 2, 10)\n",
    "        params['num_leaves']=trial.suggest_int('num_leaves', 2, 100)\n",
    "        params['reg_alpha']=trial.suggest_float('reg_alpha', 0, 10)\n",
    "        params['reg_lambda']=trial.suggest_float('reg_lambda', 0, 10)\n",
    "        params['min_data_in_leaf']=trial.suggest_int('min_data_in_leaf', 50, 1000)\n",
    "    else:\n",
    "        params['iterations'] = trial.suggest_int(\"iterations\", 500, 5000)\n",
    "        params['depth'] = trial.suggest_int(\"depth\", 3, 15)\n",
    "        params['l2_leaf_reg']=trial.suggest_float('l2_leaf_reg', 0.01, 100)\n",
    "        params['bagging_temperature']=trial.suggest_float('bagging_temperature', 0, 10)\n",
    "    \n",
    "    #score = cross_val_score(model, X, y, cv=5, scoring='neg_mean_squared_error')\n",
    "    val_pred = np.zeros(len(y))\n",
    "\n",
    "    mse = []\n",
    "    spl = 10\n",
    "    kf = KFold(n_splits=spl, shuffle=True)\n",
    "    for trn_idx, val_idx in tqdm(kf.split(X,y)):\n",
    "        x_train_idx = X.iloc[trn_idx]\n",
    "        y_train_idx = y.iloc[trn_idx]\n",
    "        x_valid_idx = X.iloc[val_idx]\n",
    "        y_valid_idx = y.iloc[val_idx]\n",
    "\n",
    "        model = create_pipeline(learning_rate=learning_rate, **params)\n",
    "        verbose = -1\n",
    "        if typ == 'xgboost':\n",
    "            verbose = False\n",
    "        if typ == 'catboost':\n",
    "            verbose = 0\n",
    "        model.fit(x_train_idx, y_train_idx, early_stopping_rounds = stopping_rounds, eval_set=[(x_valid_idx, y_valid_idx)], verbose = verbose)\n",
    "        mse.append(roc_auc_score(y_valid_idx, model.predict(x_valid_idx)))\n",
    "    \n",
    "    accuracy = sum(mse)/spl\n",
    "    return accuracy"
   ]
  },
  {
   "cell_type": "code",
   "execution_count": null,
   "id": "eafff56d-dc57-4154-a1f9-755740038bc3",
   "metadata": {},
   "outputs": [],
   "source": []
  },
  {
   "cell_type": "code",
   "execution_count": 8,
   "id": "79caea8b-3d7e-45fd-b362-a3338f1c4994",
   "metadata": {},
   "outputs": [
    {
     "name": "stderr",
     "output_type": "stream",
     "text": [
      "\u001b[32m[I 2021-11-03 09:08:13,416]\u001b[0m A new study created in RDB with name: tps-nov2-lbgm\u001b[0m\n"
     ]
    }
   ],
   "source": [
    "study_name = 'tps-nov2-lbgm'  # Unique identifier of the study.\n",
    "study = optuna.create_study(study_name=study_name, storage='sqlite:///'+study_name+'.db', direction=\"maximize\", load_if_exists=True)"
   ]
  },
  {
   "cell_type": "code",
   "execution_count": 9,
   "id": "86debe3f-a9f3-41ff-912a-f57ae86d4279",
   "metadata": {},
   "outputs": [
    {
     "ename": "ValueError",
     "evalue": "Record does not exist.",
     "output_type": "error",
     "traceback": [
      "\u001b[1;31m---------------------------------------------------------------------------\u001b[0m",
      "\u001b[1;31mValueError\u001b[0m                                Traceback (most recent call last)",
      "\u001b[1;32m~\\AppData\\Local\\Temp/ipykernel_13152/2634521730.py\u001b[0m in \u001b[0;36m<module>\u001b[1;34m\u001b[0m\n\u001b[1;32m----> 1\u001b[1;33m \u001b[0mprint\u001b[0m\u001b[1;33m(\u001b[0m\u001b[0mstudy\u001b[0m\u001b[1;33m.\u001b[0m\u001b[0mbest_trial\u001b[0m\u001b[1;33m)\u001b[0m\u001b[1;33m\u001b[0m\u001b[1;33m\u001b[0m\u001b[0m\n\u001b[0m",
      "\u001b[1;32m~\\miniconda3\\lib\\site-packages\\optuna\\study\\study.py\u001b[0m in \u001b[0;36mbest_trial\u001b[1;34m(self)\u001b[0m\n\u001b[0;32m     95\u001b[0m             )\n\u001b[0;32m     96\u001b[0m \u001b[1;33m\u001b[0m\u001b[0m\n\u001b[1;32m---> 97\u001b[1;33m         \u001b[1;32mreturn\u001b[0m \u001b[0mcopy\u001b[0m\u001b[1;33m.\u001b[0m\u001b[0mdeepcopy\u001b[0m\u001b[1;33m(\u001b[0m\u001b[0mself\u001b[0m\u001b[1;33m.\u001b[0m\u001b[0m_storage\u001b[0m\u001b[1;33m.\u001b[0m\u001b[0mget_best_trial\u001b[0m\u001b[1;33m(\u001b[0m\u001b[0mself\u001b[0m\u001b[1;33m.\u001b[0m\u001b[0m_study_id\u001b[0m\u001b[1;33m)\u001b[0m\u001b[1;33m)\u001b[0m\u001b[1;33m\u001b[0m\u001b[1;33m\u001b[0m\u001b[0m\n\u001b[0m\u001b[0;32m     98\u001b[0m \u001b[1;33m\u001b[0m\u001b[0m\n\u001b[0;32m     99\u001b[0m     \u001b[1;33m@\u001b[0m\u001b[0mproperty\u001b[0m\u001b[1;33m\u001b[0m\u001b[1;33m\u001b[0m\u001b[0m\n",
      "\u001b[1;32m~\\miniconda3\\lib\\site-packages\\optuna\\storages\\_cached_storage.py\u001b[0m in \u001b[0;36mget_best_trial\u001b[1;34m(self, study_id)\u001b[0m\n\u001b[0;32m    282\u001b[0m     \u001b[1;32mdef\u001b[0m \u001b[0mget_best_trial\u001b[0m\u001b[1;33m(\u001b[0m\u001b[0mself\u001b[0m\u001b[1;33m,\u001b[0m \u001b[0mstudy_id\u001b[0m\u001b[1;33m:\u001b[0m \u001b[0mint\u001b[0m\u001b[1;33m)\u001b[0m \u001b[1;33m->\u001b[0m \u001b[0mFrozenTrial\u001b[0m\u001b[1;33m:\u001b[0m\u001b[1;33m\u001b[0m\u001b[1;33m\u001b[0m\u001b[0m\n\u001b[0;32m    283\u001b[0m \u001b[1;33m\u001b[0m\u001b[0m\n\u001b[1;32m--> 284\u001b[1;33m         \u001b[1;32mreturn\u001b[0m \u001b[0mself\u001b[0m\u001b[1;33m.\u001b[0m\u001b[0m_backend\u001b[0m\u001b[1;33m.\u001b[0m\u001b[0mget_best_trial\u001b[0m\u001b[1;33m(\u001b[0m\u001b[0mstudy_id\u001b[0m\u001b[1;33m)\u001b[0m\u001b[1;33m\u001b[0m\u001b[1;33m\u001b[0m\u001b[0m\n\u001b[0m\u001b[0;32m    285\u001b[0m \u001b[1;33m\u001b[0m\u001b[0m\n\u001b[0;32m    286\u001b[0m     \u001b[1;32mdef\u001b[0m \u001b[0mget_trial_param\u001b[0m\u001b[1;33m(\u001b[0m\u001b[0mself\u001b[0m\u001b[1;33m,\u001b[0m \u001b[0mtrial_id\u001b[0m\u001b[1;33m:\u001b[0m \u001b[0mint\u001b[0m\u001b[1;33m,\u001b[0m \u001b[0mparam_name\u001b[0m\u001b[1;33m:\u001b[0m \u001b[0mstr\u001b[0m\u001b[1;33m)\u001b[0m \u001b[1;33m->\u001b[0m \u001b[0mfloat\u001b[0m\u001b[1;33m:\u001b[0m\u001b[1;33m\u001b[0m\u001b[1;33m\u001b[0m\u001b[0m\n",
      "\u001b[1;32m~\\miniconda3\\lib\\site-packages\\optuna\\storages\\_rdb\\storage.py\u001b[0m in \u001b[0;36mget_best_trial\u001b[1;34m(self, study_id)\u001b[0m\n\u001b[0;32m   1119\u001b[0m \u001b[1;33m\u001b[0m\u001b[0m\n\u001b[0;32m   1120\u001b[0m             \u001b[1;32mif\u001b[0m \u001b[0mdirection\u001b[0m \u001b[1;33m==\u001b[0m \u001b[0mStudyDirection\u001b[0m\u001b[1;33m.\u001b[0m\u001b[0mMAXIMIZE\u001b[0m\u001b[1;33m:\u001b[0m\u001b[1;33m\u001b[0m\u001b[1;33m\u001b[0m\u001b[0m\n\u001b[1;32m-> 1121\u001b[1;33m                 \u001b[0mtrial\u001b[0m \u001b[1;33m=\u001b[0m \u001b[0mmodels\u001b[0m\u001b[1;33m.\u001b[0m\u001b[0mTrialModel\u001b[0m\u001b[1;33m.\u001b[0m\u001b[0mfind_max_value_trial\u001b[0m\u001b[1;33m(\u001b[0m\u001b[0mstudy_id\u001b[0m\u001b[1;33m,\u001b[0m \u001b[1;36m0\u001b[0m\u001b[1;33m,\u001b[0m \u001b[0msession\u001b[0m\u001b[1;33m)\u001b[0m\u001b[1;33m\u001b[0m\u001b[1;33m\u001b[0m\u001b[0m\n\u001b[0m\u001b[0;32m   1122\u001b[0m             \u001b[1;32melse\u001b[0m\u001b[1;33m:\u001b[0m\u001b[1;33m\u001b[0m\u001b[1;33m\u001b[0m\u001b[0m\n\u001b[0;32m   1123\u001b[0m                 \u001b[0mtrial\u001b[0m \u001b[1;33m=\u001b[0m \u001b[0mmodels\u001b[0m\u001b[1;33m.\u001b[0m\u001b[0mTrialModel\u001b[0m\u001b[1;33m.\u001b[0m\u001b[0mfind_min_value_trial\u001b[0m\u001b[1;33m(\u001b[0m\u001b[0mstudy_id\u001b[0m\u001b[1;33m,\u001b[0m \u001b[1;36m0\u001b[0m\u001b[1;33m,\u001b[0m \u001b[0msession\u001b[0m\u001b[1;33m)\u001b[0m\u001b[1;33m\u001b[0m\u001b[1;33m\u001b[0m\u001b[0m\n",
      "\u001b[1;32m~\\miniconda3\\lib\\site-packages\\optuna\\storages\\_rdb\\models.py\u001b[0m in \u001b[0;36mfind_max_value_trial\u001b[1;34m(cls, study_id, objective, session)\u001b[0m\n\u001b[0;32m    205\u001b[0m         )\n\u001b[0;32m    206\u001b[0m         \u001b[1;32mif\u001b[0m \u001b[0mtrial\u001b[0m \u001b[1;32mis\u001b[0m \u001b[1;32mNone\u001b[0m\u001b[1;33m:\u001b[0m\u001b[1;33m\u001b[0m\u001b[1;33m\u001b[0m\u001b[0m\n\u001b[1;32m--> 207\u001b[1;33m             \u001b[1;32mraise\u001b[0m \u001b[0mValueError\u001b[0m\u001b[1;33m(\u001b[0m\u001b[0mNOT_FOUND_MSG\u001b[0m\u001b[1;33m)\u001b[0m\u001b[1;33m\u001b[0m\u001b[1;33m\u001b[0m\u001b[0m\n\u001b[0m\u001b[0;32m    208\u001b[0m         \u001b[1;32mreturn\u001b[0m \u001b[0mtrial\u001b[0m\u001b[1;33m\u001b[0m\u001b[1;33m\u001b[0m\u001b[0m\n\u001b[0;32m    209\u001b[0m \u001b[1;33m\u001b[0m\u001b[0m\n",
      "\u001b[1;31mValueError\u001b[0m: Record does not exist."
     ]
    }
   ],
   "source": [
    "print(study.best_trial)"
   ]
  },
  {
   "cell_type": "code",
   "execution_count": 10,
   "id": "0d017e59-6072-4e78-9058-d8bae61fa5f8",
   "metadata": {
    "tags": []
   },
   "outputs": [
    {
     "name": "stderr",
     "output_type": "stream",
     "text": [
      "0it [00:00, ?it/s]"
     ]
    },
    {
     "name": "stdout",
     "output_type": "stream",
     "text": [
      "[LightGBM] [Warning] min_data_in_leaf is set=398, min_child_samples=20 will be ignored. Current value: min_data_in_leaf=398\n",
      "Training until validation scores don't improve for 400 rounds\n",
      "Early stopping, best iteration is:\n",
      "[617]\tvalid_0's auc: 0.739001\n"
     ]
    },
    {
     "name": "stderr",
     "output_type": "stream",
     "text": [
      "1it [00:07,  7.19s/it]"
     ]
    },
    {
     "name": "stdout",
     "output_type": "stream",
     "text": [
      "[LightGBM] [Warning] min_data_in_leaf is set=398, min_child_samples=20 will be ignored. Current value: min_data_in_leaf=398\n",
      "Training until validation scores don't improve for 400 rounds\n",
      "Early stopping, best iteration is:\n",
      "[404]\tvalid_0's auc: 0.738676\n"
     ]
    },
    {
     "name": "stderr",
     "output_type": "stream",
     "text": [
      "2it [00:14,  7.07s/it]"
     ]
    },
    {
     "name": "stdout",
     "output_type": "stream",
     "text": [
      "[LightGBM] [Warning] min_data_in_leaf is set=398, min_child_samples=20 will be ignored. Current value: min_data_in_leaf=398\n",
      "Training until validation scores don't improve for 400 rounds\n",
      "Early stopping, best iteration is:\n",
      "[416]\tvalid_0's auc: 0.736904\n"
     ]
    },
    {
     "name": "stderr",
     "output_type": "stream",
     "text": [
      "3it [00:21,  7.12s/it]"
     ]
    },
    {
     "name": "stdout",
     "output_type": "stream",
     "text": [
      "[LightGBM] [Warning] min_data_in_leaf is set=398, min_child_samples=20 will be ignored. Current value: min_data_in_leaf=398\n",
      "Training until validation scores don't improve for 400 rounds\n",
      "Early stopping, best iteration is:\n",
      "[408]\tvalid_0's auc: 0.739799\n"
     ]
    },
    {
     "name": "stderr",
     "output_type": "stream",
     "text": [
      "4it [00:28,  7.03s/it]"
     ]
    },
    {
     "name": "stdout",
     "output_type": "stream",
     "text": [
      "[LightGBM] [Warning] min_data_in_leaf is set=398, min_child_samples=20 will be ignored. Current value: min_data_in_leaf=398\n",
      "Training until validation scores don't improve for 400 rounds\n",
      "Early stopping, best iteration is:\n",
      "[405]\tvalid_0's auc: 0.73773\n"
     ]
    },
    {
     "name": "stderr",
     "output_type": "stream",
     "text": [
      "5it [00:35,  7.05s/it]"
     ]
    },
    {
     "name": "stdout",
     "output_type": "stream",
     "text": [
      "[LightGBM] [Warning] min_data_in_leaf is set=398, min_child_samples=20 will be ignored. Current value: min_data_in_leaf=398\n",
      "Training until validation scores don't improve for 400 rounds\n",
      "Early stopping, best iteration is:\n",
      "[409]\tvalid_0's auc: 0.740596\n"
     ]
    },
    {
     "name": "stderr",
     "output_type": "stream",
     "text": [
      "6it [00:42,  7.09s/it]"
     ]
    },
    {
     "name": "stdout",
     "output_type": "stream",
     "text": [
      "[LightGBM] [Warning] min_data_in_leaf is set=398, min_child_samples=20 will be ignored. Current value: min_data_in_leaf=398\n",
      "Training until validation scores don't improve for 400 rounds\n",
      "Early stopping, best iteration is:\n",
      "[697]\tvalid_0's auc: 0.739365\n"
     ]
    },
    {
     "name": "stderr",
     "output_type": "stream",
     "text": [
      "7it [00:51,  7.73s/it]"
     ]
    },
    {
     "name": "stdout",
     "output_type": "stream",
     "text": [
      "[LightGBM] [Warning] min_data_in_leaf is set=398, min_child_samples=20 will be ignored. Current value: min_data_in_leaf=398\n",
      "Training until validation scores don't improve for 400 rounds\n",
      "Early stopping, best iteration is:\n",
      "[697]\tvalid_0's auc: 0.737985\n"
     ]
    },
    {
     "name": "stderr",
     "output_type": "stream",
     "text": [
      "8it [01:00,  7.98s/it]"
     ]
    },
    {
     "name": "stdout",
     "output_type": "stream",
     "text": [
      "[LightGBM] [Warning] min_data_in_leaf is set=398, min_child_samples=20 will be ignored. Current value: min_data_in_leaf=398\n",
      "Training until validation scores don't improve for 400 rounds\n",
      "Early stopping, best iteration is:\n",
      "[439]\tvalid_0's auc: 0.738335\n"
     ]
    },
    {
     "name": "stderr",
     "output_type": "stream",
     "text": [
      "9it [01:07,  7.67s/it]"
     ]
    },
    {
     "name": "stdout",
     "output_type": "stream",
     "text": [
      "[LightGBM] [Warning] min_data_in_leaf is set=398, min_child_samples=20 will be ignored. Current value: min_data_in_leaf=398\n",
      "Training until validation scores don't improve for 400 rounds\n",
      "Early stopping, best iteration is:\n",
      "[451]\tvalid_0's auc: 0.742315\n"
     ]
    },
    {
     "name": "stderr",
     "output_type": "stream",
     "text": [
      "10it [01:14,  7.45s/it]\n",
      "\u001b[32m[I 2021-11-03 09:09:35,405]\u001b[0m Trial 0 finished with value: 0.7390704804977071 and parameters: {'learning_rate': 0.7029365315226891, 'n_estimators': 9165, 'max_depth': 2, 'num_leaves': 83, 'reg_alpha': 2.909274216534633, 'reg_lambda': 1.139689171198417, 'min_data_in_leaf': 398}. Best is trial 0 with value: 0.7390704804977071.\u001b[0m\n",
      "0it [00:00, ?it/s]"
     ]
    },
    {
     "name": "stdout",
     "output_type": "stream",
     "text": [
      "[LightGBM] [Warning] min_data_in_leaf is set=765, min_child_samples=20 will be ignored. Current value: min_data_in_leaf=765\n",
      "Training until validation scores don't improve for 400 rounds\n"
     ]
    },
    {
     "name": "stderr",
     "output_type": "stream",
     "text": [
      "1it [00:15, 15.29s/it]"
     ]
    },
    {
     "name": "stdout",
     "output_type": "stream",
     "text": [
      "Early stopping, best iteration is:\n",
      "[45]\tvalid_0's auc: 0.71937\n",
      "[LightGBM] [Warning] min_data_in_leaf is set=765, min_child_samples=20 will be ignored. Current value: min_data_in_leaf=765\n",
      "Training until validation scores don't improve for 400 rounds\n"
     ]
    },
    {
     "name": "stderr",
     "output_type": "stream",
     "text": [
      "2it [00:30, 15.20s/it]"
     ]
    },
    {
     "name": "stdout",
     "output_type": "stream",
     "text": [
      "Early stopping, best iteration is:\n",
      "[52]\tvalid_0's auc: 0.719353\n",
      "[LightGBM] [Warning] min_data_in_leaf is set=765, min_child_samples=20 will be ignored. Current value: min_data_in_leaf=765\n",
      "Training until validation scores don't improve for 400 rounds\n"
     ]
    },
    {
     "name": "stderr",
     "output_type": "stream",
     "text": [
      "3it [00:45, 15.14s/it]"
     ]
    },
    {
     "name": "stdout",
     "output_type": "stream",
     "text": [
      "Early stopping, best iteration is:\n",
      "[42]\tvalid_0's auc: 0.720033\n",
      "[LightGBM] [Warning] min_data_in_leaf is set=765, min_child_samples=20 will be ignored. Current value: min_data_in_leaf=765\n",
      "Training until validation scores don't improve for 400 rounds\n"
     ]
    },
    {
     "name": "stderr",
     "output_type": "stream",
     "text": [
      "4it [01:00, 15.08s/it]"
     ]
    },
    {
     "name": "stdout",
     "output_type": "stream",
     "text": [
      "Early stopping, best iteration is:\n",
      "[46]\tvalid_0's auc: 0.723753\n",
      "[LightGBM] [Warning] min_data_in_leaf is set=765, min_child_samples=20 will be ignored. Current value: min_data_in_leaf=765\n",
      "Training until validation scores don't improve for 400 rounds\n"
     ]
    },
    {
     "name": "stderr",
     "output_type": "stream",
     "text": [
      "5it [01:15, 15.03s/it]"
     ]
    },
    {
     "name": "stdout",
     "output_type": "stream",
     "text": [
      "Early stopping, best iteration is:\n",
      "[44]\tvalid_0's auc: 0.718681\n",
      "[LightGBM] [Warning] min_data_in_leaf is set=765, min_child_samples=20 will be ignored. Current value: min_data_in_leaf=765\n",
      "Training until validation scores don't improve for 400 rounds\n"
     ]
    },
    {
     "name": "stderr",
     "output_type": "stream",
     "text": [
      "6it [01:29, 14.78s/it]"
     ]
    },
    {
     "name": "stdout",
     "output_type": "stream",
     "text": [
      "Early stopping, best iteration is:\n",
      "[40]\tvalid_0's auc: 0.715968\n",
      "[LightGBM] [Warning] min_data_in_leaf is set=765, min_child_samples=20 will be ignored. Current value: min_data_in_leaf=765\n",
      "Training until validation scores don't improve for 400 rounds\n"
     ]
    },
    {
     "name": "stderr",
     "output_type": "stream",
     "text": [
      "7it [01:44, 14.72s/it]"
     ]
    },
    {
     "name": "stdout",
     "output_type": "stream",
     "text": [
      "Early stopping, best iteration is:\n",
      "[38]\tvalid_0's auc: 0.720458\n",
      "[LightGBM] [Warning] min_data_in_leaf is set=765, min_child_samples=20 will be ignored. Current value: min_data_in_leaf=765\n",
      "Training until validation scores don't improve for 400 rounds\n"
     ]
    },
    {
     "name": "stderr",
     "output_type": "stream",
     "text": [
      "8it [01:59, 14.83s/it]"
     ]
    },
    {
     "name": "stdout",
     "output_type": "stream",
     "text": [
      "Early stopping, best iteration is:\n",
      "[44]\tvalid_0's auc: 0.71969\n",
      "[LightGBM] [Warning] min_data_in_leaf is set=765, min_child_samples=20 will be ignored. Current value: min_data_in_leaf=765\n",
      "Training until validation scores don't improve for 400 rounds\n"
     ]
    },
    {
     "name": "stderr",
     "output_type": "stream",
     "text": [
      "9it [02:13, 14.76s/it]"
     ]
    },
    {
     "name": "stdout",
     "output_type": "stream",
     "text": [
      "Early stopping, best iteration is:\n",
      "[40]\tvalid_0's auc: 0.721482\n",
      "[LightGBM] [Warning] min_data_in_leaf is set=765, min_child_samples=20 will be ignored. Current value: min_data_in_leaf=765\n",
      "Training until validation scores don't improve for 400 rounds\n"
     ]
    },
    {
     "name": "stderr",
     "output_type": "stream",
     "text": [
      "10it [02:28, 14.88s/it]\n",
      "\u001b[32m[I 2021-11-03 09:12:04,311]\u001b[0m Trial 1 finished with value: 0.7197097346584249 and parameters: {'learning_rate': 0.544463302569719, 'n_estimators': 5581, 'max_depth': 10, 'num_leaves': 88, 'reg_alpha': 5.627444404498693, 'reg_lambda': 9.154215067522893, 'min_data_in_leaf': 765}. Best is trial 0 with value: 0.7390704804977071.\u001b[0m\n"
     ]
    },
    {
     "name": "stdout",
     "output_type": "stream",
     "text": [
      "Early stopping, best iteration is:\n",
      "[44]\tvalid_0's auc: 0.718311\n"
     ]
    },
    {
     "name": "stderr",
     "output_type": "stream",
     "text": [
      "0it [00:00, ?it/s]"
     ]
    },
    {
     "name": "stdout",
     "output_type": "stream",
     "text": [
      "[LightGBM] [Warning] min_data_in_leaf is set=396, min_child_samples=20 will be ignored. Current value: min_data_in_leaf=396\n",
      "Training until validation scores don't improve for 400 rounds\n"
     ]
    },
    {
     "name": "stderr",
     "output_type": "stream",
     "text": [
      "1it [00:14, 14.58s/it]"
     ]
    },
    {
     "name": "stdout",
     "output_type": "stream",
     "text": [
      "Early stopping, best iteration is:\n",
      "[29]\tvalid_0's auc: 0.708781\n",
      "[LightGBM] [Warning] min_data_in_leaf is set=396, min_child_samples=20 will be ignored. Current value: min_data_in_leaf=396\n",
      "Training until validation scores don't improve for 400 rounds\n"
     ]
    },
    {
     "name": "stderr",
     "output_type": "stream",
     "text": [
      "2it [00:29, 14.55s/it]"
     ]
    },
    {
     "name": "stdout",
     "output_type": "stream",
     "text": [
      "Early stopping, best iteration is:\n",
      "[30]\tvalid_0's auc: 0.710763\n",
      "[LightGBM] [Warning] min_data_in_leaf is set=396, min_child_samples=20 will be ignored. Current value: min_data_in_leaf=396\n",
      "Training until validation scores don't improve for 400 rounds\n"
     ]
    },
    {
     "name": "stderr",
     "output_type": "stream",
     "text": [
      "3it [00:43, 14.45s/it]"
     ]
    },
    {
     "name": "stdout",
     "output_type": "stream",
     "text": [
      "Early stopping, best iteration is:\n",
      "[19]\tvalid_0's auc: 0.707999\n",
      "[LightGBM] [Warning] min_data_in_leaf is set=396, min_child_samples=20 will be ignored. Current value: min_data_in_leaf=396\n",
      "Training until validation scores don't improve for 400 rounds\n"
     ]
    },
    {
     "name": "stderr",
     "output_type": "stream",
     "text": [
      "4it [00:57, 14.49s/it]"
     ]
    },
    {
     "name": "stdout",
     "output_type": "stream",
     "text": [
      "Early stopping, best iteration is:\n",
      "[24]\tvalid_0's auc: 0.705526\n",
      "[LightGBM] [Warning] min_data_in_leaf is set=396, min_child_samples=20 will be ignored. Current value: min_data_in_leaf=396\n",
      "Training until validation scores don't improve for 400 rounds\n"
     ]
    },
    {
     "name": "stderr",
     "output_type": "stream",
     "text": [
      "5it [01:12, 14.48s/it]"
     ]
    },
    {
     "name": "stdout",
     "output_type": "stream",
     "text": [
      "Early stopping, best iteration is:\n",
      "[31]\tvalid_0's auc: 0.707293\n",
      "[LightGBM] [Warning] min_data_in_leaf is set=396, min_child_samples=20 will be ignored. Current value: min_data_in_leaf=396\n",
      "Training until validation scores don't improve for 400 rounds\n"
     ]
    },
    {
     "name": "stderr",
     "output_type": "stream",
     "text": [
      "6it [01:26, 14.46s/it]"
     ]
    },
    {
     "name": "stdout",
     "output_type": "stream",
     "text": [
      "Early stopping, best iteration is:\n",
      "[20]\tvalid_0's auc: 0.710004\n",
      "[LightGBM] [Warning] min_data_in_leaf is set=396, min_child_samples=20 will be ignored. Current value: min_data_in_leaf=396\n",
      "Training until validation scores don't improve for 400 rounds\n"
     ]
    },
    {
     "name": "stderr",
     "output_type": "stream",
     "text": [
      "7it [01:41, 14.41s/it]"
     ]
    },
    {
     "name": "stdout",
     "output_type": "stream",
     "text": [
      "Early stopping, best iteration is:\n",
      "[21]\tvalid_0's auc: 0.704927\n",
      "[LightGBM] [Warning] min_data_in_leaf is set=396, min_child_samples=20 will be ignored. Current value: min_data_in_leaf=396\n",
      "Training until validation scores don't improve for 400 rounds\n"
     ]
    },
    {
     "name": "stderr",
     "output_type": "stream",
     "text": [
      "8it [01:55, 14.46s/it]"
     ]
    },
    {
     "name": "stdout",
     "output_type": "stream",
     "text": [
      "Early stopping, best iteration is:\n",
      "[25]\tvalid_0's auc: 0.705863\n",
      "[LightGBM] [Warning] min_data_in_leaf is set=396, min_child_samples=20 will be ignored. Current value: min_data_in_leaf=396\n",
      "Training until validation scores don't improve for 400 rounds\n"
     ]
    },
    {
     "name": "stderr",
     "output_type": "stream",
     "text": [
      "9it [02:09, 14.38s/it]"
     ]
    },
    {
     "name": "stdout",
     "output_type": "stream",
     "text": [
      "Early stopping, best iteration is:\n",
      "[25]\tvalid_0's auc: 0.708699\n",
      "[LightGBM] [Warning] min_data_in_leaf is set=396, min_child_samples=20 will be ignored. Current value: min_data_in_leaf=396\n",
      "Training until validation scores don't improve for 400 rounds\n"
     ]
    },
    {
     "name": "stderr",
     "output_type": "stream",
     "text": [
      "10it [02:24, 14.43s/it]\n",
      "\u001b[32m[I 2021-11-03 09:14:28,675]\u001b[0m Trial 2 finished with value: 0.7076590281214628 and parameters: {'learning_rate': 0.8840402452922861, 'n_estimators': 3087, 'max_depth': 10, 'num_leaves': 81, 'reg_alpha': 9.046226147766067, 'reg_lambda': 2.8882625473812418, 'min_data_in_leaf': 396}. Best is trial 0 with value: 0.7390704804977071.\u001b[0m\n"
     ]
    },
    {
     "name": "stdout",
     "output_type": "stream",
     "text": [
      "Early stopping, best iteration is:\n",
      "[23]\tvalid_0's auc: 0.706735\n"
     ]
    },
    {
     "name": "stderr",
     "output_type": "stream",
     "text": [
      "0it [00:00, ?it/s]"
     ]
    },
    {
     "name": "stdout",
     "output_type": "stream",
     "text": [
      "[LightGBM] [Warning] min_data_in_leaf is set=713, min_child_samples=20 will be ignored. Current value: min_data_in_leaf=713\n",
      "Training until validation scores don't improve for 400 rounds\n"
     ]
    },
    {
     "name": "stderr",
     "output_type": "stream",
     "text": [
      "1it [00:06,  6.74s/it]"
     ]
    },
    {
     "name": "stdout",
     "output_type": "stream",
     "text": [
      "Early stopping, best iteration is:\n",
      "[96]\tvalid_0's auc: 0.719419\n",
      "[LightGBM] [Warning] min_data_in_leaf is set=713, min_child_samples=20 will be ignored. Current value: min_data_in_leaf=713\n",
      "Training until validation scores don't improve for 400 rounds\n"
     ]
    },
    {
     "name": "stderr",
     "output_type": "stream",
     "text": [
      "2it [00:13,  6.64s/it]"
     ]
    },
    {
     "name": "stdout",
     "output_type": "stream",
     "text": [
      "Early stopping, best iteration is:\n",
      "[89]\tvalid_0's auc: 0.719403\n",
      "[LightGBM] [Warning] min_data_in_leaf is set=713, min_child_samples=20 will be ignored. Current value: min_data_in_leaf=713\n",
      "Training until validation scores don't improve for 400 rounds\n"
     ]
    },
    {
     "name": "stderr",
     "output_type": "stream",
     "text": [
      "3it [00:19,  6.64s/it]"
     ]
    },
    {
     "name": "stdout",
     "output_type": "stream",
     "text": [
      "Early stopping, best iteration is:\n",
      "[91]\tvalid_0's auc: 0.72324\n",
      "[LightGBM] [Warning] min_data_in_leaf is set=713, min_child_samples=20 will be ignored. Current value: min_data_in_leaf=713\n",
      "Training until validation scores don't improve for 400 rounds\n"
     ]
    },
    {
     "name": "stderr",
     "output_type": "stream",
     "text": [
      "4it [00:26,  6.63s/it]"
     ]
    },
    {
     "name": "stdout",
     "output_type": "stream",
     "text": [
      "Early stopping, best iteration is:\n",
      "[92]\tvalid_0's auc: 0.723272\n",
      "[LightGBM] [Warning] min_data_in_leaf is set=713, min_child_samples=20 will be ignored. Current value: min_data_in_leaf=713\n",
      "Training until validation scores don't improve for 400 rounds\n"
     ]
    },
    {
     "name": "stderr",
     "output_type": "stream",
     "text": [
      "5it [00:33,  6.76s/it]"
     ]
    },
    {
     "name": "stdout",
     "output_type": "stream",
     "text": [
      "Early stopping, best iteration is:\n",
      "[127]\tvalid_0's auc: 0.722362\n",
      "[LightGBM] [Warning] min_data_in_leaf is set=713, min_child_samples=20 will be ignored. Current value: min_data_in_leaf=713\n",
      "Training until validation scores don't improve for 400 rounds\n"
     ]
    },
    {
     "name": "stderr",
     "output_type": "stream",
     "text": [
      "6it [00:40,  6.78s/it]"
     ]
    },
    {
     "name": "stdout",
     "output_type": "stream",
     "text": [
      "Early stopping, best iteration is:\n",
      "[111]\tvalid_0's auc: 0.724915\n",
      "[LightGBM] [Warning] min_data_in_leaf is set=713, min_child_samples=20 will be ignored. Current value: min_data_in_leaf=713\n",
      "Training until validation scores don't improve for 400 rounds\n"
     ]
    },
    {
     "name": "stderr",
     "output_type": "stream",
     "text": [
      "7it [00:47,  6.76s/it]"
     ]
    },
    {
     "name": "stdout",
     "output_type": "stream",
     "text": [
      "Early stopping, best iteration is:\n",
      "[104]\tvalid_0's auc: 0.717454\n",
      "[LightGBM] [Warning] min_data_in_leaf is set=713, min_child_samples=20 will be ignored. Current value: min_data_in_leaf=713\n",
      "Training until validation scores don't improve for 400 rounds\n"
     ]
    },
    {
     "name": "stderr",
     "output_type": "stream",
     "text": [
      "8it [00:54,  6.82s/it]"
     ]
    },
    {
     "name": "stdout",
     "output_type": "stream",
     "text": [
      "Early stopping, best iteration is:\n",
      "[119]\tvalid_0's auc: 0.721334\n",
      "[LightGBM] [Warning] min_data_in_leaf is set=713, min_child_samples=20 will be ignored. Current value: min_data_in_leaf=713\n",
      "Training until validation scores don't improve for 400 rounds\n"
     ]
    },
    {
     "name": "stderr",
     "output_type": "stream",
     "text": [
      "9it [01:00,  6.74s/it]"
     ]
    },
    {
     "name": "stdout",
     "output_type": "stream",
     "text": [
      "Early stopping, best iteration is:\n",
      "[80]\tvalid_0's auc: 0.723271\n",
      "[LightGBM] [Warning] min_data_in_leaf is set=713, min_child_samples=20 will be ignored. Current value: min_data_in_leaf=713\n",
      "Training until validation scores don't improve for 400 rounds\n"
     ]
    },
    {
     "name": "stderr",
     "output_type": "stream",
     "text": [
      "10it [01:07,  6.72s/it]\n",
      "\u001b[32m[I 2021-11-03 09:15:36,045]\u001b[0m Trial 3 finished with value: 0.7213760911657643 and parameters: {'learning_rate': 0.9220136444231991, 'n_estimators': 1992, 'max_depth': 4, 'num_leaves': 64, 'reg_alpha': 1.3351421771844962, 'reg_lambda': 4.4218845170673085, 'min_data_in_leaf': 713}. Best is trial 0 with value: 0.7390704804977071.\u001b[0m\n"
     ]
    },
    {
     "name": "stdout",
     "output_type": "stream",
     "text": [
      "Early stopping, best iteration is:\n",
      "[94]\tvalid_0's auc: 0.719091\n"
     ]
    },
    {
     "name": "stderr",
     "output_type": "stream",
     "text": [
      "0it [00:00, ?it/s]"
     ]
    },
    {
     "name": "stdout",
     "output_type": "stream",
     "text": [
      "[LightGBM] [Warning] min_data_in_leaf is set=519, min_child_samples=20 will be ignored. Current value: min_data_in_leaf=519\n",
      "Training until validation scores don't improve for 400 rounds\n",
      "Did not meet early stopping. Best iteration is:\n",
      "[4586]\tvalid_0's auc: 0.736388\n"
     ]
    },
    {
     "name": "stderr",
     "output_type": "stream",
     "text": [
      "1it [00:37, 37.61s/it]"
     ]
    },
    {
     "name": "stdout",
     "output_type": "stream",
     "text": [
      "[LightGBM] [Warning] min_data_in_leaf is set=519, min_child_samples=20 will be ignored. Current value: min_data_in_leaf=519\n",
      "Training until validation scores don't improve for 400 rounds\n",
      "Did not meet early stopping. Best iteration is:\n",
      "[4586]\tvalid_0's auc: 0.740532\n"
     ]
    },
    {
     "name": "stderr",
     "output_type": "stream",
     "text": [
      "2it [01:15, 37.69s/it]"
     ]
    },
    {
     "name": "stdout",
     "output_type": "stream",
     "text": [
      "[LightGBM] [Warning] min_data_in_leaf is set=519, min_child_samples=20 will be ignored. Current value: min_data_in_leaf=519\n",
      "Training until validation scores don't improve for 400 rounds\n",
      "Did not meet early stopping. Best iteration is:\n",
      "[4586]\tvalid_0's auc: 0.738636\n"
     ]
    },
    {
     "name": "stderr",
     "output_type": "stream",
     "text": [
      "3it [01:53, 37.78s/it]"
     ]
    },
    {
     "name": "stdout",
     "output_type": "stream",
     "text": [
      "[LightGBM] [Warning] min_data_in_leaf is set=519, min_child_samples=20 will be ignored. Current value: min_data_in_leaf=519\n",
      "Training until validation scores don't improve for 400 rounds\n",
      "Did not meet early stopping. Best iteration is:\n",
      "[4586]\tvalid_0's auc: 0.741167\n"
     ]
    },
    {
     "name": "stderr",
     "output_type": "stream",
     "text": [
      "4it [02:30, 37.64s/it]"
     ]
    },
    {
     "name": "stdout",
     "output_type": "stream",
     "text": [
      "[LightGBM] [Warning] min_data_in_leaf is set=519, min_child_samples=20 will be ignored. Current value: min_data_in_leaf=519\n",
      "Training until validation scores don't improve for 400 rounds\n",
      "Did not meet early stopping. Best iteration is:\n",
      "[4586]\tvalid_0's auc: 0.740394\n"
     ]
    },
    {
     "name": "stderr",
     "output_type": "stream",
     "text": [
      "5it [03:07, 37.39s/it]"
     ]
    },
    {
     "name": "stdout",
     "output_type": "stream",
     "text": [
      "[LightGBM] [Warning] min_data_in_leaf is set=519, min_child_samples=20 will be ignored. Current value: min_data_in_leaf=519\n",
      "Training until validation scores don't improve for 400 rounds\n",
      "Did not meet early stopping. Best iteration is:\n",
      "[4586]\tvalid_0's auc: 0.739255\n"
     ]
    },
    {
     "name": "stderr",
     "output_type": "stream",
     "text": [
      "6it [03:44, 37.38s/it]"
     ]
    },
    {
     "name": "stdout",
     "output_type": "stream",
     "text": [
      "[LightGBM] [Warning] min_data_in_leaf is set=519, min_child_samples=20 will be ignored. Current value: min_data_in_leaf=519\n",
      "Training until validation scores don't improve for 400 rounds\n",
      "Did not meet early stopping. Best iteration is:\n",
      "[4586]\tvalid_0's auc: 0.739293\n"
     ]
    },
    {
     "name": "stderr",
     "output_type": "stream",
     "text": [
      "7it [04:22, 37.54s/it]"
     ]
    },
    {
     "name": "stdout",
     "output_type": "stream",
     "text": [
      "[LightGBM] [Warning] min_data_in_leaf is set=519, min_child_samples=20 will be ignored. Current value: min_data_in_leaf=519\n",
      "Training until validation scores don't improve for 400 rounds\n",
      "Did not meet early stopping. Best iteration is:\n",
      "[4586]\tvalid_0's auc: 0.737777\n"
     ]
    },
    {
     "name": "stderr",
     "output_type": "stream",
     "text": [
      "8it [05:00, 37.68s/it]"
     ]
    },
    {
     "name": "stdout",
     "output_type": "stream",
     "text": [
      "[LightGBM] [Warning] min_data_in_leaf is set=519, min_child_samples=20 will be ignored. Current value: min_data_in_leaf=519\n",
      "Training until validation scores don't improve for 400 rounds\n",
      "Did not meet early stopping. Best iteration is:\n",
      "[4586]\tvalid_0's auc: 0.739633\n"
     ]
    },
    {
     "name": "stderr",
     "output_type": "stream",
     "text": [
      "9it [05:38, 37.69s/it]"
     ]
    },
    {
     "name": "stdout",
     "output_type": "stream",
     "text": [
      "[LightGBM] [Warning] min_data_in_leaf is set=519, min_child_samples=20 will be ignored. Current value: min_data_in_leaf=519\n",
      "Training until validation scores don't improve for 400 rounds\n",
      "Did not meet early stopping. Best iteration is:\n",
      "[4586]\tvalid_0's auc: 0.739332\n"
     ]
    },
    {
     "name": "stderr",
     "output_type": "stream",
     "text": [
      "10it [06:15, 37.57s/it]\n",
      "\u001b[32m[I 2021-11-03 09:21:51,848]\u001b[0m Trial 4 finished with value: 0.739240775053374 and parameters: {'learning_rate': 0.006653281039539083, 'n_estimators': 4586, 'max_depth': 3, 'num_leaves': 63, 'reg_alpha': 1.3509826384444423, 'reg_lambda': 9.26344116882706, 'min_data_in_leaf': 519}. Best is trial 4 with value: 0.739240775053374.\u001b[0m\n",
      "0it [00:00, ?it/s]"
     ]
    },
    {
     "name": "stdout",
     "output_type": "stream",
     "text": [
      "[LightGBM] [Warning] min_data_in_leaf is set=339, min_child_samples=20 will be ignored. Current value: min_data_in_leaf=339\n",
      "Training until validation scores don't improve for 400 rounds\n",
      "Early stopping, best iteration is:\n",
      "[3649]\tvalid_0's auc: 0.748491\n"
     ]
    },
    {
     "name": "stderr",
     "output_type": "stream",
     "text": [
      "1it [00:26, 26.61s/it]"
     ]
    },
    {
     "name": "stdout",
     "output_type": "stream",
     "text": [
      "[LightGBM] [Warning] min_data_in_leaf is set=339, min_child_samples=20 will be ignored. Current value: min_data_in_leaf=339\n",
      "Training until validation scores don't improve for 400 rounds\n",
      "Early stopping, best iteration is:\n",
      "[6705]\tvalid_0's auc: 0.744513\n"
     ]
    },
    {
     "name": "stderr",
     "output_type": "stream",
     "text": [
      "2it [01:09, 36.46s/it]"
     ]
    },
    {
     "name": "stdout",
     "output_type": "stream",
     "text": [
      "[LightGBM] [Warning] min_data_in_leaf is set=339, min_child_samples=20 will be ignored. Current value: min_data_in_leaf=339\n",
      "Training until validation scores don't improve for 400 rounds\n",
      "Early stopping, best iteration is:\n",
      "[6374]\tvalid_0's auc: 0.744896\n"
     ]
    },
    {
     "name": "stderr",
     "output_type": "stream",
     "text": [
      "3it [01:52, 39.02s/it]"
     ]
    },
    {
     "name": "stdout",
     "output_type": "stream",
     "text": [
      "[LightGBM] [Warning] min_data_in_leaf is set=339, min_child_samples=20 will be ignored. Current value: min_data_in_leaf=339\n",
      "Training until validation scores don't improve for 400 rounds\n",
      "Early stopping, best iteration is:\n",
      "[5685]\tvalid_0's auc: 0.744872\n"
     ]
    },
    {
     "name": "stderr",
     "output_type": "stream",
     "text": [
      "4it [02:29, 38.58s/it]"
     ]
    },
    {
     "name": "stdout",
     "output_type": "stream",
     "text": [
      "[LightGBM] [Warning] min_data_in_leaf is set=339, min_child_samples=20 will be ignored. Current value: min_data_in_leaf=339\n",
      "Training until validation scores don't improve for 400 rounds\n",
      "Early stopping, best iteration is:\n",
      "[3851]\tvalid_0's auc: 0.748199\n"
     ]
    },
    {
     "name": "stderr",
     "output_type": "stream",
     "text": [
      "5it [02:57, 34.69s/it]"
     ]
    },
    {
     "name": "stdout",
     "output_type": "stream",
     "text": [
      "[LightGBM] [Warning] min_data_in_leaf is set=339, min_child_samples=20 will be ignored. Current value: min_data_in_leaf=339\n",
      "Training until validation scores don't improve for 400 rounds\n",
      "Early stopping, best iteration is:\n",
      "[4423]\tvalid_0's auc: 0.750832\n"
     ]
    },
    {
     "name": "stderr",
     "output_type": "stream",
     "text": [
      "6it [03:28, 33.19s/it]"
     ]
    },
    {
     "name": "stdout",
     "output_type": "stream",
     "text": [
      "[LightGBM] [Warning] min_data_in_leaf is set=339, min_child_samples=20 will be ignored. Current value: min_data_in_leaf=339\n",
      "Training until validation scores don't improve for 400 rounds\n",
      "Early stopping, best iteration is:\n",
      "[5979]\tvalid_0's auc: 0.746144\n"
     ]
    },
    {
     "name": "stderr",
     "output_type": "stream",
     "text": [
      "7it [04:06, 35.08s/it]"
     ]
    },
    {
     "name": "stdout",
     "output_type": "stream",
     "text": [
      "[LightGBM] [Warning] min_data_in_leaf is set=339, min_child_samples=20 will be ignored. Current value: min_data_in_leaf=339\n",
      "Training until validation scores don't improve for 400 rounds\n",
      "Early stopping, best iteration is:\n",
      "[4784]\tvalid_0's auc: 0.748944\n"
     ]
    },
    {
     "name": "stderr",
     "output_type": "stream",
     "text": [
      "8it [04:39, 34.16s/it]"
     ]
    },
    {
     "name": "stdout",
     "output_type": "stream",
     "text": [
      "[LightGBM] [Warning] min_data_in_leaf is set=339, min_child_samples=20 will be ignored. Current value: min_data_in_leaf=339\n",
      "Training until validation scores don't improve for 400 rounds\n",
      "Early stopping, best iteration is:\n",
      "[6802]\tvalid_0's auc: 0.746017\n"
     ]
    },
    {
     "name": "stderr",
     "output_type": "stream",
     "text": [
      "9it [05:23, 37.28s/it]"
     ]
    },
    {
     "name": "stdout",
     "output_type": "stream",
     "text": [
      "[LightGBM] [Warning] min_data_in_leaf is set=339, min_child_samples=20 will be ignored. Current value: min_data_in_leaf=339\n",
      "Training until validation scores don't improve for 400 rounds\n",
      "Early stopping, best iteration is:\n",
      "[6278]\tvalid_0's auc: 0.747235\n"
     ]
    },
    {
     "name": "stderr",
     "output_type": "stream",
     "text": [
      "10it [06:04, 36.44s/it]\n",
      "\u001b[32m[I 2021-11-03 09:27:56,404]\u001b[0m Trial 5 finished with value: 0.7470143239844149 and parameters: {'learning_rate': 0.0491148192045302, 'n_estimators': 9438, 'max_depth': 10, 'num_leaves': 4, 'reg_alpha': 5.074555699026588, 'reg_lambda': 3.3801629394940425, 'min_data_in_leaf': 339}. Best is trial 5 with value: 0.7470143239844149.\u001b[0m\n",
      "0it [00:00, ?it/s]"
     ]
    },
    {
     "name": "stdout",
     "output_type": "stream",
     "text": [
      "[LightGBM] [Warning] min_data_in_leaf is set=216, min_child_samples=20 will be ignored. Current value: min_data_in_leaf=216\n",
      "Training until validation scores don't improve for 400 rounds\n",
      "Early stopping, best iteration is:\n",
      "[1389]\tvalid_0's auc: 0.741203\n"
     ]
    },
    {
     "name": "stderr",
     "output_type": "stream",
     "text": [
      "1it [00:23, 23.52s/it]"
     ]
    },
    {
     "name": "stdout",
     "output_type": "stream",
     "text": [
      "[LightGBM] [Warning] min_data_in_leaf is set=216, min_child_samples=20 will be ignored. Current value: min_data_in_leaf=216\n",
      "Training until validation scores don't improve for 400 rounds\n",
      "Early stopping, best iteration is:\n",
      "[1641]\tvalid_0's auc: 0.745124\n"
     ]
    },
    {
     "name": "stderr",
     "output_type": "stream",
     "text": [
      "2it [00:50, 25.53s/it]"
     ]
    },
    {
     "name": "stdout",
     "output_type": "stream",
     "text": [
      "[LightGBM] [Warning] min_data_in_leaf is set=216, min_child_samples=20 will be ignored. Current value: min_data_in_leaf=216\n",
      "Training until validation scores don't improve for 400 rounds\n",
      "Early stopping, best iteration is:\n",
      "[1344]\tvalid_0's auc: 0.745944\n"
     ]
    },
    {
     "name": "stderr",
     "output_type": "stream",
     "text": [
      "3it [01:14, 24.63s/it]"
     ]
    },
    {
     "name": "stdout",
     "output_type": "stream",
     "text": [
      "[LightGBM] [Warning] min_data_in_leaf is set=216, min_child_samples=20 will be ignored. Current value: min_data_in_leaf=216\n",
      "Training until validation scores don't improve for 400 rounds\n",
      "Early stopping, best iteration is:\n",
      "[1343]\tvalid_0's auc: 0.748753\n"
     ]
    },
    {
     "name": "stderr",
     "output_type": "stream",
     "text": [
      "4it [01:37, 24.01s/it]"
     ]
    },
    {
     "name": "stdout",
     "output_type": "stream",
     "text": [
      "[LightGBM] [Warning] min_data_in_leaf is set=216, min_child_samples=20 will be ignored. Current value: min_data_in_leaf=216\n",
      "Training until validation scores don't improve for 400 rounds\n",
      "Early stopping, best iteration is:\n",
      "[1868]\tvalid_0's auc: 0.746385\n"
     ]
    },
    {
     "name": "stderr",
     "output_type": "stream",
     "text": [
      "5it [02:06, 25.91s/it]"
     ]
    },
    {
     "name": "stdout",
     "output_type": "stream",
     "text": [
      "[LightGBM] [Warning] min_data_in_leaf is set=216, min_child_samples=20 will be ignored. Current value: min_data_in_leaf=216\n",
      "Training until validation scores don't improve for 400 rounds\n",
      "Early stopping, best iteration is:\n",
      "[1391]\tvalid_0's auc: 0.744784\n"
     ]
    },
    {
     "name": "stderr",
     "output_type": "stream",
     "text": [
      "6it [02:30, 25.18s/it]"
     ]
    },
    {
     "name": "stdout",
     "output_type": "stream",
     "text": [
      "[LightGBM] [Warning] min_data_in_leaf is set=216, min_child_samples=20 will be ignored. Current value: min_data_in_leaf=216\n",
      "Training until validation scores don't improve for 400 rounds\n",
      "Early stopping, best iteration is:\n",
      "[1768]\tvalid_0's auc: 0.742876\n"
     ]
    },
    {
     "name": "stderr",
     "output_type": "stream",
     "text": [
      "7it [02:57, 26.00s/it]"
     ]
    },
    {
     "name": "stdout",
     "output_type": "stream",
     "text": [
      "[LightGBM] [Warning] min_data_in_leaf is set=216, min_child_samples=20 will be ignored. Current value: min_data_in_leaf=216\n",
      "Training until validation scores don't improve for 400 rounds\n",
      "Early stopping, best iteration is:\n",
      "[1965]\tvalid_0's auc: 0.745458\n"
     ]
    },
    {
     "name": "stderr",
     "output_type": "stream",
     "text": [
      "8it [03:28, 27.46s/it]"
     ]
    },
    {
     "name": "stdout",
     "output_type": "stream",
     "text": [
      "[LightGBM] [Warning] min_data_in_leaf is set=216, min_child_samples=20 will be ignored. Current value: min_data_in_leaf=216\n",
      "Training until validation scores don't improve for 400 rounds\n",
      "Early stopping, best iteration is:\n",
      "[1403]\tvalid_0's auc: 0.743255\n"
     ]
    },
    {
     "name": "stderr",
     "output_type": "stream",
     "text": [
      "9it [03:52, 26.34s/it]"
     ]
    },
    {
     "name": "stdout",
     "output_type": "stream",
     "text": [
      "[LightGBM] [Warning] min_data_in_leaf is set=216, min_child_samples=20 will be ignored. Current value: min_data_in_leaf=216\n",
      "Training until validation scores don't improve for 400 rounds\n",
      "Early stopping, best iteration is:\n",
      "[1644]\tvalid_0's auc: 0.745711\n"
     ]
    },
    {
     "name": "stderr",
     "output_type": "stream",
     "text": [
      "10it [04:19, 25.93s/it]\n",
      "\u001b[32m[I 2021-11-03 09:32:15,852]\u001b[0m Trial 6 finished with value: 0.7449492928417127 and parameters: {'learning_rate': 0.04843361890258667, 'n_estimators': 7029, 'max_depth': 5, 'num_leaves': 25, 'reg_alpha': 4.447767661876265, 'reg_lambda': 4.89538641028761, 'min_data_in_leaf': 216}. Best is trial 5 with value: 0.7470143239844149.\u001b[0m\n",
      "0it [00:00, ?it/s]"
     ]
    },
    {
     "name": "stdout",
     "output_type": "stream",
     "text": [
      "[LightGBM] [Warning] min_data_in_leaf is set=227, min_child_samples=20 will be ignored. Current value: min_data_in_leaf=227\n",
      "Training until validation scores don't improve for 400 rounds\n"
     ]
    },
    {
     "name": "stderr",
     "output_type": "stream",
     "text": [
      "1it [00:06,  6.71s/it]"
     ]
    },
    {
     "name": "stdout",
     "output_type": "stream",
     "text": [
      "Early stopping, best iteration is:\n",
      "[191]\tvalid_0's auc: 0.734798\n",
      "[LightGBM] [Warning] min_data_in_leaf is set=227, min_child_samples=20 will be ignored. Current value: min_data_in_leaf=227\n",
      "Training until validation scores don't improve for 400 rounds\n"
     ]
    },
    {
     "name": "stderr",
     "output_type": "stream",
     "text": [
      "2it [00:13,  6.82s/it]"
     ]
    },
    {
     "name": "stdout",
     "output_type": "stream",
     "text": [
      "Early stopping, best iteration is:\n",
      "[233]\tvalid_0's auc: 0.735022\n",
      "[LightGBM] [Warning] min_data_in_leaf is set=227, min_child_samples=20 will be ignored. Current value: min_data_in_leaf=227\n",
      "Training until validation scores don't improve for 400 rounds\n"
     ]
    },
    {
     "name": "stderr",
     "output_type": "stream",
     "text": [
      "3it [00:20,  6.69s/it]"
     ]
    },
    {
     "name": "stdout",
     "output_type": "stream",
     "text": [
      "Early stopping, best iteration is:\n",
      "[205]\tvalid_0's auc: 0.731635\n",
      "[LightGBM] [Warning] min_data_in_leaf is set=227, min_child_samples=20 will be ignored. Current value: min_data_in_leaf=227\n",
      "Training until validation scores don't improve for 400 rounds\n"
     ]
    },
    {
     "name": "stderr",
     "output_type": "stream",
     "text": [
      "4it [00:26,  6.68s/it]"
     ]
    },
    {
     "name": "stdout",
     "output_type": "stream",
     "text": [
      "Early stopping, best iteration is:\n",
      "[215]\tvalid_0's auc: 0.735149\n",
      "[LightGBM] [Warning] min_data_in_leaf is set=227, min_child_samples=20 will be ignored. Current value: min_data_in_leaf=227\n",
      "Training until validation scores don't improve for 400 rounds\n"
     ]
    },
    {
     "name": "stderr",
     "output_type": "stream",
     "text": [
      "5it [00:33,  6.86s/it]"
     ]
    },
    {
     "name": "stdout",
     "output_type": "stream",
     "text": [
      "Early stopping, best iteration is:\n",
      "[258]\tvalid_0's auc: 0.732124\n",
      "[LightGBM] [Warning] min_data_in_leaf is set=227, min_child_samples=20 will be ignored. Current value: min_data_in_leaf=227\n",
      "Training until validation scores don't improve for 400 rounds\n"
     ]
    },
    {
     "name": "stderr",
     "output_type": "stream",
     "text": [
      "6it [00:40,  6.72s/it]"
     ]
    },
    {
     "name": "stdout",
     "output_type": "stream",
     "text": [
      "Early stopping, best iteration is:\n",
      "[189]\tvalid_0's auc: 0.733681\n",
      "[LightGBM] [Warning] min_data_in_leaf is set=227, min_child_samples=20 will be ignored. Current value: min_data_in_leaf=227\n",
      "Training until validation scores don't improve for 400 rounds\n"
     ]
    },
    {
     "name": "stderr",
     "output_type": "stream",
     "text": [
      "7it [00:46,  6.59s/it]"
     ]
    },
    {
     "name": "stdout",
     "output_type": "stream",
     "text": [
      "Early stopping, best iteration is:\n",
      "[168]\tvalid_0's auc: 0.736704\n",
      "[LightGBM] [Warning] min_data_in_leaf is set=227, min_child_samples=20 will be ignored. Current value: min_data_in_leaf=227\n",
      "Training until validation scores don't improve for 400 rounds\n"
     ]
    },
    {
     "name": "stderr",
     "output_type": "stream",
     "text": [
      "8it [00:53,  6.65s/it]"
     ]
    },
    {
     "name": "stdout",
     "output_type": "stream",
     "text": [
      "Early stopping, best iteration is:\n",
      "[199]\tvalid_0's auc: 0.734148\n",
      "[LightGBM] [Warning] min_data_in_leaf is set=227, min_child_samples=20 will be ignored. Current value: min_data_in_leaf=227\n",
      "Training until validation scores don't improve for 400 rounds\n"
     ]
    },
    {
     "name": "stderr",
     "output_type": "stream",
     "text": [
      "9it [01:00,  6.68s/it]"
     ]
    },
    {
     "name": "stdout",
     "output_type": "stream",
     "text": [
      "Early stopping, best iteration is:\n",
      "[218]\tvalid_0's auc: 0.73266\n",
      "[LightGBM] [Warning] min_data_in_leaf is set=227, min_child_samples=20 will be ignored. Current value: min_data_in_leaf=227\n",
      "Training until validation scores don't improve for 400 rounds\n"
     ]
    },
    {
     "name": "stderr",
     "output_type": "stream",
     "text": [
      "10it [01:07,  6.70s/it]"
     ]
    },
    {
     "name": "stdout",
     "output_type": "stream",
     "text": [
      "Early stopping, best iteration is:\n",
      "[225]\tvalid_0's auc: 0.734251\n"
     ]
    },
    {
     "name": "stderr",
     "output_type": "stream",
     "text": [
      "\n",
      "\u001b[32m[I 2021-11-03 09:33:23,034]\u001b[0m Trial 7 finished with value: 0.7340173359606393 and parameters: {'learning_rate': 0.6822692728111796, 'n_estimators': 1312, 'max_depth': 3, 'num_leaves': 42, 'reg_alpha': 6.298949887645513, 'reg_lambda': 0.41809337784539435, 'min_data_in_leaf': 227}. Best is trial 5 with value: 0.7470143239844149.\u001b[0m\n",
      "0it [00:00, ?it/s]"
     ]
    },
    {
     "name": "stdout",
     "output_type": "stream",
     "text": [
      "[LightGBM] [Warning] min_data_in_leaf is set=254, min_child_samples=20 will be ignored. Current value: min_data_in_leaf=254\n",
      "Training until validation scores don't improve for 400 rounds\n"
     ]
    },
    {
     "name": "stderr",
     "output_type": "stream",
     "text": [
      "1it [00:07,  8.00s/it]"
     ]
    },
    {
     "name": "stdout",
     "output_type": "stream",
     "text": [
      "Early stopping, best iteration is:\n",
      "[243]\tvalid_0's auc: 0.737863\n",
      "[LightGBM] [Warning] min_data_in_leaf is set=254, min_child_samples=20 will be ignored. Current value: min_data_in_leaf=254\n",
      "Training until validation scores don't improve for 400 rounds\n"
     ]
    },
    {
     "name": "stderr",
     "output_type": "stream",
     "text": [
      "2it [00:15,  7.92s/it]"
     ]
    },
    {
     "name": "stdout",
     "output_type": "stream",
     "text": [
      "Early stopping, best iteration is:\n",
      "[214]\tvalid_0's auc: 0.735008\n",
      "[LightGBM] [Warning] min_data_in_leaf is set=254, min_child_samples=20 will be ignored. Current value: min_data_in_leaf=254\n",
      "Training until validation scores don't improve for 400 rounds\n"
     ]
    },
    {
     "name": "stderr",
     "output_type": "stream",
     "text": [
      "3it [00:24,  8.06s/it]"
     ]
    },
    {
     "name": "stdout",
     "output_type": "stream",
     "text": [
      "Early stopping, best iteration is:\n",
      "[249]\tvalid_0's auc: 0.735893\n",
      "[LightGBM] [Warning] min_data_in_leaf is set=254, min_child_samples=20 will be ignored. Current value: min_data_in_leaf=254\n",
      "Training until validation scores don't improve for 400 rounds\n"
     ]
    },
    {
     "name": "stderr",
     "output_type": "stream",
     "text": [
      "4it [00:31,  7.86s/it]"
     ]
    },
    {
     "name": "stdout",
     "output_type": "stream",
     "text": [
      "Early stopping, best iteration is:\n",
      "[199]\tvalid_0's auc: 0.736354\n",
      "[LightGBM] [Warning] min_data_in_leaf is set=254, min_child_samples=20 will be ignored. Current value: min_data_in_leaf=254\n",
      "Training until validation scores don't improve for 400 rounds\n"
     ]
    },
    {
     "name": "stderr",
     "output_type": "stream",
     "text": [
      "5it [00:39,  7.83s/it]"
     ]
    },
    {
     "name": "stdout",
     "output_type": "stream",
     "text": [
      "Early stopping, best iteration is:\n",
      "[200]\tvalid_0's auc: 0.730727\n",
      "[LightGBM] [Warning] min_data_in_leaf is set=254, min_child_samples=20 will be ignored. Current value: min_data_in_leaf=254\n",
      "Training until validation scores don't improve for 400 rounds\n"
     ]
    },
    {
     "name": "stderr",
     "output_type": "stream",
     "text": [
      "6it [00:46,  7.69s/it]"
     ]
    },
    {
     "name": "stdout",
     "output_type": "stream",
     "text": [
      "Early stopping, best iteration is:\n",
      "[181]\tvalid_0's auc: 0.734873\n",
      "[LightGBM] [Warning] min_data_in_leaf is set=254, min_child_samples=20 will be ignored. Current value: min_data_in_leaf=254\n",
      "Training until validation scores don't improve for 400 rounds\n"
     ]
    },
    {
     "name": "stderr",
     "output_type": "stream",
     "text": [
      "7it [00:54,  7.64s/it]"
     ]
    },
    {
     "name": "stdout",
     "output_type": "stream",
     "text": [
      "Early stopping, best iteration is:\n",
      "[179]\tvalid_0's auc: 0.73462\n",
      "[LightGBM] [Warning] min_data_in_leaf is set=254, min_child_samples=20 will be ignored. Current value: min_data_in_leaf=254\n",
      "Training until validation scores don't improve for 400 rounds\n",
      "Early stopping, best iteration is:\n",
      "[267]\tvalid_0's auc: 0.737896\n"
     ]
    },
    {
     "name": "stderr",
     "output_type": "stream",
     "text": [
      "8it [01:03,  7.95s/it]"
     ]
    },
    {
     "name": "stdout",
     "output_type": "stream",
     "text": [
      "[LightGBM] [Warning] min_data_in_leaf is set=254, min_child_samples=20 will be ignored. Current value: min_data_in_leaf=254\n",
      "Training until validation scores don't improve for 400 rounds\n"
     ]
    },
    {
     "name": "stderr",
     "output_type": "stream",
     "text": [
      "9it [01:11,  7.97s/it]"
     ]
    },
    {
     "name": "stdout",
     "output_type": "stream",
     "text": [
      "Early stopping, best iteration is:\n",
      "[226]\tvalid_0's auc: 0.736424\n",
      "[LightGBM] [Warning] min_data_in_leaf is set=254, min_child_samples=20 will be ignored. Current value: min_data_in_leaf=254\n",
      "Training until validation scores don't improve for 400 rounds\n"
     ]
    },
    {
     "name": "stderr",
     "output_type": "stream",
     "text": [
      "10it [01:18,  7.87s/it]"
     ]
    },
    {
     "name": "stdout",
     "output_type": "stream",
     "text": [
      "Early stopping, best iteration is:\n",
      "[204]\tvalid_0's auc: 0.735428\n"
     ]
    },
    {
     "name": "stderr",
     "output_type": "stream",
     "text": [
      "\n",
      "\u001b[32m[I 2021-11-03 09:34:41,885]\u001b[0m Trial 8 finished with value: 0.7355084667396904 and parameters: {'learning_rate': 0.3720547777129395, 'n_estimators': 7655, 'max_depth': 4, 'num_leaves': 15, 'reg_alpha': 6.089600116054996, 'reg_lambda': 7.166070385944476, 'min_data_in_leaf': 254}. Best is trial 5 with value: 0.7470143239844149.\u001b[0m\n",
      "0it [00:00, ?it/s]"
     ]
    },
    {
     "name": "stdout",
     "output_type": "stream",
     "text": [
      "[LightGBM] [Warning] min_data_in_leaf is set=708, min_child_samples=20 will be ignored. Current value: min_data_in_leaf=708\n",
      "Training until validation scores don't improve for 400 rounds\n"
     ]
    },
    {
     "name": "stderr",
     "output_type": "stream",
     "text": [
      "1it [00:14, 14.89s/it]"
     ]
    },
    {
     "name": "stdout",
     "output_type": "stream",
     "text": [
      "Early stopping, best iteration is:\n",
      "[90]\tvalid_0's auc: 0.733178\n",
      "[LightGBM] [Warning] min_data_in_leaf is set=708, min_child_samples=20 will be ignored. Current value: min_data_in_leaf=708\n",
      "Training until validation scores don't improve for 400 rounds\n"
     ]
    },
    {
     "name": "stderr",
     "output_type": "stream",
     "text": [
      "2it [00:29, 14.93s/it]"
     ]
    },
    {
     "name": "stdout",
     "output_type": "stream",
     "text": [
      "Early stopping, best iteration is:\n",
      "[93]\tvalid_0's auc: 0.72997\n",
      "[LightGBM] [Warning] min_data_in_leaf is set=708, min_child_samples=20 will be ignored. Current value: min_data_in_leaf=708\n",
      "Training until validation scores don't improve for 400 rounds\n"
     ]
    },
    {
     "name": "stderr",
     "output_type": "stream",
     "text": [
      "3it [00:44, 14.87s/it]"
     ]
    },
    {
     "name": "stdout",
     "output_type": "stream",
     "text": [
      "Early stopping, best iteration is:\n",
      "[99]\tvalid_0's auc: 0.732124\n",
      "[LightGBM] [Warning] min_data_in_leaf is set=708, min_child_samples=20 will be ignored. Current value: min_data_in_leaf=708\n",
      "Training until validation scores don't improve for 400 rounds\n"
     ]
    },
    {
     "name": "stderr",
     "output_type": "stream",
     "text": [
      "4it [00:59, 14.90s/it]"
     ]
    },
    {
     "name": "stdout",
     "output_type": "stream",
     "text": [
      "Early stopping, best iteration is:\n",
      "[93]\tvalid_0's auc: 0.727707\n",
      "[LightGBM] [Warning] min_data_in_leaf is set=708, min_child_samples=20 will be ignored. Current value: min_data_in_leaf=708\n",
      "Training until validation scores don't improve for 400 rounds\n"
     ]
    },
    {
     "name": "stderr",
     "output_type": "stream",
     "text": [
      "5it [01:14, 14.92s/it]"
     ]
    },
    {
     "name": "stdout",
     "output_type": "stream",
     "text": [
      "Early stopping, best iteration is:\n",
      "[91]\tvalid_0's auc: 0.731318\n",
      "[LightGBM] [Warning] min_data_in_leaf is set=708, min_child_samples=20 will be ignored. Current value: min_data_in_leaf=708\n",
      "Training until validation scores don't improve for 400 rounds\n"
     ]
    },
    {
     "name": "stderr",
     "output_type": "stream",
     "text": [
      "6it [01:29, 14.87s/it]"
     ]
    },
    {
     "name": "stdout",
     "output_type": "stream",
     "text": [
      "Early stopping, best iteration is:\n",
      "[89]\tvalid_0's auc: 0.733742\n",
      "[LightGBM] [Warning] min_data_in_leaf is set=708, min_child_samples=20 will be ignored. Current value: min_data_in_leaf=708\n",
      "Training until validation scores don't improve for 400 rounds\n"
     ]
    },
    {
     "name": "stderr",
     "output_type": "stream",
     "text": [
      "7it [01:44, 14.97s/it]"
     ]
    },
    {
     "name": "stdout",
     "output_type": "stream",
     "text": [
      "Early stopping, best iteration is:\n",
      "[101]\tvalid_0's auc: 0.730671\n",
      "[LightGBM] [Warning] min_data_in_leaf is set=708, min_child_samples=20 will be ignored. Current value: min_data_in_leaf=708\n",
      "Training until validation scores don't improve for 400 rounds\n"
     ]
    },
    {
     "name": "stderr",
     "output_type": "stream",
     "text": [
      "8it [01:59, 14.87s/it]"
     ]
    },
    {
     "name": "stdout",
     "output_type": "stream",
     "text": [
      "Early stopping, best iteration is:\n",
      "[79]\tvalid_0's auc: 0.730635\n",
      "[LightGBM] [Warning] min_data_in_leaf is set=708, min_child_samples=20 will be ignored. Current value: min_data_in_leaf=708\n",
      "Training until validation scores don't improve for 400 rounds\n"
     ]
    },
    {
     "name": "stderr",
     "output_type": "stream",
     "text": [
      "9it [02:14, 14.92s/it]"
     ]
    },
    {
     "name": "stdout",
     "output_type": "stream",
     "text": [
      "Early stopping, best iteration is:\n",
      "[96]\tvalid_0's auc: 0.731905\n",
      "[LightGBM] [Warning] min_data_in_leaf is set=708, min_child_samples=20 will be ignored. Current value: min_data_in_leaf=708\n",
      "Training until validation scores don't improve for 400 rounds\n"
     ]
    },
    {
     "name": "stderr",
     "output_type": "stream",
     "text": [
      "10it [02:28, 14.86s/it]\n",
      "\u001b[32m[I 2021-11-03 09:37:10,665]\u001b[0m Trial 9 finished with value: 0.7313887200326293 and parameters: {'learning_rate': 0.302588130289057, 'n_estimators': 1356, 'max_depth': 9, 'num_leaves': 80, 'reg_alpha': 6.586619640405526, 'reg_lambda': 1.7713077777676212, 'min_data_in_leaf': 708}. Best is trial 5 with value: 0.7470143239844149.\u001b[0m\n"
     ]
    },
    {
     "name": "stdout",
     "output_type": "stream",
     "text": [
      "Early stopping, best iteration is:\n",
      "[80]\tvalid_0's auc: 0.732637\n"
     ]
    },
    {
     "name": "stderr",
     "output_type": "stream",
     "text": [
      "0it [00:00, ?it/s]"
     ]
    },
    {
     "name": "stdout",
     "output_type": "stream",
     "text": [
      "[LightGBM] [Warning] min_data_in_leaf is set=972, min_child_samples=20 will be ignored. Current value: min_data_in_leaf=972\n",
      "Training until validation scores don't improve for 400 rounds\n",
      "Early stopping, best iteration is:\n",
      "[2523]\tvalid_0's auc: 0.747525\n"
     ]
    },
    {
     "name": "stderr",
     "output_type": "stream",
     "text": [
      "1it [00:18, 18.01s/it]"
     ]
    },
    {
     "name": "stdout",
     "output_type": "stream",
     "text": [
      "[LightGBM] [Warning] min_data_in_leaf is set=972, min_child_samples=20 will be ignored. Current value: min_data_in_leaf=972\n",
      "Training until validation scores don't improve for 400 rounds\n",
      "Early stopping, best iteration is:\n",
      "[3189]\tvalid_0's auc: 0.743856\n"
     ]
    },
    {
     "name": "stderr",
     "output_type": "stream",
     "text": [
      "2it [00:39, 20.24s/it]"
     ]
    },
    {
     "name": "stdout",
     "output_type": "stream",
     "text": [
      "[LightGBM] [Warning] min_data_in_leaf is set=972, min_child_samples=20 will be ignored. Current value: min_data_in_leaf=972\n",
      "Training until validation scores don't improve for 400 rounds\n",
      "Early stopping, best iteration is:\n",
      "[2704]\tvalid_0's auc: 0.74933\n"
     ]
    },
    {
     "name": "stderr",
     "output_type": "stream",
     "text": [
      "3it [00:58, 19.67s/it]"
     ]
    },
    {
     "name": "stdout",
     "output_type": "stream",
     "text": [
      "[LightGBM] [Warning] min_data_in_leaf is set=972, min_child_samples=20 will be ignored. Current value: min_data_in_leaf=972\n",
      "Training until validation scores don't improve for 400 rounds\n",
      "Early stopping, best iteration is:\n",
      "[2802]\tvalid_0's auc: 0.749679\n"
     ]
    },
    {
     "name": "stderr",
     "output_type": "stream",
     "text": [
      "4it [01:18, 19.64s/it]"
     ]
    },
    {
     "name": "stdout",
     "output_type": "stream",
     "text": [
      "[LightGBM] [Warning] min_data_in_leaf is set=972, min_child_samples=20 will be ignored. Current value: min_data_in_leaf=972\n",
      "Training until validation scores don't improve for 400 rounds\n",
      "Early stopping, best iteration is:\n",
      "[2124]\tvalid_0's auc: 0.745916\n"
     ]
    },
    {
     "name": "stderr",
     "output_type": "stream",
     "text": [
      "5it [01:34, 18.29s/it]"
     ]
    },
    {
     "name": "stdout",
     "output_type": "stream",
     "text": [
      "[LightGBM] [Warning] min_data_in_leaf is set=972, min_child_samples=20 will be ignored. Current value: min_data_in_leaf=972\n",
      "Training until validation scores don't improve for 400 rounds\n",
      "Early stopping, best iteration is:\n",
      "[2536]\tvalid_0's auc: 0.743471\n"
     ]
    },
    {
     "name": "stderr",
     "output_type": "stream",
     "text": [
      "6it [01:52, 18.22s/it]"
     ]
    },
    {
     "name": "stdout",
     "output_type": "stream",
     "text": [
      "[LightGBM] [Warning] min_data_in_leaf is set=972, min_child_samples=20 will be ignored. Current value: min_data_in_leaf=972\n",
      "Training until validation scores don't improve for 400 rounds\n",
      "Early stopping, best iteration is:\n",
      "[2410]\tvalid_0's auc: 0.745167\n"
     ]
    },
    {
     "name": "stderr",
     "output_type": "stream",
     "text": [
      "7it [02:09, 17.98s/it]"
     ]
    },
    {
     "name": "stdout",
     "output_type": "stream",
     "text": [
      "[LightGBM] [Warning] min_data_in_leaf is set=972, min_child_samples=20 will be ignored. Current value: min_data_in_leaf=972\n",
      "Training until validation scores don't improve for 400 rounds\n",
      "Early stopping, best iteration is:\n",
      "[2986]\tvalid_0's auc: 0.749085\n"
     ]
    },
    {
     "name": "stderr",
     "output_type": "stream",
     "text": [
      "8it [02:30, 18.81s/it]"
     ]
    },
    {
     "name": "stdout",
     "output_type": "stream",
     "text": [
      "[LightGBM] [Warning] min_data_in_leaf is set=972, min_child_samples=20 will be ignored. Current value: min_data_in_leaf=972\n",
      "Training until validation scores don't improve for 400 rounds\n",
      "Early stopping, best iteration is:\n",
      "[3151]\tvalid_0's auc: 0.749007\n"
     ]
    },
    {
     "name": "stderr",
     "output_type": "stream",
     "text": [
      "9it [02:51, 19.64s/it]"
     ]
    },
    {
     "name": "stdout",
     "output_type": "stream",
     "text": [
      "[LightGBM] [Warning] min_data_in_leaf is set=972, min_child_samples=20 will be ignored. Current value: min_data_in_leaf=972\n",
      "Training until validation scores don't improve for 400 rounds\n",
      "Early stopping, best iteration is:\n",
      "[2239]\tvalid_0's auc: 0.747571\n"
     ]
    },
    {
     "name": "stderr",
     "output_type": "stream",
     "text": [
      "10it [03:08, 18.84s/it]\n",
      "\u001b[32m[I 2021-11-03 09:40:19,262]\u001b[0m Trial 10 finished with value: 0.7470605939513859 and parameters: {'learning_rate': 0.22653879270415572, 'n_estimators': 9885, 'max_depth': 7, 'num_leaves': 2, 'reg_alpha': 9.022520408746985, 'reg_lambda': 7.118293367746553, 'min_data_in_leaf': 972}. Best is trial 10 with value: 0.7470605939513859.\u001b[0m\n",
      "0it [00:00, ?it/s]"
     ]
    },
    {
     "name": "stdout",
     "output_type": "stream",
     "text": [
      "[LightGBM] [Warning] min_data_in_leaf is set=982, min_child_samples=20 will be ignored. Current value: min_data_in_leaf=982\n",
      "Training until validation scores don't improve for 400 rounds\n",
      "Early stopping, best iteration is:\n",
      "[893]\tvalid_0's auc: 0.744415\n"
     ]
    },
    {
     "name": "stderr",
     "output_type": "stream",
     "text": [
      "1it [00:10, 10.85s/it]"
     ]
    },
    {
     "name": "stdout",
     "output_type": "stream",
     "text": [
      "[LightGBM] [Warning] min_data_in_leaf is set=982, min_child_samples=20 will be ignored. Current value: min_data_in_leaf=982\n",
      "Training until validation scores don't improve for 400 rounds\n",
      "Early stopping, best iteration is:\n",
      "[771]\tvalid_0's auc: 0.742619\n"
     ]
    },
    {
     "name": "stderr",
     "output_type": "stream",
     "text": [
      "2it [00:20, 10.37s/it]"
     ]
    },
    {
     "name": "stdout",
     "output_type": "stream",
     "text": [
      "[LightGBM] [Warning] min_data_in_leaf is set=982, min_child_samples=20 will be ignored. Current value: min_data_in_leaf=982\n",
      "Training until validation scores don't improve for 400 rounds\n",
      "Early stopping, best iteration is:\n",
      "[688]\tvalid_0's auc: 0.744824\n"
     ]
    },
    {
     "name": "stderr",
     "output_type": "stream",
     "text": [
      "3it [00:30, 10.10s/it]"
     ]
    },
    {
     "name": "stdout",
     "output_type": "stream",
     "text": [
      "[LightGBM] [Warning] min_data_in_leaf is set=982, min_child_samples=20 will be ignored. Current value: min_data_in_leaf=982\n",
      "Training until validation scores don't improve for 400 rounds\n",
      "Early stopping, best iteration is:\n",
      "[785]\tvalid_0's auc: 0.745036\n"
     ]
    },
    {
     "name": "stderr",
     "output_type": "stream",
     "text": [
      "4it [00:40, 10.09s/it]"
     ]
    },
    {
     "name": "stdout",
     "output_type": "stream",
     "text": [
      "[LightGBM] [Warning] min_data_in_leaf is set=982, min_child_samples=20 will be ignored. Current value: min_data_in_leaf=982\n",
      "Training until validation scores don't improve for 400 rounds\n",
      "Early stopping, best iteration is:\n",
      "[795]\tvalid_0's auc: 0.743681\n"
     ]
    },
    {
     "name": "stderr",
     "output_type": "stream",
     "text": [
      "5it [00:51, 10.19s/it]"
     ]
    },
    {
     "name": "stdout",
     "output_type": "stream",
     "text": [
      "[LightGBM] [Warning] min_data_in_leaf is set=982, min_child_samples=20 will be ignored. Current value: min_data_in_leaf=982\n",
      "Training until validation scores don't improve for 400 rounds\n",
      "Early stopping, best iteration is:\n",
      "[674]\tvalid_0's auc: 0.741188\n"
     ]
    },
    {
     "name": "stderr",
     "output_type": "stream",
     "text": [
      "6it [01:00,  9.96s/it]"
     ]
    },
    {
     "name": "stdout",
     "output_type": "stream",
     "text": [
      "[LightGBM] [Warning] min_data_in_leaf is set=982, min_child_samples=20 will be ignored. Current value: min_data_in_leaf=982\n",
      "Training until validation scores don't improve for 400 rounds\n",
      "Early stopping, best iteration is:\n",
      "[699]\tvalid_0's auc: 0.742922\n"
     ]
    },
    {
     "name": "stderr",
     "output_type": "stream",
     "text": [
      "7it [01:10,  9.85s/it]"
     ]
    },
    {
     "name": "stdout",
     "output_type": "stream",
     "text": [
      "[LightGBM] [Warning] min_data_in_leaf is set=982, min_child_samples=20 will be ignored. Current value: min_data_in_leaf=982\n",
      "Training until validation scores don't improve for 400 rounds\n",
      "Early stopping, best iteration is:\n",
      "[630]\tvalid_0's auc: 0.742624\n"
     ]
    },
    {
     "name": "stderr",
     "output_type": "stream",
     "text": [
      "8it [01:19,  9.70s/it]"
     ]
    },
    {
     "name": "stdout",
     "output_type": "stream",
     "text": [
      "[LightGBM] [Warning] min_data_in_leaf is set=982, min_child_samples=20 will be ignored. Current value: min_data_in_leaf=982\n",
      "Training until validation scores don't improve for 400 rounds\n",
      "Early stopping, best iteration is:\n",
      "[700]\tvalid_0's auc: 0.743244\n"
     ]
    },
    {
     "name": "stderr",
     "output_type": "stream",
     "text": [
      "9it [01:29,  9.72s/it]"
     ]
    },
    {
     "name": "stdout",
     "output_type": "stream",
     "text": [
      "[LightGBM] [Warning] min_data_in_leaf is set=982, min_child_samples=20 will be ignored. Current value: min_data_in_leaf=982\n",
      "Training until validation scores don't improve for 400 rounds\n",
      "Early stopping, best iteration is:\n",
      "[562]\tvalid_0's auc: 0.743602\n"
     ]
    },
    {
     "name": "stderr",
     "output_type": "stream",
     "text": [
      "10it [01:38,  9.82s/it]\n",
      "\u001b[32m[I 2021-11-03 09:41:57,697]\u001b[0m Trial 11 finished with value: 0.7434154244284733 and parameters: {'learning_rate': 0.2201270489206954, 'n_estimators': 9767, 'max_depth': 7, 'num_leaves': 6, 'reg_alpha': 9.407203997165805, 'reg_lambda': 6.6775037087490805, 'min_data_in_leaf': 982}. Best is trial 10 with value: 0.7470605939513859.\u001b[0m\n",
      "0it [00:00, ?it/s]"
     ]
    },
    {
     "name": "stdout",
     "output_type": "stream",
     "text": [
      "[LightGBM] [Warning] min_data_in_leaf is set=53, min_child_samples=20 will be ignored. Current value: min_data_in_leaf=53\n",
      "Training until validation scores don't improve for 400 rounds\n",
      "Early stopping, best iteration is:\n",
      "[321]\tvalid_0's auc: 0.744619\n"
     ]
    },
    {
     "name": "stderr",
     "output_type": "stream",
     "text": [
      "1it [00:12, 12.71s/it]"
     ]
    },
    {
     "name": "stdout",
     "output_type": "stream",
     "text": [
      "[LightGBM] [Warning] min_data_in_leaf is set=53, min_child_samples=20 will be ignored. Current value: min_data_in_leaf=53\n",
      "Training until validation scores don't improve for 400 rounds\n",
      "Early stopping, best iteration is:\n",
      "[358]\tvalid_0's auc: 0.740804\n"
     ]
    },
    {
     "name": "stderr",
     "output_type": "stream",
     "text": [
      "2it [00:26, 13.16s/it]"
     ]
    },
    {
     "name": "stdout",
     "output_type": "stream",
     "text": [
      "[LightGBM] [Warning] min_data_in_leaf is set=53, min_child_samples=20 will be ignored. Current value: min_data_in_leaf=53\n",
      "Training until validation scores don't improve for 400 rounds\n",
      "Early stopping, best iteration is:\n",
      "[274]\tvalid_0's auc: 0.737546\n"
     ]
    },
    {
     "name": "stderr",
     "output_type": "stream",
     "text": [
      "3it [00:38, 12.89s/it]"
     ]
    },
    {
     "name": "stdout",
     "output_type": "stream",
     "text": [
      "[LightGBM] [Warning] min_data_in_leaf is set=53, min_child_samples=20 will be ignored. Current value: min_data_in_leaf=53\n",
      "Training until validation scores don't improve for 400 rounds\n",
      "Early stopping, best iteration is:\n",
      "[484]\tvalid_0's auc: 0.741273\n"
     ]
    },
    {
     "name": "stderr",
     "output_type": "stream",
     "text": [
      "4it [00:54, 13.98s/it]"
     ]
    },
    {
     "name": "stdout",
     "output_type": "stream",
     "text": [
      "[LightGBM] [Warning] min_data_in_leaf is set=53, min_child_samples=20 will be ignored. Current value: min_data_in_leaf=53\n",
      "Training until validation scores don't improve for 400 rounds\n",
      "Early stopping, best iteration is:\n",
      "[298]\tvalid_0's auc: 0.742355\n"
     ]
    },
    {
     "name": "stderr",
     "output_type": "stream",
     "text": [
      "5it [01:07, 13.64s/it]"
     ]
    },
    {
     "name": "stdout",
     "output_type": "stream",
     "text": [
      "[LightGBM] [Warning] min_data_in_leaf is set=53, min_child_samples=20 will be ignored. Current value: min_data_in_leaf=53\n",
      "Training until validation scores don't improve for 400 rounds\n",
      "Early stopping, best iteration is:\n",
      "[278]\tvalid_0's auc: 0.742806\n"
     ]
    },
    {
     "name": "stderr",
     "output_type": "stream",
     "text": [
      "6it [01:20, 13.31s/it]"
     ]
    },
    {
     "name": "stdout",
     "output_type": "stream",
     "text": [
      "[LightGBM] [Warning] min_data_in_leaf is set=53, min_child_samples=20 will be ignored. Current value: min_data_in_leaf=53\n",
      "Training until validation scores don't improve for 400 rounds\n",
      "Early stopping, best iteration is:\n",
      "[245]\tvalid_0's auc: 0.738453\n"
     ]
    },
    {
     "name": "stderr",
     "output_type": "stream",
     "text": [
      "7it [01:31, 12.76s/it]"
     ]
    },
    {
     "name": "stdout",
     "output_type": "stream",
     "text": [
      "[LightGBM] [Warning] min_data_in_leaf is set=53, min_child_samples=20 will be ignored. Current value: min_data_in_leaf=53\n",
      "Training until validation scores don't improve for 400 rounds\n",
      "Early stopping, best iteration is:\n",
      "[285]\tvalid_0's auc: 0.742372\n"
     ]
    },
    {
     "name": "stderr",
     "output_type": "stream",
     "text": [
      "8it [01:43, 12.52s/it]"
     ]
    },
    {
     "name": "stdout",
     "output_type": "stream",
     "text": [
      "[LightGBM] [Warning] min_data_in_leaf is set=53, min_child_samples=20 will be ignored. Current value: min_data_in_leaf=53\n",
      "Training until validation scores don't improve for 400 rounds\n",
      "Early stopping, best iteration is:\n",
      "[332]\tvalid_0's auc: 0.742109\n"
     ]
    },
    {
     "name": "stderr",
     "output_type": "stream",
     "text": [
      "9it [01:57, 12.84s/it]"
     ]
    },
    {
     "name": "stdout",
     "output_type": "stream",
     "text": [
      "[LightGBM] [Warning] min_data_in_leaf is set=53, min_child_samples=20 will be ignored. Current value: min_data_in_leaf=53\n",
      "Training until validation scores don't improve for 400 rounds\n",
      "Early stopping, best iteration is:\n",
      "[311]\tvalid_0's auc: 0.743345\n"
     ]
    },
    {
     "name": "stderr",
     "output_type": "stream",
     "text": [
      "10it [02:10, 13.01s/it]\n",
      "\u001b[32m[I 2021-11-03 09:44:07,942]\u001b[0m Trial 12 finished with value: 0.7415682561372979 and parameters: {'learning_rate': 0.14571812126763428, 'n_estimators': 8031, 'max_depth': 7, 'num_leaves': 31, 'reg_alpha': 8.090669451058572, 'reg_lambda': 7.221676836318766, 'min_data_in_leaf': 53}. Best is trial 10 with value: 0.7470605939513859.\u001b[0m\n",
      "0it [00:00, ?it/s]"
     ]
    },
    {
     "name": "stdout",
     "output_type": "stream",
     "text": [
      "[LightGBM] [Warning] min_data_in_leaf is set=967, min_child_samples=20 will be ignored. Current value: min_data_in_leaf=967\n",
      "Training until validation scores don't improve for 400 rounds\n",
      "Early stopping, best iteration is:\n",
      "[1976]\tvalid_0's auc: 0.743822\n"
     ]
    },
    {
     "name": "stderr",
     "output_type": "stream",
     "text": [
      "1it [00:15, 15.18s/it]"
     ]
    },
    {
     "name": "stdout",
     "output_type": "stream",
     "text": [
      "[LightGBM] [Warning] min_data_in_leaf is set=967, min_child_samples=20 will be ignored. Current value: min_data_in_leaf=967\n",
      "Training until validation scores don't improve for 400 rounds\n",
      "Early stopping, best iteration is:\n",
      "[2864]\tvalid_0's auc: 0.747029\n"
     ]
    },
    {
     "name": "stderr",
     "output_type": "stream",
     "text": [
      "2it [00:35, 18.03s/it]"
     ]
    },
    {
     "name": "stdout",
     "output_type": "stream",
     "text": [
      "[LightGBM] [Warning] min_data_in_leaf is set=967, min_child_samples=20 will be ignored. Current value: min_data_in_leaf=967\n",
      "Training until validation scores don't improve for 400 rounds\n",
      "Early stopping, best iteration is:\n",
      "[2757]\tvalid_0's auc: 0.748\n"
     ]
    },
    {
     "name": "stderr",
     "output_type": "stream",
     "text": [
      "3it [00:54, 18.67s/it]"
     ]
    },
    {
     "name": "stdout",
     "output_type": "stream",
     "text": [
      "[LightGBM] [Warning] min_data_in_leaf is set=967, min_child_samples=20 will be ignored. Current value: min_data_in_leaf=967\n",
      "Training until validation scores don't improve for 400 rounds\n",
      "Early stopping, best iteration is:\n",
      "[2642]\tvalid_0's auc: 0.746272\n"
     ]
    },
    {
     "name": "stderr",
     "output_type": "stream",
     "text": [
      "4it [01:13, 18.73s/it]"
     ]
    },
    {
     "name": "stdout",
     "output_type": "stream",
     "text": [
      "[LightGBM] [Warning] min_data_in_leaf is set=967, min_child_samples=20 will be ignored. Current value: min_data_in_leaf=967\n",
      "Training until validation scores don't improve for 400 rounds\n",
      "Early stopping, best iteration is:\n",
      "[2494]\tvalid_0's auc: 0.742204\n"
     ]
    },
    {
     "name": "stderr",
     "output_type": "stream",
     "text": [
      "5it [01:31, 18.46s/it]"
     ]
    },
    {
     "name": "stdout",
     "output_type": "stream",
     "text": [
      "[LightGBM] [Warning] min_data_in_leaf is set=967, min_child_samples=20 will be ignored. Current value: min_data_in_leaf=967\n",
      "Training until validation scores don't improve for 400 rounds\n",
      "Early stopping, best iteration is:\n",
      "[2790]\tvalid_0's auc: 0.749162\n"
     ]
    },
    {
     "name": "stderr",
     "output_type": "stream",
     "text": [
      "6it [01:51, 18.86s/it]"
     ]
    },
    {
     "name": "stdout",
     "output_type": "stream",
     "text": [
      "[LightGBM] [Warning] min_data_in_leaf is set=967, min_child_samples=20 will be ignored. Current value: min_data_in_leaf=967\n",
      "Training until validation scores don't improve for 400 rounds\n",
      "Early stopping, best iteration is:\n",
      "[2941]\tvalid_0's auc: 0.747281\n"
     ]
    },
    {
     "name": "stderr",
     "output_type": "stream",
     "text": [
      "7it [02:11, 19.37s/it]"
     ]
    },
    {
     "name": "stdout",
     "output_type": "stream",
     "text": [
      "[LightGBM] [Warning] min_data_in_leaf is set=967, min_child_samples=20 will be ignored. Current value: min_data_in_leaf=967\n",
      "Training until validation scores don't improve for 400 rounds\n",
      "Early stopping, best iteration is:\n",
      "[2992]\tvalid_0's auc: 0.746548\n"
     ]
    },
    {
     "name": "stderr",
     "output_type": "stream",
     "text": [
      "8it [02:32, 19.80s/it]"
     ]
    },
    {
     "name": "stdout",
     "output_type": "stream",
     "text": [
      "[LightGBM] [Warning] min_data_in_leaf is set=967, min_child_samples=20 will be ignored. Current value: min_data_in_leaf=967\n",
      "Training until validation scores don't improve for 400 rounds\n",
      "Early stopping, best iteration is:\n",
      "[3237]\tvalid_0's auc: 0.748399\n"
     ]
    },
    {
     "name": "stderr",
     "output_type": "stream",
     "text": [
      "9it [02:54, 20.52s/it]"
     ]
    },
    {
     "name": "stdout",
     "output_type": "stream",
     "text": [
      "[LightGBM] [Warning] min_data_in_leaf is set=967, min_child_samples=20 will be ignored. Current value: min_data_in_leaf=967\n",
      "Training until validation scores don't improve for 400 rounds\n",
      "Early stopping, best iteration is:\n",
      "[2976]\tvalid_0's auc: 0.743007\n"
     ]
    },
    {
     "name": "stderr",
     "output_type": "stream",
     "text": [
      "10it [03:14, 19.50s/it]\n",
      "\u001b[32m[I 2021-11-03 09:47:23,036]\u001b[0m Trial 13 finished with value: 0.7461724584746808 and parameters: {'learning_rate': 0.4027746423398374, 'n_estimators': 9987, 'max_depth': 8, 'num_leaves': 2, 'reg_alpha': 4.318409075585644, 'reg_lambda': 3.548347263695898, 'min_data_in_leaf': 967}. Best is trial 10 with value: 0.7470605939513859.\u001b[0m\n",
      "0it [00:00, ?it/s]"
     ]
    },
    {
     "name": "stdout",
     "output_type": "stream",
     "text": [
      "[LightGBM] [Warning] min_data_in_leaf is set=537, min_child_samples=20 will be ignored. Current value: min_data_in_leaf=537\n",
      "Training until validation scores don't improve for 400 rounds\n",
      "Early stopping, best iteration is:\n",
      "[520]\tvalid_0's auc: 0.743134\n"
     ]
    },
    {
     "name": "stderr",
     "output_type": "stream",
     "text": [
      "1it [00:11, 11.50s/it]"
     ]
    },
    {
     "name": "stdout",
     "output_type": "stream",
     "text": [
      "[LightGBM] [Warning] min_data_in_leaf is set=537, min_child_samples=20 will be ignored. Current value: min_data_in_leaf=537\n",
      "Training until validation scores don't improve for 400 rounds\n",
      "Early stopping, best iteration is:\n",
      "[464]\tvalid_0's auc: 0.743543\n"
     ]
    },
    {
     "name": "stderr",
     "output_type": "stream",
     "text": [
      "2it [00:22, 11.22s/it]"
     ]
    },
    {
     "name": "stdout",
     "output_type": "stream",
     "text": [
      "[LightGBM] [Warning] min_data_in_leaf is set=537, min_child_samples=20 will be ignored. Current value: min_data_in_leaf=537\n",
      "Training until validation scores don't improve for 400 rounds\n",
      "Early stopping, best iteration is:\n",
      "[430]\tvalid_0's auc: 0.743567\n"
     ]
    },
    {
     "name": "stderr",
     "output_type": "stream",
     "text": [
      "3it [00:32, 10.79s/it]"
     ]
    },
    {
     "name": "stdout",
     "output_type": "stream",
     "text": [
      "[LightGBM] [Warning] min_data_in_leaf is set=537, min_child_samples=20 will be ignored. Current value: min_data_in_leaf=537\n",
      "Training until validation scores don't improve for 400 rounds\n",
      "Early stopping, best iteration is:\n",
      "[423]\tvalid_0's auc: 0.743001\n"
     ]
    },
    {
     "name": "stderr",
     "output_type": "stream",
     "text": [
      "4it [00:43, 10.56s/it]"
     ]
    },
    {
     "name": "stdout",
     "output_type": "stream",
     "text": [
      "[LightGBM] [Warning] min_data_in_leaf is set=537, min_child_samples=20 will be ignored. Current value: min_data_in_leaf=537\n",
      "Training until validation scores don't improve for 400 rounds\n",
      "Early stopping, best iteration is:\n",
      "[324]\tvalid_0's auc: 0.737578\n"
     ]
    },
    {
     "name": "stderr",
     "output_type": "stream",
     "text": [
      "5it [00:52, 10.28s/it]"
     ]
    },
    {
     "name": "stdout",
     "output_type": "stream",
     "text": [
      "[LightGBM] [Warning] min_data_in_leaf is set=537, min_child_samples=20 will be ignored. Current value: min_data_in_leaf=537\n",
      "Training until validation scores don't improve for 400 rounds\n",
      "Early stopping, best iteration is:\n",
      "[491]\tvalid_0's auc: 0.743979\n"
     ]
    },
    {
     "name": "stderr",
     "output_type": "stream",
     "text": [
      "6it [01:03, 10.55s/it]"
     ]
    },
    {
     "name": "stdout",
     "output_type": "stream",
     "text": [
      "[LightGBM] [Warning] min_data_in_leaf is set=537, min_child_samples=20 will be ignored. Current value: min_data_in_leaf=537\n",
      "Training until validation scores don't improve for 400 rounds\n",
      "Early stopping, best iteration is:\n",
      "[331]\tvalid_0's auc: 0.741723\n"
     ]
    },
    {
     "name": "stderr",
     "output_type": "stream",
     "text": [
      "7it [01:13, 10.31s/it]"
     ]
    },
    {
     "name": "stdout",
     "output_type": "stream",
     "text": [
      "[LightGBM] [Warning] min_data_in_leaf is set=537, min_child_samples=20 will be ignored. Current value: min_data_in_leaf=537\n",
      "Training until validation scores don't improve for 400 rounds\n",
      "Early stopping, best iteration is:\n",
      "[578]\tvalid_0's auc: 0.74127\n"
     ]
    },
    {
     "name": "stderr",
     "output_type": "stream",
     "text": [
      "8it [01:25, 10.87s/it]"
     ]
    },
    {
     "name": "stdout",
     "output_type": "stream",
     "text": [
      "[LightGBM] [Warning] min_data_in_leaf is set=537, min_child_samples=20 will be ignored. Current value: min_data_in_leaf=537\n",
      "Training until validation scores don't improve for 400 rounds\n",
      "Early stopping, best iteration is:\n",
      "[453]\tvalid_0's auc: 0.74197\n"
     ]
    },
    {
     "name": "stderr",
     "output_type": "stream",
     "text": [
      "9it [01:37, 10.99s/it]"
     ]
    },
    {
     "name": "stdout",
     "output_type": "stream",
     "text": [
      "[LightGBM] [Warning] min_data_in_leaf is set=537, min_child_samples=20 will be ignored. Current value: min_data_in_leaf=537\n",
      "Training until validation scores don't improve for 400 rounds\n",
      "Early stopping, best iteration is:\n",
      "[452]\tvalid_0's auc: 0.746025\n"
     ]
    },
    {
     "name": "stderr",
     "output_type": "stream",
     "text": [
      "10it [01:47, 10.78s/it]\n",
      "\u001b[32m[I 2021-11-03 09:49:11,006]\u001b[0m Trial 14 finished with value: 0.7425790224932709 and parameters: {'learning_rate': 0.15693931127150615, 'n_estimators': 6208, 'max_depth': 6, 'num_leaves': 17, 'reg_alpha': 8.020977493762295, 'reg_lambda': 6.02541673004219, 'min_data_in_leaf': 537}. Best is trial 10 with value: 0.7470605939513859.\u001b[0m\n",
      "0it [00:00, ?it/s]"
     ]
    },
    {
     "name": "stdout",
     "output_type": "stream",
     "text": [
      "[LightGBM] [Warning] min_data_in_leaf is set=848, min_child_samples=20 will be ignored. Current value: min_data_in_leaf=848\n",
      "Training until validation scores don't improve for 400 rounds\n"
     ]
    },
    {
     "name": "stderr",
     "output_type": "stream",
     "text": [
      "1it [00:10, 10.59s/it]"
     ]
    },
    {
     "name": "stdout",
     "output_type": "stream",
     "text": [
      "Early stopping, best iteration is:\n",
      "[159]\tvalid_0's auc: 0.737868\n",
      "[LightGBM] [Warning] min_data_in_leaf is set=848, min_child_samples=20 will be ignored. Current value: min_data_in_leaf=848\n",
      "Training until validation scores don't improve for 400 rounds\n"
     ]
    },
    {
     "name": "stderr",
     "output_type": "stream",
     "text": [
      "2it [00:20, 10.43s/it]"
     ]
    },
    {
     "name": "stdout",
     "output_type": "stream",
     "text": [
      "Early stopping, best iteration is:\n",
      "[138]\tvalid_0's auc: 0.735313\n",
      "[LightGBM] [Warning] min_data_in_leaf is set=848, min_child_samples=20 will be ignored. Current value: min_data_in_leaf=848\n",
      "Training until validation scores don't improve for 400 rounds\n"
     ]
    },
    {
     "name": "stderr",
     "output_type": "stream",
     "text": [
      "3it [00:31, 10.49s/it]"
     ]
    },
    {
     "name": "stdout",
     "output_type": "stream",
     "text": [
      "Early stopping, best iteration is:\n",
      "[126]\tvalid_0's auc: 0.739848\n",
      "[LightGBM] [Warning] min_data_in_leaf is set=848, min_child_samples=20 will be ignored. Current value: min_data_in_leaf=848\n",
      "Training until validation scores don't improve for 400 rounds\n"
     ]
    },
    {
     "name": "stderr",
     "output_type": "stream",
     "text": [
      "4it [00:41, 10.49s/it]"
     ]
    },
    {
     "name": "stdout",
     "output_type": "stream",
     "text": [
      "Early stopping, best iteration is:\n",
      "[149]\tvalid_0's auc: 0.738216\n",
      "[LightGBM] [Warning] min_data_in_leaf is set=848, min_child_samples=20 will be ignored. Current value: min_data_in_leaf=848\n",
      "Training until validation scores don't improve for 400 rounds\n"
     ]
    },
    {
     "name": "stderr",
     "output_type": "stream",
     "text": [
      "5it [00:52, 10.61s/it]"
     ]
    },
    {
     "name": "stdout",
     "output_type": "stream",
     "text": [
      "Early stopping, best iteration is:\n",
      "[160]\tvalid_0's auc: 0.739679\n",
      "[LightGBM] [Warning] min_data_in_leaf is set=848, min_child_samples=20 will be ignored. Current value: min_data_in_leaf=848\n",
      "Training until validation scores don't improve for 400 rounds\n"
     ]
    },
    {
     "name": "stderr",
     "output_type": "stream",
     "text": [
      "6it [01:03, 10.49s/it]"
     ]
    },
    {
     "name": "stdout",
     "output_type": "stream",
     "text": [
      "Early stopping, best iteration is:\n",
      "[136]\tvalid_0's auc: 0.736735\n",
      "[LightGBM] [Warning] min_data_in_leaf is set=848, min_child_samples=20 will be ignored. Current value: min_data_in_leaf=848\n",
      "Training until validation scores don't improve for 400 rounds\n"
     ]
    },
    {
     "name": "stderr",
     "output_type": "stream",
     "text": [
      "7it [01:13, 10.44s/it]"
     ]
    },
    {
     "name": "stdout",
     "output_type": "stream",
     "text": [
      "Early stopping, best iteration is:\n",
      "[138]\tvalid_0's auc: 0.738839\n",
      "[LightGBM] [Warning] min_data_in_leaf is set=848, min_child_samples=20 will be ignored. Current value: min_data_in_leaf=848\n",
      "Training until validation scores don't improve for 400 rounds\n"
     ]
    },
    {
     "name": "stderr",
     "output_type": "stream",
     "text": [
      "8it [01:23, 10.35s/it]"
     ]
    },
    {
     "name": "stdout",
     "output_type": "stream",
     "text": [
      "Early stopping, best iteration is:\n",
      "[139]\tvalid_0's auc: 0.734697\n",
      "[LightGBM] [Warning] min_data_in_leaf is set=848, min_child_samples=20 will be ignored. Current value: min_data_in_leaf=848\n",
      "Training until validation scores don't improve for 400 rounds\n"
     ]
    },
    {
     "name": "stderr",
     "output_type": "stream",
     "text": [
      "9it [01:33, 10.28s/it]"
     ]
    },
    {
     "name": "stdout",
     "output_type": "stream",
     "text": [
      "Early stopping, best iteration is:\n",
      "[129]\tvalid_0's auc: 0.734256\n",
      "[LightGBM] [Warning] min_data_in_leaf is set=848, min_child_samples=20 will be ignored. Current value: min_data_in_leaf=848\n",
      "Training until validation scores don't improve for 400 rounds\n"
     ]
    },
    {
     "name": "stderr",
     "output_type": "stream",
     "text": [
      "10it [01:44, 10.31s/it]"
     ]
    },
    {
     "name": "stdout",
     "output_type": "stream",
     "text": [
      "Early stopping, best iteration is:\n",
      "[134]\tvalid_0's auc: 0.733409\n"
     ]
    },
    {
     "name": "stderr",
     "output_type": "stream",
     "text": [
      "10it [01:44, 10.40s/it]\n",
      "\u001b[32m[I 2021-11-03 09:50:55,176]\u001b[0m Trial 15 finished with value: 0.7368860121166383 and parameters: {'learning_rate': 0.2479039636812832, 'n_estimators': 8591, 'max_depth': 8, 'num_leaves': 36, 'reg_alpha': 2.9203620049890415, 'reg_lambda': 7.989100036810339, 'min_data_in_leaf': 848}. Best is trial 10 with value: 0.7470605939513859.\u001b[0m\n",
      "0it [00:00, ?it/s]"
     ]
    },
    {
     "name": "stdout",
     "output_type": "stream",
     "text": [
      "[LightGBM] [Warning] min_data_in_leaf is set=569, min_child_samples=20 will be ignored. Current value: min_data_in_leaf=569\n",
      "Training until validation scores don't improve for 400 rounds\n",
      "Early stopping, best iteration is:\n",
      "[418]\tvalid_0's auc: 0.74234\n"
     ]
    },
    {
     "name": "stderr",
     "output_type": "stream",
     "text": [
      "1it [00:19, 19.50s/it]"
     ]
    },
    {
     "name": "stdout",
     "output_type": "stream",
     "text": [
      "[LightGBM] [Warning] min_data_in_leaf is set=569, min_child_samples=20 will be ignored. Current value: min_data_in_leaf=569\n",
      "Training until validation scores don't improve for 400 rounds\n",
      "Early stopping, best iteration is:\n",
      "[531]\tvalid_0's auc: 0.74056\n"
     ]
    },
    {
     "name": "stderr",
     "output_type": "stream",
     "text": [
      "2it [00:41, 20.70s/it]"
     ]
    },
    {
     "name": "stdout",
     "output_type": "stream",
     "text": [
      "[LightGBM] [Warning] min_data_in_leaf is set=569, min_child_samples=20 will be ignored. Current value: min_data_in_leaf=569\n",
      "Training until validation scores don't improve for 400 rounds\n",
      "Early stopping, best iteration is:\n",
      "[546]\tvalid_0's auc: 0.74155\n"
     ]
    },
    {
     "name": "stderr",
     "output_type": "stream",
     "text": [
      "3it [01:03, 21.39s/it]"
     ]
    },
    {
     "name": "stdout",
     "output_type": "stream",
     "text": [
      "[LightGBM] [Warning] min_data_in_leaf is set=569, min_child_samples=20 will be ignored. Current value: min_data_in_leaf=569\n",
      "Training until validation scores don't improve for 400 rounds\n",
      "Early stopping, best iteration is:\n",
      "[407]\tvalid_0's auc: 0.742712\n"
     ]
    },
    {
     "name": "stderr",
     "output_type": "stream",
     "text": [
      "4it [01:22, 20.38s/it]"
     ]
    },
    {
     "name": "stdout",
     "output_type": "stream",
     "text": [
      "[LightGBM] [Warning] min_data_in_leaf is set=569, min_child_samples=20 will be ignored. Current value: min_data_in_leaf=569\n",
      "Training until validation scores don't improve for 400 rounds\n",
      "Early stopping, best iteration is:\n",
      "[664]\tvalid_0's auc: 0.744091\n"
     ]
    },
    {
     "name": "stderr",
     "output_type": "stream",
     "text": [
      "5it [01:46, 21.87s/it]"
     ]
    },
    {
     "name": "stdout",
     "output_type": "stream",
     "text": [
      "[LightGBM] [Warning] min_data_in_leaf is set=569, min_child_samples=20 will be ignored. Current value: min_data_in_leaf=569\n",
      "Training until validation scores don't improve for 400 rounds\n",
      "Early stopping, best iteration is:\n",
      "[367]\tvalid_0's auc: 0.742417\n"
     ]
    },
    {
     "name": "stderr",
     "output_type": "stream",
     "text": [
      "6it [02:04, 20.61s/it]"
     ]
    },
    {
     "name": "stdout",
     "output_type": "stream",
     "text": [
      "[LightGBM] [Warning] min_data_in_leaf is set=569, min_child_samples=20 will be ignored. Current value: min_data_in_leaf=569\n",
      "Training until validation scores don't improve for 400 rounds\n",
      "Early stopping, best iteration is:\n",
      "[407]\tvalid_0's auc: 0.74223\n"
     ]
    },
    {
     "name": "stderr",
     "output_type": "stream",
     "text": [
      "7it [02:24, 20.27s/it]"
     ]
    },
    {
     "name": "stdout",
     "output_type": "stream",
     "text": [
      "[LightGBM] [Warning] min_data_in_leaf is set=569, min_child_samples=20 will be ignored. Current value: min_data_in_leaf=569\n",
      "Training until validation scores don't improve for 400 rounds\n",
      "Early stopping, best iteration is:\n",
      "[430]\tvalid_0's auc: 0.74267\n"
     ]
    },
    {
     "name": "stderr",
     "output_type": "stream",
     "text": [
      "8it [02:43, 19.98s/it]"
     ]
    },
    {
     "name": "stdout",
     "output_type": "stream",
     "text": [
      "[LightGBM] [Warning] min_data_in_leaf is set=569, min_child_samples=20 will be ignored. Current value: min_data_in_leaf=569\n",
      "Training until validation scores don't improve for 400 rounds\n",
      "Early stopping, best iteration is:\n",
      "[432]\tvalid_0's auc: 0.743076\n"
     ]
    },
    {
     "name": "stderr",
     "output_type": "stream",
     "text": [
      "9it [03:02, 19.72s/it]"
     ]
    },
    {
     "name": "stdout",
     "output_type": "stream",
     "text": [
      "[LightGBM] [Warning] min_data_in_leaf is set=569, min_child_samples=20 will be ignored. Current value: min_data_in_leaf=569\n",
      "Training until validation scores don't improve for 400 rounds\n",
      "Early stopping, best iteration is:\n",
      "[396]\tvalid_0's auc: 0.747152\n"
     ]
    },
    {
     "name": "stderr",
     "output_type": "stream",
     "text": [
      "10it [03:21, 20.18s/it]\n",
      "\u001b[32m[I 2021-11-03 09:54:17,157]\u001b[0m Trial 16 finished with value: 0.7428798536405203 and parameters: {'learning_rate': 0.08314059908636773, 'n_estimators': 4237, 'max_depth': 9, 'num_leaves': 51, 'reg_alpha': 0.06321023932338221, 'reg_lambda': 5.36591993765267, 'min_data_in_leaf': 569}. Best is trial 10 with value: 0.7470605939513859.\u001b[0m\n",
      "0it [00:00, ?it/s]"
     ]
    },
    {
     "name": "stdout",
     "output_type": "stream",
     "text": [
      "[LightGBM] [Warning] min_data_in_leaf is set=377, min_child_samples=20 will be ignored. Current value: min_data_in_leaf=377\n",
      "Training until validation scores don't improve for 400 rounds\n"
     ]
    },
    {
     "name": "stderr",
     "output_type": "stream",
     "text": [
      "1it [00:11, 11.09s/it]"
     ]
    },
    {
     "name": "stdout",
     "output_type": "stream",
     "text": [
      "Early stopping, best iteration is:\n",
      "[80]\tvalid_0's auc: 0.725891\n",
      "[LightGBM] [Warning] min_data_in_leaf is set=377, min_child_samples=20 will be ignored. Current value: min_data_in_leaf=377\n",
      "Training until validation scores don't improve for 400 rounds\n"
     ]
    },
    {
     "name": "stderr",
     "output_type": "stream",
     "text": [
      "2it [00:22, 11.29s/it]"
     ]
    },
    {
     "name": "stdout",
     "output_type": "stream",
     "text": [
      "Early stopping, best iteration is:\n",
      "[91]\tvalid_0's auc: 0.722176\n",
      "[LightGBM] [Warning] min_data_in_leaf is set=377, min_child_samples=20 will be ignored. Current value: min_data_in_leaf=377\n",
      "Training until validation scores don't improve for 400 rounds\n"
     ]
    },
    {
     "name": "stderr",
     "output_type": "stream",
     "text": [
      "3it [00:33, 11.22s/it]"
     ]
    },
    {
     "name": "stdout",
     "output_type": "stream",
     "text": [
      "Early stopping, best iteration is:\n",
      "[88]\tvalid_0's auc: 0.721404\n",
      "[LightGBM] [Warning] min_data_in_leaf is set=377, min_child_samples=20 will be ignored. Current value: min_data_in_leaf=377\n",
      "Training until validation scores don't improve for 400 rounds\n"
     ]
    },
    {
     "name": "stderr",
     "output_type": "stream",
     "text": [
      "4it [00:44, 11.21s/it]"
     ]
    },
    {
     "name": "stdout",
     "output_type": "stream",
     "text": [
      "Early stopping, best iteration is:\n",
      "[92]\tvalid_0's auc: 0.72425\n",
      "[LightGBM] [Warning] min_data_in_leaf is set=377, min_child_samples=20 will be ignored. Current value: min_data_in_leaf=377\n",
      "Training until validation scores don't improve for 400 rounds\n"
     ]
    },
    {
     "name": "stderr",
     "output_type": "stream",
     "text": [
      "5it [00:55, 11.12s/it]"
     ]
    },
    {
     "name": "stdout",
     "output_type": "stream",
     "text": [
      "Early stopping, best iteration is:\n",
      "[77]\tvalid_0's auc: 0.723997\n",
      "[LightGBM] [Warning] min_data_in_leaf is set=377, min_child_samples=20 will be ignored. Current value: min_data_in_leaf=377\n",
      "Training until validation scores don't improve for 400 rounds\n"
     ]
    },
    {
     "name": "stderr",
     "output_type": "stream",
     "text": [
      "6it [01:07, 11.25s/it]"
     ]
    },
    {
     "name": "stdout",
     "output_type": "stream",
     "text": [
      "Early stopping, best iteration is:\n",
      "[97]\tvalid_0's auc: 0.724186\n",
      "[LightGBM] [Warning] min_data_in_leaf is set=377, min_child_samples=20 will be ignored. Current value: min_data_in_leaf=377\n",
      "Training until validation scores don't improve for 400 rounds\n"
     ]
    },
    {
     "name": "stderr",
     "output_type": "stream",
     "text": [
      "7it [01:18, 11.11s/it]"
     ]
    },
    {
     "name": "stdout",
     "output_type": "stream",
     "text": [
      "Early stopping, best iteration is:\n",
      "[81]\tvalid_0's auc: 0.72368\n",
      "[LightGBM] [Warning] min_data_in_leaf is set=377, min_child_samples=20 will be ignored. Current value: min_data_in_leaf=377\n",
      "Training until validation scores don't improve for 400 rounds\n"
     ]
    },
    {
     "name": "stderr",
     "output_type": "stream",
     "text": [
      "8it [01:29, 11.09s/it]"
     ]
    },
    {
     "name": "stdout",
     "output_type": "stream",
     "text": [
      "Early stopping, best iteration is:\n",
      "[79]\tvalid_0's auc: 0.726363\n",
      "[LightGBM] [Warning] min_data_in_leaf is set=377, min_child_samples=20 will be ignored. Current value: min_data_in_leaf=377\n",
      "Training until validation scores don't improve for 400 rounds\n"
     ]
    },
    {
     "name": "stderr",
     "output_type": "stream",
     "text": [
      "9it [01:39, 10.97s/it]"
     ]
    },
    {
     "name": "stdout",
     "output_type": "stream",
     "text": [
      "Early stopping, best iteration is:\n",
      "[97]\tvalid_0's auc: 0.726974\n",
      "[LightGBM] [Warning] min_data_in_leaf is set=377, min_child_samples=20 will be ignored. Current value: min_data_in_leaf=377\n",
      "Training until validation scores don't improve for 400 rounds\n"
     ]
    },
    {
     "name": "stderr",
     "output_type": "stream",
     "text": [
      "10it [01:50, 11.10s/it]\n",
      "\u001b[32m[I 2021-11-03 09:56:08,251]\u001b[0m Trial 17 finished with value: 0.7240868644038901 and parameters: {'learning_rate': 0.49839880199492625, 'n_estimators': 7227, 'max_depth': 6, 'num_leaves': 100, 'reg_alpha': 7.7430040040369885, 'reg_lambda': 2.9789712932284567, 'min_data_in_leaf': 377}. Best is trial 10 with value: 0.7470605939513859.\u001b[0m\n"
     ]
    },
    {
     "name": "stdout",
     "output_type": "stream",
     "text": [
      "Early stopping, best iteration is:\n",
      "[81]\tvalid_0's auc: 0.721948\n"
     ]
    },
    {
     "name": "stderr",
     "output_type": "stream",
     "text": [
      "0it [00:00, ?it/s]"
     ]
    },
    {
     "name": "stdout",
     "output_type": "stream",
     "text": [
      "[LightGBM] [Warning] min_data_in_leaf is set=116, min_child_samples=20 will be ignored. Current value: min_data_in_leaf=116\n",
      "Training until validation scores don't improve for 400 rounds\n"
     ]
    },
    {
     "name": "stderr",
     "output_type": "stream",
     "text": [
      "1it [00:07,  7.47s/it]"
     ]
    },
    {
     "name": "stdout",
     "output_type": "stream",
     "text": [
      "Early stopping, best iteration is:\n",
      "[128]\tvalid_0's auc: 0.737305\n",
      "[LightGBM] [Warning] min_data_in_leaf is set=116, min_child_samples=20 will be ignored. Current value: min_data_in_leaf=116\n",
      "Training until validation scores don't improve for 400 rounds\n"
     ]
    },
    {
     "name": "stderr",
     "output_type": "stream",
     "text": [
      "2it [00:15,  7.70s/it]"
     ]
    },
    {
     "name": "stdout",
     "output_type": "stream",
     "text": [
      "Early stopping, best iteration is:\n",
      "[158]\tvalid_0's auc: 0.735909\n",
      "[LightGBM] [Warning] min_data_in_leaf is set=116, min_child_samples=20 will be ignored. Current value: min_data_in_leaf=116\n",
      "Training until validation scores don't improve for 400 rounds\n"
     ]
    },
    {
     "name": "stderr",
     "output_type": "stream",
     "text": [
      "3it [00:22,  7.66s/it]"
     ]
    },
    {
     "name": "stdout",
     "output_type": "stream",
     "text": [
      "Early stopping, best iteration is:\n",
      "[134]\tvalid_0's auc: 0.738583\n",
      "[LightGBM] [Warning] min_data_in_leaf is set=116, min_child_samples=20 will be ignored. Current value: min_data_in_leaf=116\n",
      "Training until validation scores don't improve for 400 rounds\n"
     ]
    },
    {
     "name": "stderr",
     "output_type": "stream",
     "text": [
      "4it [00:30,  7.57s/it]"
     ]
    },
    {
     "name": "stdout",
     "output_type": "stream",
     "text": [
      "Early stopping, best iteration is:\n",
      "[127]\tvalid_0's auc: 0.733705\n",
      "[LightGBM] [Warning] min_data_in_leaf is set=116, min_child_samples=20 will be ignored. Current value: min_data_in_leaf=116\n",
      "Training until validation scores don't improve for 400 rounds\n"
     ]
    },
    {
     "name": "stderr",
     "output_type": "stream",
     "text": [
      "5it [00:37,  7.57s/it]"
     ]
    },
    {
     "name": "stdout",
     "output_type": "stream",
     "text": [
      "Early stopping, best iteration is:\n",
      "[154]\tvalid_0's auc: 0.733974\n",
      "[LightGBM] [Warning] min_data_in_leaf is set=116, min_child_samples=20 will be ignored. Current value: min_data_in_leaf=116\n",
      "Training until validation scores don't improve for 400 rounds\n"
     ]
    },
    {
     "name": "stderr",
     "output_type": "stream",
     "text": [
      "6it [00:44,  7.30s/it]"
     ]
    },
    {
     "name": "stdout",
     "output_type": "stream",
     "text": [
      "Early stopping, best iteration is:\n",
      "[131]\tvalid_0's auc: 0.735178\n",
      "[LightGBM] [Warning] min_data_in_leaf is set=116, min_child_samples=20 will be ignored. Current value: min_data_in_leaf=116\n",
      "Training until validation scores don't improve for 400 rounds\n"
     ]
    },
    {
     "name": "stderr",
     "output_type": "stream",
     "text": [
      "7it [00:52,  7.37s/it]"
     ]
    },
    {
     "name": "stdout",
     "output_type": "stream",
     "text": [
      "Early stopping, best iteration is:\n",
      "[125]\tvalid_0's auc: 0.736439\n",
      "[LightGBM] [Warning] min_data_in_leaf is set=116, min_child_samples=20 will be ignored. Current value: min_data_in_leaf=116\n",
      "Training until validation scores don't improve for 400 rounds\n"
     ]
    },
    {
     "name": "stderr",
     "output_type": "stream",
     "text": [
      "8it [00:59,  7.40s/it]"
     ]
    },
    {
     "name": "stdout",
     "output_type": "stream",
     "text": [
      "Early stopping, best iteration is:\n",
      "[153]\tvalid_0's auc: 0.734712\n",
      "[LightGBM] [Warning] min_data_in_leaf is set=116, min_child_samples=20 will be ignored. Current value: min_data_in_leaf=116\n",
      "Training until validation scores don't improve for 400 rounds\n",
      "Early stopping, best iteration is:\n",
      "[282]\tvalid_0's auc: 0.739256\n"
     ]
    },
    {
     "name": "stderr",
     "output_type": "stream",
     "text": [
      "9it [01:08,  7.86s/it]"
     ]
    },
    {
     "name": "stdout",
     "output_type": "stream",
     "text": [
      "[LightGBM] [Warning] min_data_in_leaf is set=116, min_child_samples=20 will be ignored. Current value: min_data_in_leaf=116\n",
      "Training until validation scores don't improve for 400 rounds\n"
     ]
    },
    {
     "name": "stderr",
     "output_type": "stream",
     "text": [
      "10it [01:16,  7.64s/it]"
     ]
    },
    {
     "name": "stdout",
     "output_type": "stream",
     "text": [
      "Early stopping, best iteration is:\n",
      "[168]\tvalid_0's auc: 0.738627\n"
     ]
    },
    {
     "name": "stderr",
     "output_type": "stream",
     "text": [
      "\n",
      "\u001b[32m[I 2021-11-03 09:57:24,807]\u001b[0m Trial 18 finished with value: 0.7363687382633343 and parameters: {'learning_rate': 0.33235864881925425, 'n_estimators': 8670, 'max_depth': 8, 'num_leaves': 15, 'reg_alpha': 9.882339216183828, 'reg_lambda': 8.089162874311056, 'min_data_in_leaf': 116}. Best is trial 10 with value: 0.7470605939513859.\u001b[0m\n",
      "0it [00:00, ?it/s]"
     ]
    },
    {
     "name": "stdout",
     "output_type": "stream",
     "text": [
      "[LightGBM] [Warning] min_data_in_leaf is set=622, min_child_samples=20 will be ignored. Current value: min_data_in_leaf=622\n",
      "Training until validation scores don't improve for 400 rounds\n",
      "Did not meet early stopping. Best iteration is:\n",
      "[6591]\tvalid_0's auc: 0.7482\n"
     ]
    },
    {
     "name": "stderr",
     "output_type": "stream",
     "text": [
      "1it [00:38, 38.32s/it]"
     ]
    },
    {
     "name": "stdout",
     "output_type": "stream",
     "text": [
      "[LightGBM] [Warning] min_data_in_leaf is set=622, min_child_samples=20 will be ignored. Current value: min_data_in_leaf=622\n",
      "Training until validation scores don't improve for 400 rounds\n",
      "Early stopping, best iteration is:\n",
      "[5104]\tvalid_0's auc: 0.750175\n"
     ]
    },
    {
     "name": "stderr",
     "output_type": "stream",
     "text": [
      "2it [01:10, 34.60s/it]"
     ]
    },
    {
     "name": "stdout",
     "output_type": "stream",
     "text": [
      "[LightGBM] [Warning] min_data_in_leaf is set=622, min_child_samples=20 will be ignored. Current value: min_data_in_leaf=622\n",
      "Training until validation scores don't improve for 400 rounds\n",
      "Did not meet early stopping. Best iteration is:\n",
      "[6664]\tvalid_0's auc: 0.745882\n"
     ]
    },
    {
     "name": "stderr",
     "output_type": "stream",
     "text": [
      "3it [01:49, 36.52s/it]"
     ]
    },
    {
     "name": "stdout",
     "output_type": "stream",
     "text": [
      "[LightGBM] [Warning] min_data_in_leaf is set=622, min_child_samples=20 will be ignored. Current value: min_data_in_leaf=622\n",
      "Training until validation scores don't improve for 400 rounds\n",
      "Early stopping, best iteration is:\n",
      "[6041]\tvalid_0's auc: 0.747269\n"
     ]
    },
    {
     "name": "stderr",
     "output_type": "stream",
     "text": [
      "4it [02:26, 36.71s/it]"
     ]
    },
    {
     "name": "stdout",
     "output_type": "stream",
     "text": [
      "[LightGBM] [Warning] min_data_in_leaf is set=622, min_child_samples=20 will be ignored. Current value: min_data_in_leaf=622\n",
      "Training until validation scores don't improve for 400 rounds\n",
      "Early stopping, best iteration is:\n",
      "[6134]\tvalid_0's auc: 0.746742\n"
     ]
    },
    {
     "name": "stderr",
     "output_type": "stream",
     "text": [
      "5it [03:03, 37.02s/it]"
     ]
    },
    {
     "name": "stdout",
     "output_type": "stream",
     "text": [
      "[LightGBM] [Warning] min_data_in_leaf is set=622, min_child_samples=20 will be ignored. Current value: min_data_in_leaf=622\n",
      "Training until validation scores don't improve for 400 rounds\n",
      "Did not meet early stopping. Best iteration is:\n",
      "[6652]\tvalid_0's auc: 0.743187\n"
     ]
    },
    {
     "name": "stderr",
     "output_type": "stream",
     "text": [
      "6it [03:42, 37.47s/it]"
     ]
    },
    {
     "name": "stdout",
     "output_type": "stream",
     "text": [
      "[LightGBM] [Warning] min_data_in_leaf is set=622, min_child_samples=20 will be ignored. Current value: min_data_in_leaf=622\n",
      "Training until validation scores don't improve for 400 rounds\n",
      "Did not meet early stopping. Best iteration is:\n",
      "[6626]\tvalid_0's auc: 0.750405\n"
     ]
    },
    {
     "name": "stderr",
     "output_type": "stream",
     "text": [
      "7it [04:20, 37.74s/it]"
     ]
    },
    {
     "name": "stdout",
     "output_type": "stream",
     "text": [
      "[LightGBM] [Warning] min_data_in_leaf is set=622, min_child_samples=20 will be ignored. Current value: min_data_in_leaf=622\n",
      "Training until validation scores don't improve for 400 rounds\n",
      "Early stopping, best iteration is:\n",
      "[5845]\tvalid_0's auc: 0.747065\n"
     ]
    },
    {
     "name": "stderr",
     "output_type": "stream",
     "text": [
      "8it [04:56, 37.14s/it]"
     ]
    },
    {
     "name": "stdout",
     "output_type": "stream",
     "text": [
      "[LightGBM] [Warning] min_data_in_leaf is set=622, min_child_samples=20 will be ignored. Current value: min_data_in_leaf=622\n",
      "Training until validation scores don't improve for 400 rounds\n",
      "Did not meet early stopping. Best iteration is:\n",
      "[6484]\tvalid_0's auc: 0.746516\n"
     ]
    },
    {
     "name": "stderr",
     "output_type": "stream",
     "text": [
      "9it [05:34, 37.58s/it]"
     ]
    },
    {
     "name": "stdout",
     "output_type": "stream",
     "text": [
      "[LightGBM] [Warning] min_data_in_leaf is set=622, min_child_samples=20 will be ignored. Current value: min_data_in_leaf=622\n",
      "Training until validation scores don't improve for 400 rounds\n",
      "Early stopping, best iteration is:\n",
      "[5710]\tvalid_0's auc: 0.750341\n"
     ]
    },
    {
     "name": "stderr",
     "output_type": "stream",
     "text": [
      "10it [06:10, 37.01s/it]\n",
      "\u001b[32m[I 2021-11-03 10:03:35,003]\u001b[0m Trial 19 finished with value: 0.7475782744060069 and parameters: {'learning_rate': 0.088202251342637, 'n_estimators': 6675, 'max_depth': 9, 'num_leaves': 2, 'reg_alpha': 3.2551114904483622, 'reg_lambda': 4.3256459403144465, 'min_data_in_leaf': 622}. Best is trial 19 with value: 0.7475782744060069.\u001b[0m\n",
      "0it [00:00, ?it/s]"
     ]
    },
    {
     "name": "stdout",
     "output_type": "stream",
     "text": [
      "[LightGBM] [Warning] min_data_in_leaf is set=846, min_child_samples=20 will be ignored. Current value: min_data_in_leaf=846\n",
      "Training until validation scores don't improve for 400 rounds\n",
      "Early stopping, best iteration is:\n",
      "[280]\tvalid_0's auc: 0.742048\n"
     ]
    },
    {
     "name": "stderr",
     "output_type": "stream",
     "text": [
      "1it [00:10, 10.55s/it]"
     ]
    },
    {
     "name": "stdout",
     "output_type": "stream",
     "text": [
      "[LightGBM] [Warning] min_data_in_leaf is set=846, min_child_samples=20 will be ignored. Current value: min_data_in_leaf=846\n",
      "Training until validation scores don't improve for 400 rounds\n",
      "Early stopping, best iteration is:\n",
      "[357]\tvalid_0's auc: 0.740622\n"
     ]
    },
    {
     "name": "stderr",
     "output_type": "stream",
     "text": [
      "2it [00:21, 10.91s/it]"
     ]
    },
    {
     "name": "stdout",
     "output_type": "stream",
     "text": [
      "[LightGBM] [Warning] min_data_in_leaf is set=846, min_child_samples=20 will be ignored. Current value: min_data_in_leaf=846\n",
      "Training until validation scores don't improve for 400 rounds\n",
      "Early stopping, best iteration is:\n",
      "[314]\tvalid_0's auc: 0.739729\n"
     ]
    },
    {
     "name": "stderr",
     "output_type": "stream",
     "text": [
      "3it [00:32, 10.79s/it]"
     ]
    },
    {
     "name": "stdout",
     "output_type": "stream",
     "text": [
      "[LightGBM] [Warning] min_data_in_leaf is set=846, min_child_samples=20 will be ignored. Current value: min_data_in_leaf=846\n",
      "Training until validation scores don't improve for 400 rounds\n",
      "Early stopping, best iteration is:\n",
      "[356]\tvalid_0's auc: 0.741615\n"
     ]
    },
    {
     "name": "stderr",
     "output_type": "stream",
     "text": [
      "4it [00:43, 10.96s/it]"
     ]
    },
    {
     "name": "stdout",
     "output_type": "stream",
     "text": [
      "[LightGBM] [Warning] min_data_in_leaf is set=846, min_child_samples=20 will be ignored. Current value: min_data_in_leaf=846\n",
      "Training until validation scores don't improve for 400 rounds\n",
      "Early stopping, best iteration is:\n",
      "[274]\tvalid_0's auc: 0.741015\n"
     ]
    },
    {
     "name": "stderr",
     "output_type": "stream",
     "text": [
      "5it [00:53, 10.71s/it]"
     ]
    },
    {
     "name": "stdout",
     "output_type": "stream",
     "text": [
      "[LightGBM] [Warning] min_data_in_leaf is set=846, min_child_samples=20 will be ignored. Current value: min_data_in_leaf=846\n",
      "Training until validation scores don't improve for 400 rounds\n",
      "Early stopping, best iteration is:\n",
      "[312]\tvalid_0's auc: 0.74268\n"
     ]
    },
    {
     "name": "stderr",
     "output_type": "stream",
     "text": [
      "6it [01:04, 10.70s/it]"
     ]
    },
    {
     "name": "stdout",
     "output_type": "stream",
     "text": [
      "[LightGBM] [Warning] min_data_in_leaf is set=846, min_child_samples=20 will be ignored. Current value: min_data_in_leaf=846\n",
      "Training until validation scores don't improve for 400 rounds\n",
      "Early stopping, best iteration is:\n",
      "[299]\tvalid_0's auc: 0.742607\n"
     ]
    },
    {
     "name": "stderr",
     "output_type": "stream",
     "text": [
      "7it [01:14, 10.63s/it]"
     ]
    },
    {
     "name": "stdout",
     "output_type": "stream",
     "text": [
      "[LightGBM] [Warning] min_data_in_leaf is set=846, min_child_samples=20 will be ignored. Current value: min_data_in_leaf=846\n",
      "Training until validation scores don't improve for 400 rounds\n",
      "Early stopping, best iteration is:\n",
      "[364]\tvalid_0's auc: 0.738984\n"
     ]
    },
    {
     "name": "stderr",
     "output_type": "stream",
     "text": [
      "8it [01:26, 10.79s/it]"
     ]
    },
    {
     "name": "stdout",
     "output_type": "stream",
     "text": [
      "[LightGBM] [Warning] min_data_in_leaf is set=846, min_child_samples=20 will be ignored. Current value: min_data_in_leaf=846\n",
      "Training until validation scores don't improve for 400 rounds\n",
      "Early stopping, best iteration is:\n",
      "[235]\tvalid_0's auc: 0.742846\n"
     ]
    },
    {
     "name": "stderr",
     "output_type": "stream",
     "text": [
      "9it [01:35, 10.49s/it]"
     ]
    },
    {
     "name": "stdout",
     "output_type": "stream",
     "text": [
      "[LightGBM] [Warning] min_data_in_leaf is set=846, min_child_samples=20 will be ignored. Current value: min_data_in_leaf=846\n",
      "Training until validation scores don't improve for 400 rounds\n",
      "Early stopping, best iteration is:\n",
      "[321]\tvalid_0's auc: 0.741693\n"
     ]
    },
    {
     "name": "stderr",
     "output_type": "stream",
     "text": [
      "10it [01:46, 10.66s/it]\n",
      "\u001b[32m[I 2021-11-03 10:05:21,771]\u001b[0m Trial 20 finished with value: 0.7413838802803203 and parameters: {'learning_rate': 0.15852583406991555, 'n_estimators': 6342, 'max_depth': 7, 'num_leaves': 23, 'reg_alpha': 3.542519346138601, 'reg_lambda': 5.504429226639827, 'min_data_in_leaf': 846}. Best is trial 19 with value: 0.7475782744060069.\u001b[0m\n",
      "0it [00:00, ?it/s]"
     ]
    },
    {
     "name": "stdout",
     "output_type": "stream",
     "text": [
      "[LightGBM] [Warning] min_data_in_leaf is set=620, min_child_samples=20 will be ignored. Current value: min_data_in_leaf=620\n",
      "Training until validation scores don't improve for 400 rounds\n",
      "Did not meet early stopping. Best iteration is:\n",
      "[9296]\tvalid_0's auc: 0.743753\n"
     ]
    },
    {
     "name": "stderr",
     "output_type": "stream",
     "text": [
      "1it [01:21, 81.52s/it]"
     ]
    },
    {
     "name": "stdout",
     "output_type": "stream",
     "text": [
      "[LightGBM] [Warning] min_data_in_leaf is set=620, min_child_samples=20 will be ignored. Current value: min_data_in_leaf=620\n",
      "Training until validation scores don't improve for 400 rounds\n",
      "Did not meet early stopping. Best iteration is:\n",
      "[9307]\tvalid_0's auc: 0.746591\n"
     ]
    },
    {
     "name": "stderr",
     "output_type": "stream",
     "text": [
      "2it [02:42, 81.22s/it]"
     ]
    },
    {
     "name": "stdout",
     "output_type": "stream",
     "text": [
      "[LightGBM] [Warning] min_data_in_leaf is set=620, min_child_samples=20 will be ignored. Current value: min_data_in_leaf=620\n",
      "Training until validation scores don't improve for 400 rounds\n",
      "Did not meet early stopping. Best iteration is:\n",
      "[9307]\tvalid_0's auc: 0.747467\n"
     ]
    },
    {
     "name": "stderr",
     "output_type": "stream",
     "text": [
      "3it [04:03, 81.14s/it]"
     ]
    },
    {
     "name": "stdout",
     "output_type": "stream",
     "text": [
      "[LightGBM] [Warning] min_data_in_leaf is set=620, min_child_samples=20 will be ignored. Current value: min_data_in_leaf=620\n",
      "Training until validation scores don't improve for 400 rounds\n",
      "Did not meet early stopping. Best iteration is:\n",
      "[9300]\tvalid_0's auc: 0.746278\n"
     ]
    },
    {
     "name": "stderr",
     "output_type": "stream",
     "text": [
      "4it [05:24, 81.14s/it]"
     ]
    },
    {
     "name": "stdout",
     "output_type": "stream",
     "text": [
      "[LightGBM] [Warning] min_data_in_leaf is set=620, min_child_samples=20 will be ignored. Current value: min_data_in_leaf=620\n",
      "Training until validation scores don't improve for 400 rounds\n",
      "Did not meet early stopping. Best iteration is:\n",
      "[9304]\tvalid_0's auc: 0.746609\n"
     ]
    },
    {
     "name": "stderr",
     "output_type": "stream",
     "text": [
      "5it [06:45, 81.04s/it]"
     ]
    },
    {
     "name": "stdout",
     "output_type": "stream",
     "text": [
      "[LightGBM] [Warning] min_data_in_leaf is set=620, min_child_samples=20 will be ignored. Current value: min_data_in_leaf=620\n",
      "Training until validation scores don't improve for 400 rounds\n",
      "Did not meet early stopping. Best iteration is:\n",
      "[9307]\tvalid_0's auc: 0.746823\n"
     ]
    },
    {
     "name": "stderr",
     "output_type": "stream",
     "text": [
      "6it [08:06, 80.97s/it]"
     ]
    },
    {
     "name": "stdout",
     "output_type": "stream",
     "text": [
      "[LightGBM] [Warning] min_data_in_leaf is set=620, min_child_samples=20 will be ignored. Current value: min_data_in_leaf=620\n",
      "Training until validation scores don't improve for 400 rounds\n",
      "Did not meet early stopping. Best iteration is:\n",
      "[9307]\tvalid_0's auc: 0.745913\n"
     ]
    },
    {
     "name": "stderr",
     "output_type": "stream",
     "text": [
      "7it [09:28, 81.25s/it]"
     ]
    },
    {
     "name": "stdout",
     "output_type": "stream",
     "text": [
      "[LightGBM] [Warning] min_data_in_leaf is set=620, min_child_samples=20 will be ignored. Current value: min_data_in_leaf=620\n",
      "Training until validation scores don't improve for 400 rounds\n",
      "Did not meet early stopping. Best iteration is:\n",
      "[9307]\tvalid_0's auc: 0.747547\n"
     ]
    },
    {
     "name": "stderr",
     "output_type": "stream",
     "text": [
      "8it [10:49, 81.12s/it]"
     ]
    },
    {
     "name": "stdout",
     "output_type": "stream",
     "text": [
      "[LightGBM] [Warning] min_data_in_leaf is set=620, min_child_samples=20 will be ignored. Current value: min_data_in_leaf=620\n",
      "Training until validation scores don't improve for 400 rounds\n",
      "Did not meet early stopping. Best iteration is:\n",
      "[9302]\tvalid_0's auc: 0.745306\n"
     ]
    },
    {
     "name": "stderr",
     "output_type": "stream",
     "text": [
      "9it [12:10, 81.19s/it]"
     ]
    },
    {
     "name": "stdout",
     "output_type": "stream",
     "text": [
      "[LightGBM] [Warning] min_data_in_leaf is set=620, min_child_samples=20 will be ignored. Current value: min_data_in_leaf=620\n",
      "Training until validation scores don't improve for 400 rounds\n",
      "Did not meet early stopping. Best iteration is:\n",
      "[9306]\tvalid_0's auc: 0.744055\n"
     ]
    },
    {
     "name": "stderr",
     "output_type": "stream",
     "text": [
      "10it [13:30, 81.09s/it]\n",
      "\u001b[32m[I 2021-11-03 10:18:52,770]\u001b[0m Trial 21 finished with value: 0.7460342295631003 and parameters: {'learning_rate': 0.007896210587373803, 'n_estimators': 9307, 'max_depth': 9, 'num_leaves': 7, 'reg_alpha': 4.946565472033667, 'reg_lambda': 4.025680761386046, 'min_data_in_leaf': 620}. Best is trial 19 with value: 0.7475782744060069.\u001b[0m\n",
      "0it [00:00, ?it/s]"
     ]
    },
    {
     "name": "stdout",
     "output_type": "stream",
     "text": [
      "[LightGBM] [Warning] min_data_in_leaf is set=319, min_child_samples=20 will be ignored. Current value: min_data_in_leaf=319\n",
      "Training until validation scores don't improve for 400 rounds\n",
      "Early stopping, best iteration is:\n",
      "[1990]\tvalid_0's auc: 0.747597\n"
     ]
    },
    {
     "name": "stderr",
     "output_type": "stream",
     "text": [
      "1it [00:15, 15.02s/it]"
     ]
    },
    {
     "name": "stdout",
     "output_type": "stream",
     "text": [
      "[LightGBM] [Warning] min_data_in_leaf is set=319, min_child_samples=20 will be ignored. Current value: min_data_in_leaf=319\n",
      "Training until validation scores don't improve for 400 rounds\n",
      "Early stopping, best iteration is:\n",
      "[1334]\tvalid_0's auc: 0.744369\n"
     ]
    },
    {
     "name": "stderr",
     "output_type": "stream",
     "text": [
      "2it [00:26, 13.09s/it]"
     ]
    },
    {
     "name": "stdout",
     "output_type": "stream",
     "text": [
      "[LightGBM] [Warning] min_data_in_leaf is set=319, min_child_samples=20 will be ignored. Current value: min_data_in_leaf=319\n",
      "Training until validation scores don't improve for 400 rounds\n",
      "Early stopping, best iteration is:\n",
      "[1673]\tvalid_0's auc: 0.747179\n"
     ]
    },
    {
     "name": "stderr",
     "output_type": "stream",
     "text": [
      "3it [00:39, 13.13s/it]"
     ]
    },
    {
     "name": "stdout",
     "output_type": "stream",
     "text": [
      "[LightGBM] [Warning] min_data_in_leaf is set=319, min_child_samples=20 will be ignored. Current value: min_data_in_leaf=319\n",
      "Training until validation scores don't improve for 400 rounds\n",
      "Early stopping, best iteration is:\n",
      "[1767]\tvalid_0's auc: 0.742534\n"
     ]
    },
    {
     "name": "stderr",
     "output_type": "stream",
     "text": [
      "4it [00:53, 13.28s/it]"
     ]
    },
    {
     "name": "stdout",
     "output_type": "stream",
     "text": [
      "[LightGBM] [Warning] min_data_in_leaf is set=319, min_child_samples=20 will be ignored. Current value: min_data_in_leaf=319\n",
      "Training until validation scores don't improve for 400 rounds\n",
      "Early stopping, best iteration is:\n",
      "[1757]\tvalid_0's auc: 0.747409\n"
     ]
    },
    {
     "name": "stderr",
     "output_type": "stream",
     "text": [
      "5it [01:07, 13.41s/it]"
     ]
    },
    {
     "name": "stdout",
     "output_type": "stream",
     "text": [
      "[LightGBM] [Warning] min_data_in_leaf is set=319, min_child_samples=20 will be ignored. Current value: min_data_in_leaf=319\n",
      "Training until validation scores don't improve for 400 rounds\n",
      "Early stopping, best iteration is:\n",
      "[1570]\tvalid_0's auc: 0.74373\n"
     ]
    },
    {
     "name": "stderr",
     "output_type": "stream",
     "text": [
      "6it [01:19, 13.19s/it]"
     ]
    },
    {
     "name": "stdout",
     "output_type": "stream",
     "text": [
      "[LightGBM] [Warning] min_data_in_leaf is set=319, min_child_samples=20 will be ignored. Current value: min_data_in_leaf=319\n",
      "Training until validation scores don't improve for 400 rounds\n",
      "Early stopping, best iteration is:\n",
      "[2432]\tvalid_0's auc: 0.749181\n"
     ]
    },
    {
     "name": "stderr",
     "output_type": "stream",
     "text": [
      "7it [01:36, 14.42s/it]"
     ]
    },
    {
     "name": "stdout",
     "output_type": "stream",
     "text": [
      "[LightGBM] [Warning] min_data_in_leaf is set=319, min_child_samples=20 will be ignored. Current value: min_data_in_leaf=319\n",
      "Training until validation scores don't improve for 400 rounds\n",
      "Early stopping, best iteration is:\n",
      "[1419]\tvalid_0's auc: 0.74233\n"
     ]
    },
    {
     "name": "stderr",
     "output_type": "stream",
     "text": [
      "8it [01:48, 13.70s/it]"
     ]
    },
    {
     "name": "stdout",
     "output_type": "stream",
     "text": [
      "[LightGBM] [Warning] min_data_in_leaf is set=319, min_child_samples=20 will be ignored. Current value: min_data_in_leaf=319\n",
      "Training until validation scores don't improve for 400 rounds\n",
      "Early stopping, best iteration is:\n",
      "[2390]\tvalid_0's auc: 0.74495\n"
     ]
    },
    {
     "name": "stderr",
     "output_type": "stream",
     "text": [
      "9it [02:05, 14.68s/it]"
     ]
    },
    {
     "name": "stdout",
     "output_type": "stream",
     "text": [
      "[LightGBM] [Warning] min_data_in_leaf is set=319, min_child_samples=20 will be ignored. Current value: min_data_in_leaf=319\n",
      "Training until validation scores don't improve for 400 rounds\n",
      "Early stopping, best iteration is:\n",
      "[1177]\tvalid_0's auc: 0.745655\n"
     ]
    },
    {
     "name": "stderr",
     "output_type": "stream",
     "text": [
      "10it [02:16, 13.68s/it]\n",
      "\u001b[32m[I 2021-11-03 10:21:09,688]\u001b[0m Trial 22 finished with value: 0.7454933777697997 and parameters: {'learning_rate': 0.2209608896718423, 'n_estimators': 8565, 'max_depth': 10, 'num_leaves': 3, 'reg_alpha': 1.921729248123329, 'reg_lambda': 2.377750206949295, 'min_data_in_leaf': 319}. Best is trial 19 with value: 0.7475782744060069.\u001b[0m\n",
      "0it [00:00, ?it/s]"
     ]
    },
    {
     "name": "stdout",
     "output_type": "stream",
     "text": [
      "[LightGBM] [Warning] min_data_in_leaf is set=438, min_child_samples=20 will be ignored. Current value: min_data_in_leaf=438\n",
      "Training until validation scores don't improve for 400 rounds\n",
      "Early stopping, best iteration is:\n",
      "[1194]\tvalid_0's auc: 0.739888\n"
     ]
    },
    {
     "name": "stderr",
     "output_type": "stream",
     "text": [
      "1it [00:16, 16.53s/it]"
     ]
    },
    {
     "name": "stdout",
     "output_type": "stream",
     "text": [
      "[LightGBM] [Warning] min_data_in_leaf is set=438, min_child_samples=20 will be ignored. Current value: min_data_in_leaf=438\n",
      "Training until validation scores don't improve for 400 rounds\n",
      "Early stopping, best iteration is:\n",
      "[1107]\tvalid_0's auc: 0.746673\n"
     ]
    },
    {
     "name": "stderr",
     "output_type": "stream",
     "text": [
      "2it [00:31, 15.89s/it]"
     ]
    },
    {
     "name": "stdout",
     "output_type": "stream",
     "text": [
      "[LightGBM] [Warning] min_data_in_leaf is set=438, min_child_samples=20 will be ignored. Current value: min_data_in_leaf=438\n",
      "Training until validation scores don't improve for 400 rounds\n",
      "Early stopping, best iteration is:\n",
      "[878]\tvalid_0's auc: 0.748171\n"
     ]
    },
    {
     "name": "stderr",
     "output_type": "stream",
     "text": [
      "3it [00:45, 15.03s/it]"
     ]
    },
    {
     "name": "stdout",
     "output_type": "stream",
     "text": [
      "[LightGBM] [Warning] min_data_in_leaf is set=438, min_child_samples=20 will be ignored. Current value: min_data_in_leaf=438\n",
      "Training until validation scores don't improve for 400 rounds\n",
      "Early stopping, best iteration is:\n",
      "[1137]\tvalid_0's auc: 0.744839\n"
     ]
    },
    {
     "name": "stderr",
     "output_type": "stream",
     "text": [
      "4it [01:02, 15.48s/it]"
     ]
    },
    {
     "name": "stdout",
     "output_type": "stream",
     "text": [
      "[LightGBM] [Warning] min_data_in_leaf is set=438, min_child_samples=20 will be ignored. Current value: min_data_in_leaf=438\n",
      "Training until validation scores don't improve for 400 rounds\n",
      "Early stopping, best iteration is:\n",
      "[807]\tvalid_0's auc: 0.743813\n"
     ]
    },
    {
     "name": "stderr",
     "output_type": "stream",
     "text": [
      "5it [01:15, 14.68s/it]"
     ]
    },
    {
     "name": "stdout",
     "output_type": "stream",
     "text": [
      "[LightGBM] [Warning] min_data_in_leaf is set=438, min_child_samples=20 will be ignored. Current value: min_data_in_leaf=438\n",
      "Training until validation scores don't improve for 400 rounds\n",
      "Early stopping, best iteration is:\n",
      "[747]\tvalid_0's auc: 0.744187\n"
     ]
    },
    {
     "name": "stderr",
     "output_type": "stream",
     "text": [
      "6it [01:28, 14.09s/it]"
     ]
    },
    {
     "name": "stdout",
     "output_type": "stream",
     "text": [
      "[LightGBM] [Warning] min_data_in_leaf is set=438, min_child_samples=20 will be ignored. Current value: min_data_in_leaf=438\n",
      "Training until validation scores don't improve for 400 rounds\n",
      "Early stopping, best iteration is:\n",
      "[875]\tvalid_0's auc: 0.746342\n"
     ]
    },
    {
     "name": "stderr",
     "output_type": "stream",
     "text": [
      "7it [01:42, 14.21s/it]"
     ]
    },
    {
     "name": "stdout",
     "output_type": "stream",
     "text": [
      "[LightGBM] [Warning] min_data_in_leaf is set=438, min_child_samples=20 will be ignored. Current value: min_data_in_leaf=438\n",
      "Training until validation scores don't improve for 400 rounds\n",
      "Early stopping, best iteration is:\n",
      "[827]\tvalid_0's auc: 0.744337\n"
     ]
    },
    {
     "name": "stderr",
     "output_type": "stream",
     "text": [
      "8it [01:55, 13.87s/it]"
     ]
    },
    {
     "name": "stdout",
     "output_type": "stream",
     "text": [
      "[LightGBM] [Warning] min_data_in_leaf is set=438, min_child_samples=20 will be ignored. Current value: min_data_in_leaf=438\n",
      "Training until validation scores don't improve for 400 rounds\n",
      "Early stopping, best iteration is:\n",
      "[1235]\tvalid_0's auc: 0.743356\n"
     ]
    },
    {
     "name": "stderr",
     "output_type": "stream",
     "text": [
      "9it [02:12, 14.78s/it]"
     ]
    },
    {
     "name": "stdout",
     "output_type": "stream",
     "text": [
      "[LightGBM] [Warning] min_data_in_leaf is set=438, min_child_samples=20 will be ignored. Current value: min_data_in_leaf=438\n",
      "Training until validation scores don't improve for 400 rounds\n",
      "Early stopping, best iteration is:\n",
      "[786]\tvalid_0's auc: 0.745718\n"
     ]
    },
    {
     "name": "stderr",
     "output_type": "stream",
     "text": [
      "10it [02:25, 14.56s/it]\n",
      "\u001b[32m[I 2021-11-03 10:23:35,396]\u001b[0m Trial 23 finished with value: 0.744732442526354 and parameters: {'learning_rate': 0.09763428766658783, 'n_estimators': 7979, 'max_depth': 9, 'num_leaves': 12, 'reg_alpha': 7.229882292105037, 'reg_lambda': 3.8329734962759185, 'min_data_in_leaf': 438}. Best is trial 19 with value: 0.7475782744060069.\u001b[0m\n",
      "0it [00:00, ?it/s]"
     ]
    },
    {
     "name": "stdout",
     "output_type": "stream",
     "text": [
      "[LightGBM] [Warning] min_data_in_leaf is set=878, min_child_samples=20 will be ignored. Current value: min_data_in_leaf=878\n",
      "Training until validation scores don't improve for 400 rounds\n",
      "Early stopping, best iteration is:\n",
      "[483]\tvalid_0's auc: 0.741895\n"
     ]
    },
    {
     "name": "stderr",
     "output_type": "stream",
     "text": [
      "1it [00:13, 13.24s/it]"
     ]
    },
    {
     "name": "stdout",
     "output_type": "stream",
     "text": [
      "[LightGBM] [Warning] min_data_in_leaf is set=878, min_child_samples=20 will be ignored. Current value: min_data_in_leaf=878\n",
      "Training until validation scores don't improve for 400 rounds\n",
      "Early stopping, best iteration is:\n",
      "[431]\tvalid_0's auc: 0.74165\n"
     ]
    },
    {
     "name": "stderr",
     "output_type": "stream",
     "text": [
      "2it [00:26, 13.04s/it]"
     ]
    },
    {
     "name": "stdout",
     "output_type": "stream",
     "text": [
      "[LightGBM] [Warning] min_data_in_leaf is set=878, min_child_samples=20 will be ignored. Current value: min_data_in_leaf=878\n",
      "Training until validation scores don't improve for 400 rounds\n",
      "Early stopping, best iteration is:\n",
      "[355]\tvalid_0's auc: 0.740965\n"
     ]
    },
    {
     "name": "stderr",
     "output_type": "stream",
     "text": [
      "3it [00:37, 12.50s/it]"
     ]
    },
    {
     "name": "stdout",
     "output_type": "stream",
     "text": [
      "[LightGBM] [Warning] min_data_in_leaf is set=878, min_child_samples=20 will be ignored. Current value: min_data_in_leaf=878\n",
      "Training until validation scores don't improve for 400 rounds\n",
      "Early stopping, best iteration is:\n",
      "[369]\tvalid_0's auc: 0.740764\n"
     ]
    },
    {
     "name": "stderr",
     "output_type": "stream",
     "text": [
      "4it [00:49, 12.29s/it]"
     ]
    },
    {
     "name": "stdout",
     "output_type": "stream",
     "text": [
      "[LightGBM] [Warning] min_data_in_leaf is set=878, min_child_samples=20 will be ignored. Current value: min_data_in_leaf=878\n",
      "Training until validation scores don't improve for 400 rounds\n",
      "Early stopping, best iteration is:\n",
      "[517]\tvalid_0's auc: 0.743855\n"
     ]
    },
    {
     "name": "stderr",
     "output_type": "stream",
     "text": [
      "5it [01:03, 12.80s/it]"
     ]
    },
    {
     "name": "stdout",
     "output_type": "stream",
     "text": [
      "[LightGBM] [Warning] min_data_in_leaf is set=878, min_child_samples=20 will be ignored. Current value: min_data_in_leaf=878\n",
      "Training until validation scores don't improve for 400 rounds\n",
      "Early stopping, best iteration is:\n",
      "[478]\tvalid_0's auc: 0.744131\n"
     ]
    },
    {
     "name": "stderr",
     "output_type": "stream",
     "text": [
      "6it [01:16, 12.81s/it]"
     ]
    },
    {
     "name": "stdout",
     "output_type": "stream",
     "text": [
      "[LightGBM] [Warning] min_data_in_leaf is set=878, min_child_samples=20 will be ignored. Current value: min_data_in_leaf=878\n",
      "Training until validation scores don't improve for 400 rounds\n",
      "Early stopping, best iteration is:\n",
      "[420]\tvalid_0's auc: 0.744096\n"
     ]
    },
    {
     "name": "stderr",
     "output_type": "stream",
     "text": [
      "7it [01:29, 12.80s/it]"
     ]
    },
    {
     "name": "stdout",
     "output_type": "stream",
     "text": [
      "[LightGBM] [Warning] min_data_in_leaf is set=878, min_child_samples=20 will be ignored. Current value: min_data_in_leaf=878\n",
      "Training until validation scores don't improve for 400 rounds\n",
      "Early stopping, best iteration is:\n",
      "[507]\tvalid_0's auc: 0.744806\n"
     ]
    },
    {
     "name": "stderr",
     "output_type": "stream",
     "text": [
      "8it [01:42, 13.08s/it]"
     ]
    },
    {
     "name": "stdout",
     "output_type": "stream",
     "text": [
      "[LightGBM] [Warning] min_data_in_leaf is set=878, min_child_samples=20 will be ignored. Current value: min_data_in_leaf=878\n",
      "Training until validation scores don't improve for 400 rounds\n",
      "Early stopping, best iteration is:\n",
      "[365]\tvalid_0's auc: 0.748303\n"
     ]
    },
    {
     "name": "stderr",
     "output_type": "stream",
     "text": [
      "9it [01:55, 12.79s/it]"
     ]
    },
    {
     "name": "stdout",
     "output_type": "stream",
     "text": [
      "[LightGBM] [Warning] min_data_in_leaf is set=878, min_child_samples=20 will be ignored. Current value: min_data_in_leaf=878\n",
      "Training until validation scores don't improve for 400 rounds\n",
      "Early stopping, best iteration is:\n",
      "[506]\tvalid_0's auc: 0.737946\n"
     ]
    },
    {
     "name": "stderr",
     "output_type": "stream",
     "text": [
      "10it [02:08, 12.86s/it]\n",
      "\u001b[32m[I 2021-11-03 10:25:44,147]\u001b[0m Trial 24 finished with value: 0.7428411085349446 and parameters: {'learning_rate': 0.11827578611478802, 'n_estimators': 6702, 'max_depth': 10, 'num_leaves': 23, 'reg_alpha': 3.489830428491836, 'reg_lambda': 5.860831492169038, 'min_data_in_leaf': 878}. Best is trial 19 with value: 0.7475782744060069.\u001b[0m\n",
      "0it [00:00, ?it/s]"
     ]
    },
    {
     "name": "stdout",
     "output_type": "stream",
     "text": [
      "[LightGBM] [Warning] min_data_in_leaf is set=644, min_child_samples=20 will be ignored. Current value: min_data_in_leaf=644\n",
      "Training until validation scores don't improve for 400 rounds\n",
      "Early stopping, best iteration is:\n",
      "[265]\tvalid_0's auc: 0.740083\n"
     ]
    },
    {
     "name": "stderr",
     "output_type": "stream",
     "text": [
      "1it [00:07,  7.45s/it]"
     ]
    },
    {
     "name": "stdout",
     "output_type": "stream",
     "text": [
      "[LightGBM] [Warning] min_data_in_leaf is set=644, min_child_samples=20 will be ignored. Current value: min_data_in_leaf=644\n",
      "Training until validation scores don't improve for 400 rounds\n",
      "Early stopping, best iteration is:\n",
      "[248]\tvalid_0's auc: 0.740641\n"
     ]
    },
    {
     "name": "stderr",
     "output_type": "stream",
     "text": [
      "2it [00:15,  7.59s/it]"
     ]
    },
    {
     "name": "stdout",
     "output_type": "stream",
     "text": [
      "[LightGBM] [Warning] min_data_in_leaf is set=644, min_child_samples=20 will be ignored. Current value: min_data_in_leaf=644\n",
      "Training until validation scores don't improve for 400 rounds\n",
      "Early stopping, best iteration is:\n",
      "[269]\tvalid_0's auc: 0.741487\n"
     ]
    },
    {
     "name": "stderr",
     "output_type": "stream",
     "text": [
      "3it [00:22,  7.64s/it]"
     ]
    },
    {
     "name": "stdout",
     "output_type": "stream",
     "text": [
      "[LightGBM] [Warning] min_data_in_leaf is set=644, min_child_samples=20 will be ignored. Current value: min_data_in_leaf=644\n",
      "Training until validation scores don't improve for 400 rounds\n",
      "Early stopping, best iteration is:\n",
      "[261]\tvalid_0's auc: 0.740052\n"
     ]
    },
    {
     "name": "stderr",
     "output_type": "stream",
     "text": [
      "4it [00:30,  7.57s/it]"
     ]
    },
    {
     "name": "stdout",
     "output_type": "stream",
     "text": [
      "[LightGBM] [Warning] min_data_in_leaf is set=644, min_child_samples=20 will be ignored. Current value: min_data_in_leaf=644\n",
      "Training until validation scores don't improve for 400 rounds\n",
      "Early stopping, best iteration is:\n",
      "[310]\tvalid_0's auc: 0.740322\n"
     ]
    },
    {
     "name": "stderr",
     "output_type": "stream",
     "text": [
      "5it [00:38,  7.66s/it]"
     ]
    },
    {
     "name": "stdout",
     "output_type": "stream",
     "text": [
      "[LightGBM] [Warning] min_data_in_leaf is set=644, min_child_samples=20 will be ignored. Current value: min_data_in_leaf=644\n",
      "Training until validation scores don't improve for 400 rounds\n",
      "Early stopping, best iteration is:\n",
      "[281]\tvalid_0's auc: 0.738681\n"
     ]
    },
    {
     "name": "stderr",
     "output_type": "stream",
     "text": [
      "6it [00:46,  7.77s/it]"
     ]
    },
    {
     "name": "stdout",
     "output_type": "stream",
     "text": [
      "[LightGBM] [Warning] min_data_in_leaf is set=644, min_child_samples=20 will be ignored. Current value: min_data_in_leaf=644\n",
      "Training until validation scores don't improve for 400 rounds\n",
      "Early stopping, best iteration is:\n",
      "[401]\tvalid_0's auc: 0.741131\n"
     ]
    },
    {
     "name": "stderr",
     "output_type": "stream",
     "text": [
      "7it [00:54,  8.10s/it]"
     ]
    },
    {
     "name": "stdout",
     "output_type": "stream",
     "text": [
      "[LightGBM] [Warning] min_data_in_leaf is set=644, min_child_samples=20 will be ignored. Current value: min_data_in_leaf=644\n",
      "Training until validation scores don't improve for 400 rounds\n",
      "Early stopping, best iteration is:\n",
      "[244]\tvalid_0's auc: 0.741212\n"
     ]
    },
    {
     "name": "stderr",
     "output_type": "stream",
     "text": [
      "8it [01:02,  7.84s/it]"
     ]
    },
    {
     "name": "stdout",
     "output_type": "stream",
     "text": [
      "[LightGBM] [Warning] min_data_in_leaf is set=644, min_child_samples=20 will be ignored. Current value: min_data_in_leaf=644\n",
      "Training until validation scores don't improve for 400 rounds\n",
      "Early stopping, best iteration is:\n",
      "[306]\tvalid_0's auc: 0.740223\n"
     ]
    },
    {
     "name": "stderr",
     "output_type": "stream",
     "text": [
      "9it [01:10,  7.87s/it]"
     ]
    },
    {
     "name": "stdout",
     "output_type": "stream",
     "text": [
      "[LightGBM] [Warning] min_data_in_leaf is set=644, min_child_samples=20 will be ignored. Current value: min_data_in_leaf=644\n",
      "Training until validation scores don't improve for 400 rounds\n",
      "Early stopping, best iteration is:\n",
      "[271]\tvalid_0's auc: 0.738556\n"
     ]
    },
    {
     "name": "stderr",
     "output_type": "stream",
     "text": [
      "10it [01:17,  7.80s/it]\n",
      "\u001b[32m[I 2021-11-03 10:27:02,300]\u001b[0m Trial 25 finished with value: 0.7402386055636999 and parameters: {'learning_rate': 0.2650176575593497, 'n_estimators': 5655, 'max_depth': 8, 'num_leaves': 10, 'reg_alpha': 5.363254494827052, 'reg_lambda': 4.8350957482887145, 'min_data_in_leaf': 644}. Best is trial 19 with value: 0.7475782744060069.\u001b[0m\n",
      "0it [00:00, ?it/s]"
     ]
    },
    {
     "name": "stdout",
     "output_type": "stream",
     "text": [
      "[LightGBM] [Warning] min_data_in_leaf is set=507, min_child_samples=20 will be ignored. Current value: min_data_in_leaf=507\n",
      "Training until validation scores don't improve for 400 rounds\n"
     ]
    },
    {
     "name": "stderr",
     "output_type": "stream",
     "text": [
      "1it [00:10, 10.78s/it]"
     ]
    },
    {
     "name": "stdout",
     "output_type": "stream",
     "text": [
      "Early stopping, best iteration is:\n",
      "[55]\tvalid_0's auc: 0.72757\n",
      "[LightGBM] [Warning] min_data_in_leaf is set=507, min_child_samples=20 will be ignored. Current value: min_data_in_leaf=507\n",
      "Training until validation scores don't improve for 400 rounds\n"
     ]
    },
    {
     "name": "stderr",
     "output_type": "stream",
     "text": [
      "2it [00:21, 10.69s/it]"
     ]
    },
    {
     "name": "stdout",
     "output_type": "stream",
     "text": [
      "Early stopping, best iteration is:\n",
      "[63]\tvalid_0's auc: 0.72877\n",
      "[LightGBM] [Warning] min_data_in_leaf is set=507, min_child_samples=20 will be ignored. Current value: min_data_in_leaf=507\n",
      "Training until validation scores don't improve for 400 rounds\n"
     ]
    },
    {
     "name": "stderr",
     "output_type": "stream",
     "text": [
      "3it [00:31, 10.60s/it]"
     ]
    },
    {
     "name": "stdout",
     "output_type": "stream",
     "text": [
      "Early stopping, best iteration is:\n",
      "[54]\tvalid_0's auc: 0.726674\n",
      "[LightGBM] [Warning] min_data_in_leaf is set=507, min_child_samples=20 will be ignored. Current value: min_data_in_leaf=507\n",
      "Training until validation scores don't improve for 400 rounds\n"
     ]
    },
    {
     "name": "stderr",
     "output_type": "stream",
     "text": [
      "4it [00:41, 10.36s/it]"
     ]
    },
    {
     "name": "stdout",
     "output_type": "stream",
     "text": [
      "Early stopping, best iteration is:\n",
      "[58]\tvalid_0's auc: 0.725474\n",
      "[LightGBM] [Warning] min_data_in_leaf is set=507, min_child_samples=20 will be ignored. Current value: min_data_in_leaf=507\n",
      "Training until validation scores don't improve for 400 rounds\n"
     ]
    },
    {
     "name": "stderr",
     "output_type": "stream",
     "text": [
      "5it [00:52, 10.34s/it]"
     ]
    },
    {
     "name": "stdout",
     "output_type": "stream",
     "text": [
      "Early stopping, best iteration is:\n",
      "[57]\tvalid_0's auc: 0.726621\n",
      "[LightGBM] [Warning] min_data_in_leaf is set=507, min_child_samples=20 will be ignored. Current value: min_data_in_leaf=507\n",
      "Training until validation scores don't improve for 400 rounds\n"
     ]
    },
    {
     "name": "stderr",
     "output_type": "stream",
     "text": [
      "6it [01:02, 10.40s/it]"
     ]
    },
    {
     "name": "stdout",
     "output_type": "stream",
     "text": [
      "Early stopping, best iteration is:\n",
      "[60]\tvalid_0's auc: 0.729522\n",
      "[LightGBM] [Warning] min_data_in_leaf is set=507, min_child_samples=20 will be ignored. Current value: min_data_in_leaf=507\n",
      "Training until validation scores don't improve for 400 rounds\n"
     ]
    },
    {
     "name": "stderr",
     "output_type": "stream",
     "text": [
      "7it [01:12, 10.30s/it]"
     ]
    },
    {
     "name": "stdout",
     "output_type": "stream",
     "text": [
      "Early stopping, best iteration is:\n",
      "[68]\tvalid_0's auc: 0.724479\n",
      "[LightGBM] [Warning] min_data_in_leaf is set=507, min_child_samples=20 will be ignored. Current value: min_data_in_leaf=507\n",
      "Training until validation scores don't improve for 400 rounds\n"
     ]
    },
    {
     "name": "stderr",
     "output_type": "stream",
     "text": [
      "8it [01:23, 10.34s/it]"
     ]
    },
    {
     "name": "stdout",
     "output_type": "stream",
     "text": [
      "Early stopping, best iteration is:\n",
      "[52]\tvalid_0's auc: 0.729519\n",
      "[LightGBM] [Warning] min_data_in_leaf is set=507, min_child_samples=20 will be ignored. Current value: min_data_in_leaf=507\n",
      "Training until validation scores don't improve for 400 rounds\n"
     ]
    },
    {
     "name": "stderr",
     "output_type": "stream",
     "text": [
      "9it [01:33, 10.39s/it]"
     ]
    },
    {
     "name": "stdout",
     "output_type": "stream",
     "text": [
      "Early stopping, best iteration is:\n",
      "[57]\tvalid_0's auc: 0.726945\n",
      "[LightGBM] [Warning] min_data_in_leaf is set=507, min_child_samples=20 will be ignored. Current value: min_data_in_leaf=507\n",
      "Training until validation scores don't improve for 400 rounds\n"
     ]
    },
    {
     "name": "stderr",
     "output_type": "stream",
     "text": [
      "10it [01:44, 10.43s/it]\n",
      "\u001b[32m[I 2021-11-03 10:28:46,708]\u001b[0m Trial 26 finished with value: 0.7272824896781117 and parameters: {'learning_rate': 0.44798926195262667, 'n_estimators': 9223, 'max_depth': 9, 'num_leaves': 45, 'reg_alpha': 2.1881115177410466, 'reg_lambda': 6.437283974841588, 'min_data_in_leaf': 507}. Best is trial 19 with value: 0.7475782744060069.\u001b[0m\n"
     ]
    },
    {
     "name": "stdout",
     "output_type": "stream",
     "text": [
      "Early stopping, best iteration is:\n",
      "[65]\tvalid_0's auc: 0.72725\n"
     ]
    },
    {
     "name": "stderr",
     "output_type": "stream",
     "text": [
      "0it [00:00, ?it/s]"
     ]
    },
    {
     "name": "stdout",
     "output_type": "stream",
     "text": [
      "[LightGBM] [Warning] min_data_in_leaf is set=298, min_child_samples=20 will be ignored. Current value: min_data_in_leaf=298\n",
      "Training until validation scores don't improve for 400 rounds\n",
      "Early stopping, best iteration is:\n",
      "[257]\tvalid_0's auc: 0.738814\n"
     ]
    },
    {
     "name": "stderr",
     "output_type": "stream",
     "text": [
      "1it [00:11, 11.06s/it]"
     ]
    },
    {
     "name": "stdout",
     "output_type": "stream",
     "text": [
      "[LightGBM] [Warning] min_data_in_leaf is set=298, min_child_samples=20 will be ignored. Current value: min_data_in_leaf=298\n",
      "Training until validation scores don't improve for 400 rounds\n",
      "Early stopping, best iteration is:\n",
      "[212]\tvalid_0's auc: 0.735642\n"
     ]
    },
    {
     "name": "stderr",
     "output_type": "stream",
     "text": [
      "2it [00:22, 11.04s/it]"
     ]
    },
    {
     "name": "stdout",
     "output_type": "stream",
     "text": [
      "[LightGBM] [Warning] min_data_in_leaf is set=298, min_child_samples=20 will be ignored. Current value: min_data_in_leaf=298\n",
      "Training until validation scores don't improve for 400 rounds\n",
      "Early stopping, best iteration is:\n",
      "[247]\tvalid_0's auc: 0.739885\n"
     ]
    },
    {
     "name": "stderr",
     "output_type": "stream",
     "text": [
      "3it [00:33, 11.18s/it]"
     ]
    },
    {
     "name": "stdout",
     "output_type": "stream",
     "text": [
      "[LightGBM] [Warning] min_data_in_leaf is set=298, min_child_samples=20 will be ignored. Current value: min_data_in_leaf=298\n",
      "Training until validation scores don't improve for 400 rounds\n",
      "Early stopping, best iteration is:\n",
      "[232]\tvalid_0's auc: 0.740759\n"
     ]
    },
    {
     "name": "stderr",
     "output_type": "stream",
     "text": [
      "4it [00:44, 11.22s/it]"
     ]
    },
    {
     "name": "stdout",
     "output_type": "stream",
     "text": [
      "[LightGBM] [Warning] min_data_in_leaf is set=298, min_child_samples=20 will be ignored. Current value: min_data_in_leaf=298\n",
      "Training until validation scores don't improve for 400 rounds\n",
      "Early stopping, best iteration is:\n",
      "[212]\tvalid_0's auc: 0.740232\n"
     ]
    },
    {
     "name": "stderr",
     "output_type": "stream",
     "text": [
      "5it [00:55, 10.94s/it]"
     ]
    },
    {
     "name": "stdout",
     "output_type": "stream",
     "text": [
      "[LightGBM] [Warning] min_data_in_leaf is set=298, min_child_samples=20 will be ignored. Current value: min_data_in_leaf=298\n",
      "Training until validation scores don't improve for 400 rounds\n",
      "Early stopping, best iteration is:\n",
      "[249]\tvalid_0's auc: 0.738536\n"
     ]
    },
    {
     "name": "stderr",
     "output_type": "stream",
     "text": [
      "6it [01:06, 11.05s/it]"
     ]
    },
    {
     "name": "stdout",
     "output_type": "stream",
     "text": [
      "[LightGBM] [Warning] min_data_in_leaf is set=298, min_child_samples=20 will be ignored. Current value: min_data_in_leaf=298\n",
      "Training until validation scores don't improve for 400 rounds\n",
      "Early stopping, best iteration is:\n",
      "[188]\tvalid_0's auc: 0.744373\n"
     ]
    },
    {
     "name": "stderr",
     "output_type": "stream",
     "text": [
      "7it [01:16, 10.75s/it]"
     ]
    },
    {
     "name": "stdout",
     "output_type": "stream",
     "text": [
      "[LightGBM] [Warning] min_data_in_leaf is set=298, min_child_samples=20 will be ignored. Current value: min_data_in_leaf=298\n",
      "Training until validation scores don't improve for 400 rounds\n",
      "Early stopping, best iteration is:\n",
      "[190]\tvalid_0's auc: 0.737042\n"
     ]
    },
    {
     "name": "stderr",
     "output_type": "stream",
     "text": [
      "8it [01:26, 10.63s/it]"
     ]
    },
    {
     "name": "stdout",
     "output_type": "stream",
     "text": [
      "[LightGBM] [Warning] min_data_in_leaf is set=298, min_child_samples=20 will be ignored. Current value: min_data_in_leaf=298\n",
      "Training until validation scores don't improve for 400 rounds\n",
      "Early stopping, best iteration is:\n",
      "[211]\tvalid_0's auc: 0.741016\n"
     ]
    },
    {
     "name": "stderr",
     "output_type": "stream",
     "text": [
      "9it [01:37, 10.69s/it]"
     ]
    },
    {
     "name": "stdout",
     "output_type": "stream",
     "text": [
      "[LightGBM] [Warning] min_data_in_leaf is set=298, min_child_samples=20 will be ignored. Current value: min_data_in_leaf=298\n",
      "Training until validation scores don't improve for 400 rounds\n",
      "Early stopping, best iteration is:\n",
      "[236]\tvalid_0's auc: 0.73895\n"
     ]
    },
    {
     "name": "stderr",
     "output_type": "stream",
     "text": [
      "10it [01:48, 10.89s/it]\n",
      "\u001b[32m[I 2021-11-03 10:30:35,767]\u001b[0m Trial 27 finished with value: 0.739524845047277 and parameters: {'learning_rate': 0.18472002901439089, 'n_estimators': 4582, 'max_depth': 7, 'num_leaves': 31, 'reg_alpha': 3.6648190157446536, 'reg_lambda': 8.097240022325973, 'min_data_in_leaf': 298}. Best is trial 19 with value: 0.7475782744060069.\u001b[0m\n",
      "0it [00:00, ?it/s]"
     ]
    },
    {
     "name": "stdout",
     "output_type": "stream",
     "text": [
      "[LightGBM] [Warning] min_data_in_leaf is set=463, min_child_samples=20 will be ignored. Current value: min_data_in_leaf=463\n",
      "Training until validation scores don't improve for 400 rounds\n",
      "Did not meet early stopping. Best iteration is:\n",
      "[3394]\tvalid_0's auc: 0.746154\n"
     ]
    },
    {
     "name": "stderr",
     "output_type": "stream",
     "text": [
      "1it [00:20, 20.80s/it]"
     ]
    },
    {
     "name": "stdout",
     "output_type": "stream",
     "text": [
      "[LightGBM] [Warning] min_data_in_leaf is set=463, min_child_samples=20 will be ignored. Current value: min_data_in_leaf=463\n",
      "Training until validation scores don't improve for 400 rounds\n",
      "Did not meet early stopping. Best iteration is:\n",
      "[3393]\tvalid_0's auc: 0.742597\n"
     ]
    },
    {
     "name": "stderr",
     "output_type": "stream",
     "text": [
      "2it [00:41, 20.77s/it]"
     ]
    },
    {
     "name": "stdout",
     "output_type": "stream",
     "text": [
      "[LightGBM] [Warning] min_data_in_leaf is set=463, min_child_samples=20 will be ignored. Current value: min_data_in_leaf=463\n",
      "Training until validation scores don't improve for 400 rounds\n",
      "Did not meet early stopping. Best iteration is:\n",
      "[3394]\tvalid_0's auc: 0.745616\n"
     ]
    },
    {
     "name": "stderr",
     "output_type": "stream",
     "text": [
      "3it [01:02, 20.80s/it]"
     ]
    },
    {
     "name": "stdout",
     "output_type": "stream",
     "text": [
      "[LightGBM] [Warning] min_data_in_leaf is set=463, min_child_samples=20 will be ignored. Current value: min_data_in_leaf=463\n",
      "Training until validation scores don't improve for 400 rounds\n",
      "Did not meet early stopping. Best iteration is:\n",
      "[3394]\tvalid_0's auc: 0.743091\n"
     ]
    },
    {
     "name": "stderr",
     "output_type": "stream",
     "text": [
      "4it [01:23, 20.77s/it]"
     ]
    },
    {
     "name": "stdout",
     "output_type": "stream",
     "text": [
      "[LightGBM] [Warning] min_data_in_leaf is set=463, min_child_samples=20 will be ignored. Current value: min_data_in_leaf=463\n",
      "Training until validation scores don't improve for 400 rounds\n",
      "Did not meet early stopping. Best iteration is:\n",
      "[3394]\tvalid_0's auc: 0.748144\n"
     ]
    },
    {
     "name": "stderr",
     "output_type": "stream",
     "text": [
      "5it [01:43, 20.79s/it]"
     ]
    },
    {
     "name": "stdout",
     "output_type": "stream",
     "text": [
      "[LightGBM] [Warning] min_data_in_leaf is set=463, min_child_samples=20 will be ignored. Current value: min_data_in_leaf=463\n",
      "Training until validation scores don't improve for 400 rounds\n",
      "Did not meet early stopping. Best iteration is:\n",
      "[3393]\tvalid_0's auc: 0.745977\n"
     ]
    },
    {
     "name": "stderr",
     "output_type": "stream",
     "text": [
      "6it [02:04, 20.78s/it]"
     ]
    },
    {
     "name": "stdout",
     "output_type": "stream",
     "text": [
      "[LightGBM] [Warning] min_data_in_leaf is set=463, min_child_samples=20 will be ignored. Current value: min_data_in_leaf=463\n",
      "Training until validation scores don't improve for 400 rounds\n",
      "Did not meet early stopping. Best iteration is:\n",
      "[3394]\tvalid_0's auc: 0.74535\n"
     ]
    },
    {
     "name": "stderr",
     "output_type": "stream",
     "text": [
      "7it [02:25, 20.80s/it]"
     ]
    },
    {
     "name": "stdout",
     "output_type": "stream",
     "text": [
      "[LightGBM] [Warning] min_data_in_leaf is set=463, min_child_samples=20 will be ignored. Current value: min_data_in_leaf=463\n",
      "Training until validation scores don't improve for 400 rounds\n",
      "Did not meet early stopping. Best iteration is:\n",
      "[3393]\tvalid_0's auc: 0.743812\n"
     ]
    },
    {
     "name": "stderr",
     "output_type": "stream",
     "text": [
      "8it [02:46, 20.81s/it]"
     ]
    },
    {
     "name": "stdout",
     "output_type": "stream",
     "text": [
      "[LightGBM] [Warning] min_data_in_leaf is set=463, min_child_samples=20 will be ignored. Current value: min_data_in_leaf=463\n",
      "Training until validation scores don't improve for 400 rounds\n",
      "Did not meet early stopping. Best iteration is:\n",
      "[3394]\tvalid_0's auc: 0.743607\n"
     ]
    },
    {
     "name": "stderr",
     "output_type": "stream",
     "text": [
      "9it [03:07, 20.84s/it]"
     ]
    },
    {
     "name": "stdout",
     "output_type": "stream",
     "text": [
      "[LightGBM] [Warning] min_data_in_leaf is set=463, min_child_samples=20 will be ignored. Current value: min_data_in_leaf=463\n",
      "Training until validation scores don't improve for 400 rounds\n",
      "Did not meet early stopping. Best iteration is:\n",
      "[3394]\tvalid_0's auc: 0.743318\n"
     ]
    },
    {
     "name": "stderr",
     "output_type": "stream",
     "text": [
      "10it [03:28, 20.81s/it]\n",
      "\u001b[32m[I 2021-11-03 10:34:04,024]\u001b[0m Trial 28 finished with value: 0.7447665479269215 and parameters: {'learning_rate': 0.051943619039620775, 'n_estimators': 3394, 'max_depth': 5, 'num_leaves': 2, 'reg_alpha': 7.064171597885176, 'reg_lambda': 1.9746260096442176, 'min_data_in_leaf': 463}. Best is trial 19 with value: 0.7475782744060069.\u001b[0m\n",
      "0it [00:00, ?it/s]"
     ]
    },
    {
     "name": "stdout",
     "output_type": "stream",
     "text": [
      "[LightGBM] [Warning] min_data_in_leaf is set=925, min_child_samples=20 will be ignored. Current value: min_data_in_leaf=925\n",
      "Training until validation scores don't improve for 400 rounds\n"
     ]
    },
    {
     "name": "stderr",
     "output_type": "stream",
     "text": [
      "1it [00:07,  7.18s/it]"
     ]
    },
    {
     "name": "stdout",
     "output_type": "stream",
     "text": [
      "Early stopping, best iteration is:\n",
      "[61]\tvalid_0's auc: 0.726532\n",
      "[LightGBM] [Warning] min_data_in_leaf is set=925, min_child_samples=20 will be ignored. Current value: min_data_in_leaf=925\n",
      "Training until validation scores don't improve for 400 rounds\n"
     ]
    },
    {
     "name": "stderr",
     "output_type": "stream",
     "text": [
      "2it [00:14,  7.06s/it]"
     ]
    },
    {
     "name": "stdout",
     "output_type": "stream",
     "text": [
      "Early stopping, best iteration is:\n",
      "[58]\tvalid_0's auc: 0.724493\n",
      "[LightGBM] [Warning] min_data_in_leaf is set=925, min_child_samples=20 will be ignored. Current value: min_data_in_leaf=925\n",
      "Training until validation scores don't improve for 400 rounds\n"
     ]
    },
    {
     "name": "stderr",
     "output_type": "stream",
     "text": [
      "3it [00:20,  6.72s/it]"
     ]
    },
    {
     "name": "stdout",
     "output_type": "stream",
     "text": [
      "Early stopping, best iteration is:\n",
      "[63]\tvalid_0's auc: 0.727971\n",
      "[LightGBM] [Warning] min_data_in_leaf is set=925, min_child_samples=20 will be ignored. Current value: min_data_in_leaf=925\n",
      "Training until validation scores don't improve for 400 rounds\n"
     ]
    },
    {
     "name": "stderr",
     "output_type": "stream",
     "text": [
      "4it [00:27,  6.83s/it]"
     ]
    },
    {
     "name": "stdout",
     "output_type": "stream",
     "text": [
      "Early stopping, best iteration is:\n",
      "[57]\tvalid_0's auc: 0.722559\n",
      "[LightGBM] [Warning] min_data_in_leaf is set=925, min_child_samples=20 will be ignored. Current value: min_data_in_leaf=925\n",
      "Training until validation scores don't improve for 400 rounds\n"
     ]
    },
    {
     "name": "stderr",
     "output_type": "stream",
     "text": [
      "5it [00:34,  6.91s/it]"
     ]
    },
    {
     "name": "stdout",
     "output_type": "stream",
     "text": [
      "Early stopping, best iteration is:\n",
      "[63]\tvalid_0's auc: 0.724997\n",
      "[LightGBM] [Warning] min_data_in_leaf is set=925, min_child_samples=20 will be ignored. Current value: min_data_in_leaf=925\n",
      "Training until validation scores don't improve for 400 rounds\n"
     ]
    },
    {
     "name": "stderr",
     "output_type": "stream",
     "text": [
      "6it [00:40,  6.74s/it]"
     ]
    },
    {
     "name": "stdout",
     "output_type": "stream",
     "text": [
      "Early stopping, best iteration is:\n",
      "[64]\tvalid_0's auc: 0.723587\n",
      "[LightGBM] [Warning] min_data_in_leaf is set=925, min_child_samples=20 will be ignored. Current value: min_data_in_leaf=925\n",
      "Training until validation scores don't improve for 400 rounds\n"
     ]
    },
    {
     "name": "stderr",
     "output_type": "stream",
     "text": [
      "7it [00:48,  6.93s/it]"
     ]
    },
    {
     "name": "stdout",
     "output_type": "stream",
     "text": [
      "Early stopping, best iteration is:\n",
      "[79]\tvalid_0's auc: 0.726201\n",
      "[LightGBM] [Warning] min_data_in_leaf is set=925, min_child_samples=20 will be ignored. Current value: min_data_in_leaf=925\n",
      "Training until validation scores don't improve for 400 rounds\n"
     ]
    },
    {
     "name": "stderr",
     "output_type": "stream",
     "text": [
      "8it [00:55,  6.93s/it]"
     ]
    },
    {
     "name": "stdout",
     "output_type": "stream",
     "text": [
      "Early stopping, best iteration is:\n",
      "[61]\tvalid_0's auc: 0.725778\n",
      "[LightGBM] [Warning] min_data_in_leaf is set=925, min_child_samples=20 will be ignored. Current value: min_data_in_leaf=925\n",
      "Training until validation scores don't improve for 400 rounds\n"
     ]
    },
    {
     "name": "stderr",
     "output_type": "stream",
     "text": [
      "9it [01:02,  6.99s/it]"
     ]
    },
    {
     "name": "stdout",
     "output_type": "stream",
     "text": [
      "Early stopping, best iteration is:\n",
      "[60]\tvalid_0's auc: 0.725234\n",
      "[LightGBM] [Warning] min_data_in_leaf is set=925, min_child_samples=20 will be ignored. Current value: min_data_in_leaf=925\n",
      "Training until validation scores don't improve for 400 rounds\n"
     ]
    },
    {
     "name": "stderr",
     "output_type": "stream",
     "text": [
      "10it [01:09,  6.95s/it]\n",
      "\u001b[32m[I 2021-11-03 10:35:13,665]\u001b[0m Trial 29 finished with value: 0.724936439601086 and parameters: {'learning_rate': 0.7108985307139405, 'n_estimators': 9192, 'max_depth': 10, 'num_leaves': 18, 'reg_alpha': 0.13502706944506215, 'reg_lambda': 0.6186677847509672, 'min_data_in_leaf': 925}. Best is trial 19 with value: 0.7475782744060069.\u001b[0m\n"
     ]
    },
    {
     "name": "stdout",
     "output_type": "stream",
     "text": [
      "Early stopping, best iteration is:\n",
      "[82]\tvalid_0's auc: 0.722012\n"
     ]
    },
    {
     "name": "stderr",
     "output_type": "stream",
     "text": [
      "0it [00:00, ?it/s]"
     ]
    },
    {
     "name": "stdout",
     "output_type": "stream",
     "text": [
      "[LightGBM] [Warning] min_data_in_leaf is set=780, min_child_samples=20 will be ignored. Current value: min_data_in_leaf=780\n",
      "Training until validation scores don't improve for 400 rounds\n"
     ]
    },
    {
     "name": "stderr",
     "output_type": "stream",
     "text": [
      "1it [00:11, 11.23s/it]"
     ]
    },
    {
     "name": "stdout",
     "output_type": "stream",
     "text": [
      "Early stopping, best iteration is:\n",
      "[45]\tvalid_0's auc: 0.718043\n",
      "[LightGBM] [Warning] min_data_in_leaf is set=780, min_child_samples=20 will be ignored. Current value: min_data_in_leaf=780\n",
      "Training until validation scores don't improve for 400 rounds\n"
     ]
    },
    {
     "name": "stderr",
     "output_type": "stream",
     "text": [
      "2it [00:22, 11.35s/it]"
     ]
    },
    {
     "name": "stdout",
     "output_type": "stream",
     "text": [
      "Early stopping, best iteration is:\n",
      "[48]\tvalid_0's auc: 0.714099\n",
      "[LightGBM] [Warning] min_data_in_leaf is set=780, min_child_samples=20 will be ignored. Current value: min_data_in_leaf=780\n",
      "Training until validation scores don't improve for 400 rounds\n"
     ]
    },
    {
     "name": "stderr",
     "output_type": "stream",
     "text": [
      "3it [00:33, 11.27s/it]"
     ]
    },
    {
     "name": "stdout",
     "output_type": "stream",
     "text": [
      "Early stopping, best iteration is:\n",
      "[44]\tvalid_0's auc: 0.718075\n",
      "[LightGBM] [Warning] min_data_in_leaf is set=780, min_child_samples=20 will be ignored. Current value: min_data_in_leaf=780\n",
      "Training until validation scores don't improve for 400 rounds\n"
     ]
    },
    {
     "name": "stderr",
     "output_type": "stream",
     "text": [
      "4it [00:44, 11.20s/it]"
     ]
    },
    {
     "name": "stdout",
     "output_type": "stream",
     "text": [
      "Early stopping, best iteration is:\n",
      "[48]\tvalid_0's auc: 0.72133\n",
      "[LightGBM] [Warning] min_data_in_leaf is set=780, min_child_samples=20 will be ignored. Current value: min_data_in_leaf=780\n",
      "Training until validation scores don't improve for 400 rounds\n"
     ]
    },
    {
     "name": "stderr",
     "output_type": "stream",
     "text": [
      "5it [00:56, 11.30s/it]"
     ]
    },
    {
     "name": "stdout",
     "output_type": "stream",
     "text": [
      "Early stopping, best iteration is:\n",
      "[49]\tvalid_0's auc: 0.721322\n",
      "[LightGBM] [Warning] min_data_in_leaf is set=780, min_child_samples=20 will be ignored. Current value: min_data_in_leaf=780\n",
      "Training until validation scores don't improve for 400 rounds\n"
     ]
    },
    {
     "name": "stderr",
     "output_type": "stream",
     "text": [
      "6it [01:07, 11.34s/it]"
     ]
    },
    {
     "name": "stdout",
     "output_type": "stream",
     "text": [
      "Early stopping, best iteration is:\n",
      "[42]\tvalid_0's auc: 0.716014\n",
      "[LightGBM] [Warning] min_data_in_leaf is set=780, min_child_samples=20 will be ignored. Current value: min_data_in_leaf=780\n",
      "Training until validation scores don't improve for 400 rounds\n"
     ]
    },
    {
     "name": "stderr",
     "output_type": "stream",
     "text": [
      "7it [01:19, 11.29s/it]"
     ]
    },
    {
     "name": "stdout",
     "output_type": "stream",
     "text": [
      "Early stopping, best iteration is:\n",
      "[47]\tvalid_0's auc: 0.716557\n",
      "[LightGBM] [Warning] min_data_in_leaf is set=780, min_child_samples=20 will be ignored. Current value: min_data_in_leaf=780\n",
      "Training until validation scores don't improve for 400 rounds\n"
     ]
    },
    {
     "name": "stderr",
     "output_type": "stream",
     "text": [
      "8it [01:30, 11.40s/it]"
     ]
    },
    {
     "name": "stdout",
     "output_type": "stream",
     "text": [
      "Early stopping, best iteration is:\n",
      "[47]\tvalid_0's auc: 0.720156\n",
      "[LightGBM] [Warning] min_data_in_leaf is set=780, min_child_samples=20 will be ignored. Current value: min_data_in_leaf=780\n",
      "Training until validation scores don't improve for 400 rounds\n"
     ]
    },
    {
     "name": "stderr",
     "output_type": "stream",
     "text": [
      "9it [01:41, 11.37s/it]"
     ]
    },
    {
     "name": "stdout",
     "output_type": "stream",
     "text": [
      "Early stopping, best iteration is:\n",
      "[41]\tvalid_0's auc: 0.719078\n",
      "[LightGBM] [Warning] min_data_in_leaf is set=780, min_child_samples=20 will be ignored. Current value: min_data_in_leaf=780\n",
      "Training until validation scores don't improve for 400 rounds\n"
     ]
    },
    {
     "name": "stderr",
     "output_type": "stream",
     "text": [
      "10it [01:53, 11.34s/it]\n",
      "\u001b[32m[I 2021-11-03 10:37:07,190]\u001b[0m Trial 30 finished with value: 0.718292877322081 and parameters: {'learning_rate': 0.6149147959689063, 'n_estimators': 7633, 'max_depth': 8, 'num_leaves': 57, 'reg_alpha': 2.704584753328863, 'reg_lambda': 9.895775044845452, 'min_data_in_leaf': 780}. Best is trial 19 with value: 0.7475782744060069.\u001b[0m\n"
     ]
    },
    {
     "name": "stdout",
     "output_type": "stream",
     "text": [
      "Early stopping, best iteration is:\n",
      "[54]\tvalid_0's auc: 0.718255\n"
     ]
    },
    {
     "name": "stderr",
     "output_type": "stream",
     "text": [
      "0it [00:00, ?it/s]"
     ]
    },
    {
     "name": "stdout",
     "output_type": "stream",
     "text": [
      "[LightGBM] [Warning] min_data_in_leaf is set=985, min_child_samples=20 will be ignored. Current value: min_data_in_leaf=985\n",
      "Training until validation scores don't improve for 400 rounds\n",
      "Early stopping, best iteration is:\n",
      "[2716]\tvalid_0's auc: 0.747198\n"
     ]
    },
    {
     "name": "stderr",
     "output_type": "stream",
     "text": [
      "1it [00:19, 19.03s/it]"
     ]
    },
    {
     "name": "stdout",
     "output_type": "stream",
     "text": [
      "[LightGBM] [Warning] min_data_in_leaf is set=985, min_child_samples=20 will be ignored. Current value: min_data_in_leaf=985\n",
      "Training until validation scores don't improve for 400 rounds\n",
      "Early stopping, best iteration is:\n",
      "[3459]\tvalid_0's auc: 0.745707\n"
     ]
    },
    {
     "name": "stderr",
     "output_type": "stream",
     "text": [
      "2it [00:42, 21.48s/it]"
     ]
    },
    {
     "name": "stdout",
     "output_type": "stream",
     "text": [
      "[LightGBM] [Warning] min_data_in_leaf is set=985, min_child_samples=20 will be ignored. Current value: min_data_in_leaf=985\n",
      "Training until validation scores don't improve for 400 rounds\n",
      "Early stopping, best iteration is:\n",
      "[2142]\tvalid_0's auc: 0.745902\n"
     ]
    },
    {
     "name": "stderr",
     "output_type": "stream",
     "text": [
      "3it [00:58, 19.02s/it]"
     ]
    },
    {
     "name": "stdout",
     "output_type": "stream",
     "text": [
      "[LightGBM] [Warning] min_data_in_leaf is set=985, min_child_samples=20 will be ignored. Current value: min_data_in_leaf=985\n",
      "Training until validation scores don't improve for 400 rounds\n",
      "Early stopping, best iteration is:\n",
      "[3311]\tvalid_0's auc: 0.747912\n"
     ]
    },
    {
     "name": "stderr",
     "output_type": "stream",
     "text": [
      "4it [01:20, 20.34s/it]"
     ]
    },
    {
     "name": "stdout",
     "output_type": "stream",
     "text": [
      "[LightGBM] [Warning] min_data_in_leaf is set=985, min_child_samples=20 will be ignored. Current value: min_data_in_leaf=985\n",
      "Training until validation scores don't improve for 400 rounds\n",
      "Early stopping, best iteration is:\n",
      "[2801]\tvalid_0's auc: 0.747038\n"
     ]
    },
    {
     "name": "stderr",
     "output_type": "stream",
     "text": [
      "5it [01:40, 20.09s/it]"
     ]
    },
    {
     "name": "stdout",
     "output_type": "stream",
     "text": [
      "[LightGBM] [Warning] min_data_in_leaf is set=985, min_child_samples=20 will be ignored. Current value: min_data_in_leaf=985\n",
      "Training until validation scores don't improve for 400 rounds\n",
      "Early stopping, best iteration is:\n",
      "[2140]\tvalid_0's auc: 0.744164\n"
     ]
    },
    {
     "name": "stderr",
     "output_type": "stream",
     "text": [
      "6it [01:56, 18.70s/it]"
     ]
    },
    {
     "name": "stdout",
     "output_type": "stream",
     "text": [
      "[LightGBM] [Warning] min_data_in_leaf is set=985, min_child_samples=20 will be ignored. Current value: min_data_in_leaf=985\n",
      "Training until validation scores don't improve for 400 rounds\n",
      "Early stopping, best iteration is:\n",
      "[2788]\tvalid_0's auc: 0.746152\n"
     ]
    },
    {
     "name": "stderr",
     "output_type": "stream",
     "text": [
      "7it [02:15, 18.98s/it]"
     ]
    },
    {
     "name": "stdout",
     "output_type": "stream",
     "text": [
      "[LightGBM] [Warning] min_data_in_leaf is set=985, min_child_samples=20 will be ignored. Current value: min_data_in_leaf=985\n",
      "Training until validation scores don't improve for 400 rounds\n",
      "Early stopping, best iteration is:\n",
      "[3123]\tvalid_0's auc: 0.747382\n"
     ]
    },
    {
     "name": "stderr",
     "output_type": "stream",
     "text": [
      "8it [02:37, 19.79s/it]"
     ]
    },
    {
     "name": "stdout",
     "output_type": "stream",
     "text": [
      "[LightGBM] [Warning] min_data_in_leaf is set=985, min_child_samples=20 will be ignored. Current value: min_data_in_leaf=985\n",
      "Training until validation scores don't improve for 400 rounds\n",
      "Early stopping, best iteration is:\n",
      "[2824]\tvalid_0's auc: 0.744804\n"
     ]
    },
    {
     "name": "stderr",
     "output_type": "stream",
     "text": [
      "9it [02:57, 19.80s/it]"
     ]
    },
    {
     "name": "stdout",
     "output_type": "stream",
     "text": [
      "[LightGBM] [Warning] min_data_in_leaf is set=985, min_child_samples=20 will be ignored. Current value: min_data_in_leaf=985\n",
      "Training until validation scores don't improve for 400 rounds\n",
      "Early stopping, best iteration is:\n",
      "[2376]\tvalid_0's auc: 0.746157\n"
     ]
    },
    {
     "name": "stderr",
     "output_type": "stream",
     "text": [
      "10it [03:14, 19.46s/it]\n",
      "\u001b[32m[I 2021-11-03 10:40:21,916]\u001b[0m Trial 31 finished with value: 0.7462415935437425 and parameters: {'learning_rate': 0.39350837995569876, 'n_estimators': 9899, 'max_depth': 8, 'num_leaves': 2, 'reg_alpha': 4.446675221029179, 'reg_lambda': 3.298241550565457, 'min_data_in_leaf': 985}. Best is trial 19 with value: 0.7475782744060069.\u001b[0m\n",
      "0it [00:00, ?it/s]"
     ]
    },
    {
     "name": "stdout",
     "output_type": "stream",
     "text": [
      "[LightGBM] [Warning] min_data_in_leaf is set=997, min_child_samples=20 will be ignored. Current value: min_data_in_leaf=997\n",
      "Training until validation scores don't improve for 400 rounds\n"
     ]
    },
    {
     "name": "stderr",
     "output_type": "stream",
     "text": [
      "1it [00:06,  6.24s/it]"
     ]
    },
    {
     "name": "stdout",
     "output_type": "stream",
     "text": [
      "Early stopping, best iteration is:\n",
      "[201]\tvalid_0's auc: 0.740025\n",
      "[LightGBM] [Warning] min_data_in_leaf is set=997, min_child_samples=20 will be ignored. Current value: min_data_in_leaf=997\n",
      "Training until validation scores don't improve for 400 rounds\n"
     ]
    },
    {
     "name": "stderr",
     "output_type": "stream",
     "text": [
      "2it [00:13,  6.94s/it]"
     ]
    },
    {
     "name": "stdout",
     "output_type": "stream",
     "text": [
      "Early stopping, best iteration is:\n",
      "[256]\tvalid_0's auc: 0.739834\n",
      "[LightGBM] [Warning] min_data_in_leaf is set=997, min_child_samples=20 will be ignored. Current value: min_data_in_leaf=997\n",
      "Training until validation scores don't improve for 400 rounds\n",
      "Early stopping, best iteration is:\n",
      "[349]\tvalid_0's auc: 0.738797\n"
     ]
    },
    {
     "name": "stderr",
     "output_type": "stream",
     "text": [
      "3it [00:21,  7.41s/it]"
     ]
    },
    {
     "name": "stdout",
     "output_type": "stream",
     "text": [
      "[LightGBM] [Warning] min_data_in_leaf is set=997, min_child_samples=20 will be ignored. Current value: min_data_in_leaf=997\n",
      "Training until validation scores don't improve for 400 rounds\n"
     ]
    },
    {
     "name": "stderr",
     "output_type": "stream",
     "text": [
      "4it [00:28,  7.20s/it]"
     ]
    },
    {
     "name": "stdout",
     "output_type": "stream",
     "text": [
      "Early stopping, best iteration is:\n",
      "[213]\tvalid_0's auc: 0.737685\n",
      "[LightGBM] [Warning] min_data_in_leaf is set=997, min_child_samples=20 will be ignored. Current value: min_data_in_leaf=997\n",
      "Training until validation scores don't improve for 400 rounds\n"
     ]
    },
    {
     "name": "stderr",
     "output_type": "stream",
     "text": [
      "5it [00:34,  6.80s/it]"
     ]
    },
    {
     "name": "stdout",
     "output_type": "stream",
     "text": [
      "Early stopping, best iteration is:\n",
      "[184]\tvalid_0's auc: 0.73835\n",
      "[LightGBM] [Warning] min_data_in_leaf is set=997, min_child_samples=20 will be ignored. Current value: min_data_in_leaf=997\n",
      "Training until validation scores don't improve for 400 rounds\n"
     ]
    },
    {
     "name": "stderr",
     "output_type": "stream",
     "text": [
      "6it [00:41,  6.72s/it]"
     ]
    },
    {
     "name": "stdout",
     "output_type": "stream",
     "text": [
      "Early stopping, best iteration is:\n",
      "[179]\tvalid_0's auc: 0.740026\n",
      "[LightGBM] [Warning] min_data_in_leaf is set=997, min_child_samples=20 will be ignored. Current value: min_data_in_leaf=997\n",
      "Training until validation scores don't improve for 400 rounds\n"
     ]
    },
    {
     "name": "stderr",
     "output_type": "stream",
     "text": [
      "7it [00:48,  6.80s/it]"
     ]
    },
    {
     "name": "stdout",
     "output_type": "stream",
     "text": [
      "Early stopping, best iteration is:\n",
      "[221]\tvalid_0's auc: 0.739162\n",
      "[LightGBM] [Warning] min_data_in_leaf is set=997, min_child_samples=20 will be ignored. Current value: min_data_in_leaf=997\n",
      "Training until validation scores don't improve for 400 rounds\n"
     ]
    },
    {
     "name": "stderr",
     "output_type": "stream",
     "text": [
      "8it [00:55,  6.86s/it]"
     ]
    },
    {
     "name": "stdout",
     "output_type": "stream",
     "text": [
      "Early stopping, best iteration is:\n",
      "[225]\tvalid_0's auc: 0.735816\n",
      "[LightGBM] [Warning] min_data_in_leaf is set=997, min_child_samples=20 will be ignored. Current value: min_data_in_leaf=997\n",
      "Training until validation scores don't improve for 400 rounds\n",
      "Early stopping, best iteration is:\n",
      "[275]\tvalid_0's auc: 0.736169\n"
     ]
    },
    {
     "name": "stderr",
     "output_type": "stream",
     "text": [
      "9it [01:02,  7.02s/it]"
     ]
    },
    {
     "name": "stdout",
     "output_type": "stream",
     "text": [
      "[LightGBM] [Warning] min_data_in_leaf is set=997, min_child_samples=20 will be ignored. Current value: min_data_in_leaf=997\n",
      "Training until validation scores don't improve for 400 rounds\n"
     ]
    },
    {
     "name": "stderr",
     "output_type": "stream",
     "text": [
      "10it [01:09,  6.99s/it]"
     ]
    },
    {
     "name": "stdout",
     "output_type": "stream",
     "text": [
      "Early stopping, best iteration is:\n",
      "[206]\tvalid_0's auc: 0.733633\n"
     ]
    },
    {
     "name": "stderr",
     "output_type": "stream",
     "text": [
      "10it [01:09,  6.94s/it]\n",
      "\u001b[32m[I 2021-11-03 10:41:31,469]\u001b[0m Trial 32 finished with value: 0.7379496453695784 and parameters: {'learning_rate': 0.3609870367015071, 'n_estimators': 9937, 'max_depth': 9, 'num_leaves': 9, 'reg_alpha': 4.738556285482744, 'reg_lambda': 3.1135616129646873, 'min_data_in_leaf': 997}. Best is trial 19 with value: 0.7475782744060069.\u001b[0m\n",
      "0it [00:00, ?it/s]"
     ]
    },
    {
     "name": "stdout",
     "output_type": "stream",
     "text": [
      "[LightGBM] [Warning] min_data_in_leaf is set=899, min_child_samples=20 will be ignored. Current value: min_data_in_leaf=899\n",
      "Training until validation scores don't improve for 400 rounds\n",
      "Early stopping, best iteration is:\n",
      "[369]\tvalid_0's auc: 0.737988\n"
     ]
    },
    {
     "name": "stderr",
     "output_type": "stream",
     "text": [
      "1it [00:08,  8.53s/it]"
     ]
    },
    {
     "name": "stdout",
     "output_type": "stream",
     "text": [
      "[LightGBM] [Warning] min_data_in_leaf is set=899, min_child_samples=20 will be ignored. Current value: min_data_in_leaf=899\n",
      "Training until validation scores don't improve for 400 rounds\n",
      "Early stopping, best iteration is:\n",
      "[271]\tvalid_0's auc: 0.742233\n"
     ]
    },
    {
     "name": "stderr",
     "output_type": "stream",
     "text": [
      "2it [00:16,  8.08s/it]"
     ]
    },
    {
     "name": "stdout",
     "output_type": "stream",
     "text": [
      "[LightGBM] [Warning] min_data_in_leaf is set=899, min_child_samples=20 will be ignored. Current value: min_data_in_leaf=899\n",
      "Training until validation scores don't improve for 400 rounds\n",
      "Early stopping, best iteration is:\n",
      "[269]\tvalid_0's auc: 0.739429\n"
     ]
    },
    {
     "name": "stderr",
     "output_type": "stream",
     "text": [
      "3it [00:23,  7.87s/it]"
     ]
    },
    {
     "name": "stdout",
     "output_type": "stream",
     "text": [
      "[LightGBM] [Warning] min_data_in_leaf is set=899, min_child_samples=20 will be ignored. Current value: min_data_in_leaf=899\n",
      "Training until validation scores don't improve for 400 rounds\n"
     ]
    },
    {
     "name": "stderr",
     "output_type": "stream",
     "text": [
      "4it [00:30,  7.50s/it]"
     ]
    },
    {
     "name": "stdout",
     "output_type": "stream",
     "text": [
      "Early stopping, best iteration is:\n",
      "[186]\tvalid_0's auc: 0.741284\n",
      "[LightGBM] [Warning] min_data_in_leaf is set=899, min_child_samples=20 will be ignored. Current value: min_data_in_leaf=899\n",
      "Training until validation scores don't improve for 400 rounds\n"
     ]
    },
    {
     "name": "stderr",
     "output_type": "stream",
     "text": [
      "5it [00:37,  7.36s/it]"
     ]
    },
    {
     "name": "stdout",
     "output_type": "stream",
     "text": [
      "Early stopping, best iteration is:\n",
      "[227]\tvalid_0's auc: 0.738015\n",
      "[LightGBM] [Warning] min_data_in_leaf is set=899, min_child_samples=20 will be ignored. Current value: min_data_in_leaf=899\n",
      "Training until validation scores don't improve for 400 rounds\n"
     ]
    },
    {
     "name": "stderr",
     "output_type": "stream",
     "text": [
      "6it [00:44,  7.12s/it]"
     ]
    },
    {
     "name": "stdout",
     "output_type": "stream",
     "text": [
      "Early stopping, best iteration is:\n",
      "[216]\tvalid_0's auc: 0.736771\n",
      "[LightGBM] [Warning] min_data_in_leaf is set=899, min_child_samples=20 will be ignored. Current value: min_data_in_leaf=899\n",
      "Training until validation scores don't improve for 400 rounds\n",
      "Early stopping, best iteration is:\n",
      "[351]\tvalid_0's auc: 0.736701\n"
     ]
    },
    {
     "name": "stderr",
     "output_type": "stream",
     "text": [
      "7it [00:52,  7.53s/it]"
     ]
    },
    {
     "name": "stdout",
     "output_type": "stream",
     "text": [
      "[LightGBM] [Warning] min_data_in_leaf is set=899, min_child_samples=20 will be ignored. Current value: min_data_in_leaf=899\n",
      "Training until validation scores don't improve for 400 rounds\n",
      "Early stopping, best iteration is:\n",
      "[275]\tvalid_0's auc: 0.73891\n"
     ]
    },
    {
     "name": "stderr",
     "output_type": "stream",
     "text": [
      "8it [01:00,  7.53s/it]"
     ]
    },
    {
     "name": "stdout",
     "output_type": "stream",
     "text": [
      "[LightGBM] [Warning] min_data_in_leaf is set=899, min_child_samples=20 will be ignored. Current value: min_data_in_leaf=899\n",
      "Training until validation scores don't improve for 400 rounds\n",
      "Early stopping, best iteration is:\n",
      "[248]\tvalid_0's auc: 0.740256\n"
     ]
    },
    {
     "name": "stderr",
     "output_type": "stream",
     "text": [
      "9it [01:08,  7.54s/it]"
     ]
    },
    {
     "name": "stdout",
     "output_type": "stream",
     "text": [
      "[LightGBM] [Warning] min_data_in_leaf is set=899, min_child_samples=20 will be ignored. Current value: min_data_in_leaf=899\n",
      "Training until validation scores don't improve for 400 rounds\n",
      "Early stopping, best iteration is:\n",
      "[278]\tvalid_0's auc: 0.737503\n"
     ]
    },
    {
     "name": "stderr",
     "output_type": "stream",
     "text": [
      "10it [01:15,  7.52s/it]\n",
      "\u001b[32m[I 2021-11-03 10:42:46,855]\u001b[0m Trial 33 finished with value: 0.7389089100568308 and parameters: {'learning_rate': 0.311662340581206, 'n_estimators': 8606, 'max_depth': 10, 'num_leaves': 10, 'reg_alpha': 4.105630461451772, 'reg_lambda': 1.3232871783530946, 'min_data_in_leaf': 899}. Best is trial 19 with value: 0.7475782744060069.\u001b[0m\n",
      "0it [00:00, ?it/s]"
     ]
    },
    {
     "name": "stdout",
     "output_type": "stream",
     "text": [
      "[LightGBM] [Warning] min_data_in_leaf is set=792, min_child_samples=20 will be ignored. Current value: min_data_in_leaf=792\n",
      "Training until validation scores don't improve for 400 rounds\n"
     ]
    },
    {
     "name": "stderr",
     "output_type": "stream",
     "text": [
      "1it [00:07,  7.83s/it]"
     ]
    },
    {
     "name": "stdout",
     "output_type": "stream",
     "text": [
      "Early stopping, best iteration is:\n",
      "[106]\tvalid_0's auc: 0.733881\n",
      "[LightGBM] [Warning] min_data_in_leaf is set=792, min_child_samples=20 will be ignored. Current value: min_data_in_leaf=792\n",
      "Training until validation scores don't improve for 400 rounds\n"
     ]
    },
    {
     "name": "stderr",
     "output_type": "stream",
     "text": [
      "2it [00:15,  7.64s/it]"
     ]
    },
    {
     "name": "stdout",
     "output_type": "stream",
     "text": [
      "Early stopping, best iteration is:\n",
      "[97]\tvalid_0's auc: 0.732654\n",
      "[LightGBM] [Warning] min_data_in_leaf is set=792, min_child_samples=20 will be ignored. Current value: min_data_in_leaf=792\n",
      "Training until validation scores don't improve for 400 rounds\n"
     ]
    },
    {
     "name": "stderr",
     "output_type": "stream",
     "text": [
      "3it [00:22,  7.65s/it]"
     ]
    },
    {
     "name": "stdout",
     "output_type": "stream",
     "text": [
      "Early stopping, best iteration is:\n",
      "[109]\tvalid_0's auc: 0.730099\n",
      "[LightGBM] [Warning] min_data_in_leaf is set=792, min_child_samples=20 will be ignored. Current value: min_data_in_leaf=792\n",
      "Training until validation scores don't improve for 400 rounds\n"
     ]
    },
    {
     "name": "stderr",
     "output_type": "stream",
     "text": [
      "4it [00:30,  7.69s/it]"
     ]
    },
    {
     "name": "stdout",
     "output_type": "stream",
     "text": [
      "Early stopping, best iteration is:\n",
      "[94]\tvalid_0's auc: 0.731803\n",
      "[LightGBM] [Warning] min_data_in_leaf is set=792, min_child_samples=20 will be ignored. Current value: min_data_in_leaf=792\n",
      "Training until validation scores don't improve for 400 rounds\n"
     ]
    },
    {
     "name": "stderr",
     "output_type": "stream",
     "text": [
      "5it [00:38,  7.64s/it]"
     ]
    },
    {
     "name": "stdout",
     "output_type": "stream",
     "text": [
      "Early stopping, best iteration is:\n",
      "[82]\tvalid_0's auc: 0.729803\n",
      "[LightGBM] [Warning] min_data_in_leaf is set=792, min_child_samples=20 will be ignored. Current value: min_data_in_leaf=792\n",
      "Training until validation scores don't improve for 400 rounds\n"
     ]
    },
    {
     "name": "stderr",
     "output_type": "stream",
     "text": [
      "6it [00:45,  7.64s/it]"
     ]
    },
    {
     "name": "stdout",
     "output_type": "stream",
     "text": [
      "Early stopping, best iteration is:\n",
      "[100]\tvalid_0's auc: 0.729782\n",
      "[LightGBM] [Warning] min_data_in_leaf is set=792, min_child_samples=20 will be ignored. Current value: min_data_in_leaf=792\n",
      "Training until validation scores don't improve for 400 rounds\n"
     ]
    },
    {
     "name": "stderr",
     "output_type": "stream",
     "text": [
      "7it [00:54,  7.85s/it]"
     ]
    },
    {
     "name": "stdout",
     "output_type": "stream",
     "text": [
      "Early stopping, best iteration is:\n",
      "[138]\tvalid_0's auc: 0.726697\n",
      "[LightGBM] [Warning] min_data_in_leaf is set=792, min_child_samples=20 will be ignored. Current value: min_data_in_leaf=792\n",
      "Training until validation scores don't improve for 400 rounds\n"
     ]
    },
    {
     "name": "stderr",
     "output_type": "stream",
     "text": [
      "8it [01:02,  7.98s/it]"
     ]
    },
    {
     "name": "stdout",
     "output_type": "stream",
     "text": [
      "Early stopping, best iteration is:\n",
      "[161]\tvalid_0's auc: 0.730079\n",
      "[LightGBM] [Warning] min_data_in_leaf is set=792, min_child_samples=20 will be ignored. Current value: min_data_in_leaf=792\n",
      "Training until validation scores don't improve for 400 rounds\n"
     ]
    },
    {
     "name": "stderr",
     "output_type": "stream",
     "text": [
      "9it [01:10,  7.90s/it]"
     ]
    },
    {
     "name": "stdout",
     "output_type": "stream",
     "text": [
      "Early stopping, best iteration is:\n",
      "[102]\tvalid_0's auc: 0.732159\n",
      "[LightGBM] [Warning] min_data_in_leaf is set=792, min_child_samples=20 will be ignored. Current value: min_data_in_leaf=792\n",
      "Training until validation scores don't improve for 400 rounds\n"
     ]
    },
    {
     "name": "stderr",
     "output_type": "stream",
     "text": [
      "10it [01:18,  7.81s/it]\n",
      "\u001b[32m[I 2021-11-03 10:44:05,151]\u001b[0m Trial 34 finished with value: 0.7310997109078041 and parameters: {'learning_rate': 0.4618277540129323, 'n_estimators': 9391, 'max_depth': 7, 'num_leaves': 20, 'reg_alpha': 8.635178305974714, 'reg_lambda': 4.374187370525425, 'min_data_in_leaf': 792}. Best is trial 19 with value: 0.7475782744060069.\u001b[0m\n"
     ]
    },
    {
     "name": "stdout",
     "output_type": "stream",
     "text": [
      "Early stopping, best iteration is:\n",
      "[108]\tvalid_0's auc: 0.73404\n"
     ]
    },
    {
     "name": "stderr",
     "output_type": "stream",
     "text": [
      "0it [00:00, ?it/s]"
     ]
    },
    {
     "name": "stdout",
     "output_type": "stream",
     "text": [
      "[LightGBM] [Warning] min_data_in_leaf is set=708, min_child_samples=20 will be ignored. Current value: min_data_in_leaf=708\n",
      "Training until validation scores don't improve for 400 rounds\n",
      "Early stopping, best iteration is:\n",
      "[164]\tvalid_0's auc: 0.737886\n"
     ]
    },
    {
     "name": "stderr",
     "output_type": "stream",
     "text": [
      "1it [00:10, 10.25s/it]"
     ]
    },
    {
     "name": "stdout",
     "output_type": "stream",
     "text": [
      "[LightGBM] [Warning] min_data_in_leaf is set=708, min_child_samples=20 will be ignored. Current value: min_data_in_leaf=708\n",
      "Training until validation scores don't improve for 400 rounds\n",
      "Early stopping, best iteration is:\n",
      "[145]\tvalid_0's auc: 0.74256\n"
     ]
    },
    {
     "name": "stderr",
     "output_type": "stream",
     "text": [
      "2it [00:20, 10.01s/it]"
     ]
    },
    {
     "name": "stdout",
     "output_type": "stream",
     "text": [
      "[LightGBM] [Warning] min_data_in_leaf is set=708, min_child_samples=20 will be ignored. Current value: min_data_in_leaf=708\n",
      "Training until validation scores don't improve for 400 rounds\n",
      "Early stopping, best iteration is:\n",
      "[168]\tvalid_0's auc: 0.739962\n"
     ]
    },
    {
     "name": "stderr",
     "output_type": "stream",
     "text": [
      "3it [00:29,  9.94s/it]"
     ]
    },
    {
     "name": "stdout",
     "output_type": "stream",
     "text": [
      "[LightGBM] [Warning] min_data_in_leaf is set=708, min_child_samples=20 will be ignored. Current value: min_data_in_leaf=708\n",
      "Training until validation scores don't improve for 400 rounds\n",
      "Early stopping, best iteration is:\n",
      "[166]\tvalid_0's auc: 0.741106\n"
     ]
    },
    {
     "name": "stderr",
     "output_type": "stream",
     "text": [
      "4it [00:40, 10.11s/it]"
     ]
    },
    {
     "name": "stdout",
     "output_type": "stream",
     "text": [
      "[LightGBM] [Warning] min_data_in_leaf is set=708, min_child_samples=20 will be ignored. Current value: min_data_in_leaf=708\n",
      "Training until validation scores don't improve for 400 rounds\n",
      "Early stopping, best iteration is:\n",
      "[197]\tvalid_0's auc: 0.738392\n"
     ]
    },
    {
     "name": "stderr",
     "output_type": "stream",
     "text": [
      "5it [00:51, 10.32s/it]"
     ]
    },
    {
     "name": "stdout",
     "output_type": "stream",
     "text": [
      "[LightGBM] [Warning] min_data_in_leaf is set=708, min_child_samples=20 will be ignored. Current value: min_data_in_leaf=708\n",
      "Training until validation scores don't improve for 400 rounds\n",
      "Early stopping, best iteration is:\n",
      "[176]\tvalid_0's auc: 0.737365\n"
     ]
    },
    {
     "name": "stderr",
     "output_type": "stream",
     "text": [
      "6it [01:00, 10.17s/it]"
     ]
    },
    {
     "name": "stdout",
     "output_type": "stream",
     "text": [
      "[LightGBM] [Warning] min_data_in_leaf is set=708, min_child_samples=20 will be ignored. Current value: min_data_in_leaf=708\n",
      "Training until validation scores don't improve for 400 rounds\n",
      "Early stopping, best iteration is:\n",
      "[174]\tvalid_0's auc: 0.740076\n"
     ]
    },
    {
     "name": "stderr",
     "output_type": "stream",
     "text": [
      "7it [01:10, 10.08s/it]"
     ]
    },
    {
     "name": "stdout",
     "output_type": "stream",
     "text": [
      "[LightGBM] [Warning] min_data_in_leaf is set=708, min_child_samples=20 will be ignored. Current value: min_data_in_leaf=708\n",
      "Training until validation scores don't improve for 400 rounds\n",
      "Early stopping, best iteration is:\n",
      "[183]\tvalid_0's auc: 0.735756\n"
     ]
    },
    {
     "name": "stderr",
     "output_type": "stream",
     "text": [
      "8it [01:20, 10.07s/it]"
     ]
    },
    {
     "name": "stdout",
     "output_type": "stream",
     "text": [
      "[LightGBM] [Warning] min_data_in_leaf is set=708, min_child_samples=20 will be ignored. Current value: min_data_in_leaf=708\n",
      "Training until validation scores don't improve for 400 rounds\n",
      "Early stopping, best iteration is:\n",
      "[215]\tvalid_0's auc: 0.741498\n"
     ]
    },
    {
     "name": "stderr",
     "output_type": "stream",
     "text": [
      "9it [01:31, 10.33s/it]"
     ]
    },
    {
     "name": "stdout",
     "output_type": "stream",
     "text": [
      "[LightGBM] [Warning] min_data_in_leaf is set=708, min_child_samples=20 will be ignored. Current value: min_data_in_leaf=708\n",
      "Training until validation scores don't improve for 400 rounds\n",
      "Early stopping, best iteration is:\n",
      "[235]\tvalid_0's auc: 0.738845\n"
     ]
    },
    {
     "name": "stderr",
     "output_type": "stream",
     "text": [
      "10it [01:42, 10.25s/it]\n",
      "\u001b[32m[I 2021-11-03 10:45:47,841]\u001b[0m Trial 35 finished with value: 0.7393444900844566 and parameters: {'learning_rate': 0.19699230288206135, 'n_estimators': 8861, 'max_depth': 10, 'num_leaves': 29, 'reg_alpha': 5.637583367594496, 'reg_lambda': 2.614818396912251, 'min_data_in_leaf': 708}. Best is trial 19 with value: 0.7475782744060069.\u001b[0m\n",
      "0it [00:00, ?it/s]"
     ]
    },
    {
     "name": "stdout",
     "output_type": "stream",
     "text": [
      "[LightGBM] [Warning] min_data_in_leaf is set=935, min_child_samples=20 will be ignored. Current value: min_data_in_leaf=935\n",
      "Training until validation scores don't improve for 400 rounds\n"
     ]
    },
    {
     "name": "stderr",
     "output_type": "stream",
     "text": [
      "1it [00:13, 13.77s/it]"
     ]
    },
    {
     "name": "stdout",
     "output_type": "stream",
     "text": [
      "Early stopping, best iteration is:\n",
      "[119]\tvalid_0's auc: 0.732339\n",
      "[LightGBM] [Warning] min_data_in_leaf is set=935, min_child_samples=20 will be ignored. Current value: min_data_in_leaf=935\n",
      "Training until validation scores don't improve for 400 rounds\n"
     ]
    },
    {
     "name": "stderr",
     "output_type": "stream",
     "text": [
      "2it [00:27, 13.59s/it]"
     ]
    },
    {
     "name": "stdout",
     "output_type": "stream",
     "text": [
      "Early stopping, best iteration is:\n",
      "[111]\tvalid_0's auc: 0.733458\n",
      "[LightGBM] [Warning] min_data_in_leaf is set=935, min_child_samples=20 will be ignored. Current value: min_data_in_leaf=935\n",
      "Training until validation scores don't improve for 400 rounds\n"
     ]
    },
    {
     "name": "stderr",
     "output_type": "stream",
     "text": [
      "3it [00:40, 13.52s/it]"
     ]
    },
    {
     "name": "stdout",
     "output_type": "stream",
     "text": [
      "Early stopping, best iteration is:\n",
      "[99]\tvalid_0's auc: 0.736041\n",
      "[LightGBM] [Warning] min_data_in_leaf is set=935, min_child_samples=20 will be ignored. Current value: min_data_in_leaf=935\n",
      "Training until validation scores don't improve for 400 rounds\n"
     ]
    },
    {
     "name": "stderr",
     "output_type": "stream",
     "text": [
      "4it [00:53, 13.27s/it]"
     ]
    },
    {
     "name": "stdout",
     "output_type": "stream",
     "text": [
      "Early stopping, best iteration is:\n",
      "[96]\tvalid_0's auc: 0.731025\n",
      "[LightGBM] [Warning] min_data_in_leaf is set=935, min_child_samples=20 will be ignored. Current value: min_data_in_leaf=935\n",
      "Training until validation scores don't improve for 400 rounds\n"
     ]
    },
    {
     "name": "stderr",
     "output_type": "stream",
     "text": [
      "5it [01:07, 13.43s/it]"
     ]
    },
    {
     "name": "stdout",
     "output_type": "stream",
     "text": [
      "Early stopping, best iteration is:\n",
      "[103]\tvalid_0's auc: 0.732825\n",
      "[LightGBM] [Warning] min_data_in_leaf is set=935, min_child_samples=20 will be ignored. Current value: min_data_in_leaf=935\n",
      "Training until validation scores don't improve for 400 rounds\n"
     ]
    },
    {
     "name": "stderr",
     "output_type": "stream",
     "text": [
      "6it [01:21, 13.57s/it]"
     ]
    },
    {
     "name": "stdout",
     "output_type": "stream",
     "text": [
      "Early stopping, best iteration is:\n",
      "[121]\tvalid_0's auc: 0.732059\n",
      "[LightGBM] [Warning] min_data_in_leaf is set=935, min_child_samples=20 will be ignored. Current value: min_data_in_leaf=935\n",
      "Training until validation scores don't improve for 400 rounds\n"
     ]
    },
    {
     "name": "stderr",
     "output_type": "stream",
     "text": [
      "7it [01:34, 13.57s/it]"
     ]
    },
    {
     "name": "stdout",
     "output_type": "stream",
     "text": [
      "Early stopping, best iteration is:\n",
      "[108]\tvalid_0's auc: 0.732917\n",
      "[LightGBM] [Warning] min_data_in_leaf is set=935, min_child_samples=20 will be ignored. Current value: min_data_in_leaf=935\n",
      "Training until validation scores don't improve for 400 rounds\n"
     ]
    },
    {
     "name": "stderr",
     "output_type": "stream",
     "text": [
      "8it [01:47, 13.41s/it]"
     ]
    },
    {
     "name": "stdout",
     "output_type": "stream",
     "text": [
      "Early stopping, best iteration is:\n",
      "[113]\tvalid_0's auc: 0.730966\n",
      "[LightGBM] [Warning] min_data_in_leaf is set=935, min_child_samples=20 will be ignored. Current value: min_data_in_leaf=935\n",
      "Training until validation scores don't improve for 400 rounds\n"
     ]
    },
    {
     "name": "stderr",
     "output_type": "stream",
     "text": [
      "9it [02:01, 13.53s/it]"
     ]
    },
    {
     "name": "stdout",
     "output_type": "stream",
     "text": [
      "Early stopping, best iteration is:\n",
      "[124]\tvalid_0's auc: 0.734425\n",
      "[LightGBM] [Warning] min_data_in_leaf is set=935, min_child_samples=20 will be ignored. Current value: min_data_in_leaf=935\n",
      "Training until validation scores don't improve for 400 rounds\n"
     ]
    },
    {
     "name": "stderr",
     "output_type": "stream",
     "text": [
      "10it [02:15, 13.69s/it]"
     ]
    },
    {
     "name": "stdout",
     "output_type": "stream",
     "text": [
      "Early stopping, best iteration is:\n",
      "[122]\tvalid_0's auc: 0.733028\n"
     ]
    },
    {
     "name": "stderr",
     "output_type": "stream",
     "text": [
      "10it [02:15, 13.56s/it]\n",
      "\u001b[32m[I 2021-11-03 10:48:03,564]\u001b[0m Trial 36 finished with value: 0.7329084264537482 and parameters: {'learning_rate': 0.27513286156981476, 'n_estimators': 5328, 'max_depth': 8, 'num_leaves': 71, 'reg_alpha': 2.802680230100055, 'reg_lambda': 3.5508974505568247, 'min_data_in_leaf': 935}. Best is trial 19 with value: 0.7475782744060069.\u001b[0m\n",
      "0it [00:00, ?it/s]"
     ]
    },
    {
     "name": "stdout",
     "output_type": "stream",
     "text": [
      "[LightGBM] [Warning] min_data_in_leaf is set=151, min_child_samples=20 will be ignored. Current value: min_data_in_leaf=151\n",
      "Training until validation scores don't improve for 400 rounds\n"
     ]
    },
    {
     "name": "stderr",
     "output_type": "stream",
     "text": [
      "1it [00:05,  5.96s/it]"
     ]
    },
    {
     "name": "stdout",
     "output_type": "stream",
     "text": [
      "Early stopping, best iteration is:\n",
      "[167]\tvalid_0's auc: 0.736782\n",
      "[LightGBM] [Warning] min_data_in_leaf is set=151, min_child_samples=20 will be ignored. Current value: min_data_in_leaf=151\n",
      "Training until validation scores don't improve for 400 rounds\n"
     ]
    },
    {
     "name": "stderr",
     "output_type": "stream",
     "text": [
      "2it [00:11,  5.83s/it]"
     ]
    },
    {
     "name": "stdout",
     "output_type": "stream",
     "text": [
      "Early stopping, best iteration is:\n",
      "[132]\tvalid_0's auc: 0.732482\n",
      "[LightGBM] [Warning] min_data_in_leaf is set=151, min_child_samples=20 will be ignored. Current value: min_data_in_leaf=151\n",
      "Training until validation scores don't improve for 400 rounds\n"
     ]
    },
    {
     "name": "stderr",
     "output_type": "stream",
     "text": [
      "3it [00:17,  5.73s/it]"
     ]
    },
    {
     "name": "stdout",
     "output_type": "stream",
     "text": [
      "Early stopping, best iteration is:\n",
      "[119]\tvalid_0's auc: 0.732034\n",
      "[LightGBM] [Warning] min_data_in_leaf is set=151, min_child_samples=20 will be ignored. Current value: min_data_in_leaf=151\n",
      "Training until validation scores don't improve for 400 rounds\n"
     ]
    },
    {
     "name": "stderr",
     "output_type": "stream",
     "text": [
      "4it [00:23,  5.99s/it]"
     ]
    },
    {
     "name": "stdout",
     "output_type": "stream",
     "text": [
      "Early stopping, best iteration is:\n",
      "[227]\tvalid_0's auc: 0.731085\n",
      "[LightGBM] [Warning] min_data_in_leaf is set=151, min_child_samples=20 will be ignored. Current value: min_data_in_leaf=151\n",
      "Training until validation scores don't improve for 400 rounds\n"
     ]
    },
    {
     "name": "stderr",
     "output_type": "stream",
     "text": [
      "5it [00:29,  6.05s/it]"
     ]
    },
    {
     "name": "stdout",
     "output_type": "stream",
     "text": [
      "Early stopping, best iteration is:\n",
      "[201]\tvalid_0's auc: 0.739628\n",
      "[LightGBM] [Warning] min_data_in_leaf is set=151, min_child_samples=20 will be ignored. Current value: min_data_in_leaf=151\n",
      "Training until validation scores don't improve for 400 rounds\n"
     ]
    },
    {
     "name": "stderr",
     "output_type": "stream",
     "text": [
      "6it [00:36,  6.08s/it]"
     ]
    },
    {
     "name": "stdout",
     "output_type": "stream",
     "text": [
      "Early stopping, best iteration is:\n",
      "[206]\tvalid_0's auc: 0.734708\n",
      "[LightGBM] [Warning] min_data_in_leaf is set=151, min_child_samples=20 will be ignored. Current value: min_data_in_leaf=151\n",
      "Training until validation scores don't improve for 400 rounds\n"
     ]
    },
    {
     "name": "stderr",
     "output_type": "stream",
     "text": [
      "7it [00:41,  5.96s/it]"
     ]
    },
    {
     "name": "stdout",
     "output_type": "stream",
     "text": [
      "Early stopping, best iteration is:\n",
      "[136]\tvalid_0's auc: 0.731391\n",
      "[LightGBM] [Warning] min_data_in_leaf is set=151, min_child_samples=20 will be ignored. Current value: min_data_in_leaf=151\n",
      "Training until validation scores don't improve for 400 rounds\n"
     ]
    },
    {
     "name": "stderr",
     "output_type": "stream",
     "text": [
      "8it [00:47,  5.98s/it]"
     ]
    },
    {
     "name": "stdout",
     "output_type": "stream",
     "text": [
      "Early stopping, best iteration is:\n",
      "[159]\tvalid_0's auc: 0.733312\n",
      "[LightGBM] [Warning] min_data_in_leaf is set=151, min_child_samples=20 will be ignored. Current value: min_data_in_leaf=151\n",
      "Training until validation scores don't improve for 400 rounds\n"
     ]
    },
    {
     "name": "stderr",
     "output_type": "stream",
     "text": [
      "9it [00:53,  5.96s/it]"
     ]
    },
    {
     "name": "stdout",
     "output_type": "stream",
     "text": [
      "Early stopping, best iteration is:\n",
      "[169]\tvalid_0's auc: 0.736069\n",
      "[LightGBM] [Warning] min_data_in_leaf is set=151, min_child_samples=20 will be ignored. Current value: min_data_in_leaf=151\n",
      "Training until validation scores don't improve for 400 rounds\n"
     ]
    },
    {
     "name": "stderr",
     "output_type": "stream",
     "text": [
      "10it [00:59,  5.95s/it]\n",
      "\u001b[32m[I 2021-11-03 10:49:03,244]\u001b[0m Trial 37 finished with value: 0.7341349719151357 and parameters: {'learning_rate': 0.8074404003934788, 'n_estimators': 7968, 'max_depth': 6, 'num_leaves': 6, 'reg_alpha': 5.462619245746761, 'reg_lambda': 4.674991916358133, 'min_data_in_leaf': 151}. Best is trial 19 with value: 0.7475782744060069.\u001b[0m\n"
     ]
    },
    {
     "name": "stdout",
     "output_type": "stream",
     "text": [
      "Early stopping, best iteration is:\n",
      "[163]\tvalid_0's auc: 0.733859\n"
     ]
    },
    {
     "name": "stderr",
     "output_type": "stream",
     "text": [
      "0it [00:00, ?it/s]"
     ]
    },
    {
     "name": "stdout",
     "output_type": "stream",
     "text": [
      "[LightGBM] [Warning] min_data_in_leaf is set=360, min_child_samples=20 will be ignored. Current value: min_data_in_leaf=360\n",
      "Training until validation scores don't improve for 400 rounds\n",
      "Did not meet early stopping. Best iteration is:\n",
      "[2691]\tvalid_0's auc: 0.725958\n"
     ]
    },
    {
     "name": "stderr",
     "output_type": "stream",
     "text": [
      "1it [00:39, 39.85s/it]"
     ]
    },
    {
     "name": "stdout",
     "output_type": "stream",
     "text": [
      "[LightGBM] [Warning] min_data_in_leaf is set=360, min_child_samples=20 will be ignored. Current value: min_data_in_leaf=360\n",
      "Training until validation scores don't improve for 400 rounds\n",
      "Did not meet early stopping. Best iteration is:\n",
      "[2691]\tvalid_0's auc: 0.72486\n"
     ]
    },
    {
     "name": "stderr",
     "output_type": "stream",
     "text": [
      "2it [01:19, 39.51s/it]"
     ]
    },
    {
     "name": "stdout",
     "output_type": "stream",
     "text": [
      "[LightGBM] [Warning] min_data_in_leaf is set=360, min_child_samples=20 will be ignored. Current value: min_data_in_leaf=360\n",
      "Training until validation scores don't improve for 400 rounds\n",
      "Did not meet early stopping. Best iteration is:\n",
      "[2691]\tvalid_0's auc: 0.721295\n"
     ]
    },
    {
     "name": "stderr",
     "output_type": "stream",
     "text": [
      "3it [01:58, 39.35s/it]"
     ]
    },
    {
     "name": "stdout",
     "output_type": "stream",
     "text": [
      "[LightGBM] [Warning] min_data_in_leaf is set=360, min_child_samples=20 will be ignored. Current value: min_data_in_leaf=360\n",
      "Training until validation scores don't improve for 400 rounds\n",
      "Did not meet early stopping. Best iteration is:\n",
      "[2691]\tvalid_0's auc: 0.72539\n"
     ]
    },
    {
     "name": "stderr",
     "output_type": "stream",
     "text": [
      "4it [02:37, 39.32s/it]"
     ]
    },
    {
     "name": "stdout",
     "output_type": "stream",
     "text": [
      "[LightGBM] [Warning] min_data_in_leaf is set=360, min_child_samples=20 will be ignored. Current value: min_data_in_leaf=360\n",
      "Training until validation scores don't improve for 400 rounds\n",
      "Did not meet early stopping. Best iteration is:\n",
      "[2691]\tvalid_0's auc: 0.722224\n"
     ]
    },
    {
     "name": "stderr",
     "output_type": "stream",
     "text": [
      "5it [03:16, 39.32s/it]"
     ]
    },
    {
     "name": "stdout",
     "output_type": "stream",
     "text": [
      "[LightGBM] [Warning] min_data_in_leaf is set=360, min_child_samples=20 will be ignored. Current value: min_data_in_leaf=360\n",
      "Training until validation scores don't improve for 400 rounds\n",
      "Did not meet early stopping. Best iteration is:\n",
      "[2691]\tvalid_0's auc: 0.726505\n"
     ]
    },
    {
     "name": "stderr",
     "output_type": "stream",
     "text": [
      "6it [03:56, 39.35s/it]"
     ]
    },
    {
     "name": "stdout",
     "output_type": "stream",
     "text": [
      "[LightGBM] [Warning] min_data_in_leaf is set=360, min_child_samples=20 will be ignored. Current value: min_data_in_leaf=360\n",
      "Training until validation scores don't improve for 400 rounds\n",
      "Did not meet early stopping. Best iteration is:\n",
      "[2691]\tvalid_0's auc: 0.726502\n"
     ]
    },
    {
     "name": "stderr",
     "output_type": "stream",
     "text": [
      "7it [04:36, 39.54s/it]"
     ]
    },
    {
     "name": "stdout",
     "output_type": "stream",
     "text": [
      "[LightGBM] [Warning] min_data_in_leaf is set=360, min_child_samples=20 will be ignored. Current value: min_data_in_leaf=360\n",
      "Training until validation scores don't improve for 400 rounds\n",
      "Did not meet early stopping. Best iteration is:\n",
      "[2691]\tvalid_0's auc: 0.720834\n"
     ]
    },
    {
     "name": "stderr",
     "output_type": "stream",
     "text": [
      "8it [05:15, 39.46s/it]"
     ]
    },
    {
     "name": "stdout",
     "output_type": "stream",
     "text": [
      "[LightGBM] [Warning] min_data_in_leaf is set=360, min_child_samples=20 will be ignored. Current value: min_data_in_leaf=360\n",
      "Training until validation scores don't improve for 400 rounds\n",
      "Did not meet early stopping. Best iteration is:\n",
      "[2691]\tvalid_0's auc: 0.721674\n"
     ]
    },
    {
     "name": "stderr",
     "output_type": "stream",
     "text": [
      "9it [05:54, 39.37s/it]"
     ]
    },
    {
     "name": "stdout",
     "output_type": "stream",
     "text": [
      "[LightGBM] [Warning] min_data_in_leaf is set=360, min_child_samples=20 will be ignored. Current value: min_data_in_leaf=360\n",
      "Training until validation scores don't improve for 400 rounds\n",
      "Did not meet early stopping. Best iteration is:\n",
      "[2691]\tvalid_0's auc: 0.720127\n"
     ]
    },
    {
     "name": "stderr",
     "output_type": "stream",
     "text": [
      "10it [06:33, 39.39s/it]\n",
      "\u001b[32m[I 2021-11-03 10:55:37,277]\u001b[0m Trial 38 finished with value: 0.7235369789743703 and parameters: {'learning_rate': 0.002945649042297452, 'n_estimators': 2691, 'max_depth': 9, 'num_leaves': 14, 'reg_alpha': 1.1782609313573524, 'reg_lambda': 3.3520833787333846, 'min_data_in_leaf': 360}. Best is trial 19 with value: 0.7475782744060069.\u001b[0m\n",
      "0it [00:00, ?it/s]"
     ]
    },
    {
     "name": "stdout",
     "output_type": "stream",
     "text": [
      "[LightGBM] [Warning] min_data_in_leaf is set=822, min_child_samples=20 will be ignored. Current value: min_data_in_leaf=822\n",
      "Training until validation scores don't improve for 400 rounds\n",
      "Early stopping, best iteration is:\n",
      "[634]\tvalid_0's auc: 0.740898\n"
     ]
    },
    {
     "name": "stderr",
     "output_type": "stream",
     "text": [
      "1it [00:07,  7.78s/it]"
     ]
    },
    {
     "name": "stdout",
     "output_type": "stream",
     "text": [
      "[LightGBM] [Warning] min_data_in_leaf is set=822, min_child_samples=20 will be ignored. Current value: min_data_in_leaf=822\n",
      "Training until validation scores don't improve for 400 rounds\n",
      "Early stopping, best iteration is:\n",
      "[693]\tvalid_0's auc: 0.737507\n"
     ]
    },
    {
     "name": "stderr",
     "output_type": "stream",
     "text": [
      "2it [00:15,  8.01s/it]"
     ]
    },
    {
     "name": "stdout",
     "output_type": "stream",
     "text": [
      "[LightGBM] [Warning] min_data_in_leaf is set=822, min_child_samples=20 will be ignored. Current value: min_data_in_leaf=822\n",
      "Training until validation scores don't improve for 400 rounds\n",
      "Early stopping, best iteration is:\n",
      "[686]\tvalid_0's auc: 0.742641\n"
     ]
    },
    {
     "name": "stderr",
     "output_type": "stream",
     "text": [
      "3it [00:24,  8.06s/it]"
     ]
    },
    {
     "name": "stdout",
     "output_type": "stream",
     "text": [
      "[LightGBM] [Warning] min_data_in_leaf is set=822, min_child_samples=20 will be ignored. Current value: min_data_in_leaf=822\n",
      "Training until validation scores don't improve for 400 rounds\n",
      "Early stopping, best iteration is:\n",
      "[787]\tvalid_0's auc: 0.743789\n"
     ]
    },
    {
     "name": "stderr",
     "output_type": "stream",
     "text": [
      "4it [00:32,  8.30s/it]"
     ]
    },
    {
     "name": "stdout",
     "output_type": "stream",
     "text": [
      "[LightGBM] [Warning] min_data_in_leaf is set=822, min_child_samples=20 will be ignored. Current value: min_data_in_leaf=822\n",
      "Training until validation scores don't improve for 400 rounds\n",
      "Early stopping, best iteration is:\n",
      "[898]\tvalid_0's auc: 0.744404\n"
     ]
    },
    {
     "name": "stderr",
     "output_type": "stream",
     "text": [
      "5it [00:42,  8.72s/it]"
     ]
    },
    {
     "name": "stdout",
     "output_type": "stream",
     "text": [
      "[LightGBM] [Warning] min_data_in_leaf is set=822, min_child_samples=20 will be ignored. Current value: min_data_in_leaf=822\n",
      "Training until validation scores don't improve for 400 rounds\n",
      "Early stopping, best iteration is:\n",
      "[884]\tvalid_0's auc: 0.743441\n"
     ]
    },
    {
     "name": "stderr",
     "output_type": "stream",
     "text": [
      "6it [00:51,  8.93s/it]"
     ]
    },
    {
     "name": "stdout",
     "output_type": "stream",
     "text": [
      "[LightGBM] [Warning] min_data_in_leaf is set=822, min_child_samples=20 will be ignored. Current value: min_data_in_leaf=822\n",
      "Training until validation scores don't improve for 400 rounds\n",
      "Early stopping, best iteration is:\n",
      "[713]\tvalid_0's auc: 0.742318\n"
     ]
    },
    {
     "name": "stderr",
     "output_type": "stream",
     "text": [
      "7it [01:00,  8.80s/it]"
     ]
    },
    {
     "name": "stdout",
     "output_type": "stream",
     "text": [
      "[LightGBM] [Warning] min_data_in_leaf is set=822, min_child_samples=20 will be ignored. Current value: min_data_in_leaf=822\n",
      "Training until validation scores don't improve for 400 rounds\n",
      "Early stopping, best iteration is:\n",
      "[862]\tvalid_0's auc: 0.740315\n"
     ]
    },
    {
     "name": "stderr",
     "output_type": "stream",
     "text": [
      "8it [01:09,  8.85s/it]"
     ]
    },
    {
     "name": "stdout",
     "output_type": "stream",
     "text": [
      "[LightGBM] [Warning] min_data_in_leaf is set=822, min_child_samples=20 will be ignored. Current value: min_data_in_leaf=822\n",
      "Training until validation scores don't improve for 400 rounds\n",
      "Early stopping, best iteration is:\n",
      "[815]\tvalid_0's auc: 0.745007\n"
     ]
    },
    {
     "name": "stderr",
     "output_type": "stream",
     "text": [
      "9it [01:17,  8.83s/it]"
     ]
    },
    {
     "name": "stdout",
     "output_type": "stream",
     "text": [
      "[LightGBM] [Warning] min_data_in_leaf is set=822, min_child_samples=20 will be ignored. Current value: min_data_in_leaf=822\n",
      "Training until validation scores don't improve for 400 rounds\n",
      "Early stopping, best iteration is:\n",
      "[725]\tvalid_0's auc: 0.741865\n"
     ]
    },
    {
     "name": "stderr",
     "output_type": "stream",
     "text": [
      "10it [01:26,  8.62s/it]\n",
      "\u001b[32m[I 2021-11-03 10:57:03,554]\u001b[0m Trial 39 finished with value: 0.7422185387926609 and parameters: {'learning_rate': 0.5633657415573393, 'n_estimators': 9405, 'max_depth': 2, 'num_leaves': 3, 'reg_alpha': 3.855595040884202, 'reg_lambda': 2.1322979137435163, 'min_data_in_leaf': 822}. Best is trial 19 with value: 0.7475782744060069.\u001b[0m\n",
      "0it [00:00, ?it/s]"
     ]
    },
    {
     "name": "stdout",
     "output_type": "stream",
     "text": [
      "[LightGBM] [Warning] min_data_in_leaf is set=738, min_child_samples=20 will be ignored. Current value: min_data_in_leaf=738\n",
      "Training until validation scores don't improve for 400 rounds\n",
      "Early stopping, best iteration is:\n",
      "[1555]\tvalid_0's auc: 0.745404\n"
     ]
    },
    {
     "name": "stderr",
     "output_type": "stream",
     "text": [
      "1it [00:25, 25.65s/it]"
     ]
    },
    {
     "name": "stdout",
     "output_type": "stream",
     "text": [
      "[LightGBM] [Warning] min_data_in_leaf is set=738, min_child_samples=20 will be ignored. Current value: min_data_in_leaf=738\n",
      "Training until validation scores don't improve for 400 rounds\n",
      "Early stopping, best iteration is:\n",
      "[1511]\tvalid_0's auc: 0.747226\n"
     ]
    },
    {
     "name": "stderr",
     "output_type": "stream",
     "text": [
      "2it [00:50, 25.01s/it]"
     ]
    },
    {
     "name": "stdout",
     "output_type": "stream",
     "text": [
      "[LightGBM] [Warning] min_data_in_leaf is set=738, min_child_samples=20 will be ignored. Current value: min_data_in_leaf=738\n",
      "Training until validation scores don't improve for 400 rounds\n",
      "Early stopping, best iteration is:\n",
      "[1420]\tvalid_0's auc: 0.741834\n"
     ]
    },
    {
     "name": "stderr",
     "output_type": "stream",
     "text": [
      "3it [01:13, 24.45s/it]"
     ]
    },
    {
     "name": "stdout",
     "output_type": "stream",
     "text": [
      "[LightGBM] [Warning] min_data_in_leaf is set=738, min_child_samples=20 will be ignored. Current value: min_data_in_leaf=738\n",
      "Training until validation scores don't improve for 400 rounds\n",
      "Early stopping, best iteration is:\n",
      "[1202]\tvalid_0's auc: 0.747309\n"
     ]
    },
    {
     "name": "stderr",
     "output_type": "stream",
     "text": [
      "4it [01:35, 23.13s/it]"
     ]
    },
    {
     "name": "stdout",
     "output_type": "stream",
     "text": [
      "[LightGBM] [Warning] min_data_in_leaf is set=738, min_child_samples=20 will be ignored. Current value: min_data_in_leaf=738\n",
      "Training until validation scores don't improve for 400 rounds\n",
      "Early stopping, best iteration is:\n",
      "[1079]\tvalid_0's auc: 0.745765\n"
     ]
    },
    {
     "name": "stderr",
     "output_type": "stream",
     "text": [
      "5it [01:54, 21.71s/it]"
     ]
    },
    {
     "name": "stdout",
     "output_type": "stream",
     "text": [
      "[LightGBM] [Warning] min_data_in_leaf is set=738, min_child_samples=20 will be ignored. Current value: min_data_in_leaf=738\n",
      "Training until validation scores don't improve for 400 rounds\n",
      "Early stopping, best iteration is:\n",
      "[1221]\tvalid_0's auc: 0.745492\n"
     ]
    },
    {
     "name": "stderr",
     "output_type": "stream",
     "text": [
      "6it [02:15, 21.47s/it]"
     ]
    },
    {
     "name": "stdout",
     "output_type": "stream",
     "text": [
      "[LightGBM] [Warning] min_data_in_leaf is set=738, min_child_samples=20 will be ignored. Current value: min_data_in_leaf=738\n",
      "Training until validation scores don't improve for 400 rounds\n",
      "Early stopping, best iteration is:\n",
      "[1453]\tvalid_0's auc: 0.739995\n"
     ]
    },
    {
     "name": "stderr",
     "output_type": "stream",
     "text": [
      "7it [02:39, 22.41s/it]"
     ]
    },
    {
     "name": "stdout",
     "output_type": "stream",
     "text": [
      "[LightGBM] [Warning] min_data_in_leaf is set=738, min_child_samples=20 will be ignored. Current value: min_data_in_leaf=738\n",
      "Training until validation scores don't improve for 400 rounds\n",
      "Early stopping, best iteration is:\n",
      "[1484]\tvalid_0's auc: 0.747242\n"
     ]
    },
    {
     "name": "stderr",
     "output_type": "stream",
     "text": [
      "8it [03:04, 23.15s/it]"
     ]
    },
    {
     "name": "stdout",
     "output_type": "stream",
     "text": [
      "[LightGBM] [Warning] min_data_in_leaf is set=738, min_child_samples=20 will be ignored. Current value: min_data_in_leaf=738\n",
      "Training until validation scores don't improve for 400 rounds\n",
      "Early stopping, best iteration is:\n",
      "[1235]\tvalid_0's auc: 0.747182\n"
     ]
    },
    {
     "name": "stderr",
     "output_type": "stream",
     "text": [
      "9it [03:25, 22.64s/it]"
     ]
    },
    {
     "name": "stdout",
     "output_type": "stream",
     "text": [
      "[LightGBM] [Warning] min_data_in_leaf is set=738, min_child_samples=20 will be ignored. Current value: min_data_in_leaf=738\n",
      "Training until validation scores don't improve for 400 rounds\n",
      "Early stopping, best iteration is:\n",
      "[1283]\tvalid_0's auc: 0.740377\n"
     ]
    },
    {
     "name": "stderr",
     "output_type": "stream",
     "text": [
      "10it [03:48, 22.81s/it]\n",
      "\u001b[32m[I 2021-11-03 11:00:51,838]\u001b[0m Trial 40 finished with value: 0.7447824962282145 and parameters: {'learning_rate': 0.06226730601730716, 'n_estimators': 9661, 'max_depth': 5, 'num_leaves': 38, 'reg_alpha': 5.971459332218269, 'reg_lambda': 4.178704857672644, 'min_data_in_leaf': 738}. Best is trial 19 with value: 0.7475782744060069.\u001b[0m\n",
      "0it [00:00, ?it/s]"
     ]
    },
    {
     "name": "stdout",
     "output_type": "stream",
     "text": [
      "[LightGBM] [Warning] min_data_in_leaf is set=969, min_child_samples=20 will be ignored. Current value: min_data_in_leaf=969\n",
      "Training until validation scores don't improve for 400 rounds\n",
      "Early stopping, best iteration is:\n",
      "[3393]\tvalid_0's auc: 0.746415\n"
     ]
    },
    {
     "name": "stderr",
     "output_type": "stream",
     "text": [
      "1it [00:22, 22.99s/it]"
     ]
    },
    {
     "name": "stdout",
     "output_type": "stream",
     "text": [
      "[LightGBM] [Warning] min_data_in_leaf is set=969, min_child_samples=20 will be ignored. Current value: min_data_in_leaf=969\n",
      "Training until validation scores don't improve for 400 rounds\n",
      "Early stopping, best iteration is:\n",
      "[2914]\tvalid_0's auc: 0.746689\n"
     ]
    },
    {
     "name": "stderr",
     "output_type": "stream",
     "text": [
      "2it [00:43, 21.38s/it]"
     ]
    },
    {
     "name": "stdout",
     "output_type": "stream",
     "text": [
      "[LightGBM] [Warning] min_data_in_leaf is set=969, min_child_samples=20 will be ignored. Current value: min_data_in_leaf=969\n",
      "Training until validation scores don't improve for 400 rounds\n",
      "Early stopping, best iteration is:\n",
      "[2914]\tvalid_0's auc: 0.747329\n"
     ]
    },
    {
     "name": "stderr",
     "output_type": "stream",
     "text": [
      "3it [01:03, 20.91s/it]"
     ]
    },
    {
     "name": "stdout",
     "output_type": "stream",
     "text": [
      "[LightGBM] [Warning] min_data_in_leaf is set=969, min_child_samples=20 will be ignored. Current value: min_data_in_leaf=969\n",
      "Training until validation scores don't improve for 400 rounds\n",
      "Early stopping, best iteration is:\n",
      "[2675]\tvalid_0's auc: 0.743981\n"
     ]
    },
    {
     "name": "stderr",
     "output_type": "stream",
     "text": [
      "4it [01:22, 20.16s/it]"
     ]
    },
    {
     "name": "stdout",
     "output_type": "stream",
     "text": [
      "[LightGBM] [Warning] min_data_in_leaf is set=969, min_child_samples=20 will be ignored. Current value: min_data_in_leaf=969\n",
      "Training until validation scores don't improve for 400 rounds\n",
      "Early stopping, best iteration is:\n",
      "[2710]\tvalid_0's auc: 0.746503\n"
     ]
    },
    {
     "name": "stderr",
     "output_type": "stream",
     "text": [
      "5it [01:41, 19.81s/it]"
     ]
    },
    {
     "name": "stdout",
     "output_type": "stream",
     "text": [
      "[LightGBM] [Warning] min_data_in_leaf is set=969, min_child_samples=20 will be ignored. Current value: min_data_in_leaf=969\n",
      "Training until validation scores don't improve for 400 rounds\n",
      "Early stopping, best iteration is:\n",
      "[3041]\tvalid_0's auc: 0.74326\n"
     ]
    },
    {
     "name": "stderr",
     "output_type": "stream",
     "text": [
      "6it [02:02, 20.20s/it]"
     ]
    },
    {
     "name": "stdout",
     "output_type": "stream",
     "text": [
      "[LightGBM] [Warning] min_data_in_leaf is set=969, min_child_samples=20 will be ignored. Current value: min_data_in_leaf=969\n",
      "Training until validation scores don't improve for 400 rounds\n",
      "Early stopping, best iteration is:\n",
      "[2677]\tvalid_0's auc: 0.745305\n"
     ]
    },
    {
     "name": "stderr",
     "output_type": "stream",
     "text": [
      "7it [02:21, 19.80s/it]"
     ]
    },
    {
     "name": "stdout",
     "output_type": "stream",
     "text": [
      "[LightGBM] [Warning] min_data_in_leaf is set=969, min_child_samples=20 will be ignored. Current value: min_data_in_leaf=969\n",
      "Training until validation scores don't improve for 400 rounds\n",
      "Early stopping, best iteration is:\n",
      "[2584]\tvalid_0's auc: 0.748056\n"
     ]
    },
    {
     "name": "stderr",
     "output_type": "stream",
     "text": [
      "8it [02:40, 19.39s/it]"
     ]
    },
    {
     "name": "stdout",
     "output_type": "stream",
     "text": [
      "[LightGBM] [Warning] min_data_in_leaf is set=969, min_child_samples=20 will be ignored. Current value: min_data_in_leaf=969\n",
      "Training until validation scores don't improve for 400 rounds\n",
      "Early stopping, best iteration is:\n",
      "[2887]\tvalid_0's auc: 0.747959\n"
     ]
    },
    {
     "name": "stderr",
     "output_type": "stream",
     "text": [
      "9it [03:00, 19.65s/it]"
     ]
    },
    {
     "name": "stdout",
     "output_type": "stream",
     "text": [
      "[LightGBM] [Warning] min_data_in_leaf is set=969, min_child_samples=20 will be ignored. Current value: min_data_in_leaf=969\n",
      "Training until validation scores don't improve for 400 rounds\n",
      "Early stopping, best iteration is:\n",
      "[2609]\tvalid_0's auc: 0.743475\n"
     ]
    },
    {
     "name": "stderr",
     "output_type": "stream",
     "text": [
      "10it [03:19, 19.91s/it]\n",
      "\u001b[32m[I 2021-11-03 11:04:11,029]\u001b[0m Trial 41 finished with value: 0.7458971143591898 and parameters: {'learning_rate': 0.45220212244573343, 'n_estimators': 9986, 'max_depth': 8, 'num_leaves': 2, 'reg_alpha': 4.584588818040802, 'reg_lambda': 3.6667839979148606, 'min_data_in_leaf': 969}. Best is trial 19 with value: 0.7475782744060069.\u001b[0m\n",
      "0it [00:00, ?it/s]"
     ]
    },
    {
     "name": "stdout",
     "output_type": "stream",
     "text": [
      "[LightGBM] [Warning] min_data_in_leaf is set=937, min_child_samples=20 will be ignored. Current value: min_data_in_leaf=937\n",
      "Training until validation scores don't improve for 400 rounds\n"
     ]
    },
    {
     "name": "stderr",
     "output_type": "stream",
     "text": [
      "1it [00:06,  6.76s/it]"
     ]
    },
    {
     "name": "stdout",
     "output_type": "stream",
     "text": [
      "Early stopping, best iteration is:\n",
      "[228]\tvalid_0's auc: 0.734905\n",
      "[LightGBM] [Warning] min_data_in_leaf is set=937, min_child_samples=20 will be ignored. Current value: min_data_in_leaf=937\n",
      "Training until validation scores don't improve for 400 rounds\n"
     ]
    },
    {
     "name": "stderr",
     "output_type": "stream",
     "text": [
      "2it [00:13,  6.68s/it]"
     ]
    },
    {
     "name": "stdout",
     "output_type": "stream",
     "text": [
      "Early stopping, best iteration is:\n",
      "[209]\tvalid_0's auc: 0.738684\n",
      "[LightGBM] [Warning] min_data_in_leaf is set=937, min_child_samples=20 will be ignored. Current value: min_data_in_leaf=937\n",
      "Training until validation scores don't improve for 400 rounds\n"
     ]
    },
    {
     "name": "stderr",
     "output_type": "stream",
     "text": [
      "3it [00:20,  6.80s/it]"
     ]
    },
    {
     "name": "stdout",
     "output_type": "stream",
     "text": [
      "Early stopping, best iteration is:\n",
      "[239]\tvalid_0's auc: 0.73734\n",
      "[LightGBM] [Warning] min_data_in_leaf is set=937, min_child_samples=20 will be ignored. Current value: min_data_in_leaf=937\n",
      "Training until validation scores don't improve for 400 rounds\n"
     ]
    },
    {
     "name": "stderr",
     "output_type": "stream",
     "text": [
      "4it [00:27,  6.95s/it]"
     ]
    },
    {
     "name": "stdout",
     "output_type": "stream",
     "text": [
      "Early stopping, best iteration is:\n",
      "[246]\tvalid_0's auc: 0.737254\n",
      "[LightGBM] [Warning] min_data_in_leaf is set=937, min_child_samples=20 will be ignored. Current value: min_data_in_leaf=937\n",
      "Training until validation scores don't improve for 400 rounds\n",
      "Early stopping, best iteration is:\n",
      "[420]\tvalid_0's auc: 0.739485\n"
     ]
    },
    {
     "name": "stderr",
     "output_type": "stream",
     "text": [
      "5it [00:35,  7.47s/it]"
     ]
    },
    {
     "name": "stdout",
     "output_type": "stream",
     "text": [
      "[LightGBM] [Warning] min_data_in_leaf is set=937, min_child_samples=20 will be ignored. Current value: min_data_in_leaf=937\n",
      "Training until validation scores don't improve for 400 rounds\n"
     ]
    },
    {
     "name": "stderr",
     "output_type": "stream",
     "text": [
      "6it [00:42,  7.33s/it]"
     ]
    },
    {
     "name": "stdout",
     "output_type": "stream",
     "text": [
      "Early stopping, best iteration is:\n",
      "[267]\tvalid_0's auc: 0.73636\n",
      "[LightGBM] [Warning] min_data_in_leaf is set=937, min_child_samples=20 will be ignored. Current value: min_data_in_leaf=937\n",
      "Training until validation scores don't improve for 400 rounds\n",
      "Early stopping, best iteration is:\n",
      "[306]\tvalid_0's auc: 0.736987\n"
     ]
    },
    {
     "name": "stderr",
     "output_type": "stream",
     "text": [
      "7it [00:50,  7.41s/it]"
     ]
    },
    {
     "name": "stdout",
     "output_type": "stream",
     "text": [
      "[LightGBM] [Warning] min_data_in_leaf is set=937, min_child_samples=20 will be ignored. Current value: min_data_in_leaf=937\n",
      "Training until validation scores don't improve for 400 rounds\n"
     ]
    },
    {
     "name": "stderr",
     "output_type": "stream",
     "text": [
      "8it [00:57,  7.19s/it]"
     ]
    },
    {
     "name": "stdout",
     "output_type": "stream",
     "text": [
      "Early stopping, best iteration is:\n",
      "[225]\tvalid_0's auc: 0.741344\n",
      "[LightGBM] [Warning] min_data_in_leaf is set=937, min_child_samples=20 will be ignored. Current value: min_data_in_leaf=937\n",
      "Training until validation scores don't improve for 400 rounds\n"
     ]
    },
    {
     "name": "stderr",
     "output_type": "stream",
     "text": [
      "9it [01:04,  7.06s/it]"
     ]
    },
    {
     "name": "stdout",
     "output_type": "stream",
     "text": [
      "Early stopping, best iteration is:\n",
      "[240]\tvalid_0's auc: 0.738119\n",
      "[LightGBM] [Warning] min_data_in_leaf is set=937, min_child_samples=20 will be ignored. Current value: min_data_in_leaf=937\n",
      "Training until validation scores don't improve for 400 rounds\n",
      "Early stopping, best iteration is:\n",
      "[375]\tvalid_0's auc: 0.740325\n"
     ]
    },
    {
     "name": "stderr",
     "output_type": "stream",
     "text": [
      "10it [01:12,  7.20s/it]\n",
      "\u001b[32m[I 2021-11-03 11:05:23,207]\u001b[0m Trial 42 finished with value: 0.7380802261711389 and parameters: {'learning_rate': 0.3767843913349949, 'n_estimators': 8993, 'max_depth': 8, 'num_leaves': 8, 'reg_alpha': 4.199365266932362, 'reg_lambda': 5.119720930623377, 'min_data_in_leaf': 937}. Best is trial 19 with value: 0.7475782744060069.\u001b[0m\n",
      "0it [00:00, ?it/s]"
     ]
    },
    {
     "name": "stdout",
     "output_type": "stream",
     "text": [
      "[LightGBM] [Warning] min_data_in_leaf is set=892, min_child_samples=20 will be ignored. Current value: min_data_in_leaf=892\n",
      "Training until validation scores don't improve for 400 rounds\n"
     ]
    },
    {
     "name": "stderr",
     "output_type": "stream",
     "text": [
      "1it [00:06,  6.89s/it]"
     ]
    },
    {
     "name": "stdout",
     "output_type": "stream",
     "text": [
      "Early stopping, best iteration is:\n",
      "[112]\tvalid_0's auc: 0.737368\n",
      "[LightGBM] [Warning] min_data_in_leaf is set=892, min_child_samples=20 will be ignored. Current value: min_data_in_leaf=892\n",
      "Training until validation scores don't improve for 400 rounds\n"
     ]
    },
    {
     "name": "stderr",
     "output_type": "stream",
     "text": [
      "2it [00:14,  7.14s/it]"
     ]
    },
    {
     "name": "stdout",
     "output_type": "stream",
     "text": [
      "Early stopping, best iteration is:\n",
      "[158]\tvalid_0's auc: 0.733412\n",
      "[LightGBM] [Warning] min_data_in_leaf is set=892, min_child_samples=20 will be ignored. Current value: min_data_in_leaf=892\n",
      "Training until validation scores don't improve for 400 rounds\n"
     ]
    },
    {
     "name": "stderr",
     "output_type": "stream",
     "text": [
      "3it [00:21,  7.29s/it]"
     ]
    },
    {
     "name": "stdout",
     "output_type": "stream",
     "text": [
      "Early stopping, best iteration is:\n",
      "[130]\tvalid_0's auc: 0.734885\n",
      "[LightGBM] [Warning] min_data_in_leaf is set=892, min_child_samples=20 will be ignored. Current value: min_data_in_leaf=892\n",
      "Training until validation scores don't improve for 400 rounds\n"
     ]
    },
    {
     "name": "stderr",
     "output_type": "stream",
     "text": [
      "4it [00:28,  7.14s/it]"
     ]
    },
    {
     "name": "stdout",
     "output_type": "stream",
     "text": [
      "Early stopping, best iteration is:\n",
      "[120]\tvalid_0's auc: 0.731606\n",
      "[LightGBM] [Warning] min_data_in_leaf is set=892, min_child_samples=20 will be ignored. Current value: min_data_in_leaf=892\n",
      "Training until validation scores don't improve for 400 rounds\n"
     ]
    },
    {
     "name": "stderr",
     "output_type": "stream",
     "text": [
      "5it [00:35,  7.00s/it]"
     ]
    },
    {
     "name": "stdout",
     "output_type": "stream",
     "text": [
      "Early stopping, best iteration is:\n",
      "[133]\tvalid_0's auc: 0.733925\n",
      "[LightGBM] [Warning] min_data_in_leaf is set=892, min_child_samples=20 will be ignored. Current value: min_data_in_leaf=892\n",
      "Training until validation scores don't improve for 400 rounds\n"
     ]
    },
    {
     "name": "stderr",
     "output_type": "stream",
     "text": [
      "6it [00:42,  7.20s/it]"
     ]
    },
    {
     "name": "stdout",
     "output_type": "stream",
     "text": [
      "Early stopping, best iteration is:\n",
      "[157]\tvalid_0's auc: 0.735505\n",
      "[LightGBM] [Warning] min_data_in_leaf is set=892, min_child_samples=20 will be ignored. Current value: min_data_in_leaf=892\n",
      "Training until validation scores don't improve for 400 rounds\n"
     ]
    },
    {
     "name": "stderr",
     "output_type": "stream",
     "text": [
      "7it [00:50,  7.21s/it]"
     ]
    },
    {
     "name": "stdout",
     "output_type": "stream",
     "text": [
      "Early stopping, best iteration is:\n",
      "[126]\tvalid_0's auc: 0.735354\n",
      "[LightGBM] [Warning] min_data_in_leaf is set=892, min_child_samples=20 will be ignored. Current value: min_data_in_leaf=892\n",
      "Training until validation scores don't improve for 400 rounds\n"
     ]
    },
    {
     "name": "stderr",
     "output_type": "stream",
     "text": [
      "8it [00:57,  7.36s/it]"
     ]
    },
    {
     "name": "stdout",
     "output_type": "stream",
     "text": [
      "Early stopping, best iteration is:\n",
      "[191]\tvalid_0's auc: 0.735823\n",
      "[LightGBM] [Warning] min_data_in_leaf is set=892, min_child_samples=20 will be ignored. Current value: min_data_in_leaf=892\n",
      "Training until validation scores don't improve for 400 rounds\n"
     ]
    },
    {
     "name": "stderr",
     "output_type": "stream",
     "text": [
      "9it [01:05,  7.36s/it]"
     ]
    },
    {
     "name": "stdout",
     "output_type": "stream",
     "text": [
      "Early stopping, best iteration is:\n",
      "[153]\tvalid_0's auc: 0.732913\n",
      "[LightGBM] [Warning] min_data_in_leaf is set=892, min_child_samples=20 will be ignored. Current value: min_data_in_leaf=892\n",
      "Training until validation scores don't improve for 400 rounds\n"
     ]
    },
    {
     "name": "stderr",
     "output_type": "stream",
     "text": [
      "10it [01:11,  7.17s/it]\n",
      "\u001b[32m[I 2021-11-03 11:06:35,039]\u001b[0m Trial 43 finished with value: 0.7346402703211858 and parameters: {'learning_rate': 0.4062867562523647, 'n_estimators': 9946, 'max_depth': 9, 'num_leaves': 14, 'reg_alpha': 5.059529767231331, 'reg_lambda': 2.8975490220315683, 'min_data_in_leaf': 892}. Best is trial 19 with value: 0.7475782744060069.\u001b[0m\n"
     ]
    },
    {
     "name": "stdout",
     "output_type": "stream",
     "text": [
      "Early stopping, best iteration is:\n",
      "[115]\tvalid_0's auc: 0.735612\n"
     ]
    },
    {
     "name": "stderr",
     "output_type": "stream",
     "text": [
      "0it [00:00, ?it/s]"
     ]
    },
    {
     "name": "stdout",
     "output_type": "stream",
     "text": [
      "[LightGBM] [Warning] min_data_in_leaf is set=649, min_child_samples=20 will be ignored. Current value: min_data_in_leaf=649\n",
      "Training until validation scores don't improve for 400 rounds\n",
      "Early stopping, best iteration is:\n",
      "[3042]\tvalid_0's auc: 0.741748\n"
     ]
    },
    {
     "name": "stderr",
     "output_type": "stream",
     "text": [
      "1it [00:21, 21.03s/it]"
     ]
    },
    {
     "name": "stdout",
     "output_type": "stream",
     "text": [
      "[LightGBM] [Warning] min_data_in_leaf is set=649, min_child_samples=20 will be ignored. Current value: min_data_in_leaf=649\n",
      "Training until validation scores don't improve for 400 rounds\n",
      "Early stopping, best iteration is:\n",
      "[3092]\tvalid_0's auc: 0.74711\n"
     ]
    },
    {
     "name": "stderr",
     "output_type": "stream",
     "text": [
      "2it [00:42, 21.22s/it]"
     ]
    },
    {
     "name": "stdout",
     "output_type": "stream",
     "text": [
      "[LightGBM] [Warning] min_data_in_leaf is set=649, min_child_samples=20 will be ignored. Current value: min_data_in_leaf=649\n",
      "Training until validation scores don't improve for 400 rounds\n",
      "Early stopping, best iteration is:\n",
      "[3643]\tvalid_0's auc: 0.74789\n"
     ]
    },
    {
     "name": "stderr",
     "output_type": "stream",
     "text": [
      "3it [01:06, 22.66s/it]"
     ]
    },
    {
     "name": "stdout",
     "output_type": "stream",
     "text": [
      "[LightGBM] [Warning] min_data_in_leaf is set=649, min_child_samples=20 will be ignored. Current value: min_data_in_leaf=649\n",
      "Training until validation scores don't improve for 400 rounds\n",
      "Early stopping, best iteration is:\n",
      "[3602]\tvalid_0's auc: 0.746373\n"
     ]
    },
    {
     "name": "stderr",
     "output_type": "stream",
     "text": [
      "4it [01:30, 23.25s/it]"
     ]
    },
    {
     "name": "stdout",
     "output_type": "stream",
     "text": [
      "[LightGBM] [Warning] min_data_in_leaf is set=649, min_child_samples=20 will be ignored. Current value: min_data_in_leaf=649\n",
      "Training until validation scores don't improve for 400 rounds\n",
      "Early stopping, best iteration is:\n",
      "[2559]\tvalid_0's auc: 0.744326\n"
     ]
    },
    {
     "name": "stderr",
     "output_type": "stream",
     "text": [
      "5it [01:49, 21.53s/it]"
     ]
    },
    {
     "name": "stdout",
     "output_type": "stream",
     "text": [
      "[LightGBM] [Warning] min_data_in_leaf is set=649, min_child_samples=20 will be ignored. Current value: min_data_in_leaf=649\n",
      "Training until validation scores don't improve for 400 rounds\n",
      "Early stopping, best iteration is:\n",
      "[3907]\tvalid_0's auc: 0.748682\n"
     ]
    },
    {
     "name": "stderr",
     "output_type": "stream",
     "text": [
      "6it [02:15, 22.99s/it]"
     ]
    },
    {
     "name": "stdout",
     "output_type": "stream",
     "text": [
      "[LightGBM] [Warning] min_data_in_leaf is set=649, min_child_samples=20 will be ignored. Current value: min_data_in_leaf=649\n",
      "Training until validation scores don't improve for 400 rounds\n",
      "Early stopping, best iteration is:\n",
      "[1951]\tvalid_0's auc: 0.747487\n"
     ]
    },
    {
     "name": "stderr",
     "output_type": "stream",
     "text": [
      "7it [02:30, 20.41s/it]"
     ]
    },
    {
     "name": "stdout",
     "output_type": "stream",
     "text": [
      "[LightGBM] [Warning] min_data_in_leaf is set=649, min_child_samples=20 will be ignored. Current value: min_data_in_leaf=649\n",
      "Training until validation scores don't improve for 400 rounds\n",
      "Early stopping, best iteration is:\n",
      "[4828]\tvalid_0's auc: 0.746833\n"
     ]
    },
    {
     "name": "stderr",
     "output_type": "stream",
     "text": [
      "8it [03:01, 23.71s/it]"
     ]
    },
    {
     "name": "stdout",
     "output_type": "stream",
     "text": [
      "[LightGBM] [Warning] min_data_in_leaf is set=649, min_child_samples=20 will be ignored. Current value: min_data_in_leaf=649\n",
      "Training until validation scores don't improve for 400 rounds\n",
      "Early stopping, best iteration is:\n",
      "[2742]\tvalid_0's auc: 0.7451\n"
     ]
    },
    {
     "name": "stderr",
     "output_type": "stream",
     "text": [
      "9it [03:20, 22.36s/it]"
     ]
    },
    {
     "name": "stdout",
     "output_type": "stream",
     "text": [
      "[LightGBM] [Warning] min_data_in_leaf is set=649, min_child_samples=20 will be ignored. Current value: min_data_in_leaf=649\n",
      "Training until validation scores don't improve for 400 rounds\n",
      "Early stopping, best iteration is:\n",
      "[3384]\tvalid_0's auc: 0.742675\n"
     ]
    },
    {
     "name": "stderr",
     "output_type": "stream",
     "text": [
      "10it [03:43, 22.34s/it]\n",
      "\u001b[32m[I 2021-11-03 11:10:18,592]\u001b[0m Trial 44 finished with value: 0.7458224000851785 and parameters: {'learning_rate': 0.5474483879989198, 'n_estimators': 8364, 'max_depth': 7, 'num_leaves': 2, 'reg_alpha': 6.6066005352827615, 'reg_lambda': 4.351317635189007, 'min_data_in_leaf': 649}. Best is trial 19 with value: 0.7475782744060069.\u001b[0m\n",
      "0it [00:00, ?it/s]"
     ]
    },
    {
     "name": "stdout",
     "output_type": "stream",
     "text": [
      "[LightGBM] [Warning] min_data_in_leaf is set=968, min_child_samples=20 will be ignored. Current value: min_data_in_leaf=968\n",
      "Training until validation scores don't improve for 400 rounds\n",
      "Early stopping, best iteration is:\n",
      "[566]\tvalid_0's auc: 0.744366\n"
     ]
    },
    {
     "name": "stderr",
     "output_type": "stream",
     "text": [
      "1it [00:13, 13.21s/it]"
     ]
    },
    {
     "name": "stdout",
     "output_type": "stream",
     "text": [
      "[LightGBM] [Warning] min_data_in_leaf is set=968, min_child_samples=20 will be ignored. Current value: min_data_in_leaf=968\n",
      "Training until validation scores don't improve for 400 rounds\n",
      "Early stopping, best iteration is:\n",
      "[548]\tvalid_0's auc: 0.744869\n"
     ]
    },
    {
     "name": "stderr",
     "output_type": "stream",
     "text": [
      "2it [00:26, 13.06s/it]"
     ]
    },
    {
     "name": "stdout",
     "output_type": "stream",
     "text": [
      "[LightGBM] [Warning] min_data_in_leaf is set=968, min_child_samples=20 will be ignored. Current value: min_data_in_leaf=968\n",
      "Training until validation scores don't improve for 400 rounds\n",
      "Early stopping, best iteration is:\n",
      "[580]\tvalid_0's auc: 0.741687\n"
     ]
    },
    {
     "name": "stderr",
     "output_type": "stream",
     "text": [
      "3it [00:39, 13.27s/it]"
     ]
    },
    {
     "name": "stdout",
     "output_type": "stream",
     "text": [
      "[LightGBM] [Warning] min_data_in_leaf is set=968, min_child_samples=20 will be ignored. Current value: min_data_in_leaf=968\n",
      "Training until validation scores don't improve for 400 rounds\n",
      "Early stopping, best iteration is:\n",
      "[617]\tvalid_0's auc: 0.744043\n"
     ]
    },
    {
     "name": "stderr",
     "output_type": "stream",
     "text": [
      "4it [00:53, 13.46s/it]"
     ]
    },
    {
     "name": "stdout",
     "output_type": "stream",
     "text": [
      "[LightGBM] [Warning] min_data_in_leaf is set=968, min_child_samples=20 will be ignored. Current value: min_data_in_leaf=968\n",
      "Training until validation scores don't improve for 400 rounds\n",
      "Early stopping, best iteration is:\n",
      "[495]\tvalid_0's auc: 0.739728\n"
     ]
    },
    {
     "name": "stderr",
     "output_type": "stream",
     "text": [
      "5it [01:05, 13.02s/it]"
     ]
    },
    {
     "name": "stdout",
     "output_type": "stream",
     "text": [
      "[LightGBM] [Warning] min_data_in_leaf is set=968, min_child_samples=20 will be ignored. Current value: min_data_in_leaf=968\n",
      "Training until validation scores don't improve for 400 rounds\n",
      "Early stopping, best iteration is:\n",
      "[438]\tvalid_0's auc: 0.743384\n"
     ]
    },
    {
     "name": "stderr",
     "output_type": "stream",
     "text": [
      "6it [01:17, 12.62s/it]"
     ]
    },
    {
     "name": "stdout",
     "output_type": "stream",
     "text": [
      "[LightGBM] [Warning] min_data_in_leaf is set=968, min_child_samples=20 will be ignored. Current value: min_data_in_leaf=968\n",
      "Training until validation scores don't improve for 400 rounds\n",
      "Early stopping, best iteration is:\n",
      "[460]\tvalid_0's auc: 0.74258\n"
     ]
    },
    {
     "name": "stderr",
     "output_type": "stream",
     "text": [
      "7it [01:29, 12.41s/it]"
     ]
    },
    {
     "name": "stdout",
     "output_type": "stream",
     "text": [
      "[LightGBM] [Warning] min_data_in_leaf is set=968, min_child_samples=20 will be ignored. Current value: min_data_in_leaf=968\n",
      "Training until validation scores don't improve for 400 rounds\n",
      "Early stopping, best iteration is:\n",
      "[609]\tvalid_0's auc: 0.738553\n"
     ]
    },
    {
     "name": "stderr",
     "output_type": "stream",
     "text": [
      "8it [01:43, 12.83s/it]"
     ]
    },
    {
     "name": "stdout",
     "output_type": "stream",
     "text": [
      "[LightGBM] [Warning] min_data_in_leaf is set=968, min_child_samples=20 will be ignored. Current value: min_data_in_leaf=968\n",
      "Training until validation scores don't improve for 400 rounds\n",
      "Early stopping, best iteration is:\n",
      "[567]\tvalid_0's auc: 0.747036\n"
     ]
    },
    {
     "name": "stderr",
     "output_type": "stream",
     "text": [
      "9it [01:56, 13.00s/it]"
     ]
    },
    {
     "name": "stdout",
     "output_type": "stream",
     "text": [
      "[LightGBM] [Warning] min_data_in_leaf is set=968, min_child_samples=20 will be ignored. Current value: min_data_in_leaf=968\n",
      "Training until validation scores don't improve for 400 rounds\n",
      "Early stopping, best iteration is:\n",
      "[411]\tvalid_0's auc: 0.742632\n"
     ]
    },
    {
     "name": "stderr",
     "output_type": "stream",
     "text": [
      "10it [02:08, 12.80s/it]\n",
      "\u001b[32m[I 2021-11-03 11:12:26,764]\u001b[0m Trial 45 finished with value: 0.7428878288291715 and parameters: {'learning_rate': 0.12156710187142057, 'n_estimators': 7351, 'max_depth': 6, 'num_leaves': 21, 'reg_alpha': 3.3090262282256093, 'reg_lambda': 1.647013922401543, 'min_data_in_leaf': 968}. Best is trial 19 with value: 0.7475782744060069.\u001b[0m\n",
      "0it [00:00, ?it/s]"
     ]
    },
    {
     "name": "stdout",
     "output_type": "stream",
     "text": [
      "[LightGBM] [Warning] min_data_in_leaf is set=996, min_child_samples=20 will be ignored. Current value: min_data_in_leaf=996\n",
      "Training until validation scores don't improve for 400 rounds\n",
      "Did not meet early stopping. Best iteration is:\n",
      "[486]\tvalid_0's auc: 0.737897\n"
     ]
    },
    {
     "name": "stderr",
     "output_type": "stream",
     "text": [
      "1it [00:07,  7.43s/it]"
     ]
    },
    {
     "name": "stdout",
     "output_type": "stream",
     "text": [
      "[LightGBM] [Warning] min_data_in_leaf is set=996, min_child_samples=20 will be ignored. Current value: min_data_in_leaf=996\n",
      "Training until validation scores don't improve for 400 rounds\n",
      "Did not meet early stopping. Best iteration is:\n",
      "[385]\tvalid_0's auc: 0.739178\n"
     ]
    },
    {
     "name": "stderr",
     "output_type": "stream",
     "text": [
      "2it [00:14,  7.35s/it]"
     ]
    },
    {
     "name": "stdout",
     "output_type": "stream",
     "text": [
      "[LightGBM] [Warning] min_data_in_leaf is set=996, min_child_samples=20 will be ignored. Current value: min_data_in_leaf=996\n",
      "Training until validation scores don't improve for 400 rounds\n"
     ]
    },
    {
     "name": "stderr",
     "output_type": "stream",
     "text": [
      "3it [00:21,  7.26s/it]"
     ]
    },
    {
     "name": "stdout",
     "output_type": "stream",
     "text": [
      "Early stopping, best iteration is:\n",
      "[304]\tvalid_0's auc: 0.739379\n",
      "[LightGBM] [Warning] min_data_in_leaf is set=996, min_child_samples=20 will be ignored. Current value: min_data_in_leaf=996\n",
      "Training until validation scores don't improve for 400 rounds\n"
     ]
    },
    {
     "name": "stderr",
     "output_type": "stream",
     "text": [
      "4it [00:28,  6.96s/it]"
     ]
    },
    {
     "name": "stdout",
     "output_type": "stream",
     "text": [
      "Early stopping, best iteration is:\n",
      "[230]\tvalid_0's auc: 0.738109\n",
      "[LightGBM] [Warning] min_data_in_leaf is set=996, min_child_samples=20 will be ignored. Current value: min_data_in_leaf=996\n",
      "Training until validation scores don't improve for 400 rounds\n",
      "Did not meet early stopping. Best iteration is:\n",
      "[360]\tvalid_0's auc: 0.739623\n"
     ]
    },
    {
     "name": "stderr",
     "output_type": "stream",
     "text": [
      "5it [00:35,  7.18s/it]"
     ]
    },
    {
     "name": "stdout",
     "output_type": "stream",
     "text": [
      "[LightGBM] [Warning] min_data_in_leaf is set=996, min_child_samples=20 will be ignored. Current value: min_data_in_leaf=996\n",
      "Training until validation scores don't improve for 400 rounds\n"
     ]
    },
    {
     "name": "stderr",
     "output_type": "stream",
     "text": [
      "6it [00:42,  6.94s/it]"
     ]
    },
    {
     "name": "stdout",
     "output_type": "stream",
     "text": [
      "Early stopping, best iteration is:\n",
      "[189]\tvalid_0's auc: 0.736825\n",
      "[LightGBM] [Warning] min_data_in_leaf is set=996, min_child_samples=20 will be ignored. Current value: min_data_in_leaf=996\n",
      "Training until validation scores don't improve for 400 rounds\n",
      "Early stopping, best iteration is:\n",
      "[301]\tvalid_0's auc: 0.737894\n"
     ]
    },
    {
     "name": "stderr",
     "output_type": "stream",
     "text": [
      "7it [00:49,  7.01s/it]"
     ]
    },
    {
     "name": "stdout",
     "output_type": "stream",
     "text": [
      "[LightGBM] [Warning] min_data_in_leaf is set=996, min_child_samples=20 will be ignored. Current value: min_data_in_leaf=996\n",
      "Training until validation scores don't improve for 400 rounds\n"
     ]
    },
    {
     "name": "stderr",
     "output_type": "stream",
     "text": [
      "8it [00:56,  7.04s/it]"
     ]
    },
    {
     "name": "stdout",
     "output_type": "stream",
     "text": [
      "Early stopping, best iteration is:\n",
      "[276]\tvalid_0's auc: 0.738281\n",
      "[LightGBM] [Warning] min_data_in_leaf is set=996, min_child_samples=20 will be ignored. Current value: min_data_in_leaf=996\n",
      "Training until validation scores don't improve for 400 rounds\n"
     ]
    },
    {
     "name": "stderr",
     "output_type": "stream",
     "text": [
      "9it [01:03,  6.97s/it]"
     ]
    },
    {
     "name": "stdout",
     "output_type": "stream",
     "text": [
      "Early stopping, best iteration is:\n",
      "[273]\tvalid_0's auc: 0.738628\n",
      "[LightGBM] [Warning] min_data_in_leaf is set=996, min_child_samples=20 will be ignored. Current value: min_data_in_leaf=996\n",
      "Training until validation scores don't improve for 400 rounds\n",
      "Did not meet early stopping. Best iteration is:\n",
      "[366]\tvalid_0's auc: 0.738807\n"
     ]
    },
    {
     "name": "stderr",
     "output_type": "stream",
     "text": [
      "10it [01:10,  7.08s/it]\n",
      "\u001b[32m[I 2021-11-03 11:13:37,747]\u001b[0m Trial 46 finished with value: 0.7384621088635044 and parameters: {'learning_rate': 0.4031347310172241, 'n_estimators': 738, 'max_depth': 8, 'num_leaves': 7, 'reg_alpha': 2.3657632102248307, 'reg_lambda': 2.597231138939302, 'min_data_in_leaf': 996}. Best is trial 19 with value: 0.7475782744060069.\u001b[0m\n",
      "0it [00:00, ?it/s]"
     ]
    },
    {
     "name": "stdout",
     "output_type": "stream",
     "text": [
      "[LightGBM] [Warning] min_data_in_leaf is set=816, min_child_samples=20 will be ignored. Current value: min_data_in_leaf=816\n",
      "Training until validation scores don't improve for 400 rounds\n",
      "Early stopping, best iteration is:\n",
      "[305]\tvalid_0's auc: 0.740109\n"
     ]
    },
    {
     "name": "stderr",
     "output_type": "stream",
     "text": [
      "1it [00:07,  7.72s/it]"
     ]
    },
    {
     "name": "stdout",
     "output_type": "stream",
     "text": [
      "[LightGBM] [Warning] min_data_in_leaf is set=816, min_child_samples=20 will be ignored. Current value: min_data_in_leaf=816\n",
      "Training until validation scores don't improve for 400 rounds\n"
     ]
    },
    {
     "name": "stderr",
     "output_type": "stream",
     "text": [
      "2it [00:14,  7.31s/it]"
     ]
    },
    {
     "name": "stdout",
     "output_type": "stream",
     "text": [
      "Early stopping, best iteration is:\n",
      "[158]\tvalid_0's auc: 0.740862\n",
      "[LightGBM] [Warning] min_data_in_leaf is set=816, min_child_samples=20 will be ignored. Current value: min_data_in_leaf=816\n",
      "Training until validation scores don't improve for 400 rounds\n",
      "Early stopping, best iteration is:\n",
      "[221]\tvalid_0's auc: 0.738328\n"
     ]
    },
    {
     "name": "stderr",
     "output_type": "stream",
     "text": [
      "3it [00:22,  7.48s/it]"
     ]
    },
    {
     "name": "stdout",
     "output_type": "stream",
     "text": [
      "[LightGBM] [Warning] min_data_in_leaf is set=816, min_child_samples=20 will be ignored. Current value: min_data_in_leaf=816\n",
      "Training until validation scores don't improve for 400 rounds\n"
     ]
    },
    {
     "name": "stderr",
     "output_type": "stream",
     "text": [
      "4it [00:29,  7.25s/it]"
     ]
    },
    {
     "name": "stdout",
     "output_type": "stream",
     "text": [
      "Early stopping, best iteration is:\n",
      "[203]\tvalid_0's auc: 0.740829\n",
      "[LightGBM] [Warning] min_data_in_leaf is set=816, min_child_samples=20 will be ignored. Current value: min_data_in_leaf=816\n",
      "Training until validation scores don't improve for 400 rounds\n"
     ]
    },
    {
     "name": "stderr",
     "output_type": "stream",
     "text": [
      "5it [00:37,  7.41s/it]"
     ]
    },
    {
     "name": "stdout",
     "output_type": "stream",
     "text": [
      "Early stopping, best iteration is:\n",
      "[197]\tvalid_0's auc: 0.740366\n",
      "[LightGBM] [Warning] min_data_in_leaf is set=816, min_child_samples=20 will be ignored. Current value: min_data_in_leaf=816\n",
      "Training until validation scores don't improve for 400 rounds\n"
     ]
    },
    {
     "name": "stderr",
     "output_type": "stream",
     "text": [
      "6it [00:44,  7.41s/it]"
     ]
    },
    {
     "name": "stdout",
     "output_type": "stream",
     "text": [
      "Early stopping, best iteration is:\n",
      "[209]\tvalid_0's auc: 0.738265\n",
      "[LightGBM] [Warning] min_data_in_leaf is set=816, min_child_samples=20 will be ignored. Current value: min_data_in_leaf=816\n",
      "Training until validation scores don't improve for 400 rounds\n"
     ]
    },
    {
     "name": "stderr",
     "output_type": "stream",
     "text": [
      "7it [00:51,  7.46s/it]"
     ]
    },
    {
     "name": "stdout",
     "output_type": "stream",
     "text": [
      "Early stopping, best iteration is:\n",
      "[202]\tvalid_0's auc: 0.734619\n",
      "[LightGBM] [Warning] min_data_in_leaf is set=816, min_child_samples=20 will be ignored. Current value: min_data_in_leaf=816\n",
      "Training until validation scores don't improve for 400 rounds\n"
     ]
    },
    {
     "name": "stderr",
     "output_type": "stream",
     "text": [
      "8it [00:59,  7.43s/it]"
     ]
    },
    {
     "name": "stdout",
     "output_type": "stream",
     "text": [
      "Early stopping, best iteration is:\n",
      "[198]\tvalid_0's auc: 0.740048\n",
      "[LightGBM] [Warning] min_data_in_leaf is set=816, min_child_samples=20 will be ignored. Current value: min_data_in_leaf=816\n",
      "Training until validation scores don't improve for 400 rounds\n",
      "Early stopping, best iteration is:\n",
      "[300]\tvalid_0's auc: 0.736913\n"
     ]
    },
    {
     "name": "stderr",
     "output_type": "stream",
     "text": [
      "9it [01:07,  7.75s/it]"
     ]
    },
    {
     "name": "stdout",
     "output_type": "stream",
     "text": [
      "[LightGBM] [Warning] min_data_in_leaf is set=816, min_child_samples=20 will be ignored. Current value: min_data_in_leaf=816\n",
      "Training until validation scores don't improve for 400 rounds\n",
      "Early stopping, best iteration is:\n",
      "[240]\tvalid_0's auc: 0.74012\n"
     ]
    },
    {
     "name": "stderr",
     "output_type": "stream",
     "text": [
      "10it [01:15,  7.57s/it]\n",
      "\u001b[32m[I 2021-11-03 11:14:53,561]\u001b[0m Trial 47 finished with value: 0.7390460434661137 and parameters: {'learning_rate': 0.2892066573752486, 'n_estimators': 9585, 'max_depth': 9, 'num_leaves': 12, 'reg_alpha': 1.6154569311520597, 'reg_lambda': 7.337434041458992, 'min_data_in_leaf': 816}. Best is trial 19 with value: 0.7475782744060069.\u001b[0m\n",
      "0it [00:00, ?it/s]"
     ]
    },
    {
     "name": "stdout",
     "output_type": "stream",
     "text": [
      "[LightGBM] [Warning] min_data_in_leaf is set=188, min_child_samples=20 will be ignored. Current value: min_data_in_leaf=188\n",
      "Training until validation scores don't improve for 400 rounds\n",
      "Early stopping, best iteration is:\n",
      "[208]\tvalid_0's auc: 0.738493\n"
     ]
    },
    {
     "name": "stderr",
     "output_type": "stream",
     "text": [
      "1it [00:08,  8.64s/it]"
     ]
    },
    {
     "name": "stdout",
     "output_type": "stream",
     "text": [
      "[LightGBM] [Warning] min_data_in_leaf is set=188, min_child_samples=20 will be ignored. Current value: min_data_in_leaf=188\n",
      "Training until validation scores don't improve for 400 rounds\n"
     ]
    },
    {
     "name": "stderr",
     "output_type": "stream",
     "text": [
      "2it [00:17,  8.48s/it]"
     ]
    },
    {
     "name": "stdout",
     "output_type": "stream",
     "text": [
      "Early stopping, best iteration is:\n",
      "[178]\tvalid_0's auc: 0.738515\n",
      "[LightGBM] [Warning] min_data_in_leaf is set=188, min_child_samples=20 will be ignored. Current value: min_data_in_leaf=188\n",
      "Training until validation scores don't improve for 400 rounds\n"
     ]
    },
    {
     "name": "stderr",
     "output_type": "stream",
     "text": [
      "3it [00:25,  8.32s/it]"
     ]
    },
    {
     "name": "stdout",
     "output_type": "stream",
     "text": [
      "Early stopping, best iteration is:\n",
      "[175]\tvalid_0's auc: 0.740015\n",
      "[LightGBM] [Warning] min_data_in_leaf is set=188, min_child_samples=20 will be ignored. Current value: min_data_in_leaf=188\n",
      "Training until validation scores don't improve for 400 rounds\n",
      "Early stopping, best iteration is:\n",
      "[237]\tvalid_0's auc: 0.74179\n"
     ]
    },
    {
     "name": "stderr",
     "output_type": "stream",
     "text": [
      "4it [00:34,  8.58s/it]"
     ]
    },
    {
     "name": "stdout",
     "output_type": "stream",
     "text": [
      "[LightGBM] [Warning] min_data_in_leaf is set=188, min_child_samples=20 will be ignored. Current value: min_data_in_leaf=188\n",
      "Training until validation scores don't improve for 400 rounds\n"
     ]
    },
    {
     "name": "stderr",
     "output_type": "stream",
     "text": [
      "5it [00:42,  8.51s/it]"
     ]
    },
    {
     "name": "stdout",
     "output_type": "stream",
     "text": [
      "Early stopping, best iteration is:\n",
      "[179]\tvalid_0's auc: 0.738731\n",
      "[LightGBM] [Warning] min_data_in_leaf is set=188, min_child_samples=20 will be ignored. Current value: min_data_in_leaf=188\n",
      "Training until validation scores don't improve for 400 rounds\n",
      "Early stopping, best iteration is:\n",
      "[220]\tvalid_0's auc: 0.739478\n"
     ]
    },
    {
     "name": "stderr",
     "output_type": "stream",
     "text": [
      "6it [00:51,  8.59s/it]"
     ]
    },
    {
     "name": "stdout",
     "output_type": "stream",
     "text": [
      "[LightGBM] [Warning] min_data_in_leaf is set=188, min_child_samples=20 will be ignored. Current value: min_data_in_leaf=188\n",
      "Training until validation scores don't improve for 400 rounds\n",
      "Early stopping, best iteration is:\n",
      "[207]\tvalid_0's auc: 0.742369\n"
     ]
    },
    {
     "name": "stderr",
     "output_type": "stream",
     "text": [
      "7it [00:59,  8.60s/it]"
     ]
    },
    {
     "name": "stdout",
     "output_type": "stream",
     "text": [
      "[LightGBM] [Warning] min_data_in_leaf is set=188, min_child_samples=20 will be ignored. Current value: min_data_in_leaf=188\n",
      "Training until validation scores don't improve for 400 rounds\n"
     ]
    },
    {
     "name": "stderr",
     "output_type": "stream",
     "text": [
      "8it [01:07,  8.18s/it]"
     ]
    },
    {
     "name": "stdout",
     "output_type": "stream",
     "text": [
      "Early stopping, best iteration is:\n",
      "[171]\tvalid_0's auc: 0.736453\n",
      "[LightGBM] [Warning] min_data_in_leaf is set=188, min_child_samples=20 will be ignored. Current value: min_data_in_leaf=188\n",
      "Training until validation scores don't improve for 400 rounds\n"
     ]
    },
    {
     "name": "stderr",
     "output_type": "stream",
     "text": [
      "9it [01:15,  8.30s/it]"
     ]
    },
    {
     "name": "stdout",
     "output_type": "stream",
     "text": [
      "Early stopping, best iteration is:\n",
      "[202]\tvalid_0's auc: 0.740459\n",
      "[LightGBM] [Warning] min_data_in_leaf is set=188, min_child_samples=20 will be ignored. Current value: min_data_in_leaf=188\n",
      "Training until validation scores don't improve for 400 rounds\n",
      "Early stopping, best iteration is:\n",
      "[389]\tvalid_0's auc: 0.740828\n"
     ]
    },
    {
     "name": "stderr",
     "output_type": "stream",
     "text": [
      "10it [01:25,  8.58s/it]\n",
      "\u001b[32m[I 2021-11-03 11:16:19,495]\u001b[0m Trial 48 finished with value: 0.7397130866877306 and parameters: {'learning_rate': 0.22010361607325207, 'n_estimators': 8859, 'max_depth': 7, 'num_leaves': 17, 'reg_alpha': 3.1044494656141337, 'reg_lambda': 3.457979452299728, 'min_data_in_leaf': 188}. Best is trial 19 with value: 0.7475782744060069.\u001b[0m\n",
      "0it [00:00, ?it/s]"
     ]
    },
    {
     "name": "stdout",
     "output_type": "stream",
     "text": [
      "[LightGBM] [Warning] min_data_in_leaf is set=870, min_child_samples=20 will be ignored. Current value: min_data_in_leaf=870\n",
      "Training until validation scores don't improve for 400 rounds\n"
     ]
    },
    {
     "name": "stderr",
     "output_type": "stream",
     "text": [
      "1it [00:08,  8.41s/it]"
     ]
    },
    {
     "name": "stdout",
     "output_type": "stream",
     "text": [
      "Early stopping, best iteration is:\n",
      "[66]\tvalid_0's auc: 0.7274\n",
      "[LightGBM] [Warning] min_data_in_leaf is set=870, min_child_samples=20 will be ignored. Current value: min_data_in_leaf=870\n",
      "Training until validation scores don't improve for 400 rounds\n"
     ]
    },
    {
     "name": "stderr",
     "output_type": "stream",
     "text": [
      "2it [00:17,  8.60s/it]"
     ]
    },
    {
     "name": "stdout",
     "output_type": "stream",
     "text": [
      "Early stopping, best iteration is:\n",
      "[87]\tvalid_0's auc: 0.730614\n",
      "[LightGBM] [Warning] min_data_in_leaf is set=870, min_child_samples=20 will be ignored. Current value: min_data_in_leaf=870\n",
      "Training until validation scores don't improve for 400 rounds\n"
     ]
    },
    {
     "name": "stderr",
     "output_type": "stream",
     "text": [
      "3it [00:25,  8.60s/it]"
     ]
    },
    {
     "name": "stdout",
     "output_type": "stream",
     "text": [
      "Early stopping, best iteration is:\n",
      "[77]\tvalid_0's auc: 0.730463\n",
      "[LightGBM] [Warning] min_data_in_leaf is set=870, min_child_samples=20 will be ignored. Current value: min_data_in_leaf=870\n",
      "Training until validation scores don't improve for 400 rounds\n"
     ]
    },
    {
     "name": "stderr",
     "output_type": "stream",
     "text": [
      "4it [00:34,  8.60s/it]"
     ]
    },
    {
     "name": "stdout",
     "output_type": "stream",
     "text": [
      "Early stopping, best iteration is:\n",
      "[81]\tvalid_0's auc: 0.728923\n",
      "[LightGBM] [Warning] min_data_in_leaf is set=870, min_child_samples=20 will be ignored. Current value: min_data_in_leaf=870\n",
      "Training until validation scores don't improve for 400 rounds\n"
     ]
    },
    {
     "name": "stderr",
     "output_type": "stream",
     "text": [
      "5it [00:42,  8.50s/it]"
     ]
    },
    {
     "name": "stdout",
     "output_type": "stream",
     "text": [
      "Early stopping, best iteration is:\n",
      "[66]\tvalid_0's auc: 0.726332\n",
      "[LightGBM] [Warning] min_data_in_leaf is set=870, min_child_samples=20 will be ignored. Current value: min_data_in_leaf=870\n",
      "Training until validation scores don't improve for 400 rounds\n"
     ]
    },
    {
     "name": "stderr",
     "output_type": "stream",
     "text": [
      "6it [00:50,  8.44s/it]"
     ]
    },
    {
     "name": "stdout",
     "output_type": "stream",
     "text": [
      "Early stopping, best iteration is:\n",
      "[65]\tvalid_0's auc: 0.728968\n",
      "[LightGBM] [Warning] min_data_in_leaf is set=870, min_child_samples=20 will be ignored. Current value: min_data_in_leaf=870\n",
      "Training until validation scores don't improve for 400 rounds\n"
     ]
    },
    {
     "name": "stderr",
     "output_type": "stream",
     "text": [
      "7it [00:58,  8.26s/it]"
     ]
    },
    {
     "name": "stdout",
     "output_type": "stream",
     "text": [
      "Early stopping, best iteration is:\n",
      "[71]\tvalid_0's auc: 0.725274\n",
      "[LightGBM] [Warning] min_data_in_leaf is set=870, min_child_samples=20 will be ignored. Current value: min_data_in_leaf=870\n",
      "Training until validation scores don't improve for 400 rounds\n"
     ]
    },
    {
     "name": "stderr",
     "output_type": "stream",
     "text": [
      "8it [01:07,  8.38s/it]"
     ]
    },
    {
     "name": "stdout",
     "output_type": "stream",
     "text": [
      "Early stopping, best iteration is:\n",
      "[75]\tvalid_0's auc: 0.731587\n",
      "[LightGBM] [Warning] min_data_in_leaf is set=870, min_child_samples=20 will be ignored. Current value: min_data_in_leaf=870\n",
      "Training until validation scores don't improve for 400 rounds\n"
     ]
    },
    {
     "name": "stderr",
     "output_type": "stream",
     "text": [
      "9it [01:16,  8.47s/it]"
     ]
    },
    {
     "name": "stdout",
     "output_type": "stream",
     "text": [
      "Early stopping, best iteration is:\n",
      "[78]\tvalid_0's auc: 0.728785\n",
      "[LightGBM] [Warning] min_data_in_leaf is set=870, min_child_samples=20 will be ignored. Current value: min_data_in_leaf=870\n",
      "Training until validation scores don't improve for 400 rounds\n"
     ]
    },
    {
     "name": "stderr",
     "output_type": "stream",
     "text": [
      "10it [01:24,  8.47s/it]\n",
      "\u001b[32m[I 2021-11-03 11:17:44,285]\u001b[0m Trial 49 finished with value: 0.7289972394048381 and parameters: {'learning_rate': 0.49585068323066506, 'n_estimators': 8227, 'max_depth': 10, 'num_leaves': 27, 'reg_alpha': 8.892264499947952, 'reg_lambda': 5.5744091350186205, 'min_data_in_leaf': 870}. Best is trial 19 with value: 0.7475782744060069.\u001b[0m\n"
     ]
    },
    {
     "name": "stdout",
     "output_type": "stream",
     "text": [
      "Early stopping, best iteration is:\n",
      "[65]\tvalid_0's auc: 0.731625\n"
     ]
    },
    {
     "name": "stderr",
     "output_type": "stream",
     "text": [
      "0it [00:00, ?it/s]"
     ]
    },
    {
     "name": "stdout",
     "output_type": "stream",
     "text": [
      "[LightGBM] [Warning] min_data_in_leaf is set=257, min_child_samples=20 will be ignored. Current value: min_data_in_leaf=257\n",
      "Training until validation scores don't improve for 400 rounds\n",
      "Early stopping, best iteration is:\n",
      "[1472]\tvalid_0's auc: 0.743227\n"
     ]
    },
    {
     "name": "stderr",
     "output_type": "stream",
     "text": [
      "1it [00:13, 13.69s/it]"
     ]
    },
    {
     "name": "stdout",
     "output_type": "stream",
     "text": [
      "[LightGBM] [Warning] min_data_in_leaf is set=257, min_child_samples=20 will be ignored. Current value: min_data_in_leaf=257\n",
      "Training until validation scores don't improve for 400 rounds\n",
      "Early stopping, best iteration is:\n",
      "[1075]\tvalid_0's auc: 0.743197\n"
     ]
    },
    {
     "name": "stderr",
     "output_type": "stream",
     "text": [
      "2it [00:25, 12.44s/it]"
     ]
    },
    {
     "name": "stdout",
     "output_type": "stream",
     "text": [
      "[LightGBM] [Warning] min_data_in_leaf is set=257, min_child_samples=20 will be ignored. Current value: min_data_in_leaf=257\n",
      "Training until validation scores don't improve for 400 rounds\n",
      "Early stopping, best iteration is:\n",
      "[708]\tvalid_0's auc: 0.746993\n"
     ]
    },
    {
     "name": "stderr",
     "output_type": "stream",
     "text": [
      "3it [00:34, 11.06s/it]"
     ]
    },
    {
     "name": "stdout",
     "output_type": "stream",
     "text": [
      "[LightGBM] [Warning] min_data_in_leaf is set=257, min_child_samples=20 will be ignored. Current value: min_data_in_leaf=257\n",
      "Training until validation scores don't improve for 400 rounds\n",
      "Early stopping, best iteration is:\n",
      "[1563]\tvalid_0's auc: 0.745956\n"
     ]
    },
    {
     "name": "stderr",
     "output_type": "stream",
     "text": [
      "4it [00:49, 12.44s/it]"
     ]
    },
    {
     "name": "stdout",
     "output_type": "stream",
     "text": [
      "[LightGBM] [Warning] min_data_in_leaf is set=257, min_child_samples=20 will be ignored. Current value: min_data_in_leaf=257\n",
      "Training until validation scores don't improve for 400 rounds\n",
      "Early stopping, best iteration is:\n",
      "[1327]\tvalid_0's auc: 0.746749\n"
     ]
    },
    {
     "name": "stderr",
     "output_type": "stream",
     "text": [
      "5it [01:02, 12.71s/it]"
     ]
    },
    {
     "name": "stdout",
     "output_type": "stream",
     "text": [
      "[LightGBM] [Warning] min_data_in_leaf is set=257, min_child_samples=20 will be ignored. Current value: min_data_in_leaf=257\n",
      "Training until validation scores don't improve for 400 rounds\n",
      "Early stopping, best iteration is:\n",
      "[1419]\tvalid_0's auc: 0.745729\n"
     ]
    },
    {
     "name": "stderr",
     "output_type": "stream",
     "text": [
      "6it [01:16, 13.05s/it]"
     ]
    },
    {
     "name": "stdout",
     "output_type": "stream",
     "text": [
      "[LightGBM] [Warning] min_data_in_leaf is set=257, min_child_samples=20 will be ignored. Current value: min_data_in_leaf=257\n",
      "Training until validation scores don't improve for 400 rounds\n",
      "Early stopping, best iteration is:\n",
      "[1832]\tvalid_0's auc: 0.746413\n"
     ]
    },
    {
     "name": "stderr",
     "output_type": "stream",
     "text": [
      "7it [01:32, 14.05s/it]"
     ]
    },
    {
     "name": "stdout",
     "output_type": "stream",
     "text": [
      "[LightGBM] [Warning] min_data_in_leaf is set=257, min_child_samples=20 will be ignored. Current value: min_data_in_leaf=257\n",
      "Training until validation scores don't improve for 400 rounds\n",
      "Early stopping, best iteration is:\n",
      "[1346]\tvalid_0's auc: 0.74502\n"
     ]
    },
    {
     "name": "stderr",
     "output_type": "stream",
     "text": [
      "8it [01:45, 13.74s/it]"
     ]
    },
    {
     "name": "stdout",
     "output_type": "stream",
     "text": [
      "[LightGBM] [Warning] min_data_in_leaf is set=257, min_child_samples=20 will be ignored. Current value: min_data_in_leaf=257\n",
      "Training until validation scores don't improve for 400 rounds\n",
      "Early stopping, best iteration is:\n",
      "[1272]\tvalid_0's auc: 0.743552\n"
     ]
    },
    {
     "name": "stderr",
     "output_type": "stream",
     "text": [
      "9it [01:58, 13.46s/it]"
     ]
    },
    {
     "name": "stdout",
     "output_type": "stream",
     "text": [
      "[LightGBM] [Warning] min_data_in_leaf is set=257, min_child_samples=20 will be ignored. Current value: min_data_in_leaf=257\n",
      "Training until validation scores don't improve for 400 rounds\n",
      "Early stopping, best iteration is:\n",
      "[1372]\tvalid_0's auc: 0.745878\n"
     ]
    },
    {
     "name": "stderr",
     "output_type": "stream",
     "text": [
      "10it [02:11, 13.14s/it]\n",
      "\u001b[32m[I 2021-11-03 11:19:55,852]\u001b[0m Trial 50 finished with value: 0.7452714872933265 and parameters: {'learning_rate': 0.15625862476035535, 'n_estimators': 3927, 'max_depth': 8, 'num_leaves': 5, 'reg_alpha': 4.415361089349103, 'reg_lambda': 8.84080575626092, 'min_data_in_leaf': 257}. Best is trial 19 with value: 0.7475782744060069.\u001b[0m\n",
      "0it [00:00, ?it/s]"
     ]
    },
    {
     "name": "stdout",
     "output_type": "stream",
     "text": [
      "[LightGBM] [Warning] min_data_in_leaf is set=578, min_child_samples=20 will be ignored. Current value: min_data_in_leaf=578\n",
      "Training until validation scores don't improve for 400 rounds\n",
      "Early stopping, best iteration is:\n",
      "[5200]\tvalid_0's auc: 0.748153\n"
     ]
    },
    {
     "name": "stderr",
     "output_type": "stream",
     "text": [
      "1it [00:42, 42.49s/it]"
     ]
    },
    {
     "name": "stdout",
     "output_type": "stream",
     "text": [
      "[LightGBM] [Warning] min_data_in_leaf is set=578, min_child_samples=20 will be ignored. Current value: min_data_in_leaf=578\n",
      "Training until validation scores don't improve for 400 rounds\n",
      "Early stopping, best iteration is:\n",
      "[4937]\tvalid_0's auc: 0.747722\n"
     ]
    },
    {
     "name": "stderr",
     "output_type": "stream",
     "text": [
      "2it [01:23, 41.40s/it]"
     ]
    },
    {
     "name": "stdout",
     "output_type": "stream",
     "text": [
      "[LightGBM] [Warning] min_data_in_leaf is set=578, min_child_samples=20 will be ignored. Current value: min_data_in_leaf=578\n",
      "Training until validation scores don't improve for 400 rounds\n",
      "Early stopping, best iteration is:\n",
      "[3989]\tvalid_0's auc: 0.745897\n"
     ]
    },
    {
     "name": "stderr",
     "output_type": "stream",
     "text": [
      "3it [01:58, 38.43s/it]"
     ]
    },
    {
     "name": "stdout",
     "output_type": "stream",
     "text": [
      "[LightGBM] [Warning] min_data_in_leaf is set=578, min_child_samples=20 will be ignored. Current value: min_data_in_leaf=578\n",
      "Training until validation scores don't improve for 400 rounds\n",
      "Early stopping, best iteration is:\n",
      "[3561]\tvalid_0's auc: 0.749905\n"
     ]
    },
    {
     "name": "stderr",
     "output_type": "stream",
     "text": [
      "4it [02:30, 36.02s/it]"
     ]
    },
    {
     "name": "stdout",
     "output_type": "stream",
     "text": [
      "[LightGBM] [Warning] min_data_in_leaf is set=578, min_child_samples=20 will be ignored. Current value: min_data_in_leaf=578\n",
      "Training until validation scores don't improve for 400 rounds\n",
      "Early stopping, best iteration is:\n",
      "[4717]\tvalid_0's auc: 0.743708\n"
     ]
    },
    {
     "name": "stderr",
     "output_type": "stream",
     "text": [
      "5it [03:10, 37.45s/it]"
     ]
    },
    {
     "name": "stdout",
     "output_type": "stream",
     "text": [
      "[LightGBM] [Warning] min_data_in_leaf is set=578, min_child_samples=20 will be ignored. Current value: min_data_in_leaf=578\n",
      "Training until validation scores don't improve for 400 rounds\n",
      "Early stopping, best iteration is:\n",
      "[4817]\tvalid_0's auc: 0.745989\n"
     ]
    },
    {
     "name": "stderr",
     "output_type": "stream",
     "text": [
      "6it [03:50, 38.40s/it]"
     ]
    },
    {
     "name": "stdout",
     "output_type": "stream",
     "text": [
      "[LightGBM] [Warning] min_data_in_leaf is set=578, min_child_samples=20 will be ignored. Current value: min_data_in_leaf=578\n",
      "Training until validation scores don't improve for 400 rounds\n",
      "Early stopping, best iteration is:\n",
      "[4719]\tvalid_0's auc: 0.745509\n"
     ]
    },
    {
     "name": "stderr",
     "output_type": "stream",
     "text": [
      "7it [04:29, 38.68s/it]"
     ]
    },
    {
     "name": "stdout",
     "output_type": "stream",
     "text": [
      "[LightGBM] [Warning] min_data_in_leaf is set=578, min_child_samples=20 will be ignored. Current value: min_data_in_leaf=578\n",
      "Training until validation scores don't improve for 400 rounds\n",
      "Early stopping, best iteration is:\n",
      "[5095]\tvalid_0's auc: 0.748706\n"
     ]
    },
    {
     "name": "stderr",
     "output_type": "stream",
     "text": [
      "8it [05:12, 39.90s/it]"
     ]
    },
    {
     "name": "stdout",
     "output_type": "stream",
     "text": [
      "[LightGBM] [Warning] min_data_in_leaf is set=578, min_child_samples=20 will be ignored. Current value: min_data_in_leaf=578\n",
      "Training until validation scores don't improve for 400 rounds\n",
      "Early stopping, best iteration is:\n",
      "[4190]\tvalid_0's auc: 0.743338\n"
     ]
    },
    {
     "name": "stderr",
     "output_type": "stream",
     "text": [
      "9it [05:48, 38.69s/it]"
     ]
    },
    {
     "name": "stdout",
     "output_type": "stream",
     "text": [
      "[LightGBM] [Warning] min_data_in_leaf is set=578, min_child_samples=20 will be ignored. Current value: min_data_in_leaf=578\n",
      "Training until validation scores don't improve for 400 rounds\n",
      "Early stopping, best iteration is:\n",
      "[3236]\tvalid_0's auc: 0.745641\n"
     ]
    },
    {
     "name": "stderr",
     "output_type": "stream",
     "text": [
      "10it [06:18, 37.86s/it]\n",
      "\u001b[32m[I 2021-11-03 11:26:14,585]\u001b[0m Trial 51 finished with value: 0.7464567286831494 and parameters: {'learning_rate': 0.03539064186727721, 'n_estimators': 9569, 'max_depth': 9, 'num_leaves': 7, 'reg_alpha': 5.053226155156072, 'reg_lambda': 3.9313198328701704, 'min_data_in_leaf': 578}. Best is trial 19 with value: 0.7475782744060069.\u001b[0m\n",
      "0it [00:00, ?it/s]"
     ]
    },
    {
     "name": "stdout",
     "output_type": "stream",
     "text": [
      "[LightGBM] [Warning] min_data_in_leaf is set=469, min_child_samples=20 will be ignored. Current value: min_data_in_leaf=469\n",
      "Training until validation scores don't improve for 400 rounds\n",
      "Early stopping, best iteration is:\n",
      "[3287]\tvalid_0's auc: 0.743913\n"
     ]
    },
    {
     "name": "stderr",
     "output_type": "stream",
     "text": [
      "1it [00:33, 33.15s/it]"
     ]
    },
    {
     "name": "stdout",
     "output_type": "stream",
     "text": [
      "[LightGBM] [Warning] min_data_in_leaf is set=469, min_child_samples=20 will be ignored. Current value: min_data_in_leaf=469\n",
      "Training until validation scores don't improve for 400 rounds\n",
      "Early stopping, best iteration is:\n",
      "[3409]\tvalid_0's auc: 0.749665\n"
     ]
    },
    {
     "name": "stderr",
     "output_type": "stream",
     "text": [
      "2it [01:07, 33.77s/it]"
     ]
    },
    {
     "name": "stdout",
     "output_type": "stream",
     "text": [
      "[LightGBM] [Warning] min_data_in_leaf is set=469, min_child_samples=20 will be ignored. Current value: min_data_in_leaf=469\n",
      "Training until validation scores don't improve for 400 rounds\n",
      "Early stopping, best iteration is:\n",
      "[3425]\tvalid_0's auc: 0.744755\n"
     ]
    },
    {
     "name": "stderr",
     "output_type": "stream",
     "text": [
      "3it [01:41, 33.95s/it]"
     ]
    },
    {
     "name": "stdout",
     "output_type": "stream",
     "text": [
      "[LightGBM] [Warning] min_data_in_leaf is set=469, min_child_samples=20 will be ignored. Current value: min_data_in_leaf=469\n",
      "Training until validation scores don't improve for 400 rounds\n",
      "Early stopping, best iteration is:\n",
      "[2316]\tvalid_0's auc: 0.747522\n"
     ]
    },
    {
     "name": "stderr",
     "output_type": "stream",
     "text": [
      "4it [02:08, 31.10s/it]"
     ]
    },
    {
     "name": "stdout",
     "output_type": "stream",
     "text": [
      "[LightGBM] [Warning] min_data_in_leaf is set=469, min_child_samples=20 will be ignored. Current value: min_data_in_leaf=469\n",
      "Training until validation scores don't improve for 400 rounds\n",
      "Early stopping, best iteration is:\n",
      "[3285]\tvalid_0's auc: 0.745902\n"
     ]
    },
    {
     "name": "stderr",
     "output_type": "stream",
     "text": [
      "5it [02:41, 31.93s/it]"
     ]
    },
    {
     "name": "stdout",
     "output_type": "stream",
     "text": [
      "[LightGBM] [Warning] min_data_in_leaf is set=469, min_child_samples=20 will be ignored. Current value: min_data_in_leaf=469\n",
      "Training until validation scores don't improve for 400 rounds\n",
      "Early stopping, best iteration is:\n",
      "[2790]\tvalid_0's auc: 0.748032\n"
     ]
    },
    {
     "name": "stderr",
     "output_type": "stream",
     "text": [
      "6it [03:11, 31.23s/it]"
     ]
    },
    {
     "name": "stdout",
     "output_type": "stream",
     "text": [
      "[LightGBM] [Warning] min_data_in_leaf is set=469, min_child_samples=20 will be ignored. Current value: min_data_in_leaf=469\n",
      "Training until validation scores don't improve for 400 rounds\n",
      "Early stopping, best iteration is:\n",
      "[2065]\tvalid_0's auc: 0.745761\n"
     ]
    },
    {
     "name": "stderr",
     "output_type": "stream",
     "text": [
      "7it [03:35, 28.96s/it]"
     ]
    },
    {
     "name": "stdout",
     "output_type": "stream",
     "text": [
      "[LightGBM] [Warning] min_data_in_leaf is set=469, min_child_samples=20 will be ignored. Current value: min_data_in_leaf=469\n",
      "Training until validation scores don't improve for 400 rounds\n",
      "Early stopping, best iteration is:\n",
      "[3332]\tvalid_0's auc: 0.745193\n"
     ]
    },
    {
     "name": "stderr",
     "output_type": "stream",
     "text": [
      "8it [04:09, 30.50s/it]"
     ]
    },
    {
     "name": "stdout",
     "output_type": "stream",
     "text": [
      "[LightGBM] [Warning] min_data_in_leaf is set=469, min_child_samples=20 will be ignored. Current value: min_data_in_leaf=469\n",
      "Training until validation scores don't improve for 400 rounds\n",
      "Early stopping, best iteration is:\n",
      "[4011]\tvalid_0's auc: 0.743583\n"
     ]
    },
    {
     "name": "stderr",
     "output_type": "stream",
     "text": [
      "9it [04:48, 33.21s/it]"
     ]
    },
    {
     "name": "stdout",
     "output_type": "stream",
     "text": [
      "[LightGBM] [Warning] min_data_in_leaf is set=469, min_child_samples=20 will be ignored. Current value: min_data_in_leaf=469\n",
      "Training until validation scores don't improve for 400 rounds\n",
      "Early stopping, best iteration is:\n",
      "[2398]\tvalid_0's auc: 0.746417\n"
     ]
    },
    {
     "name": "stderr",
     "output_type": "stream",
     "text": [
      "10it [05:15, 31.58s/it]\n",
      "\u001b[32m[I 2021-11-03 11:31:30,514]\u001b[0m Trial 52 finished with value: 0.746074300865344 and parameters: {'learning_rate': 0.040814276058447216, 'n_estimators': 9556, 'max_depth': 9, 'num_leaves': 10, 'reg_alpha': 5.109999518816748, 'reg_lambda': 3.91809658277512, 'min_data_in_leaf': 469}. Best is trial 19 with value: 0.7475782744060069.\u001b[0m\n",
      "0it [00:00, ?it/s]"
     ]
    },
    {
     "name": "stdout",
     "output_type": "stream",
     "text": [
      "[LightGBM] [Warning] min_data_in_leaf is set=555, min_child_samples=20 will be ignored. Current value: min_data_in_leaf=555\n",
      "Training until validation scores don't improve for 400 rounds\n",
      "Early stopping, best iteration is:\n",
      "[1904]\tvalid_0's auc: 0.74476\n"
     ]
    },
    {
     "name": "stderr",
     "output_type": "stream",
     "text": [
      "1it [00:17, 17.99s/it]"
     ]
    },
    {
     "name": "stdout",
     "output_type": "stream",
     "text": [
      "[LightGBM] [Warning] min_data_in_leaf is set=555, min_child_samples=20 will be ignored. Current value: min_data_in_leaf=555\n",
      "Training until validation scores don't improve for 400 rounds\n",
      "Early stopping, best iteration is:\n",
      "[1781]\tvalid_0's auc: 0.745258\n"
     ]
    },
    {
     "name": "stderr",
     "output_type": "stream",
     "text": [
      "2it [00:35, 17.56s/it]"
     ]
    },
    {
     "name": "stdout",
     "output_type": "stream",
     "text": [
      "[LightGBM] [Warning] min_data_in_leaf is set=555, min_child_samples=20 will be ignored. Current value: min_data_in_leaf=555\n",
      "Training until validation scores don't improve for 400 rounds\n",
      "Early stopping, best iteration is:\n",
      "[1393]\tvalid_0's auc: 0.743962\n"
     ]
    },
    {
     "name": "stderr",
     "output_type": "stream",
     "text": [
      "3it [00:49, 16.01s/it]"
     ]
    },
    {
     "name": "stdout",
     "output_type": "stream",
     "text": [
      "[LightGBM] [Warning] min_data_in_leaf is set=555, min_child_samples=20 will be ignored. Current value: min_data_in_leaf=555\n",
      "Training until validation scores don't improve for 400 rounds\n",
      "Early stopping, best iteration is:\n",
      "[1808]\tvalid_0's auc: 0.746429\n"
     ]
    },
    {
     "name": "stderr",
     "output_type": "stream",
     "text": [
      "4it [01:06, 16.52s/it]"
     ]
    },
    {
     "name": "stdout",
     "output_type": "stream",
     "text": [
      "[LightGBM] [Warning] min_data_in_leaf is set=555, min_child_samples=20 will be ignored. Current value: min_data_in_leaf=555\n",
      "Training until validation scores don't improve for 400 rounds\n",
      "Early stopping, best iteration is:\n",
      "[2106]\tvalid_0's auc: 0.744699\n"
     ]
    },
    {
     "name": "stderr",
     "output_type": "stream",
     "text": [
      "5it [01:25, 17.44s/it]"
     ]
    },
    {
     "name": "stdout",
     "output_type": "stream",
     "text": [
      "[LightGBM] [Warning] min_data_in_leaf is set=555, min_child_samples=20 will be ignored. Current value: min_data_in_leaf=555\n",
      "Training until validation scores don't improve for 400 rounds\n",
      "Early stopping, best iteration is:\n",
      "[1566]\tvalid_0's auc: 0.746344\n"
     ]
    },
    {
     "name": "stderr",
     "output_type": "stream",
     "text": [
      "6it [01:41, 16.80s/it]"
     ]
    },
    {
     "name": "stdout",
     "output_type": "stream",
     "text": [
      "[LightGBM] [Warning] min_data_in_leaf is set=555, min_child_samples=20 will be ignored. Current value: min_data_in_leaf=555\n",
      "Training until validation scores don't improve for 400 rounds\n",
      "Early stopping, best iteration is:\n",
      "[1981]\tvalid_0's auc: 0.746564\n"
     ]
    },
    {
     "name": "stderr",
     "output_type": "stream",
     "text": [
      "7it [01:59, 17.31s/it]"
     ]
    },
    {
     "name": "stdout",
     "output_type": "stream",
     "text": [
      "[LightGBM] [Warning] min_data_in_leaf is set=555, min_child_samples=20 will be ignored. Current value: min_data_in_leaf=555\n",
      "Training until validation scores don't improve for 400 rounds\n",
      "Early stopping, best iteration is:\n",
      "[2227]\tvalid_0's auc: 0.743535\n"
     ]
    },
    {
     "name": "stderr",
     "output_type": "stream",
     "text": [
      "8it [02:19, 18.15s/it]"
     ]
    },
    {
     "name": "stdout",
     "output_type": "stream",
     "text": [
      "[LightGBM] [Warning] min_data_in_leaf is set=555, min_child_samples=20 will be ignored. Current value: min_data_in_leaf=555\n",
      "Training until validation scores don't improve for 400 rounds\n",
      "Early stopping, best iteration is:\n",
      "[1742]\tvalid_0's auc: 0.748759\n"
     ]
    },
    {
     "name": "stderr",
     "output_type": "stream",
     "text": [
      "9it [02:36, 17.60s/it]"
     ]
    },
    {
     "name": "stdout",
     "output_type": "stream",
     "text": [
      "[LightGBM] [Warning] min_data_in_leaf is set=555, min_child_samples=20 will be ignored. Current value: min_data_in_leaf=555\n",
      "Training until validation scores don't improve for 400 rounds\n",
      "Early stopping, best iteration is:\n",
      "[1677]\tvalid_0's auc: 0.747477\n"
     ]
    },
    {
     "name": "stderr",
     "output_type": "stream",
     "text": [
      "10it [02:52, 17.22s/it]\n",
      "\u001b[32m[I 2021-11-03 11:34:22,818]\u001b[0m Trial 53 finished with value: 0.7457786135244 and parameters: {'learning_rate': 0.09331349897950451, 'n_estimators': 8995, 'max_depth': 10, 'num_leaves': 6, 'reg_alpha': 5.788728450412343, 'reg_lambda': 3.1834232236317104, 'min_data_in_leaf': 555}. Best is trial 19 with value: 0.7475782744060069.\u001b[0m\n",
      "0it [00:00, ?it/s]"
     ]
    },
    {
     "name": "stdout",
     "output_type": "stream",
     "text": [
      "[LightGBM] [Warning] min_data_in_leaf is set=581, min_child_samples=20 will be ignored. Current value: min_data_in_leaf=581\n",
      "Training until validation scores don't improve for 400 rounds\n",
      "Early stopping, best iteration is:\n",
      "[2530]\tvalid_0's auc: 0.744756\n"
     ]
    },
    {
     "name": "stderr",
     "output_type": "stream",
     "text": [
      "1it [00:32, 32.71s/it]"
     ]
    },
    {
     "name": "stdout",
     "output_type": "stream",
     "text": [
      "[LightGBM] [Warning] min_data_in_leaf is set=581, min_child_samples=20 will be ignored. Current value: min_data_in_leaf=581\n",
      "Training until validation scores don't improve for 400 rounds\n",
      "Early stopping, best iteration is:\n",
      "[2219]\tvalid_0's auc: 0.742244\n"
     ]
    },
    {
     "name": "stderr",
     "output_type": "stream",
     "text": [
      "2it [01:02, 30.78s/it]"
     ]
    },
    {
     "name": "stdout",
     "output_type": "stream",
     "text": [
      "[LightGBM] [Warning] min_data_in_leaf is set=581, min_child_samples=20 will be ignored. Current value: min_data_in_leaf=581\n",
      "Training until validation scores don't improve for 400 rounds\n",
      "Early stopping, best iteration is:\n",
      "[2229]\tvalid_0's auc: 0.744228\n"
     ]
    },
    {
     "name": "stderr",
     "output_type": "stream",
     "text": [
      "3it [01:31, 30.36s/it]"
     ]
    },
    {
     "name": "stdout",
     "output_type": "stream",
     "text": [
      "[LightGBM] [Warning] min_data_in_leaf is set=581, min_child_samples=20 will be ignored. Current value: min_data_in_leaf=581\n",
      "Training until validation scores don't improve for 400 rounds\n",
      "Early stopping, best iteration is:\n",
      "[2289]\tvalid_0's auc: 0.747201\n"
     ]
    },
    {
     "name": "stderr",
     "output_type": "stream",
     "text": [
      "4it [02:01, 30.19s/it]"
     ]
    },
    {
     "name": "stdout",
     "output_type": "stream",
     "text": [
      "[LightGBM] [Warning] min_data_in_leaf is set=581, min_child_samples=20 will be ignored. Current value: min_data_in_leaf=581\n",
      "Training until validation scores don't improve for 400 rounds\n",
      "Early stopping, best iteration is:\n",
      "[2260]\tvalid_0's auc: 0.747756\n"
     ]
    },
    {
     "name": "stderr",
     "output_type": "stream",
     "text": [
      "5it [02:31, 29.96s/it]"
     ]
    },
    {
     "name": "stdout",
     "output_type": "stream",
     "text": [
      "[LightGBM] [Warning] min_data_in_leaf is set=581, min_child_samples=20 will be ignored. Current value: min_data_in_leaf=581\n",
      "Training until validation scores don't improve for 400 rounds\n",
      "Early stopping, best iteration is:\n",
      "[3604]\tvalid_0's auc: 0.747326\n"
     ]
    },
    {
     "name": "stderr",
     "output_type": "stream",
     "text": [
      "6it [03:13, 34.00s/it]"
     ]
    },
    {
     "name": "stdout",
     "output_type": "stream",
     "text": [
      "[LightGBM] [Warning] min_data_in_leaf is set=581, min_child_samples=20 will be ignored. Current value: min_data_in_leaf=581\n",
      "Training until validation scores don't improve for 400 rounds\n",
      "Early stopping, best iteration is:\n",
      "[3054]\tvalid_0's auc: 0.746866\n"
     ]
    },
    {
     "name": "stderr",
     "output_type": "stream",
     "text": [
      "7it [03:50, 34.92s/it]"
     ]
    },
    {
     "name": "stdout",
     "output_type": "stream",
     "text": [
      "[LightGBM] [Warning] min_data_in_leaf is set=581, min_child_samples=20 will be ignored. Current value: min_data_in_leaf=581\n",
      "Training until validation scores don't improve for 400 rounds\n",
      "Early stopping, best iteration is:\n",
      "[2414]\tvalid_0's auc: 0.748044\n"
     ]
    },
    {
     "name": "stderr",
     "output_type": "stream",
     "text": [
      "8it [04:21, 33.70s/it]"
     ]
    },
    {
     "name": "stdout",
     "output_type": "stream",
     "text": [
      "[LightGBM] [Warning] min_data_in_leaf is set=581, min_child_samples=20 will be ignored. Current value: min_data_in_leaf=581\n",
      "Training until validation scores don't improve for 400 rounds\n",
      "Early stopping, best iteration is:\n",
      "[3371]\tvalid_0's auc: 0.745005\n"
     ]
    },
    {
     "name": "stderr",
     "output_type": "stream",
     "text": [
      "9it [05:00, 35.56s/it]"
     ]
    },
    {
     "name": "stdout",
     "output_type": "stream",
     "text": [
      "[LightGBM] [Warning] min_data_in_leaf is set=581, min_child_samples=20 will be ignored. Current value: min_data_in_leaf=581\n",
      "Training until validation scores don't improve for 400 rounds\n",
      "Early stopping, best iteration is:\n",
      "[2141]\tvalid_0's auc: 0.746103\n"
     ]
    },
    {
     "name": "stderr",
     "output_type": "stream",
     "text": [
      "10it [05:29, 32.96s/it]\n",
      "\u001b[32m[I 2021-11-03 11:39:52,607]\u001b[0m Trial 54 finished with value: 0.7459529001003722 and parameters: {'learning_rate': 0.03488007917914762, 'n_estimators': 9675, 'max_depth': 9, 'num_leaves': 14, 'reg_alpha': 6.43124588482719, 'reg_lambda': 4.801980003601413, 'min_data_in_leaf': 581}. Best is trial 19 with value: 0.7475782744060069.\u001b[0m\n",
      "0it [00:00, ?it/s]"
     ]
    },
    {
     "name": "stdout",
     "output_type": "stream",
     "text": [
      "[LightGBM] [Warning] min_data_in_leaf is set=423, min_child_samples=20 will be ignored. Current value: min_data_in_leaf=423\n",
      "Training until validation scores don't improve for 400 rounds\n",
      "Early stopping, best iteration is:\n",
      "[1358]\tvalid_0's auc: 0.746259\n"
     ]
    },
    {
     "name": "stderr",
     "output_type": "stream",
     "text": [
      "1it [00:13, 13.58s/it]"
     ]
    },
    {
     "name": "stdout",
     "output_type": "stream",
     "text": [
      "[LightGBM] [Warning] min_data_in_leaf is set=423, min_child_samples=20 will be ignored. Current value: min_data_in_leaf=423\n",
      "Training until validation scores don't improve for 400 rounds\n",
      "Early stopping, best iteration is:\n",
      "[1166]\tvalid_0's auc: 0.741647\n"
     ]
    },
    {
     "name": "stderr",
     "output_type": "stream",
     "text": [
      "2it [00:26, 13.25s/it]"
     ]
    },
    {
     "name": "stdout",
     "output_type": "stream",
     "text": [
      "[LightGBM] [Warning] min_data_in_leaf is set=423, min_child_samples=20 will be ignored. Current value: min_data_in_leaf=423\n",
      "Training until validation scores don't improve for 400 rounds\n",
      "Early stopping, best iteration is:\n",
      "[1718]\tvalid_0's auc: 0.746175\n"
     ]
    },
    {
     "name": "stderr",
     "output_type": "stream",
     "text": [
      "3it [00:42, 14.63s/it]"
     ]
    },
    {
     "name": "stdout",
     "output_type": "stream",
     "text": [
      "[LightGBM] [Warning] min_data_in_leaf is set=423, min_child_samples=20 will be ignored. Current value: min_data_in_leaf=423\n",
      "Training until validation scores don't improve for 400 rounds\n",
      "Early stopping, best iteration is:\n",
      "[1283]\tvalid_0's auc: 0.747552\n"
     ]
    },
    {
     "name": "stderr",
     "output_type": "stream",
     "text": [
      "4it [00:56, 14.17s/it]"
     ]
    },
    {
     "name": "stdout",
     "output_type": "stream",
     "text": [
      "[LightGBM] [Warning] min_data_in_leaf is set=423, min_child_samples=20 will be ignored. Current value: min_data_in_leaf=423\n",
      "Training until validation scores don't improve for 400 rounds\n",
      "Early stopping, best iteration is:\n",
      "[1577]\tvalid_0's auc: 0.74516\n"
     ]
    },
    {
     "name": "stderr",
     "output_type": "stream",
     "text": [
      "5it [01:11, 14.44s/it]"
     ]
    },
    {
     "name": "stdout",
     "output_type": "stream",
     "text": [
      "[LightGBM] [Warning] min_data_in_leaf is set=423, min_child_samples=20 will be ignored. Current value: min_data_in_leaf=423\n",
      "Training until validation scores don't improve for 400 rounds\n",
      "Early stopping, best iteration is:\n",
      "[1730]\tvalid_0's auc: 0.745249\n"
     ]
    },
    {
     "name": "stderr",
     "output_type": "stream",
     "text": [
      "6it [01:27, 15.08s/it]"
     ]
    },
    {
     "name": "stdout",
     "output_type": "stream",
     "text": [
      "[LightGBM] [Warning] min_data_in_leaf is set=423, min_child_samples=20 will be ignored. Current value: min_data_in_leaf=423\n",
      "Training until validation scores don't improve for 400 rounds\n",
      "Early stopping, best iteration is:\n",
      "[1179]\tvalid_0's auc: 0.744682\n"
     ]
    },
    {
     "name": "stderr",
     "output_type": "stream",
     "text": [
      "7it [01:40, 14.34s/it]"
     ]
    },
    {
     "name": "stdout",
     "output_type": "stream",
     "text": [
      "[LightGBM] [Warning] min_data_in_leaf is set=423, min_child_samples=20 will be ignored. Current value: min_data_in_leaf=423\n",
      "Training until validation scores don't improve for 400 rounds\n",
      "Early stopping, best iteration is:\n",
      "[1422]\tvalid_0's auc: 0.745199\n"
     ]
    },
    {
     "name": "stderr",
     "output_type": "stream",
     "text": [
      "8it [01:54, 14.29s/it]"
     ]
    },
    {
     "name": "stdout",
     "output_type": "stream",
     "text": [
      "[LightGBM] [Warning] min_data_in_leaf is set=423, min_child_samples=20 will be ignored. Current value: min_data_in_leaf=423\n",
      "Training until validation scores don't improve for 400 rounds\n",
      "Early stopping, best iteration is:\n",
      "[1191]\tvalid_0's auc: 0.746244\n"
     ]
    },
    {
     "name": "stderr",
     "output_type": "stream",
     "text": [
      "9it [02:07, 13.83s/it]"
     ]
    },
    {
     "name": "stdout",
     "output_type": "stream",
     "text": [
      "[LightGBM] [Warning] min_data_in_leaf is set=423, min_child_samples=20 will be ignored. Current value: min_data_in_leaf=423\n",
      "Training until validation scores don't improve for 400 rounds\n",
      "Early stopping, best iteration is:\n",
      "[1119]\tvalid_0's auc: 0.742627\n"
     ]
    },
    {
     "name": "stderr",
     "output_type": "stream",
     "text": [
      "10it [02:20, 14.01s/it]\n",
      "\u001b[32m[I 2021-11-03 11:42:12,897]\u001b[0m Trial 55 finished with value: 0.7450795301430346 and parameters: {'learning_rate': 0.13603351736421315, 'n_estimators': 5947, 'max_depth': 7, 'num_leaves': 6, 'reg_alpha': 4.0287976370441845, 'reg_lambda': 5.1667210189881185, 'min_data_in_leaf': 423}. Best is trial 19 with value: 0.7475782744060069.\u001b[0m\n",
      "0it [00:00, ?it/s]"
     ]
    },
    {
     "name": "stdout",
     "output_type": "stream",
     "text": [
      "[LightGBM] [Warning] min_data_in_leaf is set=747, min_child_samples=20 will be ignored. Current value: min_data_in_leaf=747\n",
      "Training until validation scores don't improve for 400 rounds\n"
     ]
    },
    {
     "name": "stderr",
     "output_type": "stream",
     "text": [
      "1it [00:15, 15.47s/it]"
     ]
    },
    {
     "name": "stdout",
     "output_type": "stream",
     "text": [
      "Early stopping, best iteration is:\n",
      "[92]\tvalid_0's auc: 0.725702\n",
      "[LightGBM] [Warning] min_data_in_leaf is set=747, min_child_samples=20 will be ignored. Current value: min_data_in_leaf=747\n",
      "Training until validation scores don't improve for 400 rounds\n"
     ]
    },
    {
     "name": "stderr",
     "output_type": "stream",
     "text": [
      "2it [00:30, 15.39s/it]"
     ]
    },
    {
     "name": "stdout",
     "output_type": "stream",
     "text": [
      "Early stopping, best iteration is:\n",
      "[87]\tvalid_0's auc: 0.731561\n",
      "[LightGBM] [Warning] min_data_in_leaf is set=747, min_child_samples=20 will be ignored. Current value: min_data_in_leaf=747\n",
      "Training until validation scores don't improve for 400 rounds\n"
     ]
    },
    {
     "name": "stderr",
     "output_type": "stream",
     "text": [
      "3it [00:45, 15.29s/it]"
     ]
    },
    {
     "name": "stdout",
     "output_type": "stream",
     "text": [
      "Early stopping, best iteration is:\n",
      "[85]\tvalid_0's auc: 0.731443\n",
      "[LightGBM] [Warning] min_data_in_leaf is set=747, min_child_samples=20 will be ignored. Current value: min_data_in_leaf=747\n",
      "Training until validation scores don't improve for 400 rounds\n"
     ]
    },
    {
     "name": "stderr",
     "output_type": "stream",
     "text": [
      "4it [01:01, 15.34s/it]"
     ]
    },
    {
     "name": "stdout",
     "output_type": "stream",
     "text": [
      "Early stopping, best iteration is:\n",
      "[91]\tvalid_0's auc: 0.730628\n",
      "[LightGBM] [Warning] min_data_in_leaf is set=747, min_child_samples=20 will be ignored. Current value: min_data_in_leaf=747\n",
      "Training until validation scores don't improve for 400 rounds\n"
     ]
    },
    {
     "name": "stderr",
     "output_type": "stream",
     "text": [
      "5it [01:16, 15.22s/it]"
     ]
    },
    {
     "name": "stdout",
     "output_type": "stream",
     "text": [
      "Early stopping, best iteration is:\n",
      "[80]\tvalid_0's auc: 0.727009\n",
      "[LightGBM] [Warning] min_data_in_leaf is set=747, min_child_samples=20 will be ignored. Current value: min_data_in_leaf=747\n",
      "Training until validation scores don't improve for 400 rounds\n"
     ]
    },
    {
     "name": "stderr",
     "output_type": "stream",
     "text": [
      "6it [01:31, 15.24s/it]"
     ]
    },
    {
     "name": "stdout",
     "output_type": "stream",
     "text": [
      "Early stopping, best iteration is:\n",
      "[88]\tvalid_0's auc: 0.730593\n",
      "[LightGBM] [Warning] min_data_in_leaf is set=747, min_child_samples=20 will be ignored. Current value: min_data_in_leaf=747\n",
      "Training until validation scores don't improve for 400 rounds\n"
     ]
    },
    {
     "name": "stderr",
     "output_type": "stream",
     "text": [
      "7it [01:46, 15.22s/it]"
     ]
    },
    {
     "name": "stdout",
     "output_type": "stream",
     "text": [
      "Early stopping, best iteration is:\n",
      "[80]\tvalid_0's auc: 0.730898\n",
      "[LightGBM] [Warning] min_data_in_leaf is set=747, min_child_samples=20 will be ignored. Current value: min_data_in_leaf=747\n",
      "Training until validation scores don't improve for 400 rounds\n"
     ]
    },
    {
     "name": "stderr",
     "output_type": "stream",
     "text": [
      "8it [02:01, 15.19s/it]"
     ]
    },
    {
     "name": "stdout",
     "output_type": "stream",
     "text": [
      "Early stopping, best iteration is:\n",
      "[84]\tvalid_0's auc: 0.730778\n",
      "[LightGBM] [Warning] min_data_in_leaf is set=747, min_child_samples=20 will be ignored. Current value: min_data_in_leaf=747\n",
      "Training until validation scores don't improve for 400 rounds\n"
     ]
    },
    {
     "name": "stderr",
     "output_type": "stream",
     "text": [
      "9it [02:17, 15.33s/it]"
     ]
    },
    {
     "name": "stdout",
     "output_type": "stream",
     "text": [
      "Early stopping, best iteration is:\n",
      "[106]\tvalid_0's auc: 0.727919\n",
      "[LightGBM] [Warning] min_data_in_leaf is set=747, min_child_samples=20 will be ignored. Current value: min_data_in_leaf=747\n",
      "Training until validation scores don't improve for 400 rounds\n"
     ]
    },
    {
     "name": "stderr",
     "output_type": "stream",
     "text": [
      "10it [02:32, 15.26s/it]\n",
      "\u001b[32m[I 2021-11-03 11:44:45,621]\u001b[0m Trial 56 finished with value: 0.729503008179007 and parameters: {'learning_rate': 0.3438094163891805, 'n_estimators': 9213, 'max_depth': 8, 'num_leaves': 92, 'reg_alpha': 9.990536578521628, 'reg_lambda': 4.602126518869193, 'min_data_in_leaf': 747}. Best is trial 19 with value: 0.7475782744060069.\u001b[0m\n"
     ]
    },
    {
     "name": "stdout",
     "output_type": "stream",
     "text": [
      "Early stopping, best iteration is:\n",
      "[77]\tvalid_0's auc: 0.728499\n"
     ]
    },
    {
     "name": "stderr",
     "output_type": "stream",
     "text": [
      "0it [00:00, ?it/s]"
     ]
    },
    {
     "name": "stdout",
     "output_type": "stream",
     "text": [
      "[LightGBM] [Warning] min_data_in_leaf is set=618, min_child_samples=20 will be ignored. Current value: min_data_in_leaf=618\n",
      "Training until validation scores don't improve for 400 rounds\n",
      "Did not meet early stopping. Best iteration is:\n",
      "[6954]\tvalid_0's auc: 0.744074\n"
     ]
    },
    {
     "name": "stderr",
     "output_type": "stream",
     "text": [
      "1it [00:40, 40.05s/it]"
     ]
    },
    {
     "name": "stdout",
     "output_type": "stream",
     "text": [
      "[LightGBM] [Warning] min_data_in_leaf is set=618, min_child_samples=20 will be ignored. Current value: min_data_in_leaf=618\n",
      "Training until validation scores don't improve for 400 rounds\n",
      "Early stopping, best iteration is:\n",
      "[6535]\tvalid_0's auc: 0.742412\n"
     ]
    },
    {
     "name": "stderr",
     "output_type": "stream",
     "text": [
      "2it [01:19, 39.85s/it]"
     ]
    },
    {
     "name": "stdout",
     "output_type": "stream",
     "text": [
      "[LightGBM] [Warning] min_data_in_leaf is set=618, min_child_samples=20 will be ignored. Current value: min_data_in_leaf=618\n",
      "Training until validation scores don't improve for 400 rounds\n",
      "Early stopping, best iteration is:\n",
      "[6057]\tvalid_0's auc: 0.747344\n"
     ]
    },
    {
     "name": "stderr",
     "output_type": "stream",
     "text": [
      "3it [01:56, 38.59s/it]"
     ]
    },
    {
     "name": "stdout",
     "output_type": "stream",
     "text": [
      "[LightGBM] [Warning] min_data_in_leaf is set=618, min_child_samples=20 will be ignored. Current value: min_data_in_leaf=618\n",
      "Training until validation scores don't improve for 400 rounds\n",
      "Early stopping, best iteration is:\n",
      "[6426]\tvalid_0's auc: 0.747454\n"
     ]
    },
    {
     "name": "stderr",
     "output_type": "stream",
     "text": [
      "4it [02:36, 38.85s/it]"
     ]
    },
    {
     "name": "stdout",
     "output_type": "stream",
     "text": [
      "[LightGBM] [Warning] min_data_in_leaf is set=618, min_child_samples=20 will be ignored. Current value: min_data_in_leaf=618\n",
      "Training until validation scores don't improve for 400 rounds\n",
      "Did not meet early stopping. Best iteration is:\n",
      "[6817]\tvalid_0's auc: 0.749458\n"
     ]
    },
    {
     "name": "stderr",
     "output_type": "stream",
     "text": [
      "5it [03:16, 39.29s/it]"
     ]
    },
    {
     "name": "stdout",
     "output_type": "stream",
     "text": [
      "[LightGBM] [Warning] min_data_in_leaf is set=618, min_child_samples=20 will be ignored. Current value: min_data_in_leaf=618\n",
      "Training until validation scores don't improve for 400 rounds\n",
      "Early stopping, best iteration is:\n",
      "[5742]\tvalid_0's auc: 0.745759\n"
     ]
    },
    {
     "name": "stderr",
     "output_type": "stream",
     "text": [
      "6it [03:51, 38.00s/it]"
     ]
    },
    {
     "name": "stdout",
     "output_type": "stream",
     "text": [
      "[LightGBM] [Warning] min_data_in_leaf is set=618, min_child_samples=20 will be ignored. Current value: min_data_in_leaf=618\n",
      "Training until validation scores don't improve for 400 rounds\n",
      "Early stopping, best iteration is:\n",
      "[5646]\tvalid_0's auc: 0.750471\n"
     ]
    },
    {
     "name": "stderr",
     "output_type": "stream",
     "text": [
      "7it [04:26, 36.99s/it]"
     ]
    },
    {
     "name": "stdout",
     "output_type": "stream",
     "text": [
      "[LightGBM] [Warning] min_data_in_leaf is set=618, min_child_samples=20 will be ignored. Current value: min_data_in_leaf=618\n",
      "Training until validation scores don't improve for 400 rounds\n",
      "Did not meet early stopping. Best iteration is:\n",
      "[6894]\tvalid_0's auc: 0.749561\n"
     ]
    },
    {
     "name": "stderr",
     "output_type": "stream",
     "text": [
      "8it [05:06, 37.94s/it]"
     ]
    },
    {
     "name": "stdout",
     "output_type": "stream",
     "text": [
      "[LightGBM] [Warning] min_data_in_leaf is set=618, min_child_samples=20 will be ignored. Current value: min_data_in_leaf=618\n",
      "Training until validation scores don't improve for 400 rounds\n",
      "Early stopping, best iteration is:\n",
      "[6153]\tvalid_0's auc: 0.748282\n"
     ]
    },
    {
     "name": "stderr",
     "output_type": "stream",
     "text": [
      "9it [05:44, 37.82s/it]"
     ]
    },
    {
     "name": "stdout",
     "output_type": "stream",
     "text": [
      "[LightGBM] [Warning] min_data_in_leaf is set=618, min_child_samples=20 will be ignored. Current value: min_data_in_leaf=618\n",
      "Training until validation scores don't improve for 400 rounds\n",
      "Early stopping, best iteration is:\n",
      "[6534]\tvalid_0's auc: 0.749558\n"
     ]
    },
    {
     "name": "stderr",
     "output_type": "stream",
     "text": [
      "10it [06:23, 38.38s/it]\n",
      "\u001b[32m[I 2021-11-03 11:51:09,511]\u001b[0m Trial 57 finished with value: 0.7474371581313928 and parameters: {'learning_rate': 0.0858660856033237, 'n_estimators': 6960, 'max_depth': 8, 'num_leaves': 2, 'reg_alpha': 4.414580118391019, 'reg_lambda': 4.069116423493761, 'min_data_in_leaf': 618}. Best is trial 19 with value: 0.7475782744060069.\u001b[0m\n",
      "0it [00:00, ?it/s]"
     ]
    },
    {
     "name": "stdout",
     "output_type": "stream",
     "text": [
      "[LightGBM] [Warning] min_data_in_leaf is set=606, min_child_samples=20 will be ignored. Current value: min_data_in_leaf=606\n",
      "Training until validation scores don't improve for 400 rounds\n",
      "Early stopping, best iteration is:\n",
      "[436]\tvalid_0's auc: 0.746345\n"
     ]
    },
    {
     "name": "stderr",
     "output_type": "stream",
     "text": [
      "1it [00:23, 23.29s/it]"
     ]
    },
    {
     "name": "stdout",
     "output_type": "stream",
     "text": [
      "[LightGBM] [Warning] min_data_in_leaf is set=606, min_child_samples=20 will be ignored. Current value: min_data_in_leaf=606\n",
      "Training until validation scores don't improve for 400 rounds\n",
      "Early stopping, best iteration is:\n",
      "[476]\tvalid_0's auc: 0.739055\n"
     ]
    },
    {
     "name": "stderr",
     "output_type": "stream",
     "text": [
      "2it [00:47, 23.77s/it]"
     ]
    },
    {
     "name": "stdout",
     "output_type": "stream",
     "text": [
      "[LightGBM] [Warning] min_data_in_leaf is set=606, min_child_samples=20 will be ignored. Current value: min_data_in_leaf=606\n",
      "Training until validation scores don't improve for 400 rounds\n",
      "Early stopping, best iteration is:\n",
      "[433]\tvalid_0's auc: 0.74224\n"
     ]
    },
    {
     "name": "stderr",
     "output_type": "stream",
     "text": [
      "3it [01:10, 23.52s/it]"
     ]
    },
    {
     "name": "stdout",
     "output_type": "stream",
     "text": [
      "[LightGBM] [Warning] min_data_in_leaf is set=606, min_child_samples=20 will be ignored. Current value: min_data_in_leaf=606\n",
      "Training until validation scores don't improve for 400 rounds\n",
      "Early stopping, best iteration is:\n",
      "[464]\tvalid_0's auc: 0.744883\n"
     ]
    },
    {
     "name": "stderr",
     "output_type": "stream",
     "text": [
      "4it [01:34, 23.79s/it]"
     ]
    },
    {
     "name": "stdout",
     "output_type": "stream",
     "text": [
      "[LightGBM] [Warning] min_data_in_leaf is set=606, min_child_samples=20 will be ignored. Current value: min_data_in_leaf=606\n",
      "Training until validation scores don't improve for 400 rounds\n",
      "Early stopping, best iteration is:\n",
      "[541]\tvalid_0's auc: 0.743805\n"
     ]
    },
    {
     "name": "stderr",
     "output_type": "stream",
     "text": [
      "5it [02:01, 24.71s/it]"
     ]
    },
    {
     "name": "stdout",
     "output_type": "stream",
     "text": [
      "[LightGBM] [Warning] min_data_in_leaf is set=606, min_child_samples=20 will be ignored. Current value: min_data_in_leaf=606\n",
      "Training until validation scores don't improve for 400 rounds\n",
      "Early stopping, best iteration is:\n",
      "[619]\tvalid_0's auc: 0.739854\n"
     ]
    },
    {
     "name": "stderr",
     "output_type": "stream",
     "text": [
      "6it [02:29, 25.87s/it]"
     ]
    },
    {
     "name": "stdout",
     "output_type": "stream",
     "text": [
      "[LightGBM] [Warning] min_data_in_leaf is set=606, min_child_samples=20 will be ignored. Current value: min_data_in_leaf=606\n",
      "Training until validation scores don't improve for 400 rounds\n",
      "Early stopping, best iteration is:\n",
      "[543]\tvalid_0's auc: 0.744047\n"
     ]
    },
    {
     "name": "stderr",
     "output_type": "stream",
     "text": [
      "7it [02:55, 26.02s/it]"
     ]
    },
    {
     "name": "stdout",
     "output_type": "stream",
     "text": [
      "[LightGBM] [Warning] min_data_in_leaf is set=606, min_child_samples=20 will be ignored. Current value: min_data_in_leaf=606\n",
      "Training until validation scores don't improve for 400 rounds\n",
      "Early stopping, best iteration is:\n",
      "[425]\tvalid_0's auc: 0.742537\n"
     ]
    },
    {
     "name": "stderr",
     "output_type": "stream",
     "text": [
      "8it [03:19, 25.19s/it]"
     ]
    },
    {
     "name": "stdout",
     "output_type": "stream",
     "text": [
      "[LightGBM] [Warning] min_data_in_leaf is set=606, min_child_samples=20 will be ignored. Current value: min_data_in_leaf=606\n",
      "Training until validation scores don't improve for 400 rounds\n",
      "Early stopping, best iteration is:\n",
      "[469]\tvalid_0's auc: 0.741736\n"
     ]
    },
    {
     "name": "stderr",
     "output_type": "stream",
     "text": [
      "9it [03:43, 24.88s/it]"
     ]
    },
    {
     "name": "stdout",
     "output_type": "stream",
     "text": [
      "[LightGBM] [Warning] min_data_in_leaf is set=606, min_child_samples=20 will be ignored. Current value: min_data_in_leaf=606\n",
      "Training until validation scores don't improve for 400 rounds\n",
      "Early stopping, best iteration is:\n",
      "[532]\tvalid_0's auc: 0.745578\n"
     ]
    },
    {
     "name": "stderr",
     "output_type": "stream",
     "text": [
      "10it [04:09, 24.91s/it]\n",
      "\u001b[32m[I 2021-11-03 11:55:18,773]\u001b[0m Trial 58 finished with value: 0.7430080900330374 and parameters: {'learning_rate': 0.07674290118991528, 'n_estimators': 6734, 'max_depth': 9, 'num_leaves': 73, 'reg_alpha': 6.965786958213071, 'reg_lambda': 6.19000962784852, 'min_data_in_leaf': 606}. Best is trial 19 with value: 0.7475782744060069.\u001b[0m\n",
      "0it [00:00, ?it/s]"
     ]
    },
    {
     "name": "stdout",
     "output_type": "stream",
     "text": [
      "[LightGBM] [Warning] min_data_in_leaf is set=665, min_child_samples=20 will be ignored. Current value: min_data_in_leaf=665\n",
      "Training until validation scores don't improve for 400 rounds\n",
      "Early stopping, best iteration is:\n",
      "[514]\tvalid_0's auc: 0.743712\n"
     ]
    },
    {
     "name": "stderr",
     "output_type": "stream",
     "text": [
      "1it [00:09,  9.61s/it]"
     ]
    },
    {
     "name": "stdout",
     "output_type": "stream",
     "text": [
      "[LightGBM] [Warning] min_data_in_leaf is set=665, min_child_samples=20 will be ignored. Current value: min_data_in_leaf=665\n",
      "Training until validation scores don't improve for 400 rounds\n",
      "Early stopping, best iteration is:\n",
      "[392]\tvalid_0's auc: 0.743817\n"
     ]
    },
    {
     "name": "stderr",
     "output_type": "stream",
     "text": [
      "2it [00:18,  9.37s/it]"
     ]
    },
    {
     "name": "stdout",
     "output_type": "stream",
     "text": [
      "[LightGBM] [Warning] min_data_in_leaf is set=665, min_child_samples=20 will be ignored. Current value: min_data_in_leaf=665\n",
      "Training until validation scores don't improve for 400 rounds\n",
      "Early stopping, best iteration is:\n",
      "[452]\tvalid_0's auc: 0.745884\n"
     ]
    },
    {
     "name": "stderr",
     "output_type": "stream",
     "text": [
      "3it [00:28,  9.46s/it]"
     ]
    },
    {
     "name": "stdout",
     "output_type": "stream",
     "text": [
      "[LightGBM] [Warning] min_data_in_leaf is set=665, min_child_samples=20 will be ignored. Current value: min_data_in_leaf=665\n",
      "Training until validation scores don't improve for 400 rounds\n",
      "Early stopping, best iteration is:\n",
      "[377]\tvalid_0's auc: 0.740845\n"
     ]
    },
    {
     "name": "stderr",
     "output_type": "stream",
     "text": [
      "4it [00:37,  9.27s/it]"
     ]
    },
    {
     "name": "stdout",
     "output_type": "stream",
     "text": [
      "[LightGBM] [Warning] min_data_in_leaf is set=665, min_child_samples=20 will be ignored. Current value: min_data_in_leaf=665\n",
      "Training until validation scores don't improve for 400 rounds\n",
      "Early stopping, best iteration is:\n",
      "[458]\tvalid_0's auc: 0.744677\n"
     ]
    },
    {
     "name": "stderr",
     "output_type": "stream",
     "text": [
      "5it [00:46,  9.37s/it]"
     ]
    },
    {
     "name": "stdout",
     "output_type": "stream",
     "text": [
      "[LightGBM] [Warning] min_data_in_leaf is set=665, min_child_samples=20 will be ignored. Current value: min_data_in_leaf=665\n",
      "Training until validation scores don't improve for 400 rounds\n",
      "Early stopping, best iteration is:\n",
      "[481]\tvalid_0's auc: 0.738731\n"
     ]
    },
    {
     "name": "stderr",
     "output_type": "stream",
     "text": [
      "6it [00:56,  9.50s/it]"
     ]
    },
    {
     "name": "stdout",
     "output_type": "stream",
     "text": [
      "[LightGBM] [Warning] min_data_in_leaf is set=665, min_child_samples=20 will be ignored. Current value: min_data_in_leaf=665\n",
      "Training until validation scores don't improve for 400 rounds\n",
      "Early stopping, best iteration is:\n",
      "[412]\tvalid_0's auc: 0.741742\n"
     ]
    },
    {
     "name": "stderr",
     "output_type": "stream",
     "text": [
      "7it [01:06,  9.47s/it]"
     ]
    },
    {
     "name": "stdout",
     "output_type": "stream",
     "text": [
      "[LightGBM] [Warning] min_data_in_leaf is set=665, min_child_samples=20 will be ignored. Current value: min_data_in_leaf=665\n",
      "Training until validation scores don't improve for 400 rounds\n",
      "Early stopping, best iteration is:\n",
      "[408]\tvalid_0's auc: 0.745374\n"
     ]
    },
    {
     "name": "stderr",
     "output_type": "stream",
     "text": [
      "8it [01:15,  9.45s/it]"
     ]
    },
    {
     "name": "stdout",
     "output_type": "stream",
     "text": [
      "[LightGBM] [Warning] min_data_in_leaf is set=665, min_child_samples=20 will be ignored. Current value: min_data_in_leaf=665\n",
      "Training until validation scores don't improve for 400 rounds\n",
      "Early stopping, best iteration is:\n",
      "[367]\tvalid_0's auc: 0.738027\n"
     ]
    },
    {
     "name": "stderr",
     "output_type": "stream",
     "text": [
      "9it [01:24,  9.32s/it]"
     ]
    },
    {
     "name": "stdout",
     "output_type": "stream",
     "text": [
      "[LightGBM] [Warning] min_data_in_leaf is set=665, min_child_samples=20 will be ignored. Current value: min_data_in_leaf=665\n",
      "Training until validation scores don't improve for 400 rounds\n",
      "Early stopping, best iteration is:\n",
      "[515]\tvalid_0's auc: 0.743466\n"
     ]
    },
    {
     "name": "stderr",
     "output_type": "stream",
     "text": [
      "10it [01:34,  9.48s/it]\n",
      "\u001b[32m[I 2021-11-03 11:56:53,712]\u001b[0m Trial 59 finished with value: 0.7426276823378428 and parameters: {'learning_rate': 0.1815963920923273, 'n_estimators': 7670, 'max_depth': 10, 'num_leaves': 11, 'reg_alpha': 4.686895033911833, 'reg_lambda': 3.806984849840393, 'min_data_in_leaf': 665}. Best is trial 19 with value: 0.7475782744060069.\u001b[0m\n",
      "0it [00:00, ?it/s]"
     ]
    },
    {
     "name": "stdout",
     "output_type": "stream",
     "text": [
      "[LightGBM] [Warning] min_data_in_leaf is set=510, min_child_samples=20 will be ignored. Current value: min_data_in_leaf=510\n",
      "Training until validation scores don't improve for 400 rounds\n"
     ]
    },
    {
     "name": "stderr",
     "output_type": "stream",
     "text": [
      "1it [00:07,  7.23s/it]"
     ]
    },
    {
     "name": "stdout",
     "output_type": "stream",
     "text": [
      "Early stopping, best iteration is:\n",
      "[66]\tvalid_0's auc: 0.723154\n",
      "[LightGBM] [Warning] min_data_in_leaf is set=510, min_child_samples=20 will be ignored. Current value: min_data_in_leaf=510\n",
      "Training until validation scores don't improve for 400 rounds\n"
     ]
    },
    {
     "name": "stderr",
     "output_type": "stream",
     "text": [
      "2it [00:14,  7.27s/it]"
     ]
    },
    {
     "name": "stdout",
     "output_type": "stream",
     "text": [
      "Early stopping, best iteration is:\n",
      "[70]\tvalid_0's auc: 0.719672\n",
      "[LightGBM] [Warning] min_data_in_leaf is set=510, min_child_samples=20 will be ignored. Current value: min_data_in_leaf=510\n",
      "Training until validation scores don't improve for 400 rounds\n"
     ]
    },
    {
     "name": "stderr",
     "output_type": "stream",
     "text": [
      "3it [00:21,  7.12s/it]"
     ]
    },
    {
     "name": "stdout",
     "output_type": "stream",
     "text": [
      "Early stopping, best iteration is:\n",
      "[61]\tvalid_0's auc: 0.724684\n",
      "[LightGBM] [Warning] min_data_in_leaf is set=510, min_child_samples=20 will be ignored. Current value: min_data_in_leaf=510\n",
      "Training until validation scores don't improve for 400 rounds\n"
     ]
    },
    {
     "name": "stderr",
     "output_type": "stream",
     "text": [
      "4it [00:28,  7.12s/it]"
     ]
    },
    {
     "name": "stdout",
     "output_type": "stream",
     "text": [
      "Early stopping, best iteration is:\n",
      "[84]\tvalid_0's auc: 0.720047\n",
      "[LightGBM] [Warning] min_data_in_leaf is set=510, min_child_samples=20 will be ignored. Current value: min_data_in_leaf=510\n",
      "Training until validation scores don't improve for 400 rounds\n"
     ]
    },
    {
     "name": "stderr",
     "output_type": "stream",
     "text": [
      "5it [00:35,  7.13s/it]"
     ]
    },
    {
     "name": "stdout",
     "output_type": "stream",
     "text": [
      "Early stopping, best iteration is:\n",
      "[59]\tvalid_0's auc: 0.724498\n",
      "[LightGBM] [Warning] min_data_in_leaf is set=510, min_child_samples=20 will be ignored. Current value: min_data_in_leaf=510\n",
      "Training until validation scores don't improve for 400 rounds\n"
     ]
    },
    {
     "name": "stderr",
     "output_type": "stream",
     "text": [
      "6it [00:42,  7.04s/it]"
     ]
    },
    {
     "name": "stdout",
     "output_type": "stream",
     "text": [
      "Early stopping, best iteration is:\n",
      "[55]\tvalid_0's auc: 0.722496\n",
      "[LightGBM] [Warning] min_data_in_leaf is set=510, min_child_samples=20 will be ignored. Current value: min_data_in_leaf=510\n",
      "Training until validation scores don't improve for 400 rounds\n"
     ]
    },
    {
     "name": "stderr",
     "output_type": "stream",
     "text": [
      "7it [00:49,  7.06s/it]"
     ]
    },
    {
     "name": "stdout",
     "output_type": "stream",
     "text": [
      "Early stopping, best iteration is:\n",
      "[77]\tvalid_0's auc: 0.715968\n",
      "[LightGBM] [Warning] min_data_in_leaf is set=510, min_child_samples=20 will be ignored. Current value: min_data_in_leaf=510\n",
      "Training until validation scores don't improve for 400 rounds\n"
     ]
    },
    {
     "name": "stderr",
     "output_type": "stream",
     "text": [
      "8it [00:56,  7.08s/it]"
     ]
    },
    {
     "name": "stdout",
     "output_type": "stream",
     "text": [
      "Early stopping, best iteration is:\n",
      "[55]\tvalid_0's auc: 0.716598\n",
      "[LightGBM] [Warning] min_data_in_leaf is set=510, min_child_samples=20 will be ignored. Current value: min_data_in_leaf=510\n",
      "Training until validation scores don't improve for 400 rounds\n"
     ]
    },
    {
     "name": "stderr",
     "output_type": "stream",
     "text": [
      "9it [01:03,  7.03s/it]"
     ]
    },
    {
     "name": "stdout",
     "output_type": "stream",
     "text": [
      "Early stopping, best iteration is:\n",
      "[50]\tvalid_0's auc: 0.719569\n",
      "[LightGBM] [Warning] min_data_in_leaf is set=510, min_child_samples=20 will be ignored. Current value: min_data_in_leaf=510\n",
      "Training until validation scores don't improve for 400 rounds\n"
     ]
    },
    {
     "name": "stderr",
     "output_type": "stream",
     "text": [
      "10it [01:10,  7.07s/it]\n",
      "\u001b[32m[I 2021-11-03 11:58:04,599]\u001b[0m Trial 60 finished with value: 0.7202682022702929 and parameters: {'learning_rate': 0.9890332834253752, 'n_estimators': 6495, 'max_depth': 8, 'num_leaves': 17, 'reg_alpha': 9.432209198798592, 'reg_lambda': 6.7085904957302915, 'min_data_in_leaf': 510}. Best is trial 19 with value: 0.7475782744060069.\u001b[0m\n"
     ]
    },
    {
     "name": "stdout",
     "output_type": "stream",
     "text": [
      "Early stopping, best iteration is:\n",
      "[64]\tvalid_0's auc: 0.715996\n"
     ]
    },
    {
     "name": "stderr",
     "output_type": "stream",
     "text": [
      "0it [00:00, ?it/s]"
     ]
    },
    {
     "name": "stdout",
     "output_type": "stream",
     "text": [
      "[LightGBM] [Warning] min_data_in_leaf is set=668, min_child_samples=20 will be ignored. Current value: min_data_in_leaf=668\n",
      "Training until validation scores don't improve for 400 rounds\n",
      "Early stopping, best iteration is:\n",
      "[2563]\tvalid_0's auc: 0.747032\n"
     ]
    },
    {
     "name": "stderr",
     "output_type": "stream",
     "text": [
      "1it [00:18, 18.36s/it]"
     ]
    },
    {
     "name": "stdout",
     "output_type": "stream",
     "text": [
      "[LightGBM] [Warning] min_data_in_leaf is set=668, min_child_samples=20 will be ignored. Current value: min_data_in_leaf=668\n",
      "Training until validation scores don't improve for 400 rounds\n",
      "Early stopping, best iteration is:\n",
      "[3479]\tvalid_0's auc: 0.751416\n"
     ]
    },
    {
     "name": "stderr",
     "output_type": "stream",
     "text": [
      "2it [00:41, 21.30s/it]"
     ]
    },
    {
     "name": "stdout",
     "output_type": "stream",
     "text": [
      "[LightGBM] [Warning] min_data_in_leaf is set=668, min_child_samples=20 will be ignored. Current value: min_data_in_leaf=668\n",
      "Training until validation scores don't improve for 400 rounds\n",
      "Early stopping, best iteration is:\n",
      "[1931]\tvalid_0's auc: 0.746859\n"
     ]
    },
    {
     "name": "stderr",
     "output_type": "stream",
     "text": [
      "3it [00:56, 18.35s/it]"
     ]
    },
    {
     "name": "stdout",
     "output_type": "stream",
     "text": [
      "[LightGBM] [Warning] min_data_in_leaf is set=668, min_child_samples=20 will be ignored. Current value: min_data_in_leaf=668\n",
      "Training until validation scores don't improve for 400 rounds\n",
      "Early stopping, best iteration is:\n",
      "[2276]\tvalid_0's auc: 0.745388\n"
     ]
    },
    {
     "name": "stderr",
     "output_type": "stream",
     "text": [
      "4it [01:13, 17.66s/it]"
     ]
    },
    {
     "name": "stdout",
     "output_type": "stream",
     "text": [
      "[LightGBM] [Warning] min_data_in_leaf is set=668, min_child_samples=20 will be ignored. Current value: min_data_in_leaf=668\n",
      "Training until validation scores don't improve for 400 rounds\n",
      "Early stopping, best iteration is:\n",
      "[2330]\tvalid_0's auc: 0.751136\n"
     ]
    },
    {
     "name": "stderr",
     "output_type": "stream",
     "text": [
      "5it [01:30, 17.40s/it]"
     ]
    },
    {
     "name": "stdout",
     "output_type": "stream",
     "text": [
      "[LightGBM] [Warning] min_data_in_leaf is set=668, min_child_samples=20 will be ignored. Current value: min_data_in_leaf=668\n",
      "Training until validation scores don't improve for 400 rounds\n",
      "Early stopping, best iteration is:\n",
      "[2370]\tvalid_0's auc: 0.747506\n"
     ]
    },
    {
     "name": "stderr",
     "output_type": "stream",
     "text": [
      "6it [01:47, 17.32s/it]"
     ]
    },
    {
     "name": "stdout",
     "output_type": "stream",
     "text": [
      "[LightGBM] [Warning] min_data_in_leaf is set=668, min_child_samples=20 will be ignored. Current value: min_data_in_leaf=668\n",
      "Training until validation scores don't improve for 400 rounds\n",
      "Early stopping, best iteration is:\n",
      "[2202]\tvalid_0's auc: 0.745858\n"
     ]
    },
    {
     "name": "stderr",
     "output_type": "stream",
     "text": [
      "7it [02:03, 16.99s/it]"
     ]
    },
    {
     "name": "stdout",
     "output_type": "stream",
     "text": [
      "[LightGBM] [Warning] min_data_in_leaf is set=668, min_child_samples=20 will be ignored. Current value: min_data_in_leaf=668\n",
      "Training until validation scores don't improve for 400 rounds\n",
      "Early stopping, best iteration is:\n",
      "[2587]\tvalid_0's auc: 0.743745\n"
     ]
    },
    {
     "name": "stderr",
     "output_type": "stream",
     "text": [
      "8it [02:21, 17.44s/it]"
     ]
    },
    {
     "name": "stdout",
     "output_type": "stream",
     "text": [
      "[LightGBM] [Warning] min_data_in_leaf is set=668, min_child_samples=20 will be ignored. Current value: min_data_in_leaf=668\n",
      "Training until validation scores don't improve for 400 rounds\n",
      "Early stopping, best iteration is:\n",
      "[2214]\tvalid_0's auc: 0.745186\n"
     ]
    },
    {
     "name": "stderr",
     "output_type": "stream",
     "text": [
      "9it [02:38, 17.08s/it]"
     ]
    },
    {
     "name": "stdout",
     "output_type": "stream",
     "text": [
      "[LightGBM] [Warning] min_data_in_leaf is set=668, min_child_samples=20 will be ignored. Current value: min_data_in_leaf=668\n",
      "Training until validation scores don't improve for 400 rounds\n",
      "Early stopping, best iteration is:\n",
      "[2110]\tvalid_0's auc: 0.745312\n"
     ]
    },
    {
     "name": "stderr",
     "output_type": "stream",
     "text": [
      "10it [02:54, 17.40s/it]\n",
      "\u001b[32m[I 2021-11-03 12:00:58,794]\u001b[0m Trial 61 finished with value: 0.7469437362414768 and parameters: {'learning_rate': 0.23954217104267905, 'n_estimators': 7017, 'max_depth': 7, 'num_leaves': 2, 'reg_alpha': 4.3760588689665, 'reg_lambda': 4.141204883234984, 'min_data_in_leaf': 668}. Best is trial 19 with value: 0.7475782744060069.\u001b[0m\n",
      "0it [00:00, ?it/s]"
     ]
    },
    {
     "name": "stdout",
     "output_type": "stream",
     "text": [
      "[LightGBM] [Warning] min_data_in_leaf is set=624, min_child_samples=20 will be ignored. Current value: min_data_in_leaf=624\n",
      "Training until validation scores don't improve for 400 rounds\n",
      "Early stopping, best iteration is:\n",
      "[732]\tvalid_0's auc: 0.743348\n"
     ]
    },
    {
     "name": "stderr",
     "output_type": "stream",
     "text": [
      "1it [00:09,  9.48s/it]"
     ]
    },
    {
     "name": "stdout",
     "output_type": "stream",
     "text": [
      "[LightGBM] [Warning] min_data_in_leaf is set=624, min_child_samples=20 will be ignored. Current value: min_data_in_leaf=624\n",
      "Training until validation scores don't improve for 400 rounds\n",
      "Early stopping, best iteration is:\n",
      "[695]\tvalid_0's auc: 0.743301\n"
     ]
    },
    {
     "name": "stderr",
     "output_type": "stream",
     "text": [
      "2it [00:18,  9.28s/it]"
     ]
    },
    {
     "name": "stdout",
     "output_type": "stream",
     "text": [
      "[LightGBM] [Warning] min_data_in_leaf is set=624, min_child_samples=20 will be ignored. Current value: min_data_in_leaf=624\n",
      "Training until validation scores don't improve for 400 rounds\n",
      "Early stopping, best iteration is:\n",
      "[726]\tvalid_0's auc: 0.742319\n"
     ]
    },
    {
     "name": "stderr",
     "output_type": "stream",
     "text": [
      "3it [00:27,  9.29s/it]"
     ]
    },
    {
     "name": "stdout",
     "output_type": "stream",
     "text": [
      "[LightGBM] [Warning] min_data_in_leaf is set=624, min_child_samples=20 will be ignored. Current value: min_data_in_leaf=624\n",
      "Training until validation scores don't improve for 400 rounds\n",
      "Early stopping, best iteration is:\n",
      "[762]\tvalid_0's auc: 0.744413\n"
     ]
    },
    {
     "name": "stderr",
     "output_type": "stream",
     "text": [
      "4it [00:37,  9.38s/it]"
     ]
    },
    {
     "name": "stdout",
     "output_type": "stream",
     "text": [
      "[LightGBM] [Warning] min_data_in_leaf is set=624, min_child_samples=20 will be ignored. Current value: min_data_in_leaf=624\n",
      "Training until validation scores don't improve for 400 rounds\n",
      "Early stopping, best iteration is:\n",
      "[743]\tvalid_0's auc: 0.743179\n"
     ]
    },
    {
     "name": "stderr",
     "output_type": "stream",
     "text": [
      "5it [00:46,  9.37s/it]"
     ]
    },
    {
     "name": "stdout",
     "output_type": "stream",
     "text": [
      "[LightGBM] [Warning] min_data_in_leaf is set=624, min_child_samples=20 will be ignored. Current value: min_data_in_leaf=624\n",
      "Training until validation scores don't improve for 400 rounds\n",
      "Early stopping, best iteration is:\n",
      "[896]\tvalid_0's auc: 0.745775\n"
     ]
    },
    {
     "name": "stderr",
     "output_type": "stream",
     "text": [
      "6it [00:57,  9.74s/it]"
     ]
    },
    {
     "name": "stdout",
     "output_type": "stream",
     "text": [
      "[LightGBM] [Warning] min_data_in_leaf is set=624, min_child_samples=20 will be ignored. Current value: min_data_in_leaf=624\n",
      "Training until validation scores don't improve for 400 rounds\n",
      "Early stopping, best iteration is:\n",
      "[739]\tvalid_0's auc: 0.74227\n"
     ]
    },
    {
     "name": "stderr",
     "output_type": "stream",
     "text": [
      "7it [01:06,  9.68s/it]"
     ]
    },
    {
     "name": "stdout",
     "output_type": "stream",
     "text": [
      "[LightGBM] [Warning] min_data_in_leaf is set=624, min_child_samples=20 will be ignored. Current value: min_data_in_leaf=624\n",
      "Training until validation scores don't improve for 400 rounds\n",
      "Early stopping, best iteration is:\n",
      "[778]\tvalid_0's auc: 0.746839\n"
     ]
    },
    {
     "name": "stderr",
     "output_type": "stream",
     "text": [
      "8it [01:15,  9.46s/it]"
     ]
    },
    {
     "name": "stdout",
     "output_type": "stream",
     "text": [
      "[LightGBM] [Warning] min_data_in_leaf is set=624, min_child_samples=20 will be ignored. Current value: min_data_in_leaf=624\n",
      "Training until validation scores don't improve for 400 rounds\n",
      "Early stopping, best iteration is:\n",
      "[1070]\tvalid_0's auc: 0.741795\n"
     ]
    },
    {
     "name": "stderr",
     "output_type": "stream",
     "text": [
      "9it [01:27, 10.10s/it]"
     ]
    },
    {
     "name": "stdout",
     "output_type": "stream",
     "text": [
      "[LightGBM] [Warning] min_data_in_leaf is set=624, min_child_samples=20 will be ignored. Current value: min_data_in_leaf=624\n",
      "Training until validation scores don't improve for 400 rounds\n",
      "Early stopping, best iteration is:\n",
      "[730]\tvalid_0's auc: 0.742315\n"
     ]
    },
    {
     "name": "stderr",
     "output_type": "stream",
     "text": [
      "10it [01:36,  9.66s/it]\n",
      "\u001b[32m[I 2021-11-03 12:02:35,552]\u001b[0m Trial 62 finished with value: 0.7435554051085654 and parameters: {'learning_rate': 0.24151515652180836, 'n_estimators': 6906, 'max_depth': 7, 'num_leaves': 5, 'reg_alpha': 3.796865880261403, 'reg_lambda': 4.131907474580344, 'min_data_in_leaf': 624}. Best is trial 19 with value: 0.7475782744060069.\u001b[0m\n",
      "0it [00:00, ?it/s]"
     ]
    },
    {
     "name": "stdout",
     "output_type": "stream",
     "text": [
      "[LightGBM] [Warning] min_data_in_leaf is set=702, min_child_samples=20 will be ignored. Current value: min_data_in_leaf=702\n",
      "Training until validation scores don't improve for 400 rounds\n",
      "Early stopping, best iteration is:\n",
      "[5083]\tvalid_0's auc: 0.747245\n"
     ]
    },
    {
     "name": "stderr",
     "output_type": "stream",
     "text": [
      "1it [00:31, 31.85s/it]"
     ]
    },
    {
     "name": "stdout",
     "output_type": "stream",
     "text": [
      "[LightGBM] [Warning] min_data_in_leaf is set=702, min_child_samples=20 will be ignored. Current value: min_data_in_leaf=702\n",
      "Training until validation scores don't improve for 400 rounds\n",
      "Early stopping, best iteration is:\n",
      "[4958]\tvalid_0's auc: 0.748144\n"
     ]
    },
    {
     "name": "stderr",
     "output_type": "stream",
     "text": [
      "2it [01:03, 31.51s/it]"
     ]
    },
    {
     "name": "stdout",
     "output_type": "stream",
     "text": [
      "[LightGBM] [Warning] min_data_in_leaf is set=702, min_child_samples=20 will be ignored. Current value: min_data_in_leaf=702\n",
      "Training until validation scores don't improve for 400 rounds\n",
      "Early stopping, best iteration is:\n",
      "[4119]\tvalid_0's auc: 0.74683\n"
     ]
    },
    {
     "name": "stderr",
     "output_type": "stream",
     "text": [
      "3it [01:29, 29.28s/it]"
     ]
    },
    {
     "name": "stdout",
     "output_type": "stream",
     "text": [
      "[LightGBM] [Warning] min_data_in_leaf is set=702, min_child_samples=20 will be ignored. Current value: min_data_in_leaf=702\n",
      "Training until validation scores don't improve for 400 rounds\n",
      "Early stopping, best iteration is:\n",
      "[4178]\tvalid_0's auc: 0.747185\n"
     ]
    },
    {
     "name": "stderr",
     "output_type": "stream",
     "text": [
      "4it [01:56, 28.36s/it]"
     ]
    },
    {
     "name": "stdout",
     "output_type": "stream",
     "text": [
      "[LightGBM] [Warning] min_data_in_leaf is set=702, min_child_samples=20 will be ignored. Current value: min_data_in_leaf=702\n",
      "Training until validation scores don't improve for 400 rounds\n",
      "Early stopping, best iteration is:\n",
      "[4132]\tvalid_0's auc: 0.750069\n"
     ]
    },
    {
     "name": "stderr",
     "output_type": "stream",
     "text": [
      "5it [02:23, 27.75s/it]"
     ]
    },
    {
     "name": "stdout",
     "output_type": "stream",
     "text": [
      "[LightGBM] [Warning] min_data_in_leaf is set=702, min_child_samples=20 will be ignored. Current value: min_data_in_leaf=702\n",
      "Training until validation scores don't improve for 400 rounds\n",
      "Early stopping, best iteration is:\n",
      "[4389]\tvalid_0's auc: 0.748556\n"
     ]
    },
    {
     "name": "stderr",
     "output_type": "stream",
     "text": [
      "6it [02:51, 27.87s/it]"
     ]
    },
    {
     "name": "stdout",
     "output_type": "stream",
     "text": [
      "[LightGBM] [Warning] min_data_in_leaf is set=702, min_child_samples=20 will be ignored. Current value: min_data_in_leaf=702\n",
      "Training until validation scores don't improve for 400 rounds\n",
      "Early stopping, best iteration is:\n",
      "[4476]\tvalid_0's auc: 0.746927\n"
     ]
    },
    {
     "name": "stderr",
     "output_type": "stream",
     "text": [
      "7it [03:19, 28.09s/it]"
     ]
    },
    {
     "name": "stdout",
     "output_type": "stream",
     "text": [
      "[LightGBM] [Warning] min_data_in_leaf is set=702, min_child_samples=20 will be ignored. Current value: min_data_in_leaf=702\n",
      "Training until validation scores don't improve for 400 rounds\n",
      "Early stopping, best iteration is:\n",
      "[4763]\tvalid_0's auc: 0.745954\n"
     ]
    },
    {
     "name": "stderr",
     "output_type": "stream",
     "text": [
      "8it [03:50, 28.71s/it]"
     ]
    },
    {
     "name": "stdout",
     "output_type": "stream",
     "text": [
      "[LightGBM] [Warning] min_data_in_leaf is set=702, min_child_samples=20 will be ignored. Current value: min_data_in_leaf=702\n",
      "Training until validation scores don't improve for 400 rounds\n",
      "Early stopping, best iteration is:\n",
      "[4371]\tvalid_0's auc: 0.745332\n"
     ]
    },
    {
     "name": "stderr",
     "output_type": "stream",
     "text": [
      "9it [04:18, 28.48s/it]"
     ]
    },
    {
     "name": "stdout",
     "output_type": "stream",
     "text": [
      "[LightGBM] [Warning] min_data_in_leaf is set=702, min_child_samples=20 will be ignored. Current value: min_data_in_leaf=702\n",
      "Training until validation scores don't improve for 400 rounds\n",
      "Early stopping, best iteration is:\n",
      "[4274]\tvalid_0's auc: 0.747564\n"
     ]
    },
    {
     "name": "stderr",
     "output_type": "stream",
     "text": [
      "10it [04:45, 28.55s/it]\n",
      "\u001b[32m[I 2021-11-03 12:07:21,248]\u001b[0m Trial 63 finished with value: 0.7473805505199007 and parameters: {'learning_rate': 0.1167368947956606, 'n_estimators': 7176, 'max_depth': 6, 'num_leaves': 2, 'reg_alpha': 5.1757032118791, 'reg_lambda': 4.474416508637207, 'min_data_in_leaf': 702}. Best is trial 19 with value: 0.7475782744060069.\u001b[0m\n",
      "0it [00:00, ?it/s]"
     ]
    },
    {
     "name": "stdout",
     "output_type": "stream",
     "text": [
      "[LightGBM] [Warning] min_data_in_leaf is set=692, min_child_samples=20 will be ignored. Current value: min_data_in_leaf=692\n",
      "Training until validation scores don't improve for 400 rounds\n",
      "Early stopping, best iteration is:\n",
      "[1348]\tvalid_0's auc: 0.744205\n"
     ]
    },
    {
     "name": "stderr",
     "output_type": "stream",
     "text": [
      "1it [00:15, 15.78s/it]"
     ]
    },
    {
     "name": "stdout",
     "output_type": "stream",
     "text": [
      "[LightGBM] [Warning] min_data_in_leaf is set=692, min_child_samples=20 will be ignored. Current value: min_data_in_leaf=692\n",
      "Training until validation scores don't improve for 400 rounds\n",
      "Early stopping, best iteration is:\n",
      "[2061]\tvalid_0's auc: 0.746605\n"
     ]
    },
    {
     "name": "stderr",
     "output_type": "stream",
     "text": [
      "2it [00:36, 18.70s/it]"
     ]
    },
    {
     "name": "stdout",
     "output_type": "stream",
     "text": [
      "[LightGBM] [Warning] min_data_in_leaf is set=692, min_child_samples=20 will be ignored. Current value: min_data_in_leaf=692\n",
      "Training until validation scores don't improve for 400 rounds\n",
      "Early stopping, best iteration is:\n",
      "[1024]\tvalid_0's auc: 0.742031\n"
     ]
    },
    {
     "name": "stderr",
     "output_type": "stream",
     "text": [
      "3it [00:49, 16.21s/it]"
     ]
    },
    {
     "name": "stdout",
     "output_type": "stream",
     "text": [
      "[LightGBM] [Warning] min_data_in_leaf is set=692, min_child_samples=20 will be ignored. Current value: min_data_in_leaf=692\n",
      "Training until validation scores don't improve for 400 rounds\n",
      "Early stopping, best iteration is:\n",
      "[1664]\tvalid_0's auc: 0.746012\n"
     ]
    },
    {
     "name": "stderr",
     "output_type": "stream",
     "text": [
      "4it [01:07, 16.85s/it]"
     ]
    },
    {
     "name": "stdout",
     "output_type": "stream",
     "text": [
      "[LightGBM] [Warning] min_data_in_leaf is set=692, min_child_samples=20 will be ignored. Current value: min_data_in_leaf=692\n",
      "Training until validation scores don't improve for 400 rounds\n",
      "Early stopping, best iteration is:\n",
      "[1443]\tvalid_0's auc: 0.746227\n"
     ]
    },
    {
     "name": "stderr",
     "output_type": "stream",
     "text": [
      "5it [01:23, 16.47s/it]"
     ]
    },
    {
     "name": "stdout",
     "output_type": "stream",
     "text": [
      "[LightGBM] [Warning] min_data_in_leaf is set=692, min_child_samples=20 will be ignored. Current value: min_data_in_leaf=692\n",
      "Training until validation scores don't improve for 400 rounds\n",
      "Early stopping, best iteration is:\n",
      "[1070]\tvalid_0's auc: 0.744395\n"
     ]
    },
    {
     "name": "stderr",
     "output_type": "stream",
     "text": [
      "6it [01:37, 15.51s/it]"
     ]
    },
    {
     "name": "stdout",
     "output_type": "stream",
     "text": [
      "[LightGBM] [Warning] min_data_in_leaf is set=692, min_child_samples=20 will be ignored. Current value: min_data_in_leaf=692\n",
      "Training until validation scores don't improve for 400 rounds\n",
      "Early stopping, best iteration is:\n",
      "[1448]\tvalid_0's auc: 0.748589\n"
     ]
    },
    {
     "name": "stderr",
     "output_type": "stream",
     "text": [
      "7it [01:53, 15.77s/it]"
     ]
    },
    {
     "name": "stdout",
     "output_type": "stream",
     "text": [
      "[LightGBM] [Warning] min_data_in_leaf is set=692, min_child_samples=20 will be ignored. Current value: min_data_in_leaf=692\n",
      "Training until validation scores don't improve for 400 rounds\n",
      "Early stopping, best iteration is:\n",
      "[1056]\tvalid_0's auc: 0.744735\n"
     ]
    },
    {
     "name": "stderr",
     "output_type": "stream",
     "text": [
      "8it [02:06, 14.90s/it]"
     ]
    },
    {
     "name": "stdout",
     "output_type": "stream",
     "text": [
      "[LightGBM] [Warning] min_data_in_leaf is set=692, min_child_samples=20 will be ignored. Current value: min_data_in_leaf=692\n",
      "Training until validation scores don't improve for 400 rounds\n",
      "Early stopping, best iteration is:\n",
      "[1255]\tvalid_0's auc: 0.743834\n"
     ]
    },
    {
     "name": "stderr",
     "output_type": "stream",
     "text": [
      "9it [02:21, 14.81s/it]"
     ]
    },
    {
     "name": "stdout",
     "output_type": "stream",
     "text": [
      "[LightGBM] [Warning] min_data_in_leaf is set=692, min_child_samples=20 will be ignored. Current value: min_data_in_leaf=692\n",
      "Training until validation scores don't improve for 400 rounds\n",
      "Early stopping, best iteration is:\n",
      "[1037]\tvalid_0's auc: 0.744324\n"
     ]
    },
    {
     "name": "stderr",
     "output_type": "stream",
     "text": [
      "10it [02:34, 15.43s/it]\n",
      "\u001b[32m[I 2021-11-03 12:09:55,675]\u001b[0m Trial 64 finished with value: 0.7450956834099239 and parameters: {'learning_rate': 0.10093205597066524, 'n_estimators': 6026, 'max_depth': 6, 'num_leaves': 8, 'reg_alpha': 5.217054643683422, 'reg_lambda': 5.414325084949624, 'min_data_in_leaf': 692}. Best is trial 19 with value: 0.7475782744060069.\u001b[0m\n",
      "0it [00:00, ?it/s]"
     ]
    },
    {
     "name": "stdout",
     "output_type": "stream",
     "text": [
      "[LightGBM] [Warning] min_data_in_leaf is set=590, min_child_samples=20 will be ignored. Current value: min_data_in_leaf=590\n",
      "Training until validation scores don't improve for 400 rounds\n",
      "Early stopping, best iteration is:\n",
      "[4065]\tvalid_0's auc: 0.741998\n"
     ]
    },
    {
     "name": "stderr",
     "output_type": "stream",
     "text": [
      "1it [00:42, 42.35s/it]"
     ]
    },
    {
     "name": "stdout",
     "output_type": "stream",
     "text": [
      "[LightGBM] [Warning] min_data_in_leaf is set=590, min_child_samples=20 will be ignored. Current value: min_data_in_leaf=590\n",
      "Training until validation scores don't improve for 400 rounds\n",
      "Early stopping, best iteration is:\n",
      "[3190]\tvalid_0's auc: 0.746068\n"
     ]
    },
    {
     "name": "stderr",
     "output_type": "stream",
     "text": [
      "2it [01:17, 38.10s/it]"
     ]
    },
    {
     "name": "stdout",
     "output_type": "stream",
     "text": [
      "[LightGBM] [Warning] min_data_in_leaf is set=590, min_child_samples=20 will be ignored. Current value: min_data_in_leaf=590\n",
      "Training until validation scores don't improve for 400 rounds\n",
      "Early stopping, best iteration is:\n",
      "[4218]\tvalid_0's auc: 0.746404\n"
     ]
    },
    {
     "name": "stderr",
     "output_type": "stream",
     "text": [
      "3it [02:01, 40.61s/it]"
     ]
    },
    {
     "name": "stdout",
     "output_type": "stream",
     "text": [
      "[LightGBM] [Warning] min_data_in_leaf is set=590, min_child_samples=20 will be ignored. Current value: min_data_in_leaf=590\n",
      "Training until validation scores don't improve for 400 rounds\n",
      "Early stopping, best iteration is:\n",
      "[2834]\tvalid_0's auc: 0.747518\n"
     ]
    },
    {
     "name": "stderr",
     "output_type": "stream",
     "text": [
      "4it [02:33, 37.27s/it]"
     ]
    },
    {
     "name": "stdout",
     "output_type": "stream",
     "text": [
      "[LightGBM] [Warning] min_data_in_leaf is set=590, min_child_samples=20 will be ignored. Current value: min_data_in_leaf=590\n",
      "Training until validation scores don't improve for 400 rounds\n",
      "Early stopping, best iteration is:\n",
      "[3416]\tvalid_0's auc: 0.747922\n"
     ]
    },
    {
     "name": "stderr",
     "output_type": "stream",
     "text": [
      "5it [03:10, 37.14s/it]"
     ]
    },
    {
     "name": "stdout",
     "output_type": "stream",
     "text": [
      "[LightGBM] [Warning] min_data_in_leaf is set=590, min_child_samples=20 will be ignored. Current value: min_data_in_leaf=590\n",
      "Training until validation scores don't improve for 400 rounds\n",
      "Early stopping, best iteration is:\n",
      "[2794]\tvalid_0's auc: 0.746143\n"
     ]
    },
    {
     "name": "stderr",
     "output_type": "stream",
     "text": [
      "6it [03:42, 35.39s/it]"
     ]
    },
    {
     "name": "stdout",
     "output_type": "stream",
     "text": [
      "[LightGBM] [Warning] min_data_in_leaf is set=590, min_child_samples=20 will be ignored. Current value: min_data_in_leaf=590\n",
      "Training until validation scores don't improve for 400 rounds\n",
      "Early stopping, best iteration is:\n",
      "[3825]\tvalid_0's auc: 0.744348\n"
     ]
    },
    {
     "name": "stderr",
     "output_type": "stream",
     "text": [
      "7it [04:23, 37.21s/it]"
     ]
    },
    {
     "name": "stdout",
     "output_type": "stream",
     "text": [
      "[LightGBM] [Warning] min_data_in_leaf is set=590, min_child_samples=20 will be ignored. Current value: min_data_in_leaf=590\n",
      "Training until validation scores don't improve for 400 rounds\n",
      "Early stopping, best iteration is:\n",
      "[4286]\tvalid_0's auc: 0.747652\n"
     ]
    },
    {
     "name": "stderr",
     "output_type": "stream",
     "text": [
      "8it [05:07, 39.42s/it]"
     ]
    },
    {
     "name": "stdout",
     "output_type": "stream",
     "text": [
      "[LightGBM] [Warning] min_data_in_leaf is set=590, min_child_samples=20 will be ignored. Current value: min_data_in_leaf=590\n",
      "Training until validation scores don't improve for 400 rounds\n",
      "Early stopping, best iteration is:\n",
      "[3069]\tvalid_0's auc: 0.746618\n"
     ]
    },
    {
     "name": "stderr",
     "output_type": "stream",
     "text": [
      "9it [05:41, 37.96s/it]"
     ]
    },
    {
     "name": "stdout",
     "output_type": "stream",
     "text": [
      "[LightGBM] [Warning] min_data_in_leaf is set=590, min_child_samples=20 will be ignored. Current value: min_data_in_leaf=590\n",
      "Training until validation scores don't improve for 400 rounds\n",
      "Early stopping, best iteration is:\n",
      "[3660]\tvalid_0's auc: 0.745705\n"
     ]
    },
    {
     "name": "stderr",
     "output_type": "stream",
     "text": [
      "10it [06:21, 38.11s/it]\n",
      "\u001b[32m[I 2021-11-03 12:16:16,882]\u001b[0m Trial 65 finished with value: 0.7460375744468527 and parameters: {'learning_rate': 0.03137399824217301, 'n_estimators': 7499, 'max_depth': 6, 'num_leaves': 12, 'reg_alpha': 7.743354961098639, 'reg_lambda': 4.442956619895426, 'min_data_in_leaf': 590}. Best is trial 19 with value: 0.7475782744060069.\u001b[0m\n",
      "0it [00:00, ?it/s]"
     ]
    },
    {
     "name": "stdout",
     "output_type": "stream",
     "text": [
      "[LightGBM] [Warning] min_data_in_leaf is set=672, min_child_samples=20 will be ignored. Current value: min_data_in_leaf=672\n",
      "Training until validation scores don't improve for 400 rounds\n",
      "Early stopping, best iteration is:\n",
      "[1093]\tvalid_0's auc: 0.749619\n"
     ]
    },
    {
     "name": "stderr",
     "output_type": "stream",
     "text": [
      "1it [00:11, 11.60s/it]"
     ]
    },
    {
     "name": "stdout",
     "output_type": "stream",
     "text": [
      "[LightGBM] [Warning] min_data_in_leaf is set=672, min_child_samples=20 will be ignored. Current value: min_data_in_leaf=672\n",
      "Training until validation scores don't improve for 400 rounds\n",
      "Early stopping, best iteration is:\n",
      "[1025]\tvalid_0's auc: 0.741409\n"
     ]
    },
    {
     "name": "stderr",
     "output_type": "stream",
     "text": [
      "2it [00:23, 11.49s/it]"
     ]
    },
    {
     "name": "stdout",
     "output_type": "stream",
     "text": [
      "[LightGBM] [Warning] min_data_in_leaf is set=672, min_child_samples=20 will be ignored. Current value: min_data_in_leaf=672\n",
      "Training until validation scores don't improve for 400 rounds\n",
      "Early stopping, best iteration is:\n",
      "[1494]\tvalid_0's auc: 0.748771\n"
     ]
    },
    {
     "name": "stderr",
     "output_type": "stream",
     "text": [
      "3it [00:37, 12.65s/it]"
     ]
    },
    {
     "name": "stdout",
     "output_type": "stream",
     "text": [
      "[LightGBM] [Warning] min_data_in_leaf is set=672, min_child_samples=20 will be ignored. Current value: min_data_in_leaf=672\n",
      "Training until validation scores don't improve for 400 rounds\n",
      "Early stopping, best iteration is:\n",
      "[1207]\tvalid_0's auc: 0.742923\n"
     ]
    },
    {
     "name": "stderr",
     "output_type": "stream",
     "text": [
      "4it [00:49, 12.50s/it]"
     ]
    },
    {
     "name": "stdout",
     "output_type": "stream",
     "text": [
      "[LightGBM] [Warning] min_data_in_leaf is set=672, min_child_samples=20 will be ignored. Current value: min_data_in_leaf=672\n",
      "Training until validation scores don't improve for 400 rounds\n",
      "Early stopping, best iteration is:\n",
      "[871]\tvalid_0's auc: 0.744733\n"
     ]
    },
    {
     "name": "stderr",
     "output_type": "stream",
     "text": [
      "5it [00:59, 11.72s/it]"
     ]
    },
    {
     "name": "stdout",
     "output_type": "stream",
     "text": [
      "[LightGBM] [Warning] min_data_in_leaf is set=672, min_child_samples=20 will be ignored. Current value: min_data_in_leaf=672\n",
      "Training until validation scores don't improve for 400 rounds\n",
      "Early stopping, best iteration is:\n",
      "[1162]\tvalid_0's auc: 0.743899\n"
     ]
    },
    {
     "name": "stderr",
     "output_type": "stream",
     "text": [
      "6it [01:11, 11.84s/it]"
     ]
    },
    {
     "name": "stdout",
     "output_type": "stream",
     "text": [
      "[LightGBM] [Warning] min_data_in_leaf is set=672, min_child_samples=20 will be ignored. Current value: min_data_in_leaf=672\n",
      "Training until validation scores don't improve for 400 rounds\n",
      "Early stopping, best iteration is:\n",
      "[938]\tvalid_0's auc: 0.744424\n"
     ]
    },
    {
     "name": "stderr",
     "output_type": "stream",
     "text": [
      "7it [01:22, 11.50s/it]"
     ]
    },
    {
     "name": "stdout",
     "output_type": "stream",
     "text": [
      "[LightGBM] [Warning] min_data_in_leaf is set=672, min_child_samples=20 will be ignored. Current value: min_data_in_leaf=672\n",
      "Training until validation scores don't improve for 400 rounds\n",
      "Early stopping, best iteration is:\n",
      "[1282]\tvalid_0's auc: 0.746681\n"
     ]
    },
    {
     "name": "stderr",
     "output_type": "stream",
     "text": [
      "8it [01:35, 11.90s/it]"
     ]
    },
    {
     "name": "stdout",
     "output_type": "stream",
     "text": [
      "[LightGBM] [Warning] min_data_in_leaf is set=672, min_child_samples=20 will be ignored. Current value: min_data_in_leaf=672\n",
      "Training until validation scores don't improve for 400 rounds\n",
      "Early stopping, best iteration is:\n",
      "[1101]\tvalid_0's auc: 0.741759\n"
     ]
    },
    {
     "name": "stderr",
     "output_type": "stream",
     "text": [
      "9it [01:46, 11.84s/it]"
     ]
    },
    {
     "name": "stdout",
     "output_type": "stream",
     "text": [
      "[LightGBM] [Warning] min_data_in_leaf is set=672, min_child_samples=20 will be ignored. Current value: min_data_in_leaf=672\n",
      "Training until validation scores don't improve for 400 rounds\n",
      "Early stopping, best iteration is:\n",
      "[1004]\tvalid_0's auc: 0.745816\n"
     ]
    },
    {
     "name": "stderr",
     "output_type": "stream",
     "text": [
      "10it [01:58, 11.81s/it]\n",
      "\u001b[32m[I 2021-11-03 12:18:15,123]\u001b[0m Trial 66 finished with value: 0.7450034185924268 and parameters: {'learning_rate': 0.1620184962244025, 'n_estimators': 7129, 'max_depth': 4, 'num_leaves': 5, 'reg_alpha': 4.803208526685602, 'reg_lambda': 5.672918510854057, 'min_data_in_leaf': 672}. Best is trial 19 with value: 0.7475782744060069.\u001b[0m\n",
      "0it [00:00, ?it/s]"
     ]
    },
    {
     "name": "stdout",
     "output_type": "stream",
     "text": [
      "[LightGBM] [Warning] min_data_in_leaf is set=536, min_child_samples=20 will be ignored. Current value: min_data_in_leaf=536\n",
      "Training until validation scores don't improve for 400 rounds\n",
      "Early stopping, best iteration is:\n",
      "[958]\tvalid_0's auc: 0.743141\n"
     ]
    },
    {
     "name": "stderr",
     "output_type": "stream",
     "text": [
      "1it [00:13, 13.06s/it]"
     ]
    },
    {
     "name": "stdout",
     "output_type": "stream",
     "text": [
      "[LightGBM] [Warning] min_data_in_leaf is set=536, min_child_samples=20 will be ignored. Current value: min_data_in_leaf=536\n",
      "Training until validation scores don't improve for 400 rounds\n",
      "Early stopping, best iteration is:\n",
      "[739]\tvalid_0's auc: 0.742428\n"
     ]
    },
    {
     "name": "stderr",
     "output_type": "stream",
     "text": [
      "2it [00:24, 12.10s/it]"
     ]
    },
    {
     "name": "stdout",
     "output_type": "stream",
     "text": [
      "[LightGBM] [Warning] min_data_in_leaf is set=536, min_child_samples=20 will be ignored. Current value: min_data_in_leaf=536\n",
      "Training until validation scores don't improve for 400 rounds\n",
      "Early stopping, best iteration is:\n",
      "[826]\tvalid_0's auc: 0.746798\n"
     ]
    },
    {
     "name": "stderr",
     "output_type": "stream",
     "text": [
      "3it [00:36, 12.15s/it]"
     ]
    },
    {
     "name": "stdout",
     "output_type": "stream",
     "text": [
      "[LightGBM] [Warning] min_data_in_leaf is set=536, min_child_samples=20 will be ignored. Current value: min_data_in_leaf=536\n",
      "Training until validation scores don't improve for 400 rounds\n",
      "Early stopping, best iteration is:\n",
      "[1052]\tvalid_0's auc: 0.744317\n"
     ]
    },
    {
     "name": "stderr",
     "output_type": "stream",
     "text": [
      "4it [00:50, 12.61s/it]"
     ]
    },
    {
     "name": "stdout",
     "output_type": "stream",
     "text": [
      "[LightGBM] [Warning] min_data_in_leaf is set=536, min_child_samples=20 will be ignored. Current value: min_data_in_leaf=536\n",
      "Training until validation scores don't improve for 400 rounds\n",
      "Early stopping, best iteration is:\n",
      "[889]\tvalid_0's auc: 0.746336\n"
     ]
    },
    {
     "name": "stderr",
     "output_type": "stream",
     "text": [
      "5it [01:02, 12.59s/it]"
     ]
    },
    {
     "name": "stdout",
     "output_type": "stream",
     "text": [
      "[LightGBM] [Warning] min_data_in_leaf is set=536, min_child_samples=20 will be ignored. Current value: min_data_in_leaf=536\n",
      "Training until validation scores don't improve for 400 rounds\n",
      "Early stopping, best iteration is:\n",
      "[887]\tvalid_0's auc: 0.743247\n"
     ]
    },
    {
     "name": "stderr",
     "output_type": "stream",
     "text": [
      "6it [01:15, 12.58s/it]"
     ]
    },
    {
     "name": "stdout",
     "output_type": "stream",
     "text": [
      "[LightGBM] [Warning] min_data_in_leaf is set=536, min_child_samples=20 will be ignored. Current value: min_data_in_leaf=536\n",
      "Training until validation scores don't improve for 400 rounds\n",
      "Early stopping, best iteration is:\n",
      "[923]\tvalid_0's auc: 0.745947\n"
     ]
    },
    {
     "name": "stderr",
     "output_type": "stream",
     "text": [
      "7it [01:27, 12.64s/it]"
     ]
    },
    {
     "name": "stdout",
     "output_type": "stream",
     "text": [
      "[LightGBM] [Warning] min_data_in_leaf is set=536, min_child_samples=20 will be ignored. Current value: min_data_in_leaf=536\n",
      "Training until validation scores don't improve for 400 rounds\n",
      "Early stopping, best iteration is:\n",
      "[1171]\tvalid_0's auc: 0.740953\n"
     ]
    },
    {
     "name": "stderr",
     "output_type": "stream",
     "text": [
      "8it [01:42, 13.23s/it]"
     ]
    },
    {
     "name": "stdout",
     "output_type": "stream",
     "text": [
      "[LightGBM] [Warning] min_data_in_leaf is set=536, min_child_samples=20 will be ignored. Current value: min_data_in_leaf=536\n",
      "Training until validation scores don't improve for 400 rounds\n",
      "Early stopping, best iteration is:\n",
      "[987]\tvalid_0's auc: 0.74611\n"
     ]
    },
    {
     "name": "stderr",
     "output_type": "stream",
     "text": [
      "9it [01:55, 13.27s/it]"
     ]
    },
    {
     "name": "stdout",
     "output_type": "stream",
     "text": [
      "[LightGBM] [Warning] min_data_in_leaf is set=536, min_child_samples=20 will be ignored. Current value: min_data_in_leaf=536\n",
      "Training until validation scores don't improve for 400 rounds\n",
      "Early stopping, best iteration is:\n",
      "[1080]\tvalid_0's auc: 0.746386\n"
     ]
    },
    {
     "name": "stderr",
     "output_type": "stream",
     "text": [
      "10it [02:09, 12.96s/it]\n",
      "\u001b[32m[I 2021-11-03 12:20:24,881]\u001b[0m Trial 67 finished with value: 0.7445663922383631 and parameters: {'learning_rate': 0.11457086886395743, 'n_estimators': 4876, 'max_depth': 7, 'num_leaves': 9, 'reg_alpha': 3.185864413980982, 'reg_lambda': 4.853319615944786, 'min_data_in_leaf': 536}. Best is trial 19 with value: 0.7475782744060069.\u001b[0m\n",
      "0it [00:00, ?it/s]"
     ]
    },
    {
     "name": "stdout",
     "output_type": "stream",
     "text": [
      "[LightGBM] [Warning] min_data_in_leaf is set=730, min_child_samples=20 will be ignored. Current value: min_data_in_leaf=730\n",
      "Training until validation scores don't improve for 400 rounds\n",
      "Early stopping, best iteration is:\n",
      "[921]\tvalid_0's auc: 0.745564\n"
     ]
    },
    {
     "name": "stderr",
     "output_type": "stream",
     "text": [
      "1it [00:17, 17.14s/it]"
     ]
    },
    {
     "name": "stdout",
     "output_type": "stream",
     "text": [
      "[LightGBM] [Warning] min_data_in_leaf is set=730, min_child_samples=20 will be ignored. Current value: min_data_in_leaf=730\n",
      "Training until validation scores don't improve for 400 rounds\n",
      "Early stopping, best iteration is:\n",
      "[900]\tvalid_0's auc: 0.742098\n"
     ]
    },
    {
     "name": "stderr",
     "output_type": "stream",
     "text": [
      "2it [00:34, 17.42s/it]"
     ]
    },
    {
     "name": "stdout",
     "output_type": "stream",
     "text": [
      "[LightGBM] [Warning] min_data_in_leaf is set=730, min_child_samples=20 will be ignored. Current value: min_data_in_leaf=730\n",
      "Training until validation scores don't improve for 400 rounds\n",
      "Early stopping, best iteration is:\n",
      "[1077]\tvalid_0's auc: 0.745581\n"
     ]
    },
    {
     "name": "stderr",
     "output_type": "stream",
     "text": [
      "3it [00:53, 18.19s/it]"
     ]
    },
    {
     "name": "stdout",
     "output_type": "stream",
     "text": [
      "[LightGBM] [Warning] min_data_in_leaf is set=730, min_child_samples=20 will be ignored. Current value: min_data_in_leaf=730\n",
      "Training until validation scores don't improve for 400 rounds\n",
      "Early stopping, best iteration is:\n",
      "[1051]\tvalid_0's auc: 0.742825\n"
     ]
    },
    {
     "name": "stderr",
     "output_type": "stream",
     "text": [
      "4it [01:12, 18.41s/it]"
     ]
    },
    {
     "name": "stdout",
     "output_type": "stream",
     "text": [
      "[LightGBM] [Warning] min_data_in_leaf is set=730, min_child_samples=20 will be ignored. Current value: min_data_in_leaf=730\n",
      "Training until validation scores don't improve for 400 rounds\n",
      "Early stopping, best iteration is:\n",
      "[1068]\tvalid_0's auc: 0.74452\n"
     ]
    },
    {
     "name": "stderr",
     "output_type": "stream",
     "text": [
      "5it [01:31, 18.67s/it]"
     ]
    },
    {
     "name": "stdout",
     "output_type": "stream",
     "text": [
      "[LightGBM] [Warning] min_data_in_leaf is set=730, min_child_samples=20 will be ignored. Current value: min_data_in_leaf=730\n",
      "Training until validation scores don't improve for 400 rounds\n",
      "Early stopping, best iteration is:\n",
      "[1060]\tvalid_0's auc: 0.74129\n"
     ]
    },
    {
     "name": "stderr",
     "output_type": "stream",
     "text": [
      "6it [01:50, 18.78s/it]"
     ]
    },
    {
     "name": "stdout",
     "output_type": "stream",
     "text": [
      "[LightGBM] [Warning] min_data_in_leaf is set=730, min_child_samples=20 will be ignored. Current value: min_data_in_leaf=730\n",
      "Training until validation scores don't improve for 400 rounds\n",
      "Early stopping, best iteration is:\n",
      "[1126]\tvalid_0's auc: 0.748003\n"
     ]
    },
    {
     "name": "stderr",
     "output_type": "stream",
     "text": [
      "7it [02:10, 19.01s/it]"
     ]
    },
    {
     "name": "stdout",
     "output_type": "stream",
     "text": [
      "[LightGBM] [Warning] min_data_in_leaf is set=730, min_child_samples=20 will be ignored. Current value: min_data_in_leaf=730\n",
      "Training until validation scores don't improve for 400 rounds\n",
      "Early stopping, best iteration is:\n",
      "[1307]\tvalid_0's auc: 0.744395\n"
     ]
    },
    {
     "name": "stderr",
     "output_type": "stream",
     "text": [
      "8it [02:31, 19.79s/it]"
     ]
    },
    {
     "name": "stdout",
     "output_type": "stream",
     "text": [
      "[LightGBM] [Warning] min_data_in_leaf is set=730, min_child_samples=20 will be ignored. Current value: min_data_in_leaf=730\n",
      "Training until validation scores don't improve for 400 rounds\n",
      "Early stopping, best iteration is:\n",
      "[1217]\tvalid_0's auc: 0.744815\n"
     ]
    },
    {
     "name": "stderr",
     "output_type": "stream",
     "text": [
      "9it [02:52, 19.97s/it]"
     ]
    },
    {
     "name": "stdout",
     "output_type": "stream",
     "text": [
      "[LightGBM] [Warning] min_data_in_leaf is set=730, min_child_samples=20 will be ignored. Current value: min_data_in_leaf=730\n",
      "Training until validation scores don't improve for 400 rounds\n",
      "Early stopping, best iteration is:\n",
      "[1037]\tvalid_0's auc: 0.746994\n"
     ]
    },
    {
     "name": "stderr",
     "output_type": "stream",
     "text": [
      "10it [03:10, 19.04s/it]\n",
      "\u001b[32m[I 2021-11-03 12:23:35,398]\u001b[0m Trial 68 finished with value: 0.7446084979256635 and parameters: {'learning_rate': 0.0717707096264042, 'n_estimators': 7796, 'max_depth': 6, 'num_leaves': 21, 'reg_alpha': 6.1090533857244145, 'reg_lambda': 4.056208710078333, 'min_data_in_leaf': 730}. Best is trial 19 with value: 0.7475782744060069.\u001b[0m\n",
      "0it [00:00, ?it/s]"
     ]
    },
    {
     "name": "stdout",
     "output_type": "stream",
     "text": [
      "[LightGBM] [Warning] min_data_in_leaf is set=621, min_child_samples=20 will be ignored. Current value: min_data_in_leaf=621\n",
      "Training until validation scores don't improve for 400 rounds\n",
      "Did not meet early stopping. Best iteration is:\n",
      "[5697]\tvalid_0's auc: 0.67594\n"
     ]
    },
    {
     "name": "stderr",
     "output_type": "stream",
     "text": [
      "1it [00:32, 32.80s/it]"
     ]
    },
    {
     "name": "stdout",
     "output_type": "stream",
     "text": [
      "[LightGBM] [Warning] min_data_in_leaf is set=621, min_child_samples=20 will be ignored. Current value: min_data_in_leaf=621\n",
      "Training until validation scores don't improve for 400 rounds\n",
      "Did not meet early stopping. Best iteration is:\n",
      "[5697]\tvalid_0's auc: 0.677029\n"
     ]
    },
    {
     "name": "stderr",
     "output_type": "stream",
     "text": [
      "2it [01:05, 32.79s/it]"
     ]
    },
    {
     "name": "stdout",
     "output_type": "stream",
     "text": [
      "[LightGBM] [Warning] min_data_in_leaf is set=621, min_child_samples=20 will be ignored. Current value: min_data_in_leaf=621\n",
      "Training until validation scores don't improve for 400 rounds\n",
      "Did not meet early stopping. Best iteration is:\n",
      "[5697]\tvalid_0's auc: 0.675803\n"
     ]
    },
    {
     "name": "stderr",
     "output_type": "stream",
     "text": [
      "3it [01:38, 32.83s/it]"
     ]
    },
    {
     "name": "stdout",
     "output_type": "stream",
     "text": [
      "[LightGBM] [Warning] min_data_in_leaf is set=621, min_child_samples=20 will be ignored. Current value: min_data_in_leaf=621\n",
      "Training until validation scores don't improve for 400 rounds\n",
      "Did not meet early stopping. Best iteration is:\n",
      "[5696]\tvalid_0's auc: 0.678838\n"
     ]
    },
    {
     "name": "stderr",
     "output_type": "stream",
     "text": [
      "4it [02:11, 32.83s/it]"
     ]
    },
    {
     "name": "stdout",
     "output_type": "stream",
     "text": [
      "[LightGBM] [Warning] min_data_in_leaf is set=621, min_child_samples=20 will be ignored. Current value: min_data_in_leaf=621\n",
      "Training until validation scores don't improve for 400 rounds\n",
      "Did not meet early stopping. Best iteration is:\n",
      "[5697]\tvalid_0's auc: 0.680193\n"
     ]
    },
    {
     "name": "stderr",
     "output_type": "stream",
     "text": [
      "5it [02:44, 32.87s/it]"
     ]
    },
    {
     "name": "stdout",
     "output_type": "stream",
     "text": [
      "[LightGBM] [Warning] min_data_in_leaf is set=621, min_child_samples=20 will be ignored. Current value: min_data_in_leaf=621\n",
      "Training until validation scores don't improve for 400 rounds\n",
      "Did not meet early stopping. Best iteration is:\n",
      "[5696]\tvalid_0's auc: 0.677897\n"
     ]
    },
    {
     "name": "stderr",
     "output_type": "stream",
     "text": [
      "6it [03:17, 32.88s/it]"
     ]
    },
    {
     "name": "stdout",
     "output_type": "stream",
     "text": [
      "[LightGBM] [Warning] min_data_in_leaf is set=621, min_child_samples=20 will be ignored. Current value: min_data_in_leaf=621\n",
      "Training until validation scores don't improve for 400 rounds\n",
      "Did not meet early stopping. Best iteration is:\n",
      "[5697]\tvalid_0's auc: 0.680566\n"
     ]
    },
    {
     "name": "stderr",
     "output_type": "stream",
     "text": [
      "7it [03:50, 32.88s/it]"
     ]
    },
    {
     "name": "stdout",
     "output_type": "stream",
     "text": [
      "[LightGBM] [Warning] min_data_in_leaf is set=621, min_child_samples=20 will be ignored. Current value: min_data_in_leaf=621\n",
      "Training until validation scores don't improve for 400 rounds\n",
      "Did not meet early stopping. Best iteration is:\n",
      "[5697]\tvalid_0's auc: 0.677856\n"
     ]
    },
    {
     "name": "stderr",
     "output_type": "stream",
     "text": [
      "8it [04:22, 32.90s/it]"
     ]
    },
    {
     "name": "stdout",
     "output_type": "stream",
     "text": [
      "[LightGBM] [Warning] min_data_in_leaf is set=621, min_child_samples=20 will be ignored. Current value: min_data_in_leaf=621\n",
      "Training until validation scores don't improve for 400 rounds\n",
      "Did not meet early stopping. Best iteration is:\n",
      "[5697]\tvalid_0's auc: 0.679637\n"
     ]
    },
    {
     "name": "stderr",
     "output_type": "stream",
     "text": [
      "9it [04:54, 32.62s/it]"
     ]
    },
    {
     "name": "stdout",
     "output_type": "stream",
     "text": [
      "[LightGBM] [Warning] min_data_in_leaf is set=621, min_child_samples=20 will be ignored. Current value: min_data_in_leaf=621\n",
      "Training until validation scores don't improve for 400 rounds\n",
      "Did not meet early stopping. Best iteration is:\n",
      "[5697]\tvalid_0's auc: 0.67745\n"
     ]
    },
    {
     "name": "stderr",
     "output_type": "stream",
     "text": [
      "10it [05:27, 32.78s/it]\n",
      "\u001b[32m[I 2021-11-03 12:29:03,393]\u001b[0m Trial 69 finished with value: 0.6781208879216332 and parameters: {'learning_rate': 0.0010663879071016041, 'n_estimators': 5697, 'max_depth': 5, 'num_leaves': 2, 'reg_alpha': 5.51573628893137, 'reg_lambda': 2.639023061599076, 'min_data_in_leaf': 621}. Best is trial 19 with value: 0.7475782744060069.\u001b[0m\n",
      "0it [00:00, ?it/s]"
     ]
    },
    {
     "name": "stdout",
     "output_type": "stream",
     "text": [
      "[LightGBM] [Warning] min_data_in_leaf is set=556, min_child_samples=20 will be ignored. Current value: min_data_in_leaf=556\n",
      "Training until validation scores don't improve for 400 rounds\n",
      "Early stopping, best iteration is:\n",
      "[218]\tvalid_0's auc: 0.737085\n"
     ]
    },
    {
     "name": "stderr",
     "output_type": "stream",
     "text": [
      "1it [00:13, 13.48s/it]"
     ]
    },
    {
     "name": "stdout",
     "output_type": "stream",
     "text": [
      "[LightGBM] [Warning] min_data_in_leaf is set=556, min_child_samples=20 will be ignored. Current value: min_data_in_leaf=556\n",
      "Training until validation scores don't improve for 400 rounds\n",
      "Early stopping, best iteration is:\n",
      "[209]\tvalid_0's auc: 0.736318\n"
     ]
    },
    {
     "name": "stderr",
     "output_type": "stream",
     "text": [
      "2it [00:26, 13.32s/it]"
     ]
    },
    {
     "name": "stdout",
     "output_type": "stream",
     "text": [
      "[LightGBM] [Warning] min_data_in_leaf is set=556, min_child_samples=20 will be ignored. Current value: min_data_in_leaf=556\n",
      "Training until validation scores don't improve for 400 rounds\n",
      "Early stopping, best iteration is:\n",
      "[221]\tvalid_0's auc: 0.740458\n"
     ]
    },
    {
     "name": "stderr",
     "output_type": "stream",
     "text": [
      "3it [00:40, 13.32s/it]"
     ]
    },
    {
     "name": "stdout",
     "output_type": "stream",
     "text": [
      "[LightGBM] [Warning] min_data_in_leaf is set=556, min_child_samples=20 will be ignored. Current value: min_data_in_leaf=556\n",
      "Training until validation scores don't improve for 400 rounds\n",
      "Early stopping, best iteration is:\n",
      "[198]\tvalid_0's auc: 0.740378\n"
     ]
    },
    {
     "name": "stderr",
     "output_type": "stream",
     "text": [
      "4it [00:53, 13.26s/it]"
     ]
    },
    {
     "name": "stdout",
     "output_type": "stream",
     "text": [
      "[LightGBM] [Warning] min_data_in_leaf is set=556, min_child_samples=20 will be ignored. Current value: min_data_in_leaf=556\n",
      "Training until validation scores don't improve for 400 rounds\n",
      "Early stopping, best iteration is:\n",
      "[199]\tvalid_0's auc: 0.737186\n"
     ]
    },
    {
     "name": "stderr",
     "output_type": "stream",
     "text": [
      "5it [01:06, 13.19s/it]"
     ]
    },
    {
     "name": "stdout",
     "output_type": "stream",
     "text": [
      "[LightGBM] [Warning] min_data_in_leaf is set=556, min_child_samples=20 will be ignored. Current value: min_data_in_leaf=556\n",
      "Training until validation scores don't improve for 400 rounds\n",
      "Early stopping, best iteration is:\n",
      "[214]\tvalid_0's auc: 0.738682\n"
     ]
    },
    {
     "name": "stderr",
     "output_type": "stream",
     "text": [
      "6it [01:19, 13.21s/it]"
     ]
    },
    {
     "name": "stdout",
     "output_type": "stream",
     "text": [
      "[LightGBM] [Warning] min_data_in_leaf is set=556, min_child_samples=20 will be ignored. Current value: min_data_in_leaf=556\n",
      "Training until validation scores don't improve for 400 rounds\n",
      "Early stopping, best iteration is:\n",
      "[235]\tvalid_0's auc: 0.739902\n"
     ]
    },
    {
     "name": "stderr",
     "output_type": "stream",
     "text": [
      "7it [01:33, 13.33s/it]"
     ]
    },
    {
     "name": "stdout",
     "output_type": "stream",
     "text": [
      "[LightGBM] [Warning] min_data_in_leaf is set=556, min_child_samples=20 will be ignored. Current value: min_data_in_leaf=556\n",
      "Training until validation scores don't improve for 400 rounds\n",
      "Early stopping, best iteration is:\n",
      "[203]\tvalid_0's auc: 0.733496\n"
     ]
    },
    {
     "name": "stderr",
     "output_type": "stream",
     "text": [
      "8it [01:46, 13.27s/it]"
     ]
    },
    {
     "name": "stdout",
     "output_type": "stream",
     "text": [
      "[LightGBM] [Warning] min_data_in_leaf is set=556, min_child_samples=20 will be ignored. Current value: min_data_in_leaf=556\n",
      "Training until validation scores don't improve for 400 rounds\n",
      "Early stopping, best iteration is:\n",
      "[167]\tvalid_0's auc: 0.736641\n"
     ]
    },
    {
     "name": "stderr",
     "output_type": "stream",
     "text": [
      "9it [01:58, 12.97s/it]"
     ]
    },
    {
     "name": "stdout",
     "output_type": "stream",
     "text": [
      "[LightGBM] [Warning] min_data_in_leaf is set=556, min_child_samples=20 will be ignored. Current value: min_data_in_leaf=556\n",
      "Training until validation scores don't improve for 400 rounds\n",
      "Early stopping, best iteration is:\n",
      "[204]\tvalid_0's auc: 0.740832\n"
     ]
    },
    {
     "name": "stderr",
     "output_type": "stream",
     "text": [
      "10it [02:11, 13.16s/it]\n",
      "\u001b[32m[I 2021-11-03 12:31:15,141]\u001b[0m Trial 70 finished with value: 0.7380978582538502 and parameters: {'learning_rate': 0.18996448828389562, 'n_estimators': 6435, 'max_depth': 7, 'num_leaves': 50, 'reg_alpha': 3.5442463687897225, 'reg_lambda': 5.252952609512102, 'min_data_in_leaf': 556}. Best is trial 19 with value: 0.7475782744060069.\u001b[0m\n",
      "0it [00:00, ?it/s]"
     ]
    },
    {
     "name": "stdout",
     "output_type": "stream",
     "text": [
      "[LightGBM] [Warning] min_data_in_leaf is set=483, min_child_samples=20 will be ignored. Current value: min_data_in_leaf=483\n",
      "Training until validation scores don't improve for 400 rounds\n",
      "Early stopping, best iteration is:\n",
      "[2232]\tvalid_0's auc: 0.747741\n"
     ]
    },
    {
     "name": "stderr",
     "output_type": "stream",
     "text": [
      "1it [00:17, 17.30s/it]"
     ]
    },
    {
     "name": "stdout",
     "output_type": "stream",
     "text": [
      "[LightGBM] [Warning] min_data_in_leaf is set=483, min_child_samples=20 will be ignored. Current value: min_data_in_leaf=483\n",
      "Training until validation scores don't improve for 400 rounds\n",
      "Early stopping, best iteration is:\n",
      "[2305]\tvalid_0's auc: 0.746049\n"
     ]
    },
    {
     "name": "stderr",
     "output_type": "stream",
     "text": [
      "2it [00:35, 17.54s/it]"
     ]
    },
    {
     "name": "stdout",
     "output_type": "stream",
     "text": [
      "[LightGBM] [Warning] min_data_in_leaf is set=483, min_child_samples=20 will be ignored. Current value: min_data_in_leaf=483\n",
      "Training until validation scores don't improve for 400 rounds\n",
      "Early stopping, best iteration is:\n",
      "[1314]\tvalid_0's auc: 0.745008\n"
     ]
    },
    {
     "name": "stderr",
     "output_type": "stream",
     "text": [
      "3it [00:47, 15.14s/it]"
     ]
    },
    {
     "name": "stdout",
     "output_type": "stream",
     "text": [
      "[LightGBM] [Warning] min_data_in_leaf is set=483, min_child_samples=20 will be ignored. Current value: min_data_in_leaf=483\n",
      "Training until validation scores don't improve for 400 rounds\n",
      "Early stopping, best iteration is:\n",
      "[1641]\tvalid_0's auc: 0.746457\n"
     ]
    },
    {
     "name": "stderr",
     "output_type": "stream",
     "text": [
      "4it [01:01, 14.81s/it]"
     ]
    },
    {
     "name": "stdout",
     "output_type": "stream",
     "text": [
      "[LightGBM] [Warning] min_data_in_leaf is set=483, min_child_samples=20 will be ignored. Current value: min_data_in_leaf=483\n",
      "Training until validation scores don't improve for 400 rounds\n",
      "Early stopping, best iteration is:\n",
      "[1492]\tvalid_0's auc: 0.743661\n"
     ]
    },
    {
     "name": "stderr",
     "output_type": "stream",
     "text": [
      "5it [01:15, 14.35s/it]"
     ]
    },
    {
     "name": "stdout",
     "output_type": "stream",
     "text": [
      "[LightGBM] [Warning] min_data_in_leaf is set=483, min_child_samples=20 will be ignored. Current value: min_data_in_leaf=483\n",
      "Training until validation scores don't improve for 400 rounds\n",
      "Early stopping, best iteration is:\n",
      "[2276]\tvalid_0's auc: 0.746082\n"
     ]
    },
    {
     "name": "stderr",
     "output_type": "stream",
     "text": [
      "6it [01:32, 15.54s/it]"
     ]
    },
    {
     "name": "stdout",
     "output_type": "stream",
     "text": [
      "[LightGBM] [Warning] min_data_in_leaf is set=483, min_child_samples=20 will be ignored. Current value: min_data_in_leaf=483\n",
      "Training until validation scores don't improve for 400 rounds\n",
      "Early stopping, best iteration is:\n",
      "[1722]\tvalid_0's auc: 0.746272\n"
     ]
    },
    {
     "name": "stderr",
     "output_type": "stream",
     "text": [
      "7it [01:47, 15.17s/it]"
     ]
    },
    {
     "name": "stdout",
     "output_type": "stream",
     "text": [
      "[LightGBM] [Warning] min_data_in_leaf is set=483, min_child_samples=20 will be ignored. Current value: min_data_in_leaf=483\n",
      "Training until validation scores don't improve for 400 rounds\n",
      "Early stopping, best iteration is:\n",
      "[1645]\tvalid_0's auc: 0.744713\n"
     ]
    },
    {
     "name": "stderr",
     "output_type": "stream",
     "text": [
      "8it [02:01, 14.86s/it]"
     ]
    },
    {
     "name": "stdout",
     "output_type": "stream",
     "text": [
      "[LightGBM] [Warning] min_data_in_leaf is set=483, min_child_samples=20 will be ignored. Current value: min_data_in_leaf=483\n",
      "Training until validation scores don't improve for 400 rounds\n",
      "Early stopping, best iteration is:\n",
      "[1421]\tvalid_0's auc: 0.74689\n"
     ]
    },
    {
     "name": "stderr",
     "output_type": "stream",
     "text": [
      "9it [02:14, 14.32s/it]"
     ]
    },
    {
     "name": "stdout",
     "output_type": "stream",
     "text": [
      "[LightGBM] [Warning] min_data_in_leaf is set=483, min_child_samples=20 will be ignored. Current value: min_data_in_leaf=483\n",
      "Training until validation scores don't improve for 400 rounds\n",
      "Early stopping, best iteration is:\n",
      "[1751]\tvalid_0's auc: 0.748095\n"
     ]
    },
    {
     "name": "stderr",
     "output_type": "stream",
     "text": [
      "10it [02:29, 14.96s/it]\n",
      "\u001b[32m[I 2021-11-03 12:33:44,881]\u001b[0m Trial 71 finished with value: 0.746096738337662 and parameters: {'learning_rate': 0.13391102392864476, 'n_estimators': 8363, 'max_depth': 8, 'num_leaves': 4, 'reg_alpha': 4.4528817116270005, 'reg_lambda': 3.2068520236687053, 'min_data_in_leaf': 483}. Best is trial 19 with value: 0.7475782744060069.\u001b[0m\n",
      "0it [00:00, ?it/s]"
     ]
    },
    {
     "name": "stdout",
     "output_type": "stream",
     "text": [
      "[LightGBM] [Warning] min_data_in_leaf is set=691, min_child_samples=20 will be ignored. Current value: min_data_in_leaf=691\n",
      "Training until validation scores don't improve for 400 rounds\n",
      "Early stopping, best iteration is:\n",
      "[2560]\tvalid_0's auc: 0.748049\n"
     ]
    },
    {
     "name": "stderr",
     "output_type": "stream",
     "text": [
      "1it [00:18, 18.15s/it]"
     ]
    },
    {
     "name": "stdout",
     "output_type": "stream",
     "text": [
      "[LightGBM] [Warning] min_data_in_leaf is set=691, min_child_samples=20 will be ignored. Current value: min_data_in_leaf=691\n",
      "Training until validation scores don't improve for 400 rounds\n",
      "Early stopping, best iteration is:\n",
      "[2614]\tvalid_0's auc: 0.745661\n"
     ]
    },
    {
     "name": "stderr",
     "output_type": "stream",
     "text": [
      "2it [00:36, 18.37s/it]"
     ]
    },
    {
     "name": "stdout",
     "output_type": "stream",
     "text": [
      "[LightGBM] [Warning] min_data_in_leaf is set=691, min_child_samples=20 will be ignored. Current value: min_data_in_leaf=691\n",
      "Training until validation scores don't improve for 400 rounds\n",
      "Early stopping, best iteration is:\n",
      "[2598]\tvalid_0's auc: 0.747514\n"
     ]
    },
    {
     "name": "stderr",
     "output_type": "stream",
     "text": [
      "3it [00:55, 18.39s/it]"
     ]
    },
    {
     "name": "stdout",
     "output_type": "stream",
     "text": [
      "[LightGBM] [Warning] min_data_in_leaf is set=691, min_child_samples=20 will be ignored. Current value: min_data_in_leaf=691\n",
      "Training until validation scores don't improve for 400 rounds\n",
      "Early stopping, best iteration is:\n",
      "[3434]\tvalid_0's auc: 0.744873\n"
     ]
    },
    {
     "name": "stderr",
     "output_type": "stream",
     "text": [
      "4it [01:18, 20.18s/it]"
     ]
    },
    {
     "name": "stdout",
     "output_type": "stream",
     "text": [
      "[LightGBM] [Warning] min_data_in_leaf is set=691, min_child_samples=20 will be ignored. Current value: min_data_in_leaf=691\n",
      "Training until validation scores don't improve for 400 rounds\n",
      "Early stopping, best iteration is:\n",
      "[2057]\tvalid_0's auc: 0.748108\n"
     ]
    },
    {
     "name": "stderr",
     "output_type": "stream",
     "text": [
      "5it [01:33, 18.53s/it]"
     ]
    },
    {
     "name": "stdout",
     "output_type": "stream",
     "text": [
      "[LightGBM] [Warning] min_data_in_leaf is set=691, min_child_samples=20 will be ignored. Current value: min_data_in_leaf=691\n",
      "Training until validation scores don't improve for 400 rounds\n",
      "Early stopping, best iteration is:\n",
      "[2269]\tvalid_0's auc: 0.744487\n"
     ]
    },
    {
     "name": "stderr",
     "output_type": "stream",
     "text": [
      "6it [01:50, 17.86s/it]"
     ]
    },
    {
     "name": "stdout",
     "output_type": "stream",
     "text": [
      "[LightGBM] [Warning] min_data_in_leaf is set=691, min_child_samples=20 will be ignored. Current value: min_data_in_leaf=691\n",
      "Training until validation scores don't improve for 400 rounds\n",
      "Early stopping, best iteration is:\n",
      "[2193]\tvalid_0's auc: 0.744341\n"
     ]
    },
    {
     "name": "stderr",
     "output_type": "stream",
     "text": [
      "7it [02:06, 17.32s/it]"
     ]
    },
    {
     "name": "stdout",
     "output_type": "stream",
     "text": [
      "[LightGBM] [Warning] min_data_in_leaf is set=691, min_child_samples=20 will be ignored. Current value: min_data_in_leaf=691\n",
      "Training until validation scores don't improve for 400 rounds\n",
      "Early stopping, best iteration is:\n",
      "[2599]\tvalid_0's auc: 0.746766\n"
     ]
    },
    {
     "name": "stderr",
     "output_type": "stream",
     "text": [
      "8it [02:24, 17.68s/it]"
     ]
    },
    {
     "name": "stdout",
     "output_type": "stream",
     "text": [
      "[LightGBM] [Warning] min_data_in_leaf is set=691, min_child_samples=20 will be ignored. Current value: min_data_in_leaf=691\n",
      "Training until validation scores don't improve for 400 rounds\n",
      "Early stopping, best iteration is:\n",
      "[2253]\tvalid_0's auc: 0.75053\n"
     ]
    },
    {
     "name": "stderr",
     "output_type": "stream",
     "text": [
      "9it [02:41, 17.30s/it]"
     ]
    },
    {
     "name": "stdout",
     "output_type": "stream",
     "text": [
      "[LightGBM] [Warning] min_data_in_leaf is set=691, min_child_samples=20 will be ignored. Current value: min_data_in_leaf=691\n",
      "Training until validation scores don't improve for 400 rounds\n",
      "Early stopping, best iteration is:\n",
      "[2395]\tvalid_0's auc: 0.750354\n"
     ]
    },
    {
     "name": "stderr",
     "output_type": "stream",
     "text": [
      "10it [02:58, 17.87s/it]\n",
      "\u001b[32m[I 2021-11-03 12:36:43,700]\u001b[0m Trial 72 finished with value: 0.7470682976457056 and parameters: {'learning_rate': 0.22029098253386017, 'n_estimators': 6803, 'max_depth': 9, 'num_leaves': 2, 'reg_alpha': 4.056455772821801, 'reg_lambda': 3.650761553937355, 'min_data_in_leaf': 691}. Best is trial 19 with value: 0.7475782744060069.\u001b[0m\n",
      "0it [00:00, ?it/s]"
     ]
    },
    {
     "name": "stdout",
     "output_type": "stream",
     "text": [
      "[LightGBM] [Warning] min_data_in_leaf is set=700, min_child_samples=20 will be ignored. Current value: min_data_in_leaf=700\n",
      "Training until validation scores don't improve for 400 rounds\n",
      "Early stopping, best iteration is:\n",
      "[431]\tvalid_0's auc: 0.742593\n"
     ]
    },
    {
     "name": "stderr",
     "output_type": "stream",
     "text": [
      "1it [00:08,  8.56s/it]"
     ]
    },
    {
     "name": "stdout",
     "output_type": "stream",
     "text": [
      "[LightGBM] [Warning] min_data_in_leaf is set=700, min_child_samples=20 will be ignored. Current value: min_data_in_leaf=700\n",
      "Training until validation scores don't improve for 400 rounds\n",
      "Early stopping, best iteration is:\n",
      "[524]\tvalid_0's auc: 0.738017\n"
     ]
    },
    {
     "name": "stderr",
     "output_type": "stream",
     "text": [
      "2it [00:17,  8.98s/it]"
     ]
    },
    {
     "name": "stdout",
     "output_type": "stream",
     "text": [
      "[LightGBM] [Warning] min_data_in_leaf is set=700, min_child_samples=20 will be ignored. Current value: min_data_in_leaf=700\n",
      "Training until validation scores don't improve for 400 rounds\n",
      "Early stopping, best iteration is:\n",
      "[576]\tvalid_0's auc: 0.743132\n"
     ]
    },
    {
     "name": "stderr",
     "output_type": "stream",
     "text": [
      "3it [00:26,  8.90s/it]"
     ]
    },
    {
     "name": "stdout",
     "output_type": "stream",
     "text": [
      "[LightGBM] [Warning] min_data_in_leaf is set=700, min_child_samples=20 will be ignored. Current value: min_data_in_leaf=700\n",
      "Training until validation scores don't improve for 400 rounds\n",
      "Early stopping, best iteration is:\n",
      "[478]\tvalid_0's auc: 0.743465\n"
     ]
    },
    {
     "name": "stderr",
     "output_type": "stream",
     "text": [
      "4it [00:35,  8.85s/it]"
     ]
    },
    {
     "name": "stdout",
     "output_type": "stream",
     "text": [
      "[LightGBM] [Warning] min_data_in_leaf is set=700, min_child_samples=20 will be ignored. Current value: min_data_in_leaf=700\n",
      "Training until validation scores don't improve for 400 rounds\n",
      "Early stopping, best iteration is:\n",
      "[545]\tvalid_0's auc: 0.743537\n"
     ]
    },
    {
     "name": "stderr",
     "output_type": "stream",
     "text": [
      "5it [00:44,  9.04s/it]"
     ]
    },
    {
     "name": "stdout",
     "output_type": "stream",
     "text": [
      "[LightGBM] [Warning] min_data_in_leaf is set=700, min_child_samples=20 will be ignored. Current value: min_data_in_leaf=700\n",
      "Training until validation scores don't improve for 400 rounds\n",
      "Early stopping, best iteration is:\n",
      "[574]\tvalid_0's auc: 0.743412\n"
     ]
    },
    {
     "name": "stderr",
     "output_type": "stream",
     "text": [
      "6it [00:54,  9.18s/it]"
     ]
    },
    {
     "name": "stdout",
     "output_type": "stream",
     "text": [
      "[LightGBM] [Warning] min_data_in_leaf is set=700, min_child_samples=20 will be ignored. Current value: min_data_in_leaf=700\n",
      "Training until validation scores don't improve for 400 rounds\n",
      "Early stopping, best iteration is:\n",
      "[780]\tvalid_0's auc: 0.742827\n"
     ]
    },
    {
     "name": "stderr",
     "output_type": "stream",
     "text": [
      "7it [01:05,  9.75s/it]"
     ]
    },
    {
     "name": "stdout",
     "output_type": "stream",
     "text": [
      "[LightGBM] [Warning] min_data_in_leaf is set=700, min_child_samples=20 will be ignored. Current value: min_data_in_leaf=700\n",
      "Training until validation scores don't improve for 400 rounds\n",
      "Early stopping, best iteration is:\n",
      "[572]\tvalid_0's auc: 0.742509\n"
     ]
    },
    {
     "name": "stderr",
     "output_type": "stream",
     "text": [
      "8it [01:14,  9.69s/it]"
     ]
    },
    {
     "name": "stdout",
     "output_type": "stream",
     "text": [
      "[LightGBM] [Warning] min_data_in_leaf is set=700, min_child_samples=20 will be ignored. Current value: min_data_in_leaf=700\n",
      "Training until validation scores don't improve for 400 rounds\n",
      "Early stopping, best iteration is:\n",
      "[474]\tvalid_0's auc: 0.741976\n"
     ]
    },
    {
     "name": "stderr",
     "output_type": "stream",
     "text": [
      "9it [01:23,  9.39s/it]"
     ]
    },
    {
     "name": "stdout",
     "output_type": "stream",
     "text": [
      "[LightGBM] [Warning] min_data_in_leaf is set=700, min_child_samples=20 will be ignored. Current value: min_data_in_leaf=700\n",
      "Training until validation scores don't improve for 400 rounds\n",
      "Early stopping, best iteration is:\n",
      "[345]\tvalid_0's auc: 0.742698\n"
     ]
    },
    {
     "name": "stderr",
     "output_type": "stream",
     "text": [
      "10it [01:31,  9.13s/it]\n",
      "\u001b[32m[I 2021-11-03 12:38:15,113]\u001b[0m Trial 73 finished with value: 0.7424166191623244 and parameters: {'learning_rate': 0.22077601880506045, 'n_estimators': 7042, 'max_depth': 10, 'num_leaves': 8, 'reg_alpha': 3.9902422365387795, 'reg_lambda': 3.692758715668302, 'min_data_in_leaf': 700}. Best is trial 19 with value: 0.7475782744060069.\u001b[0m\n",
      "0it [00:00, ?it/s]"
     ]
    },
    {
     "name": "stdout",
     "output_type": "stream",
     "text": [
      "[LightGBM] [Warning] min_data_in_leaf is set=673, min_child_samples=20 will be ignored. Current value: min_data_in_leaf=673\n",
      "Training until validation scores don't improve for 400 rounds\n"
     ]
    },
    {
     "name": "stderr",
     "output_type": "stream",
     "text": [
      "1it [00:07,  7.55s/it]"
     ]
    },
    {
     "name": "stdout",
     "output_type": "stream",
     "text": [
      "Early stopping, best iteration is:\n",
      "[180]\tvalid_0's auc: 0.741524\n",
      "[LightGBM] [Warning] min_data_in_leaf is set=673, min_child_samples=20 will be ignored. Current value: min_data_in_leaf=673\n",
      "Training until validation scores don't improve for 400 rounds\n",
      "Early stopping, best iteration is:\n",
      "[206]\tvalid_0's auc: 0.737428\n"
     ]
    },
    {
     "name": "stderr",
     "output_type": "stream",
     "text": [
      "2it [00:15,  7.73s/it]"
     ]
    },
    {
     "name": "stdout",
     "output_type": "stream",
     "text": [
      "[LightGBM] [Warning] min_data_in_leaf is set=673, min_child_samples=20 will be ignored. Current value: min_data_in_leaf=673\n",
      "Training until validation scores don't improve for 400 rounds\n",
      "Early stopping, best iteration is:\n",
      "[245]\tvalid_0's auc: 0.741553\n"
     ]
    },
    {
     "name": "stderr",
     "output_type": "stream",
     "text": [
      "3it [00:23,  7.91s/it]"
     ]
    },
    {
     "name": "stdout",
     "output_type": "stream",
     "text": [
      "[LightGBM] [Warning] min_data_in_leaf is set=673, min_child_samples=20 will be ignored. Current value: min_data_in_leaf=673\n",
      "Training until validation scores don't improve for 400 rounds\n",
      "Early stopping, best iteration is:\n",
      "[249]\tvalid_0's auc: 0.738085\n"
     ]
    },
    {
     "name": "stderr",
     "output_type": "stream",
     "text": [
      "4it [00:31,  7.97s/it]"
     ]
    },
    {
     "name": "stdout",
     "output_type": "stream",
     "text": [
      "[LightGBM] [Warning] min_data_in_leaf is set=673, min_child_samples=20 will be ignored. Current value: min_data_in_leaf=673\n",
      "Training until validation scores don't improve for 400 rounds\n",
      "Early stopping, best iteration is:\n",
      "[224]\tvalid_0's auc: 0.741057\n"
     ]
    },
    {
     "name": "stderr",
     "output_type": "stream",
     "text": [
      "5it [00:39,  8.00s/it]"
     ]
    },
    {
     "name": "stdout",
     "output_type": "stream",
     "text": [
      "[LightGBM] [Warning] min_data_in_leaf is set=673, min_child_samples=20 will be ignored. Current value: min_data_in_leaf=673\n",
      "Training until validation scores don't improve for 400 rounds\n",
      "Early stopping, best iteration is:\n",
      "[221]\tvalid_0's auc: 0.740799\n"
     ]
    },
    {
     "name": "stderr",
     "output_type": "stream",
     "text": [
      "6it [00:47,  8.03s/it]"
     ]
    },
    {
     "name": "stdout",
     "output_type": "stream",
     "text": [
      "[LightGBM] [Warning] min_data_in_leaf is set=673, min_child_samples=20 will be ignored. Current value: min_data_in_leaf=673\n",
      "Training until validation scores don't improve for 400 rounds\n"
     ]
    },
    {
     "name": "stderr",
     "output_type": "stream",
     "text": [
      "7it [00:55,  7.97s/it]"
     ]
    },
    {
     "name": "stdout",
     "output_type": "stream",
     "text": [
      "Early stopping, best iteration is:\n",
      "[195]\tvalid_0's auc: 0.736489\n",
      "[LightGBM] [Warning] min_data_in_leaf is set=673, min_child_samples=20 will be ignored. Current value: min_data_in_leaf=673\n",
      "Training until validation scores don't improve for 400 rounds\n",
      "Early stopping, best iteration is:\n",
      "[261]\tvalid_0's auc: 0.739427\n"
     ]
    },
    {
     "name": "stderr",
     "output_type": "stream",
     "text": [
      "8it [01:03,  7.87s/it]"
     ]
    },
    {
     "name": "stdout",
     "output_type": "stream",
     "text": [
      "[LightGBM] [Warning] min_data_in_leaf is set=673, min_child_samples=20 will be ignored. Current value: min_data_in_leaf=673\n",
      "Training until validation scores don't improve for 400 rounds\n",
      "Early stopping, best iteration is:\n",
      "[252]\tvalid_0's auc: 0.743336\n"
     ]
    },
    {
     "name": "stderr",
     "output_type": "stream",
     "text": [
      "9it [01:11,  8.03s/it]"
     ]
    },
    {
     "name": "stdout",
     "output_type": "stream",
     "text": [
      "[LightGBM] [Warning] min_data_in_leaf is set=673, min_child_samples=20 will be ignored. Current value: min_data_in_leaf=673\n",
      "Training until validation scores don't improve for 400 rounds\n",
      "Early stopping, best iteration is:\n",
      "[239]\tvalid_0's auc: 0.738101\n"
     ]
    },
    {
     "name": "stderr",
     "output_type": "stream",
     "text": [
      "10it [01:19,  7.95s/it]\n",
      "\u001b[32m[I 2021-11-03 12:39:34,784]\u001b[0m Trial 74 finished with value: 0.7397798660076756 and parameters: {'learning_rate': 0.252775715102395, 'n_estimators': 6668, 'max_depth': 9, 'num_leaves': 13, 'reg_alpha': 4.919696678173685, 'reg_lambda': 4.318631899086963, 'min_data_in_leaf': 673}. Best is trial 19 with value: 0.7475782744060069.\u001b[0m\n",
      "0it [00:00, ?it/s]"
     ]
    },
    {
     "name": "stdout",
     "output_type": "stream",
     "text": [
      "[LightGBM] [Warning] min_data_in_leaf is set=763, min_child_samples=20 will be ignored. Current value: min_data_in_leaf=763\n",
      "Training until validation scores don't improve for 400 rounds\n",
      "Did not meet early stopping. Best iteration is:\n",
      "[5264]\tvalid_0's auc: 0.748036\n"
     ]
    },
    {
     "name": "stderr",
     "output_type": "stream",
     "text": [
      "1it [00:30, 30.94s/it]"
     ]
    },
    {
     "name": "stdout",
     "output_type": "stream",
     "text": [
      "[LightGBM] [Warning] min_data_in_leaf is set=763, min_child_samples=20 will be ignored. Current value: min_data_in_leaf=763\n",
      "Training until validation scores don't improve for 400 rounds\n",
      "Did not meet early stopping. Best iteration is:\n",
      "[5259]\tvalid_0's auc: 0.741743\n"
     ]
    },
    {
     "name": "stderr",
     "output_type": "stream",
     "text": [
      "2it [01:02, 31.02s/it]"
     ]
    },
    {
     "name": "stdout",
     "output_type": "stream",
     "text": [
      "[LightGBM] [Warning] min_data_in_leaf is set=763, min_child_samples=20 will be ignored. Current value: min_data_in_leaf=763\n",
      "Training until validation scores don't improve for 400 rounds\n",
      "Did not meet early stopping. Best iteration is:\n",
      "[5264]\tvalid_0's auc: 0.747233\n"
     ]
    },
    {
     "name": "stderr",
     "output_type": "stream",
     "text": [
      "3it [01:33, 31.06s/it]"
     ]
    },
    {
     "name": "stdout",
     "output_type": "stream",
     "text": [
      "[LightGBM] [Warning] min_data_in_leaf is set=763, min_child_samples=20 will be ignored. Current value: min_data_in_leaf=763\n",
      "Training until validation scores don't improve for 400 rounds\n",
      "Did not meet early stopping. Best iteration is:\n",
      "[5266]\tvalid_0's auc: 0.747751\n"
     ]
    },
    {
     "name": "stderr",
     "output_type": "stream",
     "text": [
      "4it [02:04, 31.02s/it]"
     ]
    },
    {
     "name": "stdout",
     "output_type": "stream",
     "text": [
      "[LightGBM] [Warning] min_data_in_leaf is set=763, min_child_samples=20 will be ignored. Current value: min_data_in_leaf=763\n",
      "Training until validation scores don't improve for 400 rounds\n",
      "Did not meet early stopping. Best iteration is:\n",
      "[5266]\tvalid_0's auc: 0.748006\n"
     ]
    },
    {
     "name": "stderr",
     "output_type": "stream",
     "text": [
      "5it [02:34, 30.98s/it]"
     ]
    },
    {
     "name": "stdout",
     "output_type": "stream",
     "text": [
      "[LightGBM] [Warning] min_data_in_leaf is set=763, min_child_samples=20 will be ignored. Current value: min_data_in_leaf=763\n",
      "Training until validation scores don't improve for 400 rounds\n",
      "Did not meet early stopping. Best iteration is:\n",
      "[5245]\tvalid_0's auc: 0.747613\n"
     ]
    },
    {
     "name": "stderr",
     "output_type": "stream",
     "text": [
      "6it [03:05, 30.95s/it]"
     ]
    },
    {
     "name": "stdout",
     "output_type": "stream",
     "text": [
      "[LightGBM] [Warning] min_data_in_leaf is set=763, min_child_samples=20 will be ignored. Current value: min_data_in_leaf=763\n",
      "Training until validation scores don't improve for 400 rounds\n",
      "Did not meet early stopping. Best iteration is:\n",
      "[5223]\tvalid_0's auc: 0.746966\n"
     ]
    },
    {
     "name": "stderr",
     "output_type": "stream",
     "text": [
      "7it [03:36, 30.92s/it]"
     ]
    },
    {
     "name": "stdout",
     "output_type": "stream",
     "text": [
      "[LightGBM] [Warning] min_data_in_leaf is set=763, min_child_samples=20 will be ignored. Current value: min_data_in_leaf=763\n",
      "Training until validation scores don't improve for 400 rounds\n",
      "Did not meet early stopping. Best iteration is:\n",
      "[5266]\tvalid_0's auc: 0.747509\n"
     ]
    },
    {
     "name": "stderr",
     "output_type": "stream",
     "text": [
      "8it [04:07, 30.91s/it]"
     ]
    },
    {
     "name": "stdout",
     "output_type": "stream",
     "text": [
      "[LightGBM] [Warning] min_data_in_leaf is set=763, min_child_samples=20 will be ignored. Current value: min_data_in_leaf=763\n",
      "Training until validation scores don't improve for 400 rounds\n",
      "Did not meet early stopping. Best iteration is:\n",
      "[5263]\tvalid_0's auc: 0.747145\n"
     ]
    },
    {
     "name": "stderr",
     "output_type": "stream",
     "text": [
      "9it [04:38, 30.93s/it]"
     ]
    },
    {
     "name": "stdout",
     "output_type": "stream",
     "text": [
      "[LightGBM] [Warning] min_data_in_leaf is set=763, min_child_samples=20 will be ignored. Current value: min_data_in_leaf=763\n",
      "Training until validation scores don't improve for 400 rounds\n",
      "Did not meet early stopping. Best iteration is:\n",
      "[5266]\tvalid_0's auc: 0.747166\n"
     ]
    },
    {
     "name": "stderr",
     "output_type": "stream",
     "text": [
      "10it [05:09, 30.96s/it]\n",
      "\u001b[32m[I 2021-11-03 12:44:44,539]\u001b[0m Trial 75 finished with value: 0.7469168206328923 and parameters: {'learning_rate': 0.056386662492177705, 'n_estimators': 5266, 'max_depth': 9, 'num_leaves': 2, 'reg_alpha': 4.224148547267866, 'reg_lambda': 4.52513622001732, 'min_data_in_leaf': 763}. Best is trial 19 with value: 0.7475782744060069.\u001b[0m\n",
      "0it [00:00, ?it/s]"
     ]
    },
    {
     "name": "stdout",
     "output_type": "stream",
     "text": [
      "[LightGBM] [Warning] min_data_in_leaf is set=642, min_child_samples=20 will be ignored. Current value: min_data_in_leaf=642\n",
      "Training until validation scores don't improve for 400 rounds\n",
      "Early stopping, best iteration is:\n",
      "[3331]\tvalid_0's auc: 0.745778\n"
     ]
    },
    {
     "name": "stderr",
     "output_type": "stream",
     "text": [
      "1it [00:24, 24.12s/it]"
     ]
    },
    {
     "name": "stdout",
     "output_type": "stream",
     "text": [
      "[LightGBM] [Warning] min_data_in_leaf is set=642, min_child_samples=20 will be ignored. Current value: min_data_in_leaf=642\n",
      "Training until validation scores don't improve for 400 rounds\n",
      "Early stopping, best iteration is:\n",
      "[3572]\tvalid_0's auc: 0.748835\n"
     ]
    },
    {
     "name": "stderr",
     "output_type": "stream",
     "text": [
      "2it [00:49, 24.79s/it]"
     ]
    },
    {
     "name": "stdout",
     "output_type": "stream",
     "text": [
      "[LightGBM] [Warning] min_data_in_leaf is set=642, min_child_samples=20 will be ignored. Current value: min_data_in_leaf=642\n",
      "Training until validation scores don't improve for 400 rounds\n",
      "Early stopping, best iteration is:\n",
      "[2871]\tvalid_0's auc: 0.748066\n"
     ]
    },
    {
     "name": "stderr",
     "output_type": "stream",
     "text": [
      "3it [01:10, 23.28s/it]"
     ]
    },
    {
     "name": "stdout",
     "output_type": "stream",
     "text": [
      "[LightGBM] [Warning] min_data_in_leaf is set=642, min_child_samples=20 will be ignored. Current value: min_data_in_leaf=642\n",
      "Training until validation scores don't improve for 400 rounds\n",
      "Early stopping, best iteration is:\n",
      "[4033]\tvalid_0's auc: 0.747707\n"
     ]
    },
    {
     "name": "stderr",
     "output_type": "stream",
     "text": [
      "4it [01:38, 25.19s/it]"
     ]
    },
    {
     "name": "stdout",
     "output_type": "stream",
     "text": [
      "[LightGBM] [Warning] min_data_in_leaf is set=642, min_child_samples=20 will be ignored. Current value: min_data_in_leaf=642\n",
      "Training until validation scores don't improve for 400 rounds\n",
      "Early stopping, best iteration is:\n",
      "[4426]\tvalid_0's auc: 0.744794\n"
     ]
    },
    {
     "name": "stderr",
     "output_type": "stream",
     "text": [
      "5it [02:08, 26.82s/it]"
     ]
    },
    {
     "name": "stdout",
     "output_type": "stream",
     "text": [
      "[LightGBM] [Warning] min_data_in_leaf is set=642, min_child_samples=20 will be ignored. Current value: min_data_in_leaf=642\n",
      "Training until validation scores don't improve for 400 rounds\n",
      "Early stopping, best iteration is:\n",
      "[4306]\tvalid_0's auc: 0.748226\n"
     ]
    },
    {
     "name": "stderr",
     "output_type": "stream",
     "text": [
      "6it [02:37, 27.66s/it]"
     ]
    },
    {
     "name": "stdout",
     "output_type": "stream",
     "text": [
      "[LightGBM] [Warning] min_data_in_leaf is set=642, min_child_samples=20 will be ignored. Current value: min_data_in_leaf=642\n",
      "Training until validation scores don't improve for 400 rounds\n",
      "Early stopping, best iteration is:\n",
      "[2946]\tvalid_0's auc: 0.744995\n"
     ]
    },
    {
     "name": "stderr",
     "output_type": "stream",
     "text": [
      "7it [03:00, 25.85s/it]"
     ]
    },
    {
     "name": "stdout",
     "output_type": "stream",
     "text": [
      "[LightGBM] [Warning] min_data_in_leaf is set=642, min_child_samples=20 will be ignored. Current value: min_data_in_leaf=642\n",
      "Training until validation scores don't improve for 400 rounds\n",
      "Early stopping, best iteration is:\n",
      "[3033]\tvalid_0's auc: 0.747588\n"
     ]
    },
    {
     "name": "stderr",
     "output_type": "stream",
     "text": [
      "8it [03:22, 24.75s/it]"
     ]
    },
    {
     "name": "stdout",
     "output_type": "stream",
     "text": [
      "[LightGBM] [Warning] min_data_in_leaf is set=642, min_child_samples=20 will be ignored. Current value: min_data_in_leaf=642\n",
      "Training until validation scores don't improve for 400 rounds\n",
      "Early stopping, best iteration is:\n",
      "[4250]\tvalid_0's auc: 0.744624\n"
     ]
    },
    {
     "name": "stderr",
     "output_type": "stream",
     "text": [
      "9it [03:51, 26.23s/it]"
     ]
    },
    {
     "name": "stdout",
     "output_type": "stream",
     "text": [
      "[LightGBM] [Warning] min_data_in_leaf is set=642, min_child_samples=20 will be ignored. Current value: min_data_in_leaf=642\n",
      "Training until validation scores don't improve for 400 rounds\n",
      "Early stopping, best iteration is:\n",
      "[2929]\tvalid_0's auc: 0.748265\n"
     ]
    },
    {
     "name": "stderr",
     "output_type": "stream",
     "text": [
      "10it [04:13, 25.39s/it]\n",
      "\u001b[32m[I 2021-11-03 12:48:58,622]\u001b[0m Trial 76 finished with value: 0.7468876407806411 and parameters: {'learning_rate': 0.07457657043499959, 'n_estimators': 5296, 'max_depth': 10, 'num_leaves': 4, 'reg_alpha': 2.548057231959844, 'reg_lambda': 4.580102694214494, 'min_data_in_leaf': 642}. Best is trial 19 with value: 0.7475782744060069.\u001b[0m\n",
      "0it [00:00, ?it/s]"
     ]
    },
    {
     "name": "stdout",
     "output_type": "stream",
     "text": [
      "[LightGBM] [Warning] min_data_in_leaf is set=762, min_child_samples=20 will be ignored. Current value: min_data_in_leaf=762\n",
      "Training until validation scores don't improve for 400 rounds\n"
     ]
    },
    {
     "name": "stderr",
     "output_type": "stream",
     "text": [
      "1it [00:06,  6.81s/it]"
     ]
    },
    {
     "name": "stdout",
     "output_type": "stream",
     "text": [
      "Early stopping, best iteration is:\n",
      "[109]\tvalid_0's auc: 0.73399\n",
      "[LightGBM] [Warning] min_data_in_leaf is set=762, min_child_samples=20 will be ignored. Current value: min_data_in_leaf=762\n",
      "Training until validation scores don't improve for 400 rounds\n"
     ]
    },
    {
     "name": "stderr",
     "output_type": "stream",
     "text": [
      "2it [00:14,  7.52s/it]"
     ]
    },
    {
     "name": "stdout",
     "output_type": "stream",
     "text": [
      "Early stopping, best iteration is:\n",
      "[183]\tvalid_0's auc: 0.736236\n",
      "[LightGBM] [Warning] min_data_in_leaf is set=762, min_child_samples=20 will be ignored. Current value: min_data_in_leaf=762\n",
      "Training until validation scores don't improve for 400 rounds\n"
     ]
    },
    {
     "name": "stderr",
     "output_type": "stream",
     "text": [
      "3it [00:22,  7.81s/it]"
     ]
    },
    {
     "name": "stdout",
     "output_type": "stream",
     "text": [
      "Early stopping, best iteration is:\n",
      "[187]\tvalid_0's auc: 0.737604\n",
      "[LightGBM] [Warning] min_data_in_leaf is set=762, min_child_samples=20 will be ignored. Current value: min_data_in_leaf=762\n",
      "Training until validation scores don't improve for 400 rounds\n"
     ]
    },
    {
     "name": "stderr",
     "output_type": "stream",
     "text": [
      "4it [00:31,  7.93s/it]"
     ]
    },
    {
     "name": "stdout",
     "output_type": "stream",
     "text": [
      "Early stopping, best iteration is:\n",
      "[172]\tvalid_0's auc: 0.739763\n",
      "[LightGBM] [Warning] min_data_in_leaf is set=762, min_child_samples=20 will be ignored. Current value: min_data_in_leaf=762\n",
      "Training until validation scores don't improve for 400 rounds\n"
     ]
    },
    {
     "name": "stderr",
     "output_type": "stream",
     "text": [
      "5it [00:38,  7.82s/it]"
     ]
    },
    {
     "name": "stdout",
     "output_type": "stream",
     "text": [
      "Early stopping, best iteration is:\n",
      "[131]\tvalid_0's auc: 0.737459\n",
      "[LightGBM] [Warning] min_data_in_leaf is set=762, min_child_samples=20 will be ignored. Current value: min_data_in_leaf=762\n",
      "Training until validation scores don't improve for 400 rounds\n"
     ]
    },
    {
     "name": "stderr",
     "output_type": "stream",
     "text": [
      "6it [00:46,  7.80s/it]"
     ]
    },
    {
     "name": "stdout",
     "output_type": "stream",
     "text": [
      "Early stopping, best iteration is:\n",
      "[143]\tvalid_0's auc: 0.737661\n",
      "[LightGBM] [Warning] min_data_in_leaf is set=762, min_child_samples=20 will be ignored. Current value: min_data_in_leaf=762\n",
      "Training until validation scores don't improve for 400 rounds\n"
     ]
    },
    {
     "name": "stderr",
     "output_type": "stream",
     "text": [
      "7it [00:54,  7.79s/it]"
     ]
    },
    {
     "name": "stdout",
     "output_type": "stream",
     "text": [
      "Early stopping, best iteration is:\n",
      "[141]\tvalid_0's auc: 0.735993\n",
      "[LightGBM] [Warning] min_data_in_leaf is set=762, min_child_samples=20 will be ignored. Current value: min_data_in_leaf=762\n",
      "Training until validation scores don't improve for 400 rounds\n"
     ]
    },
    {
     "name": "stderr",
     "output_type": "stream",
     "text": [
      "8it [01:01,  7.73s/it]"
     ]
    },
    {
     "name": "stdout",
     "output_type": "stream",
     "text": [
      "Early stopping, best iteration is:\n",
      "[148]\tvalid_0's auc: 0.738641\n",
      "[LightGBM] [Warning] min_data_in_leaf is set=762, min_child_samples=20 will be ignored. Current value: min_data_in_leaf=762\n",
      "Training until validation scores don't improve for 400 rounds\n"
     ]
    },
    {
     "name": "stderr",
     "output_type": "stream",
     "text": [
      "9it [01:10,  7.91s/it]"
     ]
    },
    {
     "name": "stdout",
     "output_type": "stream",
     "text": [
      "Early stopping, best iteration is:\n",
      "[199]\tvalid_0's auc: 0.738753\n",
      "[LightGBM] [Warning] min_data_in_leaf is set=762, min_child_samples=20 will be ignored. Current value: min_data_in_leaf=762\n",
      "Training until validation scores don't improve for 400 rounds\n"
     ]
    },
    {
     "name": "stderr",
     "output_type": "stream",
     "text": [
      "10it [01:18,  8.03s/it]"
     ]
    },
    {
     "name": "stdout",
     "output_type": "stream",
     "text": [
      "Early stopping, best iteration is:\n",
      "[195]\tvalid_0's auc: 0.736684\n"
     ]
    },
    {
     "name": "stderr",
     "output_type": "stream",
     "text": [
      "10it [01:18,  7.85s/it]\n",
      "\u001b[32m[I 2021-11-03 12:50:17,222]\u001b[0m Trial 77 finished with value: 0.737278618670251 and parameters: {'learning_rate': 0.3104932104817244, 'n_estimators': 4983, 'max_depth': 9, 'num_leaves': 16, 'reg_alpha': 3.451262386751135, 'reg_lambda': 4.976277365279509, 'min_data_in_leaf': 762}. Best is trial 19 with value: 0.7475782744060069.\u001b[0m\n",
      "0it [00:00, ?it/s]"
     ]
    },
    {
     "name": "stdout",
     "output_type": "stream",
     "text": [
      "[LightGBM] [Warning] min_data_in_leaf is set=796, min_child_samples=20 will be ignored. Current value: min_data_in_leaf=796\n",
      "Training until validation scores don't improve for 400 rounds\n",
      "Early stopping, best iteration is:\n",
      "[2777]\tvalid_0's auc: 0.747708\n"
     ]
    },
    {
     "name": "stderr",
     "output_type": "stream",
     "text": [
      "1it [00:19, 19.38s/it]"
     ]
    },
    {
     "name": "stdout",
     "output_type": "stream",
     "text": [
      "[LightGBM] [Warning] min_data_in_leaf is set=796, min_child_samples=20 will be ignored. Current value: min_data_in_leaf=796\n",
      "Training until validation scores don't improve for 400 rounds\n",
      "Early stopping, best iteration is:\n",
      "[3296]\tvalid_0's auc: 0.746974\n"
     ]
    },
    {
     "name": "stderr",
     "output_type": "stream",
     "text": [
      "2it [00:41, 21.04s/it]"
     ]
    },
    {
     "name": "stdout",
     "output_type": "stream",
     "text": [
      "[LightGBM] [Warning] min_data_in_leaf is set=796, min_child_samples=20 will be ignored. Current value: min_data_in_leaf=796\n",
      "Training until validation scores don't improve for 400 rounds\n",
      "Early stopping, best iteration is:\n",
      "[3648]\tvalid_0's auc: 0.746163\n"
     ]
    },
    {
     "name": "stderr",
     "output_type": "stream",
     "text": [
      "3it [01:05, 22.45s/it]"
     ]
    },
    {
     "name": "stdout",
     "output_type": "stream",
     "text": [
      "[LightGBM] [Warning] min_data_in_leaf is set=796, min_child_samples=20 will be ignored. Current value: min_data_in_leaf=796\n",
      "Training until validation scores don't improve for 400 rounds\n",
      "Early stopping, best iteration is:\n",
      "[2844]\tvalid_0's auc: 0.746272\n"
     ]
    },
    {
     "name": "stderr",
     "output_type": "stream",
     "text": [
      "4it [01:25, 21.41s/it]"
     ]
    },
    {
     "name": "stdout",
     "output_type": "stream",
     "text": [
      "[LightGBM] [Warning] min_data_in_leaf is set=796, min_child_samples=20 will be ignored. Current value: min_data_in_leaf=796\n",
      "Training until validation scores don't improve for 400 rounds\n",
      "Early stopping, best iteration is:\n",
      "[3188]\tvalid_0's auc: 0.745297\n"
     ]
    },
    {
     "name": "stderr",
     "output_type": "stream",
     "text": [
      "5it [01:47, 21.49s/it]"
     ]
    },
    {
     "name": "stdout",
     "output_type": "stream",
     "text": [
      "[LightGBM] [Warning] min_data_in_leaf is set=796, min_child_samples=20 will be ignored. Current value: min_data_in_leaf=796\n",
      "Training until validation scores don't improve for 400 rounds\n",
      "Early stopping, best iteration is:\n",
      "[3831]\tvalid_0's auc: 0.746948\n"
     ]
    },
    {
     "name": "stderr",
     "output_type": "stream",
     "text": [
      "6it [02:12, 22.72s/it]"
     ]
    },
    {
     "name": "stdout",
     "output_type": "stream",
     "text": [
      "[LightGBM] [Warning] min_data_in_leaf is set=796, min_child_samples=20 will be ignored. Current value: min_data_in_leaf=796\n",
      "Training until validation scores don't improve for 400 rounds\n",
      "Early stopping, best iteration is:\n",
      "[3035]\tvalid_0's auc: 0.747394\n"
     ]
    },
    {
     "name": "stderr",
     "output_type": "stream",
     "text": [
      "7it [02:32, 22.05s/it]"
     ]
    },
    {
     "name": "stdout",
     "output_type": "stream",
     "text": [
      "[LightGBM] [Warning] min_data_in_leaf is set=796, min_child_samples=20 will be ignored. Current value: min_data_in_leaf=796\n",
      "Training until validation scores don't improve for 400 rounds\n",
      "Early stopping, best iteration is:\n",
      "[2677]\tvalid_0's auc: 0.745714\n"
     ]
    },
    {
     "name": "stderr",
     "output_type": "stream",
     "text": [
      "8it [02:51, 21.03s/it]"
     ]
    },
    {
     "name": "stdout",
     "output_type": "stream",
     "text": [
      "[LightGBM] [Warning] min_data_in_leaf is set=796, min_child_samples=20 will be ignored. Current value: min_data_in_leaf=796\n",
      "Training until validation scores don't improve for 400 rounds\n",
      "Early stopping, best iteration is:\n",
      "[3051]\tvalid_0's auc: 0.746951\n"
     ]
    },
    {
     "name": "stderr",
     "output_type": "stream",
     "text": [
      "9it [03:12, 21.00s/it]"
     ]
    },
    {
     "name": "stdout",
     "output_type": "stream",
     "text": [
      "[LightGBM] [Warning] min_data_in_leaf is set=796, min_child_samples=20 will be ignored. Current value: min_data_in_leaf=796\n",
      "Training until validation scores don't improve for 400 rounds\n",
      "Early stopping, best iteration is:\n",
      "[2890]\tvalid_0's auc: 0.753609\n"
     ]
    },
    {
     "name": "stderr",
     "output_type": "stream",
     "text": [
      "10it [03:32, 21.27s/it]\n",
      "\u001b[32m[I 2021-11-03 12:53:50,099]\u001b[0m Trial 78 finished with value: 0.7473028725434697 and parameters: {'learning_rate': 0.17089749454040132, 'n_estimators': 5922, 'max_depth': 5, 'num_leaves': 2, 'reg_alpha': 2.9395503587923137, 'reg_lambda': 3.4678879423016666, 'min_data_in_leaf': 796}. Best is trial 19 with value: 0.7475782744060069.\u001b[0m\n",
      "0it [00:00, ?it/s]"
     ]
    },
    {
     "name": "stdout",
     "output_type": "stream",
     "text": [
      "[LightGBM] [Warning] min_data_in_leaf is set=816, min_child_samples=20 will be ignored. Current value: min_data_in_leaf=816\n",
      "Training until validation scores don't improve for 400 rounds\n",
      "Early stopping, best iteration is:\n",
      "[578]\tvalid_0's auc: 0.740513\n"
     ]
    },
    {
     "name": "stderr",
     "output_type": "stream",
     "text": [
      "1it [00:09,  9.23s/it]"
     ]
    },
    {
     "name": "stdout",
     "output_type": "stream",
     "text": [
      "[LightGBM] [Warning] min_data_in_leaf is set=816, min_child_samples=20 will be ignored. Current value: min_data_in_leaf=816\n",
      "Training until validation scores don't improve for 400 rounds\n",
      "Early stopping, best iteration is:\n",
      "[430]\tvalid_0's auc: 0.743782\n"
     ]
    },
    {
     "name": "stderr",
     "output_type": "stream",
     "text": [
      "2it [00:17,  8.94s/it]"
     ]
    },
    {
     "name": "stdout",
     "output_type": "stream",
     "text": [
      "[LightGBM] [Warning] min_data_in_leaf is set=816, min_child_samples=20 will be ignored. Current value: min_data_in_leaf=816\n",
      "Training until validation scores don't improve for 400 rounds\n",
      "Early stopping, best iteration is:\n",
      "[491]\tvalid_0's auc: 0.743818\n"
     ]
    },
    {
     "name": "stderr",
     "output_type": "stream",
     "text": [
      "3it [00:27,  9.13s/it]"
     ]
    },
    {
     "name": "stdout",
     "output_type": "stream",
     "text": [
      "[LightGBM] [Warning] min_data_in_leaf is set=816, min_child_samples=20 will be ignored. Current value: min_data_in_leaf=816\n",
      "Training until validation scores don't improve for 400 rounds\n",
      "Early stopping, best iteration is:\n",
      "[479]\tvalid_0's auc: 0.74307\n"
     ]
    },
    {
     "name": "stderr",
     "output_type": "stream",
     "text": [
      "4it [00:36,  9.14s/it]"
     ]
    },
    {
     "name": "stdout",
     "output_type": "stream",
     "text": [
      "[LightGBM] [Warning] min_data_in_leaf is set=816, min_child_samples=20 will be ignored. Current value: min_data_in_leaf=816\n",
      "Training until validation scores don't improve for 400 rounds\n",
      "Early stopping, best iteration is:\n",
      "[548]\tvalid_0's auc: 0.74776\n"
     ]
    },
    {
     "name": "stderr",
     "output_type": "stream",
     "text": [
      "5it [00:46,  9.31s/it]"
     ]
    },
    {
     "name": "stdout",
     "output_type": "stream",
     "text": [
      "[LightGBM] [Warning] min_data_in_leaf is set=816, min_child_samples=20 will be ignored. Current value: min_data_in_leaf=816\n",
      "Training until validation scores don't improve for 400 rounds\n",
      "Early stopping, best iteration is:\n",
      "[563]\tvalid_0's auc: 0.742048\n"
     ]
    },
    {
     "name": "stderr",
     "output_type": "stream",
     "text": [
      "6it [00:55,  9.50s/it]"
     ]
    },
    {
     "name": "stdout",
     "output_type": "stream",
     "text": [
      "[LightGBM] [Warning] min_data_in_leaf is set=816, min_child_samples=20 will be ignored. Current value: min_data_in_leaf=816\n",
      "Training until validation scores don't improve for 400 rounds\n",
      "Early stopping, best iteration is:\n",
      "[431]\tvalid_0's auc: 0.737018\n"
     ]
    },
    {
     "name": "stderr",
     "output_type": "stream",
     "text": [
      "7it [01:04,  9.30s/it]"
     ]
    },
    {
     "name": "stdout",
     "output_type": "stream",
     "text": [
      "[LightGBM] [Warning] min_data_in_leaf is set=816, min_child_samples=20 will be ignored. Current value: min_data_in_leaf=816\n",
      "Training until validation scores don't improve for 400 rounds\n",
      "Early stopping, best iteration is:\n",
      "[570]\tvalid_0's auc: 0.744976\n"
     ]
    },
    {
     "name": "stderr",
     "output_type": "stream",
     "text": [
      "8it [01:14,  9.47s/it]"
     ]
    },
    {
     "name": "stdout",
     "output_type": "stream",
     "text": [
      "[LightGBM] [Warning] min_data_in_leaf is set=816, min_child_samples=20 will be ignored. Current value: min_data_in_leaf=816\n",
      "Training until validation scores don't improve for 400 rounds\n",
      "Early stopping, best iteration is:\n",
      "[550]\tvalid_0's auc: 0.739518\n"
     ]
    },
    {
     "name": "stderr",
     "output_type": "stream",
     "text": [
      "9it [01:24,  9.54s/it]"
     ]
    },
    {
     "name": "stdout",
     "output_type": "stream",
     "text": [
      "[LightGBM] [Warning] min_data_in_leaf is set=816, min_child_samples=20 will be ignored. Current value: min_data_in_leaf=816\n",
      "Training until validation scores don't improve for 400 rounds\n",
      "Early stopping, best iteration is:\n",
      "[488]\tvalid_0's auc: 0.743699\n"
     ]
    },
    {
     "name": "stderr",
     "output_type": "stream",
     "text": [
      "10it [01:33,  9.35s/it]\n",
      "\u001b[32m[I 2021-11-03 12:55:23,805]\u001b[0m Trial 79 finished with value: 0.7426201448472044 and parameters: {'learning_rate': 0.19657913569272686, 'n_estimators': 6163, 'max_depth': 5, 'num_leaves': 10, 'reg_alpha': 1.9896226245712025, 'reg_lambda': 2.889499255012427, 'min_data_in_leaf': 816}. Best is trial 19 with value: 0.7475782744060069.\u001b[0m\n",
      "0it [00:00, ?it/s]"
     ]
    },
    {
     "name": "stdout",
     "output_type": "stream",
     "text": [
      "[LightGBM] [Warning] min_data_in_leaf is set=719, min_child_samples=20 will be ignored. Current value: min_data_in_leaf=719\n",
      "Training until validation scores don't improve for 400 rounds\n",
      "Early stopping, best iteration is:\n",
      "[560]\tvalid_0's auc: 0.743042\n"
     ]
    },
    {
     "name": "stderr",
     "output_type": "stream",
     "text": [
      "1it [00:10, 10.90s/it]"
     ]
    },
    {
     "name": "stdout",
     "output_type": "stream",
     "text": [
      "[LightGBM] [Warning] min_data_in_leaf is set=719, min_child_samples=20 will be ignored. Current value: min_data_in_leaf=719\n",
      "Training until validation scores don't improve for 400 rounds\n",
      "Early stopping, best iteration is:\n",
      "[556]\tvalid_0's auc: 0.743266\n"
     ]
    },
    {
     "name": "stderr",
     "output_type": "stream",
     "text": [
      "2it [00:21, 10.92s/it]"
     ]
    },
    {
     "name": "stdout",
     "output_type": "stream",
     "text": [
      "[LightGBM] [Warning] min_data_in_leaf is set=719, min_child_samples=20 will be ignored. Current value: min_data_in_leaf=719\n",
      "Training until validation scores don't improve for 400 rounds\n",
      "Early stopping, best iteration is:\n",
      "[681]\tvalid_0's auc: 0.742925\n"
     ]
    },
    {
     "name": "stderr",
     "output_type": "stream",
     "text": [
      "3it [00:33, 11.48s/it]"
     ]
    },
    {
     "name": "stdout",
     "output_type": "stream",
     "text": [
      "[LightGBM] [Warning] min_data_in_leaf is set=719, min_child_samples=20 will be ignored. Current value: min_data_in_leaf=719\n",
      "Training until validation scores don't improve for 400 rounds\n",
      "Early stopping, best iteration is:\n",
      "[783]\tvalid_0's auc: 0.742347\n"
     ]
    },
    {
     "name": "stderr",
     "output_type": "stream",
     "text": [
      "4it [00:46, 12.06s/it]"
     ]
    },
    {
     "name": "stdout",
     "output_type": "stream",
     "text": [
      "[LightGBM] [Warning] min_data_in_leaf is set=719, min_child_samples=20 will be ignored. Current value: min_data_in_leaf=719\n",
      "Training until validation scores don't improve for 400 rounds\n",
      "Early stopping, best iteration is:\n",
      "[588]\tvalid_0's auc: 0.743925\n"
     ]
    },
    {
     "name": "stderr",
     "output_type": "stream",
     "text": [
      "5it [00:57, 11.67s/it]"
     ]
    },
    {
     "name": "stdout",
     "output_type": "stream",
     "text": [
      "[LightGBM] [Warning] min_data_in_leaf is set=719, min_child_samples=20 will be ignored. Current value: min_data_in_leaf=719\n",
      "Training until validation scores don't improve for 400 rounds\n",
      "Early stopping, best iteration is:\n",
      "[572]\tvalid_0's auc: 0.741579\n"
     ]
    },
    {
     "name": "stderr",
     "output_type": "stream",
     "text": [
      "6it [01:09, 11.48s/it]"
     ]
    },
    {
     "name": "stdout",
     "output_type": "stream",
     "text": [
      "[LightGBM] [Warning] min_data_in_leaf is set=719, min_child_samples=20 will be ignored. Current value: min_data_in_leaf=719\n",
      "Training until validation scores don't improve for 400 rounds\n",
      "Early stopping, best iteration is:\n",
      "[563]\tvalid_0's auc: 0.741702\n"
     ]
    },
    {
     "name": "stderr",
     "output_type": "stream",
     "text": [
      "7it [01:19, 11.31s/it]"
     ]
    },
    {
     "name": "stdout",
     "output_type": "stream",
     "text": [
      "[LightGBM] [Warning] min_data_in_leaf is set=719, min_child_samples=20 will be ignored. Current value: min_data_in_leaf=719\n",
      "Training until validation scores don't improve for 400 rounds\n",
      "Early stopping, best iteration is:\n",
      "[529]\tvalid_0's auc: 0.73925\n"
     ]
    },
    {
     "name": "stderr",
     "output_type": "stream",
     "text": [
      "8it [01:30, 11.08s/it]"
     ]
    },
    {
     "name": "stdout",
     "output_type": "stream",
     "text": [
      "[LightGBM] [Warning] min_data_in_leaf is set=719, min_child_samples=20 will be ignored. Current value: min_data_in_leaf=719\n",
      "Training until validation scores don't improve for 400 rounds\n",
      "Early stopping, best iteration is:\n",
      "[644]\tvalid_0's auc: 0.742329\n"
     ]
    },
    {
     "name": "stderr",
     "output_type": "stream",
     "text": [
      "9it [01:42, 11.20s/it]"
     ]
    },
    {
     "name": "stdout",
     "output_type": "stream",
     "text": [
      "[LightGBM] [Warning] min_data_in_leaf is set=719, min_child_samples=20 will be ignored. Current value: min_data_in_leaf=719\n",
      "Training until validation scores don't improve for 400 rounds\n",
      "Early stopping, best iteration is:\n",
      "[569]\tvalid_0's auc: 0.744651\n"
     ]
    },
    {
     "name": "stderr",
     "output_type": "stream",
     "text": [
      "10it [01:52, 11.29s/it]\n",
      "\u001b[32m[I 2021-11-03 12:57:16,882]\u001b[0m Trial 80 finished with value: 0.7425016161239726 and parameters: {'learning_rate': 0.1576238270726093, 'n_estimators': 5706, 'max_depth': 4, 'num_leaves': 19, 'reg_alpha': 2.9162862011177073, 'reg_lambda': 3.4692886275143056, 'min_data_in_leaf': 719}. Best is trial 19 with value: 0.7475782744060069.\u001b[0m\n",
      "0it [00:00, ?it/s]"
     ]
    },
    {
     "name": "stdout",
     "output_type": "stream",
     "text": [
      "[LightGBM] [Warning] min_data_in_leaf is set=754, min_child_samples=20 will be ignored. Current value: min_data_in_leaf=754\n",
      "Training until validation scores don't improve for 400 rounds\n",
      "Early stopping, best iteration is:\n",
      "[4661]\tvalid_0's auc: 0.745085\n"
     ]
    },
    {
     "name": "stderr",
     "output_type": "stream",
     "text": [
      "1it [00:29, 29.50s/it]"
     ]
    },
    {
     "name": "stdout",
     "output_type": "stream",
     "text": [
      "[LightGBM] [Warning] min_data_in_leaf is set=754, min_child_samples=20 will be ignored. Current value: min_data_in_leaf=754\n",
      "Training until validation scores don't improve for 400 rounds\n",
      "Early stopping, best iteration is:\n",
      "[4585]\tvalid_0's auc: 0.74578\n"
     ]
    },
    {
     "name": "stderr",
     "output_type": "stream",
     "text": [
      "2it [00:58, 29.33s/it]"
     ]
    },
    {
     "name": "stdout",
     "output_type": "stream",
     "text": [
      "[LightGBM] [Warning] min_data_in_leaf is set=754, min_child_samples=20 will be ignored. Current value: min_data_in_leaf=754\n",
      "Training until validation scores don't improve for 400 rounds\n",
      "Early stopping, best iteration is:\n",
      "[4544]\tvalid_0's auc: 0.747313\n"
     ]
    },
    {
     "name": "stderr",
     "output_type": "stream",
     "text": [
      "3it [01:27, 29.15s/it]"
     ]
    },
    {
     "name": "stdout",
     "output_type": "stream",
     "text": [
      "[LightGBM] [Warning] min_data_in_leaf is set=754, min_child_samples=20 will be ignored. Current value: min_data_in_leaf=754\n",
      "Training until validation scores don't improve for 400 rounds\n",
      "Early stopping, best iteration is:\n",
      "[4369]\tvalid_0's auc: 0.74624\n"
     ]
    },
    {
     "name": "stderr",
     "output_type": "stream",
     "text": [
      "4it [01:55, 28.66s/it]"
     ]
    },
    {
     "name": "stdout",
     "output_type": "stream",
     "text": [
      "[LightGBM] [Warning] min_data_in_leaf is set=754, min_child_samples=20 will be ignored. Current value: min_data_in_leaf=754\n",
      "Training until validation scores don't improve for 400 rounds\n",
      "Early stopping, best iteration is:\n",
      "[4728]\tvalid_0's auc: 0.749879\n"
     ]
    },
    {
     "name": "stderr",
     "output_type": "stream",
     "text": [
      "5it [02:25, 29.12s/it]"
     ]
    },
    {
     "name": "stdout",
     "output_type": "stream",
     "text": [
      "[LightGBM] [Warning] min_data_in_leaf is set=754, min_child_samples=20 will be ignored. Current value: min_data_in_leaf=754\n",
      "Training until validation scores don't improve for 400 rounds\n",
      "Early stopping, best iteration is:\n",
      "[4280]\tvalid_0's auc: 0.748209\n"
     ]
    },
    {
     "name": "stderr",
     "output_type": "stream",
     "text": [
      "6it [02:52, 28.55s/it]"
     ]
    },
    {
     "name": "stdout",
     "output_type": "stream",
     "text": [
      "[LightGBM] [Warning] min_data_in_leaf is set=754, min_child_samples=20 will be ignored. Current value: min_data_in_leaf=754\n",
      "Training until validation scores don't improve for 400 rounds\n",
      "Early stopping, best iteration is:\n",
      "[3970]\tvalid_0's auc: 0.746507\n"
     ]
    },
    {
     "name": "stderr",
     "output_type": "stream",
     "text": [
      "7it [03:18, 27.66s/it]"
     ]
    },
    {
     "name": "stdout",
     "output_type": "stream",
     "text": [
      "[LightGBM] [Warning] min_data_in_leaf is set=754, min_child_samples=20 will be ignored. Current value: min_data_in_leaf=754\n",
      "Training until validation scores don't improve for 400 rounds\n",
      "Early stopping, best iteration is:\n",
      "[3988]\tvalid_0's auc: 0.747949\n"
     ]
    },
    {
     "name": "stderr",
     "output_type": "stream",
     "text": [
      "8it [03:44, 27.14s/it]"
     ]
    },
    {
     "name": "stdout",
     "output_type": "stream",
     "text": [
      "[LightGBM] [Warning] min_data_in_leaf is set=754, min_child_samples=20 will be ignored. Current value: min_data_in_leaf=754\n",
      "Training until validation scores don't improve for 400 rounds\n",
      "Early stopping, best iteration is:\n",
      "[4264]\tvalid_0's auc: 0.74835\n"
     ]
    },
    {
     "name": "stderr",
     "output_type": "stream",
     "text": [
      "9it [04:12, 27.23s/it]"
     ]
    },
    {
     "name": "stdout",
     "output_type": "stream",
     "text": [
      "[LightGBM] [Warning] min_data_in_leaf is set=754, min_child_samples=20 will be ignored. Current value: min_data_in_leaf=754\n",
      "Training until validation scores don't improve for 400 rounds\n",
      "Early stopping, best iteration is:\n",
      "[4588]\tvalid_0's auc: 0.748881\n"
     ]
    },
    {
     "name": "stderr",
     "output_type": "stream",
     "text": [
      "10it [04:41, 28.15s/it]\n",
      "\u001b[32m[I 2021-11-03 13:01:58,576]\u001b[0m Trial 81 finished with value: 0.7474192385073655 and parameters: {'learning_rate': 0.11979359361816515, 'n_estimators': 5948, 'max_depth': 6, 'num_leaves': 2, 'reg_alpha': 4.190085322093101, 'reg_lambda': 4.152916496550606, 'min_data_in_leaf': 754}. Best is trial 19 with value: 0.7475782744060069.\u001b[0m\n",
      "0it [00:00, ?it/s]"
     ]
    },
    {
     "name": "stdout",
     "output_type": "stream",
     "text": [
      "[LightGBM] [Warning] min_data_in_leaf is set=794, min_child_samples=20 will be ignored. Current value: min_data_in_leaf=794\n",
      "Training until validation scores don't improve for 400 rounds\n",
      "Early stopping, best iteration is:\n",
      "[2186]\tvalid_0's auc: 0.746679\n"
     ]
    },
    {
     "name": "stderr",
     "output_type": "stream",
     "text": [
      "1it [00:17, 17.30s/it]"
     ]
    },
    {
     "name": "stdout",
     "output_type": "stream",
     "text": [
      "[LightGBM] [Warning] min_data_in_leaf is set=794, min_child_samples=20 will be ignored. Current value: min_data_in_leaf=794\n",
      "Training until validation scores don't improve for 400 rounds\n",
      "Early stopping, best iteration is:\n",
      "[2797]\tvalid_0's auc: 0.745473\n"
     ]
    },
    {
     "name": "stderr",
     "output_type": "stream",
     "text": [
      "2it [00:38, 19.33s/it]"
     ]
    },
    {
     "name": "stdout",
     "output_type": "stream",
     "text": [
      "[LightGBM] [Warning] min_data_in_leaf is set=794, min_child_samples=20 will be ignored. Current value: min_data_in_leaf=794\n",
      "Training until validation scores don't improve for 400 rounds\n",
      "Early stopping, best iteration is:\n",
      "[2124]\tvalid_0's auc: 0.748142\n"
     ]
    },
    {
     "name": "stderr",
     "output_type": "stream",
     "text": [
      "3it [00:55, 18.40s/it]"
     ]
    },
    {
     "name": "stdout",
     "output_type": "stream",
     "text": [
      "[LightGBM] [Warning] min_data_in_leaf is set=794, min_child_samples=20 will be ignored. Current value: min_data_in_leaf=794\n",
      "Training until validation scores don't improve for 400 rounds\n",
      "Early stopping, best iteration is:\n",
      "[2622]\tvalid_0's auc: 0.749575\n"
     ]
    },
    {
     "name": "stderr",
     "output_type": "stream",
     "text": [
      "4it [01:15, 19.07s/it]"
     ]
    },
    {
     "name": "stdout",
     "output_type": "stream",
     "text": [
      "[LightGBM] [Warning] min_data_in_leaf is set=794, min_child_samples=20 will be ignored. Current value: min_data_in_leaf=794\n",
      "Training until validation scores don't improve for 400 rounds\n",
      "Early stopping, best iteration is:\n",
      "[2203]\tvalid_0's auc: 0.744576\n"
     ]
    },
    {
     "name": "stderr",
     "output_type": "stream",
     "text": [
      "5it [01:33, 18.56s/it]"
     ]
    },
    {
     "name": "stdout",
     "output_type": "stream",
     "text": [
      "[LightGBM] [Warning] min_data_in_leaf is set=794, min_child_samples=20 will be ignored. Current value: min_data_in_leaf=794\n",
      "Training until validation scores don't improve for 400 rounds\n",
      "Early stopping, best iteration is:\n",
      "[1912]\tvalid_0's auc: 0.74618\n"
     ]
    },
    {
     "name": "stderr",
     "output_type": "stream",
     "text": [
      "6it [01:48, 17.64s/it]"
     ]
    },
    {
     "name": "stdout",
     "output_type": "stream",
     "text": [
      "[LightGBM] [Warning] min_data_in_leaf is set=794, min_child_samples=20 will be ignored. Current value: min_data_in_leaf=794\n",
      "Training until validation scores don't improve for 400 rounds\n",
      "Early stopping, best iteration is:\n",
      "[2798]\tvalid_0's auc: 0.744097\n"
     ]
    },
    {
     "name": "stderr",
     "output_type": "stream",
     "text": [
      "7it [02:09, 18.73s/it]"
     ]
    },
    {
     "name": "stdout",
     "output_type": "stream",
     "text": [
      "[LightGBM] [Warning] min_data_in_leaf is set=794, min_child_samples=20 will be ignored. Current value: min_data_in_leaf=794\n",
      "Training until validation scores don't improve for 400 rounds\n",
      "Early stopping, best iteration is:\n",
      "[2519]\tvalid_0's auc: 0.747549\n"
     ]
    },
    {
     "name": "stderr",
     "output_type": "stream",
     "text": [
      "8it [02:29, 18.87s/it]"
     ]
    },
    {
     "name": "stdout",
     "output_type": "stream",
     "text": [
      "[LightGBM] [Warning] min_data_in_leaf is set=794, min_child_samples=20 will be ignored. Current value: min_data_in_leaf=794\n",
      "Training until validation scores don't improve for 400 rounds\n",
      "Early stopping, best iteration is:\n",
      "[2244]\tvalid_0's auc: 0.747856\n"
     ]
    },
    {
     "name": "stderr",
     "output_type": "stream",
     "text": [
      "9it [02:46, 18.55s/it]"
     ]
    },
    {
     "name": "stdout",
     "output_type": "stream",
     "text": [
      "[LightGBM] [Warning] min_data_in_leaf is set=794, min_child_samples=20 will be ignored. Current value: min_data_in_leaf=794\n",
      "Training until validation scores don't improve for 400 rounds\n",
      "Early stopping, best iteration is:\n",
      "[2399]\tvalid_0's auc: 0.743839\n"
     ]
    },
    {
     "name": "stderr",
     "output_type": "stream",
     "text": [
      "10it [03:05, 18.51s/it]\n",
      "\u001b[32m[I 2021-11-03 13:05:03,851]\u001b[0m Trial 82 finished with value: 0.7463963630876179 and parameters: {'learning_rate': 0.10657008600685196, 'n_estimators': 6890, 'max_depth': 6, 'num_leaves': 4, 'reg_alpha': 3.7151196737924477, 'reg_lambda': 3.694209430097212, 'min_data_in_leaf': 794}. Best is trial 19 with value: 0.7475782744060069.\u001b[0m\n",
      "0it [00:00, ?it/s]"
     ]
    },
    {
     "name": "stdout",
     "output_type": "stream",
     "text": [
      "[LightGBM] [Warning] min_data_in_leaf is set=687, min_child_samples=20 will be ignored. Current value: min_data_in_leaf=687\n",
      "Training until validation scores don't improve for 400 rounds\n",
      "Early stopping, best iteration is:\n",
      "[733]\tvalid_0's auc: 0.744274\n"
     ]
    },
    {
     "name": "stderr",
     "output_type": "stream",
     "text": [
      "1it [00:10, 10.31s/it]"
     ]
    },
    {
     "name": "stdout",
     "output_type": "stream",
     "text": [
      "[LightGBM] [Warning] min_data_in_leaf is set=687, min_child_samples=20 will be ignored. Current value: min_data_in_leaf=687\n",
      "Training until validation scores don't improve for 400 rounds\n",
      "Early stopping, best iteration is:\n",
      "[725]\tvalid_0's auc: 0.748259\n"
     ]
    },
    {
     "name": "stderr",
     "output_type": "stream",
     "text": [
      "2it [00:20, 10.23s/it]"
     ]
    },
    {
     "name": "stdout",
     "output_type": "stream",
     "text": [
      "[LightGBM] [Warning] min_data_in_leaf is set=687, min_child_samples=20 will be ignored. Current value: min_data_in_leaf=687\n",
      "Training until validation scores don't improve for 400 rounds\n",
      "Early stopping, best iteration is:\n",
      "[792]\tvalid_0's auc: 0.74233\n"
     ]
    },
    {
     "name": "stderr",
     "output_type": "stream",
     "text": [
      "3it [00:31, 10.41s/it]"
     ]
    },
    {
     "name": "stdout",
     "output_type": "stream",
     "text": [
      "[LightGBM] [Warning] min_data_in_leaf is set=687, min_child_samples=20 will be ignored. Current value: min_data_in_leaf=687\n",
      "Training until validation scores don't improve for 400 rounds\n",
      "Early stopping, best iteration is:\n",
      "[723]\tvalid_0's auc: 0.741473\n"
     ]
    },
    {
     "name": "stderr",
     "output_type": "stream",
     "text": [
      "4it [00:41, 10.36s/it]"
     ]
    },
    {
     "name": "stdout",
     "output_type": "stream",
     "text": [
      "[LightGBM] [Warning] min_data_in_leaf is set=687, min_child_samples=20 will be ignored. Current value: min_data_in_leaf=687\n",
      "Training until validation scores don't improve for 400 rounds\n",
      "Early stopping, best iteration is:\n",
      "[729]\tvalid_0's auc: 0.745415\n"
     ]
    },
    {
     "name": "stderr",
     "output_type": "stream",
     "text": [
      "5it [00:51, 10.32s/it]"
     ]
    },
    {
     "name": "stdout",
     "output_type": "stream",
     "text": [
      "[LightGBM] [Warning] min_data_in_leaf is set=687, min_child_samples=20 will be ignored. Current value: min_data_in_leaf=687\n",
      "Training until validation scores don't improve for 400 rounds\n",
      "Early stopping, best iteration is:\n",
      "[1045]\tvalid_0's auc: 0.742193\n"
     ]
    },
    {
     "name": "stderr",
     "output_type": "stream",
     "text": [
      "6it [01:03, 11.01s/it]"
     ]
    },
    {
     "name": "stdout",
     "output_type": "stream",
     "text": [
      "[LightGBM] [Warning] min_data_in_leaf is set=687, min_child_samples=20 will be ignored. Current value: min_data_in_leaf=687\n",
      "Training until validation scores don't improve for 400 rounds\n",
      "Early stopping, best iteration is:\n",
      "[609]\tvalid_0's auc: 0.746016\n"
     ]
    },
    {
     "name": "stderr",
     "output_type": "stream",
     "text": [
      "7it [01:13, 10.52s/it]"
     ]
    },
    {
     "name": "stdout",
     "output_type": "stream",
     "text": [
      "[LightGBM] [Warning] min_data_in_leaf is set=687, min_child_samples=20 will be ignored. Current value: min_data_in_leaf=687\n",
      "Training until validation scores don't improve for 400 rounds\n",
      "Early stopping, best iteration is:\n",
      "[730]\tvalid_0's auc: 0.744164\n"
     ]
    },
    {
     "name": "stderr",
     "output_type": "stream",
     "text": [
      "8it [01:23, 10.46s/it]"
     ]
    },
    {
     "name": "stdout",
     "output_type": "stream",
     "text": [
      "[LightGBM] [Warning] min_data_in_leaf is set=687, min_child_samples=20 will be ignored. Current value: min_data_in_leaf=687\n",
      "Training until validation scores don't improve for 400 rounds\n",
      "Early stopping, best iteration is:\n",
      "[581]\tvalid_0's auc: 0.74188\n"
     ]
    },
    {
     "name": "stderr",
     "output_type": "stream",
     "text": [
      "9it [01:33, 10.13s/it]"
     ]
    },
    {
     "name": "stdout",
     "output_type": "stream",
     "text": [
      "[LightGBM] [Warning] min_data_in_leaf is set=687, min_child_samples=20 will be ignored. Current value: min_data_in_leaf=687\n",
      "Training until validation scores don't improve for 400 rounds\n",
      "Early stopping, best iteration is:\n",
      "[959]\tvalid_0's auc: 0.743785\n"
     ]
    },
    {
     "name": "stderr",
     "output_type": "stream",
     "text": [
      "10it [01:45, 10.50s/it]\n",
      "\u001b[32m[I 2021-11-03 13:06:49,026]\u001b[0m Trial 83 finished with value: 0.743978927883898 and parameters: {'learning_rate': 0.17273931331419298, 'n_estimators': 7380, 'max_depth': 5, 'num_leaves': 7, 'reg_alpha': 0.9266014267984684, 'reg_lambda': 4.171666947967379, 'min_data_in_leaf': 687}. Best is trial 19 with value: 0.7475782744060069.\u001b[0m\n",
      "0it [00:00, ?it/s]"
     ]
    },
    {
     "name": "stdout",
     "output_type": "stream",
     "text": [
      "[LightGBM] [Warning] min_data_in_leaf is set=69, min_child_samples=20 will be ignored. Current value: min_data_in_leaf=69\n",
      "Training until validation scores don't improve for 400 rounds\n",
      "Early stopping, best iteration is:\n",
      "[3544]\tvalid_0's auc: 0.74832\n"
     ]
    },
    {
     "name": "stderr",
     "output_type": "stream",
     "text": [
      "1it [00:23, 23.50s/it]"
     ]
    },
    {
     "name": "stdout",
     "output_type": "stream",
     "text": [
      "[LightGBM] [Warning] min_data_in_leaf is set=69, min_child_samples=20 will be ignored. Current value: min_data_in_leaf=69\n",
      "Training until validation scores don't improve for 400 rounds\n",
      "Early stopping, best iteration is:\n",
      "[3562]\tvalid_0's auc: 0.748541\n"
     ]
    },
    {
     "name": "stderr",
     "output_type": "stream",
     "text": [
      "2it [00:47, 23.64s/it]"
     ]
    },
    {
     "name": "stdout",
     "output_type": "stream",
     "text": [
      "[LightGBM] [Warning] min_data_in_leaf is set=69, min_child_samples=20 will be ignored. Current value: min_data_in_leaf=69\n",
      "Training until validation scores don't improve for 400 rounds\n",
      "Early stopping, best iteration is:\n",
      "[3996]\tvalid_0's auc: 0.748114\n"
     ]
    },
    {
     "name": "stderr",
     "output_type": "stream",
     "text": [
      "3it [01:13, 24.72s/it]"
     ]
    },
    {
     "name": "stdout",
     "output_type": "stream",
     "text": [
      "[LightGBM] [Warning] min_data_in_leaf is set=69, min_child_samples=20 will be ignored. Current value: min_data_in_leaf=69\n",
      "Training until validation scores don't improve for 400 rounds\n",
      "Early stopping, best iteration is:\n",
      "[4504]\tvalid_0's auc: 0.745572\n"
     ]
    },
    {
     "name": "stderr",
     "output_type": "stream",
     "text": [
      "4it [01:41, 26.28s/it]"
     ]
    },
    {
     "name": "stdout",
     "output_type": "stream",
     "text": [
      "[LightGBM] [Warning] min_data_in_leaf is set=69, min_child_samples=20 will be ignored. Current value: min_data_in_leaf=69\n",
      "Training until validation scores don't improve for 400 rounds\n",
      "Early stopping, best iteration is:\n",
      "[3459]\tvalid_0's auc: 0.744345\n"
     ]
    },
    {
     "name": "stderr",
     "output_type": "stream",
     "text": [
      "5it [02:04, 25.12s/it]"
     ]
    },
    {
     "name": "stdout",
     "output_type": "stream",
     "text": [
      "[LightGBM] [Warning] min_data_in_leaf is set=69, min_child_samples=20 will be ignored. Current value: min_data_in_leaf=69\n",
      "Training until validation scores don't improve for 400 rounds\n",
      "Early stopping, best iteration is:\n",
      "[3783]\tvalid_0's auc: 0.750041\n"
     ]
    },
    {
     "name": "stderr",
     "output_type": "stream",
     "text": [
      "6it [02:29, 24.99s/it]"
     ]
    },
    {
     "name": "stdout",
     "output_type": "stream",
     "text": [
      "[LightGBM] [Warning] min_data_in_leaf is set=69, min_child_samples=20 will be ignored. Current value: min_data_in_leaf=69\n",
      "Training until validation scores don't improve for 400 rounds\n",
      "Early stopping, best iteration is:\n",
      "[4022]\tvalid_0's auc: 0.74942\n"
     ]
    },
    {
     "name": "stderr",
     "output_type": "stream",
     "text": [
      "7it [02:55, 25.36s/it]"
     ]
    },
    {
     "name": "stdout",
     "output_type": "stream",
     "text": [
      "[LightGBM] [Warning] min_data_in_leaf is set=69, min_child_samples=20 will be ignored. Current value: min_data_in_leaf=69\n",
      "Training until validation scores don't improve for 400 rounds\n",
      "Early stopping, best iteration is:\n",
      "[3859]\tvalid_0's auc: 0.747433\n"
     ]
    },
    {
     "name": "stderr",
     "output_type": "stream",
     "text": [
      "8it [03:21, 25.30s/it]"
     ]
    },
    {
     "name": "stdout",
     "output_type": "stream",
     "text": [
      "[LightGBM] [Warning] min_data_in_leaf is set=69, min_child_samples=20 will be ignored. Current value: min_data_in_leaf=69\n",
      "Training until validation scores don't improve for 400 rounds\n",
      "Early stopping, best iteration is:\n",
      "[4225]\tvalid_0's auc: 0.746087\n"
     ]
    },
    {
     "name": "stderr",
     "output_type": "stream",
     "text": [
      "9it [03:48, 26.00s/it]"
     ]
    },
    {
     "name": "stdout",
     "output_type": "stream",
     "text": [
      "[LightGBM] [Warning] min_data_in_leaf is set=69, min_child_samples=20 will be ignored. Current value: min_data_in_leaf=69\n",
      "Training until validation scores don't improve for 400 rounds\n",
      "Early stopping, best iteration is:\n",
      "[4152]\tvalid_0's auc: 0.74617\n"
     ]
    },
    {
     "name": "stderr",
     "output_type": "stream",
     "text": [
      "10it [04:15, 25.53s/it]\n",
      "\u001b[32m[I 2021-11-03 13:11:04,513]\u001b[0m Trial 84 finished with value: 0.7474043100878486 and parameters: {'learning_rate': 0.1321241763781557, 'n_estimators': 6350, 'max_depth': 4, 'num_leaves': 2, 'reg_alpha': 3.1148412673664003, 'reg_lambda': 3.359184999994638, 'min_data_in_leaf': 69}. Best is trial 19 with value: 0.7475782744060069.\u001b[0m\n",
      "0it [00:00, ?it/s]"
     ]
    },
    {
     "name": "stdout",
     "output_type": "stream",
     "text": [
      "[LightGBM] [Warning] min_data_in_leaf is set=106, min_child_samples=20 will be ignored. Current value: min_data_in_leaf=106\n",
      "Training until validation scores don't improve for 400 rounds\n",
      "Early stopping, best iteration is:\n",
      "[978]\tvalid_0's auc: 0.746143\n"
     ]
    },
    {
     "name": "stderr",
     "output_type": "stream",
     "text": [
      "1it [00:13, 13.01s/it]"
     ]
    },
    {
     "name": "stdout",
     "output_type": "stream",
     "text": [
      "[LightGBM] [Warning] min_data_in_leaf is set=106, min_child_samples=20 will be ignored. Current value: min_data_in_leaf=106\n",
      "Training until validation scores don't improve for 400 rounds\n",
      "Early stopping, best iteration is:\n",
      "[709]\tvalid_0's auc: 0.742735\n"
     ]
    },
    {
     "name": "stderr",
     "output_type": "stream",
     "text": [
      "2it [00:24, 12.31s/it]"
     ]
    },
    {
     "name": "stdout",
     "output_type": "stream",
     "text": [
      "[LightGBM] [Warning] min_data_in_leaf is set=106, min_child_samples=20 will be ignored. Current value: min_data_in_leaf=106\n",
      "Training until validation scores don't improve for 400 rounds\n",
      "Early stopping, best iteration is:\n",
      "[924]\tvalid_0's auc: 0.74426\n"
     ]
    },
    {
     "name": "stderr",
     "output_type": "stream",
     "text": [
      "3it [00:37, 12.40s/it]"
     ]
    },
    {
     "name": "stdout",
     "output_type": "stream",
     "text": [
      "[LightGBM] [Warning] min_data_in_leaf is set=106, min_child_samples=20 will be ignored. Current value: min_data_in_leaf=106\n",
      "Training until validation scores don't improve for 400 rounds\n",
      "Early stopping, best iteration is:\n",
      "[644]\tvalid_0's auc: 0.741777\n"
     ]
    },
    {
     "name": "stderr",
     "output_type": "stream",
     "text": [
      "4it [00:48, 11.93s/it]"
     ]
    },
    {
     "name": "stdout",
     "output_type": "stream",
     "text": [
      "[LightGBM] [Warning] min_data_in_leaf is set=106, min_child_samples=20 will be ignored. Current value: min_data_in_leaf=106\n",
      "Training until validation scores don't improve for 400 rounds\n",
      "Early stopping, best iteration is:\n",
      "[479]\tvalid_0's auc: 0.740636\n"
     ]
    },
    {
     "name": "stderr",
     "output_type": "stream",
     "text": [
      "5it [00:58, 11.20s/it]"
     ]
    },
    {
     "name": "stdout",
     "output_type": "stream",
     "text": [
      "[LightGBM] [Warning] min_data_in_leaf is set=106, min_child_samples=20 will be ignored. Current value: min_data_in_leaf=106\n",
      "Training until validation scores don't improve for 400 rounds\n",
      "Early stopping, best iteration is:\n",
      "[566]\tvalid_0's auc: 0.745114\n"
     ]
    },
    {
     "name": "stderr",
     "output_type": "stream",
     "text": [
      "6it [01:09, 11.02s/it]"
     ]
    },
    {
     "name": "stdout",
     "output_type": "stream",
     "text": [
      "[LightGBM] [Warning] min_data_in_leaf is set=106, min_child_samples=20 will be ignored. Current value: min_data_in_leaf=106\n",
      "Training until validation scores don't improve for 400 rounds\n",
      "Early stopping, best iteration is:\n",
      "[685]\tvalid_0's auc: 0.747645\n"
     ]
    },
    {
     "name": "stderr",
     "output_type": "stream",
     "text": [
      "7it [01:20, 11.00s/it]"
     ]
    },
    {
     "name": "stdout",
     "output_type": "stream",
     "text": [
      "[LightGBM] [Warning] min_data_in_leaf is set=106, min_child_samples=20 will be ignored. Current value: min_data_in_leaf=106\n",
      "Training until validation scores don't improve for 400 rounds\n",
      "Early stopping, best iteration is:\n",
      "[862]\tvalid_0's auc: 0.741697\n"
     ]
    },
    {
     "name": "stderr",
     "output_type": "stream",
     "text": [
      "8it [01:32, 11.43s/it]"
     ]
    },
    {
     "name": "stdout",
     "output_type": "stream",
     "text": [
      "[LightGBM] [Warning] min_data_in_leaf is set=106, min_child_samples=20 will be ignored. Current value: min_data_in_leaf=106\n",
      "Training until validation scores don't improve for 400 rounds\n",
      "Early stopping, best iteration is:\n",
      "[1422]\tvalid_0's auc: 0.744422\n"
     ]
    },
    {
     "name": "stderr",
     "output_type": "stream",
     "text": [
      "9it [01:49, 13.12s/it]"
     ]
    },
    {
     "name": "stdout",
     "output_type": "stream",
     "text": [
      "[LightGBM] [Warning] min_data_in_leaf is set=106, min_child_samples=20 will be ignored. Current value: min_data_in_leaf=106\n",
      "Training until validation scores don't improve for 400 rounds\n",
      "Early stopping, best iteration is:\n",
      "[650]\tvalid_0's auc: 0.743424\n"
     ]
    },
    {
     "name": "stderr",
     "output_type": "stream",
     "text": [
      "10it [02:00, 12.05s/it]\n",
      "\u001b[32m[I 2021-11-03 13:13:05,185]\u001b[0m Trial 85 finished with value: 0.7437854518554727 and parameters: {'learning_rate': 0.11836044356569049, 'n_estimators': 6291, 'max_depth': 5, 'num_leaves': 11, 'reg_alpha': 2.6617721678939907, 'reg_lambda': 2.3181437032144183, 'min_data_in_leaf': 106}. Best is trial 19 with value: 0.7475782744060069.\u001b[0m\n",
      "0it [00:00, ?it/s]"
     ]
    },
    {
     "name": "stdout",
     "output_type": "stream",
     "text": [
      "[LightGBM] [Warning] min_data_in_leaf is set=311, min_child_samples=20 will be ignored. Current value: min_data_in_leaf=311\n",
      "Training until validation scores don't improve for 400 rounds\n",
      "Early stopping, best iteration is:\n",
      "[1373]\tvalid_0's auc: 0.743773\n"
     ]
    },
    {
     "name": "stderr",
     "output_type": "stream",
     "text": [
      "1it [00:12, 12.80s/it]"
     ]
    },
    {
     "name": "stdout",
     "output_type": "stream",
     "text": [
      "[LightGBM] [Warning] min_data_in_leaf is set=311, min_child_samples=20 will be ignored. Current value: min_data_in_leaf=311\n",
      "Training until validation scores don't improve for 400 rounds\n",
      "Early stopping, best iteration is:\n",
      "[1478]\tvalid_0's auc: 0.749048\n"
     ]
    },
    {
     "name": "stderr",
     "output_type": "stream",
     "text": [
      "2it [00:26, 13.11s/it]"
     ]
    },
    {
     "name": "stdout",
     "output_type": "stream",
     "text": [
      "[LightGBM] [Warning] min_data_in_leaf is set=311, min_child_samples=20 will be ignored. Current value: min_data_in_leaf=311\n",
      "Training until validation scores don't improve for 400 rounds\n",
      "Early stopping, best iteration is:\n",
      "[1754]\tvalid_0's auc: 0.74467\n"
     ]
    },
    {
     "name": "stderr",
     "output_type": "stream",
     "text": [
      "3it [00:41, 14.11s/it]"
     ]
    },
    {
     "name": "stdout",
     "output_type": "stream",
     "text": [
      "[LightGBM] [Warning] min_data_in_leaf is set=311, min_child_samples=20 will be ignored. Current value: min_data_in_leaf=311\n",
      "Training until validation scores don't improve for 400 rounds\n",
      "Early stopping, best iteration is:\n",
      "[1274]\tvalid_0's auc: 0.748974\n"
     ]
    },
    {
     "name": "stderr",
     "output_type": "stream",
     "text": [
      "4it [00:53, 13.21s/it]"
     ]
    },
    {
     "name": "stdout",
     "output_type": "stream",
     "text": [
      "[LightGBM] [Warning] min_data_in_leaf is set=311, min_child_samples=20 will be ignored. Current value: min_data_in_leaf=311\n",
      "Training until validation scores don't improve for 400 rounds\n",
      "Early stopping, best iteration is:\n",
      "[1083]\tvalid_0's auc: 0.745811\n"
     ]
    },
    {
     "name": "stderr",
     "output_type": "stream",
     "text": [
      "5it [01:04, 12.49s/it]"
     ]
    },
    {
     "name": "stdout",
     "output_type": "stream",
     "text": [
      "[LightGBM] [Warning] min_data_in_leaf is set=311, min_child_samples=20 will be ignored. Current value: min_data_in_leaf=311\n",
      "Training until validation scores don't improve for 400 rounds\n",
      "Early stopping, best iteration is:\n",
      "[1592]\tvalid_0's auc: 0.745098\n"
     ]
    },
    {
     "name": "stderr",
     "output_type": "stream",
     "text": [
      "6it [01:18, 13.14s/it]"
     ]
    },
    {
     "name": "stdout",
     "output_type": "stream",
     "text": [
      "[LightGBM] [Warning] min_data_in_leaf is set=311, min_child_samples=20 will be ignored. Current value: min_data_in_leaf=311\n",
      "Training until validation scores don't improve for 400 rounds\n",
      "Early stopping, best iteration is:\n",
      "[1336]\tvalid_0's auc: 0.747133\n"
     ]
    },
    {
     "name": "stderr",
     "output_type": "stream",
     "text": [
      "7it [01:31, 13.05s/it]"
     ]
    },
    {
     "name": "stdout",
     "output_type": "stream",
     "text": [
      "[LightGBM] [Warning] min_data_in_leaf is set=311, min_child_samples=20 will be ignored. Current value: min_data_in_leaf=311\n",
      "Training until validation scores don't improve for 400 rounds\n",
      "Early stopping, best iteration is:\n",
      "[1266]\tvalid_0's auc: 0.742504\n"
     ]
    },
    {
     "name": "stderr",
     "output_type": "stream",
     "text": [
      "8it [01:44, 12.86s/it]"
     ]
    },
    {
     "name": "stdout",
     "output_type": "stream",
     "text": [
      "[LightGBM] [Warning] min_data_in_leaf is set=311, min_child_samples=20 will be ignored. Current value: min_data_in_leaf=311\n",
      "Training until validation scores don't improve for 400 rounds\n",
      "Early stopping, best iteration is:\n",
      "[1503]\tvalid_0's auc: 0.742308\n"
     ]
    },
    {
     "name": "stderr",
     "output_type": "stream",
     "text": [
      "9it [01:57, 13.05s/it]"
     ]
    },
    {
     "name": "stdout",
     "output_type": "stream",
     "text": [
      "[LightGBM] [Warning] min_data_in_leaf is set=311, min_child_samples=20 will be ignored. Current value: min_data_in_leaf=311\n",
      "Training until validation scores don't improve for 400 rounds\n",
      "Early stopping, best iteration is:\n",
      "[1368]\tvalid_0's auc: 0.742575\n"
     ]
    },
    {
     "name": "stderr",
     "output_type": "stream",
     "text": [
      "10it [02:10, 13.08s/it]\n",
      "\u001b[32m[I 2021-11-03 13:15:16,078]\u001b[0m Trial 86 finished with value: 0.7451894770708215 and parameters: {'learning_rate': 0.142434688920597, 'n_estimators': 6535, 'max_depth': 3, 'num_leaves': 5, 'reg_alpha': 3.0799968789157313, 'reg_lambda': 3.034611902487108, 'min_data_in_leaf': 311}. Best is trial 19 with value: 0.7475782744060069.\u001b[0m\n",
      "0it [00:00, ?it/s]"
     ]
    },
    {
     "name": "stdout",
     "output_type": "stream",
     "text": [
      "[LightGBM] [Warning] min_data_in_leaf is set=863, min_child_samples=20 will be ignored. Current value: min_data_in_leaf=863\n",
      "Training until validation scores don't improve for 400 rounds\n",
      "Early stopping, best iteration is:\n",
      "[529]\tvalid_0's auc: 0.743153\n"
     ]
    },
    {
     "name": "stderr",
     "output_type": "stream",
     "text": [
      "1it [00:09,  9.16s/it]"
     ]
    },
    {
     "name": "stdout",
     "output_type": "stream",
     "text": [
      "[LightGBM] [Warning] min_data_in_leaf is set=863, min_child_samples=20 will be ignored. Current value: min_data_in_leaf=863\n",
      "Training until validation scores don't improve for 400 rounds\n",
      "Early stopping, best iteration is:\n",
      "[440]\tvalid_0's auc: 0.741976\n"
     ]
    },
    {
     "name": "stderr",
     "output_type": "stream",
     "text": [
      "2it [00:17,  8.72s/it]"
     ]
    },
    {
     "name": "stdout",
     "output_type": "stream",
     "text": [
      "[LightGBM] [Warning] min_data_in_leaf is set=863, min_child_samples=20 will be ignored. Current value: min_data_in_leaf=863\n",
      "Training until validation scores don't improve for 400 rounds\n",
      "Early stopping, best iteration is:\n",
      "[502]\tvalid_0's auc: 0.743992\n"
     ]
    },
    {
     "name": "stderr",
     "output_type": "stream",
     "text": [
      "3it [00:26,  8.87s/it]"
     ]
    },
    {
     "name": "stdout",
     "output_type": "stream",
     "text": [
      "[LightGBM] [Warning] min_data_in_leaf is set=863, min_child_samples=20 will be ignored. Current value: min_data_in_leaf=863\n",
      "Training until validation scores don't improve for 400 rounds\n",
      "Early stopping, best iteration is:\n",
      "[410]\tvalid_0's auc: 0.74319\n"
     ]
    },
    {
     "name": "stderr",
     "output_type": "stream",
     "text": [
      "4it [00:34,  8.65s/it]"
     ]
    },
    {
     "name": "stdout",
     "output_type": "stream",
     "text": [
      "[LightGBM] [Warning] min_data_in_leaf is set=863, min_child_samples=20 will be ignored. Current value: min_data_in_leaf=863\n",
      "Training until validation scores don't improve for 400 rounds\n",
      "Early stopping, best iteration is:\n",
      "[426]\tvalid_0's auc: 0.739929\n"
     ]
    },
    {
     "name": "stderr",
     "output_type": "stream",
     "text": [
      "5it [00:43,  8.60s/it]"
     ]
    },
    {
     "name": "stdout",
     "output_type": "stream",
     "text": [
      "[LightGBM] [Warning] min_data_in_leaf is set=863, min_child_samples=20 will be ignored. Current value: min_data_in_leaf=863\n",
      "Training until validation scores don't improve for 400 rounds\n",
      "Early stopping, best iteration is:\n",
      "[649]\tvalid_0's auc: 0.740945\n"
     ]
    },
    {
     "name": "stderr",
     "output_type": "stream",
     "text": [
      "6it [00:53,  9.09s/it]"
     ]
    },
    {
     "name": "stdout",
     "output_type": "stream",
     "text": [
      "[LightGBM] [Warning] min_data_in_leaf is set=863, min_child_samples=20 will be ignored. Current value: min_data_in_leaf=863\n",
      "Training until validation scores don't improve for 400 rounds\n",
      "Early stopping, best iteration is:\n",
      "[550]\tvalid_0's auc: 0.744362\n"
     ]
    },
    {
     "name": "stderr",
     "output_type": "stream",
     "text": [
      "7it [01:02,  9.15s/it]"
     ]
    },
    {
     "name": "stdout",
     "output_type": "stream",
     "text": [
      "[LightGBM] [Warning] min_data_in_leaf is set=863, min_child_samples=20 will be ignored. Current value: min_data_in_leaf=863\n",
      "Training until validation scores don't improve for 400 rounds\n",
      "Early stopping, best iteration is:\n",
      "[374]\tvalid_0's auc: 0.741603\n"
     ]
    },
    {
     "name": "stderr",
     "output_type": "stream",
     "text": [
      "8it [01:10,  8.80s/it]"
     ]
    },
    {
     "name": "stdout",
     "output_type": "stream",
     "text": [
      "[LightGBM] [Warning] min_data_in_leaf is set=863, min_child_samples=20 will be ignored. Current value: min_data_in_leaf=863\n",
      "Training until validation scores don't improve for 400 rounds\n",
      "Early stopping, best iteration is:\n",
      "[475]\tvalid_0's auc: 0.739566\n"
     ]
    },
    {
     "name": "stderr",
     "output_type": "stream",
     "text": [
      "9it [01:19,  8.78s/it]"
     ]
    },
    {
     "name": "stdout",
     "output_type": "stream",
     "text": [
      "[LightGBM] [Warning] min_data_in_leaf is set=863, min_child_samples=20 will be ignored. Current value: min_data_in_leaf=863\n",
      "Training until validation scores don't improve for 400 rounds\n",
      "Early stopping, best iteration is:\n",
      "[395]\tvalid_0's auc: 0.744767\n"
     ]
    },
    {
     "name": "stderr",
     "output_type": "stream",
     "text": [
      "10it [01:27,  8.78s/it]\n",
      "\u001b[32m[I 2021-11-03 13:16:44,022]\u001b[0m Trial 87 finished with value: 0.7423483541735566 and parameters: {'learning_rate': 0.21424891401603194, 'n_estimators': 5910, 'max_depth': 4, 'num_leaves': 9, 'reg_alpha': 2.50280570688954, 'reg_lambda': 2.723629200137544, 'min_data_in_leaf': 863}. Best is trial 19 with value: 0.7475782744060069.\u001b[0m\n",
      "0it [00:00, ?it/s]"
     ]
    },
    {
     "name": "stdout",
     "output_type": "stream",
     "text": [
      "[LightGBM] [Warning] min_data_in_leaf is set=95, min_child_samples=20 will be ignored. Current value: min_data_in_leaf=95\n",
      "Training until validation scores don't improve for 400 rounds\n",
      "Did not meet early stopping. Best iteration is:\n",
      "[5565]\tvalid_0's auc: 0.747438\n"
     ]
    },
    {
     "name": "stderr",
     "output_type": "stream",
     "text": [
      "1it [00:38, 38.85s/it]"
     ]
    },
    {
     "name": "stdout",
     "output_type": "stream",
     "text": [
      "[LightGBM] [Warning] min_data_in_leaf is set=95, min_child_samples=20 will be ignored. Current value: min_data_in_leaf=95\n",
      "Training until validation scores don't improve for 400 rounds\n",
      "Did not meet early stopping. Best iteration is:\n",
      "[5565]\tvalid_0's auc: 0.744057\n"
     ]
    },
    {
     "name": "stderr",
     "output_type": "stream",
     "text": [
      "2it [01:17, 38.91s/it]"
     ]
    },
    {
     "name": "stdout",
     "output_type": "stream",
     "text": [
      "[LightGBM] [Warning] min_data_in_leaf is set=95, min_child_samples=20 will be ignored. Current value: min_data_in_leaf=95\n",
      "Training until validation scores don't improve for 400 rounds\n",
      "Did not meet early stopping. Best iteration is:\n",
      "[5563]\tvalid_0's auc: 0.744422\n"
     ]
    },
    {
     "name": "stderr",
     "output_type": "stream",
     "text": [
      "3it [01:56, 39.00s/it]"
     ]
    },
    {
     "name": "stdout",
     "output_type": "stream",
     "text": [
      "[LightGBM] [Warning] min_data_in_leaf is set=95, min_child_samples=20 will be ignored. Current value: min_data_in_leaf=95\n",
      "Training until validation scores don't improve for 400 rounds\n",
      "Did not meet early stopping. Best iteration is:\n",
      "[5565]\tvalid_0's auc: 0.743994\n"
     ]
    },
    {
     "name": "stderr",
     "output_type": "stream",
     "text": [
      "4it [02:36, 39.09s/it]"
     ]
    },
    {
     "name": "stdout",
     "output_type": "stream",
     "text": [
      "[LightGBM] [Warning] min_data_in_leaf is set=95, min_child_samples=20 will be ignored. Current value: min_data_in_leaf=95\n",
      "Training until validation scores don't improve for 400 rounds\n",
      "Did not meet early stopping. Best iteration is:\n",
      "[5565]\tvalid_0's auc: 0.748593\n"
     ]
    },
    {
     "name": "stderr",
     "output_type": "stream",
     "text": [
      "5it [03:14, 38.76s/it]"
     ]
    },
    {
     "name": "stdout",
     "output_type": "stream",
     "text": [
      "[LightGBM] [Warning] min_data_in_leaf is set=95, min_child_samples=20 will be ignored. Current value: min_data_in_leaf=95\n",
      "Training until validation scores don't improve for 400 rounds\n",
      "Did not meet early stopping. Best iteration is:\n",
      "[5562]\tvalid_0's auc: 0.746572\n"
     ]
    },
    {
     "name": "stderr",
     "output_type": "stream",
     "text": [
      "6it [03:52, 38.73s/it]"
     ]
    },
    {
     "name": "stdout",
     "output_type": "stream",
     "text": [
      "[LightGBM] [Warning] min_data_in_leaf is set=95, min_child_samples=20 will be ignored. Current value: min_data_in_leaf=95\n",
      "Training until validation scores don't improve for 400 rounds\n",
      "Did not meet early stopping. Best iteration is:\n",
      "[5562]\tvalid_0's auc: 0.74774\n"
     ]
    },
    {
     "name": "stderr",
     "output_type": "stream",
     "text": [
      "7it [04:31, 38.77s/it]"
     ]
    },
    {
     "name": "stdout",
     "output_type": "stream",
     "text": [
      "[LightGBM] [Warning] min_data_in_leaf is set=95, min_child_samples=20 will be ignored. Current value: min_data_in_leaf=95\n",
      "Training until validation scores don't improve for 400 rounds\n",
      "Did not meet early stopping. Best iteration is:\n",
      "[5565]\tvalid_0's auc: 0.745375\n"
     ]
    },
    {
     "name": "stderr",
     "output_type": "stream",
     "text": [
      "8it [05:10, 38.70s/it]"
     ]
    },
    {
     "name": "stdout",
     "output_type": "stream",
     "text": [
      "[LightGBM] [Warning] min_data_in_leaf is set=95, min_child_samples=20 will be ignored. Current value: min_data_in_leaf=95\n",
      "Training until validation scores don't improve for 400 rounds\n",
      "Did not meet early stopping. Best iteration is:\n",
      "[5565]\tvalid_0's auc: 0.748907\n"
     ]
    },
    {
     "name": "stderr",
     "output_type": "stream",
     "text": [
      "9it [05:48, 38.65s/it]"
     ]
    },
    {
     "name": "stdout",
     "output_type": "stream",
     "text": [
      "[LightGBM] [Warning] min_data_in_leaf is set=95, min_child_samples=20 will be ignored. Current value: min_data_in_leaf=95\n",
      "Training until validation scores don't improve for 400 rounds\n",
      "Did not meet early stopping. Best iteration is:\n",
      "[5562]\tvalid_0's auc: 0.74174\n"
     ]
    },
    {
     "name": "stderr",
     "output_type": "stream",
     "text": [
      "10it [06:27, 38.76s/it]\n",
      "\u001b[32m[I 2021-11-03 13:23:11,770]\u001b[0m Trial 88 finished with value: 0.7458836160801646 and parameters: {'learning_rate': 0.016815883313397242, 'n_estimators': 5565, 'max_depth': 3, 'num_leaves': 4, 'reg_alpha': 3.3126209917020315, 'reg_lambda': 8.376321811104724, 'min_data_in_leaf': 95}. Best is trial 19 with value: 0.7475782744060069.\u001b[0m\n",
      "0it [00:00, ?it/s]"
     ]
    },
    {
     "name": "stdout",
     "output_type": "stream",
     "text": [
      "[LightGBM] [Warning] min_data_in_leaf is set=55, min_child_samples=20 will be ignored. Current value: min_data_in_leaf=55\n",
      "Training until validation scores don't improve for 400 rounds\n",
      "Early stopping, best iteration is:\n",
      "[598]\tvalid_0's auc: 0.742717\n"
     ]
    },
    {
     "name": "stderr",
     "output_type": "stream",
     "text": [
      "1it [00:21, 21.89s/it]"
     ]
    },
    {
     "name": "stdout",
     "output_type": "stream",
     "text": [
      "[LightGBM] [Warning] min_data_in_leaf is set=55, min_child_samples=20 will be ignored. Current value: min_data_in_leaf=55\n",
      "Training until validation scores don't improve for 400 rounds\n",
      "Early stopping, best iteration is:\n",
      "[460]\tvalid_0's auc: 0.739839\n"
     ]
    },
    {
     "name": "stderr",
     "output_type": "stream",
     "text": [
      "2it [00:41, 20.47s/it]"
     ]
    },
    {
     "name": "stdout",
     "output_type": "stream",
     "text": [
      "[LightGBM] [Warning] min_data_in_leaf is set=55, min_child_samples=20 will be ignored. Current value: min_data_in_leaf=55\n",
      "Training until validation scores don't improve for 400 rounds\n",
      "Early stopping, best iteration is:\n",
      "[620]\tvalid_0's auc: 0.741307\n"
     ]
    },
    {
     "name": "stderr",
     "output_type": "stream",
     "text": [
      "3it [01:04, 21.46s/it]"
     ]
    },
    {
     "name": "stdout",
     "output_type": "stream",
     "text": [
      "[LightGBM] [Warning] min_data_in_leaf is set=55, min_child_samples=20 will be ignored. Current value: min_data_in_leaf=55\n",
      "Training until validation scores don't improve for 400 rounds\n",
      "Early stopping, best iteration is:\n",
      "[529]\tvalid_0's auc: 0.742345\n"
     ]
    },
    {
     "name": "stderr",
     "output_type": "stream",
     "text": [
      "4it [01:25, 21.38s/it]"
     ]
    },
    {
     "name": "stdout",
     "output_type": "stream",
     "text": [
      "[LightGBM] [Warning] min_data_in_leaf is set=55, min_child_samples=20 will be ignored. Current value: min_data_in_leaf=55\n",
      "Training until validation scores don't improve for 400 rounds\n",
      "Early stopping, best iteration is:\n",
      "[564]\tvalid_0's auc: 0.744331\n"
     ]
    },
    {
     "name": "stderr",
     "output_type": "stream",
     "text": [
      "5it [01:47, 21.55s/it]"
     ]
    },
    {
     "name": "stdout",
     "output_type": "stream",
     "text": [
      "[LightGBM] [Warning] min_data_in_leaf is set=55, min_child_samples=20 will be ignored. Current value: min_data_in_leaf=55\n",
      "Training until validation scores don't improve for 400 rounds\n",
      "Early stopping, best iteration is:\n",
      "[444]\tvalid_0's auc: 0.741799\n"
     ]
    },
    {
     "name": "stderr",
     "output_type": "stream",
     "text": [
      "6it [02:06, 20.85s/it]"
     ]
    },
    {
     "name": "stdout",
     "output_type": "stream",
     "text": [
      "[LightGBM] [Warning] min_data_in_leaf is set=55, min_child_samples=20 will be ignored. Current value: min_data_in_leaf=55\n",
      "Training until validation scores don't improve for 400 rounds\n",
      "Early stopping, best iteration is:\n",
      "[475]\tvalid_0's auc: 0.740519\n"
     ]
    },
    {
     "name": "stderr",
     "output_type": "stream",
     "text": [
      "7it [02:26, 20.45s/it]"
     ]
    },
    {
     "name": "stdout",
     "output_type": "stream",
     "text": [
      "[LightGBM] [Warning] min_data_in_leaf is set=55, min_child_samples=20 will be ignored. Current value: min_data_in_leaf=55\n",
      "Training until validation scores don't improve for 400 rounds\n",
      "Early stopping, best iteration is:\n",
      "[442]\tvalid_0's auc: 0.741012\n"
     ]
    },
    {
     "name": "stderr",
     "output_type": "stream",
     "text": [
      "8it [02:46, 20.36s/it]"
     ]
    },
    {
     "name": "stdout",
     "output_type": "stream",
     "text": [
      "[LightGBM] [Warning] min_data_in_leaf is set=55, min_child_samples=20 will be ignored. Current value: min_data_in_leaf=55\n",
      "Training until validation scores don't improve for 400 rounds\n",
      "Early stopping, best iteration is:\n",
      "[538]\tvalid_0's auc: 0.742962\n"
     ]
    },
    {
     "name": "stderr",
     "output_type": "stream",
     "text": [
      "9it [03:08, 20.78s/it]"
     ]
    },
    {
     "name": "stdout",
     "output_type": "stream",
     "text": [
      "[LightGBM] [Warning] min_data_in_leaf is set=55, min_child_samples=20 will be ignored. Current value: min_data_in_leaf=55\n",
      "Training until validation scores don't improve for 400 rounds\n",
      "Early stopping, best iteration is:\n",
      "[470]\tvalid_0's auc: 0.742353\n"
     ]
    },
    {
     "name": "stderr",
     "output_type": "stream",
     "text": [
      "10it [03:27, 20.75s/it]\n",
      "\u001b[32m[I 2021-11-03 13:26:39,433]\u001b[0m Trial 89 finished with value: 0.741918401197158 and parameters: {'learning_rate': 0.09392459462126138, 'n_estimators': 5532, 'max_depth': 6, 'num_leaves': 60, 'reg_alpha': 2.073295532184059, 'reg_lambda': 3.3054822394983847, 'min_data_in_leaf': 55}. Best is trial 19 with value: 0.7475782744060069.\u001b[0m\n",
      "0it [00:00, ?it/s]"
     ]
    },
    {
     "name": "stdout",
     "output_type": "stream",
     "text": [
      "[LightGBM] [Warning] min_data_in_leaf is set=363, min_child_samples=20 will be ignored. Current value: min_data_in_leaf=363\n",
      "Training until validation scores don't improve for 400 rounds\n",
      "Early stopping, best iteration is:\n",
      "[691]\tvalid_0's auc: 0.743753\n"
     ]
    },
    {
     "name": "stderr",
     "output_type": "stream",
     "text": [
      "1it [00:11, 11.80s/it]"
     ]
    },
    {
     "name": "stdout",
     "output_type": "stream",
     "text": [
      "[LightGBM] [Warning] min_data_in_leaf is set=363, min_child_samples=20 will be ignored. Current value: min_data_in_leaf=363\n",
      "Training until validation scores don't improve for 400 rounds\n",
      "Early stopping, best iteration is:\n",
      "[711]\tvalid_0's auc: 0.74458\n"
     ]
    },
    {
     "name": "stderr",
     "output_type": "stream",
     "text": [
      "2it [00:23, 11.80s/it]"
     ]
    },
    {
     "name": "stdout",
     "output_type": "stream",
     "text": [
      "[LightGBM] [Warning] min_data_in_leaf is set=363, min_child_samples=20 will be ignored. Current value: min_data_in_leaf=363\n",
      "Training until validation scores don't improve for 400 rounds\n",
      "Early stopping, best iteration is:\n",
      "[559]\tvalid_0's auc: 0.74126\n"
     ]
    },
    {
     "name": "stderr",
     "output_type": "stream",
     "text": [
      "3it [00:34, 11.21s/it]"
     ]
    },
    {
     "name": "stdout",
     "output_type": "stream",
     "text": [
      "[LightGBM] [Warning] min_data_in_leaf is set=363, min_child_samples=20 will be ignored. Current value: min_data_in_leaf=363\n",
      "Training until validation scores don't improve for 400 rounds\n",
      "Early stopping, best iteration is:\n",
      "[602]\tvalid_0's auc: 0.741364\n"
     ]
    },
    {
     "name": "stderr",
     "output_type": "stream",
     "text": [
      "4it [00:45, 11.12s/it]"
     ]
    },
    {
     "name": "stdout",
     "output_type": "stream",
     "text": [
      "[LightGBM] [Warning] min_data_in_leaf is set=363, min_child_samples=20 will be ignored. Current value: min_data_in_leaf=363\n",
      "Training until validation scores don't improve for 400 rounds\n",
      "Early stopping, best iteration is:\n",
      "[575]\tvalid_0's auc: 0.744771\n"
     ]
    },
    {
     "name": "stderr",
     "output_type": "stream",
     "text": [
      "5it [00:55, 11.00s/it]"
     ]
    },
    {
     "name": "stdout",
     "output_type": "stream",
     "text": [
      "[LightGBM] [Warning] min_data_in_leaf is set=363, min_child_samples=20 will be ignored. Current value: min_data_in_leaf=363\n",
      "Training until validation scores don't improve for 400 rounds\n",
      "Early stopping, best iteration is:\n",
      "[594]\tvalid_0's auc: 0.739769\n"
     ]
    },
    {
     "name": "stderr",
     "output_type": "stream",
     "text": [
      "6it [01:06, 11.00s/it]"
     ]
    },
    {
     "name": "stdout",
     "output_type": "stream",
     "text": [
      "[LightGBM] [Warning] min_data_in_leaf is set=363, min_child_samples=20 will be ignored. Current value: min_data_in_leaf=363\n",
      "Training until validation scores don't improve for 400 rounds\n",
      "Early stopping, best iteration is:\n",
      "[634]\tvalid_0's auc: 0.741179\n"
     ]
    },
    {
     "name": "stderr",
     "output_type": "stream",
     "text": [
      "7it [01:18, 11.10s/it]"
     ]
    },
    {
     "name": "stdout",
     "output_type": "stream",
     "text": [
      "[LightGBM] [Warning] min_data_in_leaf is set=363, min_child_samples=20 will be ignored. Current value: min_data_in_leaf=363\n",
      "Training until validation scores don't improve for 400 rounds\n",
      "Early stopping, best iteration is:\n",
      "[542]\tvalid_0's auc: 0.745397\n"
     ]
    },
    {
     "name": "stderr",
     "output_type": "stream",
     "text": [
      "8it [01:28, 10.94s/it]"
     ]
    },
    {
     "name": "stdout",
     "output_type": "stream",
     "text": [
      "[LightGBM] [Warning] min_data_in_leaf is set=363, min_child_samples=20 will be ignored. Current value: min_data_in_leaf=363\n",
      "Training until validation scores don't improve for 400 rounds\n",
      "Early stopping, best iteration is:\n",
      "[729]\tvalid_0's auc: 0.7479\n"
     ]
    },
    {
     "name": "stderr",
     "output_type": "stream",
     "text": [
      "9it [01:40, 11.26s/it]"
     ]
    },
    {
     "name": "stdout",
     "output_type": "stream",
     "text": [
      "[LightGBM] [Warning] min_data_in_leaf is set=363, min_child_samples=20 will be ignored. Current value: min_data_in_leaf=363\n",
      "Training until validation scores don't improve for 400 rounds\n",
      "Early stopping, best iteration is:\n",
      "[538]\tvalid_0's auc: 0.743342\n"
     ]
    },
    {
     "name": "stderr",
     "output_type": "stream",
     "text": [
      "10it [01:51, 11.10s/it]\n",
      "\u001b[32m[I 2021-11-03 13:28:30,603]\u001b[0m Trial 90 finished with value: 0.7433314339315669 and parameters: {'learning_rate': 0.14589484631506067, 'n_estimators': 4909, 'max_depth': 4, 'num_leaves': 13, 'reg_alpha': 2.3334755020030222, 'reg_lambda': 9.995225647629976, 'min_data_in_leaf': 363}. Best is trial 19 with value: 0.7475782744060069.\u001b[0m\n",
      "0it [00:00, ?it/s]"
     ]
    },
    {
     "name": "stdout",
     "output_type": "stream",
     "text": [
      "[LightGBM] [Warning] min_data_in_leaf is set=718, min_child_samples=20 will be ignored. Current value: min_data_in_leaf=718\n",
      "Training until validation scores don't improve for 400 rounds\n",
      "Early stopping, best iteration is:\n",
      "[2696]\tvalid_0's auc: 0.746955\n"
     ]
    },
    {
     "name": "stderr",
     "output_type": "stream",
     "text": [
      "1it [00:18, 18.75s/it]"
     ]
    },
    {
     "name": "stdout",
     "output_type": "stream",
     "text": [
      "[LightGBM] [Warning] min_data_in_leaf is set=718, min_child_samples=20 will be ignored. Current value: min_data_in_leaf=718\n",
      "Training until validation scores don't improve for 400 rounds\n",
      "Early stopping, best iteration is:\n",
      "[2166]\tvalid_0's auc: 0.749606\n"
     ]
    },
    {
     "name": "stderr",
     "output_type": "stream",
     "text": [
      "2it [00:33, 16.53s/it]"
     ]
    },
    {
     "name": "stdout",
     "output_type": "stream",
     "text": [
      "[LightGBM] [Warning] min_data_in_leaf is set=718, min_child_samples=20 will be ignored. Current value: min_data_in_leaf=718\n",
      "Training until validation scores don't improve for 400 rounds\n",
      "Early stopping, best iteration is:\n",
      "[1723]\tvalid_0's auc: 0.746138\n"
     ]
    },
    {
     "name": "stderr",
     "output_type": "stream",
     "text": [
      "3it [00:47, 15.21s/it]"
     ]
    },
    {
     "name": "stdout",
     "output_type": "stream",
     "text": [
      "[LightGBM] [Warning] min_data_in_leaf is set=718, min_child_samples=20 will be ignored. Current value: min_data_in_leaf=718\n",
      "Training until validation scores don't improve for 400 rounds\n",
      "Early stopping, best iteration is:\n",
      "[2160]\tvalid_0's auc: 0.748106\n"
     ]
    },
    {
     "name": "stderr",
     "output_type": "stream",
     "text": [
      "4it [01:03, 15.56s/it]"
     ]
    },
    {
     "name": "stdout",
     "output_type": "stream",
     "text": [
      "[LightGBM] [Warning] min_data_in_leaf is set=718, min_child_samples=20 will be ignored. Current value: min_data_in_leaf=718\n",
      "Training until validation scores don't improve for 400 rounds\n",
      "Early stopping, best iteration is:\n",
      "[2529]\tvalid_0's auc: 0.747689\n"
     ]
    },
    {
     "name": "stderr",
     "output_type": "stream",
     "text": [
      "5it [01:21, 16.48s/it]"
     ]
    },
    {
     "name": "stdout",
     "output_type": "stream",
     "text": [
      "[LightGBM] [Warning] min_data_in_leaf is set=718, min_child_samples=20 will be ignored. Current value: min_data_in_leaf=718\n",
      "Training until validation scores don't improve for 400 rounds\n",
      "Early stopping, best iteration is:\n",
      "[1852]\tvalid_0's auc: 0.747378\n"
     ]
    },
    {
     "name": "stderr",
     "output_type": "stream",
     "text": [
      "6it [01:35, 15.73s/it]"
     ]
    },
    {
     "name": "stdout",
     "output_type": "stream",
     "text": [
      "[LightGBM] [Warning] min_data_in_leaf is set=718, min_child_samples=20 will be ignored. Current value: min_data_in_leaf=718\n",
      "Training until validation scores don't improve for 400 rounds\n",
      "Early stopping, best iteration is:\n",
      "[2366]\tvalid_0's auc: 0.742158\n"
     ]
    },
    {
     "name": "stderr",
     "output_type": "stream",
     "text": [
      "7it [01:53, 16.20s/it]"
     ]
    },
    {
     "name": "stdout",
     "output_type": "stream",
     "text": [
      "[LightGBM] [Warning] min_data_in_leaf is set=718, min_child_samples=20 will be ignored. Current value: min_data_in_leaf=718\n",
      "Training until validation scores don't improve for 400 rounds\n",
      "Early stopping, best iteration is:\n",
      "[2231]\tvalid_0's auc: 0.748094\n"
     ]
    },
    {
     "name": "stderr",
     "output_type": "stream",
     "text": [
      "8it [02:09, 16.25s/it]"
     ]
    },
    {
     "name": "stdout",
     "output_type": "stream",
     "text": [
      "[LightGBM] [Warning] min_data_in_leaf is set=718, min_child_samples=20 will be ignored. Current value: min_data_in_leaf=718\n",
      "Training until validation scores don't improve for 400 rounds\n",
      "Early stopping, best iteration is:\n",
      "[2189]\tvalid_0's auc: 0.748694\n"
     ]
    },
    {
     "name": "stderr",
     "output_type": "stream",
     "text": [
      "9it [02:25, 16.23s/it]"
     ]
    },
    {
     "name": "stdout",
     "output_type": "stream",
     "text": [
      "[LightGBM] [Warning] min_data_in_leaf is set=718, min_child_samples=20 will be ignored. Current value: min_data_in_leaf=718\n",
      "Training until validation scores don't improve for 400 rounds\n",
      "Early stopping, best iteration is:\n",
      "[2342]\tvalid_0's auc: 0.744074\n"
     ]
    },
    {
     "name": "stderr",
     "output_type": "stream",
     "text": [
      "10it [02:42, 16.26s/it]\n",
      "\u001b[32m[I 2021-11-03 13:31:13,339]\u001b[0m Trial 91 finished with value: 0.746889129140624 and parameters: {'learning_rate': 0.2532187080906043, 'n_estimators': 7228, 'max_depth': 5, 'num_leaves': 2, 'reg_alpha': 4.049864304748187, 'reg_lambda': 3.900870286345869, 'min_data_in_leaf': 718}. Best is trial 19 with value: 0.7475782744060069.\u001b[0m\n",
      "0it [00:00, ?it/s]"
     ]
    },
    {
     "name": "stdout",
     "output_type": "stream",
     "text": [
      "[LightGBM] [Warning] min_data_in_leaf is set=650, min_child_samples=20 will be ignored. Current value: min_data_in_leaf=650\n",
      "Training until validation scores don't improve for 400 rounds\n",
      "Early stopping, best iteration is:\n",
      "[2202]\tvalid_0's auc: 0.745443\n"
     ]
    },
    {
     "name": "stderr",
     "output_type": "stream",
     "text": [
      "1it [00:16, 16.23s/it]"
     ]
    },
    {
     "name": "stdout",
     "output_type": "stream",
     "text": [
      "[LightGBM] [Warning] min_data_in_leaf is set=650, min_child_samples=20 will be ignored. Current value: min_data_in_leaf=650\n",
      "Training until validation scores don't improve for 400 rounds\n",
      "Early stopping, best iteration is:\n",
      "[3069]\tvalid_0's auc: 0.749051\n"
     ]
    },
    {
     "name": "stderr",
     "output_type": "stream",
     "text": [
      "2it [00:37, 18.99s/it]"
     ]
    },
    {
     "name": "stdout",
     "output_type": "stream",
     "text": [
      "[LightGBM] [Warning] min_data_in_leaf is set=650, min_child_samples=20 will be ignored. Current value: min_data_in_leaf=650\n",
      "Training until validation scores don't improve for 400 rounds\n",
      "Early stopping, best iteration is:\n",
      "[2035]\tvalid_0's auc: 0.745568\n"
     ]
    },
    {
     "name": "stderr",
     "output_type": "stream",
     "text": [
      "3it [00:52, 17.30s/it]"
     ]
    },
    {
     "name": "stdout",
     "output_type": "stream",
     "text": [
      "[LightGBM] [Warning] min_data_in_leaf is set=650, min_child_samples=20 will be ignored. Current value: min_data_in_leaf=650\n",
      "Training until validation scores don't improve for 400 rounds\n",
      "Early stopping, best iteration is:\n",
      "[2797]\tvalid_0's auc: 0.745629\n"
     ]
    },
    {
     "name": "stderr",
     "output_type": "stream",
     "text": [
      "4it [01:11, 18.19s/it]"
     ]
    },
    {
     "name": "stdout",
     "output_type": "stream",
     "text": [
      "[LightGBM] [Warning] min_data_in_leaf is set=650, min_child_samples=20 will be ignored. Current value: min_data_in_leaf=650\n",
      "Training until validation scores don't improve for 400 rounds\n",
      "Early stopping, best iteration is:\n",
      "[2817]\tvalid_0's auc: 0.746647\n"
     ]
    },
    {
     "name": "stderr",
     "output_type": "stream",
     "text": [
      "5it [01:31, 18.71s/it]"
     ]
    },
    {
     "name": "stdout",
     "output_type": "stream",
     "text": [
      "[LightGBM] [Warning] min_data_in_leaf is set=650, min_child_samples=20 will be ignored. Current value: min_data_in_leaf=650\n",
      "Training until validation scores don't improve for 400 rounds\n",
      "Early stopping, best iteration is:\n",
      "[2643]\tvalid_0's auc: 0.747538\n"
     ]
    },
    {
     "name": "stderr",
     "output_type": "stream",
     "text": [
      "6it [01:50, 18.69s/it]"
     ]
    },
    {
     "name": "stdout",
     "output_type": "stream",
     "text": [
      "[LightGBM] [Warning] min_data_in_leaf is set=650, min_child_samples=20 will be ignored. Current value: min_data_in_leaf=650\n",
      "Training until validation scores don't improve for 400 rounds\n",
      "Early stopping, best iteration is:\n",
      "[1796]\tvalid_0's auc: 0.74502\n"
     ]
    },
    {
     "name": "stderr",
     "output_type": "stream",
     "text": [
      "7it [02:04, 17.18s/it]"
     ]
    },
    {
     "name": "stdout",
     "output_type": "stream",
     "text": [
      "[LightGBM] [Warning] min_data_in_leaf is set=650, min_child_samples=20 will be ignored. Current value: min_data_in_leaf=650\n",
      "Training until validation scores don't improve for 400 rounds\n",
      "Early stopping, best iteration is:\n",
      "[2314]\tvalid_0's auc: 0.748754\n"
     ]
    },
    {
     "name": "stderr",
     "output_type": "stream",
     "text": [
      "8it [02:21, 17.10s/it]"
     ]
    },
    {
     "name": "stdout",
     "output_type": "stream",
     "text": [
      "[LightGBM] [Warning] min_data_in_leaf is set=650, min_child_samples=20 will be ignored. Current value: min_data_in_leaf=650\n",
      "Training until validation scores don't improve for 400 rounds\n",
      "Early stopping, best iteration is:\n",
      "[2027]\tvalid_0's auc: 0.752499\n"
     ]
    },
    {
     "name": "stderr",
     "output_type": "stream",
     "text": [
      "9it [02:36, 16.54s/it]"
     ]
    },
    {
     "name": "stdout",
     "output_type": "stream",
     "text": [
      "[LightGBM] [Warning] min_data_in_leaf is set=650, min_child_samples=20 will be ignored. Current value: min_data_in_leaf=650\n",
      "Training until validation scores don't improve for 400 rounds\n",
      "Early stopping, best iteration is:\n",
      "[2139]\tvalid_0's auc: 0.744457\n"
     ]
    },
    {
     "name": "stderr",
     "output_type": "stream",
     "text": [
      "10it [02:52, 17.25s/it]\n",
      "\u001b[32m[I 2021-11-03 13:34:05,983]\u001b[0m Trial 92 finished with value: 0.7470605983585499 and parameters: {'learning_rate': 0.23800604519730295, 'n_estimators': 6202, 'max_depth': 6, 'num_leaves': 2, 'reg_alpha': 4.562688013355926, 'reg_lambda': 3.4534132681794727, 'min_data_in_leaf': 650}. Best is trial 19 with value: 0.7475782744060069.\u001b[0m\n",
      "0it [00:00, ?it/s]"
     ]
    },
    {
     "name": "stdout",
     "output_type": "stream",
     "text": [
      "[LightGBM] [Warning] min_data_in_leaf is set=650, min_child_samples=20 will be ignored. Current value: min_data_in_leaf=650\n",
      "Training until validation scores don't improve for 400 rounds\n",
      "Early stopping, best iteration is:\n",
      "[733]\tvalid_0's auc: 0.74358\n"
     ]
    },
    {
     "name": "stderr",
     "output_type": "stream",
     "text": [
      "1it [00:09,  9.93s/it]"
     ]
    },
    {
     "name": "stdout",
     "output_type": "stream",
     "text": [
      "[LightGBM] [Warning] min_data_in_leaf is set=650, min_child_samples=20 will be ignored. Current value: min_data_in_leaf=650\n",
      "Training until validation scores don't improve for 400 rounds\n",
      "Early stopping, best iteration is:\n",
      "[646]\tvalid_0's auc: 0.746191\n"
     ]
    },
    {
     "name": "stderr",
     "output_type": "stream",
     "text": [
      "2it [00:19,  9.58s/it]"
     ]
    },
    {
     "name": "stdout",
     "output_type": "stream",
     "text": [
      "[LightGBM] [Warning] min_data_in_leaf is set=650, min_child_samples=20 will be ignored. Current value: min_data_in_leaf=650\n",
      "Training until validation scores don't improve for 400 rounds\n",
      "Early stopping, best iteration is:\n",
      "[885]\tvalid_0's auc: 0.745562\n"
     ]
    },
    {
     "name": "stderr",
     "output_type": "stream",
     "text": [
      "3it [00:29, 10.07s/it]"
     ]
    },
    {
     "name": "stdout",
     "output_type": "stream",
     "text": [
      "[LightGBM] [Warning] min_data_in_leaf is set=650, min_child_samples=20 will be ignored. Current value: min_data_in_leaf=650\n",
      "Training until validation scores don't improve for 400 rounds\n",
      "Early stopping, best iteration is:\n",
      "[585]\tvalid_0's auc: 0.741385\n"
     ]
    },
    {
     "name": "stderr",
     "output_type": "stream",
     "text": [
      "4it [00:38,  9.56s/it]"
     ]
    },
    {
     "name": "stdout",
     "output_type": "stream",
     "text": [
      "[LightGBM] [Warning] min_data_in_leaf is set=650, min_child_samples=20 will be ignored. Current value: min_data_in_leaf=650\n",
      "Training until validation scores don't improve for 400 rounds\n",
      "Early stopping, best iteration is:\n",
      "[741]\tvalid_0's auc: 0.744176\n"
     ]
    },
    {
     "name": "stderr",
     "output_type": "stream",
     "text": [
      "5it [00:47,  9.43s/it]"
     ]
    },
    {
     "name": "stdout",
     "output_type": "stream",
     "text": [
      "[LightGBM] [Warning] min_data_in_leaf is set=650, min_child_samples=20 will be ignored. Current value: min_data_in_leaf=650\n",
      "Training until validation scores don't improve for 400 rounds\n",
      "Early stopping, best iteration is:\n",
      "[762]\tvalid_0's auc: 0.74224\n"
     ]
    },
    {
     "name": "stderr",
     "output_type": "stream",
     "text": [
      "6it [00:58,  9.66s/it]"
     ]
    },
    {
     "name": "stdout",
     "output_type": "stream",
     "text": [
      "[LightGBM] [Warning] min_data_in_leaf is set=650, min_child_samples=20 will be ignored. Current value: min_data_in_leaf=650\n",
      "Training until validation scores don't improve for 400 rounds\n",
      "Early stopping, best iteration is:\n",
      "[875]\tvalid_0's auc: 0.742321\n"
     ]
    },
    {
     "name": "stderr",
     "output_type": "stream",
     "text": [
      "7it [01:08, 10.08s/it]"
     ]
    },
    {
     "name": "stdout",
     "output_type": "stream",
     "text": [
      "[LightGBM] [Warning] min_data_in_leaf is set=650, min_child_samples=20 will be ignored. Current value: min_data_in_leaf=650\n",
      "Training until validation scores don't improve for 400 rounds\n",
      "Early stopping, best iteration is:\n",
      "[772]\tvalid_0's auc: 0.744828\n"
     ]
    },
    {
     "name": "stderr",
     "output_type": "stream",
     "text": [
      "8it [01:19, 10.11s/it]"
     ]
    },
    {
     "name": "stdout",
     "output_type": "stream",
     "text": [
      "[LightGBM] [Warning] min_data_in_leaf is set=650, min_child_samples=20 will be ignored. Current value: min_data_in_leaf=650\n",
      "Training until validation scores don't improve for 400 rounds\n",
      "Early stopping, best iteration is:\n",
      "[727]\tvalid_0's auc: 0.744715\n"
     ]
    },
    {
     "name": "stderr",
     "output_type": "stream",
     "text": [
      "9it [01:28, 10.03s/it]"
     ]
    },
    {
     "name": "stdout",
     "output_type": "stream",
     "text": [
      "[LightGBM] [Warning] min_data_in_leaf is set=650, min_child_samples=20 will be ignored. Current value: min_data_in_leaf=650\n",
      "Training until validation scores don't improve for 400 rounds\n",
      "Early stopping, best iteration is:\n",
      "[838]\tvalid_0's auc: 0.740742\n"
     ]
    },
    {
     "name": "stderr",
     "output_type": "stream",
     "text": [
      "10it [01:39,  9.94s/it]\n",
      "\u001b[32m[I 2021-11-03 13:35:45,574]\u001b[0m Trial 93 finished with value: 0.7435740692378706 and parameters: {'learning_rate': 0.20221164846432418, 'n_estimators': 6227, 'max_depth': 6, 'num_leaves': 6, 'reg_alpha': 5.278717267964868, 'reg_lambda': 3.4739016800432574, 'min_data_in_leaf': 650}. Best is trial 19 with value: 0.7475782744060069.\u001b[0m\n",
      "0it [00:00, ?it/s]"
     ]
    },
    {
     "name": "stdout",
     "output_type": "stream",
     "text": [
      "[LightGBM] [Warning] min_data_in_leaf is set=269, min_child_samples=20 will be ignored. Current value: min_data_in_leaf=269\n",
      "Training until validation scores don't improve for 400 rounds\n",
      "Early stopping, best iteration is:\n",
      "[2512]\tvalid_0's auc: 0.742962\n"
     ]
    },
    {
     "name": "stderr",
     "output_type": "stream",
     "text": [
      "1it [00:23, 23.29s/it]"
     ]
    },
    {
     "name": "stdout",
     "output_type": "stream",
     "text": [
      "[LightGBM] [Warning] min_data_in_leaf is set=269, min_child_samples=20 will be ignored. Current value: min_data_in_leaf=269\n",
      "Training until validation scores don't improve for 400 rounds\n",
      "Early stopping, best iteration is:\n",
      "[2404]\tvalid_0's auc: 0.746753\n"
     ]
    },
    {
     "name": "stderr",
     "output_type": "stream",
     "text": [
      "2it [00:46, 23.17s/it]"
     ]
    },
    {
     "name": "stdout",
     "output_type": "stream",
     "text": [
      "[LightGBM] [Warning] min_data_in_leaf is set=269, min_child_samples=20 will be ignored. Current value: min_data_in_leaf=269\n",
      "Training until validation scores don't improve for 400 rounds\n",
      "Early stopping, best iteration is:\n",
      "[3232]\tvalid_0's auc: 0.748404\n"
     ]
    },
    {
     "name": "stderr",
     "output_type": "stream",
     "text": [
      "3it [01:14, 25.46s/it]"
     ]
    },
    {
     "name": "stdout",
     "output_type": "stream",
     "text": [
      "[LightGBM] [Warning] min_data_in_leaf is set=269, min_child_samples=20 will be ignored. Current value: min_data_in_leaf=269\n",
      "Training until validation scores don't improve for 400 rounds\n",
      "Early stopping, best iteration is:\n",
      "[2433]\tvalid_0's auc: 0.752201\n"
     ]
    },
    {
     "name": "stderr",
     "output_type": "stream",
     "text": [
      "4it [01:37, 24.48s/it]"
     ]
    },
    {
     "name": "stdout",
     "output_type": "stream",
     "text": [
      "[LightGBM] [Warning] min_data_in_leaf is set=269, min_child_samples=20 will be ignored. Current value: min_data_in_leaf=269\n",
      "Training until validation scores don't improve for 400 rounds\n",
      "Early stopping, best iteration is:\n",
      "[1871]\tvalid_0's auc: 0.746639\n"
     ]
    },
    {
     "name": "stderr",
     "output_type": "stream",
     "text": [
      "5it [01:56, 22.58s/it]"
     ]
    },
    {
     "name": "stdout",
     "output_type": "stream",
     "text": [
      "[LightGBM] [Warning] min_data_in_leaf is set=269, min_child_samples=20 will be ignored. Current value: min_data_in_leaf=269\n",
      "Training until validation scores don't improve for 400 rounds\n",
      "Early stopping, best iteration is:\n",
      "[3370]\tvalid_0's auc: 0.747351\n"
     ]
    },
    {
     "name": "stderr",
     "output_type": "stream",
     "text": [
      "6it [02:25, 24.77s/it]"
     ]
    },
    {
     "name": "stdout",
     "output_type": "stream",
     "text": [
      "[LightGBM] [Warning] min_data_in_leaf is set=269, min_child_samples=20 will be ignored. Current value: min_data_in_leaf=269\n",
      "Training until validation scores don't improve for 400 rounds\n",
      "Early stopping, best iteration is:\n",
      "[1941]\tvalid_0's auc: 0.742083\n"
     ]
    },
    {
     "name": "stderr",
     "output_type": "stream",
     "text": [
      "7it [02:45, 23.13s/it]"
     ]
    },
    {
     "name": "stdout",
     "output_type": "stream",
     "text": [
      "[LightGBM] [Warning] min_data_in_leaf is set=269, min_child_samples=20 will be ignored. Current value: min_data_in_leaf=269\n",
      "Training until validation scores don't improve for 400 rounds\n",
      "Early stopping, best iteration is:\n",
      "[2062]\tvalid_0's auc: 0.743032\n"
     ]
    },
    {
     "name": "stderr",
     "output_type": "stream",
     "text": [
      "8it [03:06, 22.32s/it]"
     ]
    },
    {
     "name": "stdout",
     "output_type": "stream",
     "text": [
      "[LightGBM] [Warning] min_data_in_leaf is set=269, min_child_samples=20 will be ignored. Current value: min_data_in_leaf=269\n",
      "Training until validation scores don't improve for 400 rounds\n",
      "Early stopping, best iteration is:\n",
      "[2519]\tvalid_0's auc: 0.745935\n"
     ]
    },
    {
     "name": "stderr",
     "output_type": "stream",
     "text": [
      "9it [03:29, 22.56s/it]"
     ]
    },
    {
     "name": "stdout",
     "output_type": "stream",
     "text": [
      "[LightGBM] [Warning] min_data_in_leaf is set=269, min_child_samples=20 will be ignored. Current value: min_data_in_leaf=269\n",
      "Training until validation scores don't improve for 400 rounds\n",
      "Early stopping, best iteration is:\n",
      "[4079]\tvalid_0's auc: 0.746103\n"
     ]
    },
    {
     "name": "stderr",
     "output_type": "stream",
     "text": [
      "10it [04:02, 24.27s/it]\n",
      "\u001b[32m[I 2021-11-03 13:39:48,428]\u001b[0m Trial 94 finished with value: 0.7461463293552455 and parameters: {'learning_rate': 0.06303265008389654, 'n_estimators': 6762, 'max_depth': 6, 'num_leaves': 7, 'reg_alpha': 8.255121003748933, 'reg_lambda': 3.6732372601677192, 'min_data_in_leaf': 269}. Best is trial 19 with value: 0.7475782744060069.\u001b[0m\n",
      "0it [00:00, ?it/s]"
     ]
    },
    {
     "name": "stdout",
     "output_type": "stream",
     "text": [
      "[LightGBM] [Warning] min_data_in_leaf is set=602, min_child_samples=20 will be ignored. Current value: min_data_in_leaf=602\n",
      "Training until validation scores don't improve for 400 rounds\n",
      "Early stopping, best iteration is:\n",
      "[803]\tvalid_0's auc: 0.744682\n"
     ]
    },
    {
     "name": "stderr",
     "output_type": "stream",
     "text": [
      "1it [00:09,  9.24s/it]"
     ]
    },
    {
     "name": "stdout",
     "output_type": "stream",
     "text": [
      "[LightGBM] [Warning] min_data_in_leaf is set=602, min_child_samples=20 will be ignored. Current value: min_data_in_leaf=602\n",
      "Training until validation scores don't improve for 400 rounds\n",
      "Early stopping, best iteration is:\n",
      "[622]\tvalid_0's auc: 0.743247\n"
     ]
    },
    {
     "name": "stderr",
     "output_type": "stream",
     "text": [
      "2it [00:17,  8.71s/it]"
     ]
    },
    {
     "name": "stdout",
     "output_type": "stream",
     "text": [
      "[LightGBM] [Warning] min_data_in_leaf is set=602, min_child_samples=20 will be ignored. Current value: min_data_in_leaf=602\n",
      "Training until validation scores don't improve for 400 rounds\n",
      "Early stopping, best iteration is:\n",
      "[796]\tvalid_0's auc: 0.740254\n"
     ]
    },
    {
     "name": "stderr",
     "output_type": "stream",
     "text": [
      "3it [00:26,  8.90s/it]"
     ]
    },
    {
     "name": "stdout",
     "output_type": "stream",
     "text": [
      "[LightGBM] [Warning] min_data_in_leaf is set=602, min_child_samples=20 will be ignored. Current value: min_data_in_leaf=602\n",
      "Training until validation scores don't improve for 400 rounds\n",
      "Early stopping, best iteration is:\n",
      "[853]\tvalid_0's auc: 0.742462\n"
     ]
    },
    {
     "name": "stderr",
     "output_type": "stream",
     "text": [
      "4it [00:36,  9.10s/it]"
     ]
    },
    {
     "name": "stdout",
     "output_type": "stream",
     "text": [
      "[LightGBM] [Warning] min_data_in_leaf is set=602, min_child_samples=20 will be ignored. Current value: min_data_in_leaf=602\n",
      "Training until validation scores don't improve for 400 rounds\n",
      "Early stopping, best iteration is:\n",
      "[635]\tvalid_0's auc: 0.746233\n"
     ]
    },
    {
     "name": "stderr",
     "output_type": "stream",
     "text": [
      "5it [00:44,  8.85s/it]"
     ]
    },
    {
     "name": "stdout",
     "output_type": "stream",
     "text": [
      "[LightGBM] [Warning] min_data_in_leaf is set=602, min_child_samples=20 will be ignored. Current value: min_data_in_leaf=602\n",
      "Training until validation scores don't improve for 400 rounds\n",
      "Early stopping, best iteration is:\n",
      "[709]\tvalid_0's auc: 0.745413\n"
     ]
    },
    {
     "name": "stderr",
     "output_type": "stream",
     "text": [
      "6it [00:53,  8.78s/it]"
     ]
    },
    {
     "name": "stdout",
     "output_type": "stream",
     "text": [
      "[LightGBM] [Warning] min_data_in_leaf is set=602, min_child_samples=20 will be ignored. Current value: min_data_in_leaf=602\n",
      "Training until validation scores don't improve for 400 rounds\n",
      "Early stopping, best iteration is:\n",
      "[888]\tvalid_0's auc: 0.74419\n"
     ]
    },
    {
     "name": "stderr",
     "output_type": "stream",
     "text": [
      "7it [01:03,  9.13s/it]"
     ]
    },
    {
     "name": "stdout",
     "output_type": "stream",
     "text": [
      "[LightGBM] [Warning] min_data_in_leaf is set=602, min_child_samples=20 will be ignored. Current value: min_data_in_leaf=602\n",
      "Training until validation scores don't improve for 400 rounds\n",
      "Early stopping, best iteration is:\n",
      "[620]\tvalid_0's auc: 0.741705\n"
     ]
    },
    {
     "name": "stderr",
     "output_type": "stream",
     "text": [
      "8it [01:11,  8.79s/it]"
     ]
    },
    {
     "name": "stdout",
     "output_type": "stream",
     "text": [
      "[LightGBM] [Warning] min_data_in_leaf is set=602, min_child_samples=20 will be ignored. Current value: min_data_in_leaf=602\n",
      "Training until validation scores don't improve for 400 rounds\n",
      "Early stopping, best iteration is:\n",
      "[752]\tvalid_0's auc: 0.744989\n"
     ]
    },
    {
     "name": "stderr",
     "output_type": "stream",
     "text": [
      "9it [01:20,  8.85s/it]"
     ]
    },
    {
     "name": "stdout",
     "output_type": "stream",
     "text": [
      "[LightGBM] [Warning] min_data_in_leaf is set=602, min_child_samples=20 will be ignored. Current value: min_data_in_leaf=602\n",
      "Training until validation scores don't improve for 400 rounds\n",
      "Early stopping, best iteration is:\n",
      "[1205]\tvalid_0's auc: 0.740586\n"
     ]
    },
    {
     "name": "stderr",
     "output_type": "stream",
     "text": [
      "10it [01:31,  9.14s/it]\n",
      "\u001b[32m[I 2021-11-03 13:41:19,933]\u001b[0m Trial 95 finished with value: 0.7433760100196246 and parameters: {'learning_rate': 0.2927503116745212, 'n_estimators': 5971, 'max_depth': 5, 'num_leaves': 4, 'reg_alpha': 4.611661405401312, 'reg_lambda': 2.361027911867862, 'min_data_in_leaf': 602}. Best is trial 19 with value: 0.7475782744060069.\u001b[0m\n",
      "0it [00:00, ?it/s]"
     ]
    },
    {
     "name": "stdout",
     "output_type": "stream",
     "text": [
      "[LightGBM] [Warning] min_data_in_leaf is set=633, min_child_samples=20 will be ignored. Current value: min_data_in_leaf=633\n",
      "Training until validation scores don't improve for 400 rounds\n",
      "Early stopping, best iteration is:\n",
      "[470]\tvalid_0's auc: 0.740213\n"
     ]
    },
    {
     "name": "stderr",
     "output_type": "stream",
     "text": [
      "1it [00:09,  9.18s/it]"
     ]
    },
    {
     "name": "stdout",
     "output_type": "stream",
     "text": [
      "[LightGBM] [Warning] min_data_in_leaf is set=633, min_child_samples=20 will be ignored. Current value: min_data_in_leaf=633\n",
      "Training until validation scores don't improve for 400 rounds\n",
      "Early stopping, best iteration is:\n",
      "[608]\tvalid_0's auc: 0.749764\n"
     ]
    },
    {
     "name": "stderr",
     "output_type": "stream",
     "text": [
      "2it [00:19,  9.67s/it]"
     ]
    },
    {
     "name": "stdout",
     "output_type": "stream",
     "text": [
      "[LightGBM] [Warning] min_data_in_leaf is set=633, min_child_samples=20 will be ignored. Current value: min_data_in_leaf=633\n",
      "Training until validation scores don't improve for 400 rounds\n",
      "Early stopping, best iteration is:\n",
      "[416]\tvalid_0's auc: 0.740074\n"
     ]
    },
    {
     "name": "stderr",
     "output_type": "stream",
     "text": [
      "3it [00:27,  9.18s/it]"
     ]
    },
    {
     "name": "stdout",
     "output_type": "stream",
     "text": [
      "[LightGBM] [Warning] min_data_in_leaf is set=633, min_child_samples=20 will be ignored. Current value: min_data_in_leaf=633\n",
      "Training until validation scores don't improve for 400 rounds\n",
      "Early stopping, best iteration is:\n",
      "[603]\tvalid_0's auc: 0.741687\n"
     ]
    },
    {
     "name": "stderr",
     "output_type": "stream",
     "text": [
      "4it [00:37,  9.57s/it]"
     ]
    },
    {
     "name": "stdout",
     "output_type": "stream",
     "text": [
      "[LightGBM] [Warning] min_data_in_leaf is set=633, min_child_samples=20 will be ignored. Current value: min_data_in_leaf=633\n",
      "Training until validation scores don't improve for 400 rounds\n",
      "Early stopping, best iteration is:\n",
      "[536]\tvalid_0's auc: 0.742175\n"
     ]
    },
    {
     "name": "stderr",
     "output_type": "stream",
     "text": [
      "5it [00:47,  9.59s/it]"
     ]
    },
    {
     "name": "stdout",
     "output_type": "stream",
     "text": [
      "[LightGBM] [Warning] min_data_in_leaf is set=633, min_child_samples=20 will be ignored. Current value: min_data_in_leaf=633\n",
      "Training until validation scores don't improve for 400 rounds\n",
      "Early stopping, best iteration is:\n",
      "[600]\tvalid_0's auc: 0.746443\n"
     ]
    },
    {
     "name": "stderr",
     "output_type": "stream",
     "text": [
      "6it [00:57,  9.74s/it]"
     ]
    },
    {
     "name": "stdout",
     "output_type": "stream",
     "text": [
      "[LightGBM] [Warning] min_data_in_leaf is set=633, min_child_samples=20 will be ignored. Current value: min_data_in_leaf=633\n",
      "Training until validation scores don't improve for 400 rounds\n",
      "Early stopping, best iteration is:\n",
      "[680]\tvalid_0's auc: 0.742359\n"
     ]
    },
    {
     "name": "stderr",
     "output_type": "stream",
     "text": [
      "7it [01:08, 10.00s/it]"
     ]
    },
    {
     "name": "stdout",
     "output_type": "stream",
     "text": [
      "[LightGBM] [Warning] min_data_in_leaf is set=633, min_child_samples=20 will be ignored. Current value: min_data_in_leaf=633\n",
      "Training until validation scores don't improve for 400 rounds\n",
      "Early stopping, best iteration is:\n",
      "[679]\tvalid_0's auc: 0.743758\n"
     ]
    },
    {
     "name": "stderr",
     "output_type": "stream",
     "text": [
      "8it [01:18, 10.21s/it]"
     ]
    },
    {
     "name": "stdout",
     "output_type": "stream",
     "text": [
      "[LightGBM] [Warning] min_data_in_leaf is set=633, min_child_samples=20 will be ignored. Current value: min_data_in_leaf=633\n",
      "Training until validation scores don't improve for 400 rounds\n",
      "Early stopping, best iteration is:\n",
      "[624]\tvalid_0's auc: 0.743989\n"
     ]
    },
    {
     "name": "stderr",
     "output_type": "stream",
     "text": [
      "9it [01:29, 10.21s/it]"
     ]
    },
    {
     "name": "stdout",
     "output_type": "stream",
     "text": [
      "[LightGBM] [Warning] min_data_in_leaf is set=633, min_child_samples=20 will be ignored. Current value: min_data_in_leaf=633\n",
      "Training until validation scores don't improve for 400 rounds\n",
      "Early stopping, best iteration is:\n",
      "[500]\tvalid_0's auc: 0.741679\n"
     ]
    },
    {
     "name": "stderr",
     "output_type": "stream",
     "text": [
      "10it [01:37,  9.76s/it]\n",
      "\u001b[32m[I 2021-11-03 13:42:57,674]\u001b[0m Trial 96 finished with value: 0.743214273192408 and parameters: {'learning_rate': 0.17693136531177384, 'n_estimators': 6494, 'max_depth': 6, 'num_leaves': 9, 'reg_alpha': 3.721622056744958, 'reg_lambda': 3.0449507008984718, 'min_data_in_leaf': 633}. Best is trial 19 with value: 0.7475782744060069.\u001b[0m\n",
      "0it [00:00, ?it/s]"
     ]
    },
    {
     "name": "stdout",
     "output_type": "stream",
     "text": [
      "[LightGBM] [Warning] min_data_in_leaf is set=834, min_child_samples=20 will be ignored. Current value: min_data_in_leaf=834\n",
      "Training until validation scores don't improve for 400 rounds\n",
      "Early stopping, best iteration is:\n",
      "[1957]\tvalid_0's auc: 0.746559\n"
     ]
    },
    {
     "name": "stderr",
     "output_type": "stream",
     "text": [
      "1it [00:14, 14.97s/it]"
     ]
    },
    {
     "name": "stdout",
     "output_type": "stream",
     "text": [
      "[LightGBM] [Warning] min_data_in_leaf is set=834, min_child_samples=20 will be ignored. Current value: min_data_in_leaf=834\n",
      "Training until validation scores don't improve for 400 rounds\n",
      "Early stopping, best iteration is:\n",
      "[2133]\tvalid_0's auc: 0.74889\n"
     ]
    },
    {
     "name": "stderr",
     "output_type": "stream",
     "text": [
      "2it [00:30, 15.52s/it]"
     ]
    },
    {
     "name": "stdout",
     "output_type": "stream",
     "text": [
      "[LightGBM] [Warning] min_data_in_leaf is set=834, min_child_samples=20 will be ignored. Current value: min_data_in_leaf=834\n",
      "Training until validation scores don't improve for 400 rounds\n",
      "Early stopping, best iteration is:\n",
      "[2122]\tvalid_0's auc: 0.745084\n"
     ]
    },
    {
     "name": "stderr",
     "output_type": "stream",
     "text": [
      "3it [00:46, 15.68s/it]"
     ]
    },
    {
     "name": "stdout",
     "output_type": "stream",
     "text": [
      "[LightGBM] [Warning] min_data_in_leaf is set=834, min_child_samples=20 will be ignored. Current value: min_data_in_leaf=834\n",
      "Training until validation scores don't improve for 400 rounds\n",
      "Early stopping, best iteration is:\n",
      "[1853]\tvalid_0's auc: 0.748481\n"
     ]
    },
    {
     "name": "stderr",
     "output_type": "stream",
     "text": [
      "4it [01:01, 15.16s/it]"
     ]
    },
    {
     "name": "stdout",
     "output_type": "stream",
     "text": [
      "[LightGBM] [Warning] min_data_in_leaf is set=834, min_child_samples=20 will be ignored. Current value: min_data_in_leaf=834\n",
      "Training until validation scores don't improve for 400 rounds\n",
      "Early stopping, best iteration is:\n",
      "[2732]\tvalid_0's auc: 0.747549\n"
     ]
    },
    {
     "name": "stderr",
     "output_type": "stream",
     "text": [
      "5it [01:20, 16.62s/it]"
     ]
    },
    {
     "name": "stdout",
     "output_type": "stream",
     "text": [
      "[LightGBM] [Warning] min_data_in_leaf is set=834, min_child_samples=20 will be ignored. Current value: min_data_in_leaf=834\n",
      "Training until validation scores don't improve for 400 rounds\n",
      "Early stopping, best iteration is:\n",
      "[2312]\tvalid_0's auc: 0.745014\n"
     ]
    },
    {
     "name": "stderr",
     "output_type": "stream",
     "text": [
      "6it [01:37, 16.73s/it]"
     ]
    },
    {
     "name": "stdout",
     "output_type": "stream",
     "text": [
      "[LightGBM] [Warning] min_data_in_leaf is set=834, min_child_samples=20 will be ignored. Current value: min_data_in_leaf=834\n",
      "Training until validation scores don't improve for 400 rounds\n",
      "Early stopping, best iteration is:\n",
      "[3203]\tvalid_0's auc: 0.747901\n"
     ]
    },
    {
     "name": "stderr",
     "output_type": "stream",
     "text": [
      "7it [01:58, 18.35s/it]"
     ]
    },
    {
     "name": "stdout",
     "output_type": "stream",
     "text": [
      "[LightGBM] [Warning] min_data_in_leaf is set=834, min_child_samples=20 will be ignored. Current value: min_data_in_leaf=834\n",
      "Training until validation scores don't improve for 400 rounds\n",
      "Early stopping, best iteration is:\n",
      "[1995]\tvalid_0's auc: 0.745582\n"
     ]
    },
    {
     "name": "stderr",
     "output_type": "stream",
     "text": [
      "8it [02:14, 17.34s/it]"
     ]
    },
    {
     "name": "stdout",
     "output_type": "stream",
     "text": [
      "[LightGBM] [Warning] min_data_in_leaf is set=834, min_child_samples=20 will be ignored. Current value: min_data_in_leaf=834\n",
      "Training until validation scores don't improve for 400 rounds\n",
      "Early stopping, best iteration is:\n",
      "[2079]\tvalid_0's auc: 0.744926\n"
     ]
    },
    {
     "name": "stderr",
     "output_type": "stream",
     "text": [
      "9it [02:29, 16.79s/it]"
     ]
    },
    {
     "name": "stdout",
     "output_type": "stream",
     "text": [
      "[LightGBM] [Warning] min_data_in_leaf is set=834, min_child_samples=20 will be ignored. Current value: min_data_in_leaf=834\n",
      "Training until validation scores don't improve for 400 rounds\n",
      "Early stopping, best iteration is:\n",
      "[2440]\tvalid_0's auc: 0.748322\n"
     ]
    },
    {
     "name": "stderr",
     "output_type": "stream",
     "text": [
      "10it [02:47, 16.73s/it]\n",
      "\u001b[32m[I 2021-11-03 13:45:45,085]\u001b[0m Trial 97 finished with value: 0.7468307141967054 and parameters: {'learning_rate': 0.27291935046071136, 'n_estimators': 6184, 'max_depth': 5, 'num_leaves': 2, 'reg_alpha': 3.404010006548272, 'reg_lambda': 3.9283688584026693, 'min_data_in_leaf': 834}. Best is trial 19 with value: 0.7475782744060069.\u001b[0m\n",
      "0it [00:00, ?it/s]"
     ]
    },
    {
     "name": "stdout",
     "output_type": "stream",
     "text": [
      "[LightGBM] [Warning] min_data_in_leaf is set=785, min_child_samples=20 will be ignored. Current value: min_data_in_leaf=785\n",
      "Training until validation scores don't improve for 400 rounds\n",
      "Early stopping, best iteration is:\n",
      "[497]\tvalid_0's auc: 0.736281\n"
     ]
    },
    {
     "name": "stderr",
     "output_type": "stream",
     "text": [
      "1it [00:14, 14.78s/it]"
     ]
    },
    {
     "name": "stdout",
     "output_type": "stream",
     "text": [
      "[LightGBM] [Warning] min_data_in_leaf is set=785, min_child_samples=20 will be ignored. Current value: min_data_in_leaf=785\n",
      "Training until validation scores don't improve for 400 rounds\n",
      "Early stopping, best iteration is:\n",
      "[466]\tvalid_0's auc: 0.743399\n"
     ]
    },
    {
     "name": "stderr",
     "output_type": "stream",
     "text": [
      "2it [00:29, 14.48s/it]"
     ]
    },
    {
     "name": "stdout",
     "output_type": "stream",
     "text": [
      "[LightGBM] [Warning] min_data_in_leaf is set=785, min_child_samples=20 will be ignored. Current value: min_data_in_leaf=785\n",
      "Training until validation scores don't improve for 400 rounds\n",
      "Early stopping, best iteration is:\n",
      "[641]\tvalid_0's auc: 0.74355\n"
     ]
    },
    {
     "name": "stderr",
     "output_type": "stream",
     "text": [
      "3it [00:45, 15.51s/it]"
     ]
    },
    {
     "name": "stdout",
     "output_type": "stream",
     "text": [
      "[LightGBM] [Warning] min_data_in_leaf is set=785, min_child_samples=20 will be ignored. Current value: min_data_in_leaf=785\n",
      "Training until validation scores don't improve for 400 rounds\n",
      "Early stopping, best iteration is:\n",
      "[466]\tvalid_0's auc: 0.742373\n"
     ]
    },
    {
     "name": "stderr",
     "output_type": "stream",
     "text": [
      "4it [01:00, 15.06s/it]"
     ]
    },
    {
     "name": "stdout",
     "output_type": "stream",
     "text": [
      "[LightGBM] [Warning] min_data_in_leaf is set=785, min_child_samples=20 will be ignored. Current value: min_data_in_leaf=785\n",
      "Training until validation scores don't improve for 400 rounds\n",
      "Early stopping, best iteration is:\n",
      "[596]\tvalid_0's auc: 0.7442\n"
     ]
    },
    {
     "name": "stderr",
     "output_type": "stream",
     "text": [
      "5it [01:16, 15.47s/it]"
     ]
    },
    {
     "name": "stdout",
     "output_type": "stream",
     "text": [
      "[LightGBM] [Warning] min_data_in_leaf is set=785, min_child_samples=20 will be ignored. Current value: min_data_in_leaf=785\n",
      "Training until validation scores don't improve for 400 rounds\n",
      "Early stopping, best iteration is:\n",
      "[447]\tvalid_0's auc: 0.742746\n"
     ]
    },
    {
     "name": "stderr",
     "output_type": "stream",
     "text": [
      "6it [01:30, 15.02s/it]"
     ]
    },
    {
     "name": "stdout",
     "output_type": "stream",
     "text": [
      "[LightGBM] [Warning] min_data_in_leaf is set=785, min_child_samples=20 will be ignored. Current value: min_data_in_leaf=785\n",
      "Training until validation scores don't improve for 400 rounds\n",
      "Early stopping, best iteration is:\n",
      "[397]\tvalid_0's auc: 0.740219\n"
     ]
    },
    {
     "name": "stderr",
     "output_type": "stream",
     "text": [
      "7it [01:44, 14.55s/it]"
     ]
    },
    {
     "name": "stdout",
     "output_type": "stream",
     "text": [
      "[LightGBM] [Warning] min_data_in_leaf is set=785, min_child_samples=20 will be ignored. Current value: min_data_in_leaf=785\n",
      "Training until validation scores don't improve for 400 rounds\n",
      "Early stopping, best iteration is:\n",
      "[481]\tvalid_0's auc: 0.74701\n"
     ]
    },
    {
     "name": "stderr",
     "output_type": "stream",
     "text": [
      "8it [01:58, 14.52s/it]"
     ]
    },
    {
     "name": "stdout",
     "output_type": "stream",
     "text": [
      "[LightGBM] [Warning] min_data_in_leaf is set=785, min_child_samples=20 will be ignored. Current value: min_data_in_leaf=785\n",
      "Training until validation scores don't improve for 400 rounds\n",
      "Early stopping, best iteration is:\n",
      "[523]\tvalid_0's auc: 0.741784\n"
     ]
    },
    {
     "name": "stderr",
     "output_type": "stream",
     "text": [
      "9it [02:13, 14.56s/it]"
     ]
    },
    {
     "name": "stdout",
     "output_type": "stream",
     "text": [
      "[LightGBM] [Warning] min_data_in_leaf is set=785, min_child_samples=20 will be ignored. Current value: min_data_in_leaf=785\n",
      "Training until validation scores don't improve for 400 rounds\n",
      "Early stopping, best iteration is:\n",
      "[554]\tvalid_0's auc: 0.741007\n"
     ]
    },
    {
     "name": "stderr",
     "output_type": "stream",
     "text": [
      "10it [02:28, 14.87s/it]\n",
      "\u001b[32m[I 2021-11-03 13:48:13,961]\u001b[0m Trial 98 finished with value: 0.7422570355376343 and parameters: {'learning_rate': 0.12147536773718394, 'n_estimators': 6710, 'max_depth': 6, 'num_leaves': 34, 'reg_alpha': 3.940430920382012, 'reg_lambda': 9.647101268047278, 'min_data_in_leaf': 785}. Best is trial 19 with value: 0.7475782744060069.\u001b[0m\n",
      "0it [00:00, ?it/s]"
     ]
    },
    {
     "name": "stdout",
     "output_type": "stream",
     "text": [
      "[LightGBM] [Warning] min_data_in_leaf is set=744, min_child_samples=20 will be ignored. Current value: min_data_in_leaf=744\n",
      "Training until validation scores don't improve for 400 rounds\n",
      "Early stopping, best iteration is:\n",
      "[1784]\tvalid_0's auc: 0.743831\n"
     ]
    },
    {
     "name": "stderr",
     "output_type": "stream",
     "text": [
      "1it [00:18, 18.22s/it]"
     ]
    },
    {
     "name": "stdout",
     "output_type": "stream",
     "text": [
      "[LightGBM] [Warning] min_data_in_leaf is set=744, min_child_samples=20 will be ignored. Current value: min_data_in_leaf=744\n",
      "Training until validation scores don't improve for 400 rounds\n",
      "Early stopping, best iteration is:\n",
      "[2036]\tvalid_0's auc: 0.744398\n"
     ]
    },
    {
     "name": "stderr",
     "output_type": "stream",
     "text": [
      "2it [00:37, 19.11s/it]"
     ]
    },
    {
     "name": "stdout",
     "output_type": "stream",
     "text": [
      "[LightGBM] [Warning] min_data_in_leaf is set=744, min_child_samples=20 will be ignored. Current value: min_data_in_leaf=744\n",
      "Training until validation scores don't improve for 400 rounds\n",
      "Early stopping, best iteration is:\n",
      "[1762]\tvalid_0's auc: 0.745407\n"
     ]
    },
    {
     "name": "stderr",
     "output_type": "stream",
     "text": [
      "3it [00:55, 18.33s/it]"
     ]
    },
    {
     "name": "stdout",
     "output_type": "stream",
     "text": [
      "[LightGBM] [Warning] min_data_in_leaf is set=744, min_child_samples=20 will be ignored. Current value: min_data_in_leaf=744\n",
      "Training until validation scores don't improve for 400 rounds\n",
      "Early stopping, best iteration is:\n",
      "[1632]\tvalid_0's auc: 0.742672\n"
     ]
    },
    {
     "name": "stderr",
     "output_type": "stream",
     "text": [
      "4it [01:12, 17.85s/it]"
     ]
    },
    {
     "name": "stdout",
     "output_type": "stream",
     "text": [
      "[LightGBM] [Warning] min_data_in_leaf is set=744, min_child_samples=20 will be ignored. Current value: min_data_in_leaf=744\n",
      "Training until validation scores don't improve for 400 rounds\n",
      "Early stopping, best iteration is:\n",
      "[1826]\tvalid_0's auc: 0.746325\n"
     ]
    },
    {
     "name": "stderr",
     "output_type": "stream",
     "text": [
      "5it [01:30, 17.83s/it]"
     ]
    },
    {
     "name": "stdout",
     "output_type": "stream",
     "text": [
      "[LightGBM] [Warning] min_data_in_leaf is set=744, min_child_samples=20 will be ignored. Current value: min_data_in_leaf=744\n",
      "Training until validation scores don't improve for 400 rounds\n",
      "Early stopping, best iteration is:\n",
      "[1673]\tvalid_0's auc: 0.745267\n"
     ]
    },
    {
     "name": "stderr",
     "output_type": "stream",
     "text": [
      "6it [01:47, 17.71s/it]"
     ]
    },
    {
     "name": "stdout",
     "output_type": "stream",
     "text": [
      "[LightGBM] [Warning] min_data_in_leaf is set=744, min_child_samples=20 will be ignored. Current value: min_data_in_leaf=744\n",
      "Training until validation scores don't improve for 400 rounds\n",
      "Early stopping, best iteration is:\n",
      "[1505]\tvalid_0's auc: 0.746483\n"
     ]
    },
    {
     "name": "stderr",
     "output_type": "stream",
     "text": [
      "7it [02:03, 17.06s/it]"
     ]
    },
    {
     "name": "stdout",
     "output_type": "stream",
     "text": [
      "[LightGBM] [Warning] min_data_in_leaf is set=744, min_child_samples=20 will be ignored. Current value: min_data_in_leaf=744\n",
      "Training until validation scores don't improve for 400 rounds\n",
      "Early stopping, best iteration is:\n",
      "[1805]\tvalid_0's auc: 0.746467\n"
     ]
    },
    {
     "name": "stderr",
     "output_type": "stream",
     "text": [
      "8it [02:21, 17.46s/it]"
     ]
    },
    {
     "name": "stdout",
     "output_type": "stream",
     "text": [
      "[LightGBM] [Warning] min_data_in_leaf is set=744, min_child_samples=20 will be ignored. Current value: min_data_in_leaf=744\n",
      "Training until validation scores don't improve for 400 rounds\n",
      "Early stopping, best iteration is:\n",
      "[1737]\tvalid_0's auc: 0.749583\n"
     ]
    },
    {
     "name": "stderr",
     "output_type": "stream",
     "text": [
      "9it [02:39, 17.54s/it]"
     ]
    },
    {
     "name": "stdout",
     "output_type": "stream",
     "text": [
      "[LightGBM] [Warning] min_data_in_leaf is set=744, min_child_samples=20 will be ignored. Current value: min_data_in_leaf=744\n",
      "Training until validation scores don't improve for 400 rounds\n",
      "Early stopping, best iteration is:\n",
      "[1933]\tvalid_0's auc: 0.747119\n"
     ]
    },
    {
     "name": "stderr",
     "output_type": "stream",
     "text": [
      "10it [02:58, 17.86s/it]\n",
      "\u001b[32m[I 2021-11-03 13:51:12,737]\u001b[0m Trial 99 finished with value: 0.7457552485747803 and parameters: {'learning_rate': 0.0851835659657465, 'n_estimators': 5822, 'max_depth': 7, 'num_leaves': 7, 'reg_alpha': 5.744820277162601, 'reg_lambda': 4.711912231697072, 'min_data_in_leaf': 744}. Best is trial 19 with value: 0.7475782744060069.\u001b[0m\n"
     ]
    },
    {
     "name": "stdout",
     "output_type": "stream",
     "text": [
      "FrozenTrial(number=19, values=[0.7475782744060069], datetime_start=datetime.datetime(2021, 11, 3, 9, 57, 24, 810475), datetime_complete=datetime.datetime(2021, 11, 3, 10, 3, 34, 972252), params={'learning_rate': 0.088202251342637, 'max_depth': 9, 'min_data_in_leaf': 622, 'n_estimators': 6675, 'num_leaves': 2, 'reg_alpha': 3.2551114904483622, 'reg_lambda': 4.3256459403144465}, distributions={'learning_rate': UniformDistribution(high=0.99, low=0.001), 'max_depth': IntUniformDistribution(high=10, low=2, step=1), 'min_data_in_leaf': IntUniformDistribution(high=1000, low=50, step=1), 'n_estimators': IntUniformDistribution(high=10000, low=500, step=1), 'num_leaves': IntUniformDistribution(high=100, low=2, step=1), 'reg_alpha': UniformDistribution(high=10.0, low=0.0), 'reg_lambda': UniformDistribution(high=10.0, low=0.0)}, user_attrs={}, system_attrs={}, intermediate_values={}, trial_id=20, state=TrialState.COMPLETE, value=None)\n"
     ]
    }
   ],
   "source": [
    "study.optimize(lambda trial: objective(trial, X, y, \"lgbm\"),  n_trials=100)\n",
    "print(study.best_trial)"
   ]
  },
  {
   "cell_type": "code",
   "execution_count": 11,
   "id": "09a6dffb-345b-40c7-bf08-2da019612ac1",
   "metadata": {},
   "outputs": [
    {
     "name": "stdout",
     "output_type": "stream",
     "text": [
      "2021-11-03 13:51:12.751799\n"
     ]
    }
   ],
   "source": [
    "from datetime import datetime\n",
    "print(datetime.now())"
   ]
  },
  {
   "cell_type": "code",
   "execution_count": null,
   "id": "f1b25b1f-01b5-4c57-b35b-900d12f6be8f",
   "metadata": {},
   "outputs": [],
   "source": []
  }
 ],
 "metadata": {
  "kernelspec": {
   "display_name": "Python 3 (ipykernel)",
   "language": "python",
   "name": "python3"
  },
  "language_info": {
   "codemirror_mode": {
    "name": "ipython",
    "version": 3
   },
   "file_extension": ".py",
   "mimetype": "text/x-python",
   "name": "python",
   "nbconvert_exporter": "python",
   "pygments_lexer": "ipython3",
   "version": "3.9.5"
  }
 },
 "nbformat": 4,
 "nbformat_minor": 5
}
