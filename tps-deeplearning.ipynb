{
 "cells": [
  {
   "cell_type": "code",
   "execution_count": 2,
   "id": "449668d5-3a6e-43d4-87a4-871b2201e6c7",
   "metadata": {},
   "outputs": [],
   "source": [
    "# Familiar imports\n",
    "import numpy as np\n",
    "import pandas as pd\n",
    "\n",
    "# For ordinal encoding categorical variables, splitting data\n",
    "from sklearn.preprocessing import OrdinalEncoder\n",
    "from sklearn.model_selection import train_test_split, KFold, StratifiedKFold\n",
    "\n",
    "# For training random forest model\n",
    "from sklearn.ensemble import RandomForestRegressor\n",
    "from sklearn.metrics import mean_squared_error\n",
    "from sklearn.feature_selection import mutual_info_regression\n",
    "from sklearn.cluster import KMeans\n",
    "from sklearn.compose import ColumnTransformer\n",
    "from sklearn.pipeline import Pipeline\n",
    "from sklearn.impute import SimpleImputer\n",
    "from sklearn.preprocessing import OneHotEncoder, LabelEncoder\n",
    "from sklearn.ensemble import RandomForestRegressor\n",
    "from sklearn.metrics import mean_absolute_error, roc_auc_score\n",
    "from sklearn.experimental import enable_iterative_imputer\n",
    "from sklearn.impute import IterativeImputer\n",
    "from xgboost import XGBRegressor\n",
    "from lightgbm import LGBMRegressor\n",
    "import seaborn as sns\n",
    "from tqdm import tqdm\n",
    "from sklearn.model_selection import cross_val_score, GridSearchCV\n",
    "from sklearn.decomposition import PCA\n",
    "import matplotlib.pyplot as plt\n",
    "from catboost import CatBoostRegressor\n",
    "from sklearn.linear_model import Ridge"
   ]
  },
  {
   "cell_type": "code",
   "execution_count": 3,
   "id": "d1eacf76-20b7-4fb0-aa73-72af5b2f6cde",
   "metadata": {},
   "outputs": [],
   "source": [
    "# Load the training data\n",
    "rawtrain = pd.read_csv(\"../input/tabular-playground-series-oct-2021/train.csv\", index_col=0)\n",
    "rawtest = pd.read_csv(\"../input/tabular-playground-series-oct-2021/test.csv\", index_col=0)"
   ]
  },
  {
   "cell_type": "code",
   "execution_count": 4,
   "id": "53753204-5ad3-4a3a-ae66-226e43feacae",
   "metadata": {},
   "outputs": [],
   "source": [
    "train = rawtrain.copy()\n",
    "y = train['target']\n",
    "features = train.drop(['target'], axis=1)"
   ]
  },
  {
   "cell_type": "code",
   "execution_count": 5,
   "id": "c9328af7-dc4f-416c-9f4c-785a7a24128f",
   "metadata": {},
   "outputs": [
    {
     "data": {
      "text/plain": [
       "(1000000, 285)"
      ]
     },
     "execution_count": 5,
     "metadata": {},
     "output_type": "execute_result"
    }
   ],
   "source": [
    "X = features.copy()\n",
    "X.shape"
   ]
  },
  {
   "cell_type": "code",
   "execution_count": 6,
   "id": "2245b4d3-56cb-484a-a59e-dc34b64654cd",
   "metadata": {},
   "outputs": [
    {
     "data": {
      "text/plain": [
       "(500000, 285)"
      ]
     },
     "execution_count": 6,
     "metadata": {},
     "output_type": "execute_result"
    }
   ],
   "source": [
    "test = rawtest.copy()\n",
    "test.shape"
   ]
  },
  {
   "cell_type": "code",
   "execution_count": 7,
   "id": "b95bd172-060d-41bf-a69c-5b80607acdfb",
   "metadata": {},
   "outputs": [],
   "source": [
    "from tensorflow import keras\n",
    "from tensorflow.keras import layers, callbacks\n",
    "from keras import backend as K\n",
    "import tensorflow as tf"
   ]
  },
  {
   "cell_type": "code",
   "execution_count": 8,
   "id": "f795a559-0c84-4b13-9495-d18f8838c74a",
   "metadata": {},
   "outputs": [
    {
     "name": "stdout",
     "output_type": "stream",
     "text": [
      "[name: \"/device:CPU:0\"\n",
      "device_type: \"CPU\"\n",
      "memory_limit: 268435456\n",
      "locality {\n",
      "}\n",
      "incarnation: 9725861413118818196\n",
      ", name: \"/device:GPU:0\"\n",
      "device_type: \"GPU\"\n",
      "memory_limit: 9898950656\n",
      "locality {\n",
      "  bus_id: 1\n",
      "  links {\n",
      "  }\n",
      "}\n",
      "incarnation: 6931080311734750086\n",
      "physical_device_desc: \"device: 0, name: NVIDIA GeForce RTX 3080 Ti, pci bus id: 0000:2a:00.0, compute capability: 8.6\"\n",
      "]\n"
     ]
    }
   ],
   "source": [
    "from tensorflow.python.client import device_lib\n",
    "print(device_lib.list_local_devices())"
   ]
  },
  {
   "cell_type": "code",
   "execution_count": 9,
   "id": "3f77a435-c032-4bf5-baab-3dcd11af2fbd",
   "metadata": {},
   "outputs": [],
   "source": [
    "input_shape = [X.shape[1]]\n",
    "\n",
    "def create_model():\n",
    "    model = keras.Sequential([\n",
    "        layers.BatchNormalization(input_shape = input_shape),\n",
    "        layers.Dense(units = 64, activation = 'relu'),\n",
    "        layers.BatchNormalization(),\n",
    "        layers.Dropout(rate = 0.3),\n",
    "        \n",
    "        layers.Dense(units = 1, activation = 'hard_sigmoid')\n",
    "    ])\n",
    "    model.compile(optimizer='adam',\n",
    "              loss='binary_crossentropy',\n",
    "              metrics=[tf.keras.metrics.AUC()]\n",
    "    ) \n",
    "    return model"
   ]
  },
  {
   "cell_type": "code",
   "execution_count": 10,
   "id": "af128af7-2b27-4346-8511-eaa71db3026c",
   "metadata": {},
   "outputs": [
    {
     "data": {
      "text/plain": [
       "10000.0"
      ]
     },
     "execution_count": 10,
     "metadata": {},
     "output_type": "execute_result"
    }
   ],
   "source": [
    "X.shape[0]*0.01"
   ]
  },
  {
   "cell_type": "code",
   "execution_count": 11,
   "id": "3ef31c9c-a3f2-426c-9fde-e4efc89232b7",
   "metadata": {},
   "outputs": [],
   "source": [
    "from numba import cuda"
   ]
  },
  {
   "cell_type": "code",
   "execution_count": 12,
   "id": "2c878d80-a8c3-429a-bef3-541f63fba24b",
   "metadata": {},
   "outputs": [
    {
     "name": "stdout",
     "output_type": "stream",
     "text": [
      "Device mapping:\n",
      "/job:localhost/replica:0/task:0/device:GPU:0 -> device: 0, name: NVIDIA GeForce RTX 3080 Ti, pci bus id: 0000:2a:00.0, compute capability: 8.6\n",
      "\n"
     ]
    },
    {
     "name": "stderr",
     "output_type": "stream",
     "text": [
      "0it [00:00, ?it/s]"
     ]
    },
    {
     "name": "stdout",
     "output_type": "stream",
     "text": [
      "Epoch 1/50\n",
      "134/134 [==============================] - 3s 14ms/step - loss: 1.0635 - auc: 0.5622 - val_loss: 0.6509 - val_auc: 0.7193\n",
      "Epoch 2/50\n",
      "134/134 [==============================] - 1s 10ms/step - loss: 0.7643 - auc: 0.6436 - val_loss: 0.6111 - val_auc: 0.7750\n",
      "Epoch 3/50\n",
      "134/134 [==============================] - 1s 10ms/step - loss: 0.6957 - auc: 0.6945 - val_loss: 0.5896 - val_auc: 0.7788\n",
      "Epoch 4/50\n",
      "134/134 [==============================] - 1s 10ms/step - loss: 0.6598 - auc: 0.7224 - val_loss: 0.5744 - val_auc: 0.7890\n",
      "Epoch 5/50\n",
      "134/134 [==============================] - 1s 10ms/step - loss: 0.6321 - auc: 0.7460 - val_loss: 0.5699 - val_auc: 0.7916\n",
      "Epoch 6/50\n",
      "134/134 [==============================] - 1s 10ms/step - loss: 0.6283 - auc: 0.7454 - val_loss: 0.5721 - val_auc: 0.7881\n",
      "Epoch 7/50\n",
      "134/134 [==============================] - 1s 10ms/step - loss: 0.6059 - auc: 0.7636 - val_loss: 0.5555 - val_auc: 0.8046\n",
      "Epoch 8/50\n",
      "134/134 [==============================] - 1s 10ms/step - loss: 0.5894 - auc: 0.7800 - val_loss: 0.5446 - val_auc: 0.8130\n",
      "Epoch 9/50\n",
      "134/134 [==============================] - 1s 10ms/step - loss: 0.5775 - auc: 0.7921 - val_loss: 0.5534 - val_auc: 0.8044\n",
      "Epoch 10/50\n",
      "134/134 [==============================] - 1s 10ms/step - loss: 0.6387 - auc: 0.7578 - val_loss: 0.5826 - val_auc: 0.7826\n",
      "Epoch 11/50\n",
      "134/134 [==============================] - 1s 10ms/step - loss: 0.6057 - auc: 0.7753 - val_loss: 0.5584 - val_auc: 0.7992\n",
      "Epoch 12/50\n",
      "134/134 [==============================] - 1s 10ms/step - loss: 0.5893 - auc: 0.7845 - val_loss: 0.5488 - val_auc: 0.8074\n",
      "Epoch 13/50\n",
      "134/134 [==============================] - 1s 10ms/step - loss: 0.5779 - auc: 0.7921 - val_loss: 0.5391 - val_auc: 0.8146\n",
      "Epoch 14/50\n",
      "134/134 [==============================] - 1s 10ms/step - loss: 0.5722 - auc: 0.7965 - val_loss: 0.5586 - val_auc: 0.8011\n",
      "Epoch 15/50\n",
      "134/134 [==============================] - 1s 10ms/step - loss: 0.5962 - auc: 0.7814 - val_loss: 0.5560 - val_auc: 0.8027\n",
      "Epoch 16/50\n",
      "134/134 [==============================] - 1s 10ms/step - loss: 0.5801 - auc: 0.7907 - val_loss: 0.5453 - val_auc: 0.8109\n",
      "Epoch 17/50\n",
      "134/134 [==============================] - 1s 10ms/step - loss: 0.5708 - auc: 0.7961 - val_loss: 0.5416 - val_auc: 0.8141\n",
      "Epoch 18/50\n",
      "134/134 [==============================] - 1s 10ms/step - loss: 0.5643 - auc: 0.8000 - val_loss: 0.5369 - val_auc: 0.8175\n",
      "Epoch 19/50\n",
      "134/134 [==============================] - 1s 10ms/step - loss: 0.5603 - auc: 0.8032 - val_loss: 0.5349 - val_auc: 0.8197\n",
      "Epoch 20/50\n",
      "134/134 [==============================] - 1s 11ms/step - loss: 0.5584 - auc: 0.8043 - val_loss: 0.5310 - val_auc: 0.8220\n",
      "Epoch 21/50\n",
      "134/134 [==============================] - 1s 10ms/step - loss: 0.5540 - auc: 0.8086 - val_loss: 0.5263 - val_auc: 0.8246\n",
      "Epoch 22/50\n",
      "134/134 [==============================] - 1s 10ms/step - loss: 0.5499 - auc: 0.8111 - val_loss: 0.5224 - val_auc: 0.8264\n",
      "Epoch 23/50\n",
      "134/134 [==============================] - 1s 10ms/step - loss: 0.5469 - auc: 0.8136 - val_loss: 0.5206 - val_auc: 0.8274\n",
      "Epoch 24/50\n",
      "134/134 [==============================] - 1s 10ms/step - loss: 0.5444 - auc: 0.8149 - val_loss: 0.5186 - val_auc: 0.8285\n",
      "Epoch 25/50\n",
      "134/134 [==============================] - 1s 10ms/step - loss: 0.5438 - auc: 0.8146 - val_loss: 0.5209 - val_auc: 0.8276\n",
      "Epoch 26/50\n",
      "134/134 [==============================] - 1s 10ms/step - loss: 0.5413 - auc: 0.8159 - val_loss: 0.5192 - val_auc: 0.8283\n",
      "Epoch 27/50\n",
      "134/134 [==============================] - 1s 10ms/step - loss: 0.5385 - auc: 0.8176 - val_loss: 0.5162 - val_auc: 0.8297\n",
      "Epoch 28/50\n",
      "134/134 [==============================] - 1s 10ms/step - loss: 0.5400 - auc: 0.8164 - val_loss: 0.5187 - val_auc: 0.8288\n",
      "Epoch 29/50\n",
      "134/134 [==============================] - 1s 10ms/step - loss: 0.5364 - auc: 0.8182 - val_loss: 0.5163 - val_auc: 0.8300\n",
      "Epoch 30/50\n",
      "134/134 [==============================] - 1s 10ms/step - loss: 0.5451 - auc: 0.8120 - val_loss: 0.5308 - val_auc: 0.8216\n",
      "Epoch 31/50\n",
      "134/134 [==============================] - 1s 10ms/step - loss: 0.5433 - auc: 0.8134 - val_loss: 0.5244 - val_auc: 0.8259\n",
      "Epoch 32/50\n",
      "134/134 [==============================] - 1s 10ms/step - loss: 0.5393 - auc: 0.8168 - val_loss: 0.5202 - val_auc: 0.8281\n",
      "Epoch 33/50\n",
      "134/134 [==============================] - 1s 10ms/step - loss: 0.5354 - auc: 0.8187 - val_loss: 0.5171 - val_auc: 0.8295\n",
      "Epoch 34/50\n",
      "134/134 [==============================] - 1s 9ms/step - loss: 0.5320 - auc: 0.8211 - val_loss: 0.5141 - val_auc: 0.8309\n",
      "Epoch 35/50\n",
      "134/134 [==============================] - 1s 10ms/step - loss: 0.5297 - auc: 0.8225 - val_loss: 0.5149 - val_auc: 0.8312\n",
      "Epoch 36/50\n",
      "134/134 [==============================] - 1s 10ms/step - loss: 0.5324 - auc: 0.8203 - val_loss: 0.5402 - val_auc: 0.8174\n",
      "Epoch 37/50\n",
      "134/134 [==============================] - 1s 9ms/step - loss: 0.5453 - auc: 0.8117 - val_loss: 0.5297 - val_auc: 0.8232\n",
      "Epoch 38/50\n",
      "134/134 [==============================] - 1s 9ms/step - loss: 0.5373 - auc: 0.8176 - val_loss: 0.5206 - val_auc: 0.8275\n",
      "Epoch 39/50\n",
      "134/134 [==============================] - 1s 9ms/step - loss: 0.5323 - auc: 0.8215 - val_loss: 0.5147 - val_auc: 0.8305\n",
      "Epoch 40/50\n",
      "134/134 [==============================] - 1s 10ms/step - loss: 0.5320 - auc: 0.8210 - val_loss: 0.5175 - val_auc: 0.8289\n",
      "Epoch 41/50\n",
      "134/134 [==============================] - 1s 10ms/step - loss: 0.5291 - auc: 0.8231 - val_loss: 0.5118 - val_auc: 0.8313\n",
      "Epoch 42/50\n",
      "134/134 [==============================] - 1s 9ms/step - loss: 0.5462 - auc: 0.8114 - val_loss: 0.5389 - val_auc: 0.8168\n",
      "Epoch 43/50\n",
      "134/134 [==============================] - 1s 10ms/step - loss: 0.5459 - auc: 0.8124 - val_loss: 0.5299 - val_auc: 0.8225\n",
      "Epoch 44/50\n",
      "134/134 [==============================] - 1s 9ms/step - loss: 0.5376 - auc: 0.8178 - val_loss: 0.5244 - val_auc: 0.8266\n",
      "Epoch 45/50\n",
      "134/134 [==============================] - 1s 10ms/step - loss: 0.5375 - auc: 0.8182 - val_loss: 0.5275 - val_auc: 0.8257\n",
      "Epoch 46/50\n",
      "134/134 [==============================] - 1s 10ms/step - loss: 0.5359 - auc: 0.8193 - val_loss: 0.5256 - val_auc: 0.8265\n",
      "Epoch 47/50\n",
      "134/134 [==============================] - 1s 10ms/step - loss: 0.5327 - auc: 0.8210 - val_loss: 0.5199 - val_auc: 0.8285\n",
      "Epoch 48/50\n",
      "134/134 [==============================] - 1s 9ms/step - loss: 0.5422 - auc: 0.8169 - val_loss: 0.5409 - val_auc: 0.8231\n",
      "Epoch 49/50\n",
      "134/134 [==============================] - 1s 9ms/step - loss: 0.5397 - auc: 0.8183 - val_loss: 0.5283 - val_auc: 0.8263\n",
      "Epoch 50/50\n",
      "134/134 [==============================] - 1s 9ms/step - loss: 0.5317 - auc: 0.8216 - val_loss: 0.5197 - val_auc: 0.8285\n",
      "valid mse 0.8285325052377933\n"
     ]
    },
    {
     "name": "stderr",
     "output_type": "stream",
     "text": [
      "1it [01:23, 83.26s/it]"
     ]
    },
    {
     "name": "stdout",
     "output_type": "stream",
     "text": [
      "Epoch 1/50\n",
      "134/134 [==============================] - 2s 14ms/step - loss: 1.1985 - auc: 0.5900 - val_loss: 0.6300 - val_auc: 0.7666\n",
      "Epoch 2/50\n",
      "134/134 [==============================] - 1s 10ms/step - loss: 0.7961 - auc: 0.6810 - val_loss: 0.5967 - val_auc: 0.7759\n",
      "Epoch 3/50\n",
      "134/134 [==============================] - 1s 10ms/step - loss: 0.7662 - auc: 0.6832 - val_loss: 0.6016 - val_auc: 0.7608\n",
      "Epoch 4/50\n",
      "134/134 [==============================] - 1s 10ms/step - loss: 0.7082 - auc: 0.6980 - val_loss: 0.5898 - val_auc: 0.7696\n",
      "Epoch 5/50\n",
      "134/134 [==============================] - 1s 9ms/step - loss: 0.6712 - auc: 0.7170 - val_loss: 0.5810 - val_auc: 0.7792\n",
      "Epoch 6/50\n",
      "134/134 [==============================] - 1s 9ms/step - loss: 0.6426 - auc: 0.7376 - val_loss: 0.5676 - val_auc: 0.7936\n",
      "Epoch 7/50\n",
      "134/134 [==============================] - 1s 9ms/step - loss: 0.6332 - auc: 0.7460 - val_loss: 0.5649 - val_auc: 0.7962\n",
      "Epoch 8/50\n",
      "134/134 [==============================] - 1s 9ms/step - loss: 0.6174 - auc: 0.7602 - val_loss: 0.5558 - val_auc: 0.8049\n",
      "Epoch 9/50\n",
      "134/134 [==============================] - 1s 9ms/step - loss: 0.6060 - auc: 0.7700 - val_loss: 0.5494 - val_auc: 0.8101\n",
      "Epoch 10/50\n",
      "134/134 [==============================] - 1s 10ms/step - loss: 0.6430 - auc: 0.7499 - val_loss: 0.5812 - val_auc: 0.7820\n",
      "Epoch 11/50\n",
      "134/134 [==============================] - 1s 10ms/step - loss: 0.6199 - auc: 0.7598 - val_loss: 0.5666 - val_auc: 0.7940\n",
      "Epoch 12/50\n",
      "134/134 [==============================] - 1s 10ms/step - loss: 0.6028 - auc: 0.7676 - val_loss: 0.5568 - val_auc: 0.8035\n",
      "Epoch 13/50\n",
      "134/134 [==============================] - 1s 10ms/step - loss: 0.5918 - auc: 0.7767 - val_loss: 0.5554 - val_auc: 0.8039\n",
      "Epoch 14/50\n",
      "134/134 [==============================] - 1s 11ms/step - loss: 0.5871 - auc: 0.7806 - val_loss: 0.5456 - val_auc: 0.8130\n",
      "Epoch 15/50\n",
      "134/134 [==============================] - 1s 9ms/step - loss: 0.5759 - auc: 0.7890 - val_loss: 0.5411 - val_auc: 0.8175\n",
      "Epoch 16/50\n",
      "134/134 [==============================] - 1s 10ms/step - loss: 0.5683 - auc: 0.7946 - val_loss: 0.5328 - val_auc: 0.8223\n",
      "Epoch 17/50\n",
      "134/134 [==============================] - 1s 10ms/step - loss: 0.5622 - auc: 0.8017 - val_loss: 0.5260 - val_auc: 0.8261\n",
      "Epoch 18/50\n",
      "134/134 [==============================] - 1s 10ms/step - loss: 0.5741 - auc: 0.7939 - val_loss: 0.5580 - val_auc: 0.8013\n",
      "Epoch 19/50\n",
      "134/134 [==============================] - 1s 9ms/step - loss: 0.5884 - auc: 0.7786 - val_loss: 0.5608 - val_auc: 0.7975\n",
      "Epoch 20/50\n",
      "134/134 [==============================] - 1s 10ms/step - loss: 0.5835 - auc: 0.7814 - val_loss: 0.5514 - val_auc: 0.8063\n",
      "Epoch 21/50\n",
      "134/134 [==============================] - 1s 9ms/step - loss: 0.5760 - auc: 0.7862 - val_loss: 0.5516 - val_auc: 0.8070\n",
      "Epoch 22/50\n",
      "134/134 [==============================] - 1s 9ms/step - loss: 0.5670 - auc: 0.7935 - val_loss: 0.5415 - val_auc: 0.8153\n",
      "Epoch 23/50\n",
      "134/134 [==============================] - 1s 10ms/step - loss: 0.5584 - auc: 0.8022 - val_loss: 0.5330 - val_auc: 0.8213\n",
      "Epoch 24/50\n",
      "134/134 [==============================] - 1s 9ms/step - loss: 0.5504 - auc: 0.8075 - val_loss: 0.5280 - val_auc: 0.8250\n",
      "Epoch 25/50\n",
      "134/134 [==============================] - 1s 10ms/step - loss: 0.5450 - auc: 0.8117 - val_loss: 0.5233 - val_auc: 0.8279\n",
      "Epoch 26/50\n",
      "134/134 [==============================] - 1s 10ms/step - loss: 0.5401 - auc: 0.8148 - val_loss: 0.5178 - val_auc: 0.8305\n",
      "Epoch 27/50\n",
      "134/134 [==============================] - 1s 10ms/step - loss: 0.5362 - auc: 0.8177 - val_loss: 0.5142 - val_auc: 0.8321\n",
      "Epoch 28/50\n",
      "134/134 [==============================] - 1s 9ms/step - loss: 0.5334 - auc: 0.8194 - val_loss: 0.5112 - val_auc: 0.8335\n",
      "Epoch 29/50\n",
      "134/134 [==============================] - 1s 10ms/step - loss: 0.5301 - auc: 0.8214 - val_loss: 0.5081 - val_auc: 0.8349\n",
      "Epoch 30/50\n",
      "134/134 [==============================] - 1s 10ms/step - loss: 0.5279 - auc: 0.8233 - val_loss: 0.5057 - val_auc: 0.8359\n",
      "Epoch 31/50\n",
      "134/134 [==============================] - 1s 10ms/step - loss: 0.5264 - auc: 0.8246 - val_loss: 0.5054 - val_auc: 0.8364\n",
      "Epoch 32/50\n",
      "134/134 [==============================] - 1s 10ms/step - loss: 0.5242 - auc: 0.8253 - val_loss: 0.5038 - val_auc: 0.8369\n",
      "Epoch 33/50\n",
      "134/134 [==============================] - 1s 10ms/step - loss: 0.5233 - auc: 0.8255 - val_loss: 0.5072 - val_auc: 0.8349\n",
      "Epoch 34/50\n",
      "134/134 [==============================] - 1s 10ms/step - loss: 0.5312 - auc: 0.8195 - val_loss: 0.5182 - val_auc: 0.8293\n",
      "Epoch 35/50\n",
      "134/134 [==============================] - 1s 9ms/step - loss: 0.5295 - auc: 0.8214 - val_loss: 0.5127 - val_auc: 0.8323\n",
      "Epoch 36/50\n",
      "134/134 [==============================] - 1s 10ms/step - loss: 0.5246 - auc: 0.8242 - val_loss: 0.5082 - val_auc: 0.8346\n",
      "Epoch 37/50\n",
      "134/134 [==============================] - 1s 10ms/step - loss: 0.5218 - auc: 0.8255 - val_loss: 0.5069 - val_auc: 0.8356\n",
      "Epoch 38/50\n",
      "134/134 [==============================] - 1s 9ms/step - loss: 0.5186 - auc: 0.8274 - val_loss: 0.5066 - val_auc: 0.8356\n",
      "Epoch 39/50\n",
      "134/134 [==============================] - 1s 10ms/step - loss: 0.5253 - auc: 0.8234 - val_loss: 0.5328 - val_auc: 0.8228\n",
      "Epoch 40/50\n",
      "134/134 [==============================] - 1s 10ms/step - loss: 0.5361 - auc: 0.8182 - val_loss: 0.5184 - val_auc: 0.8294\n",
      "Epoch 41/50\n",
      "134/134 [==============================] - 1s 10ms/step - loss: 0.5273 - auc: 0.8238 - val_loss: 0.5107 - val_auc: 0.8334\n",
      "Epoch 42/50\n",
      "134/134 [==============================] - 1s 10ms/step - loss: 0.5223 - auc: 0.8266 - val_loss: 0.5076 - val_auc: 0.8356\n",
      "Epoch 43/50\n",
      "134/134 [==============================] - 1s 10ms/step - loss: 0.5201 - auc: 0.8270 - val_loss: 0.5075 - val_auc: 0.8354\n",
      "Epoch 44/50\n",
      "134/134 [==============================] - 1s 10ms/step - loss: 0.5195 - auc: 0.8277 - val_loss: 0.5070 - val_auc: 0.8355\n",
      "Epoch 45/50\n",
      "134/134 [==============================] - 1s 10ms/step - loss: 0.5166 - auc: 0.8287 - val_loss: 0.5039 - val_auc: 0.8368\n",
      "Epoch 46/50\n",
      "134/134 [==============================] - 1s 10ms/step - loss: 0.5145 - auc: 0.8300 - val_loss: 0.5059 - val_auc: 0.8365\n",
      "Epoch 47/50\n",
      "134/134 [==============================] - 1s 10ms/step - loss: 0.5209 - auc: 0.8261 - val_loss: 0.5067 - val_auc: 0.8342\n",
      "Epoch 48/50\n",
      "134/134 [==============================] - 1s 9ms/step - loss: 0.5222 - auc: 0.8255 - val_loss: 0.5073 - val_auc: 0.8336\n",
      "Epoch 49/50\n",
      "134/134 [==============================] - 1s 10ms/step - loss: 0.5173 - auc: 0.8283 - val_loss: 0.5080 - val_auc: 0.8353\n",
      "Epoch 50/50\n",
      "134/134 [==============================] - 1s 9ms/step - loss: 0.5184 - auc: 0.8277 - val_loss: 0.5048 - val_auc: 0.8356\n",
      "valid mse 0.8356319999143724\n"
     ]
    },
    {
     "name": "stderr",
     "output_type": "stream",
     "text": [
      "2it [02:44, 82.05s/it]"
     ]
    },
    {
     "name": "stdout",
     "output_type": "stream",
     "text": [
      "Epoch 1/50\n",
      "134/134 [==============================] - 2s 12ms/step - loss: 0.9953 - auc: 0.6321 - val_loss: 0.6149 - val_auc: 0.7662\n",
      "Epoch 2/50\n",
      "134/134 [==============================] - 1s 9ms/step - loss: 0.6867 - auc: 0.7151 - val_loss: 0.5918 - val_auc: 0.7874\n",
      "Epoch 3/50\n",
      "134/134 [==============================] - 1s 9ms/step - loss: 0.6330 - auc: 0.7408 - val_loss: 0.5652 - val_auc: 0.8012\n",
      "Epoch 4/50\n",
      "134/134 [==============================] - 1s 9ms/step - loss: 0.6077 - auc: 0.7636 - val_loss: 0.5539 - val_auc: 0.8099\n",
      "Epoch 5/50\n",
      "134/134 [==============================] - 1s 9ms/step - loss: 0.5910 - auc: 0.7746 - val_loss: 0.5480 - val_auc: 0.8129\n",
      "Epoch 6/50\n",
      "134/134 [==============================] - 1s 9ms/step - loss: 0.5752 - auc: 0.7894 - val_loss: 0.5343 - val_auc: 0.8212\n",
      "Epoch 7/50\n",
      "134/134 [==============================] - 1s 9ms/step - loss: 0.5645 - auc: 0.7999 - val_loss: 0.5315 - val_auc: 0.8229\n",
      "Epoch 8/50\n",
      "134/134 [==============================] - 1s 9ms/step - loss: 0.5619 - auc: 0.8014 - val_loss: 0.5283 - val_auc: 0.8253\n",
      "Epoch 9/50\n",
      "134/134 [==============================] - 1s 9ms/step - loss: 0.5649 - auc: 0.7998 - val_loss: 0.5540 - val_auc: 0.8053\n",
      "Epoch 10/50\n",
      "134/134 [==============================] - 1s 9ms/step - loss: 0.5690 - auc: 0.7952 - val_loss: 0.5396 - val_auc: 0.8187\n",
      "Epoch 11/50\n",
      "134/134 [==============================] - 1s 9ms/step - loss: 0.5561 - auc: 0.8051 - val_loss: 0.5305 - val_auc: 0.8244\n",
      "Epoch 12/50\n",
      "134/134 [==============================] - 1s 9ms/step - loss: 0.5493 - auc: 0.8108 - val_loss: 0.5223 - val_auc: 0.8292\n",
      "Epoch 13/50\n",
      "134/134 [==============================] - 1s 9ms/step - loss: 0.5436 - auc: 0.8131 - val_loss: 0.5265 - val_auc: 0.8272\n",
      "Epoch 14/50\n",
      "134/134 [==============================] - 1s 9ms/step - loss: 0.5417 - auc: 0.8139 - val_loss: 0.5187 - val_auc: 0.8307\n",
      "Epoch 15/50\n",
      "134/134 [==============================] - 1s 9ms/step - loss: 0.5371 - auc: 0.8174 - val_loss: 0.5246 - val_auc: 0.8251\n",
      "Epoch 16/50\n",
      "134/134 [==============================] - 1s 9ms/step - loss: 0.5449 - auc: 0.8118 - val_loss: 0.5213 - val_auc: 0.8274\n",
      "Epoch 17/50\n",
      "134/134 [==============================] - 1s 8ms/step - loss: 0.5403 - auc: 0.8143 - val_loss: 0.5252 - val_auc: 0.8255\n",
      "Epoch 18/50\n",
      "134/134 [==============================] - 1s 8ms/step - loss: 0.5392 - auc: 0.8149 - val_loss: 0.5278 - val_auc: 0.8259\n",
      "Epoch 19/50\n",
      "134/134 [==============================] - 1s 8ms/step - loss: 0.5410 - auc: 0.8132 - val_loss: 0.5231 - val_auc: 0.8268\n",
      "Epoch 20/50\n",
      "134/134 [==============================] - 1s 8ms/step - loss: 0.5346 - auc: 0.8174 - val_loss: 0.5163 - val_auc: 0.8303\n",
      "Epoch 21/50\n",
      "134/134 [==============================] - 1s 8ms/step - loss: 0.5303 - auc: 0.8208 - val_loss: 0.5114 - val_auc: 0.8329\n",
      "Epoch 22/50\n",
      "134/134 [==============================] - 1s 8ms/step - loss: 0.5262 - auc: 0.8230 - val_loss: 0.5077 - val_auc: 0.8348\n",
      "Epoch 23/50\n",
      "134/134 [==============================] - 1s 8ms/step - loss: 0.5250 - auc: 0.8242 - val_loss: 0.5213 - val_auc: 0.8274\n",
      "Epoch 24/50\n",
      "134/134 [==============================] - 1s 9ms/step - loss: 0.5315 - auc: 0.8202 - val_loss: 0.5131 - val_auc: 0.8320\n",
      "Epoch 25/50\n",
      "134/134 [==============================] - 1s 9ms/step - loss: 0.5252 - auc: 0.8242 - val_loss: 0.5074 - val_auc: 0.8349\n",
      "Epoch 26/50\n",
      "134/134 [==============================] - 1s 9ms/step - loss: 0.5226 - auc: 0.8261 - val_loss: 0.5051 - val_auc: 0.8363\n",
      "Epoch 27/50\n",
      "134/134 [==============================] - 1s 9ms/step - loss: 0.5191 - auc: 0.8276 - val_loss: 0.5021 - val_auc: 0.8377\n",
      "Epoch 28/50\n",
      "134/134 [==============================] - 1s 8ms/step - loss: 0.5182 - auc: 0.8287 - val_loss: 0.5007 - val_auc: 0.8385\n",
      "Epoch 29/50\n",
      "134/134 [==============================] - 1s 9ms/step - loss: 0.5154 - auc: 0.8295 - val_loss: 0.4988 - val_auc: 0.8390\n",
      "Epoch 30/50\n",
      "134/134 [==============================] - 1s 9ms/step - loss: 0.5151 - auc: 0.8295 - val_loss: 0.4999 - val_auc: 0.8386\n",
      "Epoch 31/50\n",
      "134/134 [==============================] - 1s 9ms/step - loss: 0.5150 - auc: 0.8295 - val_loss: 0.4991 - val_auc: 0.8389\n",
      "Epoch 32/50\n",
      "134/134 [==============================] - 1s 9ms/step - loss: 0.5163 - auc: 0.8291 - val_loss: 0.5011 - val_auc: 0.8380\n",
      "Epoch 33/50\n",
      "134/134 [==============================] - 1s 9ms/step - loss: 0.5141 - auc: 0.8305 - val_loss: 0.4997 - val_auc: 0.8389\n",
      "Epoch 34/50\n",
      "134/134 [==============================] - 1s 9ms/step - loss: 0.5124 - auc: 0.8312 - val_loss: 0.5024 - val_auc: 0.8378\n",
      "Epoch 35/50\n",
      "134/134 [==============================] - 1s 9ms/step - loss: 0.5143 - auc: 0.8293 - val_loss: 0.4997 - val_auc: 0.8380\n",
      "Epoch 36/50\n",
      "134/134 [==============================] - 1s 9ms/step - loss: 0.5118 - auc: 0.8311 - val_loss: 0.4978 - val_auc: 0.8391\n",
      "Epoch 37/50\n",
      "134/134 [==============================] - 1s 9ms/step - loss: 0.5100 - auc: 0.8324 - val_loss: 0.4961 - val_auc: 0.8401\n",
      "Epoch 38/50\n",
      "134/134 [==============================] - 1s 9ms/step - loss: 0.5095 - auc: 0.8323 - val_loss: 0.4999 - val_auc: 0.8390\n",
      "Epoch 39/50\n",
      "134/134 [==============================] - 1s 9ms/step - loss: 0.5098 - auc: 0.8326 - val_loss: 0.4962 - val_auc: 0.8401\n",
      "Epoch 40/50\n",
      "134/134 [==============================] - 1s 9ms/step - loss: 0.5145 - auc: 0.8295 - val_loss: 0.5088 - val_auc: 0.8339\n",
      "Epoch 41/50\n",
      "134/134 [==============================] - 1s 9ms/step - loss: 0.5134 - auc: 0.8299 - val_loss: 0.4992 - val_auc: 0.8377\n",
      "Epoch 42/50\n",
      "134/134 [==============================] - 1s 9ms/step - loss: 0.5099 - auc: 0.8319 - val_loss: 0.4974 - val_auc: 0.8389\n",
      "Epoch 43/50\n",
      "134/134 [==============================] - 1s 9ms/step - loss: 0.5075 - auc: 0.8329 - val_loss: 0.4960 - val_auc: 0.8399\n",
      "Epoch 44/50\n",
      "134/134 [==============================] - 1s 9ms/step - loss: 0.5060 - auc: 0.8340 - val_loss: 0.4940 - val_auc: 0.8408\n",
      "Epoch 45/50\n",
      "134/134 [==============================] - 1s 9ms/step - loss: 0.5060 - auc: 0.8346 - val_loss: 0.4945 - val_auc: 0.8408\n",
      "Epoch 46/50\n",
      "134/134 [==============================] - 1s 9ms/step - loss: 0.5049 - auc: 0.8353 - val_loss: 0.4961 - val_auc: 0.8414\n",
      "Epoch 47/50\n",
      "134/134 [==============================] - 1s 9ms/step - loss: 0.5050 - auc: 0.8353 - val_loss: 0.4944 - val_auc: 0.8414\n",
      "Epoch 48/50\n",
      "134/134 [==============================] - 1s 9ms/step - loss: 0.5039 - auc: 0.8358 - val_loss: 0.4936 - val_auc: 0.8414\n",
      "Epoch 49/50\n",
      "134/134 [==============================] - 1s 9ms/step - loss: 0.5076 - auc: 0.8338 - val_loss: 0.4984 - val_auc: 0.8396\n",
      "Epoch 50/50\n",
      "134/134 [==============================] - 1s 8ms/step - loss: 0.5082 - auc: 0.8331 - val_loss: 0.4961 - val_auc: 0.8398\n",
      "valid mse 0.8398503122125781\n"
     ]
    },
    {
     "name": "stderr",
     "output_type": "stream",
     "text": [
      "3it [04:12, 84.02s/it]\n"
     ]
    },
    {
     "ename": "InternalError",
     "evalue": "Failed copying input tensor from /job:localhost/replica:0/task:0/device:CPU:0 to /job:localhost/replica:0/task:0/device:GPU:0 in order to run _EagerConst: Dst tensor is not initialized.",
     "output_type": "error",
     "traceback": [
      "\u001b[1;31m---------------------------------------------------------------------------\u001b[0m",
      "\u001b[1;31mTypeError\u001b[0m                                 Traceback (most recent call last)",
      "\u001b[1;32m~\\miniconda3\\lib\\site-packages\\tensorflow\\python\\data\\util\\structure.py\u001b[0m in \u001b[0;36mnormalize_element\u001b[1;34m(element, element_signature)\u001b[0m\n\u001b[0;32m    105\u001b[0m         \u001b[1;32mif\u001b[0m \u001b[0mspec\u001b[0m \u001b[1;32mis\u001b[0m \u001b[1;32mNone\u001b[0m\u001b[1;33m:\u001b[0m\u001b[1;33m\u001b[0m\u001b[1;33m\u001b[0m\u001b[0m\n\u001b[1;32m--> 106\u001b[1;33m           \u001b[0mspec\u001b[0m \u001b[1;33m=\u001b[0m \u001b[0mtype_spec_from_value\u001b[0m\u001b[1;33m(\u001b[0m\u001b[0mt\u001b[0m\u001b[1;33m,\u001b[0m \u001b[0muse_fallback\u001b[0m\u001b[1;33m=\u001b[0m\u001b[1;32mFalse\u001b[0m\u001b[1;33m)\u001b[0m\u001b[1;33m\u001b[0m\u001b[1;33m\u001b[0m\u001b[0m\n\u001b[0m\u001b[0;32m    107\u001b[0m       \u001b[1;32mexcept\u001b[0m \u001b[0mTypeError\u001b[0m\u001b[1;33m:\u001b[0m\u001b[1;33m\u001b[0m\u001b[1;33m\u001b[0m\u001b[0m\n",
      "\u001b[1;32m~\\miniconda3\\lib\\site-packages\\tensorflow\\python\\data\\util\\structure.py\u001b[0m in \u001b[0;36mtype_spec_from_value\u001b[1;34m(element, use_fallback)\u001b[0m\n\u001b[0;32m    485\u001b[0m \u001b[1;33m\u001b[0m\u001b[0m\n\u001b[1;32m--> 486\u001b[1;33m   raise TypeError(\"Could not build a TypeSpec for %r with type %s\" %\n\u001b[0m\u001b[0;32m    487\u001b[0m                   (element, type(element).__name__))\n",
      "\u001b[1;31mTypeError\u001b[0m: Could not build a TypeSpec for               f0        f1        f2        f3        f4        f5        f6  \\\nid                                                                             \n0       0.205979  0.410993  0.176775  0.223581  0.423543  0.476140  0.413590   \n2       0.182583  0.307431  0.325950  0.207116  0.605699  0.309695  0.493337   \n4       0.177172  0.495513  0.014263  0.548819  0.625396  0.562493  0.117158   \n5       0.255237  0.345842  0.021549  0.220755  0.524854  0.423693  0.533150   \n7       0.184985  0.489515  0.094419  0.304358  0.721958  0.306020  0.386065   \n...          ...       ...       ...       ...       ...       ...       ...   \n999993  0.159215  0.575219  0.323898  0.324276  0.811534  0.513495  0.427590   \n999996  0.182004  0.564019  0.242564  0.241178  0.453623  0.469513  0.477518   \n999997  0.250304  0.491553  0.098547  0.235656  0.771272  0.368018  0.531642   \n999998  0.203572  0.534923  0.180118  0.213109  0.654544  0.535152  0.316271   \n999999  0.160972  0.596308  0.013061  0.280355  0.579849  0.401904  0.493870   \n\n              f7        f8        f9  ...  f275  f276  f277  f278  f279  f280  \\\nid                                    ...                                       \n0       0.612021  0.534873  0.147295  ...     0     0     1     0     0     0   \n2       0.751107  0.536272  0.286813  ...     0     0     0     0     1     1   \n4       0.561255  0.077115  0.158321  ...     0     0     1     1     0     1   \n5       0.628484  0.340781  0.146893  ...     0     0     0     1     0     1   \n7       0.651795  0.324744  0.448921  ...     1     1     0     0     0     0   \n...          ...       ...       ...  ...   ...   ...   ...   ...   ...   ...   \n999993  0.615049  0.622188  0.387114  ...     1     1     0     0     0     0   \n999996  0.659226  0.519219  0.252664  ...     0     0     0     0     0     0   \n999997  0.598111  0.618474  0.349413  ...     0     0     0     0     0     0   \n999998  0.652522  0.398026  0.252192  ...     1     0     0     0     0     0   \n999999  0.611947  0.531370  0.269219  ...     0     0     0     0     0     0   \n\n        f281  f282  f283  f284  \nid                              \n0          0     0     0     0  \n2          0     0     0     0  \n4          0     0     1     0  \n5          0     0     0     0  \n7          1     0     1     0  \n...      ...   ...   ...   ...  \n999993     0     0     0     0  \n999996     0     0     0     1  \n999997     0     0     0     0  \n999998     0     0     0     0  \n999999     0     0     0     0  \n\n[800000 rows x 285 columns] with type DataFrame",
      "\nDuring handling of the above exception, another exception occurred:\n",
      "\u001b[1;31mInternalError\u001b[0m                             Traceback (most recent call last)",
      "\u001b[1;32m~\\AppData\\Local\\Temp/ipykernel_23984/1236444467.py\u001b[0m in \u001b[0;36m<module>\u001b[1;34m\u001b[0m\n\u001b[0;32m     28\u001b[0m         )\n\u001b[0;32m     29\u001b[0m \u001b[1;33m\u001b[0m\u001b[0m\n\u001b[1;32m---> 30\u001b[1;33m         history = model.fit(Xt, yt, validation_data=(Xv, yv), callbacks = [early_stopping], \n\u001b[0m\u001b[0;32m     31\u001b[0m                             batch_size=6000, epochs=50)\n\u001b[0;32m     32\u001b[0m         \u001b[0mhistory_df\u001b[0m \u001b[1;33m=\u001b[0m \u001b[0mpd\u001b[0m\u001b[1;33m.\u001b[0m\u001b[0mDataFrame\u001b[0m\u001b[1;33m(\u001b[0m\u001b[0mhistory\u001b[0m\u001b[1;33m.\u001b[0m\u001b[0mhistory\u001b[0m\u001b[1;33m)\u001b[0m\u001b[1;33m\u001b[0m\u001b[1;33m\u001b[0m\u001b[0m\n",
      "\u001b[1;32m~\\miniconda3\\lib\\site-packages\\keras\\engine\\training.py\u001b[0m in \u001b[0;36mfit\u001b[1;34m(self, x, y, batch_size, epochs, verbose, callbacks, validation_split, validation_data, shuffle, class_weight, sample_weight, initial_epoch, steps_per_epoch, validation_steps, validation_batch_size, validation_freq, max_queue_size, workers, use_multiprocessing)\u001b[0m\n\u001b[0;32m   1132\u001b[0m          \u001b[0mtraining_utils\u001b[0m\u001b[1;33m.\u001b[0m\u001b[0mRespectCompiledTrainableState\u001b[0m\u001b[1;33m(\u001b[0m\u001b[0mself\u001b[0m\u001b[1;33m)\u001b[0m\u001b[1;33m:\u001b[0m\u001b[1;33m\u001b[0m\u001b[1;33m\u001b[0m\u001b[0m\n\u001b[0;32m   1133\u001b[0m       \u001b[1;31m# Creates a `tf.data.Dataset` and handles batch and epoch iteration.\u001b[0m\u001b[1;33m\u001b[0m\u001b[1;33m\u001b[0m\u001b[1;33m\u001b[0m\u001b[0m\n\u001b[1;32m-> 1134\u001b[1;33m       data_handler = data_adapter.get_data_handler(\n\u001b[0m\u001b[0;32m   1135\u001b[0m           \u001b[0mx\u001b[0m\u001b[1;33m=\u001b[0m\u001b[0mx\u001b[0m\u001b[1;33m,\u001b[0m\u001b[1;33m\u001b[0m\u001b[1;33m\u001b[0m\u001b[0m\n\u001b[0;32m   1136\u001b[0m           \u001b[0my\u001b[0m\u001b[1;33m=\u001b[0m\u001b[0my\u001b[0m\u001b[1;33m,\u001b[0m\u001b[1;33m\u001b[0m\u001b[1;33m\u001b[0m\u001b[0m\n",
      "\u001b[1;32m~\\miniconda3\\lib\\site-packages\\keras\\engine\\data_adapter.py\u001b[0m in \u001b[0;36mget_data_handler\u001b[1;34m(*args, **kwargs)\u001b[0m\n\u001b[0;32m   1381\u001b[0m   \u001b[1;32mif\u001b[0m \u001b[0mgetattr\u001b[0m\u001b[1;33m(\u001b[0m\u001b[0mkwargs\u001b[0m\u001b[1;33m[\u001b[0m\u001b[1;34m\"model\"\u001b[0m\u001b[1;33m]\u001b[0m\u001b[1;33m,\u001b[0m \u001b[1;34m\"_cluster_coordinator\"\u001b[0m\u001b[1;33m,\u001b[0m \u001b[1;32mNone\u001b[0m\u001b[1;33m)\u001b[0m\u001b[1;33m:\u001b[0m\u001b[1;33m\u001b[0m\u001b[1;33m\u001b[0m\u001b[0m\n\u001b[0;32m   1382\u001b[0m     \u001b[1;32mreturn\u001b[0m \u001b[0m_ClusterCoordinatorDataHandler\u001b[0m\u001b[1;33m(\u001b[0m\u001b[1;33m*\u001b[0m\u001b[0margs\u001b[0m\u001b[1;33m,\u001b[0m \u001b[1;33m**\u001b[0m\u001b[0mkwargs\u001b[0m\u001b[1;33m)\u001b[0m\u001b[1;33m\u001b[0m\u001b[1;33m\u001b[0m\u001b[0m\n\u001b[1;32m-> 1383\u001b[1;33m   \u001b[1;32mreturn\u001b[0m \u001b[0mDataHandler\u001b[0m\u001b[1;33m(\u001b[0m\u001b[1;33m*\u001b[0m\u001b[0margs\u001b[0m\u001b[1;33m,\u001b[0m \u001b[1;33m**\u001b[0m\u001b[0mkwargs\u001b[0m\u001b[1;33m)\u001b[0m\u001b[1;33m\u001b[0m\u001b[1;33m\u001b[0m\u001b[0m\n\u001b[0m\u001b[0;32m   1384\u001b[0m \u001b[1;33m\u001b[0m\u001b[0m\n\u001b[0;32m   1385\u001b[0m \u001b[1;33m\u001b[0m\u001b[0m\n",
      "\u001b[1;32m~\\miniconda3\\lib\\site-packages\\keras\\engine\\data_adapter.py\u001b[0m in \u001b[0;36m__init__\u001b[1;34m(self, x, y, sample_weight, batch_size, steps_per_epoch, initial_epoch, epochs, shuffle, class_weight, max_queue_size, workers, use_multiprocessing, model, steps_per_execution, distribute)\u001b[0m\n\u001b[0;32m   1136\u001b[0m \u001b[1;33m\u001b[0m\u001b[0m\n\u001b[0;32m   1137\u001b[0m     \u001b[0madapter_cls\u001b[0m \u001b[1;33m=\u001b[0m \u001b[0mselect_data_adapter\u001b[0m\u001b[1;33m(\u001b[0m\u001b[0mx\u001b[0m\u001b[1;33m,\u001b[0m \u001b[0my\u001b[0m\u001b[1;33m)\u001b[0m\u001b[1;33m\u001b[0m\u001b[1;33m\u001b[0m\u001b[0m\n\u001b[1;32m-> 1138\u001b[1;33m     self._adapter = adapter_cls(\n\u001b[0m\u001b[0;32m   1139\u001b[0m         \u001b[0mx\u001b[0m\u001b[1;33m,\u001b[0m\u001b[1;33m\u001b[0m\u001b[1;33m\u001b[0m\u001b[0m\n\u001b[0;32m   1140\u001b[0m         \u001b[0my\u001b[0m\u001b[1;33m,\u001b[0m\u001b[1;33m\u001b[0m\u001b[1;33m\u001b[0m\u001b[0m\n",
      "\u001b[1;32m~\\miniconda3\\lib\\site-packages\\keras\\engine\\data_adapter.py\u001b[0m in \u001b[0;36m__init__\u001b[1;34m(self, x, y, sample_weights, sample_weight_modes, batch_size, epochs, steps, shuffle, **kwargs)\u001b[0m\n\u001b[0;32m    320\u001b[0m     \u001b[0mindices_dataset\u001b[0m \u001b[1;33m=\u001b[0m \u001b[0mindices_dataset\u001b[0m\u001b[1;33m.\u001b[0m\u001b[0mflat_map\u001b[0m\u001b[1;33m(\u001b[0m\u001b[0mslice_batch_indices\u001b[0m\u001b[1;33m)\u001b[0m\u001b[1;33m\u001b[0m\u001b[1;33m\u001b[0m\u001b[0m\n\u001b[0;32m    321\u001b[0m \u001b[1;33m\u001b[0m\u001b[0m\n\u001b[1;32m--> 322\u001b[1;33m     \u001b[0mdataset\u001b[0m \u001b[1;33m=\u001b[0m \u001b[0mself\u001b[0m\u001b[1;33m.\u001b[0m\u001b[0mslice_inputs\u001b[0m\u001b[1;33m(\u001b[0m\u001b[0mindices_dataset\u001b[0m\u001b[1;33m,\u001b[0m \u001b[0minputs\u001b[0m\u001b[1;33m)\u001b[0m\u001b[1;33m\u001b[0m\u001b[1;33m\u001b[0m\u001b[0m\n\u001b[0m\u001b[0;32m    323\u001b[0m \u001b[1;33m\u001b[0m\u001b[0m\n\u001b[0;32m    324\u001b[0m     \u001b[1;32mif\u001b[0m \u001b[0mshuffle\u001b[0m \u001b[1;33m==\u001b[0m \u001b[1;34m\"batch\"\u001b[0m\u001b[1;33m:\u001b[0m\u001b[1;33m\u001b[0m\u001b[1;33m\u001b[0m\u001b[0m\n",
      "\u001b[1;32m~\\miniconda3\\lib\\site-packages\\keras\\engine\\data_adapter.py\u001b[0m in \u001b[0;36mslice_inputs\u001b[1;34m(self, indices_dataset, inputs)\u001b[0m\n\u001b[0;32m    346\u001b[0m     dataset = tf.data.Dataset.zip((\n\u001b[0;32m    347\u001b[0m         \u001b[0mindices_dataset\u001b[0m\u001b[1;33m,\u001b[0m\u001b[1;33m\u001b[0m\u001b[1;33m\u001b[0m\u001b[0m\n\u001b[1;32m--> 348\u001b[1;33m         \u001b[0mtf\u001b[0m\u001b[1;33m.\u001b[0m\u001b[0mdata\u001b[0m\u001b[1;33m.\u001b[0m\u001b[0mDataset\u001b[0m\u001b[1;33m.\u001b[0m\u001b[0mfrom_tensors\u001b[0m\u001b[1;33m(\u001b[0m\u001b[0minputs\u001b[0m\u001b[1;33m)\u001b[0m\u001b[1;33m.\u001b[0m\u001b[0mrepeat\u001b[0m\u001b[1;33m(\u001b[0m\u001b[1;33m)\u001b[0m\u001b[1;33m\u001b[0m\u001b[1;33m\u001b[0m\u001b[0m\n\u001b[0m\u001b[0;32m    349\u001b[0m     ))\n\u001b[0;32m    350\u001b[0m \u001b[1;33m\u001b[0m\u001b[0m\n",
      "\u001b[1;32m~\\miniconda3\\lib\\site-packages\\tensorflow\\python\\data\\ops\\dataset_ops.py\u001b[0m in \u001b[0;36mfrom_tensors\u001b[1;34m(tensors)\u001b[0m\n\u001b[0;32m    604\u001b[0m       \u001b[0mDataset\u001b[0m\u001b[1;33m:\u001b[0m \u001b[0mA\u001b[0m\u001b[0;31m \u001b[0m\u001b[0;31m`\u001b[0m\u001b[0mDataset\u001b[0m\u001b[0;31m`\u001b[0m\u001b[1;33m.\u001b[0m\u001b[1;33m\u001b[0m\u001b[1;33m\u001b[0m\u001b[0m\n\u001b[0;32m    605\u001b[0m     \"\"\"\n\u001b[1;32m--> 606\u001b[1;33m     \u001b[1;32mreturn\u001b[0m \u001b[0mTensorDataset\u001b[0m\u001b[1;33m(\u001b[0m\u001b[0mtensors\u001b[0m\u001b[1;33m)\u001b[0m\u001b[1;33m\u001b[0m\u001b[1;33m\u001b[0m\u001b[0m\n\u001b[0m\u001b[0;32m    607\u001b[0m \u001b[1;33m\u001b[0m\u001b[0m\n\u001b[0;32m    608\u001b[0m   \u001b[1;33m@\u001b[0m\u001b[0mstaticmethod\u001b[0m\u001b[1;33m\u001b[0m\u001b[1;33m\u001b[0m\u001b[0m\n",
      "\u001b[1;32m~\\miniconda3\\lib\\site-packages\\tensorflow\\python\\data\\ops\\dataset_ops.py\u001b[0m in \u001b[0;36m__init__\u001b[1;34m(self, element)\u001b[0m\n\u001b[0;32m   3823\u001b[0m   \u001b[1;32mdef\u001b[0m \u001b[0m__init__\u001b[0m\u001b[1;33m(\u001b[0m\u001b[0mself\u001b[0m\u001b[1;33m,\u001b[0m \u001b[0melement\u001b[0m\u001b[1;33m)\u001b[0m\u001b[1;33m:\u001b[0m\u001b[1;33m\u001b[0m\u001b[1;33m\u001b[0m\u001b[0m\n\u001b[0;32m   3824\u001b[0m     \u001b[1;34m\"\"\"See `Dataset.from_tensors()` for details.\"\"\"\u001b[0m\u001b[1;33m\u001b[0m\u001b[1;33m\u001b[0m\u001b[0m\n\u001b[1;32m-> 3825\u001b[1;33m     \u001b[0melement\u001b[0m \u001b[1;33m=\u001b[0m \u001b[0mstructure\u001b[0m\u001b[1;33m.\u001b[0m\u001b[0mnormalize_element\u001b[0m\u001b[1;33m(\u001b[0m\u001b[0melement\u001b[0m\u001b[1;33m)\u001b[0m\u001b[1;33m\u001b[0m\u001b[1;33m\u001b[0m\u001b[0m\n\u001b[0m\u001b[0;32m   3826\u001b[0m     \u001b[0mself\u001b[0m\u001b[1;33m.\u001b[0m\u001b[0m_structure\u001b[0m \u001b[1;33m=\u001b[0m \u001b[0mstructure\u001b[0m\u001b[1;33m.\u001b[0m\u001b[0mtype_spec_from_value\u001b[0m\u001b[1;33m(\u001b[0m\u001b[0melement\u001b[0m\u001b[1;33m)\u001b[0m\u001b[1;33m\u001b[0m\u001b[1;33m\u001b[0m\u001b[0m\n\u001b[0;32m   3827\u001b[0m     \u001b[0mself\u001b[0m\u001b[1;33m.\u001b[0m\u001b[0m_tensors\u001b[0m \u001b[1;33m=\u001b[0m \u001b[0mstructure\u001b[0m\u001b[1;33m.\u001b[0m\u001b[0mto_tensor_list\u001b[0m\u001b[1;33m(\u001b[0m\u001b[0mself\u001b[0m\u001b[1;33m.\u001b[0m\u001b[0m_structure\u001b[0m\u001b[1;33m,\u001b[0m \u001b[0melement\u001b[0m\u001b[1;33m)\u001b[0m\u001b[1;33m\u001b[0m\u001b[1;33m\u001b[0m\u001b[0m\n",
      "\u001b[1;32m~\\miniconda3\\lib\\site-packages\\tensorflow\\python\\data\\util\\structure.py\u001b[0m in \u001b[0;36mnormalize_element\u001b[1;34m(element, element_signature)\u001b[0m\n\u001b[0;32m    109\u001b[0m         \u001b[1;31m# the value. As a fallback try converting the value to a tensor.\u001b[0m\u001b[1;33m\u001b[0m\u001b[1;33m\u001b[0m\u001b[1;33m\u001b[0m\u001b[0m\n\u001b[0;32m    110\u001b[0m         normalized_components.append(\n\u001b[1;32m--> 111\u001b[1;33m             ops.convert_to_tensor(t, name=\"component_%d\" % i))\n\u001b[0m\u001b[0;32m    112\u001b[0m       \u001b[1;32melse\u001b[0m\u001b[1;33m:\u001b[0m\u001b[1;33m\u001b[0m\u001b[1;33m\u001b[0m\u001b[0m\n\u001b[0;32m    113\u001b[0m         \u001b[1;32mif\u001b[0m \u001b[0misinstance\u001b[0m\u001b[1;33m(\u001b[0m\u001b[0mspec\u001b[0m\u001b[1;33m,\u001b[0m \u001b[0msparse_tensor\u001b[0m\u001b[1;33m.\u001b[0m\u001b[0mSparseTensorSpec\u001b[0m\u001b[1;33m)\u001b[0m\u001b[1;33m:\u001b[0m\u001b[1;33m\u001b[0m\u001b[1;33m\u001b[0m\u001b[0m\n",
      "\u001b[1;32m~\\miniconda3\\lib\\site-packages\\tensorflow\\python\\profiler\\trace.py\u001b[0m in \u001b[0;36mwrapped\u001b[1;34m(*args, **kwargs)\u001b[0m\n\u001b[0;32m    161\u001b[0m         \u001b[1;32mwith\u001b[0m \u001b[0mTrace\u001b[0m\u001b[1;33m(\u001b[0m\u001b[0mtrace_name\u001b[0m\u001b[1;33m,\u001b[0m \u001b[1;33m**\u001b[0m\u001b[0mtrace_kwargs\u001b[0m\u001b[1;33m)\u001b[0m\u001b[1;33m:\u001b[0m\u001b[1;33m\u001b[0m\u001b[1;33m\u001b[0m\u001b[0m\n\u001b[0;32m    162\u001b[0m           \u001b[1;32mreturn\u001b[0m \u001b[0mfunc\u001b[0m\u001b[1;33m(\u001b[0m\u001b[1;33m*\u001b[0m\u001b[0margs\u001b[0m\u001b[1;33m,\u001b[0m \u001b[1;33m**\u001b[0m\u001b[0mkwargs\u001b[0m\u001b[1;33m)\u001b[0m\u001b[1;33m\u001b[0m\u001b[1;33m\u001b[0m\u001b[0m\n\u001b[1;32m--> 163\u001b[1;33m       \u001b[1;32mreturn\u001b[0m \u001b[0mfunc\u001b[0m\u001b[1;33m(\u001b[0m\u001b[1;33m*\u001b[0m\u001b[0margs\u001b[0m\u001b[1;33m,\u001b[0m \u001b[1;33m**\u001b[0m\u001b[0mkwargs\u001b[0m\u001b[1;33m)\u001b[0m\u001b[1;33m\u001b[0m\u001b[1;33m\u001b[0m\u001b[0m\n\u001b[0m\u001b[0;32m    164\u001b[0m \u001b[1;33m\u001b[0m\u001b[0m\n\u001b[0;32m    165\u001b[0m     \u001b[1;32mreturn\u001b[0m \u001b[0mwrapped\u001b[0m\u001b[1;33m\u001b[0m\u001b[1;33m\u001b[0m\u001b[0m\n",
      "\u001b[1;32m~\\miniconda3\\lib\\site-packages\\tensorflow\\python\\framework\\ops.py\u001b[0m in \u001b[0;36mconvert_to_tensor\u001b[1;34m(value, dtype, name, as_ref, preferred_dtype, dtype_hint, ctx, accepted_result_types)\u001b[0m\n\u001b[0;32m   1564\u001b[0m \u001b[1;33m\u001b[0m\u001b[0m\n\u001b[0;32m   1565\u001b[0m     \u001b[1;32mif\u001b[0m \u001b[0mret\u001b[0m \u001b[1;32mis\u001b[0m \u001b[1;32mNone\u001b[0m\u001b[1;33m:\u001b[0m\u001b[1;33m\u001b[0m\u001b[1;33m\u001b[0m\u001b[0m\n\u001b[1;32m-> 1566\u001b[1;33m       \u001b[0mret\u001b[0m \u001b[1;33m=\u001b[0m \u001b[0mconversion_func\u001b[0m\u001b[1;33m(\u001b[0m\u001b[0mvalue\u001b[0m\u001b[1;33m,\u001b[0m \u001b[0mdtype\u001b[0m\u001b[1;33m=\u001b[0m\u001b[0mdtype\u001b[0m\u001b[1;33m,\u001b[0m \u001b[0mname\u001b[0m\u001b[1;33m=\u001b[0m\u001b[0mname\u001b[0m\u001b[1;33m,\u001b[0m \u001b[0mas_ref\u001b[0m\u001b[1;33m=\u001b[0m\u001b[0mas_ref\u001b[0m\u001b[1;33m)\u001b[0m\u001b[1;33m\u001b[0m\u001b[1;33m\u001b[0m\u001b[0m\n\u001b[0m\u001b[0;32m   1567\u001b[0m \u001b[1;33m\u001b[0m\u001b[0m\n\u001b[0;32m   1568\u001b[0m     \u001b[1;32mif\u001b[0m \u001b[0mret\u001b[0m \u001b[1;32mis\u001b[0m \u001b[0mNotImplemented\u001b[0m\u001b[1;33m:\u001b[0m\u001b[1;33m\u001b[0m\u001b[1;33m\u001b[0m\u001b[0m\n",
      "\u001b[1;32m~\\miniconda3\\lib\\site-packages\\tensorflow\\python\\framework\\constant_op.py\u001b[0m in \u001b[0;36m_constant_tensor_conversion_function\u001b[1;34m(v, dtype, name, as_ref)\u001b[0m\n\u001b[0;32m    344\u001b[0m                                          as_ref=False):\n\u001b[0;32m    345\u001b[0m   \u001b[0m_\u001b[0m \u001b[1;33m=\u001b[0m \u001b[0mas_ref\u001b[0m\u001b[1;33m\u001b[0m\u001b[1;33m\u001b[0m\u001b[0m\n\u001b[1;32m--> 346\u001b[1;33m   \u001b[1;32mreturn\u001b[0m \u001b[0mconstant\u001b[0m\u001b[1;33m(\u001b[0m\u001b[0mv\u001b[0m\u001b[1;33m,\u001b[0m \u001b[0mdtype\u001b[0m\u001b[1;33m=\u001b[0m\u001b[0mdtype\u001b[0m\u001b[1;33m,\u001b[0m \u001b[0mname\u001b[0m\u001b[1;33m=\u001b[0m\u001b[0mname\u001b[0m\u001b[1;33m)\u001b[0m\u001b[1;33m\u001b[0m\u001b[1;33m\u001b[0m\u001b[0m\n\u001b[0m\u001b[0;32m    347\u001b[0m \u001b[1;33m\u001b[0m\u001b[0m\n\u001b[0;32m    348\u001b[0m \u001b[1;33m\u001b[0m\u001b[0m\n",
      "\u001b[1;32m~\\miniconda3\\lib\\site-packages\\tensorflow\\python\\framework\\constant_op.py\u001b[0m in \u001b[0;36mconstant\u001b[1;34m(value, dtype, shape, name)\u001b[0m\n\u001b[0;32m    269\u001b[0m     \u001b[0mValueError\u001b[0m\u001b[1;33m:\u001b[0m \u001b[1;32mif\u001b[0m \u001b[0mcalled\u001b[0m \u001b[0mon\u001b[0m \u001b[0ma\u001b[0m \u001b[0msymbolic\u001b[0m \u001b[0mtensor\u001b[0m\u001b[1;33m.\u001b[0m\u001b[1;33m\u001b[0m\u001b[1;33m\u001b[0m\u001b[0m\n\u001b[0;32m    270\u001b[0m   \"\"\"\n\u001b[1;32m--> 271\u001b[1;33m   return _constant_impl(value, dtype, shape, name, verify_shape=False,\n\u001b[0m\u001b[0;32m    272\u001b[0m                         allow_broadcast=True)\n\u001b[0;32m    273\u001b[0m \u001b[1;33m\u001b[0m\u001b[0m\n",
      "\u001b[1;32m~\\miniconda3\\lib\\site-packages\\tensorflow\\python\\framework\\constant_op.py\u001b[0m in \u001b[0;36m_constant_impl\u001b[1;34m(value, dtype, shape, name, verify_shape, allow_broadcast)\u001b[0m\n\u001b[0;32m    281\u001b[0m       \u001b[1;32mwith\u001b[0m \u001b[0mtrace\u001b[0m\u001b[1;33m.\u001b[0m\u001b[0mTrace\u001b[0m\u001b[1;33m(\u001b[0m\u001b[1;34m\"tf.constant\"\u001b[0m\u001b[1;33m)\u001b[0m\u001b[1;33m:\u001b[0m\u001b[1;33m\u001b[0m\u001b[1;33m\u001b[0m\u001b[0m\n\u001b[0;32m    282\u001b[0m         \u001b[1;32mreturn\u001b[0m \u001b[0m_constant_eager_impl\u001b[0m\u001b[1;33m(\u001b[0m\u001b[0mctx\u001b[0m\u001b[1;33m,\u001b[0m \u001b[0mvalue\u001b[0m\u001b[1;33m,\u001b[0m \u001b[0mdtype\u001b[0m\u001b[1;33m,\u001b[0m \u001b[0mshape\u001b[0m\u001b[1;33m,\u001b[0m \u001b[0mverify_shape\u001b[0m\u001b[1;33m)\u001b[0m\u001b[1;33m\u001b[0m\u001b[1;33m\u001b[0m\u001b[0m\n\u001b[1;32m--> 283\u001b[1;33m     \u001b[1;32mreturn\u001b[0m \u001b[0m_constant_eager_impl\u001b[0m\u001b[1;33m(\u001b[0m\u001b[0mctx\u001b[0m\u001b[1;33m,\u001b[0m \u001b[0mvalue\u001b[0m\u001b[1;33m,\u001b[0m \u001b[0mdtype\u001b[0m\u001b[1;33m,\u001b[0m \u001b[0mshape\u001b[0m\u001b[1;33m,\u001b[0m \u001b[0mverify_shape\u001b[0m\u001b[1;33m)\u001b[0m\u001b[1;33m\u001b[0m\u001b[1;33m\u001b[0m\u001b[0m\n\u001b[0m\u001b[0;32m    284\u001b[0m \u001b[1;33m\u001b[0m\u001b[0m\n\u001b[0;32m    285\u001b[0m   \u001b[0mg\u001b[0m \u001b[1;33m=\u001b[0m \u001b[0mops\u001b[0m\u001b[1;33m.\u001b[0m\u001b[0mget_default_graph\u001b[0m\u001b[1;33m(\u001b[0m\u001b[1;33m)\u001b[0m\u001b[1;33m\u001b[0m\u001b[1;33m\u001b[0m\u001b[0m\n",
      "\u001b[1;32m~\\miniconda3\\lib\\site-packages\\tensorflow\\python\\framework\\constant_op.py\u001b[0m in \u001b[0;36m_constant_eager_impl\u001b[1;34m(ctx, value, dtype, shape, verify_shape)\u001b[0m\n\u001b[0;32m    306\u001b[0m \u001b[1;32mdef\u001b[0m \u001b[0m_constant_eager_impl\u001b[0m\u001b[1;33m(\u001b[0m\u001b[0mctx\u001b[0m\u001b[1;33m,\u001b[0m \u001b[0mvalue\u001b[0m\u001b[1;33m,\u001b[0m \u001b[0mdtype\u001b[0m\u001b[1;33m,\u001b[0m \u001b[0mshape\u001b[0m\u001b[1;33m,\u001b[0m \u001b[0mverify_shape\u001b[0m\u001b[1;33m)\u001b[0m\u001b[1;33m:\u001b[0m\u001b[1;33m\u001b[0m\u001b[1;33m\u001b[0m\u001b[0m\n\u001b[0;32m    307\u001b[0m   \u001b[1;34m\"\"\"Creates a constant on the current device.\"\"\"\u001b[0m\u001b[1;33m\u001b[0m\u001b[1;33m\u001b[0m\u001b[0m\n\u001b[1;32m--> 308\u001b[1;33m   \u001b[0mt\u001b[0m \u001b[1;33m=\u001b[0m \u001b[0mconvert_to_eager_tensor\u001b[0m\u001b[1;33m(\u001b[0m\u001b[0mvalue\u001b[0m\u001b[1;33m,\u001b[0m \u001b[0mctx\u001b[0m\u001b[1;33m,\u001b[0m \u001b[0mdtype\u001b[0m\u001b[1;33m)\u001b[0m\u001b[1;33m\u001b[0m\u001b[1;33m\u001b[0m\u001b[0m\n\u001b[0m\u001b[0;32m    309\u001b[0m   \u001b[1;32mif\u001b[0m \u001b[0mshape\u001b[0m \u001b[1;32mis\u001b[0m \u001b[1;32mNone\u001b[0m\u001b[1;33m:\u001b[0m\u001b[1;33m\u001b[0m\u001b[1;33m\u001b[0m\u001b[0m\n\u001b[0;32m    310\u001b[0m     \u001b[1;32mreturn\u001b[0m \u001b[0mt\u001b[0m\u001b[1;33m\u001b[0m\u001b[1;33m\u001b[0m\u001b[0m\n",
      "\u001b[1;32m~\\miniconda3\\lib\\site-packages\\tensorflow\\python\\framework\\constant_op.py\u001b[0m in \u001b[0;36mconvert_to_eager_tensor\u001b[1;34m(value, ctx, dtype)\u001b[0m\n\u001b[0;32m    104\u001b[0m       \u001b[0mdtype\u001b[0m \u001b[1;33m=\u001b[0m \u001b[0mdtypes\u001b[0m\u001b[1;33m.\u001b[0m\u001b[0mas_dtype\u001b[0m\u001b[1;33m(\u001b[0m\u001b[0mdtype\u001b[0m\u001b[1;33m)\u001b[0m\u001b[1;33m.\u001b[0m\u001b[0mas_datatype_enum\u001b[0m\u001b[1;33m\u001b[0m\u001b[1;33m\u001b[0m\u001b[0m\n\u001b[0;32m    105\u001b[0m   \u001b[0mctx\u001b[0m\u001b[1;33m.\u001b[0m\u001b[0mensure_initialized\u001b[0m\u001b[1;33m(\u001b[0m\u001b[1;33m)\u001b[0m\u001b[1;33m\u001b[0m\u001b[1;33m\u001b[0m\u001b[0m\n\u001b[1;32m--> 106\u001b[1;33m   \u001b[1;32mreturn\u001b[0m \u001b[0mops\u001b[0m\u001b[1;33m.\u001b[0m\u001b[0mEagerTensor\u001b[0m\u001b[1;33m(\u001b[0m\u001b[0mvalue\u001b[0m\u001b[1;33m,\u001b[0m \u001b[0mctx\u001b[0m\u001b[1;33m.\u001b[0m\u001b[0mdevice_name\u001b[0m\u001b[1;33m,\u001b[0m \u001b[0mdtype\u001b[0m\u001b[1;33m)\u001b[0m\u001b[1;33m\u001b[0m\u001b[1;33m\u001b[0m\u001b[0m\n\u001b[0m\u001b[0;32m    107\u001b[0m \u001b[1;33m\u001b[0m\u001b[0m\n\u001b[0;32m    108\u001b[0m \u001b[1;33m\u001b[0m\u001b[0m\n",
      "\u001b[1;31mInternalError\u001b[0m: Failed copying input tensor from /job:localhost/replica:0/task:0/device:CPU:0 to /job:localhost/replica:0/task:0/device:GPU:0 in order to run _EagerConst: Dst tensor is not initialized."
     ]
    },
    {
     "data": {
      "image/png": "[encoded data removed]",
      "text/plain": [
       "<Figure size 432x288 with 1 Axes>"
      ]
     },
     "metadata": {
      "needs_background": "light"
     },
     "output_type": "display_data"
    },
    {
     "data": {
      "image/png": "[encoded data removed]",
      "text/plain": [
       "<Figure size 432x288 with 1 Axes>"
      ]
     },
     "metadata": {
      "needs_background": "light"
     },
     "output_type": "display_data"
    },
    {
     "data": {
      "image/png": "[encoded data removed]",
      "text/plain": [
       "<Figure size 432x288 with 1 Axes>"
      ]
     },
     "metadata": {
      "needs_background": "light"
     },
     "output_type": "display_data"
    }
   ],
   "source": [
    "spl = 5\n",
    "kf = StratifiedKFold(n_splits=spl, shuffle=True)\n",
    "test_pred_total = np.zeros((len(test),1))\n",
    "mse = []\n",
    "\n",
    "y_preds = []\n",
    "yvs = []\n",
    "\n",
    "train_idxs = []\n",
    "valid_idxs = []\n",
    "\n",
    "stopping_rounds = 400\n",
    "sess = tf.compat.v1.Session(config=tf.compat.v1.ConfigProto(log_device_placement=True))\n",
    "model = create_model()\n",
    "init_weights = model.get_weights()\n",
    "for train_idx, valid_idx in tqdm(kf.split(X,y.round(-1))):\n",
    "        train_idxs.append(train_idx)\n",
    "        valid_idxs.append(valid_idx)\n",
    "        Xt = X.iloc[train_idx, :]\n",
    "        yt = y.iloc[train_idx]\n",
    "        Xv = X.iloc[valid_idx, :]\n",
    "        yv = y.iloc[valid_idx]\n",
    "        yvs.append(yv)\n",
    "        early_stopping = callbacks.EarlyStopping(\n",
    "            min_delta=0.001, # minimium amount of change to count as an improvement\n",
    "            patience=20, # how many epochs to wait before stopping\n",
    "            restore_best_weights=True,\n",
    "        )\n",
    "        \n",
    "        history = model.fit(Xt, yt, validation_data=(Xv, yv), callbacks = [early_stopping], \n",
    "                            batch_size=6000, epochs=50)\n",
    "        history_df = pd.DataFrame(history.history)\n",
    "        # Start the plot at epoch 5. You can change this to get a different view.\n",
    "        history_df.loc[5:, ['loss']].plot();\n",
    "        y_pred = model.predict(Xv)\n",
    "        y_preds.append(y_pred)\n",
    "        valid_mse = roc_auc_score(yv, y_pred)\n",
    "        mse.append(valid_mse)\n",
    "        print(\"valid mse\", valid_mse)\n",
    "        test_pred = model.predict(test) / spl\n",
    "        test_pred_total += test_pred\n",
    "        model.set_weights(init_weights)\n",
    "        K.clear_session()\n",
    "test_pred_total = test_pred_total.reshape((len(test),))\n",
    "print(\"all valid mse\", mse, \" min \", min(mse), \" max \", max(mse), \" avg \", sum(mse)/len(mse))"
   ]
  },
  {
   "cell_type": "code",
   "execution_count": null,
   "id": "01497a12-69bb-4b81-9c75-371b68eec214",
   "metadata": {},
   "outputs": [],
   "source": [
    "Xv"
   ]
  },
  {
   "cell_type": "code",
   "execution_count": 34,
   "id": "c2688c14-09d2-4d1a-97bb-db7ece55836f",
   "metadata": {},
   "outputs": [
    {
     "data": {
      "text/plain": [
       "id\n",
       "1         0\n",
       "13        1\n",
       "32        0\n",
       "40        1\n",
       "42        1\n",
       "         ..\n",
       "957900    1\n",
       "957902    1\n",
       "957906    1\n",
       "957913    1\n",
       "957916    0\n",
       "Name: claim, Length: 95792, dtype: int64"
      ]
     },
     "execution_count": 34,
     "metadata": {},
     "output_type": "execute_result"
    }
   ],
   "source": [
    "yv"
   ]
  },
  {
   "cell_type": "code",
   "execution_count": null,
   "id": "42e81b3d-f455-4163-a77b-315dca5c2995",
   "metadata": {},
   "outputs": [],
   "source": []
  }
 ],
 "metadata": {
  "kernelspec": {
   "display_name": "Python 3 (ipykernel)",
   "language": "python",
   "name": "python3"
  },
  "language_info": {
   "codemirror_mode": {
    "name": "ipython",
    "version": 3
   },
   "file_extension": ".py",
   "mimetype": "text/x-python",
   "name": "python",
   "nbconvert_exporter": "python",
   "pygments_lexer": "ipython3",
   "version": "3.9.5"
  }
 },
 "nbformat": 4,
 "nbformat_minor": 5
}
