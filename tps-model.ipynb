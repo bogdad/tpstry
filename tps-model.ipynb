{
 "cells": [
  {
   "cell_type": "code",
   "execution_count": 1,
   "id": "4c605334-5264-47ed-a204-38523ace182a",
   "metadata": {},
   "outputs": [],
   "source": [
    "# Familiar imports\n",
    "import numpy as np\n",
    "import pandas as pd\n",
    "\n",
    "# For ordinal encoding categorical variables, splitting data\n",
    "from sklearn.preprocessing import OrdinalEncoder\n",
    "from sklearn.model_selection import train_test_split, KFold, StratifiedKFold\n",
    "\n",
    "# For training random forest model\n",
    "from sklearn.ensemble import RandomForestRegressor\n",
    "from sklearn.metrics import mean_squared_error\n",
    "from sklearn.feature_selection import mutual_info_regression\n",
    "from sklearn.cluster import KMeans\n",
    "from sklearn.compose import ColumnTransformer\n",
    "from sklearn.pipeline import Pipeline\n",
    "from sklearn.impute import SimpleImputer\n",
    "from sklearn.preprocessing import OneHotEncoder, LabelEncoder\n",
    "from sklearn.ensemble import RandomForestRegressor\n",
    "from sklearn.metrics import mean_absolute_error, roc_auc_score\n",
    "from sklearn.experimental import enable_iterative_imputer\n",
    "from sklearn.impute import IterativeImputer\n",
    "from xgboost import XGBRegressor\n",
    "from lightgbm import LGBMRegressor\n",
    "import seaborn as sns\n",
    "from tqdm import tqdm\n",
    "from sklearn.model_selection import cross_val_score, GridSearchCV\n",
    "from sklearn.decomposition import PCA\n",
    "import matplotlib.pyplot as plt\n",
    "from catboost import CatBoostRegressor\n",
    "from sklearn.linear_model import Ridge\n"
   ]
  },
  {
   "cell_type": "code",
   "execution_count": 2,
   "id": "b01470e4-069e-40d1-84bd-15aba1838dbd",
   "metadata": {},
   "outputs": [],
   "source": [
    "# Load the training data\n",
    "rawtrain = pd.read_csv(\"../input/tabular-playground-series-oct-2021/train.csv\", index_col=0)\n",
    "rawtest = pd.read_csv(\"../input/tabular-playground-series-oct-2021/test.csv\", index_col=0)"
   ]
  },
  {
   "cell_type": "code",
   "execution_count": 3,
   "id": "fa3a0697-bf43-4dd4-917b-526f16834e97",
   "metadata": {},
   "outputs": [
    {
     "name": "stdout",
     "output_type": "stream",
     "text": [
      "<class 'pandas.core.frame.DataFrame'>\n",
      "Int64Index: 1000000 entries, 0 to 999999\n",
      "Columns: 286 entries, f0 to target\n",
      "dtypes: float64(240), int64(46)\n",
      "memory usage: 2.1 GB\n"
     ]
    }
   ],
   "source": [
    "rawtrain.info()"
   ]
  },
  {
   "cell_type": "code",
   "execution_count": 4,
   "id": "9650ee7a-06ad-4118-a7c5-1e92a2191561",
   "metadata": {},
   "outputs": [
    {
     "name": "stdout",
     "output_type": "stream",
     "text": [
      "<class 'pandas.core.frame.DataFrame'>\n",
      "Int64Index: 500000 entries, 1000000 to 1499999\n",
      "Columns: 285 entries, f0 to f284\n",
      "dtypes: float64(240), int64(45)\n",
      "memory usage: 1.1 GB\n"
     ]
    }
   ],
   "source": [
    "rawtest.info()"
   ]
  },
  {
   "cell_type": "code",
   "execution_count": 5,
   "id": "ef085024-8a4e-4384-92c3-94012b8dbfed",
   "metadata": {},
   "outputs": [],
   "source": [
    "train = rawtrain.copy()\n",
    "y = train['target']\n",
    "features = train.drop(['target'], axis=1)"
   ]
  },
  {
   "cell_type": "code",
   "execution_count": 6,
   "id": "4b688a92-cb3f-4dbb-b020-a4521b5b9283",
   "metadata": {},
   "outputs": [
    {
     "data": {
      "text/plain": [
       "(1000000, 285)"
      ]
     },
     "execution_count": 6,
     "metadata": {},
     "output_type": "execute_result"
    }
   ],
   "source": [
    "X = features.copy()\n",
    "X.shape"
   ]
  },
  {
   "cell_type": "code",
   "execution_count": 7,
   "id": "ae6e6a75-1ccc-4390-8da2-0982867ba518",
   "metadata": {},
   "outputs": [
    {
     "data": {
      "text/plain": [
       "(500000, 285)"
      ]
     },
     "execution_count": 7,
     "metadata": {},
     "output_type": "execute_result"
    }
   ],
   "source": [
    "test = rawtest.copy()\n",
    "test.shape"
   ]
  },
  {
   "cell_type": "code",
   "execution_count": 8,
   "id": "53d54f8c-7665-469a-9541-524e959c83e7",
   "metadata": {},
   "outputs": [],
   "source": [
    "lgbm_parameters = {\n",
    "    \"device\":'gpu', \"metric\":\"auc\",\n",
    "  'learning_rate': 0.08697465911179744, 'max_depth': 2, 'min_data_in_leaf': 592, 'n_estimators': 4565, 'num_leaves': 85, 'reg_alpha': 4.2395421854514055, 'reg_lambda': 3.4669998025411233\n",
    "}\n",
    "xgboost_parameters = { 'n_jobs':4, \n",
    "                       'tree_method': 'gpu_hist', \n",
    "                        'gpu_id': 0,\n",
    "'learning_rate': 0.03237498960526522, 'n_estimators': 10837, 'gamma': 0.7820801389298118, 'max_depth': 2, 'min_child_weight': 9.149611138786955, 'subsample': 0.7488960655884316, 'lambda': 4.190627000051498, 'alpha': 6.241101997471009\n",
    "                     }\n",
    "catboost_parameters={\n",
    "    'task_type':\"GPU\", \"loss_function\":\"RMSE\",\n",
    "    'bagging_temperature': 9.961385165409107, 'depth': 15, 'iterations': 1685, 'l2_leaf_reg': 1.4634054932859328, 'learning_rate': 0.03030510670682149}"
   ]
  },
  {
   "cell_type": "code",
   "execution_count": 9,
   "id": "4a9dbf1a-c08c-482d-a363-258ac1eb60e0",
   "metadata": {},
   "outputs": [],
   "source": [
    "def fit_catboost(model, Xt, yt, Xv, yv):\n",
    "    model.fit(Xt, yt, early_stopping_rounds = 400, eval_set=[(Xv, yv)], verbose = 0)\n",
    "def fit_lgbm(model, Xt, yt, Xv, yv):\n",
    "    model.fit(Xt, yt, early_stopping_rounds = 399, eval_set=[(Xv, yv)], verbose = -1)  \n",
    "def fit_xgboost(model, Xt, yt, Xv, yv):\n",
    "    model.fit(Xt, yt, early_stopping_rounds = 400, eval_set=[(Xv, yv)], verbose=False)\n",
    "model_types = [\n",
    "    {\"name\": \"lgbm\", \"create\": lambda: LGBMRegressor(**lgbm_parameters), \"fit\": fit_lgbm},\n",
    "    #{'name': \"lgbm_0\", 'create': lambda: LGBMRegressor(**lgbm_parameters_0), \"fit\": fit_lgbm},\n",
    "    #{'name': \"lgbm_1\", \"create\": lambda: LGBMRegressor(**lgbm_parameters_1), 'fit': fit_lgbm},\n",
    "    #{\"name\": \"xgboost_2\", \"create\": lambda: XGBRegressor(**xgboost_parameters_2), \"fit\": fit_xgboost},\n",
    "    #{\"name\": \"xgboost_1\", \"create\": lambda: XGBRegressor(**xgboost_parameters_1), \"fit\": fit_xgboost},\n",
    "    {'name': 'xgboost', 'create': lambda: XGBRegressor(**xgboost_parameters, eval_metric=\"auc\"), 'fit': fit_xgboost},\n",
    "    #{\"name\": \"catboost\", \"create\": lambda: CatBoostRegressor(**catboost_parameters), \"fit\": fit_catboost},\n",
    "    #{'name': 'catboost_0', \"create\": lambda: CatBoostRegressor(**catboost_parameters_0), \"fit\": fit_catboost},\n",
    "]"
   ]
  },
  {
   "cell_type": "code",
   "execution_count": 10,
   "id": "9ba478d6-50a5-4c8d-b482-9970374890b9",
   "metadata": {},
   "outputs": [
    {
     "data": {
      "text/plain": [
       "pandas.core.frame.DataFrame"
      ]
     },
     "execution_count": 10,
     "metadata": {},
     "output_type": "execute_result"
    }
   ],
   "source": [
    "type(X)"
   ]
  },
  {
   "cell_type": "code",
   "execution_count": 11,
   "id": "e6fb155e-3125-4392-aa57-a3a0258fb1ec",
   "metadata": {},
   "outputs": [
    {
     "name": "stdout",
     "output_type": "stream",
     "text": [
      "starting lgbm\n"
     ]
    },
    {
     "name": "stderr",
     "output_type": "stream",
     "text": [
      "0it [00:00, ?it/s]"
     ]
    },
    {
     "name": "stdout",
     "output_type": "stream",
     "text": [
      "[LightGBM] [Warning] min_data_in_leaf is set=592, min_child_samples=20 will be ignored. Current value: min_data_in_leaf=592\n",
      "Training until validation scores don't improve for 399 rounds\n",
      "Early stopping, best iteration is:\n",
      "[3635]\tvalid_0's auc: 0.857082\n"
     ]
    },
    {
     "name": "stderr",
     "output_type": "stream",
     "text": [
      "1it [00:49, 49.44s/it]"
     ]
    },
    {
     "name": "stdout",
     "output_type": "stream",
     "text": [
      "valid mse 0.8570823353287693\n",
      "[LightGBM] [Warning] min_data_in_leaf is set=592, min_child_samples=20 will be ignored. Current value: min_data_in_leaf=592\n",
      "Training until validation scores don't improve for 399 rounds\n",
      "Early stopping, best iteration is:\n",
      "[3225]\tvalid_0's auc: 0.856275\n"
     ]
    },
    {
     "name": "stderr",
     "output_type": "stream",
     "text": [
      "2it [01:35, 47.46s/it]"
     ]
    },
    {
     "name": "stdout",
     "output_type": "stream",
     "text": [
      "valid mse 0.8562754263695488\n",
      "[LightGBM] [Warning] min_data_in_leaf is set=592, min_child_samples=20 will be ignored. Current value: min_data_in_leaf=592\n",
      "Training until validation scores don't improve for 399 rounds\n",
      "Early stopping, best iteration is:\n",
      "[3386]\tvalid_0's auc: 0.855308\n"
     ]
    },
    {
     "name": "stderr",
     "output_type": "stream",
     "text": [
      "3it [02:22, 47.12s/it]"
     ]
    },
    {
     "name": "stdout",
     "output_type": "stream",
     "text": [
      "valid mse 0.8553080488593432\n",
      "[LightGBM] [Warning] min_data_in_leaf is set=592, min_child_samples=20 will be ignored. Current value: min_data_in_leaf=592\n",
      "Training until validation scores don't improve for 399 rounds\n",
      "Early stopping, best iteration is:\n",
      "[3995]\tvalid_0's auc: 0.856875\n"
     ]
    },
    {
     "name": "stderr",
     "output_type": "stream",
     "text": [
      "4it [03:15, 49.61s/it]"
     ]
    },
    {
     "name": "stdout",
     "output_type": "stream",
     "text": [
      "valid mse 0.8568745076332241\n",
      "[LightGBM] [Warning] min_data_in_leaf is set=592, min_child_samples=20 will be ignored. Current value: min_data_in_leaf=592\n",
      "Training until validation scores don't improve for 399 rounds\n",
      "Early stopping, best iteration is:\n",
      "[3790]\tvalid_0's auc: 0.8559\n"
     ]
    },
    {
     "name": "stderr",
     "output_type": "stream",
     "text": [
      "5it [04:07, 49.43s/it]\n"
     ]
    },
    {
     "name": "stdout",
     "output_type": "stream",
     "text": [
      "valid mse 0.8559001751164748\n",
      "lgbm 0 [0.8570823353287693, 0.8562754263695488, 0.8553080488593432, 0.8568745076332241, 0.8559001751164748]  max  0.8570823353287693  min  0.8553080488593432  avg  0.856288098661472\n",
      "starting xgboost\n"
     ]
    },
    {
     "name": "stderr",
     "output_type": "stream",
     "text": [
      "1it [04:07, 247.32s/it]"
     ]
    },
    {
     "name": "stdout",
     "output_type": "stream",
     "text": [
      "valid mse 0.8555027255425145\n"
     ]
    },
    {
     "name": "stderr",
     "output_type": "stream",
     "text": [
      "2it [08:33, 258.36s/it]"
     ]
    },
    {
     "name": "stdout",
     "output_type": "stream",
     "text": [
      "valid mse 0.857009543010279\n"
     ]
    },
    {
     "name": "stderr",
     "output_type": "stream",
     "text": [
      "3it [12:30, 248.43s/it]"
     ]
    },
    {
     "name": "stdout",
     "output_type": "stream",
     "text": [
      "valid mse 0.8571999741394556\n"
     ]
    },
    {
     "name": "stderr",
     "output_type": "stream",
     "text": [
      "4it [17:21, 265.58s/it]"
     ]
    },
    {
     "name": "stdout",
     "output_type": "stream",
     "text": [
      "valid mse 0.8573775159565047\n"
     ]
    },
    {
     "name": "stderr",
     "output_type": "stream",
     "text": [
      "5it [22:16, 267.34s/it]"
     ]
    },
    {
     "name": "stdout",
     "output_type": "stream",
     "text": [
      "valid mse 0.8555095921989753\n",
      "xgboost 1 [0.8555027255425145, 0.857009543010279, 0.8571999741394556, 0.8573775159565047, 0.8555095921989753]  max  0.8573775159565047  min  0.8555027255425145  avg  0.8565198701695458\n"
     ]
    },
    {
     "name": "stderr",
     "output_type": "stream",
     "text": [
      "\n"
     ]
    }
   ],
   "source": [
    "spl = 5\n",
    "base_models = [list() for x in model_types]\n",
    "out_of_fold_predictions = np.zeros((X.shape[0], len(base_models)))\n",
    "y_pred = []\n",
    "for i, model_type in enumerate(model_types):\n",
    "    kf = StratifiedKFold(n_splits=spl, shuffle=True)\n",
    "    mse = []\n",
    "    print(\"starting \" + model_type[\"name\"])\n",
    "    for train_idx, valid_idx in tqdm(kf.split(X,y.round())):\n",
    "        Xt = X.iloc[train_idx, :]\n",
    "        yt = y.iloc[train_idx]\n",
    "        Xv = X.iloc[valid_idx, :]\n",
    "        yv = y.iloc[valid_idx]\n",
    "        model = model_type['create']()\n",
    "        model_type['fit'](model, Xt, yt, Xv, yv)\n",
    "        y_pred = model.predict(Xv)\n",
    "        out_of_fold_predictions[valid_idx, i] = y_pred\n",
    "        valid_mse = roc_auc_score(y_true = yv, y_score = y_pred)\n",
    "        mse.append(valid_mse)\n",
    "        base_models[i].append(model)\n",
    "        print(\"valid mse\", valid_mse) \n",
    "    print(model_type[\"name\"], i, mse, \" max \", max(mse), \" min \", min(mse),\" avg \", sum(mse)/len(mse))"
   ]
  },
  {
   "cell_type": "code",
   "execution_count": 12,
   "id": "910294a6-cd03-4588-ac90-3339d58b89b7",
   "metadata": {},
   "outputs": [],
   "source": [
    "meta_features = np.column_stack([\n",
    "    np.column_stack([model.predict(test) for model in bms]).mean(axis=1) for bms in base_models])\n"
   ]
  },
  {
   "cell_type": "code",
   "execution_count": 13,
   "id": "7c7ff54b-5387-4324-b37b-81e981ce557b",
   "metadata": {},
   "outputs": [],
   "source": [
    "out_of_fold_predictions_file = \"./outoffoldpredictions.np\"\n",
    "meta_features_file = \"./meta_features.np\""
   ]
  },
  {
   "cell_type": "code",
   "execution_count": 14,
   "id": "cadd6fd4-22fb-4439-b6e3-c00fb5dfe6aa",
   "metadata": {},
   "outputs": [],
   "source": [
    "np.save(out_of_fold_predictions_file, out_of_fold_predictions)\n",
    "np.save(meta_features_file, meta_features)"
   ]
  },
  {
   "cell_type": "code",
   "execution_count": 15,
   "id": "0d5c254c-6526-46d6-9198-eadb00794d54",
   "metadata": {},
   "outputs": [],
   "source": [
    "meta_model = Ridge()"
   ]
  },
  {
   "cell_type": "code",
   "execution_count": 16,
   "id": "d01db3ef-09d7-4d4d-8b78-fac58e853bae",
   "metadata": {},
   "outputs": [
    {
     "name": "stderr",
     "output_type": "stream",
     "text": [
      "3it [00:00,  6.78it/s]"
     ]
    },
    {
     "name": "stdout",
     "output_type": "stream",
     "text": [
      "valid mse  0.8561004949989155\n",
      "valid mse  0.8579434127688537\n",
      "valid mse  0.8562437123364612\n"
     ]
    },
    {
     "name": "stderr",
     "output_type": "stream",
     "text": [
      "5it [00:00,  9.10it/s]"
     ]
    },
    {
     "name": "stdout",
     "output_type": "stream",
     "text": [
      "valid mse  0.856633865111164\n",
      "valid mse  0.8558580679660885\n",
      "valid mse  0.8575860175512737\n"
     ]
    },
    {
     "name": "stderr",
     "output_type": "stream",
     "text": [
      "9it [00:00, 11.57it/s]"
     ]
    },
    {
     "name": "stdout",
     "output_type": "stream",
     "text": [
      "valid mse  0.8579214974604521\n",
      "valid mse  0.8547688429549656\n",
      "valid mse  0.8562612491303673\n",
      "valid mse  0.8567675703969928\n"
     ]
    },
    {
     "name": "stderr",
     "output_type": "stream",
     "text": [
      "10it [00:01,  9.86it/s]"
     ]
    },
    {
     "name": "stdout",
     "output_type": "stream",
     "text": [
      "valid mse [0.8561004949989155, 0.8579434127688537, 0.8562437123364612, 0.856633865111164, 0.8558580679660885, 0.8575860175512737, 0.8579214974604521, 0.8547688429549656, 0.8562612491303673, 0.8567675703969928]  min  0.8547688429549656  max  0.8579434127688537  avg  0.8566084730675534\n"
     ]
    },
    {
     "name": "stderr",
     "output_type": "stream",
     "text": [
      "\n"
     ]
    }
   ],
   "source": [
    "# Cross validate ridge\n",
    "spl = 10\n",
    "kf = StratifiedKFold(n_splits=spl, shuffle=True)\n",
    "test_pred_total = np.zeros(len(rawtest))\n",
    "mse = []\n",
    "for train_idx, valid_idx in tqdm(kf.split(out_of_fold_predictions,y.round())):\n",
    "        model = meta_model\n",
    "        Xt = out_of_fold_predictions[train_idx, :]\n",
    "        yt = y.iloc[train_idx]\n",
    "        Xv = out_of_fold_predictions[valid_idx, :]\n",
    "        yv = y.iloc[valid_idx]\n",
    "        model.fit(Xt, yt)\n",
    "        y_pred = model.predict(Xv)\n",
    "        valid_mse = roc_auc_score(y_true = y.iloc[valid_idx], y_score = y_pred)\n",
    "        print(\"valid mse \", valid_mse)\n",
    "        mse.append(valid_mse)\n",
    "        test_pred = model.predict(meta_features) / spl\n",
    "        test_pred_total += test_pred\n",
    "print(\"valid mse\", mse, \" min \", min(mse), \" max \", max(mse), \" avg \", sum(mse)/len(mse))"
   ]
  },
  {
   "cell_type": "code",
   "execution_count": 17,
   "id": "090d78a8-1d76-4a9e-8f5a-163dac6b6be6",
   "metadata": {},
   "outputs": [],
   "source": [
    "# Save the predictions to a CSV file\n",
    "output = pd.DataFrame({'Id': rawtest.index,\n",
    "                       'target': test_pred_total})\n",
    "output.to_csv('submission.csv', index=False)"
   ]
  },
  {
   "cell_type": "code",
   "execution_count": null,
   "id": "de89bba3-ad9e-4cb1-b5e7-08254f12e56f",
   "metadata": {},
   "outputs": [],
   "source": []
  }
 ],
 "metadata": {
  "kernelspec": {
   "display_name": "Python 3 (ipykernel)",
   "language": "python",
   "name": "python3"
  },
  "language_info": {
   "codemirror_mode": {
    "name": "ipython",
    "version": 3
   },
   "file_extension": ".py",
   "mimetype": "text/x-python",
   "name": "python",
   "nbconvert_exporter": "python",
   "pygments_lexer": "ipython3",
   "version": "3.9.5"
  }
 },
 "nbformat": 4,
 "nbformat_minor": 5
}
