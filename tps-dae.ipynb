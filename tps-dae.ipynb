{
 "cells": [
  {
   "cell_type": "code",
   "execution_count": 16,
   "id": "449668d5-3a6e-43d4-87a4-871b2201e6c7",
   "metadata": {},
   "outputs": [],
   "source": [
    "# Familiar imports\n",
    "import numpy as np\n",
    "import pandas as pd\n",
    "\n",
    "# For ordinal encoding categorical variables, splitting data\n",
    "from sklearn.preprocessing import OrdinalEncoder\n",
    "from sklearn.model_selection import train_test_split, KFold, StratifiedKFold\n",
    "\n",
    "# For training random forest model\n",
    "from sklearn.ensemble import RandomForestRegressor\n",
    "from sklearn.metrics import mean_squared_error\n",
    "from sklearn.feature_selection import mutual_info_regression\n",
    "from sklearn.cluster import KMeans\n",
    "from sklearn.compose import ColumnTransformer\n",
    "from sklearn.pipeline import Pipeline\n",
    "from sklearn.impute import SimpleImputer\n",
    "from sklearn.preprocessing import OneHotEncoder, LabelEncoder\n",
    "from sklearn.ensemble import RandomForestRegressor\n",
    "from sklearn.metrics import mean_absolute_error, roc_auc_score\n",
    "from sklearn.experimental import enable_iterative_imputer\n",
    "from sklearn.impute import IterativeImputer\n",
    "from xgboost import XGBRegressor\n",
    "from lightgbm import LGBMRegressor\n",
    "import seaborn as sns\n",
    "from tqdm import tqdm\n",
    "from sklearn.model_selection import cross_val_score, GridSearchCV\n",
    "from sklearn.decomposition import PCA\n",
    "import matplotlib.pyplot as plt\n",
    "from catboost import CatBoostRegressor\n",
    "from sklearn.linear_model import Ridge\n",
    "import datetime\n",
    "import os"
   ]
  },
  {
   "cell_type": "code",
   "execution_count": 17,
   "id": "d1eacf76-20b7-4fb0-aa73-72af5b2f6cde",
   "metadata": {},
   "outputs": [],
   "source": [
    "# Load the training data\n",
    "rawtrain = pd.read_csv(\"../input/tabular-playground-series-nov-2021/train.csv\", index_col=0)\n",
    "rawtest = pd.read_csv(\"../input/tabular-playground-series-nov-2021/test.csv\", index_col=0)"
   ]
  },
  {
   "cell_type": "code",
   "execution_count": 18,
   "id": "53753204-5ad3-4a3a-ae66-226e43feacae",
   "metadata": {},
   "outputs": [],
   "source": [
    "train = rawtrain.copy()\n",
    "y = train['target']\n",
    "features = train.drop(['target'], axis=1)"
   ]
  },
  {
   "cell_type": "code",
   "execution_count": 19,
   "id": "c9328af7-dc4f-416c-9f4c-785a7a24128f",
   "metadata": {},
   "outputs": [
    {
     "data": {
      "text/plain": [
       "(600000, 100)"
      ]
     },
     "execution_count": 19,
     "metadata": {},
     "output_type": "execute_result"
    }
   ],
   "source": [
    "X = features.copy()\n",
    "X.shape"
   ]
  },
  {
   "cell_type": "code",
   "execution_count": 20,
   "id": "2245b4d3-56cb-484a-a59e-dc34b64654cd",
   "metadata": {},
   "outputs": [
    {
     "data": {
      "text/plain": [
       "(540000, 100)"
      ]
     },
     "execution_count": 20,
     "metadata": {},
     "output_type": "execute_result"
    }
   ],
   "source": [
    "test = rawtest.copy()\n",
    "test.shape"
   ]
  },
  {
   "cell_type": "code",
   "execution_count": 21,
   "id": "b95bd172-060d-41bf-a69c-5b80607acdfb",
   "metadata": {},
   "outputs": [],
   "source": [
    "from tensorflow import keras\n",
    "from tensorflow.keras import layers, callbacks, regularizers\n",
    "from keras import backend as K\n",
    "import tensorflow as tf"
   ]
  },
  {
   "cell_type": "code",
   "execution_count": 22,
   "id": "f795a559-0c84-4b13-9495-d18f8838c74a",
   "metadata": {},
   "outputs": [
    {
     "name": "stdout",
     "output_type": "stream",
     "text": [
      "[name: \"/device:CPU:0\"\n",
      "device_type: \"CPU\"\n",
      "memory_limit: 268435456\n",
      "locality {\n",
      "}\n",
      "incarnation: 14967522451212243301\n",
      ", name: \"/device:GPU:0\"\n",
      "device_type: \"GPU\"\n",
      "memory_limit: 9898950656\n",
      "locality {\n",
      "  bus_id: 1\n",
      "  links {\n",
      "  }\n",
      "}\n",
      "incarnation: 12047642508982174312\n",
      "physical_device_desc: \"device: 0, name: NVIDIA GeForce RTX 3080 Ti, pci bus id: 0000:2a:00.0, compute capability: 8.6\"\n",
      "]\n"
     ]
    }
   ],
   "source": [
    "from tensorflow.python.client import device_lib\n",
    "print(device_lib.list_local_devices())"
   ]
  },
  {
   "cell_type": "code",
   "execution_count": 26,
   "id": "951ea203-8557-4675-9637-a912e9dcf876",
   "metadata": {},
   "outputs": [],
   "source": [
    "from keras import metrics\n",
    "METRICS = [\n",
    "    metrics.RootMeanSquaredError(name='rms'),\n",
    "    metrics.MeanAbsoluteError(name='mae')\n",
    "]\n",
    "ENCODING_DIM = 16 #Desired Dimension\n",
    "BATCH_SIZE = 64\n",
    "EPOCHS = 100"
   ]
  },
  {
   "cell_type": "code",
   "execution_count": 36,
   "id": "3f77a435-c032-4bf5-baab-3dcd11af2fbd",
   "metadata": {},
   "outputs": [],
   "source": [
    "#input_shape = [X.shape[1]]\n",
    "len_input_output = X_train.shape[-1]\n",
    "\n",
    "def make_dae(metrics=METRICS):\n",
    "    dae = keras.Sequential([\n",
    "        layers.Dense(units=len_input_output*2, \n",
    "              activation=\"relu\", input_shape=(len_input_output,)),\n",
    "        layers.Dropout(0.5), #Add dropout layers if required \n",
    "        layers.Dense(units=len_input_output*2, activation=\"relu\"),\n",
    "        layers.Dense(units=len_input_output*2, activation=\"relu\"),\n",
    "        layers.Dense(units=len_input_output, activation=\"linear\"),\n",
    "    ])\n",
    "    dae.compile(\n",
    "        optimizer='adam', \n",
    "        loss='mean_squared_error',\n",
    "        metrics=[metrics]\n",
    "    )\n",
    "    return dae"
   ]
  },
  {
   "cell_type": "code",
   "execution_count": 37,
   "id": "3ef31c9c-a3f2-426c-9fde-e4efc89232b7",
   "metadata": {},
   "outputs": [],
   "source": [
    "from numba import cuda"
   ]
  },
  {
   "cell_type": "code",
   "execution_count": 38,
   "id": "828452d4-4928-4eec-b9e9-e55b9d60f75a",
   "metadata": {},
   "outputs": [],
   "source": [
    "X_train = X\n",
    "noise = np.random.normal(loc=0, scale=0.5, size=X_train.shape)\n",
    "X_train_noisy = X_train + noise"
   ]
  },
  {
   "cell_type": "code",
   "execution_count": 39,
   "id": "986e062d-439d-44f8-8912-b3ed687b7e5e",
   "metadata": {},
   "outputs": [
    {
     "name": "stdout",
     "output_type": "stream",
     "text": [
      "Epoch 1/100\n",
      "9375/9375 [==============================] - 14s 1ms/step - loss: 34.4639 - rms: 5.8706 - mae: 1.6467\n",
      "Epoch 2/100\n",
      "9375/9375 [==============================] - 14s 1ms/step - loss: 10.9031 - rms: 3.3020 - mae: 1.1286\n",
      "Epoch 3/100\n",
      "9375/9375 [==============================] - 14s 1ms/step - loss: 10.0067 - rms: 3.1633 - mae: 1.0805\n",
      "Epoch 4/100\n",
      "9375/9375 [==============================] - 14s 1ms/step - loss: 7.6293 - rms: 2.7621 - mae: 1.0225\n",
      "Epoch 5/100\n",
      "9375/9375 [==============================] - 14s 1ms/step - loss: 6.3264 - rms: 2.5152 - mae: 0.9797\n",
      "Epoch 6/100\n",
      "9375/9375 [==============================] - 14s 1ms/step - loss: 6.4689 - rms: 2.5434 - mae: 0.9678\n",
      "Epoch 7/100\n",
      "9375/9375 [==============================] - 14s 1ms/step - loss: 4.9896 - rms: 2.2337 - mae: 0.9403\n",
      "Epoch 8/100\n",
      "9375/9375 [==============================] - 14s 1ms/step - loss: 5.3835 - rms: 2.3202 - mae: 0.9338\n",
      "Epoch 9/100\n",
      "9375/9375 [==============================] - 14s 1ms/step - loss: 4.5863 - rms: 2.1416 - mae: 0.9166\n",
      "Epoch 10/100\n",
      "9375/9375 [==============================] - 14s 2ms/step - loss: 4.5420 - rms: 2.1312 - mae: 0.8993\n",
      "Epoch 11/100\n",
      "9375/9375 [==============================] - 14s 1ms/step - loss: 4.4028 - rms: 2.0983 - mae: 0.8942\n",
      "Epoch 12/100\n",
      "9375/9375 [==============================] - 14s 1ms/step - loss: 4.1802 - rms: 2.0446 - mae: 0.8866\n",
      "Epoch 13/100\n",
      "9375/9375 [==============================] - 14s 1ms/step - loss: 3.6552 - rms: 1.9119 - mae: 0.8664\n",
      "Epoch 14/100\n",
      "9375/9375 [==============================] - 14s 1ms/step - loss: 3.5229 - rms: 1.8769 - mae: 0.8597\n",
      "Epoch 15/100\n",
      "9375/9375 [==============================] - 14s 1ms/step - loss: 3.2854 - rms: 1.8126 - mae: 0.8522\n",
      "Epoch 16/100\n",
      "9375/9375 [==============================] - 14s 1ms/step - loss: 3.0674 - rms: 1.7514 - mae: 0.8481\n",
      "Epoch 17/100\n",
      "9375/9375 [==============================] - 14s 1ms/step - loss: 3.1896 - rms: 1.7860 - mae: 0.8444\n",
      "Epoch 18/100\n",
      "9375/9375 [==============================] - 13s 1ms/step - loss: 3.1778 - rms: 1.7826 - mae: 0.8413\n",
      "Epoch 19/100\n",
      "9375/9375 [==============================] - 14s 1ms/step - loss: 2.8473 - rms: 1.6874 - mae: 0.8373\n",
      "Epoch 20/100\n",
      "9375/9375 [==============================] - 14s 1ms/step - loss: 2.9943 - rms: 1.7304 - mae: 0.8329\n",
      "Epoch 21/100\n",
      "9375/9375 [==============================] - 14s 1ms/step - loss: 2.8462 - rms: 1.6871 - mae: 0.8311\n",
      "Epoch 22/100\n",
      "9375/9375 [==============================] - 14s 1ms/step - loss: 2.7592 - rms: 1.6611 - mae: 0.8279\n",
      "Epoch 23/100\n",
      "9375/9375 [==============================] - 14s 1ms/step - loss: 2.9854 - rms: 1.7278 - mae: 0.8298\n",
      "Epoch 24/100\n",
      "9375/9375 [==============================] - 14s 1ms/step - loss: 2.6434 - rms: 1.6258 - mae: 0.8243\n",
      "Epoch 25/100\n",
      "9375/9375 [==============================] - 14s 1ms/step - loss: 2.6072 - rms: 1.6147 - mae: 0.8209\n",
      "Epoch 26/100\n",
      "9375/9375 [==============================] - 14s 1ms/step - loss: 2.8990 - rms: 1.7026 - mae: 0.8224\n",
      "Epoch 27/100\n",
      "9375/9375 [==============================] - 14s 1ms/step - loss: 2.5161 - rms: 1.5862 - mae: 0.8189\n",
      "Epoch 28/100\n",
      "9375/9375 [==============================] - 14s 1ms/step - loss: 2.6478 - rms: 1.6272 - mae: 0.8205\n",
      "Epoch 29/100\n",
      "9375/9375 [==============================] - 14s 2ms/step - loss: 2.3362 - rms: 1.5285 - mae: 0.8152\n",
      "Epoch 30/100\n",
      "9375/9375 [==============================] - 14s 2ms/step - loss: 2.3378 - rms: 1.5290 - mae: 0.8146\n",
      "Epoch 31/100\n",
      "9375/9375 [==============================] - 14s 1ms/step - loss: 2.5273 - rms: 1.5897 - mae: 0.8160\n",
      "Epoch 32/100\n",
      "9375/9375 [==============================] - 14s 1ms/step - loss: 2.4711 - rms: 1.5720 - mae: 0.8134\n",
      "Epoch 33/100\n",
      "9375/9375 [==============================] - 14s 1ms/step - loss: 2.5839 - rms: 1.6074 - mae: 0.8162\n",
      "Epoch 34/100\n",
      "9375/9375 [==============================] - 14s 1ms/step - loss: 2.4662 - rms: 1.5704 - mae: 0.8118\n",
      "Epoch 35/100\n",
      "9375/9375 [==============================] - 14s 1ms/step - loss: 2.5050 - rms: 1.5827 - mae: 0.8161\n",
      "Epoch 36/100\n",
      "9375/9375 [==============================] - 14s 1ms/step - loss: 2.5728 - rms: 1.6040 - mae: 0.8144\n",
      "Epoch 37/100\n",
      "9375/9375 [==============================] - 14s 1ms/step - loss: 2.5591 - rms: 1.5997 - mae: 0.8116\n",
      "Epoch 38/100\n",
      "9375/9375 [==============================] - 14s 1ms/step - loss: 2.2166 - rms: 1.4888 - mae: 0.8074\n",
      "Epoch 39/100\n",
      "9375/9375 [==============================] - 14s 1ms/step - loss: 2.2515 - rms: 1.5005 - mae: 0.8078\n",
      "Epoch 40/100\n",
      "9375/9375 [==============================] - 14s 2ms/step - loss: 2.2651 - rms: 1.5050 - mae: 0.8065\n",
      "Epoch 41/100\n",
      "9375/9375 [==============================] - 14s 1ms/step - loss: 2.2848 - rms: 1.5116 - mae: 0.8062\n",
      "Epoch 42/100\n",
      "9375/9375 [==============================] - 14s 1ms/step - loss: 2.7655 - rms: 1.6630 - mae: 0.8089\n",
      "Epoch 43/100\n",
      "9375/9375 [==============================] - 14s 1ms/step - loss: 2.2694 - rms: 1.5064 - mae: 0.8066\n",
      "Epoch 44/100\n",
      "9375/9375 [==============================] - 14s 1ms/step - loss: 2.5234 - rms: 1.5885 - mae: 0.8087\n",
      "Epoch 45/100\n",
      "9375/9375 [==============================] - 14s 1ms/step - loss: 2.2846 - rms: 1.5115 - mae: 0.8064\n",
      "Epoch 46/100\n",
      "9375/9375 [==============================] - 14s 2ms/step - loss: 2.3613 - rms: 1.5367 - mae: 0.8064\n",
      "Epoch 47/100\n",
      "9375/9375 [==============================] - 14s 1ms/step - loss: 2.3094 - rms: 1.5197 - mae: 0.8045\n",
      "Epoch 48/100\n",
      "9375/9375 [==============================] - 14s 1ms/step - loss: 2.1654 - rms: 1.4715 - mae: 0.8022\n",
      "Epoch 49/100\n",
      "9375/9375 [==============================] - 14s 1ms/step - loss: 2.0832 - rms: 1.4433 - mae: 0.8018\n",
      "Epoch 50/100\n",
      "9375/9375 [==============================] - 14s 1ms/step - loss: 2.2083 - rms: 1.4860 - mae: 0.8022\n",
      "Epoch 51/100\n",
      "9375/9375 [==============================] - 14s 1ms/step - loss: 2.1960 - rms: 1.4819 - mae: 0.8025\n",
      "Epoch 52/100\n",
      "9375/9375 [==============================] - 14s 1ms/step - loss: 2.4185 - rms: 1.5552 - mae: 0.8045\n",
      "Epoch 53/100\n",
      "9375/9375 [==============================] - 14s 1ms/step - loss: 2.1299 - rms: 1.4594 - mae: 0.8009\n",
      "Epoch 54/100\n",
      "9375/9375 [==============================] - 14s 1ms/step - loss: 2.6054 - rms: 1.6141 - mae: 0.8044\n",
      "Epoch 55/100\n",
      "9375/9375 [==============================] - 14s 1ms/step - loss: 2.1802 - rms: 1.4765 - mae: 0.8022\n",
      "Epoch 56/100\n",
      "9375/9375 [==============================] - 14s 2ms/step - loss: 2.1488 - rms: 1.4659 - mae: 0.8025\n",
      "Epoch 57/100\n",
      "9375/9375 [==============================] - 14s 1ms/step - loss: 2.3359 - rms: 1.5284 - mae: 0.8022\n",
      "Epoch 58/100\n",
      "9375/9375 [==============================] - 14s 1ms/step - loss: 2.2178 - rms: 1.4892 - mae: 0.8011\n",
      "Epoch 59/100\n",
      "9375/9375 [==============================] - 14s 2ms/step - loss: 2.3871 - rms: 1.5450 - mae: 0.8046\n",
      "Epoch 60/100\n",
      "9375/9375 [==============================] - 14s 2ms/step - loss: 2.0701 - rms: 1.4388 - mae: 0.8020\n",
      "Epoch 61/100\n",
      "9375/9375 [==============================] - 14s 1ms/step - loss: 2.2177 - rms: 1.4892 - mae: 0.8029\n",
      "Epoch 62/100\n",
      "9375/9375 [==============================] - 14s 1ms/step - loss: 2.1065 - rms: 1.4514 - mae: 0.7984\n",
      "Epoch 63/100\n",
      "9375/9375 [==============================] - 14s 2ms/step - loss: 2.3319 - rms: 1.5271 - mae: 0.7997\n",
      "Epoch 64/100\n",
      "9375/9375 [==============================] - 14s 2ms/step - loss: 2.1153 - rms: 1.4544 - mae: 0.7974\n",
      "Epoch 65/100\n",
      "9375/9375 [==============================] - 14s 2ms/step - loss: 2.1462 - rms: 1.4650 - mae: 0.7981\n",
      "Epoch 66/100\n",
      "9375/9375 [==============================] - 14s 2ms/step - loss: 2.0637 - rms: 1.4366 - mae: 0.7992\n",
      "Epoch 67/100\n",
      "9375/9375 [==============================] - 14s 2ms/step - loss: 2.1183 - rms: 1.4554 - mae: 0.7962\n",
      "Epoch 68/100\n",
      "9375/9375 [==============================] - 14s 2ms/step - loss: 2.0437 - rms: 1.4296 - mae: 0.7954\n",
      "Epoch 69/100\n",
      "9375/9375 [==============================] - 14s 2ms/step - loss: 2.2892 - rms: 1.5130 - mae: 0.7975\n",
      "Epoch 70/100\n",
      "9375/9375 [==============================] - 14s 2ms/step - loss: 2.0411 - rms: 1.4287 - mae: 0.7951\n",
      "Epoch 71/100\n",
      "9375/9375 [==============================] - 14s 2ms/step - loss: 2.1892 - rms: 1.4796 - mae: 0.7976\n",
      "Epoch 72/100\n",
      "9375/9375 [==============================] - 14s 2ms/step - loss: 1.9681 - rms: 1.4029 - mae: 0.7934\n",
      "Epoch 73/100\n",
      "9375/9375 [==============================] - 14s 2ms/step - loss: 1.9925 - rms: 1.4116 - mae: 0.7932\n",
      "Epoch 74/100\n",
      "9375/9375 [==============================] - 14s 2ms/step - loss: 1.9780 - rms: 1.4064 - mae: 0.7916\n",
      "Epoch 75/100\n",
      "9375/9375 [==============================] - 14s 2ms/step - loss: 2.2669 - rms: 1.5056 - mae: 0.7969\n",
      "Epoch 76/100\n",
      "9375/9375 [==============================] - 14s 2ms/step - loss: 2.0068 - rms: 1.4166 - mae: 0.7949\n",
      "Epoch 77/100\n",
      "9375/9375 [==============================] - 14s 2ms/step - loss: 2.1559 - rms: 1.4683 - mae: 0.7954\n",
      "Epoch 78/100\n",
      "9375/9375 [==============================] - 14s 2ms/step - loss: 1.9949 - rms: 1.4124 - mae: 0.7936\n",
      "Epoch 79/100\n",
      "9375/9375 [==============================] - 14s 1ms/step - loss: 2.2780 - rms: 1.5093 - mae: 0.7966\n",
      "Epoch 80/100\n",
      "9375/9375 [==============================] - 14s 2ms/step - loss: 2.0531 - rms: 1.4329 - mae: 0.7942\n",
      "Epoch 81/100\n",
      "9375/9375 [==============================] - 14s 1ms/step - loss: 2.1425 - rms: 1.4637 - mae: 0.7933\n",
      "Epoch 82/100\n",
      "9375/9375 [==============================] - 14s 2ms/step - loss: 2.1095 - rms: 1.4524 - mae: 0.7934\n",
      "Epoch 83/100\n",
      "9375/9375 [==============================] - 14s 1ms/step - loss: 2.0980 - rms: 1.4484 - mae: 0.7935\n",
      "Epoch 84/100\n",
      "9375/9375 [==============================] - 14s 1ms/step - loss: 1.9989 - rms: 1.4138 - mae: 0.7929\n",
      "Epoch 85/100\n",
      "9375/9375 [==============================] - 14s 1ms/step - loss: 2.0076 - rms: 1.4169 - mae: 0.7930\n",
      "Epoch 86/100\n",
      "9375/9375 [==============================] - 14s 1ms/step - loss: 2.1826 - rms: 1.4774 - mae: 0.7940\n",
      "Epoch 87/100\n",
      "9375/9375 [==============================] - 14s 1ms/step - loss: 2.1203 - rms: 1.4561 - mae: 0.7939\n",
      "Epoch 88/100\n",
      "9375/9375 [==============================] - 14s 1ms/step - loss: 2.1944 - rms: 1.4813 - mae: 0.7936\n",
      "Epoch 89/100\n",
      "9375/9375 [==============================] - 14s 2ms/step - loss: 2.3224 - rms: 1.5239 - mae: 0.7981\n",
      "Epoch 90/100\n",
      "9375/9375 [==============================] - 14s 1ms/step - loss: 2.0140 - rms: 1.4192 - mae: 0.7929\n",
      "Epoch 91/100\n",
      "9375/9375 [==============================] - 14s 2ms/step - loss: 1.9820 - rms: 1.4078 - mae: 0.7922\n",
      "Epoch 92/100\n",
      "9375/9375 [==============================] - 14s 2ms/step - loss: 2.0292 - rms: 1.4245 - mae: 0.7939\n",
      "Epoch 93/100\n",
      "9375/9375 [==============================] - 14s 1ms/step - loss: 1.9918 - rms: 1.4113 - mae: 0.7918\n",
      "Epoch 94/100\n",
      "9375/9375 [==============================] - 14s 2ms/step - loss: 1.9857 - rms: 1.4091 - mae: 0.7914\n",
      "Epoch 95/100\n",
      "9375/9375 [==============================] - 14s 1ms/step - loss: 2.1994 - rms: 1.4830 - mae: 0.7951\n",
      "Epoch 96/100\n",
      "9375/9375 [==============================] - 14s 1ms/step - loss: 2.0788 - rms: 1.4418 - mae: 0.7935\n",
      "Epoch 97/100\n",
      "9375/9375 [==============================] - 14s 1ms/step - loss: 2.2181 - rms: 1.4893 - mae: 0.7939\n",
      "Epoch 98/100\n",
      "9375/9375 [==============================] - 14s 1ms/step - loss: 2.0319 - rms: 1.4254 - mae: 0.7922\n",
      "Epoch 99/100\n",
      "9375/9375 [==============================] - 14s 1ms/step - loss: 2.0576 - rms: 1.4344 - mae: 0.7922\n",
      "Epoch 100/100\n",
      "9375/9375 [==============================] - 14s 1ms/step - loss: 2.0971 - rms: 1.4481 - mae: 0.7912\n"
     ]
    }
   ],
   "source": [
    "dae = make_dae()\n",
    "history = dae.fit(\n",
    "    X_train_noisy,\n",
    "    X_train,\n",
    "    batch_size = BATCH_SIZE,\n",
    "    epochs = EPOCHS\n",
    "    )"
   ]
  },
  {
   "cell_type": "code",
   "execution_count": 40,
   "id": "bcd03f30-0bd6-4987-a146-05af74ccf702",
   "metadata": {},
   "outputs": [
    {
     "name": "stdout",
     "output_type": "stream",
     "text": [
      "2021-11-14 01:45:27.297385\n"
     ]
    }
   ],
   "source": [
    "from datetime import datetime\n",
    "print(datetime.now())"
   ]
  },
  {
   "cell_type": "code",
   "execution_count": 41,
   "id": "e820bc3b-3b4b-4eba-b1a0-3e156e43ed64",
   "metadata": {},
   "outputs": [],
   "source": [
    "dae.save(\"./models/dae.keras\")"
   ]
  },
  {
   "cell_type": "code",
   "execution_count": 1,
   "id": "79ebfcae-ec9f-479e-ac05-87db12004e9f",
   "metadata": {},
   "outputs": [
    {
     "ename": "NameError",
     "evalue": "name 'dae' is not defined",
     "output_type": "error",
     "traceback": [
      "\u001b[1;31m---------------------------------------------------------------------------\u001b[0m",
      "\u001b[1;31mNameError\u001b[0m                                 Traceback (most recent call last)",
      "\u001b[1;32m~\\AppData\\Local\\Temp/ipykernel_3844/2726360299.py\u001b[0m in \u001b[0;36m<module>\u001b[1;34m\u001b[0m\n\u001b[1;32m----> 1\u001b[1;33m \u001b[0mtrain_dae\u001b[0m \u001b[1;33m=\u001b[0m \u001b[0mdae\u001b[0m\u001b[1;33m.\u001b[0m\u001b[0mpredict\u001b[0m\u001b[1;33m(\u001b[0m\u001b[0mX_train\u001b[0m\u001b[1;33m)\u001b[0m\u001b[1;33m\u001b[0m\u001b[1;33m\u001b[0m\u001b[0m\n\u001b[0m\u001b[0;32m      2\u001b[0m \u001b[0mtrain_dae\u001b[0m \u001b[1;33m=\u001b[0m \u001b[0mpd\u001b[0m\u001b[1;33m.\u001b[0m\u001b[0mDataFrame\u001b[0m\u001b[1;33m(\u001b[0m\u001b[0mdata\u001b[0m\u001b[1;33m=\u001b[0m\u001b[0mtrain_dae\u001b[0m\u001b[1;33m,\u001b[0m \u001b[0mindex\u001b[0m\u001b[1;33m=\u001b[0m\u001b[0mX_train\u001b[0m\u001b[1;33m.\u001b[0m\u001b[0mindex\u001b[0m\u001b[1;33m,\u001b[0m \u001b[0mcolumns\u001b[0m\u001b[1;33m=\u001b[0m\u001b[0mX_train\u001b[0m\u001b[1;33m.\u001b[0m\u001b[0mcolumns\u001b[0m\u001b[1;33m)\u001b[0m\u001b[1;33m\u001b[0m\u001b[1;33m\u001b[0m\u001b[0m\n\u001b[0;32m      3\u001b[0m \u001b[0mtrain_dae\u001b[0m\u001b[1;33m[\u001b[0m\u001b[1;34m\"target\"\u001b[0m\u001b[1;33m]\u001b[0m\u001b[1;33m=\u001b[0m\u001b[0mtrain\u001b[0m\u001b[1;33m[\u001b[0m\u001b[1;34m\"target\"\u001b[0m\u001b[1;33m]\u001b[0m\u001b[1;33m\u001b[0m\u001b[1;33m\u001b[0m\u001b[0m\n",
      "\u001b[1;31mNameError\u001b[0m: name 'dae' is not defined"
     ]
    }
   ],
   "source": [
    "train_dae = dae.predict(X_train)\n",
    "train_dae = pd.DataFrame(data=train_dae, index=X_train.index, columns=X_train.columns)\n",
    "train_dae[\"target\"]=train[\"target\"]"
   ]
  },
  {
   "cell_type": "code",
   "execution_count": 43,
   "id": "2edb582b-33bf-4281-9ed1-6b58b9855104",
   "metadata": {},
   "outputs": [],
   "source": [
    "train_dae.to_pickle(\"./models/train.dae.pd\")"
   ]
  },
  {
   "cell_type": "code",
   "execution_count": 44,
   "id": "e3c5607e-0eff-4602-9e5a-f1a9500e856a",
   "metadata": {},
   "outputs": [],
   "source": [
    "test_dae = dae.predict(rawtest)\n",
    "test_dae = pd.DataFrame(data=test_dae, index=rawtest.index, columns=rawtest.columns)\n",
    "test_dae.to_pickle(\"./models/test.dae.pd\")"
   ]
  },
  {
   "cell_type": "code",
   "execution_count": null,
   "id": "bd2fd358-2168-4ffd-a4e9-b9b4c8217870",
   "metadata": {},
   "outputs": [],
   "source": []
  }
 ],
 "metadata": {
  "kernelspec": {
   "display_name": "Python 3 (ipykernel)",
   "language": "python",
   "name": "python3"
  },
  "language_info": {
   "codemirror_mode": {
    "name": "ipython",
    "version": 3
   },
   "file_extension": ".py",
   "mimetype": "text/x-python",
   "name": "python",
   "nbconvert_exporter": "python",
   "pygments_lexer": "ipython3",
   "version": "3.9.5"
  }
 },
 "nbformat": 4,
 "nbformat_minor": 5
}
