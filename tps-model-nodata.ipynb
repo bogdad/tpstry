{
 "cells": [
  {
   "cell_type": "code",
   "execution_count": 1,
   "id": "4c605334-5264-47ed-a204-38523ace182a",
   "metadata": {},
   "outputs": [],
   "source": [
    "# Familiar imports\n",
    "import numpy as np\n",
    "import pandas as pd\n",
    "\n",
    "# For ordinal encoding categorical variables, splitting data\n",
    "from sklearn.preprocessing import OrdinalEncoder\n",
    "from sklearn.model_selection import train_test_split, KFold, StratifiedKFold\n",
    "\n",
    "# For training random forest model\n",
    "from sklearn.ensemble import RandomForestRegressor\n",
    "from sklearn.metrics import mean_squared_error\n",
    "from sklearn.feature_selection import mutual_info_regression\n",
    "from sklearn.cluster import KMeans\n",
    "from sklearn.compose import ColumnTransformer\n",
    "from sklearn.pipeline import Pipeline\n",
    "from sklearn.impute import SimpleImputer\n",
    "from sklearn.preprocessing import OneHotEncoder, LabelEncoder\n",
    "from sklearn.ensemble import RandomForestRegressor\n",
    "from sklearn.metrics import mean_absolute_error, roc_auc_score\n",
    "from sklearn.experimental import enable_iterative_imputer\n",
    "from sklearn.impute import IterativeImputer\n",
    "from xgboost import XGBRegressor\n",
    "from lightgbm import LGBMRegressor\n",
    "import seaborn as sns\n",
    "from tqdm import tqdm\n",
    "from sklearn.model_selection import cross_val_score, GridSearchCV\n",
    "from sklearn.decomposition import PCA\n",
    "import matplotlib.pyplot as plt\n",
    "from catboost import CatBoostRegressor\n",
    "from sklearn.linear_model import Ridge\n",
    "import datetime\n",
    "import gc\n",
    "from numba import cuda"
   ]
  },
  {
   "cell_type": "code",
   "execution_count": 2,
   "id": "a4fe4aab-1c43-4859-839d-69b1533023d2",
   "metadata": {},
   "outputs": [],
   "source": [
    "from tensorflow import keras\n",
    "from tensorflow.keras import layers, callbacks\n",
    "from keras import backend as K\n",
    "import tensorflow as tf"
   ]
  },
  {
   "cell_type": "code",
   "execution_count": 3,
   "id": "8b29fcf4-a5fe-495c-b02a-9df7c10679f3",
   "metadata": {},
   "outputs": [
    {
     "name": "stdout",
     "output_type": "stream",
     "text": [
      "[name: \"/device:CPU:0\"\n",
      "device_type: \"CPU\"\n",
      "memory_limit: 268435456\n",
      "locality {\n",
      "}\n",
      "incarnation: 5280752032264899127\n",
      ", name: \"/device:GPU:0\"\n",
      "device_type: \"GPU\"\n",
      "memory_limit: 9898950656\n",
      "locality {\n",
      "  bus_id: 1\n",
      "  links {\n",
      "  }\n",
      "}\n",
      "incarnation: 11067479159137294484\n",
      "physical_device_desc: \"device: 0, name: NVIDIA GeForce RTX 3080 Ti, pci bus id: 0000:2a:00.0, compute capability: 8.6\"\n",
      "]\n"
     ]
    }
   ],
   "source": [
    "from tensorflow.python.client import device_lib\n",
    "print(device_lib.list_local_devices())"
   ]
  },
  {
   "cell_type": "code",
   "execution_count": 4,
   "id": "7eab628b-9547-442b-9024-15b27b3a812f",
   "metadata": {},
   "outputs": [
    {
     "name": "stdout",
     "output_type": "stream",
     "text": [
      "1 Physical GPUs, 1 Logical GPUs\n"
     ]
    }
   ],
   "source": [
    "gpus = tf.config.list_physical_devices('GPU')\n",
    "if gpus:\n",
    "    try:\n",
    "        # Currently, memory growth needs to be the same across GPUs\n",
    "        for gpu in gpus:\n",
    "            tf.config.experimental.set_memory_growth(gpu, True)\n",
    "        logical_gpus = tf.config.list_logical_devices('GPU')\n",
    "        print(len(gpus), \"Physical GPUs,\", len(logical_gpus), \"Logical GPUs\")\n",
    "    except RuntimeError as e:\n",
    "        # Memory growth must be set before GPUs have been initialized\n",
    "        print(e)"
   ]
  },
  {
   "cell_type": "code",
   "execution_count": 5,
   "id": "b01470e4-069e-40d1-84bd-15aba1838dbd",
   "metadata": {},
   "outputs": [],
   "source": [
    "# Load the training data\n",
    "rawtrain = pd.read_csv(\"../input/tabular-playground-series-nov-2021/train.csv\", index_col=0)\n",
    "rawtest = pd.read_csv(\"../input/tabular-playground-series-nov-2021/test.csv\", index_col=0)"
   ]
  },
  {
   "cell_type": "code",
   "execution_count": 6,
   "id": "fa3a0697-bf43-4dd4-917b-526f16834e97",
   "metadata": {},
   "outputs": [
    {
     "name": "stdout",
     "output_type": "stream",
     "text": [
      "<class 'pandas.core.frame.DataFrame'>\n",
      "Int64Index: 600000 entries, 0 to 599999\n",
      "Columns: 101 entries, f0 to target\n",
      "dtypes: float64(100), int64(1)\n",
      "memory usage: 466.9 MB\n"
     ]
    }
   ],
   "source": [
    "rawtrain.info()"
   ]
  },
  {
   "cell_type": "code",
   "execution_count": 7,
   "id": "9650ee7a-06ad-4118-a7c5-1e92a2191561",
   "metadata": {},
   "outputs": [
    {
     "name": "stdout",
     "output_type": "stream",
     "text": [
      "<class 'pandas.core.frame.DataFrame'>\n",
      "Int64Index: 540000 entries, 600000 to 1139999\n",
      "Data columns (total 100 columns):\n",
      " #   Column  Non-Null Count   Dtype  \n",
      "---  ------  --------------   -----  \n",
      " 0   f0      540000 non-null  float64\n",
      " 1   f1      540000 non-null  float64\n",
      " 2   f2      540000 non-null  float64\n",
      " 3   f3      540000 non-null  float64\n",
      " 4   f4      540000 non-null  float64\n",
      " 5   f5      540000 non-null  float64\n",
      " 6   f6      540000 non-null  float64\n",
      " 7   f7      540000 non-null  float64\n",
      " 8   f8      540000 non-null  float64\n",
      " 9   f9      540000 non-null  float64\n",
      " 10  f10     540000 non-null  float64\n",
      " 11  f11     540000 non-null  float64\n",
      " 12  f12     540000 non-null  float64\n",
      " 13  f13     540000 non-null  float64\n",
      " 14  f14     540000 non-null  float64\n",
      " 15  f15     540000 non-null  float64\n",
      " 16  f16     540000 non-null  float64\n",
      " 17  f17     540000 non-null  float64\n",
      " 18  f18     540000 non-null  float64\n",
      " 19  f19     540000 non-null  float64\n",
      " 20  f20     540000 non-null  float64\n",
      " 21  f21     540000 non-null  float64\n",
      " 22  f22     540000 non-null  float64\n",
      " 23  f23     540000 non-null  float64\n",
      " 24  f24     540000 non-null  float64\n",
      " 25  f25     540000 non-null  float64\n",
      " 26  f26     540000 non-null  float64\n",
      " 27  f27     540000 non-null  float64\n",
      " 28  f28     540000 non-null  float64\n",
      " 29  f29     540000 non-null  float64\n",
      " 30  f30     540000 non-null  float64\n",
      " 31  f31     540000 non-null  float64\n",
      " 32  f32     540000 non-null  float64\n",
      " 33  f33     540000 non-null  float64\n",
      " 34  f34     540000 non-null  float64\n",
      " 35  f35     540000 non-null  float64\n",
      " 36  f36     540000 non-null  float64\n",
      " 37  f37     540000 non-null  float64\n",
      " 38  f38     540000 non-null  float64\n",
      " 39  f39     540000 non-null  float64\n",
      " 40  f40     540000 non-null  float64\n",
      " 41  f41     540000 non-null  float64\n",
      " 42  f42     540000 non-null  float64\n",
      " 43  f43     540000 non-null  float64\n",
      " 44  f44     540000 non-null  float64\n",
      " 45  f45     540000 non-null  float64\n",
      " 46  f46     540000 non-null  float64\n",
      " 47  f47     540000 non-null  float64\n",
      " 48  f48     540000 non-null  float64\n",
      " 49  f49     540000 non-null  float64\n",
      " 50  f50     540000 non-null  float64\n",
      " 51  f51     540000 non-null  float64\n",
      " 52  f52     540000 non-null  float64\n",
      " 53  f53     540000 non-null  float64\n",
      " 54  f54     540000 non-null  float64\n",
      " 55  f55     540000 non-null  float64\n",
      " 56  f56     540000 non-null  float64\n",
      " 57  f57     540000 non-null  float64\n",
      " 58  f58     540000 non-null  float64\n",
      " 59  f59     540000 non-null  float64\n",
      " 60  f60     540000 non-null  float64\n",
      " 61  f61     540000 non-null  float64\n",
      " 62  f62     540000 non-null  float64\n",
      " 63  f63     540000 non-null  float64\n",
      " 64  f64     540000 non-null  float64\n",
      " 65  f65     540000 non-null  float64\n",
      " 66  f66     540000 non-null  float64\n",
      " 67  f67     540000 non-null  float64\n",
      " 68  f68     540000 non-null  float64\n",
      " 69  f69     540000 non-null  float64\n",
      " 70  f70     540000 non-null  float64\n",
      " 71  f71     540000 non-null  float64\n",
      " 72  f72     540000 non-null  float64\n",
      " 73  f73     540000 non-null  float64\n",
      " 74  f74     540000 non-null  float64\n",
      " 75  f75     540000 non-null  float64\n",
      " 76  f76     540000 non-null  float64\n",
      " 77  f77     540000 non-null  float64\n",
      " 78  f78     540000 non-null  float64\n",
      " 79  f79     540000 non-null  float64\n",
      " 80  f80     540000 non-null  float64\n",
      " 81  f81     540000 non-null  float64\n",
      " 82  f82     540000 non-null  float64\n",
      " 83  f83     540000 non-null  float64\n",
      " 84  f84     540000 non-null  float64\n",
      " 85  f85     540000 non-null  float64\n",
      " 86  f86     540000 non-null  float64\n",
      " 87  f87     540000 non-null  float64\n",
      " 88  f88     540000 non-null  float64\n",
      " 89  f89     540000 non-null  float64\n",
      " 90  f90     540000 non-null  float64\n",
      " 91  f91     540000 non-null  float64\n",
      " 92  f92     540000 non-null  float64\n",
      " 93  f93     540000 non-null  float64\n",
      " 94  f94     540000 non-null  float64\n",
      " 95  f95     540000 non-null  float64\n",
      " 96  f96     540000 non-null  float64\n",
      " 97  f97     540000 non-null  float64\n",
      " 98  f98     540000 non-null  float64\n",
      " 99  f99     540000 non-null  float64\n",
      "dtypes: float64(100)\n",
      "memory usage: 416.1 MB\n"
     ]
    }
   ],
   "source": [
    "rawtest.info()"
   ]
  },
  {
   "cell_type": "code",
   "execution_count": 8,
   "id": "ef085024-8a4e-4384-92c3-94012b8dbfed",
   "metadata": {},
   "outputs": [],
   "source": [
    "train = rawtrain.copy()\n",
    "y = train['target']\n",
    "features = train.drop(['target'], axis=1)"
   ]
  },
  {
   "cell_type": "code",
   "execution_count": 9,
   "id": "4b688a92-cb3f-4dbb-b020-a4521b5b9283",
   "metadata": {},
   "outputs": [
    {
     "data": {
      "text/plain": [
       "(600000, 100)"
      ]
     },
     "execution_count": 9,
     "metadata": {},
     "output_type": "execute_result"
    }
   ],
   "source": [
    "X = features.copy()\n",
    "X.shape"
   ]
  },
  {
   "cell_type": "code",
   "execution_count": 10,
   "id": "ae6e6a75-1ccc-4390-8da2-0982867ba518",
   "metadata": {},
   "outputs": [
    {
     "data": {
      "text/plain": [
       "(540000, 100)"
      ]
     },
     "execution_count": 10,
     "metadata": {},
     "output_type": "execute_result"
    }
   ],
   "source": [
    "test = rawtest.copy()\n",
    "test.shape"
   ]
  },
  {
   "cell_type": "code",
   "execution_count": 11,
   "id": "53d54f8c-7665-469a-9541-524e959c83e7",
   "metadata": {},
   "outputs": [],
   "source": [
    "lgbm_parameters = {\n",
    "    \"device\":'gpu', \"metric\":\"auc\",\n",
    "  'learning_rate': 0.08697465911179744, 'max_depth': 2, 'min_data_in_leaf': 592, 'n_estimators': 4565, 'num_leaves': 85, 'reg_alpha': 4.2395421854514055, 'reg_lambda': 3.4669998025411233\n",
    "}\n",
    "xgboost_parameters = { 'n_jobs':4, \n",
    "                       'tree_method': 'gpu_hist', \n",
    "                        'gpu_id': 0,\n",
    "'learning_rate': 0.03237498960526522, 'n_estimators': 10837, 'gamma': 0.7820801389298118, 'max_depth': 2, 'min_child_weight': 9.149611138786955, 'subsample': 0.7488960655884316, 'lambda': 4.190627000051498, 'alpha': 6.241101997471009\n",
    "                     }\n",
    "catboost_parameters={\n",
    "    'task_type':\"GPU\", \"loss_function\":\"RMSE\",\n",
    "   'learning_rate': 0.04930064646089139, 'iterations': 3238, 'depth': 6, 'l2_leaf_reg': 32.60575094913488, 'bagging_temperature': 0.9250154053358728\n",
    "}"
   ]
  },
  {
   "cell_type": "code",
   "execution_count": 12,
   "id": "739391a9-1891-42b6-8bbb-36a1e1fec7cd",
   "metadata": {},
   "outputs": [],
   "source": [
    "class KerasModel:\n",
    "    def __init__(self, model, session):\n",
    "        self.model = model\n",
    "        self.session = session\n",
    "    def predict(self, test):\n",
    "        out = self.model.predict(test)\n",
    "        return np.reshape(out,(out.size,)) \n",
    "\n",
    "input_shape = [X.shape[1]]\n",
    "def create_keras():\n",
    "    model = keras.Sequential([\n",
    "        layers.BatchNormalization(input_shape = input_shape),\n",
    "        layers.Dense(units = 128, activation = 'relu'),\n",
    "        layers.BatchNormalization(),\n",
    "        layers.Dropout(rate = 0.3),\n",
    "        layers.Dense(units = 64, activation = 'relu'),\n",
    "        layers.BatchNormalization(),\n",
    "        layers.Dropout(rate = 0.3),\n",
    "        layers.Dense(units = 32, activation = 'relu'),\n",
    "        layers.BatchNormalization(),\n",
    "        layers.Dropout(rate = 0.3), \n",
    "        layers.Dense(units = 1, activation = 'hard_sigmoid')\n",
    "    ])\n",
    "    model.compile(optimizer='adam',\n",
    "              loss='binary_crossentropy',\n",
    "              metrics=[tf.keras.metrics.AUC()]\n",
    "    )\n",
    "    session = tf.compat.v1.Session(config=tf.compat.v1.ConfigProto(log_device_placement=True))\n",
    "    return KerasModel(model, session)\n",
    "\n",
    "def fit_keras(model, Xt, yt, Xv, yv):\n",
    "    early_stopping = callbacks.EarlyStopping(\n",
    "        min_delta=0.0001, # minimium amount of change to count as an improvement\n",
    "        patience=40, # how many epochs to wait before stopping\n",
    "        restore_best_weights=True,\n",
    "    )\n",
    "    log_dir = \"logs/fit/\" + datetime.datetime.now().strftime(\"%Y%m%d-%H%M%S\")\n",
    "    tensorboard_callback = tf.keras.callbacks.TensorBoard(log_dir=log_dir, histogram_freq=1)\n",
    "    history = model.model.fit(Xt, yt, validation_data=(Xv, yv), \n",
    "    callbacks = [early_stopping, tensorboard_callback], \n",
    "        batch_size=6000, epochs=300, verbose=0)\n",
    "    del history\n",
    "def clear_keras(model):\n",
    "    gc.collect()\n",
    "    del model.model\n",
    "    model.session.close()\n",
    "    del model.session\n",
    "    gc.collect()\n",
    "    K.clear_session()\n",
    "    tf.compat.v1.reset_default_graph()\n",
    "    gc.collect()"
   ]
  },
  {
   "cell_type": "code",
   "execution_count": 13,
   "id": "4a9dbf1a-c08c-482d-a363-258ac1eb60e0",
   "metadata": {},
   "outputs": [],
   "source": [
    "def fit_catboost(model, Xt, yt, Xv, yv):\n",
    "    model.fit(Xt, yt, early_stopping_rounds = 400, eval_set=[(Xv, yv)], verbose = 0)\n",
    "def fit_lgbm(model, Xt, yt, Xv, yv):\n",
    "    model.fit(Xt, yt, early_stopping_rounds = 399, eval_set=[(Xv, yv)], verbose = -1)  \n",
    "def fit_xgboost(model, Xt, yt, Xv, yv):\n",
    "    model.fit(Xt, yt, early_stopping_rounds = 400, eval_set=[(Xv, yv)], verbose=False)\n",
    "model_types = [\n",
    "    {\"name\": \"keras\", \"create\": create_keras, \"fit\": fit_keras, \"clear\": clear_keras},\n",
    "    {\"name\": \"lgbm\", \"create\": lambda: LGBMRegressor(**lgbm_parameters), \"fit\": fit_lgbm},\n",
    "    #{'name': \"lgbm_0\", 'create': lambda: LGBMRegressor(**lgbm_parameters_0), \"fit\": fit_lgbm},\n",
    "    #{'name': \"lgbm_1\", \"create\": lambda: LGBMRegressor(**lgbm_parameters_1), 'fit': fit_lgbm},\n",
    "    #{\"name\": \"xgboost_2\", \"create\": lambda: XGBRegressor(**xgboost_parameters_2), \"fit\": fit_xgboost},\n",
    "    #{\"name\": \"xgboost_1\", \"create\": lambda: XGBRegressor(**xgboost_parameters_1), \"fit\": fit_xgboost},\n",
    "    {'name': 'xgboost', 'create': lambda: XGBRegressor(**xgboost_parameters, eval_metric=\"auc\"), 'fit': fit_xgboost},\n",
    "    {\"name\": \"catboost\", \"create\": lambda: CatBoostRegressor(**catboost_parameters), \"fit\": fit_catboost},\n",
    "    #{'name': 'catboost_0', \"create\": lambda: CatBoostRegressor(**catboost_parameters_0), \"fit\": fit_catboost},\n",
    "]"
   ]
  },
  {
   "cell_type": "code",
   "execution_count": 14,
   "id": "a6445fda-0064-4431-88a9-ac8a9b8f7558",
   "metadata": {},
   "outputs": [
    {
     "data": {
      "text/plain": [
       "[{'name': 'keras',\n",
       "  'create': <function __main__.create_keras()>,\n",
       "  'fit': <function __main__.fit_keras(model, Xt, yt, Xv, yv)>,\n",
       "  'clear': <function __main__.clear_keras(model)>},\n",
       " {'name': 'lgbm',\n",
       "  'create': <function __main__.<lambda>()>,\n",
       "  'fit': <function __main__.fit_lgbm(model, Xt, yt, Xv, yv)>},\n",
       " {'name': 'xgboost',\n",
       "  'create': <function __main__.<lambda>()>,\n",
       "  'fit': <function __main__.fit_xgboost(model, Xt, yt, Xv, yv)>},\n",
       " {'name': 'catboost',\n",
       "  'create': <function __main__.<lambda>()>,\n",
       "  'fit': <function __main__.fit_catboost(model, Xt, yt, Xv, yv)>}]"
      ]
     },
     "execution_count": 14,
     "metadata": {},
     "output_type": "execute_result"
    }
   ],
   "source": [
    "model_types"
   ]
  },
  {
   "cell_type": "code",
   "execution_count": null,
   "id": "e6fb155e-3125-4392-aa57-a3a0258fb1ec",
   "metadata": {},
   "outputs": [
    {
     "name": "stdout",
     "output_type": "stream",
     "text": [
      "starting keras\n"
     ]
    },
    {
     "name": "stderr",
     "output_type": "stream",
     "text": [
      "0it [00:00, ?it/s]"
     ]
    },
    {
     "name": "stdout",
     "output_type": "stream",
     "text": [
      "Device mapping:\n",
      "/job:localhost/replica:0/task:0/device:GPU:0 -> device: 0, name: NVIDIA GeForce RTX 3080 Ti, pci bus id: 0000:2a:00.0, compute capability: 8.6\n",
      "\n",
      "validation quality metric 0.7580579493340109\n",
      "clearing\n"
     ]
    },
    {
     "name": "stderr",
     "output_type": "stream",
     "text": [
      "1it [01:56, 116.74s/it]"
     ]
    },
    {
     "name": "stdout",
     "output_type": "stream",
     "text": [
      "Device mapping:\n",
      "/job:localhost/replica:0/task:0/device:GPU:0 -> device: 0, name: NVIDIA GeForce RTX 3080 Ti, pci bus id: 0000:2a:00.0, compute capability: 8.6\n",
      "\n",
      "validation quality metric 0.7553723127773462\n",
      "clearing\n"
     ]
    },
    {
     "name": "stderr",
     "output_type": "stream",
     "text": [
      "2it [03:57, 118.89s/it]"
     ]
    },
    {
     "name": "stdout",
     "output_type": "stream",
     "text": [
      "Device mapping:\n",
      "/job:localhost/replica:0/task:0/device:GPU:0 -> device: 0, name: NVIDIA GeForce RTX 3080 Ti, pci bus id: 0000:2a:00.0, compute capability: 8.6\n",
      "\n",
      "validation quality metric 0.7552675198674431\n",
      "clearing\n"
     ]
    },
    {
     "name": "stderr",
     "output_type": "stream",
     "text": [
      "3it [05:43, 113.19s/it]"
     ]
    },
    {
     "name": "stdout",
     "output_type": "stream",
     "text": [
      "Device mapping:\n",
      "/job:localhost/replica:0/task:0/device:GPU:0 -> device: 0, name: NVIDIA GeForce RTX 3080 Ti, pci bus id: 0000:2a:00.0, compute capability: 8.6\n",
      "\n",
      "validation quality metric 0.7564371466785462\n",
      "clearing\n"
     ]
    },
    {
     "name": "stderr",
     "output_type": "stream",
     "text": [
      "4it [07:32, 111.34s/it]"
     ]
    },
    {
     "name": "stdout",
     "output_type": "stream",
     "text": [
      "Device mapping:\n",
      "/job:localhost/replica:0/task:0/device:GPU:0 -> device: 0, name: NVIDIA GeForce RTX 3080 Ti, pci bus id: 0000:2a:00.0, compute capability: 8.6\n",
      "\n",
      "validation quality metric 0.7569956528394153\n",
      "clearing\n"
     ]
    },
    {
     "name": "stderr",
     "output_type": "stream",
     "text": [
      "5it [09:32, 114.52s/it]\n"
     ]
    },
    {
     "name": "stdout",
     "output_type": "stream",
     "text": [
      "keras 0 [0.7580579493340109, 0.7553723127773462, 0.7552675198674431, 0.7564371466785462, 0.7569956528394153]  max  0.7580579493340109  min  0.7552675198674431  avg  0.7564261162993524\n",
      "starting lgbm\n"
     ]
    },
    {
     "name": "stderr",
     "output_type": "stream",
     "text": [
      "0it [00:00, ?it/s]"
     ]
    },
    {
     "name": "stdout",
     "output_type": "stream",
     "text": [
      "[LightGBM] [Warning] min_data_in_leaf is set=592, min_child_samples=20 will be ignored. Current value: min_data_in_leaf=592\n",
      "Training until validation scores don't improve for 399 rounds\n",
      "Early stopping, best iteration is:\n",
      "[2577]\tvalid_0's auc: 0.74436\n"
     ]
    },
    {
     "name": "stderr",
     "output_type": "stream",
     "text": [
      "1it [00:22, 22.01s/it]"
     ]
    },
    {
     "name": "stdout",
     "output_type": "stream",
     "text": [
      "validation quality metric 0.7443596929686536\n",
      "[LightGBM] [Warning] min_data_in_leaf is set=592, min_child_samples=20 will be ignored. Current value: min_data_in_leaf=592\n",
      "Training until validation scores don't improve for 399 rounds\n",
      "Early stopping, best iteration is:\n",
      "[2521]\tvalid_0's auc: 0.747936\n"
     ]
    },
    {
     "name": "stderr",
     "output_type": "stream",
     "text": [
      "2it [00:46, 23.52s/it]"
     ]
    },
    {
     "name": "stdout",
     "output_type": "stream",
     "text": [
      "validation quality metric 0.7479363322141317\n",
      "[LightGBM] [Warning] min_data_in_leaf is set=592, min_child_samples=20 will be ignored. Current value: min_data_in_leaf=592\n",
      "Training until validation scores don't improve for 399 rounds\n",
      "Early stopping, best iteration is:\n",
      "[3784]\tvalid_0's auc: 0.747736\n"
     ]
    },
    {
     "name": "stderr",
     "output_type": "stream",
     "text": [
      "3it [01:22, 29.04s/it]"
     ]
    },
    {
     "name": "stdout",
     "output_type": "stream",
     "text": [
      "validation quality metric 0.7477357135225149\n",
      "[LightGBM] [Warning] min_data_in_leaf is set=592, min_child_samples=20 will be ignored. Current value: min_data_in_leaf=592\n",
      "Training until validation scores don't improve for 399 rounds\n",
      "Early stopping, best iteration is:\n",
      "[2483]\tvalid_0's auc: 0.746354\n"
     ]
    },
    {
     "name": "stderr",
     "output_type": "stream",
     "text": [
      "4it [01:47, 27.59s/it]"
     ]
    },
    {
     "name": "stdout",
     "output_type": "stream",
     "text": [
      "validation quality metric 0.7463540062258196\n",
      "[LightGBM] [Warning] min_data_in_leaf is set=592, min_child_samples=20 will be ignored. Current value: min_data_in_leaf=592\n",
      "Training until validation scores don't improve for 399 rounds\n",
      "Early stopping, best iteration is:\n",
      "[2834]\tvalid_0's auc: 0.745804\n"
     ]
    },
    {
     "name": "stderr",
     "output_type": "stream",
     "text": [
      "5it [02:16, 27.25s/it]"
     ]
    },
    {
     "name": "stdout",
     "output_type": "stream",
     "text": [
      "validation quality metric 0.7458039271262078\n"
     ]
    },
    {
     "name": "stderr",
     "output_type": "stream",
     "text": [
      "\n"
     ]
    },
    {
     "name": "stdout",
     "output_type": "stream",
     "text": [
      "lgbm 1 [0.7443596929686536, 0.7479363322141317, 0.7477357135225149, 0.7463540062258196, 0.7458039271262078]  max  0.7479363322141317  min  0.7443596929686536  avg  0.7464379344114656\n",
      "starting xgboost\n"
     ]
    },
    {
     "name": "stderr",
     "output_type": "stream",
     "text": [
      "1it [00:37, 37.58s/it]"
     ]
    },
    {
     "name": "stdout",
     "output_type": "stream",
     "text": [
      "validation quality metric 0.7477136061635393\n"
     ]
    },
    {
     "name": "stderr",
     "output_type": "stream",
     "text": [
      "2it [01:18, 39.79s/it]"
     ]
    },
    {
     "name": "stdout",
     "output_type": "stream",
     "text": [
      "validation quality metric 0.7488975746289146\n"
     ]
    }
   ],
   "source": [
    "spl = 5\n",
    "out_of_fold_predictions = np.zeros((X.shape[0], len(model_types)))\n",
    "meta_features = np.zeros((test.shape[0], len(model_types)))\n",
    "y_pred = []\n",
    "for i, model_type in enumerate(model_types):\n",
    "    kf = StratifiedKFold(n_splits=spl, shuffle=True)\n",
    "    mse = []\n",
    "    print(\"starting \" + model_type[\"name\"])\n",
    "    meta_features_folds = np.zeros((test.shape[0], spl))\n",
    "    i_fold = 0\n",
    "    for train_idx, valid_idx in tqdm(kf.split(X,y.round())):\n",
    "        Xt = X.iloc[train_idx, :]\n",
    "        yt = y.iloc[train_idx]\n",
    "        Xv = X.iloc[valid_idx, :]\n",
    "        yv = y.iloc[valid_idx]\n",
    "        model = model_type['create']()\n",
    "        model_type['fit'](model, Xt, yt, Xv, yv)\n",
    "        y_pred = model.predict(Xv)\n",
    "        out_of_fold_predictions[valid_idx, i] = y_pred\n",
    "        valid_mse = roc_auc_score(y_true = yv, y_score = y_pred)\n",
    "        mse.append(valid_mse)\n",
    "        meta_features_folds[:, i_fold] = model.predict(test)\n",
    "        print(\"validation quality metric\", valid_mse)\n",
    "        i_fold += 1\n",
    "        if \"clear\" in model_type:\n",
    "            print(\"clearing\")\n",
    "            model_type[\"clear\"](model)\n",
    "        del model\n",
    "        gc.collect()\n",
    "    device = cuda.get_current_device()\n",
    "    device.reset()\n",
    "    meta_features[:, i] = meta_features_folds.mean(axis=1)\n",
    "    print(model_type[\"name\"], i, mse, \" max \", max(mse), \" min \", min(mse),\" avg \", sum(mse)/len(mse))"
   ]
  },
  {
   "cell_type": "code",
   "execution_count": null,
   "id": "7c7ff54b-5387-4324-b37b-81e981ce557b",
   "metadata": {},
   "outputs": [],
   "source": [
    "out_of_fold_predictions_file = \"./outoffoldpredictions.np\"\n",
    "meta_features_file = \"./meta_features.np\""
   ]
  },
  {
   "cell_type": "code",
   "execution_count": null,
   "id": "cadd6fd4-22fb-4439-b6e3-c00fb5dfe6aa",
   "metadata": {},
   "outputs": [],
   "source": [
    "np.save(out_of_fold_predictions_file, out_of_fold_predictions)\n",
    "np.save(meta_features_file, meta_features)"
   ]
  },
  {
   "cell_type": "code",
   "execution_count": null,
   "id": "0d5c254c-6526-46d6-9198-eadb00794d54",
   "metadata": {},
   "outputs": [],
   "source": [
    "meta_model = Ridge()"
   ]
  },
  {
   "cell_type": "code",
   "execution_count": null,
   "id": "d01db3ef-09d7-4d4d-8b78-fac58e853bae",
   "metadata": {},
   "outputs": [],
   "source": [
    "# Cross validate ridge\n",
    "spl = 5\n",
    "kf = StratifiedKFold(n_splits=spl, shuffle=True)\n",
    "test_pred_total = np.zeros(len(rawtest))\n",
    "mse = []\n",
    "for train_idx, valid_idx in tqdm(kf.split(out_of_fold_predictions,y.round())):\n",
    "        model = meta_model\n",
    "        Xt = out_of_fold_predictions[train_idx, :]\n",
    "        yt = y.iloc[train_idx]\n",
    "        Xv = out_of_fold_predictions[valid_idx, :]\n",
    "        yv = y.iloc[valid_idx]\n",
    "        model.fit(Xt, yt)\n",
    "        y_pred = model.predict(Xv)\n",
    "        valid_mse = roc_auc_score(y_true = y.iloc[valid_idx], y_score = y_pred)\n",
    "        print(\"valid mse \", valid_mse)\n",
    "        mse.append(valid_mse)\n",
    "        test_pred = model.predict(meta_features) / spl\n",
    "        test_pred_total += test_pred\n",
    "print(\"valid mse\", mse, \" min \", min(mse), \" max \", max(mse), \" avg \", sum(mse)/len(mse))"
   ]
  },
  {
   "cell_type": "code",
   "execution_count": null,
   "id": "090d78a8-1d76-4a9e-8f5a-163dac6b6be6",
   "metadata": {},
   "outputs": [],
   "source": [
    "# Save the predictions to a CSV file\n",
    "output = pd.DataFrame({'Id': rawtest.index,\n",
    "                       'target': test_pred_total})\n",
    "output.to_csv('submission.csv', index=False)"
   ]
  },
  {
   "cell_type": "code",
   "execution_count": null,
   "id": "de89bba3-ad9e-4cb1-b5e7-08254f12e56f",
   "metadata": {},
   "outputs": [],
   "source": []
  },
  {
   "cell_type": "code",
   "execution_count": null,
   "id": "0e8af79d-27be-4ac7-8020-8c3f0f7c09c3",
   "metadata": {},
   "outputs": [],
   "source": []
  },
  {
   "cell_type": "code",
   "execution_count": null,
   "id": "c3b42b52-0159-4a57-8bb3-4216b22f66ac",
   "metadata": {},
   "outputs": [],
   "source": []
  }
 ],
 "metadata": {
  "kernelspec": {
   "display_name": "Python 3 (ipykernel)",
   "language": "python",
   "name": "python3"
  },
  "language_info": {
   "codemirror_mode": {
    "name": "ipython",
    "version": 3
   },
   "file_extension": ".py",
   "mimetype": "text/x-python",
   "name": "python",
   "nbconvert_exporter": "python",
   "pygments_lexer": "ipython3",
   "version": "3.9.5"
  }
 },
 "nbformat": 4,
 "nbformat_minor": 5
}
